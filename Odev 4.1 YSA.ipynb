{
 "cells": [
  {
   "cell_type": "code",
   "execution_count": 9,
   "metadata": {
    "colab": {},
    "colab_type": "code",
    "id": "NC7TaAAiMBoV"
   },
   "outputs": [],
   "source": [
    "import numpy as np\n",
    "import pandas as pd \n",
    "from sklearn.model_selection import train_test_split, GridSearchCV,cross_val_score\n",
    "from sklearn.metrics import mean_squared_error, r2_score,confusion_matrix, accuracy_score\n",
    "import matplotlib.pyplot as plt\n",
    "from sklearn.preprocessing import scale \n",
    "from sklearn import model_selection\n",
    "\n",
    "from warnings import filterwarnings\n",
    "filterwarnings('ignore')"
   ]
  },
  {
   "cell_type": "code",
   "execution_count": 10,
   "metadata": {
    "colab": {},
    "colab_type": "code",
    "id": "9eHrqX97MBt2"
   },
   "outputs": [],
   "source": [
    "df = pd.read_csv(r\"C:\\Users\\LENOVO\\Desktop\\KodluyoruzBootcamp\\Ödevler Ve Çalışmalar\\hmelq.csv\")"
   ]
  },
  {
   "cell_type": "code",
   "execution_count": 11,
   "metadata": {
    "colab": {},
    "colab_type": "code",
    "id": "vrJLY0owTcI5"
   },
   "outputs": [],
   "source": [
    "import Classes1 as cl"
   ]
  },
  {
   "cell_type": "code",
   "execution_count": 12,
   "metadata": {
    "colab": {
     "base_uri": "https://localhost:8080/",
     "height": 197
    },
    "colab_type": "code",
    "id": "1DvGskDGOYoK",
    "outputId": "8fb3125a-9792-47da-af55-1199a87b32c4"
   },
   "outputs": [
    {
     "data": {
      "text/html": [
       "<div>\n",
       "<style scoped>\n",
       "    .dataframe tbody tr th:only-of-type {\n",
       "        vertical-align: middle;\n",
       "    }\n",
       "\n",
       "    .dataframe tbody tr th {\n",
       "        vertical-align: top;\n",
       "    }\n",
       "\n",
       "    .dataframe thead th {\n",
       "        text-align: right;\n",
       "    }\n",
       "</style>\n",
       "<table border=\"1\" class=\"dataframe\">\n",
       "  <thead>\n",
       "    <tr style=\"text-align: right;\">\n",
       "      <th></th>\n",
       "      <th>bad</th>\n",
       "      <th>loan</th>\n",
       "      <th>mortdue</th>\n",
       "      <th>value</th>\n",
       "      <th>reason</th>\n",
       "      <th>job</th>\n",
       "      <th>yoj</th>\n",
       "      <th>derog</th>\n",
       "      <th>delinq</th>\n",
       "      <th>clage</th>\n",
       "      <th>ninq</th>\n",
       "      <th>clno</th>\n",
       "      <th>debtinc</th>\n",
       "    </tr>\n",
       "  </thead>\n",
       "  <tbody>\n",
       "    <tr>\n",
       "      <th>0</th>\n",
       "      <td>0</td>\n",
       "      <td>81200</td>\n",
       "      <td>18834.0</td>\n",
       "      <td>108355.0</td>\n",
       "      <td>HomeImp</td>\n",
       "      <td>NaN</td>\n",
       "      <td>28.0</td>\n",
       "      <td>0.0</td>\n",
       "      <td>0.0</td>\n",
       "      <td>139.14</td>\n",
       "      <td>0.0</td>\n",
       "      <td>14.0</td>\n",
       "      <td>34.042</td>\n",
       "    </tr>\n",
       "    <tr>\n",
       "      <th>1</th>\n",
       "      <td>0</td>\n",
       "      <td>12600</td>\n",
       "      <td>103960.0</td>\n",
       "      <td>127384.0</td>\n",
       "      <td>DebtCon</td>\n",
       "      <td>NaN</td>\n",
       "      <td>2.0</td>\n",
       "      <td>0.0</td>\n",
       "      <td>0.0</td>\n",
       "      <td>129.02</td>\n",
       "      <td>0.0</td>\n",
       "      <td>25.0</td>\n",
       "      <td>34.479</td>\n",
       "    </tr>\n",
       "    <tr>\n",
       "      <th>2</th>\n",
       "      <td>0</td>\n",
       "      <td>18000</td>\n",
       "      <td>46865.0</td>\n",
       "      <td>61266.0</td>\n",
       "      <td>DebtCon</td>\n",
       "      <td>NaN</td>\n",
       "      <td>5.0</td>\n",
       "      <td>0.0</td>\n",
       "      <td>0.0</td>\n",
       "      <td>102.59</td>\n",
       "      <td>2.0</td>\n",
       "      <td>9.0</td>\n",
       "      <td>26.354</td>\n",
       "    </tr>\n",
       "    <tr>\n",
       "      <th>3</th>\n",
       "      <td>0</td>\n",
       "      <td>10300</td>\n",
       "      <td>57676.0</td>\n",
       "      <td>71027.0</td>\n",
       "      <td>DebtCon</td>\n",
       "      <td>NaN</td>\n",
       "      <td>19.0</td>\n",
       "      <td>0.0</td>\n",
       "      <td>0.0</td>\n",
       "      <td>157.52</td>\n",
       "      <td>1.0</td>\n",
       "      <td>11.0</td>\n",
       "      <td>33.992</td>\n",
       "    </tr>\n",
       "    <tr>\n",
       "      <th>4</th>\n",
       "      <td>0</td>\n",
       "      <td>9400</td>\n",
       "      <td>56508.0</td>\n",
       "      <td>78358.0</td>\n",
       "      <td>DebtCon</td>\n",
       "      <td>NaN</td>\n",
       "      <td>17.0</td>\n",
       "      <td>0.0</td>\n",
       "      <td>0.0</td>\n",
       "      <td>141.93</td>\n",
       "      <td>0.0</td>\n",
       "      <td>11.0</td>\n",
       "      <td>32.327</td>\n",
       "    </tr>\n",
       "  </tbody>\n",
       "</table>\n",
       "</div>"
      ],
      "text/plain": [
       "   bad   loan   mortdue     value   reason  job   yoj  derog  delinq   clage  \\\n",
       "0    0  81200   18834.0  108355.0  HomeImp  NaN  28.0    0.0     0.0  139.14   \n",
       "1    0  12600  103960.0  127384.0  DebtCon  NaN   2.0    0.0     0.0  129.02   \n",
       "2    0  18000   46865.0   61266.0  DebtCon  NaN   5.0    0.0     0.0  102.59   \n",
       "3    0  10300   57676.0   71027.0  DebtCon  NaN  19.0    0.0     0.0  157.52   \n",
       "4    0   9400   56508.0   78358.0  DebtCon  NaN  17.0    0.0     0.0  141.93   \n",
       "\n",
       "   ninq  clno  debtinc  \n",
       "0   0.0  14.0   34.042  \n",
       "1   0.0  25.0   34.479  \n",
       "2   2.0   9.0   26.354  \n",
       "3   1.0  11.0   33.992  \n",
       "4   0.0  11.0   32.327  "
      ]
     },
     "execution_count": 12,
     "metadata": {},
     "output_type": "execute_result"
    }
   ],
   "source": [
    "\n",
    "df.head()"
   ]
  },
  {
   "cell_type": "code",
   "execution_count": 13,
   "metadata": {
    "colab": {
     "base_uri": "https://localhost:8080/",
     "height": 377
    },
    "colab_type": "code",
    "id": "Nm4I9e5wOYl9",
    "outputId": "3df27458-d880-40a6-a80d-d2c1b4057bd6"
   },
   "outputs": [
    {
     "data": {
      "text/html": [
       "<div>\n",
       "<style scoped>\n",
       "    .dataframe tbody tr th:only-of-type {\n",
       "        vertical-align: middle;\n",
       "    }\n",
       "\n",
       "    .dataframe tbody tr th {\n",
       "        vertical-align: top;\n",
       "    }\n",
       "\n",
       "    .dataframe thead th {\n",
       "        text-align: right;\n",
       "    }\n",
       "</style>\n",
       "<table border=\"1\" class=\"dataframe\">\n",
       "  <thead>\n",
       "    <tr style=\"text-align: right;\">\n",
       "      <th></th>\n",
       "      <th>count</th>\n",
       "      <th>mean</th>\n",
       "      <th>std</th>\n",
       "      <th>min</th>\n",
       "      <th>25%</th>\n",
       "      <th>50%</th>\n",
       "      <th>75%</th>\n",
       "      <th>max</th>\n",
       "    </tr>\n",
       "  </thead>\n",
       "  <tbody>\n",
       "    <tr>\n",
       "      <th>bad</th>\n",
       "      <td>3576.0</td>\n",
       "      <td>0.199385</td>\n",
       "      <td>0.399594</td>\n",
       "      <td>0.00</td>\n",
       "      <td>0.00</td>\n",
       "      <td>0.000</td>\n",
       "      <td>0.00</td>\n",
       "      <td>1.000</td>\n",
       "    </tr>\n",
       "    <tr>\n",
       "      <th>loan</th>\n",
       "      <td>3576.0</td>\n",
       "      <td>18529.697987</td>\n",
       "      <td>11262.834060</td>\n",
       "      <td>1100.00</td>\n",
       "      <td>11000.00</td>\n",
       "      <td>16200.000</td>\n",
       "      <td>23100.00</td>\n",
       "      <td>89900.000</td>\n",
       "    </tr>\n",
       "    <tr>\n",
       "      <th>mortdue</th>\n",
       "      <td>3262.0</td>\n",
       "      <td>74013.907992</td>\n",
       "      <td>44016.833772</td>\n",
       "      <td>2619.00</td>\n",
       "      <td>46700.25</td>\n",
       "      <td>65858.000</td>\n",
       "      <td>91717.00</td>\n",
       "      <td>399550.000</td>\n",
       "    </tr>\n",
       "    <tr>\n",
       "      <th>value</th>\n",
       "      <td>3512.0</td>\n",
       "      <td>101076.922759</td>\n",
       "      <td>54865.275351</td>\n",
       "      <td>8800.00</td>\n",
       "      <td>65753.00</td>\n",
       "      <td>89183.000</td>\n",
       "      <td>118928.25</td>\n",
       "      <td>850000.000</td>\n",
       "    </tr>\n",
       "    <tr>\n",
       "      <th>yoj</th>\n",
       "      <td>3264.0</td>\n",
       "      <td>8.832644</td>\n",
       "      <td>7.568046</td>\n",
       "      <td>0.00</td>\n",
       "      <td>3.00</td>\n",
       "      <td>7.000</td>\n",
       "      <td>13.00</td>\n",
       "      <td>41.000</td>\n",
       "    </tr>\n",
       "    <tr>\n",
       "      <th>derog</th>\n",
       "      <td>3149.0</td>\n",
       "      <td>0.261670</td>\n",
       "      <td>0.865178</td>\n",
       "      <td>0.00</td>\n",
       "      <td>0.00</td>\n",
       "      <td>0.000</td>\n",
       "      <td>0.00</td>\n",
       "      <td>10.000</td>\n",
       "    </tr>\n",
       "    <tr>\n",
       "      <th>delinq</th>\n",
       "      <td>3225.0</td>\n",
       "      <td>0.432558</td>\n",
       "      <td>1.099230</td>\n",
       "      <td>0.00</td>\n",
       "      <td>0.00</td>\n",
       "      <td>0.000</td>\n",
       "      <td>0.00</td>\n",
       "      <td>15.000</td>\n",
       "    </tr>\n",
       "    <tr>\n",
       "      <th>clage</th>\n",
       "      <td>3397.0</td>\n",
       "      <td>179.832529</td>\n",
       "      <td>87.066198</td>\n",
       "      <td>0.49</td>\n",
       "      <td>115.60</td>\n",
       "      <td>173.640</td>\n",
       "      <td>230.71</td>\n",
       "      <td>1168.230</td>\n",
       "    </tr>\n",
       "    <tr>\n",
       "      <th>ninq</th>\n",
       "      <td>3273.0</td>\n",
       "      <td>1.186373</td>\n",
       "      <td>1.728723</td>\n",
       "      <td>0.00</td>\n",
       "      <td>0.00</td>\n",
       "      <td>1.000</td>\n",
       "      <td>2.00</td>\n",
       "      <td>17.000</td>\n",
       "    </tr>\n",
       "    <tr>\n",
       "      <th>clno</th>\n",
       "      <td>3443.0</td>\n",
       "      <td>21.507116</td>\n",
       "      <td>10.167490</td>\n",
       "      <td>0.00</td>\n",
       "      <td>15.00</td>\n",
       "      <td>20.000</td>\n",
       "      <td>26.00</td>\n",
       "      <td>71.000</td>\n",
       "    </tr>\n",
       "    <tr>\n",
       "      <th>debtinc</th>\n",
       "      <td>2809.0</td>\n",
       "      <td>33.831737</td>\n",
       "      <td>9.061837</td>\n",
       "      <td>0.72</td>\n",
       "      <td>29.14</td>\n",
       "      <td>34.747</td>\n",
       "      <td>38.94</td>\n",
       "      <td>203.312</td>\n",
       "    </tr>\n",
       "  </tbody>\n",
       "</table>\n",
       "</div>"
      ],
      "text/plain": [
       "          count           mean           std      min       25%        50%  \\\n",
       "bad      3576.0       0.199385      0.399594     0.00      0.00      0.000   \n",
       "loan     3576.0   18529.697987  11262.834060  1100.00  11000.00  16200.000   \n",
       "mortdue  3262.0   74013.907992  44016.833772  2619.00  46700.25  65858.000   \n",
       "value    3512.0  101076.922759  54865.275351  8800.00  65753.00  89183.000   \n",
       "yoj      3264.0       8.832644      7.568046     0.00      3.00      7.000   \n",
       "derog    3149.0       0.261670      0.865178     0.00      0.00      0.000   \n",
       "delinq   3225.0       0.432558      1.099230     0.00      0.00      0.000   \n",
       "clage    3397.0     179.832529     87.066198     0.49    115.60    173.640   \n",
       "ninq     3273.0       1.186373      1.728723     0.00      0.00      1.000   \n",
       "clno     3443.0      21.507116     10.167490     0.00     15.00     20.000   \n",
       "debtinc  2809.0      33.831737      9.061837     0.72     29.14     34.747   \n",
       "\n",
       "               75%         max  \n",
       "bad           0.00       1.000  \n",
       "loan      23100.00   89900.000  \n",
       "mortdue   91717.00  399550.000  \n",
       "value    118928.25  850000.000  \n",
       "yoj          13.00      41.000  \n",
       "derog         0.00      10.000  \n",
       "delinq        0.00      15.000  \n",
       "clage       230.71    1168.230  \n",
       "ninq          2.00      17.000  \n",
       "clno         26.00      71.000  \n",
       "debtinc      38.94     203.312  "
      ]
     },
     "execution_count": 13,
     "metadata": {},
     "output_type": "execute_result"
    }
   ],
   "source": [
    "df.describe().T"
   ]
  },
  {
   "cell_type": "code",
   "execution_count": 14,
   "metadata": {
    "colab": {
     "base_uri": "https://localhost:8080/",
     "height": 265
    },
    "colab_type": "code",
    "id": "PktImd4bOYjp",
    "outputId": "8fd08e43-2823-4856-fb66-30c67c78290b"
   },
   "outputs": [
    {
     "data": {
      "text/plain": [
       "bad          0\n",
       "loan         0\n",
       "mortdue    314\n",
       "value       64\n",
       "reason     147\n",
       "job        167\n",
       "yoj        312\n",
       "derog      427\n",
       "delinq     351\n",
       "clage      179\n",
       "ninq       303\n",
       "clno       133\n",
       "debtinc    767\n",
       "dtype: int64"
      ]
     },
     "execution_count": 14,
     "metadata": {},
     "output_type": "execute_result"
    }
   ],
   "source": [
    "df.isnull().sum()"
   ]
  },
  {
   "cell_type": "code",
   "execution_count": 15,
   "metadata": {
    "colab": {},
    "colab_type": "code",
    "id": "a1K3jXWoQGSM"
   },
   "outputs": [],
   "source": [
    "df.dropna(inplace=True)"
   ]
  },
  {
   "cell_type": "code",
   "execution_count": 16,
   "metadata": {
    "colab": {
     "base_uri": "https://localhost:8080/",
     "height": 377
    },
    "colab_type": "code",
    "id": "Je1QC6YuQNQX",
    "outputId": "c6a491ec-d5d9-4e39-bcae-7e809dcddc72"
   },
   "outputs": [
    {
     "data": {
      "text/html": [
       "<div>\n",
       "<style scoped>\n",
       "    .dataframe tbody tr th:only-of-type {\n",
       "        vertical-align: middle;\n",
       "    }\n",
       "\n",
       "    .dataframe tbody tr th {\n",
       "        vertical-align: top;\n",
       "    }\n",
       "\n",
       "    .dataframe thead th {\n",
       "        text-align: right;\n",
       "    }\n",
       "</style>\n",
       "<table border=\"1\" class=\"dataframe\">\n",
       "  <thead>\n",
       "    <tr style=\"text-align: right;\">\n",
       "      <th></th>\n",
       "      <th>count</th>\n",
       "      <th>mean</th>\n",
       "      <th>std</th>\n",
       "      <th>min</th>\n",
       "      <th>25%</th>\n",
       "      <th>50%</th>\n",
       "      <th>75%</th>\n",
       "      <th>max</th>\n",
       "    </tr>\n",
       "  </thead>\n",
       "  <tbody>\n",
       "    <tr>\n",
       "      <th>bad</th>\n",
       "      <td>2018.0</td>\n",
       "      <td>0.088206</td>\n",
       "      <td>0.283665</td>\n",
       "      <td>0.00</td>\n",
       "      <td>0.0000</td>\n",
       "      <td>0.000</td>\n",
       "      <td>0.0000</td>\n",
       "      <td>1.000</td>\n",
       "    </tr>\n",
       "    <tr>\n",
       "      <th>loan</th>\n",
       "      <td>2018.0</td>\n",
       "      <td>19010.257681</td>\n",
       "      <td>10768.607345</td>\n",
       "      <td>1700.00</td>\n",
       "      <td>12000.0000</td>\n",
       "      <td>16900.000</td>\n",
       "      <td>23600.0000</td>\n",
       "      <td>89900.000</td>\n",
       "    </tr>\n",
       "    <tr>\n",
       "      <th>mortdue</th>\n",
       "      <td>2018.0</td>\n",
       "      <td>76337.035183</td>\n",
       "      <td>44476.368189</td>\n",
       "      <td>5076.00</td>\n",
       "      <td>49577.2500</td>\n",
       "      <td>67595.000</td>\n",
       "      <td>92922.7500</td>\n",
       "      <td>399412.000</td>\n",
       "    </tr>\n",
       "    <tr>\n",
       "      <th>value</th>\n",
       "      <td>2018.0</td>\n",
       "      <td>106899.244797</td>\n",
       "      <td>54026.707096</td>\n",
       "      <td>23031.00</td>\n",
       "      <td>71287.2500</td>\n",
       "      <td>94514.000</td>\n",
       "      <td>121220.7500</td>\n",
       "      <td>512650.000</td>\n",
       "    </tr>\n",
       "    <tr>\n",
       "      <th>yoj</th>\n",
       "      <td>2018.0</td>\n",
       "      <td>9.003964</td>\n",
       "      <td>7.573012</td>\n",
       "      <td>0.00</td>\n",
       "      <td>3.0000</td>\n",
       "      <td>7.000</td>\n",
       "      <td>13.0000</td>\n",
       "      <td>41.000</td>\n",
       "    </tr>\n",
       "    <tr>\n",
       "      <th>derog</th>\n",
       "      <td>2018.0</td>\n",
       "      <td>0.150149</td>\n",
       "      <td>0.580421</td>\n",
       "      <td>0.00</td>\n",
       "      <td>0.0000</td>\n",
       "      <td>0.000</td>\n",
       "      <td>0.0000</td>\n",
       "      <td>10.000</td>\n",
       "    </tr>\n",
       "    <tr>\n",
       "      <th>delinq</th>\n",
       "      <td>2018.0</td>\n",
       "      <td>0.264123</td>\n",
       "      <td>0.789816</td>\n",
       "      <td>0.00</td>\n",
       "      <td>0.0000</td>\n",
       "      <td>0.000</td>\n",
       "      <td>0.0000</td>\n",
       "      <td>10.000</td>\n",
       "    </tr>\n",
       "    <tr>\n",
       "      <th>clage</th>\n",
       "      <td>2018.0</td>\n",
       "      <td>180.645020</td>\n",
       "      <td>84.420116</td>\n",
       "      <td>0.49</td>\n",
       "      <td>118.2050</td>\n",
       "      <td>176.670</td>\n",
       "      <td>229.6925</td>\n",
       "      <td>1168.230</td>\n",
       "    </tr>\n",
       "    <tr>\n",
       "      <th>ninq</th>\n",
       "      <td>2018.0</td>\n",
       "      <td>1.037661</td>\n",
       "      <td>1.578414</td>\n",
       "      <td>0.00</td>\n",
       "      <td>0.0000</td>\n",
       "      <td>0.000</td>\n",
       "      <td>2.0000</td>\n",
       "      <td>13.000</td>\n",
       "    </tr>\n",
       "    <tr>\n",
       "      <th>clno</th>\n",
       "      <td>2018.0</td>\n",
       "      <td>22.265114</td>\n",
       "      <td>9.457238</td>\n",
       "      <td>0.00</td>\n",
       "      <td>16.0000</td>\n",
       "      <td>21.000</td>\n",
       "      <td>27.0000</td>\n",
       "      <td>64.000</td>\n",
       "    </tr>\n",
       "    <tr>\n",
       "      <th>debtinc</th>\n",
       "      <td>2018.0</td>\n",
       "      <td>34.105829</td>\n",
       "      <td>8.438411</td>\n",
       "      <td>4.03</td>\n",
       "      <td>29.2955</td>\n",
       "      <td>34.949</td>\n",
       "      <td>38.9520</td>\n",
       "      <td>144.189</td>\n",
       "    </tr>\n",
       "  </tbody>\n",
       "</table>\n",
       "</div>"
      ],
      "text/plain": [
       "          count           mean           std       min         25%        50%  \\\n",
       "bad      2018.0       0.088206      0.283665      0.00      0.0000      0.000   \n",
       "loan     2018.0   19010.257681  10768.607345   1700.00  12000.0000  16900.000   \n",
       "mortdue  2018.0   76337.035183  44476.368189   5076.00  49577.2500  67595.000   \n",
       "value    2018.0  106899.244797  54026.707096  23031.00  71287.2500  94514.000   \n",
       "yoj      2018.0       9.003964      7.573012      0.00      3.0000      7.000   \n",
       "derog    2018.0       0.150149      0.580421      0.00      0.0000      0.000   \n",
       "delinq   2018.0       0.264123      0.789816      0.00      0.0000      0.000   \n",
       "clage    2018.0     180.645020     84.420116      0.49    118.2050    176.670   \n",
       "ninq     2018.0       1.037661      1.578414      0.00      0.0000      0.000   \n",
       "clno     2018.0      22.265114      9.457238      0.00     16.0000     21.000   \n",
       "debtinc  2018.0      34.105829      8.438411      4.03     29.2955     34.949   \n",
       "\n",
       "                 75%         max  \n",
       "bad           0.0000       1.000  \n",
       "loan      23600.0000   89900.000  \n",
       "mortdue   92922.7500  399412.000  \n",
       "value    121220.7500  512650.000  \n",
       "yoj          13.0000      41.000  \n",
       "derog         0.0000      10.000  \n",
       "delinq        0.0000      10.000  \n",
       "clage       229.6925    1168.230  \n",
       "ninq          2.0000      13.000  \n",
       "clno         27.0000      64.000  \n",
       "debtinc      38.9520     144.189  "
      ]
     },
     "execution_count": 16,
     "metadata": {},
     "output_type": "execute_result"
    }
   ],
   "source": [
    "df.describe().T"
   ]
  },
  {
   "cell_type": "code",
   "execution_count": 17,
   "metadata": {
    "colab": {
     "base_uri": "https://localhost:8080/",
     "height": 372
    },
    "colab_type": "code",
    "id": "c9w3KyswUMFU",
    "outputId": "fe9b754a-7407-451e-f938-38466b9a209c"
   },
   "outputs": [
    {
     "name": "stdout",
     "output_type": "stream",
     "text": [
      "<class 'pandas.core.frame.DataFrame'>\n",
      "Int64Index: 2018 entries, 153 to 3549\n",
      "Data columns (total 13 columns):\n",
      " #   Column   Non-Null Count  Dtype  \n",
      "---  ------   --------------  -----  \n",
      " 0   bad      2018 non-null   int64  \n",
      " 1   loan     2018 non-null   int64  \n",
      " 2   mortdue  2018 non-null   float64\n",
      " 3   value    2018 non-null   float64\n",
      " 4   reason   2018 non-null   object \n",
      " 5   job      2018 non-null   object \n",
      " 6   yoj      2018 non-null   float64\n",
      " 7   derog    2018 non-null   float64\n",
      " 8   delinq   2018 non-null   float64\n",
      " 9   clage    2018 non-null   float64\n",
      " 10  ninq     2018 non-null   float64\n",
      " 11  clno     2018 non-null   float64\n",
      " 12  debtinc  2018 non-null   float64\n",
      "dtypes: float64(9), int64(2), object(2)\n",
      "memory usage: 220.7+ KB\n"
     ]
    }
   ],
   "source": [
    "df.info()"
   ]
  },
  {
   "cell_type": "code",
   "execution_count": 18,
   "metadata": {
    "colab": {},
    "colab_type": "code",
    "id": "FKfW9MLDUmMH"
   },
   "outputs": [],
   "source": [
    "from sklearn.preprocessing import LabelEncoder\n",
    "\n",
    "df.dropna(inplace=True)\n",
    "\n",
    "lbe = LabelEncoder()\n",
    "df[\"reason\"] = lbe.fit_transform(df[\"reason\"])\n",
    "df = pd.get_dummies(df,columns= [\"job\"], prefix= [\"job\"])"
   ]
  },
  {
   "cell_type": "code",
   "execution_count": 19,
   "metadata": {
    "colab": {
     "base_uri": "https://localhost:8080/",
     "height": 107
    },
    "colab_type": "code",
    "id": "MWZRZqOyUrtB",
    "outputId": "4212ffd8-a1e7-4b47-d001-a988bfa7a06e"
   },
   "outputs": [
    {
     "data": {
      "text/html": [
       "<div>\n",
       "<style scoped>\n",
       "    .dataframe tbody tr th:only-of-type {\n",
       "        vertical-align: middle;\n",
       "    }\n",
       "\n",
       "    .dataframe tbody tr th {\n",
       "        vertical-align: top;\n",
       "    }\n",
       "\n",
       "    .dataframe thead th {\n",
       "        text-align: right;\n",
       "    }\n",
       "</style>\n",
       "<table border=\"1\" class=\"dataframe\">\n",
       "  <thead>\n",
       "    <tr style=\"text-align: right;\">\n",
       "      <th></th>\n",
       "      <th>bad</th>\n",
       "      <th>loan</th>\n",
       "      <th>mortdue</th>\n",
       "      <th>value</th>\n",
       "      <th>reason</th>\n",
       "      <th>yoj</th>\n",
       "      <th>derog</th>\n",
       "      <th>delinq</th>\n",
       "      <th>clage</th>\n",
       "      <th>ninq</th>\n",
       "      <th>clno</th>\n",
       "      <th>debtinc</th>\n",
       "      <th>job_Mgr</th>\n",
       "      <th>job_Office</th>\n",
       "      <th>job_Other</th>\n",
       "      <th>job_ProfEx</th>\n",
       "      <th>job_Sales</th>\n",
       "      <th>job_Self</th>\n",
       "    </tr>\n",
       "  </thead>\n",
       "  <tbody>\n",
       "    <tr>\n",
       "      <th>153</th>\n",
       "      <td>0</td>\n",
       "      <td>18200</td>\n",
       "      <td>94727.0</td>\n",
       "      <td>136877.0</td>\n",
       "      <td>0</td>\n",
       "      <td>15.0</td>\n",
       "      <td>0.0</td>\n",
       "      <td>0.0</td>\n",
       "      <td>168.96</td>\n",
       "      <td>2.0</td>\n",
       "      <td>26.0</td>\n",
       "      <td>36.056</td>\n",
       "      <td>1</td>\n",
       "      <td>0</td>\n",
       "      <td>0</td>\n",
       "      <td>0</td>\n",
       "      <td>0</td>\n",
       "      <td>0</td>\n",
       "    </tr>\n",
       "    <tr>\n",
       "      <th>154</th>\n",
       "      <td>0</td>\n",
       "      <td>21700</td>\n",
       "      <td>79240.0</td>\n",
       "      <td>96784.0</td>\n",
       "      <td>0</td>\n",
       "      <td>5.0</td>\n",
       "      <td>0.0</td>\n",
       "      <td>0.0</td>\n",
       "      <td>64.51</td>\n",
       "      <td>6.0</td>\n",
       "      <td>24.0</td>\n",
       "      <td>38.079</td>\n",
       "      <td>1</td>\n",
       "      <td>0</td>\n",
       "      <td>0</td>\n",
       "      <td>0</td>\n",
       "      <td>0</td>\n",
       "      <td>0</td>\n",
       "    </tr>\n",
       "  </tbody>\n",
       "</table>\n",
       "</div>"
      ],
      "text/plain": [
       "     bad   loan  mortdue     value  reason   yoj  derog  delinq   clage  ninq  \\\n",
       "153    0  18200  94727.0  136877.0       0  15.0    0.0     0.0  168.96   2.0   \n",
       "154    0  21700  79240.0   96784.0       0   5.0    0.0     0.0   64.51   6.0   \n",
       "\n",
       "     clno  debtinc  job_Mgr  job_Office  job_Other  job_ProfEx  job_Sales  \\\n",
       "153  26.0   36.056        1           0          0           0          0   \n",
       "154  24.0   38.079        1           0          0           0          0   \n",
       "\n",
       "     job_Self  \n",
       "153         0  \n",
       "154         0  "
      ]
     },
     "execution_count": 19,
     "metadata": {},
     "output_type": "execute_result"
    }
   ],
   "source": [
    "df.head(2)"
   ]
  },
  {
   "cell_type": "code",
   "execution_count": 20,
   "metadata": {
    "colab": {},
    "colab_type": "code",
    "id": "ImaUINvrUENT"
   },
   "outputs": [],
   "source": [
    "y = df[\"bad\"]\n",
    "X = df.drop(labels=[\"bad\"],axis=1)\n",
    "\n",
    "\n",
    "X_train, X_test, y_train, y_test = train_test_split(X,y,\n",
    "                                                    random_state = 42,\n",
    "                                                    test_size = 0.25)"
   ]
  },
  {
   "cell_type": "code",
   "execution_count": null,
   "metadata": {
    "colab": {
     "base_uri": "https://localhost:8080/",
     "height": 301
    },
    "colab_type": "code",
    "id": "KjrHHHDTUELW",
    "outputId": "972e4cdc-bea7-4e94-8f1a-29410d7c9f56"
   },
   "outputs": [
    {
     "name": "stdout",
     "output_type": "stream",
     "text": [
      "Fitting 10 folds for each of 48 candidates, totalling 480 fits\n"
     ]
    },
    {
     "name": "stderr",
     "output_type": "stream",
     "text": [
      "[Parallel(n_jobs=-1)]: Using backend LokyBackend with 2 concurrent workers.\n",
      "[Parallel(n_jobs=-1)]: Done  37 tasks      | elapsed:   54.2s\n",
      "[Parallel(n_jobs=-1)]: Done 158 tasks      | elapsed:  5.9min\n",
      "[Parallel(n_jobs=-1)]: Done 480 out of 480 | elapsed:  9.3min finished\n"
     ]
    },
    {
     "name": "stdout",
     "output_type": "stream",
     "text": [
      "Tune Edilmemis Tahmin sonuclari Accuracy degeri:  0.9465346534653465\n",
      "-------------------------------\n",
      "Tune Edilmemis Confusion matrix sonuc: \n",
      " [[457   9]\n",
      " [ 18  21]]\n",
      "****************************************************\n",
      "Tune sonrasi Tahmin sonuclari RMSE degeri: 0.9663366336633663\n",
      "-------------------------------\n",
      "Tune sonrasi Confusion matrix sonuc: \n",
      " [[460   6]\n",
      " [ 11  28]]\n"
     ]
    }
   ],
   "source": [
    "YSA = cl.Methods()\n",
    "\n",
    "YSA.YsaClassifier(X_train,y_train,X_test,y_test)"
   ]
  },
  {
   "cell_type": "code",
   "execution_count": 22,
   "metadata": {
    "colab": {
     "base_uri": "https://localhost:8080/",
     "height": 265
    },
    "colab_type": "code",
    "id": "RZkMTOj9UEIx",
    "outputId": "5de91ea3-9a73-459c-84fb-55192075eee9"
   },
   "outputs": [
    {
     "data": {
      "text/plain": [
       "0.0     1014\n",
       "1.0      480\n",
       "2.0      278\n",
       "3.0      140\n",
       "4.0       40\n",
       "5.0       15\n",
       "6.0       14\n",
       "7.0       11\n",
       "10.0      10\n",
       "8.0        8\n",
       "9.0        6\n",
       "13.0       1\n",
       "11.0       1\n",
       "Name: ninq, dtype: int64"
      ]
     },
     "execution_count": 22,
     "metadata": {},
     "output_type": "execute_result"
    }
   ],
   "source": [
    "df[\"ninq\"].value_counts()"
   ]
  },
  {
   "cell_type": "code",
   "execution_count": 23,
   "metadata": {
    "colab": {},
    "colab_type": "code",
    "id": "yXMAaymvUEFv"
   },
   "outputs": [],
   "source": [
    "a = df[\"ninq\"] == 0\n",
    "df[\"ninq\"][a] = \"a\"\n",
    "\n",
    "a = df[\"ninq\"] == 1\n",
    "df[\"ninq\"][a] = \"b\"\n",
    "a = df[\"ninq\"] == 2\n",
    "df[\"ninq\"][a] = \"b\"\n",
    "a = df[\"ninq\"] == 3\n",
    "df[\"ninq\"][a] = \"b\"\n",
    "\n",
    "a = df[\"ninq\"] == 4\n",
    "df[\"ninq\"][a] = \"c\"\n",
    "a = df[\"ninq\"] == 5\n",
    "df[\"ninq\"][a] = \"c\"\n",
    "a = df[\"ninq\"] == 6\n",
    "df[\"ninq\"][a] = \"c\"\n",
    "\n",
    "a = df[\"ninq\"] == 7\n",
    "df[\"ninq\"][a] = \"d\"\n",
    "a = df[\"ninq\"] == 8\n",
    "df[\"ninq\"][a] = \"d\"\n",
    "a = df[\"ninq\"] == 9\n",
    "df[\"ninq\"][a] = \"d\"\n",
    "\n",
    "a = df[\"ninq\"] == 10\n",
    "df[\"ninq\"][a] = \"e\"\n",
    "a = df[\"ninq\"] == 11\n",
    "df[\"ninq\"][a] = \"e\"\n",
    "a = df[\"ninq\"] == 12\n",
    "df[\"ninq\"][a] = \"e\"\n",
    "a = df[\"ninq\"] == 13\n",
    "df[\"ninq\"][a] = \"e\""
   ]
  },
  {
   "cell_type": "code",
   "execution_count": 24,
   "metadata": {
    "colab": {
     "base_uri": "https://localhost:8080/",
     "height": 123
    },
    "colab_type": "code",
    "id": "o_V26ByPZSTp",
    "outputId": "44e1837d-46ec-40e2-cb71-59fd65360e6b"
   },
   "outputs": [
    {
     "data": {
      "text/plain": [
       "a    1014\n",
       "b     898\n",
       "c      69\n",
       "d      25\n",
       "e      12\n",
       "Name: ninq, dtype: int64"
      ]
     },
     "execution_count": 24,
     "metadata": {},
     "output_type": "execute_result"
    }
   ],
   "source": [
    "df[\"ninq\"].value_counts()"
   ]
  },
  {
   "cell_type": "code",
   "execution_count": 25,
   "metadata": {
    "colab": {},
    "colab_type": "code",
    "id": "iEdmzxZ8ZSQy"
   },
   "outputs": [],
   "source": [
    "df = pd.get_dummies(df,columns= [\"ninq\"], prefix= [\"ninq\"])"
   ]
  },
  {
   "cell_type": "code",
   "execution_count": 26,
   "metadata": {
    "colab": {
     "base_uri": "https://localhost:8080/",
     "height": 127
    },
    "colab_type": "code",
    "id": "2RkMKngvZj6F",
    "outputId": "c06dcb30-cf66-4b2c-e216-e2120cc0b66d"
   },
   "outputs": [
    {
     "data": {
      "text/html": [
       "<div>\n",
       "<style scoped>\n",
       "    .dataframe tbody tr th:only-of-type {\n",
       "        vertical-align: middle;\n",
       "    }\n",
       "\n",
       "    .dataframe tbody tr th {\n",
       "        vertical-align: top;\n",
       "    }\n",
       "\n",
       "    .dataframe thead th {\n",
       "        text-align: right;\n",
       "    }\n",
       "</style>\n",
       "<table border=\"1\" class=\"dataframe\">\n",
       "  <thead>\n",
       "    <tr style=\"text-align: right;\">\n",
       "      <th></th>\n",
       "      <th>bad</th>\n",
       "      <th>loan</th>\n",
       "      <th>mortdue</th>\n",
       "      <th>value</th>\n",
       "      <th>reason</th>\n",
       "      <th>yoj</th>\n",
       "      <th>derog</th>\n",
       "      <th>delinq</th>\n",
       "      <th>clage</th>\n",
       "      <th>clno</th>\n",
       "      <th>...</th>\n",
       "      <th>job_Office</th>\n",
       "      <th>job_Other</th>\n",
       "      <th>job_ProfEx</th>\n",
       "      <th>job_Sales</th>\n",
       "      <th>job_Self</th>\n",
       "      <th>ninq_a</th>\n",
       "      <th>ninq_b</th>\n",
       "      <th>ninq_c</th>\n",
       "      <th>ninq_d</th>\n",
       "      <th>ninq_e</th>\n",
       "    </tr>\n",
       "  </thead>\n",
       "  <tbody>\n",
       "    <tr>\n",
       "      <th>153</th>\n",
       "      <td>0</td>\n",
       "      <td>18200</td>\n",
       "      <td>94727.0</td>\n",
       "      <td>136877.0</td>\n",
       "      <td>0</td>\n",
       "      <td>15.0</td>\n",
       "      <td>0.0</td>\n",
       "      <td>0.0</td>\n",
       "      <td>168.96</td>\n",
       "      <td>26.0</td>\n",
       "      <td>...</td>\n",
       "      <td>0</td>\n",
       "      <td>0</td>\n",
       "      <td>0</td>\n",
       "      <td>0</td>\n",
       "      <td>0</td>\n",
       "      <td>0</td>\n",
       "      <td>1</td>\n",
       "      <td>0</td>\n",
       "      <td>0</td>\n",
       "      <td>0</td>\n",
       "    </tr>\n",
       "    <tr>\n",
       "      <th>154</th>\n",
       "      <td>0</td>\n",
       "      <td>21700</td>\n",
       "      <td>79240.0</td>\n",
       "      <td>96784.0</td>\n",
       "      <td>0</td>\n",
       "      <td>5.0</td>\n",
       "      <td>0.0</td>\n",
       "      <td>0.0</td>\n",
       "      <td>64.51</td>\n",
       "      <td>24.0</td>\n",
       "      <td>...</td>\n",
       "      <td>0</td>\n",
       "      <td>0</td>\n",
       "      <td>0</td>\n",
       "      <td>0</td>\n",
       "      <td>0</td>\n",
       "      <td>0</td>\n",
       "      <td>0</td>\n",
       "      <td>1</td>\n",
       "      <td>0</td>\n",
       "      <td>0</td>\n",
       "    </tr>\n",
       "  </tbody>\n",
       "</table>\n",
       "<p>2 rows × 22 columns</p>\n",
       "</div>"
      ],
      "text/plain": [
       "     bad   loan  mortdue     value  reason   yoj  derog  delinq   clage  clno  \\\n",
       "153    0  18200  94727.0  136877.0       0  15.0    0.0     0.0  168.96  26.0   \n",
       "154    0  21700  79240.0   96784.0       0   5.0    0.0     0.0   64.51  24.0   \n",
       "\n",
       "     ...  job_Office  job_Other  job_ProfEx  job_Sales  job_Self  ninq_a  \\\n",
       "153  ...           0          0           0          0         0       0   \n",
       "154  ...           0          0           0          0         0       0   \n",
       "\n",
       "     ninq_b  ninq_c  ninq_d  ninq_e  \n",
       "153       1       0       0       0  \n",
       "154       0       1       0       0  \n",
       "\n",
       "[2 rows x 22 columns]"
      ]
     },
     "execution_count": 26,
     "metadata": {},
     "output_type": "execute_result"
    }
   ],
   "source": [
    "df.head(2)"
   ]
  },
  {
   "cell_type": "code",
   "execution_count": null,
   "metadata": {
    "colab": {
     "base_uri": "https://localhost:8080/",
     "height": 301
    },
    "colab_type": "code",
    "id": "Cx4WEkKyZslW",
    "outputId": "f3a800f5-8024-49a0-c6d7-34d2fc611168"
   },
   "outputs": [
    {
     "name": "stdout",
     "output_type": "stream",
     "text": [
      "Fitting 10 folds for each of 48 candidates, totalling 480 fits\n"
     ]
    },
    {
     "name": "stderr",
     "output_type": "stream",
     "text": [
      "[Parallel(n_jobs=-1)]: Using backend LokyBackend with 2 concurrent workers.\n",
      "[Parallel(n_jobs=-1)]: Done  37 tasks      | elapsed:   54.9s\n",
      "[Parallel(n_jobs=-1)]: Done 158 tasks      | elapsed:  6.0min\n",
      "[Parallel(n_jobs=-1)]: Done 480 out of 480 | elapsed:  9.6min finished\n"
     ]
    },
    {
     "name": "stdout",
     "output_type": "stream",
     "text": [
      "Tune Edilmemis Tahmin sonuclari Accuracy degeri:  0.9405940594059405\n",
      "-------------------------------\n",
      "Tune Edilmemis Confusion matrix sonuc: \n",
      " [[457   9]\n",
      " [ 21  18]]\n",
      "****************************************************\n",
      "Tune sonrasi Tahmin sonuclari RMSE degeri: 0.9524752475247524\n",
      "-------------------------------\n",
      "Tune sonrasi Confusion matrix sonuc: \n",
      " [[457   9]\n",
      " [ 15  24]]\n"
     ]
    }
   ],
   "source": [
    "y = df[\"bad\"]\n",
    "X = df.drop(labels=[\"bad\"],axis=1)\n",
    "\n",
    "\n",
    "X_train, X_test, y_train, y_test = train_test_split(X,y,\n",
    "                                                    random_state = 42,\n",
    "                                                    test_size = 0.25)\n",
    "\n",
    "\n",
    "YSA = cl.Methods()\n",
    "\n",
    "YSA.YsaClassifier(X_train,y_train,X_test,y_test)"
   ]
  },
  {
   "cell_type": "code",
   "execution_count": null,
   "metadata": {
    "colab": {},
    "colab_type": "code",
    "id": "LFXY4sllaSWB"
   },
   "outputs": [],
   "source": []
  },
  {
   "cell_type": "code",
   "execution_count": 27,
   "metadata": {
    "colab": {
     "base_uri": "https://localhost:8080/",
     "height": 156
    },
    "colab_type": "code",
    "id": "QtMZ0MrUa77N",
    "outputId": "03bdac0b-d3ca-4ffd-dd92-d1b2f38c8e8b"
   },
   "outputs": [
    {
     "data": {
      "text/html": [
       "<div>\n",
       "<style scoped>\n",
       "    .dataframe tbody tr th:only-of-type {\n",
       "        vertical-align: middle;\n",
       "    }\n",
       "\n",
       "    .dataframe tbody tr th {\n",
       "        vertical-align: top;\n",
       "    }\n",
       "\n",
       "    .dataframe thead th {\n",
       "        text-align: right;\n",
       "    }\n",
       "</style>\n",
       "<table border=\"1\" class=\"dataframe\">\n",
       "  <thead>\n",
       "    <tr style=\"text-align: right;\">\n",
       "      <th></th>\n",
       "      <th>ind_5</th>\n",
       "      <th>ind_6</th>\n",
       "      <th>ind_8</th>\n",
       "      <th>ind_9</th>\n",
       "      <th>ind_10</th>\n",
       "      <th>ind_12</th>\n",
       "      <th>ind_13</th>\n",
       "      <th>ind_14</th>\n",
       "      <th>ind_15</th>\n",
       "      <th>ind_16</th>\n",
       "      <th>...</th>\n",
       "      <th>ind_416</th>\n",
       "      <th>ind_418</th>\n",
       "      <th>ind_420</th>\n",
       "      <th>ind_422</th>\n",
       "      <th>ind_424</th>\n",
       "      <th>ind_426</th>\n",
       "      <th>ind_428</th>\n",
       "      <th>20_target</th>\n",
       "      <th>50_target</th>\n",
       "      <th>90_target</th>\n",
       "    </tr>\n",
       "  </thead>\n",
       "  <tbody>\n",
       "    <tr>\n",
       "      <th>0</th>\n",
       "      <td>19</td>\n",
       "      <td>17</td>\n",
       "      <td>100.0</td>\n",
       "      <td>85.714286</td>\n",
       "      <td>14.285714</td>\n",
       "      <td>72.363515</td>\n",
       "      <td>60.808814</td>\n",
       "      <td>23.80</td>\n",
       "      <td>17.62</td>\n",
       "      <td>11.73</td>\n",
       "      <td>...</td>\n",
       "      <td>-49.6</td>\n",
       "      <td>-54</td>\n",
       "      <td>-152</td>\n",
       "      <td>-353</td>\n",
       "      <td>1.0</td>\n",
       "      <td>0.498547</td>\n",
       "      <td>0.701906</td>\n",
       "      <td>15.135802</td>\n",
       "      <td>35.625252</td>\n",
       "      <td>36.997753</td>\n",
       "    </tr>\n",
       "    <tr>\n",
       "      <th>1</th>\n",
       "      <td>24</td>\n",
       "      <td>19</td>\n",
       "      <td>100.0</td>\n",
       "      <td>78.571429</td>\n",
       "      <td>21.428571</td>\n",
       "      <td>74.275883</td>\n",
       "      <td>64.366798</td>\n",
       "      <td>11.45</td>\n",
       "      <td>18.16</td>\n",
       "      <td>12.22</td>\n",
       "      <td>...</td>\n",
       "      <td>-55.6</td>\n",
       "      <td>-60</td>\n",
       "      <td>-158</td>\n",
       "      <td>-359</td>\n",
       "      <td>1.0</td>\n",
       "      <td>0.537088</td>\n",
       "      <td>0.690833</td>\n",
       "      <td>15.143348</td>\n",
       "      <td>35.643013</td>\n",
       "      <td>37.016198</td>\n",
       "    </tr>\n",
       "  </tbody>\n",
       "</table>\n",
       "<p>2 rows × 136 columns</p>\n",
       "</div>"
      ],
      "text/plain": [
       "   ind_5  ind_6  ind_8      ind_9     ind_10     ind_12     ind_13  ind_14  \\\n",
       "0     19     17  100.0  85.714286  14.285714  72.363515  60.808814   23.80   \n",
       "1     24     19  100.0  78.571429  21.428571  74.275883  64.366798   11.45   \n",
       "\n",
       "   ind_15  ind_16  ...  ind_416  ind_418  ind_420  ind_422  ind_424   ind_426  \\\n",
       "0   17.62   11.73  ...    -49.6      -54     -152     -353      1.0  0.498547   \n",
       "1   18.16   12.22  ...    -55.6      -60     -158     -359      1.0  0.537088   \n",
       "\n",
       "    ind_428  20_target  50_target  90_target  \n",
       "0  0.701906  15.135802  35.625252  36.997753  \n",
       "1  0.690833  15.143348  35.643013  37.016198  \n",
       "\n",
       "[2 rows x 136 columns]"
      ]
     },
     "execution_count": 27,
     "metadata": {},
     "output_type": "execute_result"
    }
   ],
   "source": [
    "df_y = pd.read_excel(r\"C:\\Users\\LENOVO\\Desktop\\KodluyoruzBootcamp\\Ödevler Ve Çalışmalar\\HW_Data_Set.xlsx\")\n",
    "df_y.head(2)"
   ]
  },
  {
   "cell_type": "code",
   "execution_count": null,
   "metadata": {
    "colab": {},
    "colab_type": "code",
    "id": "zwvjBGzveZA4"
   },
   "outputs": [],
   "source": []
  },
  {
   "cell_type": "code",
   "execution_count": 28,
   "metadata": {
    "colab": {},
    "colab_type": "code",
    "id": "6lLokq-ReY8K"
   },
   "outputs": [],
   "source": [
    "df_y.loc[df_y[df_y[\"ind_420\"] == \"?\"].index] = np.nan \n",
    "\n",
    "# Degisken donusturmeden once icerisinde NAN degerler oldugu icin ilk once bu OBJECT tipindeki degiskenlerin NAN degerlerini degistiriyoruz\n",
    "# Ardindan donusum gercelestiriyoruz\n",
    "\n",
    "df_y[\"ind_422\"] = df_y[\"ind_422\"].fillna(df_y.mean()[\"ind_422\"])\n",
    "df_y[\"ind_420\"] = df_y[\"ind_420\"].fillna(df_y.mean()[\"ind_420\"])\n",
    "\n",
    "df_y[\"ind_422\"] = df_y[\"ind_422\"].astype('int32')\n",
    "df_y[\"ind_420\"] = df_y[\"ind_420\"].astype('int32')\n",
    "\n",
    "# Geriye kalan NaN degiskenleri de dolduruyoruz\n",
    "\n",
    "column = list(df_y.select_dtypes(include=[\"int32\",\"float64\"]))\n",
    "df_y[column] = df_y[column].apply(lambda x: x.fillna(x.mean()),axis=0)"
   ]
  },
  {
   "cell_type": "code",
   "execution_count": 29,
   "metadata": {
    "colab": {
     "base_uri": "https://localhost:8080/",
     "height": 105
    },
    "colab_type": "code",
    "id": "slqgWqPCfPFO",
    "outputId": "7a3524f3-62db-4704-ae44-1d609573ee09"
   },
   "outputs": [
    {
     "name": "stdout",
     "output_type": "stream",
     "text": [
      "<class 'pandas.core.frame.DataFrame'>\n",
      "RangeIndex: 6167 entries, 0 to 6166\n",
      "Columns: 136 entries, ind_5 to 90_target\n",
      "dtypes: float64(133), int32(2), object(1)\n",
      "memory usage: 6.4+ MB\n"
     ]
    }
   ],
   "source": [
    "df_y.info()"
   ]
  },
  {
   "cell_type": "code",
   "execution_count": 30,
   "metadata": {
    "colab": {
     "base_uri": "https://localhost:8080/",
     "height": 105
    },
    "colab_type": "code",
    "id": "kabx8pmefX8B",
    "outputId": "64ebcc0a-087e-4228-8dfc-0455288b5641"
   },
   "outputs": [
    {
     "name": "stdout",
     "output_type": "stream",
     "text": [
      "<class 'pandas.core.frame.DataFrame'>\n",
      "RangeIndex: 6167 entries, 0 to 6166\n",
      "Columns: 136 entries, ind_5 to ind_109_GREEN\n",
      "dtypes: float64(133), int32(2), uint8(1)\n",
      "memory usage: 6.3 MB\n"
     ]
    }
   ],
   "source": [
    "df_y = pd.get_dummies(df_y,columns= [\"ind_109\"], prefix= [\"ind_109\"])\n",
    "\n",
    "df_y = df_y.drop([\"ind_109_RED\"],axis=1)\n",
    "\n",
    "df_y.info()"
   ]
  },
  {
   "cell_type": "code",
   "execution_count": null,
   "metadata": {
    "colab": {
     "base_uri": "https://localhost:8080/",
     "height": 176
    },
    "colab_type": "code",
    "id": "ZBNe_jATfeDN",
    "outputId": "1e286814-6c2a-4ee7-ec97-08272d629e0f"
   },
   "outputs": [
    {
     "name": "stdout",
     "output_type": "stream",
     "text": [
      "Fitting 10 folds for each of 96 candidates, totalling 960 fits\n"
     ]
    },
    {
     "name": "stderr",
     "output_type": "stream",
     "text": [
      "[Parallel(n_jobs=-1)]: Using backend LokyBackend with 2 concurrent workers.\n",
      "[Parallel(n_jobs=-1)]: Done  37 tasks      | elapsed:  1.3min\n",
      "[Parallel(n_jobs=-1)]: Done 158 tasks      | elapsed: 22.5min\n",
      "[Parallel(n_jobs=-1)]: Done 361 tasks      | elapsed: 63.3min\n",
      "[Parallel(n_jobs=-1)]: Done 960 out of 960 | elapsed: 84.3min finished\n"
     ]
    },
    {
     "name": "stdout",
     "output_type": "stream",
     "text": [
      "Tune Edilmemis Tahmin sonuclari RMSE degeri:  45.60909466505888\n",
      "---------------------------------------------\n",
      "Tune sonrasi Tahmin sonuclari RMSE degeri: 42.63284271311603\n"
     ]
    }
   ],
   "source": [
    "df_y.drop(labels=[\"20_target\",\"90_target\"],axis=1,inplace=True)\n",
    "\n",
    "\n",
    "X = df_y.drop(labels=\"50_target\",axis=1)\n",
    "y = df_y[\"50_target\"]\n",
    "\n",
    "X_train, X_test, y_train, y_test = train_test_split(X,y, test_size = .2, random_state = 42,shuffle = False)\n",
    "\n",
    "YSA = cl.Methods()\n",
    "\n",
    "YSA.YsaReg(X_train,y_train,X_test,y_test)"
   ]
  }
 ],
 "metadata": {
  "accelerator": "GPU",
  "colab": {
   "collapsed_sections": [],
   "name": "Asıl-YSA.ipynb",
   "provenance": []
  },
  "kernelspec": {
   "display_name": "Python 3",
   "language": "python",
   "name": "python3"
  },
  "language_info": {
   "codemirror_mode": {
    "name": "ipython",
    "version": 3
   },
   "file_extension": ".py",
   "mimetype": "text/x-python",
   "name": "python",
   "nbconvert_exporter": "python",
   "pygments_lexer": "ipython3",
   "version": "3.7.6"
  }
 },
 "nbformat": 4,
 "nbformat_minor": 4
}
