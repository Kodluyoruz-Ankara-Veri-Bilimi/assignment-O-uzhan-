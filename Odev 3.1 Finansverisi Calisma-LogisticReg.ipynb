{
 "cells": [
  {
   "cell_type": "code",
   "execution_count": 1,
   "metadata": {},
   "outputs": [],
   "source": [
    "import pandas as pd \n",
    "import seaborn as sns\n",
    "from matplotlib import pyplot as plt\n",
    "import missingno as msno\n",
    "import Classes1 as cl "
   ]
  },
  {
   "cell_type": "code",
   "execution_count": 2,
   "metadata": {},
   "outputs": [],
   "source": [
    "import pandas as pd"
   ]
  },
  {
   "cell_type": "code",
   "execution_count": 3,
   "metadata": {},
   "outputs": [],
   "source": [
    "df = pd.read_csv(r\"C:\\Users\\LENOVO\\Desktop\\KodluyoruzBootcamp\\Ödevler Ve Çalışmalar\\hmelq.csv\")"
   ]
  },
  {
   "cell_type": "code",
   "execution_count": 4,
   "metadata": {},
   "outputs": [
    {
     "data": {
      "text/html": [
       "<div>\n",
       "<style scoped>\n",
       "    .dataframe tbody tr th:only-of-type {\n",
       "        vertical-align: middle;\n",
       "    }\n",
       "\n",
       "    .dataframe tbody tr th {\n",
       "        vertical-align: top;\n",
       "    }\n",
       "\n",
       "    .dataframe thead th {\n",
       "        text-align: right;\n",
       "    }\n",
       "</style>\n",
       "<table border=\"1\" class=\"dataframe\">\n",
       "  <thead>\n",
       "    <tr style=\"text-align: right;\">\n",
       "      <th></th>\n",
       "      <th>bad</th>\n",
       "      <th>loan</th>\n",
       "      <th>mortdue</th>\n",
       "      <th>value</th>\n",
       "      <th>reason</th>\n",
       "      <th>job</th>\n",
       "      <th>yoj</th>\n",
       "      <th>derog</th>\n",
       "      <th>delinq</th>\n",
       "      <th>clage</th>\n",
       "      <th>ninq</th>\n",
       "      <th>clno</th>\n",
       "      <th>debtinc</th>\n",
       "    </tr>\n",
       "  </thead>\n",
       "  <tbody>\n",
       "    <tr>\n",
       "      <th>0</th>\n",
       "      <td>0</td>\n",
       "      <td>81200</td>\n",
       "      <td>18834.0</td>\n",
       "      <td>108355.0</td>\n",
       "      <td>HomeImp</td>\n",
       "      <td>NaN</td>\n",
       "      <td>28.0</td>\n",
       "      <td>0.0</td>\n",
       "      <td>0.0</td>\n",
       "      <td>139.14</td>\n",
       "      <td>0.0</td>\n",
       "      <td>14.0</td>\n",
       "      <td>34.042</td>\n",
       "    </tr>\n",
       "    <tr>\n",
       "      <th>1</th>\n",
       "      <td>0</td>\n",
       "      <td>12600</td>\n",
       "      <td>103960.0</td>\n",
       "      <td>127384.0</td>\n",
       "      <td>DebtCon</td>\n",
       "      <td>NaN</td>\n",
       "      <td>2.0</td>\n",
       "      <td>0.0</td>\n",
       "      <td>0.0</td>\n",
       "      <td>129.02</td>\n",
       "      <td>0.0</td>\n",
       "      <td>25.0</td>\n",
       "      <td>34.479</td>\n",
       "    </tr>\n",
       "    <tr>\n",
       "      <th>2</th>\n",
       "      <td>0</td>\n",
       "      <td>18000</td>\n",
       "      <td>46865.0</td>\n",
       "      <td>61266.0</td>\n",
       "      <td>DebtCon</td>\n",
       "      <td>NaN</td>\n",
       "      <td>5.0</td>\n",
       "      <td>0.0</td>\n",
       "      <td>0.0</td>\n",
       "      <td>102.59</td>\n",
       "      <td>2.0</td>\n",
       "      <td>9.0</td>\n",
       "      <td>26.354</td>\n",
       "    </tr>\n",
       "    <tr>\n",
       "      <th>3</th>\n",
       "      <td>0</td>\n",
       "      <td>10300</td>\n",
       "      <td>57676.0</td>\n",
       "      <td>71027.0</td>\n",
       "      <td>DebtCon</td>\n",
       "      <td>NaN</td>\n",
       "      <td>19.0</td>\n",
       "      <td>0.0</td>\n",
       "      <td>0.0</td>\n",
       "      <td>157.52</td>\n",
       "      <td>1.0</td>\n",
       "      <td>11.0</td>\n",
       "      <td>33.992</td>\n",
       "    </tr>\n",
       "    <tr>\n",
       "      <th>4</th>\n",
       "      <td>0</td>\n",
       "      <td>9400</td>\n",
       "      <td>56508.0</td>\n",
       "      <td>78358.0</td>\n",
       "      <td>DebtCon</td>\n",
       "      <td>NaN</td>\n",
       "      <td>17.0</td>\n",
       "      <td>0.0</td>\n",
       "      <td>0.0</td>\n",
       "      <td>141.93</td>\n",
       "      <td>0.0</td>\n",
       "      <td>11.0</td>\n",
       "      <td>32.327</td>\n",
       "    </tr>\n",
       "  </tbody>\n",
       "</table>\n",
       "</div>"
      ],
      "text/plain": [
       "   bad   loan   mortdue     value   reason  job   yoj  derog  delinq   clage  \\\n",
       "0    0  81200   18834.0  108355.0  HomeImp  NaN  28.0    0.0     0.0  139.14   \n",
       "1    0  12600  103960.0  127384.0  DebtCon  NaN   2.0    0.0     0.0  129.02   \n",
       "2    0  18000   46865.0   61266.0  DebtCon  NaN   5.0    0.0     0.0  102.59   \n",
       "3    0  10300   57676.0   71027.0  DebtCon  NaN  19.0    0.0     0.0  157.52   \n",
       "4    0   9400   56508.0   78358.0  DebtCon  NaN  17.0    0.0     0.0  141.93   \n",
       "\n",
       "   ninq  clno  debtinc  \n",
       "0   0.0  14.0   34.042  \n",
       "1   0.0  25.0   34.479  \n",
       "2   2.0   9.0   26.354  \n",
       "3   1.0  11.0   33.992  \n",
       "4   0.0  11.0   32.327  "
      ]
     },
     "execution_count": 4,
     "metadata": {},
     "output_type": "execute_result"
    }
   ],
   "source": [
    "df.head()"
   ]
  },
  {
   "cell_type": "markdown",
   "metadata": {},
   "source": [
    "* bad = 1: temerrüte düsme yani borcu odememe durumu. 0: odeme yapilmis\n",
    "* loan = talep edilen kredi miktari\n",
    "* mortdue = mevcut Mortgage borclari\n",
    "* value = guncel mal-mulk degeri\n",
    "* reason = DebtCon: kısa süreli borçların uzun süreli ya da süresiz borca dönüştürülmesi(borclarin birlestirilmesi), Homelmp: evin dekorasyonu vb sebepten istenme durumu\n",
    "* job = meslek durumu\n",
    "* yoj = mevcut iste gecirilen yil\n",
    "* derog = baslica ihlal edici, uygunsuz davranis raporlarinin sayisi\n",
    "* delinq = odenmemis kredi kredi limitinin sayisi\n",
    "* clage = aylarin icerisindeki en eski kredi limitinin yasi\n",
    "* ninq = güncel,son kredi sorgusunun sayisi\n",
    "* clno = kredi limit sayisi \n",
    "* debtinc = borc gelir orani"
   ]
  },
  {
   "cell_type": "code",
   "execution_count": 5,
   "metadata": {},
   "outputs": [],
   "source": [
    "data_information = cl.information(df)"
   ]
  },
  {
   "cell_type": "code",
   "execution_count": 6,
   "metadata": {},
   "outputs": [
    {
     "name": "stdout",
     "output_type": "stream",
     "text": [
      "<class 'pandas.core.frame.DataFrame'>\n",
      "RangeIndex: 3576 entries, 0 to 3575\n",
      "Data columns (total 13 columns):\n",
      " #   Column   Non-Null Count  Dtype  \n",
      "---  ------   --------------  -----  \n",
      " 0   bad      3576 non-null   int64  \n",
      " 1   loan     3576 non-null   int64  \n",
      " 2   mortdue  3262 non-null   float64\n",
      " 3   value    3512 non-null   float64\n",
      " 4   reason   3429 non-null   object \n",
      " 5   job      3409 non-null   object \n",
      " 6   yoj      3264 non-null   float64\n",
      " 7   derog    3149 non-null   float64\n",
      " 8   delinq   3225 non-null   float64\n",
      " 9   clage    3397 non-null   float64\n",
      " 10  ninq     3273 non-null   float64\n",
      " 11  clno     3443 non-null   float64\n",
      " 12  debtinc  2809 non-null   float64\n",
      "dtypes: float64(9), int64(2), object(2)\n",
      "memory usage: 363.3+ KB\n",
      "None \n",
      "Boyut Bilgisi:\n",
      " (3576, 13)\n"
     ]
    }
   ],
   "source": [
    "data_information.info_data()"
   ]
  },
  {
   "cell_type": "code",
   "execution_count": 7,
   "metadata": {},
   "outputs": [
    {
     "data": {
      "text/html": [
       "<div>\n",
       "<style scoped>\n",
       "    .dataframe tbody tr th:only-of-type {\n",
       "        vertical-align: middle;\n",
       "    }\n",
       "\n",
       "    .dataframe tbody tr th {\n",
       "        vertical-align: top;\n",
       "    }\n",
       "\n",
       "    .dataframe thead th {\n",
       "        text-align: right;\n",
       "    }\n",
       "</style>\n",
       "<table border=\"1\" class=\"dataframe\">\n",
       "  <thead>\n",
       "    <tr style=\"text-align: right;\">\n",
       "      <th></th>\n",
       "      <th>count</th>\n",
       "      <th>mean</th>\n",
       "      <th>std</th>\n",
       "      <th>min</th>\n",
       "      <th>25%</th>\n",
       "      <th>50%</th>\n",
       "      <th>75%</th>\n",
       "      <th>max</th>\n",
       "    </tr>\n",
       "  </thead>\n",
       "  <tbody>\n",
       "    <tr>\n",
       "      <th>bad</th>\n",
       "      <td>3576.0</td>\n",
       "      <td>0.199385</td>\n",
       "      <td>0.399594</td>\n",
       "      <td>0.00</td>\n",
       "      <td>0.00</td>\n",
       "      <td>0.000</td>\n",
       "      <td>0.00</td>\n",
       "      <td>1.000</td>\n",
       "    </tr>\n",
       "    <tr>\n",
       "      <th>loan</th>\n",
       "      <td>3576.0</td>\n",
       "      <td>18529.697987</td>\n",
       "      <td>11262.834060</td>\n",
       "      <td>1100.00</td>\n",
       "      <td>11000.00</td>\n",
       "      <td>16200.000</td>\n",
       "      <td>23100.00</td>\n",
       "      <td>89900.000</td>\n",
       "    </tr>\n",
       "    <tr>\n",
       "      <th>mortdue</th>\n",
       "      <td>3262.0</td>\n",
       "      <td>74013.907992</td>\n",
       "      <td>44016.833772</td>\n",
       "      <td>2619.00</td>\n",
       "      <td>46700.25</td>\n",
       "      <td>65858.000</td>\n",
       "      <td>91717.00</td>\n",
       "      <td>399550.000</td>\n",
       "    </tr>\n",
       "    <tr>\n",
       "      <th>value</th>\n",
       "      <td>3512.0</td>\n",
       "      <td>101076.922759</td>\n",
       "      <td>54865.275351</td>\n",
       "      <td>8800.00</td>\n",
       "      <td>65753.00</td>\n",
       "      <td>89183.000</td>\n",
       "      <td>118928.25</td>\n",
       "      <td>850000.000</td>\n",
       "    </tr>\n",
       "    <tr>\n",
       "      <th>yoj</th>\n",
       "      <td>3264.0</td>\n",
       "      <td>8.832644</td>\n",
       "      <td>7.568046</td>\n",
       "      <td>0.00</td>\n",
       "      <td>3.00</td>\n",
       "      <td>7.000</td>\n",
       "      <td>13.00</td>\n",
       "      <td>41.000</td>\n",
       "    </tr>\n",
       "    <tr>\n",
       "      <th>derog</th>\n",
       "      <td>3149.0</td>\n",
       "      <td>0.261670</td>\n",
       "      <td>0.865178</td>\n",
       "      <td>0.00</td>\n",
       "      <td>0.00</td>\n",
       "      <td>0.000</td>\n",
       "      <td>0.00</td>\n",
       "      <td>10.000</td>\n",
       "    </tr>\n",
       "    <tr>\n",
       "      <th>delinq</th>\n",
       "      <td>3225.0</td>\n",
       "      <td>0.432558</td>\n",
       "      <td>1.099230</td>\n",
       "      <td>0.00</td>\n",
       "      <td>0.00</td>\n",
       "      <td>0.000</td>\n",
       "      <td>0.00</td>\n",
       "      <td>15.000</td>\n",
       "    </tr>\n",
       "    <tr>\n",
       "      <th>clage</th>\n",
       "      <td>3397.0</td>\n",
       "      <td>179.832529</td>\n",
       "      <td>87.066198</td>\n",
       "      <td>0.49</td>\n",
       "      <td>115.60</td>\n",
       "      <td>173.640</td>\n",
       "      <td>230.71</td>\n",
       "      <td>1168.230</td>\n",
       "    </tr>\n",
       "    <tr>\n",
       "      <th>ninq</th>\n",
       "      <td>3273.0</td>\n",
       "      <td>1.186373</td>\n",
       "      <td>1.728723</td>\n",
       "      <td>0.00</td>\n",
       "      <td>0.00</td>\n",
       "      <td>1.000</td>\n",
       "      <td>2.00</td>\n",
       "      <td>17.000</td>\n",
       "    </tr>\n",
       "    <tr>\n",
       "      <th>clno</th>\n",
       "      <td>3443.0</td>\n",
       "      <td>21.507116</td>\n",
       "      <td>10.167490</td>\n",
       "      <td>0.00</td>\n",
       "      <td>15.00</td>\n",
       "      <td>20.000</td>\n",
       "      <td>26.00</td>\n",
       "      <td>71.000</td>\n",
       "    </tr>\n",
       "    <tr>\n",
       "      <th>debtinc</th>\n",
       "      <td>2809.0</td>\n",
       "      <td>33.831737</td>\n",
       "      <td>9.061837</td>\n",
       "      <td>0.72</td>\n",
       "      <td>29.14</td>\n",
       "      <td>34.747</td>\n",
       "      <td>38.94</td>\n",
       "      <td>203.312</td>\n",
       "    </tr>\n",
       "  </tbody>\n",
       "</table>\n",
       "</div>"
      ],
      "text/plain": [
       "          count           mean           std      min       25%        50%  \\\n",
       "bad      3576.0       0.199385      0.399594     0.00      0.00      0.000   \n",
       "loan     3576.0   18529.697987  11262.834060  1100.00  11000.00  16200.000   \n",
       "mortdue  3262.0   74013.907992  44016.833772  2619.00  46700.25  65858.000   \n",
       "value    3512.0  101076.922759  54865.275351  8800.00  65753.00  89183.000   \n",
       "yoj      3264.0       8.832644      7.568046     0.00      3.00      7.000   \n",
       "derog    3149.0       0.261670      0.865178     0.00      0.00      0.000   \n",
       "delinq   3225.0       0.432558      1.099230     0.00      0.00      0.000   \n",
       "clage    3397.0     179.832529     87.066198     0.49    115.60    173.640   \n",
       "ninq     3273.0       1.186373      1.728723     0.00      0.00      1.000   \n",
       "clno     3443.0      21.507116     10.167490     0.00     15.00     20.000   \n",
       "debtinc  2809.0      33.831737      9.061837     0.72     29.14     34.747   \n",
       "\n",
       "               75%         max  \n",
       "bad           0.00       1.000  \n",
       "loan      23100.00   89900.000  \n",
       "mortdue   91717.00  399550.000  \n",
       "value    118928.25  850000.000  \n",
       "yoj          13.00      41.000  \n",
       "derog         0.00      10.000  \n",
       "delinq        0.00      15.000  \n",
       "clage       230.71    1168.230  \n",
       "ninq          2.00      17.000  \n",
       "clno         26.00      71.000  \n",
       "debtinc      38.94     203.312  "
      ]
     },
     "execution_count": 7,
     "metadata": {},
     "output_type": "execute_result"
    }
   ],
   "source": [
    "data_information.summary_statistics()"
   ]
  },
  {
   "cell_type": "code",
   "execution_count": 8,
   "metadata": {},
   "outputs": [
    {
     "data": {
      "text/plain": [
       "bad           2\n",
       "loan        474\n",
       "mortdue    3095\n",
       "value      3302\n",
       "reason        2\n",
       "job           6\n",
       "yoj          86\n",
       "derog        11\n",
       "delinq       12\n",
       "clage      3050\n",
       "ninq         15\n",
       "clno         61\n",
       "debtinc    2653\n",
       "dtype: int64"
      ]
     },
     "execution_count": 8,
     "metadata": {},
     "output_type": "execute_result"
    }
   ],
   "source": [
    "data_information.nuniques()"
   ]
  },
  {
   "cell_type": "code",
   "execution_count": 9,
   "metadata": {},
   "outputs": [
    {
     "name": "stdout",
     "output_type": "stream",
     "text": [
      "First Variable Value Counts:\n",
      " DebtCon    2371\n",
      "HomeImp    1058\n",
      "Name: reason, dtype: int64 \n",
      "Second Variable Value Counts:\n",
      " Other     1431\n",
      "ProfEx     767\n",
      "Office     569\n",
      "Mgr        461\n",
      "Self       115\n",
      "Sales       66\n",
      "Name: job, dtype: int64\n"
     ]
    }
   ],
   "source": [
    "data_information.value_count(\"reason\",\"job\")"
   ]
  },
  {
   "cell_type": "code",
   "execution_count": 10,
   "metadata": {},
   "outputs": [
    {
     "data": {
      "text/html": [
       "<div>\n",
       "<style scoped>\n",
       "    .dataframe tbody tr th:only-of-type {\n",
       "        vertical-align: middle;\n",
       "    }\n",
       "\n",
       "    .dataframe tbody tr th {\n",
       "        vertical-align: top;\n",
       "    }\n",
       "\n",
       "    .dataframe thead th {\n",
       "        text-align: right;\n",
       "    }\n",
       "</style>\n",
       "<table border=\"1\" class=\"dataframe\">\n",
       "  <thead>\n",
       "    <tr style=\"text-align: right;\">\n",
       "      <th></th>\n",
       "      <th>Missing_Values</th>\n",
       "      <th>Missing_values_rate %</th>\n",
       "    </tr>\n",
       "  </thead>\n",
       "  <tbody>\n",
       "    <tr>\n",
       "      <th>bad</th>\n",
       "      <td>0</td>\n",
       "      <td>0.000000</td>\n",
       "    </tr>\n",
       "    <tr>\n",
       "      <th>loan</th>\n",
       "      <td>0</td>\n",
       "      <td>0.000000</td>\n",
       "    </tr>\n",
       "    <tr>\n",
       "      <th>mortdue</th>\n",
       "      <td>314</td>\n",
       "      <td>8.780761</td>\n",
       "    </tr>\n",
       "    <tr>\n",
       "      <th>value</th>\n",
       "      <td>64</td>\n",
       "      <td>1.789709</td>\n",
       "    </tr>\n",
       "    <tr>\n",
       "      <th>reason</th>\n",
       "      <td>147</td>\n",
       "      <td>4.110738</td>\n",
       "    </tr>\n",
       "    <tr>\n",
       "      <th>job</th>\n",
       "      <td>167</td>\n",
       "      <td>4.670022</td>\n",
       "    </tr>\n",
       "    <tr>\n",
       "      <th>yoj</th>\n",
       "      <td>312</td>\n",
       "      <td>8.724832</td>\n",
       "    </tr>\n",
       "    <tr>\n",
       "      <th>derog</th>\n",
       "      <td>427</td>\n",
       "      <td>11.940716</td>\n",
       "    </tr>\n",
       "    <tr>\n",
       "      <th>delinq</th>\n",
       "      <td>351</td>\n",
       "      <td>9.815436</td>\n",
       "    </tr>\n",
       "    <tr>\n",
       "      <th>clage</th>\n",
       "      <td>179</td>\n",
       "      <td>5.005593</td>\n",
       "    </tr>\n",
       "    <tr>\n",
       "      <th>ninq</th>\n",
       "      <td>303</td>\n",
       "      <td>8.473154</td>\n",
       "    </tr>\n",
       "    <tr>\n",
       "      <th>clno</th>\n",
       "      <td>133</td>\n",
       "      <td>3.719239</td>\n",
       "    </tr>\n",
       "    <tr>\n",
       "      <th>debtinc</th>\n",
       "      <td>767</td>\n",
       "      <td>21.448546</td>\n",
       "    </tr>\n",
       "  </tbody>\n",
       "</table>\n",
       "</div>"
      ],
      "text/plain": [
       "         Missing_Values  Missing_values_rate %\n",
       "bad                   0               0.000000\n",
       "loan                  0               0.000000\n",
       "mortdue             314               8.780761\n",
       "value                64               1.789709\n",
       "reason              147               4.110738\n",
       "job                 167               4.670022\n",
       "yoj                 312               8.724832\n",
       "derog               427              11.940716\n",
       "delinq              351               9.815436\n",
       "clage               179               5.005593\n",
       "ninq                303               8.473154\n",
       "clno                133               3.719239\n",
       "debtinc             767              21.448546"
      ]
     },
     "execution_count": 10,
     "metadata": {},
     "output_type": "execute_result"
    }
   ],
   "source": [
    "data_information.MissingValues()"
   ]
  },
  {
   "cell_type": "markdown",
   "metadata": {},
   "source": [
    "* Gorsellere gecmeden once su sonuclardan yola cikarak bazi yorumlari yapmak lazim;                                                                   veri setimizi buradaki sonuclari gibi arka plan bulundugu sektorle ilgili bilgileri de edinmek ve ogrenmek gerekiyor. Bu isin ne kadar istatistik ve kod yazimi boyutu onemli ise ayni sekilde domain bilgisi de bu denli onemlidir ve eksik olundu taktir de istenilen noktaya varilmakta zorluk cekilmektedir. \n",
    "\n",
    "* Data genel olarak finansal yonlu bir veri setidir. 3576 gozlemden olusan 13 adet de degiskeni vardir. Degiskenlerin hepsinin veri seti icerisinde bir yeri bulunmakta tabi ki bu onemine goredir. Burada Target yani bagimli degisken olarak ise BAD adli degisken gosterilmistir. Sebebi ise incelenen durumun yada tahminlenmesi yapilmak istenen durumun gelecekte kisinin temerrüte dusup dusmeyecegini tahminlemek ve buna gore musterilere kisilere karsi bir aksiyon hareketi almaktir. \n",
    "\n",
    "* Bu hareketin temel amaci tabi ki kar amaci gutmektir. Diger degiskenlerimize de sirasiyla bakiyoruz. Toplam da 2 adet object(kategorik) ve 11 adet de numeric degiskenimiz bulunmakta. Bu 2 adet kategorik degiskenlerimiz ayni zamanda nominal olcumludur. \n",
    "\n",
    "* Daha sonra devam edip numeric degiskenlerin istatistiksel ozetlerini goruyoruz. Burada mean, median, std gibi istastistiki hesap degeleri bulunmakta. Su unutulmamalidir ki bu sonuclar degiskenler hakkinda onemli bilgi tasimaktatir ve isleyen algoritmalarin formullerin arka planini olusturmaktadir. Bad degiskenimiz aslinda kategorik bir degisken olup binary(1,0) sekilde kodlanmistir bu ayni zamanda algoritmalarin istedigi bir durumdur. Genel olarak Mean bakarken bazi yerler de min ve max degerlerine bakip ona gore Median tercih edilmelidir. Bunun olayi ise gercek ortalama hakkinda daha gercekci bilgi vermesidir.\n",
    "\n",
    "* Ardindan degiskenlerimize ait Unique degerleri goruyoruz. Yani degiskenimizin kac siniftan olustuguna eristik demektir. Bunun onemi kategorik degiskenler acisindan daha kiymetlidir. Bize kategorik degiskenimizin icerisinde bulunan siniflar hakkin bilgi verir ve onlarin onemini daha sonradan degerlendirmeye aliriz.\n",
    "\n",
    "* Bu adimdan sonra da Value Counts yapiyoruz ve degiskenlerimizin degerlerini saydiriyoruz. Bunu Object tipindeki degiskenlere kullanmak daha mantikli olacaktir. Numeric tipteki degiskenler zaten sinif ozelligi tasimadigindan bize kategorik tipdeki degiskenlerimizin hakkin da daha cok bilgi vermektedir. \n",
    "\n",
    "* Son olarak cok onemli bir bilgiye daha deginiyoruz. Eksik gozlem, degiskenlere gore eksik gozlemlere ve onlarin oranini soyle bir goruyoruz. Bu bizim icin cok dikkat edilmesi gereken durumlardan biridir. Eksik gozlemler tahminlerimiz de sikinti cikartan ve doldurulma islemi yapilirken cok dikkat edilmesi gereken bir durumdur. Yapisal olup olmamasi ve doldururken nelerin kullanilmasi gerektigi gibi durumlara dikkat etmemiz gerekir. Yoksa yanli sonuclar almamiz muhtemeldir. Tabi her zaman bu eksik degerler doldurulmaz, bazi durumlar da beklenin cok ustunde eksik deger versa bunlari sileriz."
   ]
  },
  {
   "cell_type": "code",
   "execution_count": 11,
   "metadata": {},
   "outputs": [],
   "source": [
    "data_visualization = cl.Visualization(df)"
   ]
  },
  {
   "cell_type": "code",
   "execution_count": 12,
   "metadata": {},
   "outputs": [
    {
     "data": {
      "text/plain": [
       "<matplotlib.axes._subplots.AxesSubplot at 0x22937a9bfc8>"
      ]
     },
     "execution_count": 12,
     "metadata": {},
     "output_type": "execute_result"
    },
    {
     "data": {
      "image/png": "[encoded data removed]",
      "text/plain": [
       "<Figure size 612x396 with 2 Axes>"
      ]
     },
     "metadata": {
      "needs_background": "light"
     },
     "output_type": "display_data"
    }
   ],
   "source": [
    "data_visualization.corr_map()"
   ]
  },
  {
   "cell_type": "markdown",
   "metadata": {},
   "source": [
    "* Burada yaptigimiz islemde kisaca bir korelasyon haritasi cikardik. Korelasyon haritasi bizim icin buyuk onem tasimaktadir. Sebebi ise modelleme yapacagimiz zaman bagimli degiskenimiz ile ilisigi yakin olan degiskenleri burada gormek bizim icin bir infirmation(yani bilgidir). Ayni zaman da bazi modeller dogrusal baglanti isteyemeyebiliyor onun icin degiskenler arasindaki iliski hakkinda bilgili olmakta onemli."
   ]
  },
  {
   "cell_type": "code",
   "execution_count": 13,
   "metadata": {},
   "outputs": [
    {
     "data": {
      "text/plain": [
       "<matplotlib.axes._subplots.AxesSubplot at 0x229382a5a48>"
      ]
     },
     "execution_count": 13,
     "metadata": {},
     "output_type": "execute_result"
    },
    {
     "data": {
      "image/png": "[encoded data removed]",
      "text/plain": [
       "<Figure size 1440x864 with 2 Axes>"
      ]
     },
     "metadata": {
      "needs_background": "light"
     },
     "output_type": "display_data"
    }
   ],
   "source": [
    "data_visualization.missingvalues_heat_map()"
   ]
  },
  {
   "cell_type": "markdown",
   "metadata": {},
   "source": [
    "* Daha sonra kayip degerler icin kritik olan bir tabloyu ortaya cikardik. Burada da bir korelasyon durumu var. Soyle ki aralarinda iliskisi yuksek olan degiskenlerin eksik deger durumu yapisaldir. Bu kritik bir durumdur. Herhangi bir doldurma yapmadan once yapisallik sorunu giderilmelidir. Aksi takdir yapisallik problemi eksik degeleri doldururken ilerleyen surecler de yanli sonuc almamiza sebep olacaktir."
   ]
  },
  {
   "cell_type": "code",
   "execution_count": 14,
   "metadata": {},
   "outputs": [
    {
     "data": {
      "text/plain": [
       "<matplotlib.axes._subplots.AxesSubplot at 0x2293771d548>"
      ]
     },
     "execution_count": 14,
     "metadata": {},
     "output_type": "execute_result"
    },
    {
     "data": {
      "image/png": "[encoded data removed]",
      "text/plain": [
       "<Figure size 1800x720 with 1 Axes>"
      ]
     },
     "metadata": {
      "needs_background": "light"
     },
     "output_type": "display_data"
    }
   ],
   "source": [
    "data_visualization.missingvalues_dendogram()"
   ]
  },
  {
   "cell_type": "markdown",
   "metadata": {},
   "source": [
    "* Eksik degerlerin hangilerinin birlikte kumelendigini gormek adina dendograma da bakabiliriz."
   ]
  },
  {
   "cell_type": "code",
   "execution_count": 15,
   "metadata": {},
   "outputs": [
    {
     "data": {
      "text/plain": [
       "<matplotlib.axes._subplots.AxesSubplot at 0x229388c1388>"
      ]
     },
     "execution_count": 15,
     "metadata": {},
     "output_type": "execute_result"
    },
    {
     "data": {
      "image/png": "[encoded data removed]",
      "text/plain": [
       "<Figure size 612x396 with 1 Axes>"
      ]
     },
     "metadata": {
      "needs_background": "light"
     },
     "output_type": "display_data"
    }
   ],
   "source": [
    "data_visualization.bar(\"reason\",\"value\")"
   ]
  },
  {
   "cell_type": "code",
   "execution_count": 16,
   "metadata": {},
   "outputs": [
    {
     "data": {
      "text/plain": [
       "<matplotlib.axes._subplots.AxesSubplot at 0x2293877fac8>"
      ]
     },
     "execution_count": 16,
     "metadata": {},
     "output_type": "execute_result"
    },
    {
     "data": {
      "image/png": "[encoded data removed]",
      "text/plain": [
       "<Figure size 612x396 with 1 Axes>"
      ]
     },
     "metadata": {
      "needs_background": "light"
     },
     "output_type": "display_data"
    }
   ],
   "source": [
    "data_visualization.bar(\"job\",\"value\")"
   ]
  },
  {
   "cell_type": "code",
   "execution_count": 17,
   "metadata": {},
   "outputs": [
    {
     "data": {
      "text/plain": [
       "<matplotlib.axes._subplots.AxesSubplot at 0x22938398b08>"
      ]
     },
     "execution_count": 17,
     "metadata": {},
     "output_type": "execute_result"
    },
    {
     "data": {
      "image/png": "[encoded data removed]",
      "text/plain": [
       "<Figure size 612x396 with 1 Axes>"
      ]
     },
     "metadata": {
      "needs_background": "light"
     },
     "output_type": "display_data"
    }
   ],
   "source": [
    "data_visualization.bar(\"job\",\"value\",\"reason\")"
   ]
  },
  {
   "cell_type": "markdown",
   "metadata": {},
   "source": [
    "* Buradaki islemlerimiz de ise kategorik degiskenlerin yanlarinda numeric degiskenlerle birlikte sikligina baktik. Daha sonra birde bir kategorik degisken kirilimin da daha inceledik bu bize arka planda olanlari anlamamız acisindan daha yardimci olacak durumlardan biridir. "
   ]
  },
  {
   "cell_type": "code",
   "execution_count": 18,
   "metadata": {},
   "outputs": [
    {
     "data": {
      "text/plain": [
       "<matplotlib.axes._subplots.AxesSubplot at 0x22938398748>"
      ]
     },
     "execution_count": 18,
     "metadata": {},
     "output_type": "execute_result"
    },
    {
     "data": {
      "image/png": "[encoded data removed]",
      "text/plain": [
       "<Figure size 432x288 with 1 Axes>"
      ]
     },
     "metadata": {
      "needs_background": "light"
     },
     "output_type": "display_data"
    }
   ],
   "source": [
    "data_visualization.boxplot(\"value\")"
   ]
  },
  {
   "cell_type": "code",
   "execution_count": 19,
   "metadata": {},
   "outputs": [
    {
     "data": {
      "text/plain": [
       "<matplotlib.axes._subplots.AxesSubplot at 0x22939d4e708>"
      ]
     },
     "execution_count": 19,
     "metadata": {},
     "output_type": "execute_result"
    },
    {
     "data": {
      "image/png": "[encoded data removed]",
      "text/plain": [
       "<Figure size 432x288 with 1 Axes>"
      ]
     },
     "metadata": {
      "needs_background": "light"
     },
     "output_type": "display_data"
    }
   ],
   "source": [
    "data_visualization.boxplot(\"loan\")"
   ]
  },
  {
   "cell_type": "code",
   "execution_count": 20,
   "metadata": {},
   "outputs": [
    {
     "data": {
      "text/plain": [
       "<matplotlib.axes._subplots.AxesSubplot at 0x22939ddce08>"
      ]
     },
     "execution_count": 20,
     "metadata": {},
     "output_type": "execute_result"
    },
    {
     "data": {
      "image/png": "[encoded data removed]",
      "text/plain": [
       "<Figure size 432x288 with 1 Axes>"
      ]
     },
     "metadata": {
      "needs_background": "light"
     },
     "output_type": "display_data"
    }
   ],
   "source": [
    "data_visualization.boxplot(\"mortdue\")"
   ]
  },
  {
   "cell_type": "markdown",
   "metadata": {},
   "source": [
    "* Bir kritik noktaya daha deginmis bulunuyoruz. Boxplotlar bizim icin ciddi onem tasir sebebi ise outlier degerleri gormemiz de oynadigi roldur. Gorseller de numeric degiskenlere ait outlier degiskenler goruyoruz. Bazi makine ogrenmesi yontemleri bunlara duyarlidir ve yanli sonuclar vermesine sebep olur ayni zamanda ortalamamizi yukari ceker ve genelleme yapmamizi engellerler."
   ]
  },
  {
   "cell_type": "code",
   "execution_count": 21,
   "metadata": {},
   "outputs": [
    {
     "data": {
      "text/plain": [
       "<matplotlib.axes._subplots.AxesSubplot at 0x22939e4c988>"
      ]
     },
     "execution_count": 21,
     "metadata": {},
     "output_type": "execute_result"
    },
    {
     "data": {
      "image/png": "[encoded data removed]",
      "text/plain": [
       "<Figure size 576x432 with 1 Axes>"
      ]
     },
     "metadata": {
      "needs_background": "light"
     },
     "output_type": "display_data"
    }
   ],
   "source": [
    "data_visualization.hist(\"mortdue\")"
   ]
  },
  {
   "cell_type": "code",
   "execution_count": 22,
   "metadata": {},
   "outputs": [
    {
     "data": {
      "text/plain": [
       "<matplotlib.axes._subplots.AxesSubplot at 0x22938284808>"
      ]
     },
     "execution_count": 22,
     "metadata": {},
     "output_type": "execute_result"
    },
    {
     "data": {
      "image/png": "[encoded data removed]",
      "text/plain": [
       "<Figure size 576x432 with 1 Axes>"
      ]
     },
     "metadata": {
      "needs_background": "light"
     },
     "output_type": "display_data"
    }
   ],
   "source": [
    "data_visualization.hist(\"value\")"
   ]
  },
  {
   "cell_type": "code",
   "execution_count": 23,
   "metadata": {},
   "outputs": [
    {
     "data": {
      "text/plain": [
       "<matplotlib.axes._subplots.AxesSubplot at 0x2293a28f088>"
      ]
     },
     "execution_count": 23,
     "metadata": {},
     "output_type": "execute_result"
    },
    {
     "data": {
      "image/png": "[encoded data removed]",
      "text/plain": [
       "<Figure size 576x432 with 1 Axes>"
      ]
     },
     "metadata": {
      "needs_background": "light"
     },
     "output_type": "display_data"
    }
   ],
   "source": [
    "data_visualization.hist(\"loan\")"
   ]
  },
  {
   "cell_type": "markdown",
   "metadata": {},
   "source": [
    "* 3 adet numeric degiskenmizi histogram yogunluk grafigi ile birlikte ele aldik. Y eksenin de frekanslarin standartlastirilmis hali var iken X eksenin de ise degiskenlere ait degerlerin baslangic ve bitis kisimlarini goruyoruz. Buradan carpiklik basiklik ortalama gibi dagilimin nasil yayildigi gibi sonculari gormemizi sagliyor. "
   ]
  },
  {
   "cell_type": "code",
   "execution_count": 24,
   "metadata": {},
   "outputs": [
    {
     "data": {
      "text/plain": [
       "<seaborn.axisgrid.FacetGrid at 0x22939d67dc8>"
      ]
     },
     "execution_count": 24,
     "metadata": {},
     "output_type": "execute_result"
    },
    {
     "data": {
      "image/png": "[encoded data removed]",
      "text/plain": [
       "<Figure size 427.875x360 with 1 Axes>"
      ]
     },
     "metadata": {
      "needs_background": "light"
     },
     "output_type": "display_data"
    }
   ],
   "source": [
    "data_visualization.hist1(\"value\",\"job\")"
   ]
  },
  {
   "cell_type": "markdown",
   "metadata": {},
   "source": [
    "* Evet yogunluk grafigini gormustuk ama asil olayin bunun arkasindaki kirilim oldugunu unutmamak gerekli. Baktigimiz zaman aslinda yogunlugu olsuturan siniflarin hangilerini oldugunu gorebiliyoruz. Ayni zaman siniflarin numeric degiskene gore dagilimi hakkinda da guzel bir bilgi edine biliyoruz"
   ]
  },
  {
   "cell_type": "code",
   "execution_count": 25,
   "metadata": {},
   "outputs": [
    {
     "data": {
      "text/plain": [
       "<matplotlib.axes._subplots.AxesSubplot at 0x2293a58fc48>"
      ]
     },
     "execution_count": 25,
     "metadata": {},
     "output_type": "execute_result"
    },
    {
     "data": {
      "image/png": "[encoded data removed]",
      "text/plain": [
       "<Figure size 432x288 with 1 Axes>"
      ]
     },
     "metadata": {
      "needs_background": "light"
     },
     "output_type": "display_data"
    }
   ],
   "source": [
    "data_visualization.scatter(\"value\",\"delinq\")"
   ]
  },
  {
   "cell_type": "code",
   "execution_count": 26,
   "metadata": {},
   "outputs": [
    {
     "data": {
      "text/plain": [
       "<matplotlib.axes._subplots.AxesSubplot at 0x2293a5f9488>"
      ]
     },
     "execution_count": 26,
     "metadata": {},
     "output_type": "execute_result"
    },
    {
     "data": {
      "image/png": "[encoded data removed]",
      "text/plain": [
       "<Figure size 432x288 with 1 Axes>"
      ]
     },
     "metadata": {
      "needs_background": "light"
     },
     "output_type": "display_data"
    }
   ],
   "source": [
    "data_visualization.scatter(\"value\",\"loan\")"
   ]
  },
  {
   "cell_type": "code",
   "execution_count": 27,
   "metadata": {},
   "outputs": [
    {
     "data": {
      "text/plain": [
       "<matplotlib.axes._subplots.AxesSubplot at 0x2293a5a0f88>"
      ]
     },
     "execution_count": 27,
     "metadata": {},
     "output_type": "execute_result"
    },
    {
     "data": {
      "image/png": "[encoded data removed]",
      "text/plain": [
       "<Figure size 432x288 with 1 Axes>"
      ]
     },
     "metadata": {
      "needs_background": "light"
     },
     "output_type": "display_data"
    }
   ],
   "source": [
    "data_visualization.scatter(\"value\",\"loan\",\"job\")"
   ]
  },
  {
   "cell_type": "markdown",
   "metadata": {},
   "source": [
    "* Son olarak degiskenler arasindaki iliskileri Scatter plot ile inceledik ve boylelikle degiskenlerin birbirileri ile iliskisi hakkinda gozle gorulur sonculari elde ettik. Son grafikte ayni zamanda bu iliskinin kategorik degisken kiriliminda nasil dagildigini da gorebiliyoruz."
   ]
  },
  {
   "cell_type": "code",
   "execution_count": null,
   "metadata": {},
   "outputs": [],
   "source": []
  },
  {
   "cell_type": "code",
   "execution_count": null,
   "metadata": {},
   "outputs": [],
   "source": []
  },
  {
   "cell_type": "code",
   "execution_count": null,
   "metadata": {},
   "outputs": [],
   "source": []
  },
  {
   "cell_type": "markdown",
   "metadata": {},
   "source": [
    "## BAD degiskenin borcunu odedi ve odemedi olarak degistirelim"
   ]
  },
  {
   "cell_type": "code",
   "execution_count": 28,
   "metadata": {},
   "outputs": [],
   "source": [
    "a = df[\"bad\"] == 0 \n",
    "df[\"bad\"][a] = \"borcunu_odedi\"\n",
    "\n",
    "b = df[\"bad\"] == 1 \n",
    "df[\"bad\"][b] = \"borcunu_odemedi\"\n",
    "\n",
    "df = df.astype({\"bad\":object})\n"
   ]
  },
  {
   "cell_type": "code",
   "execution_count": 29,
   "metadata": {},
   "outputs": [
    {
     "data": {
      "text/plain": [
       "bad    object\n",
       "dtype: object"
      ]
     },
     "execution_count": 29,
     "metadata": {},
     "output_type": "execute_result"
    }
   ],
   "source": [
    "df.dtypes[0:1]"
   ]
  },
  {
   "cell_type": "code",
   "execution_count": null,
   "metadata": {},
   "outputs": [],
   "source": []
  },
  {
   "cell_type": "code",
   "execution_count": null,
   "metadata": {},
   "outputs": [],
   "source": []
  },
  {
   "cell_type": "markdown",
   "metadata": {},
   "source": [
    "## Istatistiki Testlerimize Gecelim"
   ]
  },
  {
   "cell_type": "markdown",
   "metadata": {},
   "source": [
    "### Job degiskenin siniflarina gore talep ettikleri kredi miktari arasinda anlamli bir farklilik var midir?"
   ]
  },
  {
   "cell_type": "code",
   "execution_count": 30,
   "metadata": {},
   "outputs": [],
   "source": [
    "from scipy import stats\n",
    "from scipy.stats import shapiro\n",
    "import statsmodels.api as sm\n",
    "from statsmodels.formula.api import ols\n",
    "import numpy as np"
   ]
  },
  {
   "cell_type": "code",
   "execution_count": 31,
   "metadata": {},
   "outputs": [],
   "source": [
    "from scipy import stats\n",
    "#>>\n",
    "df.dropna(inplace=True)\n",
    "\n",
    "#>>\n",
    "df1 = df[[\"loan\",\"job\"]]\n",
    "\n",
    "#>>\n",
    "group = pd.unique(df1.job.values)\n",
    "\n",
    "#>>\n",
    "d_v1 = {grp:df1[\"loan\"][df1.job == grp] for grp in group}\n",
    "\n",
    "#>>\n",
    "f, p = stats.f_oneway(d_v1['Mgr'],d_v1['Office'],d_v1['Other'],d_v1['ProfEx'],d_v1['Sales'],d_v1['Self'])\n"
   ]
  },
  {
   "cell_type": "code",
   "execution_count": 32,
   "metadata": {},
   "outputs": [
    {
     "data": {
      "text/plain": [
       "LeveneResult(statistic=9.865970425114181, pvalue=2.4716559692718906e-09)"
      ]
     },
     "execution_count": 32,
     "metadata": {},
     "output_type": "execute_result"
    }
   ],
   "source": [
    "stats.levene(d_v1['Mgr'],d_v1['Office'],d_v1['Other'],d_v1['ProfEx'],d_v1['Sales'],d_v1['Self'])"
   ]
  },
  {
   "cell_type": "code",
   "execution_count": 33,
   "metadata": {},
   "outputs": [
    {
     "name": "stdout",
     "output_type": "stream",
     "text": [
      "meg sinifi p-value: 1.9341280221851775e-06\n",
      "Office sinifi p-value: 2.6599411082146163e-20\n",
      "Other sinifi p-value: 6.706212903856413e-32\n",
      "ProfEx sinifi p-value: 2.4288360595491314e-15\n",
      "Sales sinifi p-value: 0.00980952475219965\n",
      "Self sinifi p-value: 8.54066020110622e-05\n"
     ]
    }
   ],
   "source": [
    "from scipy.stats import shapiro\n",
    "print(\"meg sinifi p-value:\",shapiro(d_v1['Mgr'])[1])\n",
    "print(\"Office sinifi p-value:\",shapiro(d_v1['Office'])[1])\n",
    "print(\"Other sinifi p-value:\",shapiro(d_v1['Other'])[1])\n",
    "print(\"ProfEx sinifi p-value:\",shapiro(d_v1['ProfEx'])[1])\n",
    "print(\"Sales sinifi p-value:\",shapiro(d_v1['Sales'])[1])\n",
    "print(\"Self sinifi p-value:\",shapiro(d_v1['Self'])[1])\n"
   ]
  },
  {
   "cell_type": "code",
   "execution_count": 34,
   "metadata": {},
   "outputs": [
    {
     "data": {
      "text/plain": [
       "(24.265429258068746, 8.750708412782003e-24)"
      ]
     },
     "execution_count": 34,
     "metadata": {},
     "output_type": "execute_result"
    }
   ],
   "source": [
    "f, p"
   ]
  },
  {
   "cell_type": "code",
   "execution_count": 35,
   "metadata": {},
   "outputs": [],
   "source": [
    "f, p = stats.kruskal(d_v1['Mgr'],d_v1['Office'],d_v1['Other'],d_v1['ProfEx'],d_v1['Sales'],d_v1['Self'])"
   ]
  },
  {
   "cell_type": "code",
   "execution_count": 36,
   "metadata": {},
   "outputs": [
    {
     "data": {
      "text/plain": [
       "(89.18891986046953, 9.946764248161966e-18)"
      ]
     },
     "execution_count": 36,
     "metadata": {},
     "output_type": "execute_result"
    }
   ],
   "source": [
    "f, p"
   ]
  },
  {
   "cell_type": "markdown",
   "metadata": {},
   "source": [
    "### Sonuca gore sinfilarin degerleri normal dagilmiyor, varyanslar homejen degildir. Normalde bu durumda non parametrik karsiligini yapmamiz lazim biz ikisinide yaptik ve elde ettigimiz sonuclara gore JOB degiskenin sifinlari arasinda kredi talep miktarlari acisindan istatistiksel olarak anlamli bir farklilik vardir. "
   ]
  },
  {
   "cell_type": "code",
   "execution_count": null,
   "metadata": {},
   "outputs": [],
   "source": []
  },
  {
   "cell_type": "code",
   "execution_count": null,
   "metadata": {},
   "outputs": [],
   "source": []
  },
  {
   "cell_type": "markdown",
   "metadata": {},
   "source": [
    "## Bagimsiz iki orneklem T testi yapalim"
   ]
  },
  {
   "cell_type": "code",
   "execution_count": 37,
   "metadata": {},
   "outputs": [],
   "source": [
    "df1 = df[[\"value\",\"bad\"]]\n",
    "\n",
    "group = pd.unique(df1.bad.values)\n",
    "\n",
    "d_v1 = {grp:df1[\"value\"][df1.bad == grp] for grp in group}"
   ]
  },
  {
   "cell_type": "code",
   "execution_count": 38,
   "metadata": {},
   "outputs": [
    {
     "name": "stdout",
     "output_type": "stream",
     "text": [
      "borcunu_odedi sinifi p-value: 5.560680210281526e-38\n",
      "borcunu_odemedi sinifi p-value: 1.3988843091622356e-16\n"
     ]
    }
   ],
   "source": [
    "print(\"borcunu_odedi sinifi p-value:\",shapiro(d_v1['borcunu_odedi'])[1])\n",
    "print(\"borcunu_odemedi sinifi p-value:\",shapiro(d_v1['borcunu_odemedi'])[1])"
   ]
  },
  {
   "cell_type": "code",
   "execution_count": 39,
   "metadata": {},
   "outputs": [
    {
     "data": {
      "text/plain": [
       "LeveneResult(statistic=3.9912413972700382, pvalue=0.0458714974437462)"
      ]
     },
     "execution_count": 39,
     "metadata": {},
     "output_type": "execute_result"
    }
   ],
   "source": [
    "stats.levene(d_v1['borcunu_odedi'],d_v1['borcunu_odemedi'])"
   ]
  },
  {
   "cell_type": "code",
   "execution_count": 40,
   "metadata": {},
   "outputs": [
    {
     "data": {
      "text/plain": [
       "Ttest_indResult(statistic=1.1223807598767526, pvalue=0.26306533335850973)"
      ]
     },
     "execution_count": 40,
     "metadata": {},
     "output_type": "execute_result"
    }
   ],
   "source": [
    "stats.ttest_ind(d_v1['borcunu_odedi'],d_v1['borcunu_odemedi'],equal_var=False)"
   ]
  },
  {
   "cell_type": "markdown",
   "metadata": {},
   "source": [
    "### Sonuclari sirasiyla yorumladigimiz zaman sunu goruyoruz siniflarin degerleri normal dagilmiyor ve varyanslari homojen degildir. Bu durumda Equal varyansi False yapiyoruz. Elde ettigimiz sonuca gore H0 red edilemez. Temerrüte dusen ve dusmeyen musterilerin malk varliklari arasinda istatistiksel olarak anlamli bir sonuc bulunamamistir."
   ]
  },
  {
   "cell_type": "code",
   "execution_count": null,
   "metadata": {},
   "outputs": [],
   "source": []
  },
  {
   "cell_type": "code",
   "execution_count": null,
   "metadata": {},
   "outputs": [],
   "source": []
  },
  {
   "cell_type": "code",
   "execution_count": null,
   "metadata": {},
   "outputs": [],
   "source": []
  },
  {
   "cell_type": "code",
   "execution_count": null,
   "metadata": {},
   "outputs": [],
   "source": []
  },
  {
   "cell_type": "code",
   "execution_count": null,
   "metadata": {},
   "outputs": [],
   "source": []
  },
  {
   "cell_type": "code",
   "execution_count": null,
   "metadata": {},
   "outputs": [],
   "source": []
  },
  {
   "cell_type": "markdown",
   "metadata": {},
   "source": [
    "## Tum istatistiki ve Gorsellestirme Islemlerini gerceklestirdik Simdi sirada Lojistik Regresyon ile siniflandirma kismini halledecegiz"
   ]
  },
  {
   "cell_type": "code",
   "execution_count": null,
   "metadata": {},
   "outputs": [],
   "source": []
  },
  {
   "cell_type": "code",
   "execution_count": 41,
   "metadata": {},
   "outputs": [],
   "source": [
    "df1 = df"
   ]
  },
  {
   "cell_type": "code",
   "execution_count": 42,
   "metadata": {},
   "outputs": [],
   "source": [
    "df1 = df1.dropna()"
   ]
  },
  {
   "cell_type": "code",
   "execution_count": 43,
   "metadata": {},
   "outputs": [],
   "source": [
    "from sklearn.preprocessing import LabelEncoder\n",
    "\n",
    "lbe = LabelEncoder()\n",
    "\n",
    "df1[\"bad\"] = lbe.fit_transform(df1[\"bad\"])\n",
    "df1[\"reason\"] = lbe.fit_transform(df1[\"reason\"])\n"
   ]
  },
  {
   "cell_type": "code",
   "execution_count": 44,
   "metadata": {},
   "outputs": [],
   "source": [
    "df1  = pd.get_dummies(df1,columns= [\"job\"], prefix= [\"job\"])"
   ]
  },
  {
   "cell_type": "code",
   "execution_count": 45,
   "metadata": {},
   "outputs": [
    {
     "data": {
      "text/html": [
       "<div>\n",
       "<style scoped>\n",
       "    .dataframe tbody tr th:only-of-type {\n",
       "        vertical-align: middle;\n",
       "    }\n",
       "\n",
       "    .dataframe tbody tr th {\n",
       "        vertical-align: top;\n",
       "    }\n",
       "\n",
       "    .dataframe thead th {\n",
       "        text-align: right;\n",
       "    }\n",
       "</style>\n",
       "<table border=\"1\" class=\"dataframe\">\n",
       "  <thead>\n",
       "    <tr style=\"text-align: right;\">\n",
       "      <th></th>\n",
       "      <th>bad</th>\n",
       "      <th>loan</th>\n",
       "      <th>mortdue</th>\n",
       "      <th>value</th>\n",
       "      <th>reason</th>\n",
       "      <th>yoj</th>\n",
       "      <th>derog</th>\n",
       "      <th>delinq</th>\n",
       "      <th>clage</th>\n",
       "      <th>ninq</th>\n",
       "      <th>clno</th>\n",
       "      <th>debtinc</th>\n",
       "      <th>job_Mgr</th>\n",
       "      <th>job_Office</th>\n",
       "      <th>job_Other</th>\n",
       "      <th>job_ProfEx</th>\n",
       "      <th>job_Sales</th>\n",
       "      <th>job_Self</th>\n",
       "    </tr>\n",
       "  </thead>\n",
       "  <tbody>\n",
       "    <tr>\n",
       "      <th>153</th>\n",
       "      <td>0</td>\n",
       "      <td>18200</td>\n",
       "      <td>94727.0</td>\n",
       "      <td>136877.0</td>\n",
       "      <td>0</td>\n",
       "      <td>15.0</td>\n",
       "      <td>0.0</td>\n",
       "      <td>0.0</td>\n",
       "      <td>168.96</td>\n",
       "      <td>2.0</td>\n",
       "      <td>26.0</td>\n",
       "      <td>36.056</td>\n",
       "      <td>1</td>\n",
       "      <td>0</td>\n",
       "      <td>0</td>\n",
       "      <td>0</td>\n",
       "      <td>0</td>\n",
       "      <td>0</td>\n",
       "    </tr>\n",
       "    <tr>\n",
       "      <th>154</th>\n",
       "      <td>0</td>\n",
       "      <td>21700</td>\n",
       "      <td>79240.0</td>\n",
       "      <td>96784.0</td>\n",
       "      <td>0</td>\n",
       "      <td>5.0</td>\n",
       "      <td>0.0</td>\n",
       "      <td>0.0</td>\n",
       "      <td>64.51</td>\n",
       "      <td>6.0</td>\n",
       "      <td>24.0</td>\n",
       "      <td>38.079</td>\n",
       "      <td>1</td>\n",
       "      <td>0</td>\n",
       "      <td>0</td>\n",
       "      <td>0</td>\n",
       "      <td>0</td>\n",
       "      <td>0</td>\n",
       "    </tr>\n",
       "    <tr>\n",
       "      <th>155</th>\n",
       "      <td>0</td>\n",
       "      <td>34100</td>\n",
       "      <td>241931.0</td>\n",
       "      <td>36486.0</td>\n",
       "      <td>0</td>\n",
       "      <td>1.0</td>\n",
       "      <td>0.0</td>\n",
       "      <td>2.0</td>\n",
       "      <td>196.01</td>\n",
       "      <td>3.0</td>\n",
       "      <td>50.0</td>\n",
       "      <td>42.459</td>\n",
       "      <td>1</td>\n",
       "      <td>0</td>\n",
       "      <td>0</td>\n",
       "      <td>0</td>\n",
       "      <td>0</td>\n",
       "      <td>0</td>\n",
       "    </tr>\n",
       "    <tr>\n",
       "      <th>156</th>\n",
       "      <td>0</td>\n",
       "      <td>8400</td>\n",
       "      <td>62989.0</td>\n",
       "      <td>76718.0</td>\n",
       "      <td>1</td>\n",
       "      <td>3.0</td>\n",
       "      <td>0.0</td>\n",
       "      <td>2.0</td>\n",
       "      <td>131.47</td>\n",
       "      <td>0.0</td>\n",
       "      <td>22.0</td>\n",
       "      <td>29.200</td>\n",
       "      <td>1</td>\n",
       "      <td>0</td>\n",
       "      <td>0</td>\n",
       "      <td>0</td>\n",
       "      <td>0</td>\n",
       "      <td>0</td>\n",
       "    </tr>\n",
       "    <tr>\n",
       "      <th>157</th>\n",
       "      <td>0</td>\n",
       "      <td>17400</td>\n",
       "      <td>25859.0</td>\n",
       "      <td>43684.0</td>\n",
       "      <td>0</td>\n",
       "      <td>16.0</td>\n",
       "      <td>1.0</td>\n",
       "      <td>0.0</td>\n",
       "      <td>95.36</td>\n",
       "      <td>1.0</td>\n",
       "      <td>17.0</td>\n",
       "      <td>27.108</td>\n",
       "      <td>1</td>\n",
       "      <td>0</td>\n",
       "      <td>0</td>\n",
       "      <td>0</td>\n",
       "      <td>0</td>\n",
       "      <td>0</td>\n",
       "    </tr>\n",
       "    <tr>\n",
       "      <th>...</th>\n",
       "      <td>...</td>\n",
       "      <td>...</td>\n",
       "      <td>...</td>\n",
       "      <td>...</td>\n",
       "      <td>...</td>\n",
       "      <td>...</td>\n",
       "      <td>...</td>\n",
       "      <td>...</td>\n",
       "      <td>...</td>\n",
       "      <td>...</td>\n",
       "      <td>...</td>\n",
       "      <td>...</td>\n",
       "      <td>...</td>\n",
       "      <td>...</td>\n",
       "      <td>...</td>\n",
       "      <td>...</td>\n",
       "      <td>...</td>\n",
       "      <td>...</td>\n",
       "    </tr>\n",
       "    <tr>\n",
       "      <th>3544</th>\n",
       "      <td>1</td>\n",
       "      <td>7200</td>\n",
       "      <td>15637.0</td>\n",
       "      <td>39660.0</td>\n",
       "      <td>1</td>\n",
       "      <td>6.0</td>\n",
       "      <td>0.0</td>\n",
       "      <td>1.0</td>\n",
       "      <td>354.24</td>\n",
       "      <td>3.0</td>\n",
       "      <td>42.0</td>\n",
       "      <td>33.624</td>\n",
       "      <td>0</td>\n",
       "      <td>0</td>\n",
       "      <td>0</td>\n",
       "      <td>0</td>\n",
       "      <td>0</td>\n",
       "      <td>1</td>\n",
       "    </tr>\n",
       "    <tr>\n",
       "      <th>3546</th>\n",
       "      <td>1</td>\n",
       "      <td>53400</td>\n",
       "      <td>228236.0</td>\n",
       "      <td>305514.0</td>\n",
       "      <td>1</td>\n",
       "      <td>6.0</td>\n",
       "      <td>0.0</td>\n",
       "      <td>0.0</td>\n",
       "      <td>11.15</td>\n",
       "      <td>0.0</td>\n",
       "      <td>2.0</td>\n",
       "      <td>34.558</td>\n",
       "      <td>0</td>\n",
       "      <td>0</td>\n",
       "      <td>0</td>\n",
       "      <td>0</td>\n",
       "      <td>0</td>\n",
       "      <td>1</td>\n",
       "    </tr>\n",
       "    <tr>\n",
       "      <th>3547</th>\n",
       "      <td>1</td>\n",
       "      <td>27300</td>\n",
       "      <td>106221.0</td>\n",
       "      <td>137727.0</td>\n",
       "      <td>0</td>\n",
       "      <td>3.0</td>\n",
       "      <td>0.0</td>\n",
       "      <td>0.0</td>\n",
       "      <td>300.57</td>\n",
       "      <td>3.0</td>\n",
       "      <td>45.0</td>\n",
       "      <td>32.560</td>\n",
       "      <td>0</td>\n",
       "      <td>0</td>\n",
       "      <td>0</td>\n",
       "      <td>0</td>\n",
       "      <td>0</td>\n",
       "      <td>1</td>\n",
       "    </tr>\n",
       "    <tr>\n",
       "      <th>3548</th>\n",
       "      <td>1</td>\n",
       "      <td>37300</td>\n",
       "      <td>68789.0</td>\n",
       "      <td>86172.0</td>\n",
       "      <td>1</td>\n",
       "      <td>2.0</td>\n",
       "      <td>0.0</td>\n",
       "      <td>6.0</td>\n",
       "      <td>235.64</td>\n",
       "      <td>2.0</td>\n",
       "      <td>25.0</td>\n",
       "      <td>114.051</td>\n",
       "      <td>0</td>\n",
       "      <td>0</td>\n",
       "      <td>0</td>\n",
       "      <td>0</td>\n",
       "      <td>0</td>\n",
       "      <td>1</td>\n",
       "    </tr>\n",
       "    <tr>\n",
       "      <th>3549</th>\n",
       "      <td>1</td>\n",
       "      <td>13300</td>\n",
       "      <td>25698.0</td>\n",
       "      <td>58760.0</td>\n",
       "      <td>1</td>\n",
       "      <td>15.0</td>\n",
       "      <td>0.0</td>\n",
       "      <td>0.0</td>\n",
       "      <td>147.91</td>\n",
       "      <td>1.0</td>\n",
       "      <td>10.0</td>\n",
       "      <td>30.962</td>\n",
       "      <td>0</td>\n",
       "      <td>0</td>\n",
       "      <td>0</td>\n",
       "      <td>0</td>\n",
       "      <td>0</td>\n",
       "      <td>1</td>\n",
       "    </tr>\n",
       "  </tbody>\n",
       "</table>\n",
       "<p>2018 rows × 18 columns</p>\n",
       "</div>"
      ],
      "text/plain": [
       "      bad   loan   mortdue     value  reason   yoj  derog  delinq   clage  \\\n",
       "153     0  18200   94727.0  136877.0       0  15.0    0.0     0.0  168.96   \n",
       "154     0  21700   79240.0   96784.0       0   5.0    0.0     0.0   64.51   \n",
       "155     0  34100  241931.0   36486.0       0   1.0    0.0     2.0  196.01   \n",
       "156     0   8400   62989.0   76718.0       1   3.0    0.0     2.0  131.47   \n",
       "157     0  17400   25859.0   43684.0       0  16.0    1.0     0.0   95.36   \n",
       "...   ...    ...       ...       ...     ...   ...    ...     ...     ...   \n",
       "3544    1   7200   15637.0   39660.0       1   6.0    0.0     1.0  354.24   \n",
       "3546    1  53400  228236.0  305514.0       1   6.0    0.0     0.0   11.15   \n",
       "3547    1  27300  106221.0  137727.0       0   3.0    0.0     0.0  300.57   \n",
       "3548    1  37300   68789.0   86172.0       1   2.0    0.0     6.0  235.64   \n",
       "3549    1  13300   25698.0   58760.0       1  15.0    0.0     0.0  147.91   \n",
       "\n",
       "      ninq  clno  debtinc  job_Mgr  job_Office  job_Other  job_ProfEx  \\\n",
       "153    2.0  26.0   36.056        1           0          0           0   \n",
       "154    6.0  24.0   38.079        1           0          0           0   \n",
       "155    3.0  50.0   42.459        1           0          0           0   \n",
       "156    0.0  22.0   29.200        1           0          0           0   \n",
       "157    1.0  17.0   27.108        1           0          0           0   \n",
       "...    ...   ...      ...      ...         ...        ...         ...   \n",
       "3544   3.0  42.0   33.624        0           0          0           0   \n",
       "3546   0.0   2.0   34.558        0           0          0           0   \n",
       "3547   3.0  45.0   32.560        0           0          0           0   \n",
       "3548   2.0  25.0  114.051        0           0          0           0   \n",
       "3549   1.0  10.0   30.962        0           0          0           0   \n",
       "\n",
       "      job_Sales  job_Self  \n",
       "153           0         0  \n",
       "154           0         0  \n",
       "155           0         0  \n",
       "156           0         0  \n",
       "157           0         0  \n",
       "...         ...       ...  \n",
       "3544          0         1  \n",
       "3546          0         1  \n",
       "3547          0         1  \n",
       "3548          0         1  \n",
       "3549          0         1  \n",
       "\n",
       "[2018 rows x 18 columns]"
      ]
     },
     "execution_count": 45,
     "metadata": {},
     "output_type": "execute_result"
    }
   ],
   "source": [
    "df1"
   ]
  },
  {
   "cell_type": "markdown",
   "metadata": {},
   "source": [
    "### Degisken donusumlerini gerceklestirdik simdi islemlere gecebiliriz. Degisken donusumu algoritmalarin bizden bekledigi bir durum kategorik degiskenler algoritmalar acisindan problem olusturmaktaydi."
   ]
  },
  {
   "cell_type": "code",
   "execution_count": 46,
   "metadata": {},
   "outputs": [],
   "source": [
    "from Classes1 import Methods\n",
    "from sklearn.model_selection import train_test_split\n",
    "\n",
    "y = df1[\"bad\"]\n",
    "X = df1.drop([\"bad\"],axis=1)"
   ]
  },
  {
   "cell_type": "code",
   "execution_count": 47,
   "metadata": {},
   "outputs": [],
   "source": [
    "X_train,X_test,y_train,y_test = train_test_split(X,y,\n",
    "                                                 random_state = 42,\n",
    "                                                 test_size = 0.25)\n",
    "\n",
    "Results = Methods()"
   ]
  },
  {
   "cell_type": "code",
   "execution_count": 48,
   "metadata": {},
   "outputs": [
    {
     "name": "stdout",
     "output_type": "stream",
     "text": [
      "Optimization terminated successfully.\n",
      "         Current function value: 0.236872\n",
      "         Iterations 8\n"
     ]
    },
    {
     "name": "stdin",
     "output_type": "stream",
     "text": [
      "Please enter any method for solver:  liblinear\n"
     ]
    },
    {
     "name": "stdout",
     "output_type": "stream",
     "text": [
      "OLS Results: \n",
      "                            Logit Regression Results                           \n",
      "==============================================================================\n",
      "Dep. Variable:                    bad   No. Observations:                 1513\n",
      "Model:                          Logit   Df Residuals:                     1496\n",
      "Method:                           MLE   Df Model:                           16\n",
      "Date:                Sat, 22 Aug 2020   Pseudo R-squ.:                  0.2280\n",
      "Time:                        17:58:20   Log-Likelihood:                -358.39\n",
      "converged:                       True   LL-Null:                       -464.26\n",
      "Covariance Type:            nonrobust   LLR p-value:                 3.330e-36\n",
      "==============================================================================\n",
      "                 coef    std err          z      P>|z|      [0.025      0.975]\n",
      "------------------------------------------------------------------------------\n",
      "loan       -2.145e-05   1.19e-05     -1.798      0.072   -4.48e-05    1.94e-06\n",
      "mortdue    -1.908e-06   4.94e-06     -0.386      0.700   -1.16e-05    7.78e-06\n",
      "value       4.175e-06   4.22e-06      0.990      0.322   -4.09e-06    1.24e-05\n",
      "reason        -0.1557      0.233     -0.668      0.504      -0.613       0.301\n",
      "yoj           -0.0159      0.015     -1.066      0.286      -0.045       0.013\n",
      "derog          0.5460      0.159      3.434      0.001       0.234       0.858\n",
      "delinq         0.8057      0.108      7.430      0.000       0.593       1.018\n",
      "clage         -0.0038      0.002     -2.505      0.012      -0.007      -0.001\n",
      "ninq           0.1137      0.053      2.140      0.032       0.010       0.218\n",
      "clno          -0.0253      0.012     -2.083      0.037      -0.049      -0.001\n",
      "debtinc        0.1067      0.016      6.563      0.000       0.075       0.139\n",
      "job_Mgr       -5.2311      0.700     -7.477      0.000      -6.602      -3.860\n",
      "job_Office    -5.7151      0.719     -7.949      0.000      -7.124      -4.306\n",
      "job_Other     -5.2858      0.644     -8.212      0.000      -6.547      -4.024\n",
      "job_ProfEx    -5.2987      0.682     -7.765      0.000      -6.636      -3.961\n",
      "job_Sales     -4.6803      0.972     -4.815      0.000      -6.586      -2.775\n",
      "job_Self      -4.5032      0.853     -5.282      0.000      -6.174      -2.832\n",
      "==============================================================================\n",
      "\n",
      "Sklearn Results of intercept and coef: \n",
      "\n",
      "Intercept: \n",
      " [-0.00460642]\n",
      "Coef: \n",
      " [[-3.04537925e-05  1.30228422e-07 -2.49020610e-06 -1.97473156e-03\n",
      "  -2.87319313e-02  8.99927303e-03  2.04348232e-02 -7.54477939e-03\n",
      "   6.29865549e-03 -2.86427505e-02  1.97070747e-02 -1.13417510e-05\n",
      "  -1.58542053e-03 -3.13982434e-03 -1.00253789e-03  2.84438673e-04\n",
      "   8.48263486e-04]]\n",
      "------------------------------------\n",
      "------------------------------------\n",
      "------------------------------------\n",
      "OLS and Sklearn result are diffrent beacuse OLS result haven't Intercept\n"
     ]
    }
   ],
   "source": [
    "Results.LogitReg(X_train, y_train, X_test, y_test)"
   ]
  },
  {
   "cell_type": "code",
   "execution_count": null,
   "metadata": {},
   "outputs": [],
   "source": []
  },
  {
   "cell_type": "markdown",
   "metadata": {},
   "source": [
    "### Sonuclara gectigimiz zaman sunu goruyoruz Modelimiz genel olarak anlamli ve bazi degiskenlerimiz ise anlamsiz simdi bu degiskenlerden en yuksek olani atarak devam edecegiz ve tekrar sonuclara bakacagiz."
   ]
  },
  {
   "cell_type": "code",
   "execution_count": 49,
   "metadata": {},
   "outputs": [
    {
     "data": {
      "text/html": [
       "<div>\n",
       "<style scoped>\n",
       "    .dataframe tbody tr th:only-of-type {\n",
       "        vertical-align: middle;\n",
       "    }\n",
       "\n",
       "    .dataframe tbody tr th {\n",
       "        vertical-align: top;\n",
       "    }\n",
       "\n",
       "    .dataframe thead th {\n",
       "        text-align: right;\n",
       "    }\n",
       "</style>\n",
       "<table border=\"1\" class=\"dataframe\">\n",
       "  <thead>\n",
       "    <tr style=\"text-align: right;\">\n",
       "      <th></th>\n",
       "      <th>bad</th>\n",
       "      <th>loan</th>\n",
       "      <th>value</th>\n",
       "      <th>reason</th>\n",
       "      <th>yoj</th>\n",
       "      <th>derog</th>\n",
       "      <th>delinq</th>\n",
       "      <th>clage</th>\n",
       "      <th>ninq</th>\n",
       "      <th>clno</th>\n",
       "      <th>debtinc</th>\n",
       "      <th>job_Mgr</th>\n",
       "      <th>job_Office</th>\n",
       "      <th>job_Other</th>\n",
       "      <th>job_ProfEx</th>\n",
       "      <th>job_Sales</th>\n",
       "      <th>job_Self</th>\n",
       "    </tr>\n",
       "  </thead>\n",
       "  <tbody>\n",
       "    <tr>\n",
       "      <th>153</th>\n",
       "      <td>0</td>\n",
       "      <td>18200</td>\n",
       "      <td>136877.0</td>\n",
       "      <td>0</td>\n",
       "      <td>15.0</td>\n",
       "      <td>0.0</td>\n",
       "      <td>0.0</td>\n",
       "      <td>168.96</td>\n",
       "      <td>2.0</td>\n",
       "      <td>26.0</td>\n",
       "      <td>36.056</td>\n",
       "      <td>1</td>\n",
       "      <td>0</td>\n",
       "      <td>0</td>\n",
       "      <td>0</td>\n",
       "      <td>0</td>\n",
       "      <td>0</td>\n",
       "    </tr>\n",
       "    <tr>\n",
       "      <th>154</th>\n",
       "      <td>0</td>\n",
       "      <td>21700</td>\n",
       "      <td>96784.0</td>\n",
       "      <td>0</td>\n",
       "      <td>5.0</td>\n",
       "      <td>0.0</td>\n",
       "      <td>0.0</td>\n",
       "      <td>64.51</td>\n",
       "      <td>6.0</td>\n",
       "      <td>24.0</td>\n",
       "      <td>38.079</td>\n",
       "      <td>1</td>\n",
       "      <td>0</td>\n",
       "      <td>0</td>\n",
       "      <td>0</td>\n",
       "      <td>0</td>\n",
       "      <td>0</td>\n",
       "    </tr>\n",
       "    <tr>\n",
       "      <th>155</th>\n",
       "      <td>0</td>\n",
       "      <td>34100</td>\n",
       "      <td>36486.0</td>\n",
       "      <td>0</td>\n",
       "      <td>1.0</td>\n",
       "      <td>0.0</td>\n",
       "      <td>2.0</td>\n",
       "      <td>196.01</td>\n",
       "      <td>3.0</td>\n",
       "      <td>50.0</td>\n",
       "      <td>42.459</td>\n",
       "      <td>1</td>\n",
       "      <td>0</td>\n",
       "      <td>0</td>\n",
       "      <td>0</td>\n",
       "      <td>0</td>\n",
       "      <td>0</td>\n",
       "    </tr>\n",
       "    <tr>\n",
       "      <th>156</th>\n",
       "      <td>0</td>\n",
       "      <td>8400</td>\n",
       "      <td>76718.0</td>\n",
       "      <td>1</td>\n",
       "      <td>3.0</td>\n",
       "      <td>0.0</td>\n",
       "      <td>2.0</td>\n",
       "      <td>131.47</td>\n",
       "      <td>0.0</td>\n",
       "      <td>22.0</td>\n",
       "      <td>29.200</td>\n",
       "      <td>1</td>\n",
       "      <td>0</td>\n",
       "      <td>0</td>\n",
       "      <td>0</td>\n",
       "      <td>0</td>\n",
       "      <td>0</td>\n",
       "    </tr>\n",
       "    <tr>\n",
       "      <th>157</th>\n",
       "      <td>0</td>\n",
       "      <td>17400</td>\n",
       "      <td>43684.0</td>\n",
       "      <td>0</td>\n",
       "      <td>16.0</td>\n",
       "      <td>1.0</td>\n",
       "      <td>0.0</td>\n",
       "      <td>95.36</td>\n",
       "      <td>1.0</td>\n",
       "      <td>17.0</td>\n",
       "      <td>27.108</td>\n",
       "      <td>1</td>\n",
       "      <td>0</td>\n",
       "      <td>0</td>\n",
       "      <td>0</td>\n",
       "      <td>0</td>\n",
       "      <td>0</td>\n",
       "    </tr>\n",
       "    <tr>\n",
       "      <th>...</th>\n",
       "      <td>...</td>\n",
       "      <td>...</td>\n",
       "      <td>...</td>\n",
       "      <td>...</td>\n",
       "      <td>...</td>\n",
       "      <td>...</td>\n",
       "      <td>...</td>\n",
       "      <td>...</td>\n",
       "      <td>...</td>\n",
       "      <td>...</td>\n",
       "      <td>...</td>\n",
       "      <td>...</td>\n",
       "      <td>...</td>\n",
       "      <td>...</td>\n",
       "      <td>...</td>\n",
       "      <td>...</td>\n",
       "      <td>...</td>\n",
       "    </tr>\n",
       "    <tr>\n",
       "      <th>3544</th>\n",
       "      <td>1</td>\n",
       "      <td>7200</td>\n",
       "      <td>39660.0</td>\n",
       "      <td>1</td>\n",
       "      <td>6.0</td>\n",
       "      <td>0.0</td>\n",
       "      <td>1.0</td>\n",
       "      <td>354.24</td>\n",
       "      <td>3.0</td>\n",
       "      <td>42.0</td>\n",
       "      <td>33.624</td>\n",
       "      <td>0</td>\n",
       "      <td>0</td>\n",
       "      <td>0</td>\n",
       "      <td>0</td>\n",
       "      <td>0</td>\n",
       "      <td>1</td>\n",
       "    </tr>\n",
       "    <tr>\n",
       "      <th>3546</th>\n",
       "      <td>1</td>\n",
       "      <td>53400</td>\n",
       "      <td>305514.0</td>\n",
       "      <td>1</td>\n",
       "      <td>6.0</td>\n",
       "      <td>0.0</td>\n",
       "      <td>0.0</td>\n",
       "      <td>11.15</td>\n",
       "      <td>0.0</td>\n",
       "      <td>2.0</td>\n",
       "      <td>34.558</td>\n",
       "      <td>0</td>\n",
       "      <td>0</td>\n",
       "      <td>0</td>\n",
       "      <td>0</td>\n",
       "      <td>0</td>\n",
       "      <td>1</td>\n",
       "    </tr>\n",
       "    <tr>\n",
       "      <th>3547</th>\n",
       "      <td>1</td>\n",
       "      <td>27300</td>\n",
       "      <td>137727.0</td>\n",
       "      <td>0</td>\n",
       "      <td>3.0</td>\n",
       "      <td>0.0</td>\n",
       "      <td>0.0</td>\n",
       "      <td>300.57</td>\n",
       "      <td>3.0</td>\n",
       "      <td>45.0</td>\n",
       "      <td>32.560</td>\n",
       "      <td>0</td>\n",
       "      <td>0</td>\n",
       "      <td>0</td>\n",
       "      <td>0</td>\n",
       "      <td>0</td>\n",
       "      <td>1</td>\n",
       "    </tr>\n",
       "    <tr>\n",
       "      <th>3548</th>\n",
       "      <td>1</td>\n",
       "      <td>37300</td>\n",
       "      <td>86172.0</td>\n",
       "      <td>1</td>\n",
       "      <td>2.0</td>\n",
       "      <td>0.0</td>\n",
       "      <td>6.0</td>\n",
       "      <td>235.64</td>\n",
       "      <td>2.0</td>\n",
       "      <td>25.0</td>\n",
       "      <td>114.051</td>\n",
       "      <td>0</td>\n",
       "      <td>0</td>\n",
       "      <td>0</td>\n",
       "      <td>0</td>\n",
       "      <td>0</td>\n",
       "      <td>1</td>\n",
       "    </tr>\n",
       "    <tr>\n",
       "      <th>3549</th>\n",
       "      <td>1</td>\n",
       "      <td>13300</td>\n",
       "      <td>58760.0</td>\n",
       "      <td>1</td>\n",
       "      <td>15.0</td>\n",
       "      <td>0.0</td>\n",
       "      <td>0.0</td>\n",
       "      <td>147.91</td>\n",
       "      <td>1.0</td>\n",
       "      <td>10.0</td>\n",
       "      <td>30.962</td>\n",
       "      <td>0</td>\n",
       "      <td>0</td>\n",
       "      <td>0</td>\n",
       "      <td>0</td>\n",
       "      <td>0</td>\n",
       "      <td>1</td>\n",
       "    </tr>\n",
       "  </tbody>\n",
       "</table>\n",
       "<p>2018 rows × 17 columns</p>\n",
       "</div>"
      ],
      "text/plain": [
       "      bad   loan     value  reason   yoj  derog  delinq   clage  ninq  clno  \\\n",
       "153     0  18200  136877.0       0  15.0    0.0     0.0  168.96   2.0  26.0   \n",
       "154     0  21700   96784.0       0   5.0    0.0     0.0   64.51   6.0  24.0   \n",
       "155     0  34100   36486.0       0   1.0    0.0     2.0  196.01   3.0  50.0   \n",
       "156     0   8400   76718.0       1   3.0    0.0     2.0  131.47   0.0  22.0   \n",
       "157     0  17400   43684.0       0  16.0    1.0     0.0   95.36   1.0  17.0   \n",
       "...   ...    ...       ...     ...   ...    ...     ...     ...   ...   ...   \n",
       "3544    1   7200   39660.0       1   6.0    0.0     1.0  354.24   3.0  42.0   \n",
       "3546    1  53400  305514.0       1   6.0    0.0     0.0   11.15   0.0   2.0   \n",
       "3547    1  27300  137727.0       0   3.0    0.0     0.0  300.57   3.0  45.0   \n",
       "3548    1  37300   86172.0       1   2.0    0.0     6.0  235.64   2.0  25.0   \n",
       "3549    1  13300   58760.0       1  15.0    0.0     0.0  147.91   1.0  10.0   \n",
       "\n",
       "      debtinc  job_Mgr  job_Office  job_Other  job_ProfEx  job_Sales  job_Self  \n",
       "153    36.056        1           0          0           0          0         0  \n",
       "154    38.079        1           0          0           0          0         0  \n",
       "155    42.459        1           0          0           0          0         0  \n",
       "156    29.200        1           0          0           0          0         0  \n",
       "157    27.108        1           0          0           0          0         0  \n",
       "...       ...      ...         ...        ...         ...        ...       ...  \n",
       "3544   33.624        0           0          0           0          0         1  \n",
       "3546   34.558        0           0          0           0          0         1  \n",
       "3547   32.560        0           0          0           0          0         1  \n",
       "3548  114.051        0           0          0           0          0         1  \n",
       "3549   30.962        0           0          0           0          0         1  \n",
       "\n",
       "[2018 rows x 17 columns]"
      ]
     },
     "execution_count": 49,
     "metadata": {},
     "output_type": "execute_result"
    }
   ],
   "source": [
    "df1 = df1.drop(\"mortdue\",axis=1)\n",
    "df1"
   ]
  },
  {
   "cell_type": "code",
   "execution_count": 50,
   "metadata": {},
   "outputs": [
    {
     "name": "stdout",
     "output_type": "stream",
     "text": [
      "Optimization terminated successfully.\n",
      "         Current function value: 0.236923\n",
      "         Iterations 8\n"
     ]
    },
    {
     "name": "stdin",
     "output_type": "stream",
     "text": [
      "Please enter any method for solver:  liblinear\n"
     ]
    },
    {
     "name": "stdout",
     "output_type": "stream",
     "text": [
      "OLS Results: \n",
      "                            Logit Regression Results                           \n",
      "==============================================================================\n",
      "Dep. Variable:                    bad   No. Observations:                 1513\n",
      "Model:                          Logit   Df Residuals:                     1497\n",
      "Method:                           MLE   Df Model:                           15\n",
      "Date:                Sat, 22 Aug 2020   Pseudo R-squ.:                  0.2279\n",
      "Time:                        18:00:02   Log-Likelihood:                -358.46\n",
      "converged:                       True   LL-Null:                       -464.26\n",
      "Covariance Type:            nonrobust   LLR p-value:                 9.326e-37\n",
      "==============================================================================\n",
      "                 coef    std err          z      P>|z|      [0.025      0.975]\n",
      "------------------------------------------------------------------------------\n",
      "loan       -2.084e-05   1.18e-05     -1.769      0.077   -4.39e-05    2.26e-06\n",
      "value       2.785e-06   2.13e-06      1.305      0.192    -1.4e-06    6.97e-06\n",
      "reason        -0.1542      0.233     -0.661      0.509      -0.611       0.303\n",
      "yoj           -0.0151      0.015     -1.022      0.307      -0.044       0.014\n",
      "derog          0.5510      0.158      3.482      0.000       0.241       0.861\n",
      "delinq         0.8045      0.108      7.440      0.000       0.593       1.016\n",
      "clage         -0.0038      0.002     -2.481      0.013      -0.007      -0.001\n",
      "ninq           0.1126      0.053      2.122      0.034       0.009       0.217\n",
      "clno          -0.0266      0.012     -2.279      0.023      -0.049      -0.004\n",
      "debtinc        0.1062      0.016      6.557      0.000       0.074       0.138\n",
      "job_Mgr       -5.2212      0.700     -7.461      0.000      -6.593      -3.850\n",
      "job_Office    -5.6837      0.713     -7.968      0.000      -7.082      -4.286\n",
      "job_Other     -5.2602      0.640     -8.225      0.000      -6.514      -4.007\n",
      "job_ProfEx    -5.2729      0.679     -7.771      0.000      -6.603      -3.943\n",
      "job_Sales     -4.6584      0.973     -4.787      0.000      -6.566      -2.751\n",
      "job_Self      -4.4926      0.851     -5.282      0.000      -6.160      -2.826\n",
      "==============================================================================\n",
      "\n",
      "Sklearn Results of intercept and coef: \n",
      "\n",
      "Intercept: \n",
      " [-0.0060725]\n",
      "Coef: \n",
      " [[-2.87016792e-05 -1.94603322e-06 -2.60385138e-03 -3.56743672e-02\n",
      "   1.17058767e-02  2.66110215e-02 -6.93204126e-03  8.00396932e-03\n",
      "  -3.58910986e-02  2.04114066e-02 -1.73577124e-05 -2.07897251e-03\n",
      "  -4.16847477e-03 -1.27810951e-03  3.69575919e-04  1.10083465e-03]]\n",
      "------------------------------------\n",
      "------------------------------------\n",
      "------------------------------------\n",
      "OLS and Sklearn result are diffrent beacuse OLS result haven't Intercept\n"
     ]
    }
   ],
   "source": [
    "y = df1[\"bad\"]\n",
    "X = df1.drop([\"bad\"],axis=1)\n",
    "\n",
    "X_train,X_test,y_train,y_test = train_test_split(X,y,\n",
    "                                                 random_state = 42,\n",
    "                                                 test_size = 0.25)\n",
    "\n",
    "Results = Methods()\n",
    "\n",
    "Results.LogitReg(X_train, y_train, X_test, y_test)"
   ]
  },
  {
   "cell_type": "code",
   "execution_count": null,
   "metadata": {},
   "outputs": [],
   "source": []
  },
  {
   "cell_type": "markdown",
   "metadata": {},
   "source": [
    "### Sonuc olarak bazi degiskenlerin p value degerleri cok az sekilde yukselirken bazilari da yine cok az sekilde dustugunu goruyoruz yine en yuksek anlamsizligi olusturani atalim"
   ]
  },
  {
   "cell_type": "code",
   "execution_count": 51,
   "metadata": {},
   "outputs": [
    {
     "name": "stdout",
     "output_type": "stream",
     "text": [
      "Optimization terminated successfully.\n",
      "         Current function value: 0.237069\n",
      "         Iterations 8\n"
     ]
    },
    {
     "name": "stdin",
     "output_type": "stream",
     "text": [
      "Please enter any method for solver:  liblinear\n"
     ]
    },
    {
     "name": "stdout",
     "output_type": "stream",
     "text": [
      "OLS Results: \n",
      "                            Logit Regression Results                           \n",
      "==============================================================================\n",
      "Dep. Variable:                    bad   No. Observations:                 1513\n",
      "Model:                          Logit   Df Residuals:                     1498\n",
      "Method:                           MLE   Df Model:                           14\n",
      "Date:                Sat, 22 Aug 2020   Pseudo R-squ.:                  0.2274\n",
      "Time:                        18:00:08   Log-Likelihood:                -358.69\n",
      "converged:                       True   LL-Null:                       -464.26\n",
      "Covariance Type:            nonrobust   LLR p-value:                 2.890e-37\n",
      "==============================================================================\n",
      "                 coef    std err          z      P>|z|      [0.025      0.975]\n",
      "------------------------------------------------------------------------------\n",
      "loan       -1.982e-05   1.15e-05     -1.717      0.086   -4.25e-05    2.81e-06\n",
      "value       2.693e-06   2.12e-06      1.268      0.205   -1.47e-06    6.86e-06\n",
      "yoj           -0.0156      0.015     -1.059      0.290      -0.044       0.013\n",
      "derog          0.5521      0.158      3.484      0.000       0.242       0.863\n",
      "delinq         0.7973      0.107      7.440      0.000       0.587       1.007\n",
      "clage         -0.0038      0.002     -2.503      0.012      -0.007      -0.001\n",
      "ninq           0.1174      0.052      2.237      0.025       0.015       0.220\n",
      "clno          -0.0256      0.012     -2.222      0.026      -0.048      -0.003\n",
      "debtinc        0.1054      0.016      6.538      0.000       0.074       0.137\n",
      "job_Mgr       -5.2578      0.697     -7.546      0.000      -6.623      -3.892\n",
      "job_Office    -5.7155      0.710     -8.047      0.000      -7.108      -4.323\n",
      "job_Other     -5.3013      0.636     -8.341      0.000      -6.547      -4.056\n",
      "job_ProfEx    -5.3198      0.674     -7.898      0.000      -6.640      -4.000\n",
      "job_Sales     -4.7059      0.973     -4.835      0.000      -6.613      -2.798\n",
      "job_Self      -4.5710      0.844     -5.417      0.000      -6.225      -2.917\n",
      "==============================================================================\n",
      "\n",
      "Sklearn Results of intercept and coef: \n",
      "\n",
      "Intercept: \n",
      " [-0.00607307]\n",
      "Coef: \n",
      " [[-2.86715037e-05 -1.94877059e-06 -3.56805062e-02  1.17058461e-02\n",
      "   2.66102526e-02 -6.93300908e-03  8.00554127e-03 -3.58899648e-02\n",
      "   2.03875652e-02 -1.72378769e-05 -2.07890017e-03 -4.16901378e-03\n",
      "  -1.27830042e-03  3.69588974e-04  1.10079232e-03]]\n",
      "------------------------------------\n",
      "------------------------------------\n",
      "------------------------------------\n",
      "OLS and Sklearn result are diffrent beacuse OLS result haven't Intercept\n"
     ]
    }
   ],
   "source": [
    "df1 = df1.drop(\"reason\",axis=1)\n",
    "\n",
    "y = df1[\"bad\"]\n",
    "X = df1.drop([\"bad\"],axis=1)\n",
    "\n",
    "X_train,X_test,y_train,y_test = train_test_split(X,y,\n",
    "                                                 random_state = 42,\n",
    "                                                 test_size = 0.25)\n",
    "\n",
    "Results = Methods()\n",
    "\n",
    "Results.LogitReg(X_train, y_train, X_test, y_test)\n"
   ]
  },
  {
   "cell_type": "code",
   "execution_count": null,
   "metadata": {},
   "outputs": [],
   "source": []
  },
  {
   "cell_type": "markdown",
   "metadata": {},
   "source": [
    "### Sonucu tekrar yorumladigimiz zaman R kare de cok dusuk bir deger ile dusus gozukuyorken degiskenlerden cogusunun p value degerleri dusuk bir oranda duserken 2 tanesinin ise yine cok az bir sekilde yukseldigi gozukmekte. Simdi tum degiskenleri kullanarak Hata METRIKLERINE bakalim"
   ]
  },
  {
   "cell_type": "code",
   "execution_count": 52,
   "metadata": {},
   "outputs": [
    {
     "name": "stdout",
     "output_type": "stream",
     "text": [
      "this func shows us Acuary value for both train and test set\n",
      "Then Same kind Confusion Matirx and result details\n",
      "We will see Cross_val values each sets\n",
      "At the end we'll see  ROC CURVE with made of TRAIN set  \n"
     ]
    },
    {
     "name": "stdin",
     "output_type": "stream",
     "text": [
      "Please enter any method for solver:  liblinear\n"
     ]
    },
    {
     "name": "stdout",
     "output_type": "stream",
     "text": [
      "Accuary :  0.9207920792079208\n",
      "-------------------\n",
      "Confusion Matrix: \n",
      " [[465   1]\n",
      " [ 39   0]]\n",
      "-------------------\n",
      "Details: \n",
      "               precision    recall  f1-score   support\n",
      "\n",
      "           0       0.92      1.00      0.96       466\n",
      "           1       0.00      0.00      0.00        39\n",
      "\n",
      "    accuracy                           0.92       505\n",
      "   macro avg       0.46      0.50      0.48       505\n",
      "weighted avg       0.85      0.92      0.88       505\n",
      "\n",
      "-------------------\n",
      "Cross Validaiton About TRAIN and TEST set: \n",
      " 0.9054810038340886  \n",
      " 0.91878431372549\n",
      "-------------------\n",
      "ROC CURVE: \n",
      " (<Figure size 432x288 with 1 Axes>,)\n"
     ]
    },
    {
     "data": {
      "image/png": "[encoded data removed]",
      "text/plain": [
       "<Figure size 432x288 with 1 Axes>"
      ]
     },
     "metadata": {
      "needs_background": "light"
     },
     "output_type": "display_data"
    }
   ],
   "source": [
    "Results.LojPredict(X_train, y_train, X_test, y_test)"
   ]
  },
  {
   "cell_type": "code",
   "execution_count": null,
   "metadata": {},
   "outputs": [],
   "source": []
  },
  {
   "cell_type": "markdown",
   "metadata": {},
   "source": [
    "* Buradaki sonuclari gorunce sunu anlayabiliyoruz bizim modelimizin Accuarcy degeri ne kadar yuksek olsa da 1 olanlari tahmin etme durumu malesef ki yok dene bilecek kadar az iste bunun sebebi ise su:"
   ]
  },
  {
   "cell_type": "code",
   "execution_count": 53,
   "metadata": {},
   "outputs": [
    {
     "data": {
      "image/png": "[encoded data removed]",
      "text/plain": [
       "<Figure size 432x288 with 1 Axes>"
      ]
     },
     "metadata": {
      "needs_background": "light"
     },
     "output_type": "display_data"
    }
   ],
   "source": [
    "df1[\"bad\"].value_counts().plot.barh();"
   ]
  },
  {
   "cell_type": "markdown",
   "metadata": {},
   "source": [
    "* Dengesiz bir veri seti ile calisiyoruz ve boyle sonuclar almamiz ise gayet normal. Bu durumu halletmek icin daha cok 1 olan girisli veriler uretilebilir ama buda kesin ve her zaman olumlu bir sonuc degildir. Bunun yerine 1 durumunu aciklayan daha cok degisken olmasi aciklayicilik kismindan etkili degisken olmasi daha onemlidir."
   ]
  },
  {
   "cell_type": "markdown",
   "metadata": {},
   "source": [
    "* Bu durumu bir nebze iyi etmek adina TRESHOLD degerini dusurebiliriz simdi ona bakacagiz."
   ]
  },
  {
   "cell_type": "code",
   "execution_count": 54,
   "metadata": {},
   "outputs": [
    {
     "name": "stdout",
     "output_type": "stream",
     "text": [
      "This func job is if you given a TRESHOLD value it will use that and shows new results\n",
      "\n"
     ]
    },
    {
     "name": "stdin",
     "output_type": "stream",
     "text": [
      "Please enter any method for solver:  liblinear\n",
      "Please enter TRESHOLD value:  0.3\n"
     ]
    },
    {
     "name": "stdout",
     "output_type": "stream",
     "text": [
      "Accuary :  0.9008592200925314\n",
      "-------------------\n",
      "Confusion Matrix: \n",
      " [[1348   26]\n",
      " [ 124   15]]\n",
      "-------------------\n",
      "Details: \n",
      "               precision    recall  f1-score   support\n",
      "\n",
      "           0       0.92      0.98      0.95      1374\n",
      "           1       0.37      0.11      0.17       139\n",
      "\n",
      "    accuracy                           0.90      1513\n",
      "   macro avg       0.64      0.54      0.56      1513\n",
      "weighted avg       0.87      0.90      0.88      1513\n",
      "\n"
     ]
    }
   ],
   "source": [
    "Results.LogitSelf(X_train, y_train, X_test, y_test)"
   ]
  },
  {
   "cell_type": "markdown",
   "metadata": {},
   "source": [
    "* Otomatik ayarli olan treshold 0.5 iken biz onu 0.3 yaptik ve elde ettigimiz sonucta ufakta olsa bir degisme oldugunu gorebiliyoruz. Bunu 0.25 yapalim bir de oyle gorelim"
   ]
  },
  {
   "cell_type": "code",
   "execution_count": null,
   "metadata": {},
   "outputs": [],
   "source": []
  },
  {
   "cell_type": "code",
   "execution_count": 55,
   "metadata": {},
   "outputs": [
    {
     "name": "stdout",
     "output_type": "stream",
     "text": [
      "This func job is if you given a TRESHOLD value it will use that and shows new results\n",
      "\n"
     ]
    },
    {
     "name": "stdin",
     "output_type": "stream",
     "text": [
      "Please enter any method for solver:  liblinear\n",
      "Please enter TRESHOLD value:  0.25\n"
     ]
    },
    {
     "name": "stdout",
     "output_type": "stream",
     "text": [
      "Accuary :  0.8797091870456047\n",
      "-------------------\n",
      "Confusion Matrix: \n",
      " [[1301   73]\n",
      " [ 109   30]]\n",
      "-------------------\n",
      "Details: \n",
      "               precision    recall  f1-score   support\n",
      "\n",
      "           0       0.92      0.95      0.93      1374\n",
      "           1       0.29      0.22      0.25       139\n",
      "\n",
      "    accuracy                           0.88      1513\n",
      "   macro avg       0.61      0.58      0.59      1513\n",
      "weighted avg       0.86      0.88      0.87      1513\n",
      "\n"
     ]
    }
   ],
   "source": [
    "Results.LogitSelf(X_train, y_train, X_test, y_test)"
   ]
  },
  {
   "cell_type": "markdown",
   "metadata": {},
   "source": [
    "* TRESHOLD 0.25 iken aldigimiz sonuc daha yuksek sadece Accuracy degerin de dusus oluyor ama boylece aslinda daha saglikli bir model kurmus oluyoruz."
   ]
  },
  {
   "cell_type": "markdown",
   "metadata": {},
   "source": [
    "* Bu cok iyi bir cozum olmamakla beraber denene bilecek tarz da seylerden biridir."
   ]
  },
  {
   "cell_type": "code",
   "execution_count": null,
   "metadata": {},
   "outputs": [],
   "source": []
  },
  {
   "cell_type": "markdown",
   "metadata": {},
   "source": [
    "### Buraya ek olarak simdi sunu deneyelim. Bir de scale isleminden sonra elde ettigimiz sonuclari gorelim"
   ]
  },
  {
   "cell_type": "code",
   "execution_count": 56,
   "metadata": {},
   "outputs": [],
   "source": [
    "from sklearn.preprocessing import MinMaxScaler\n",
    "\n",
    "scaler = MinMaxScaler(feature_range = (0,1))\n",
    "col = list(df.select_dtypes(include=[\"float64\",\"int64\"]))\n",
    "\n",
    "df[col] = scaler.fit_transform(df[col])"
   ]
  },
  {
   "cell_type": "code",
   "execution_count": 57,
   "metadata": {},
   "outputs": [
    {
     "data": {
      "text/html": [
       "<div>\n",
       "<style scoped>\n",
       "    .dataframe tbody tr th:only-of-type {\n",
       "        vertical-align: middle;\n",
       "    }\n",
       "\n",
       "    .dataframe tbody tr th {\n",
       "        vertical-align: top;\n",
       "    }\n",
       "\n",
       "    .dataframe thead th {\n",
       "        text-align: right;\n",
       "    }\n",
       "</style>\n",
       "<table border=\"1\" class=\"dataframe\">\n",
       "  <thead>\n",
       "    <tr style=\"text-align: right;\">\n",
       "      <th></th>\n",
       "      <th>count</th>\n",
       "      <th>mean</th>\n",
       "      <th>std</th>\n",
       "      <th>min</th>\n",
       "      <th>25%</th>\n",
       "      <th>50%</th>\n",
       "      <th>75%</th>\n",
       "      <th>max</th>\n",
       "    </tr>\n",
       "  </thead>\n",
       "  <tbody>\n",
       "    <tr>\n",
       "      <th>loan</th>\n",
       "      <td>2018.0</td>\n",
       "      <td>0.196261</td>\n",
       "      <td>0.122093</td>\n",
       "      <td>0.0</td>\n",
       "      <td>0.116780</td>\n",
       "      <td>0.172336</td>\n",
       "      <td>0.248299</td>\n",
       "      <td>1.0</td>\n",
       "    </tr>\n",
       "    <tr>\n",
       "      <th>mortdue</th>\n",
       "      <td>2018.0</td>\n",
       "      <td>0.180711</td>\n",
       "      <td>0.112788</td>\n",
       "      <td>0.0</td>\n",
       "      <td>0.112851</td>\n",
       "      <td>0.158542</td>\n",
       "      <td>0.222771</td>\n",
       "      <td>1.0</td>\n",
       "    </tr>\n",
       "    <tr>\n",
       "      <th>value</th>\n",
       "      <td>2018.0</td>\n",
       "      <td>0.171293</td>\n",
       "      <td>0.110344</td>\n",
       "      <td>0.0</td>\n",
       "      <td>0.098559</td>\n",
       "      <td>0.145997</td>\n",
       "      <td>0.200543</td>\n",
       "      <td>1.0</td>\n",
       "    </tr>\n",
       "    <tr>\n",
       "      <th>yoj</th>\n",
       "      <td>2018.0</td>\n",
       "      <td>0.219609</td>\n",
       "      <td>0.184708</td>\n",
       "      <td>0.0</td>\n",
       "      <td>0.073171</td>\n",
       "      <td>0.170732</td>\n",
       "      <td>0.317073</td>\n",
       "      <td>1.0</td>\n",
       "    </tr>\n",
       "    <tr>\n",
       "      <th>derog</th>\n",
       "      <td>2018.0</td>\n",
       "      <td>0.015015</td>\n",
       "      <td>0.058042</td>\n",
       "      <td>0.0</td>\n",
       "      <td>0.000000</td>\n",
       "      <td>0.000000</td>\n",
       "      <td>0.000000</td>\n",
       "      <td>1.0</td>\n",
       "    </tr>\n",
       "    <tr>\n",
       "      <th>delinq</th>\n",
       "      <td>2018.0</td>\n",
       "      <td>0.026412</td>\n",
       "      <td>0.078982</td>\n",
       "      <td>0.0</td>\n",
       "      <td>0.000000</td>\n",
       "      <td>0.000000</td>\n",
       "      <td>0.000000</td>\n",
       "      <td>1.0</td>\n",
       "    </tr>\n",
       "    <tr>\n",
       "      <th>clage</th>\n",
       "      <td>2018.0</td>\n",
       "      <td>0.154277</td>\n",
       "      <td>0.072294</td>\n",
       "      <td>0.0</td>\n",
       "      <td>0.100806</td>\n",
       "      <td>0.150873</td>\n",
       "      <td>0.196279</td>\n",
       "      <td>1.0</td>\n",
       "    </tr>\n",
       "    <tr>\n",
       "      <th>ninq</th>\n",
       "      <td>2018.0</td>\n",
       "      <td>0.079820</td>\n",
       "      <td>0.121416</td>\n",
       "      <td>0.0</td>\n",
       "      <td>0.000000</td>\n",
       "      <td>0.000000</td>\n",
       "      <td>0.153846</td>\n",
       "      <td>1.0</td>\n",
       "    </tr>\n",
       "    <tr>\n",
       "      <th>clno</th>\n",
       "      <td>2018.0</td>\n",
       "      <td>0.347892</td>\n",
       "      <td>0.147769</td>\n",
       "      <td>0.0</td>\n",
       "      <td>0.250000</td>\n",
       "      <td>0.328125</td>\n",
       "      <td>0.421875</td>\n",
       "      <td>1.0</td>\n",
       "    </tr>\n",
       "    <tr>\n",
       "      <th>debtinc</th>\n",
       "      <td>2018.0</td>\n",
       "      <td>0.214584</td>\n",
       "      <td>0.060206</td>\n",
       "      <td>0.0</td>\n",
       "      <td>0.180263</td>\n",
       "      <td>0.220599</td>\n",
       "      <td>0.249160</td>\n",
       "      <td>1.0</td>\n",
       "    </tr>\n",
       "  </tbody>\n",
       "</table>\n",
       "</div>"
      ],
      "text/plain": [
       "          count      mean       std  min       25%       50%       75%  max\n",
       "loan     2018.0  0.196261  0.122093  0.0  0.116780  0.172336  0.248299  1.0\n",
       "mortdue  2018.0  0.180711  0.112788  0.0  0.112851  0.158542  0.222771  1.0\n",
       "value    2018.0  0.171293  0.110344  0.0  0.098559  0.145997  0.200543  1.0\n",
       "yoj      2018.0  0.219609  0.184708  0.0  0.073171  0.170732  0.317073  1.0\n",
       "derog    2018.0  0.015015  0.058042  0.0  0.000000  0.000000  0.000000  1.0\n",
       "delinq   2018.0  0.026412  0.078982  0.0  0.000000  0.000000  0.000000  1.0\n",
       "clage    2018.0  0.154277  0.072294  0.0  0.100806  0.150873  0.196279  1.0\n",
       "ninq     2018.0  0.079820  0.121416  0.0  0.000000  0.000000  0.153846  1.0\n",
       "clno     2018.0  0.347892  0.147769  0.0  0.250000  0.328125  0.421875  1.0\n",
       "debtinc  2018.0  0.214584  0.060206  0.0  0.180263  0.220599  0.249160  1.0"
      ]
     },
     "execution_count": 57,
     "metadata": {},
     "output_type": "execute_result"
    }
   ],
   "source": [
    "df.describe().T"
   ]
  },
  {
   "cell_type": "code",
   "execution_count": 58,
   "metadata": {},
   "outputs": [],
   "source": [
    "df1 = df\n",
    "\n",
    "df1 = df1.dropna()\n",
    "\n",
    "from sklearn.preprocessing import LabelEncoder\n",
    "\n",
    "lbe = LabelEncoder()\n",
    "\n",
    "df1[\"bad\"] = lbe.fit_transform(df1[\"bad\"])\n",
    "df1[\"reason\"] = lbe.fit_transform(df1[\"reason\"])\n",
    "df1  = pd.get_dummies(df1,columns= [\"job\"], prefix= [\"job\"])\n",
    "\n",
    "y = df1[\"bad\"]\n",
    "X = df1.drop([\"bad\"],axis=1)"
   ]
  },
  {
   "cell_type": "code",
   "execution_count": 59,
   "metadata": {},
   "outputs": [
    {
     "name": "stdout",
     "output_type": "stream",
     "text": [
      "Optimization terminated successfully.\n",
      "         Current function value: 0.236872\n",
      "         Iterations 8\n"
     ]
    },
    {
     "name": "stdin",
     "output_type": "stream",
     "text": [
      "Please enter any method for solver:  liblinear\n"
     ]
    },
    {
     "name": "stdout",
     "output_type": "stream",
     "text": [
      "OLS Results: \n",
      "                            Logit Regression Results                           \n",
      "==============================================================================\n",
      "Dep. Variable:                    bad   No. Observations:                 1513\n",
      "Model:                          Logit   Df Residuals:                     1496\n",
      "Method:                           MLE   Df Model:                           16\n",
      "Date:                Sat, 22 Aug 2020   Pseudo R-squ.:                  0.2280\n",
      "Time:                        18:00:45   Log-Likelihood:                -358.39\n",
      "converged:                       True   LL-Null:                       -464.26\n",
      "Covariance Type:            nonrobust   LLR p-value:                 3.330e-36\n",
      "==============================================================================\n",
      "                 coef    std err          z      P>|z|      [0.025      0.975]\n",
      "------------------------------------------------------------------------------\n",
      "loan          -1.8922      1.053     -1.798      0.072      -3.955       0.171\n",
      "mortdue       -0.7523      1.949     -0.386      0.700      -4.573       3.068\n",
      "value          2.0443      2.065      0.990      0.322      -2.002       6.091\n",
      "reason        -0.1557      0.233     -0.668      0.504      -0.613       0.301\n",
      "yoj           -0.6517      0.611     -1.066      0.286      -1.849       0.546\n",
      "derog          5.4598      1.590      3.434      0.001       2.344       8.576\n",
      "delinq         8.0567      1.084      7.430      0.000       5.931      10.182\n",
      "clage         -4.4680      1.784     -2.505      0.012      -7.964      -0.972\n",
      "ninq           1.4785      0.691      2.140      0.032       0.125       2.832\n",
      "clno          -1.6188      0.777     -2.083      0.037      -3.142      -0.096\n",
      "debtinc       14.9548      2.278      6.563      0.000      10.489      19.421\n",
      "job_Mgr       -4.7530      0.649     -7.327      0.000      -6.024      -3.482\n",
      "job_Office    -5.2370      0.664     -7.884      0.000      -6.539      -3.935\n",
      "job_Other     -4.8077      0.587     -8.195      0.000      -5.957      -3.658\n",
      "job_ProfEx    -4.8206      0.627     -7.689      0.000      -6.049      -3.592\n",
      "job_Sales     -4.2021      0.937     -4.483      0.000      -6.039      -2.365\n",
      "job_Self      -4.0251      0.810     -4.971      0.000      -5.612      -2.438\n",
      "==============================================================================\n",
      "\n",
      "Sklearn Results of intercept and coef: \n",
      "\n",
      "Intercept: \n",
      " [-2.17504015]\n",
      "Coef: \n",
      " [[-0.67947943  0.12802111  0.18124069 -0.03779655 -0.83544627  2.45356681\n",
      "   4.3689776  -1.45166724  1.19060276 -0.54662567  3.31646294 -0.38610042\n",
      "  -0.74869067 -0.45921095 -0.65743542  0.08329867 -0.00690136]]\n",
      "------------------------------------\n",
      "------------------------------------\n",
      "------------------------------------\n",
      "OLS and Sklearn result are diffrent beacuse OLS result haven't Intercept\n"
     ]
    }
   ],
   "source": [
    "X_train,X_test,y_train,y_test = train_test_split(X,y,\n",
    "                                                 random_state = 42,\n",
    "                                                 test_size = 0.25)\n",
    "\n",
    "Results = Methods()\n",
    "\n",
    "Results.LogitReg(X_train, y_train, X_test, y_test)"
   ]
  },
  {
   "cell_type": "markdown",
   "metadata": {},
   "source": [
    "## MinMax Scale isleminden sonra R2 bir degisiklik yok genel olarak MinMax oncesi ile sonuclar ayni seyiriyor "
   ]
  },
  {
   "cell_type": "code",
   "execution_count": 60,
   "metadata": {},
   "outputs": [
    {
     "name": "stdout",
     "output_type": "stream",
     "text": [
      "this func shows us Acuary value for both train and test set\n",
      "Then Same kind Confusion Matirx and result details\n",
      "We will see Cross_val values each sets\n",
      "At the end we'll see  ROC CURVE with made of TRAIN set  \n"
     ]
    },
    {
     "name": "stdin",
     "output_type": "stream",
     "text": [
      "Please enter any method for solver:  liblinear\n"
     ]
    },
    {
     "name": "stdout",
     "output_type": "stream",
     "text": [
      "Accuary :  0.9247524752475248\n",
      "-------------------\n",
      "Confusion Matrix: \n",
      " [[466   0]\n",
      " [ 38   1]]\n",
      "-------------------\n",
      "Details: \n",
      "               precision    recall  f1-score   support\n",
      "\n",
      "           0       0.92      1.00      0.96       466\n",
      "           1       1.00      0.03      0.05        39\n",
      "\n",
      "    accuracy                           0.92       505\n",
      "   macro avg       0.96      0.51      0.51       505\n",
      "weighted avg       0.93      0.92      0.89       505\n",
      "\n",
      "-------------------\n",
      "Cross Validaiton About TRAIN and TEST set: \n",
      " 0.9147394562565354  \n",
      " 0.9227843137254901\n",
      "-------------------\n",
      "ROC CURVE: \n",
      " (<Figure size 432x288 with 1 Axes>,)\n"
     ]
    },
    {
     "data": {
      "image/png": "[encoded data removed]",
      "text/plain": [
       "<Figure size 432x288 with 1 Axes>"
      ]
     },
     "metadata": {
      "needs_background": "light"
     },
     "output_type": "display_data"
    }
   ],
   "source": [
    "Results.LojPredict(X_train, y_train, X_test, y_test)\n"
   ]
  },
  {
   "cell_type": "markdown",
   "metadata": {},
   "source": [
    "## ROC egrisi MinMax isleminden sonra onceki haline kiyasla daha iyi sonuc verdigini gorebiliyoruz"
   ]
  },
  {
   "cell_type": "code",
   "execution_count": null,
   "metadata": {},
   "outputs": [],
   "source": []
  },
  {
   "cell_type": "code",
   "execution_count": 61,
   "metadata": {},
   "outputs": [
    {
     "name": "stdout",
     "output_type": "stream",
     "text": [
      "This func job is if you given a TRESHOLD value it will use that and shows new results\n",
      "\n"
     ]
    },
    {
     "name": "stdin",
     "output_type": "stream",
     "text": [
      "Please enter any method for solver:  liblinear\n",
      "Please enter TRESHOLD value:  0.25\n"
     ]
    },
    {
     "name": "stdout",
     "output_type": "stream",
     "text": [
      "Accuary :  0.9180436219431592\n",
      "-------------------\n",
      "Confusion Matrix: \n",
      " [[1361   13]\n",
      " [ 111   28]]\n",
      "-------------------\n",
      "Details: \n",
      "               precision    recall  f1-score   support\n",
      "\n",
      "           0       0.92      0.99      0.96      1374\n",
      "           1       0.68      0.20      0.31       139\n",
      "\n",
      "    accuracy                           0.92      1513\n",
      "   macro avg       0.80      0.60      0.63      1513\n",
      "weighted avg       0.90      0.92      0.90      1513\n",
      "\n"
     ]
    }
   ],
   "source": [
    "Results.LogitSelf(X_train, y_train, X_test, y_test)"
   ]
  },
  {
   "cell_type": "markdown",
   "metadata": {},
   "source": [
    "### Treshold 0.25 de iken bir nebze 1 tahmin sonucunda iyilesme oluyor"
   ]
  }
 ],
 "metadata": {
  "kernelspec": {
   "display_name": "Python 3",
   "language": "python",
   "name": "python3"
  },
  "language_info": {
   "codemirror_mode": {
    "name": "ipython",
    "version": 3
   },
   "file_extension": ".py",
   "mimetype": "text/x-python",
   "name": "python",
   "nbconvert_exporter": "python",
   "pygments_lexer": "ipython3",
   "version": "3.7.6"
  }
 },
 "nbformat": 4,
 "nbformat_minor": 4
}
