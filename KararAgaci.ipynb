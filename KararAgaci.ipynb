{
 "cells": [
  {
   "cell_type": "code",
   "execution_count": 1,
   "metadata": {
    "colab": {
     "base_uri": "https://localhost:8080/",
     "height": 125
    },
    "colab_type": "code",
    "id": "tFTl1hO8OlOG",
    "outputId": "387c02fc-6bb1-4c61-cdaf-40ee4d649293"
   },
   "outputs": [
    {
     "name": "stdout",
     "output_type": "stream",
     "text": [
      "Go to this URL in a browser: https://accounts.google.com/o/oauth2/auth?client_id=947318989803-6bn6qk8qdgf4n4g3pfee6491hc0brc4i.apps.googleusercontent.com&redirect_uri=urn%3aietf%3awg%3aoauth%3a2.0%3aoob&scope=email%20https%3a%2f%2fwww.googleapis.com%2fauth%2fdocs.test%20https%3a%2f%2fwww.googleapis.com%2fauth%2fdrive%20https%3a%2f%2fwww.googleapis.com%2fauth%2fdrive.photos.readonly%20https%3a%2f%2fwww.googleapis.com%2fauth%2fpeopleapi.readonly&response_type=code\n",
      "\n",
      "Enter your authorization code:\n",
      "··········\n",
      "Mounted at /content/drive\n"
     ]
    }
   ],
   "source": [
    "from google.colab import drive\n",
    "drive.mount(\"/content/drive\")"
   ]
  },
  {
   "cell_type": "code",
   "execution_count": 2,
   "metadata": {
    "colab": {
     "base_uri": "https://localhost:8080/",
     "height": 141
    },
    "colab_type": "code",
    "id": "6hQVnv9GOw4r",
    "outputId": "fc8be3cf-dc25-4214-e794-a2795eba77a4"
   },
   "outputs": [
    {
     "name": "stdout",
     "output_type": "stream",
     "text": [
      "'Adsız klasör'\t    protein_ortak.ipynb\n",
      " Classes1.py\t    SydneyHousePrices.csv\n",
      "'Colab Notebooks'   VerilerinIncelenmesi-Oğuzhan.ipynb\n",
      " diabetes.csv\t    Wine.ipynb\n",
      " Hitters.csv\t    winemag-data_first150k.csv\n",
      " hmelq.csv\t   \"Wine's Data - PreProcessing.ipynb\"\n",
      " HW_Data_Set.xlsx\n"
     ]
    }
   ],
   "source": [
    "!ls \"/content/drive/My Drive\""
   ]
  },
  {
   "cell_type": "code",
   "execution_count": 102,
   "metadata": {
    "colab": {},
    "colab_type": "code",
    "id": "rjzFQb0tZK1Y",
    "jupyter": {
     "source_hidden": true
    }
   },
   "outputs": [],
   "source": [
    "#!/usr/bin/env python\n",
    "# coding: utf-8\n",
    "\n",
    "# In[1]:\n",
    "\n",
    "\n",
    "import pandas as pd \n",
    "import seaborn as sns\n",
    "import missingno as msno\n",
    "import pandas as pd\n",
    "import numpy as np\n",
    "import statsmodels.api as sm\n",
    "import seaborn as sns\n",
    "from scipy.stats import shapiro\n",
    "from sklearn.preprocessing import scale\n",
    "from sklearn.decomposition import PCA\n",
    "from sklearn.linear_model import LinearRegression\n",
    "from sklearn.model_selection import train_test_split, cross_val_score,GridSearchCV\n",
    "from sklearn.metrics import confusion_matrix, accuracy_score, classification_report\n",
    "from sklearn.metrics import roc_curve, roc_auc_score\n",
    "from sklearn.linear_model import LogisticRegression\n",
    "from sklearn.metrics import mean_squared_error, r2_score\n",
    "from sklearn.preprocessing import LabelEncoder\n",
    "from matplotlib import pyplot as plt\n",
    "from sklearn import model_selection\n",
    "from warnings import filterwarnings\n",
    "from sklearn.neural_network import MLPRegressor,MLPClassifier\n",
    "from sklearn.preprocessing import StandardScaler\n",
    "from sklearn.neural_network import MLPRegressor\n",
    "from sklearn.tree import DecisionTreeRegressor, DecisionTreeClassifier\n",
    "from sklearn.metrics import confusion_matrix, accuracy_score, classification_report\n",
    "\n",
    "\n",
    "filterwarnings(\"ignore\")\n",
    "\n",
    "\n",
    "class Visualization():\n",
    "    def __init__(self,data):\n",
    "        self.df = data\n",
    "    \n",
    "    def scatter(self,x,y,z = None):\n",
    "        scatter = sns.scatterplot(x = x, y = y, hue=z,data=self.df)\n",
    "        return scatter\n",
    "    \n",
    "    def hist(self,x):\n",
    "        plt.figure(figsize=(8,6))\n",
    "        hist = sns.distplot(self.df[[x]], rug=True, rug_kws={\"color\":\"g\"}, kde_kws={\"color\":\"k\",\"lw\":3,\"label\":\"KDE\"},\n",
    "                            hist_kws={\"histtype\":\"step\",\"linewidth\":\"3\",\"alpha\":1,\"color\":\"g\"})\n",
    "        \n",
    "        return hist\n",
    "    \n",
    "    def hist1(self,x,y=None):\n",
    "        hist1 = sns.FacetGrid(self.df,hue=y,height=5).map(sns.kdeplot,x,shade = True).add_legend()\n",
    "        return hist1\n",
    "    \n",
    "    def corr_map(self):\n",
    "        df = self.df.corr()\n",
    "        plt.figure(figsize=(8.5,5.5))\n",
    "        corr = sns.heatmap(df,xticklabels=df.columns,yticklabels=df.columns,annot=True)\n",
    "        return corr\n",
    "        \n",
    "    \n",
    "    \n",
    "    def bar(self,x,y,z = None):\n",
    "        plt.figure(figsize=(8.5,5.5))\n",
    "        bruhh = sns.barplot(x = x, y = y, hue=z,data=self.df,capsize=.2)\n",
    "        return bruhh\n",
    "    \n",
    "    def boxplot(self,x,y=None,z = None):\n",
    "        box = sns.boxplot(x = x, y = y, hue=z, data=self.df,linewidth=2.5)\n",
    "        return box\n",
    "    \n",
    "    def heatmap(self):\n",
    "        pass\n",
    "    \n",
    "    def missingvalues_heat_map(self):\n",
    "        heatmap = msno.heatmap(self.df)\n",
    "        return heatmap\n",
    "    \n",
    "    def missingvalues_dendogram(self):\n",
    "        \n",
    "        dendogram = msno.dendrogram(self.df)\n",
    "        return dendogram\n",
    "\n",
    "\n",
    "class information():\n",
    "    def __init__(self,data):\n",
    "        self.df = data\n",
    "    \n",
    "    def info_data(self):\n",
    "        \"\"\"İnfo about data\"\"\"\n",
    "        information = self.df.info()\n",
    "        shape = self.df.shape\n",
    "        return print(information,\"\\nBoyut Bilgisi:\\n\",shape)\n",
    "    \n",
    "    def summary_statistics(self):\n",
    "        info = self.df.describe().T\n",
    "        return info\n",
    "    \n",
    "    def value_count(self,x,y=None):\n",
    "        \"\"\"Write X with two quotes\"\"\"\n",
    "        counts = self.df[x].value_counts()\n",
    "        counts1 = self.df[y].value_counts()\n",
    "        print(\"First Variable Value Counts:\\n\",counts,\"\\nSecond Variable Value Counts:\\n\",counts1)\n",
    "        \n",
    "    \n",
    "    def nuniques(self):\n",
    "        unique = self.df.nunique()\n",
    "        return unique\n",
    "    \n",
    "    def MissingValues(self):\n",
    "        missing_values = self.df.isnull().sum()\n",
    "        missing_values_rate = (self.df.isnull().sum() * 100) / self.df.shape[0]\n",
    "        df_Missing_values = missing_values\n",
    "        df_Missing_values_rate = missing_values_rate\n",
    "        table = pd.concat([df_Missing_values,df_Missing_values_rate],axis=1)\n",
    "        table = table.rename(columns={0:\"Missing_Values\",1:\"Missing_values_rate %\"})\n",
    "        return table\n",
    "    \n",
    "class preprocess():\n",
    "    \n",
    "    def __init__(self,df):\n",
    "        self.df = df\n",
    "    \n",
    "    def outlier(self):\n",
    "        \n",
    "        lower_and_upper = {}\n",
    "        \n",
    "        columns = list(self.df.select_dtypes(include=[\"float64\",\"int64\"]))\n",
    "        \n",
    "        for col in columns:\n",
    "            q1 = self.df[col].quantile(0.25)\n",
    "            q3 = self.df[col].quantile(0.75)\n",
    "            iqr = 1.5*(q3-q1)\n",
    "    \n",
    "            lower_bound = q1-iqr\n",
    "            upper_bound = q3+iqr\n",
    "    \n",
    "            lower_and_upper[col] = (lower_bound, upper_bound)\n",
    "            self.df.loc[(self.df.loc[:,col]<lower_bound),col]=lower_bound\n",
    "            self.df.loc[(self.df.loc[:,col]>upper_bound),col]=upper_bound\n",
    "         \n",
    "        return self.df\n",
    " \n",
    "    \n",
    "class statistic():\n",
    "    def __init__(self,df):\n",
    "        \n",
    "        self.df = df\n",
    "\n",
    "        \n",
    "    def normal(self):\n",
    "        \n",
    "        normal_dagilanlar = []\n",
    "        normal_dagilmayanlar = []\n",
    "        columns = list(self.df)\n",
    "        alpha = 0.05\n",
    "    \n",
    "        for col in columns:\n",
    "            result = shapiro(self.df[[col]])\n",
    "        \n",
    "            if result[1] < alpha:\n",
    "                normal_dagilmayanlar.append(col)\n",
    "            \n",
    "            elif result[1] > alpha:\n",
    "                normal_dagilanlar.append(col)\n",
    "            \n",
    "        \n",
    "        print(\"Normal dagilimdan gelenler: \",normal_dagilanlar,\n",
    "    \n",
    "        \"\\nNormal dagilimdan gelmeyenler: \\n\",normal_dagilmayanlar)\n",
    "        \n",
    "        \n",
    "        \n",
    "    def yakala(self,df,Y):\n",
    "        anlamli_kat_sayilar = []\n",
    "        target = Y\n",
    "        columns = list(df.drop(target,axis=1))\n",
    "        sonuclar = []\n",
    "        for col in columns:\n",
    "        \n",
    "            X = df[[col]]\n",
    "            y = df[target]\n",
    "            lm = sm.OLS(y,X)\n",
    "            model = lm.fit()\n",
    "            if (model.tvalues.values > 1.96):\n",
    "                anlamli_kat_sayilar.append(model.tvalues.index)\n",
    "        \n",
    "            elif (model.tvalues.values < -1.96):\n",
    "                anlamli_kat_sayilar.append(model.tvalues.index)\n",
    "            \n",
    "            \n",
    "        for i in anlamli_kat_sayilar:\n",
    "        \n",
    "            print(\"Anlamli Kat sayilar: \",i[0])\n",
    "\n",
    "\n",
    "class Methods():\n",
    "\n",
    "    def __init__(self):\n",
    "        \"\"\"Methods of machine learning\"\"\"\n",
    "\n",
    "    \n",
    "\n",
    "    \n",
    "    \n",
    "    def LogitReg(self,x_train,y_train,x_test,y_test):\n",
    "        loj = sm.Logit(y_train,x_train)\n",
    "        loj_model = loj.fit()\n",
    "        result = loj_model.summary()\n",
    "    \n",
    "   \n",
    "        solver = input(\"Please enter any method for solver: \")\n",
    "    \n",
    "        loj1 = LogisticRegression(solver = solver) # Liblinear yerine baska yontemler var bunun bunlar da data yapisina gore sonuclar vermekte\n",
    "        loj_model1 = loj1.fit(x_train,y_train)\n",
    "        loj_model1\n",
    "        intercept = loj_model1.intercept_\n",
    "        coef_sklearn = loj_model1.coef_\n",
    "    \n",
    "    \n",
    "        print(\"OLS Results: \\n\",result)\n",
    "        print(\"\\nSklearn Results of intercept and coef: \\n\")\n",
    "        print(\"Intercept: \\n\",intercept)\n",
    "        print(\"Coef: \\n\",coef_sklearn)\n",
    "        print(\"------------------------------------\")\n",
    "        print(\"------------------------------------\")\n",
    "        print(\"------------------------------------\")\n",
    "        print(\"OLS and Sklearn result are diffrent beacuse OLS result haven't Intercept\")\n",
    "        \n",
    "        \n",
    "        \n",
    "        \n",
    "    def LojPredict(self,x_train,y_train,x_test,y_test):\n",
    "        \n",
    "        print(\"this func shows us Acuary value for both train and test set\\nThen Same kind Confusion Matirx and result details\\nWe will see Cross_val values each sets\\nAt the end we'll see  ROC CURVE with made of TRAIN set  \")\n",
    "        \n",
    "        solver = input(\"Please enter any method for solver: \")\n",
    "    \n",
    "        loj1 = LogisticRegression(solver = solver) # Liblinear yerine baska yontemler var bunun bunlar da data yapisina gore sonuclar vermekte\n",
    "        loj_model1 = loj1.fit(x_train,y_train)\n",
    "    \n",
    "        y_pred = loj_model1.predict(x_test)\n",
    "    \n",
    "        accuary = accuracy_score(y_test,y_pred)\n",
    "        confusion = confusion_matrix(y_test,y_pred)\n",
    "        result_detail = classification_report(y_test,y_pred)\n",
    "    \n",
    "    \n",
    "        logit_roc_auc = roc_auc_score(y_train,loj_model1.predict(x_train))\n",
    "        fpr, tpr, tresholds = roc_curve(y_train,loj_model1.predict_proba(x_train)[:,1])\n",
    "\n",
    "        ROC = plt.figure(),\n",
    "        plt.plot(fpr, tpr, label = \"AUC (area = %0.2f)\"% logit_roc_auc),\n",
    "        plt.plot([0,1], [0,1], \"r--\"),\n",
    "        plt.xlim([0.0, 1.0]),\n",
    "        plt.ylim([0.0,1.05]),plt.xlabel(\"False Positive Orani\"),\n",
    "        plt.ylabel(\"Ture Positive Orani\"),\n",
    "        plt.title(\"ROC\")\n",
    "    \n",
    "    \n",
    "        cross_val_train = cross_val_score(loj_model1, x_train, y_train, cv = 10).mean()\n",
    "        cross_val_test = cross_val_score(loj_model1, x_test, y_test, cv = 10).mean()\n",
    "\n",
    "    \n",
    "    \n",
    "        print(\"Accuary : \",accuary)\n",
    "        print(\"-------------------\")\n",
    "        print(\"Confusion Matrix: \\n\",confusion)\n",
    "        print(\"-------------------\")\n",
    "        print(\"Details: \\n\",result_detail)\n",
    "        print(\"-------------------\")\n",
    "        print(\"Cross Validaiton About TRAIN and TEST set: \\n\",cross_val_train,\" \\n\",cross_val_test)\n",
    "        print(\"-------------------\")\n",
    "        print(\"ROC CURVE: \\n\",ROC)\n",
    "    \n",
    "        \n",
    "        \n",
    "        \n",
    "    def LogitSelf(self,x_train,y_train,x_test,y_test):\n",
    "    \n",
    "        print(\"This func job is if you given a TRESHOLD value it will use that and shows new results\\n\")\n",
    "    \n",
    "        solver = input(\"Please enter any method for solver: \")\n",
    "        threshold = float(input(\"Please enter TRESHOLD value: \"))\n",
    "    \n",
    "        loj1 = LogisticRegression(solver = solver) \n",
    "        loj_model1 = loj1.fit(x_train,y_train)\n",
    "    \n",
    "        y_probs = loj_model1.predict_proba(x_train)\n",
    "        y_probs = y_probs[:,1]\n",
    "        y_pred = [1 if i > threshold else 0 for i in y_probs]\n",
    "    \n",
    "        accuary = accuracy_score(y_train,y_pred)\n",
    "        confusion = confusion_matrix(y_train,y_pred)\n",
    "        result_detail = classification_report(y_train,y_pred)\n",
    "    \n",
    "    \n",
    "        print(\"Accuary : \",accuary)\n",
    "        print(\"-------------------\")\n",
    "        print(\"Confusion Matrix: \\n\",confusion)\n",
    "        print(\"-------------------\")\n",
    "        print(\"Details: \\n\",result_detail)\n",
    "        \n",
    "        \n",
    "\n",
    "\n",
    "    def PcaReg(self,x_train,y_train,x_test,y_test):\n",
    "        pcr = PCA()\n",
    "        pca = PCA()\n",
    "        X_reduced_train = pcr.fit_transform(scale(x_train))\n",
    "    \n",
    "        bilesen_yuzde = np.cumsum(np.round(pcr.explained_variance_ratio_, decimals = 4)*100)[:]\n",
    "    \n",
    "        features = range(pcr.n_components_)\n",
    "    \n",
    "        #bilesen_gorsel = plt.bar(features,pcr.explained_variance_ratio_,color = \"red\"),plt.xlim(0,20),\n",
    "        #plt.xlabel(\"PCA Bilesenler\"),plt.ylabel(\"Aciklanan Varyans %\"),plt.xticks(features)\n",
    "    \n",
    "        bilesen_gorsel = plt.figure(figsize=(25,8)),plt.bar(features,pcr.explained_variance_ratio_,color = \"red\"),plt.xlim(0,25),\n",
    "        plt.xlabel(\"PCA Bilesenler\"),plt.ylabel(\"Aciklanan Varyans %\"),plt.xticks(features)\n",
    "    \n",
    "    \n",
    "    \n",
    "        lm = LinearRegression()\n",
    "\n",
    "        pcr_model = lm.fit(X_reduced_train[:,:], y_train)  \n",
    "\n",
    "        sm1 = sm.OLS(y_train,X_reduced_train[:,:])\n",
    "        pcr_model_v  = sm1.fit()\n",
    "    \n",
    "    \n",
    "        print(\"Bilesen sayisina gore aciklanabilirlik: \\n\",bilesen_yuzde)\n",
    "        print(\"------------------------------------------\")\n",
    "        print(\"Bilesen sayisina gore aciklanma durumu\",bilesen_gorsel)\n",
    "        print(\"------------------------------------------\")\n",
    "        print(\"\\nTrain setine ait sabit Kat sayi: \\n\",pcr_model.intercept_,\"\\nTrain setine ait modelin kat sayilari: \\n\",pcr_model.coef_)\n",
    "        print(\"OLS sonuclari : \\n\",pcr_model_v.summary().tables[0]) \n",
    "\n",
    "        \n",
    "        \n",
    "    def PcaPredict(self,x_train,y_train,x_test,y_test):\n",
    "        pcr = PCA()\n",
    "        X_reduced_train = pcr.fit_transform(scale(x_train))\n",
    "    \n",
    "        lm = LinearRegression()\n",
    "    \n",
    "    \n",
    "    \n",
    "    \n",
    "        pcr_model = lm.fit(X_reduced_train[:,:], y_train)  \n",
    "    \n",
    "    \n",
    "        y_pred = pcr_model.predict(X_reduced_train[:,:]) \n",
    "        train_result = np.sqrt(mean_squared_error(y_train,y_pred))\n",
    "    \n",
    "        pcr1 = PCA()\n",
    "\n",
    "        X_reduced_test = pcr1.fit_transform(scale(x_test))\n",
    "\n",
    "        y_pred1 = pcr_model.predict(X_reduced_test[:,:]) # yine 4 bilesen \n",
    "\n",
    "\n",
    "        test_result = np.sqrt(mean_squared_error(y_test,y_pred1))\n",
    "        train_r2 = r2_score(y_train,y_pred)\n",
    "    \n",
    "        cv_10 = model_selection.KFold(n_splits=10,\n",
    "                             shuffle=True,\n",
    "                             random_state=1)\n",
    "    \n",
    "    \n",
    "    \n",
    "        RMSE = []\n",
    "\n",
    "        for i in np.arange(1, X_reduced_train.shape[1]+1):\n",
    "        \n",
    "            score = np.sqrt(-1*model_selection.cross_val_score(lm,\n",
    "                                                          X_reduced_train[:,:i],\n",
    "                                                          y_train.ravel(),\n",
    "                                                          cv = cv_10,\n",
    "                                                          scoring = \"neg_mean_squared_error\").mean())\n",
    "    \n",
    "            RMSE.append(score)\n",
    "    \n",
    "    \n",
    "    \n",
    "    \n",
    "\n",
    "        Degerlendirme = plt.plot(RMSE, \"-v\"),\n",
    "        plt.xlabel(\"Bilesen sayisi\"),plt.ylabel(\"RMSE\"),\n",
    "        plt.title(\"Tahmin Modeli Icin Pcr Model Tune\");\n",
    "    \n",
    "    \n",
    "    \n",
    "        print(\"Train setinin RMSE degeri: \\n\",train_result,\"\\nTest setinin RMSE degeri: \\n\",test_result)\n",
    "        print(\"---------------------------------------------------------------------------\")\n",
    "        print(\"R2 degeri: \",train_r2)\n",
    "        print(\"---------------------------------------------------------------------------\")\n",
    "        print(\"Bilesenlere gore RMSE durumu cross validation ile: \\n\",Degerlendirme)\n",
    "        \n",
    "        \n",
    "        \n",
    "        \n",
    "\n",
    "    def YsaClassifier(X_train,y_train,X_test,y_test):\n",
    "        scaler = StandardScaler()\n",
    "\n",
    "        X_train_scale = scaler.fit_transform(X_train)\n",
    "\n",
    "        X_test_scale =  scaler.fit_transform(X_test)\n",
    "  \n",
    "  \n",
    "        mlp_regres = MLPClassifier().fit(X_train_scale,y_train) \n",
    "        y_pred = mlp_regres.predict(X_test_scale)\n",
    "        Accuaracy = accuracy_score(y_test,y_pred)\n",
    "        matrix = confusion_matrix(y_test,y_pred)\n",
    "  # tune edelim\n",
    "\n",
    "        params = {\"alpha\":[0.1,0.01,0.02,0.005], # alpha icin aranacak degerler\n",
    "              \"hidden_layer_sizes\":[(20,20),(100,50,150),(300,200,150)], # gizli katmanin dereceleri ve sayilari icin aranacak parametreler\n",
    "              \"activation\":[\"relu\",\"logistig\"],\n",
    "              'solver': ['adam', 'lbfgs']}# Son olarak birde iki tane fonksiyon var onlari denesin denedik \n",
    "\n",
    "        mlp_c = MLPClassifier()\n",
    "  \n",
    "        mlp_c = GridSearchCV(mlp_c,params,\n",
    "                       cv = 10,\n",
    "                       n_jobs = -1,\n",
    "                       verbose = 2)\n",
    "\n",
    "        mlp_c_tune = mlp_c.fit(X_train_scale,y_train)\n",
    "\n",
    "        bos = []\n",
    "        for i in mlp_c_tune.best_params_:\n",
    "            bos.append(mlp_c_tune.best_params_[i])\n",
    "\n",
    "        mlp_tuned = MLPClassifier(activation=bos[0],\n",
    "                         alpha=bos[1],hidden_layer_sizes=bos[2],\n",
    "                         solver=bos[3]).fit(X_train_scale,y_train)\n",
    "\n",
    "        y_pred1 = mlp_tuned.predict(X_test_scale)\n",
    "\n",
    "        Accuaracy1 = accuracy_score(y_test,y_pred1)\n",
    "        matrix1 = confusion_matrix(y_test,y_pred1)\n",
    "\n",
    "\n",
    "        print(\"Tune Edilmemis Tahmin sonuclari Accuracy degeri: \",Accuaracy)\n",
    "        print(\"-------------------------------\")\n",
    "        print(\"Tune Edilmemis Confusion matrix sonuc: \\n\",matrix)\n",
    "        print(\"****************************************************\")\n",
    "        print(\"Tune sonrasi Tahmin sonuclari RMSE degeri:\",Accuaracy1)\n",
    "        print(\"-------------------------------\")\n",
    "        print(\"Tune sonrasi Confusion matrix sonuc: \\n\",matrix1)\n",
    "        \n",
    "        \n",
    "        \n",
    "\n",
    "\n",
    "    def YsaReg(X_train,y_train,X_test,y_test):\n",
    "        \n",
    "        scaler = StandardScaler()\n",
    "\n",
    "        X_train_scale = scaler.fit_transform(X_train)\n",
    "\n",
    "        X_test_scale =  scaler.fit_transform(X_test)\n",
    "  \n",
    "  \n",
    "        mlp_regres = MLPRegressor().fit(X_train_scale,y_train) \n",
    "        y_pred = mlp_regres.predict(X_test_scale)\n",
    "        rmse = np.sqrt(mean_squared_error(y_test,y_pred))\n",
    "\n",
    "  # tune edelim\n",
    "\n",
    "        params = {\"alpha\":[0.1,0.01,0.02,0.005], # alpha icin aranacak degerler\n",
    "             \"hidden_layer_sizes\":[(20,20),(100,50,150),(300,200,150)], # gizli katmanin dereceleri ve sayilari icin aranacak parametreler\n",
    "             \"activation\":[\"relu\",\"logistig\"],\n",
    "              'solver': ['adam', 'lbfgs'],\n",
    "              'learning_rate': ['constant','adaptive']}# Son olarak birde iki tane fonksiyon var onlari denesin denedik \n",
    "\n",
    "        mlp_cv_model = GridSearchCV(mlp_regres,params,cv = 10)\n",
    "\n",
    "        mlp_cv_model = mlp_cv_model.fit(X_train_scale,y_train)\n",
    "\n",
    "        bos = []\n",
    "        for i in mlp_cv_model.best_params_:\n",
    "            bos.append(mlp_cv_model.best_params_[i])\n",
    "\n",
    "        mlp_tuned = MLPRegressor(activation=bos[0],\n",
    "                         alpha=bos[1],hidden_layer_sizes=bos[2],\n",
    "                         learning_rate=bos[3],\n",
    "                         solver=bos[4]).fit(X_train_scale,y_train)\n",
    "\n",
    "        y_pred = mlp_tuned.predict(X_test_scale)\n",
    "\n",
    "        new_rmse = np.sqrt(mean_squared_error(y_test,y_pred))\n",
    "\n",
    "\n",
    "        print(\"Tune Edilmemis Tahmin sonuclari RMSE degeri: \",rmse)\n",
    "        print(\"---------------------------------------------\")\n",
    "        print(\"Tune sonrasi Tahmin sonuclari RMSE degeri:\",new_rmse)\n",
    "        \n",
    "        \n",
    "    def DecisionReg(self,X_train, y_train,X_test,y_test):\n",
    "        \n",
    "        cart_model = DecisionTreeRegressor()\n",
    "        cart_model.fit(X_train, y_train)\n",
    "\n",
    "        y_pred =cart_model.predict(X_test)\n",
    "        first = np.sqrt(mean_squared_error(y_test, y_pred))\n",
    "\n",
    "        \n",
    "\n",
    "        cart_params = {\"min_samples_split\": range(2,100),\n",
    "               \"max_leaf_nodes\": range(2,10),\n",
    "               \"min_samples_leaf\": range(2,20)}\n",
    "\n",
    "        cart_cv_model = GridSearchCV(cart_model, cart_params, cv = 10)\n",
    "\n",
    "        cart_cv_model.fit(X_train, y_train)\n",
    "        bos = []\n",
    "        for i in cart_cv_model.best_params_:\n",
    "            bos.append(cart_cv_model.best_params_[i])\n",
    "\n",
    "        cart_tuned = DecisionTreeRegressor(max_leaf_nodes = bos[0], min_samples_leaf = bos[1] ,min_samples_split = bos[2])\n",
    "        cart_tuned.fit(X_train, y_train)\n",
    "        y_pred = cart_tuned.predict(X_test)\n",
    "        after = np.sqrt(mean_squared_error(y_test, y_pred)) \n",
    "\n",
    "        print(\"En iyi parametre degerleri: \",cart_cv_model.best_params_)\n",
    "        print(\"Tune edilmemis rmse: \",first,\"\\nTune sonrasi rmse: \",after)\n",
    "        \n",
    "        \n",
    "        \n",
    "    def DecisionClassifier(self,X_train,y_train,X_test,y_test):\n",
    "        cart = DecisionTreeClassifier()\n",
    "        cart_model = cart.fit(X_train, y_train)\n",
    "        y_pred = cart_model.predict(X_test)\n",
    "        Accuaracy = accuracy_score(y_test, y_pred)\n",
    "        matrix = confusion_matrix(y_test,y_pred)\n",
    "\n",
    "        cart_grid = {\"max_depth\": range(1,10),\n",
    "            \"min_samples_split\" : list(range(2,50)),\n",
    "             \"criterion\":[\"gini\",\"entropy\"],\n",
    "             \"min_samples_leaf\": range(2,20)}\n",
    "\n",
    "        cart = DecisionTreeClassifier()\n",
    "        cart_cv = GridSearchCV(cart, cart_grid, cv = 10, n_jobs = -1, verbose = 2)\n",
    "        cart_cv_model = cart_cv.fit(X_train, y_train)\n",
    "\n",
    "        bos = []\n",
    "\n",
    "        for i in cart_cv_model.best_params_:\n",
    "              bos.append(cart_cv_model.best_params_[i])\n",
    "\n",
    "        cart = DecisionTreeClassifier(criterion = bos[0],max_depth = bos[1],min_samples_leaf=bos[2],min_samples_split = bos[3])\n",
    "        cart_tuned = cart.fit(X_train, y_train)\n",
    "\n",
    "        y_pred = cart_tuned.predict(X_test)\n",
    "        Accuaracy1 = accuracy_score(y_test, y_pred)\n",
    "        matrix1 = confusion_matrix(y_test,y_pred)\n",
    "\n",
    "        print(\"En iyi parametre degerleri: \",cart_cv_model.best_params_)\n",
    "        print(\"Tune edilmemis modelin Accuaracy ve Confusion Matrixi: \")\n",
    "        print(Accuaracy)\n",
    "        print(matrix)\n",
    "        print(\"**********************************************\")\n",
    "        print(\"Tune sonrasi Accuaracy ve Confusion Matrix: \")\n",
    "        print(Accuaracy1)\n",
    "        print(matrix1) \n",
    "        "
   ]
  },
  {
   "cell_type": "code",
   "execution_count": 3,
   "metadata": {
    "colab": {},
    "colab_type": "code",
    "id": "QGGFTNsyOxBq"
   },
   "outputs": [],
   "source": [
    "import numpy as np\n",
    "import pandas as pd \n",
    "from sklearn.model_selection import train_test_split, GridSearchCV,cross_val_score\n",
    "from sklearn.metrics import mean_squared_error, r2_score\n",
    "import matplotlib.pyplot as plt\n",
    "from sklearn.preprocessing import scale \n",
    "from sklearn import model_selection\n",
    "from sklearn.tree import DecisionTreeRegressor, DecisionTreeClassifier\n",
    "from sklearn.metrics import confusion_matrix, accuracy_score, classification_report\n",
    "\n",
    "from warnings import filterwarnings\n",
    "filterwarnings('ignore')"
   ]
  },
  {
   "cell_type": "code",
   "execution_count": 68,
   "metadata": {
    "colab": {},
    "colab_type": "code",
    "id": "Qnug510ubStQ"
   },
   "outputs": [],
   "source": [
    "df = pd.read_csv(\"/content/drive/My Drive/hmelq.csv\")"
   ]
  },
  {
   "cell_type": "markdown",
   "metadata": {
    "colab_type": "text",
    "id": "1C-y8wiLaZzB"
   },
   "source": [
    "* bad = 1: temerrüte düsme yani borcu odememe durumu. 0: odeme yapilmis\n",
    "* loan = talep edilen kredi miktari\n",
    "* mortdue = mevcut Mortgage borclari\n",
    "* value = guncel mal-mulk degeri\n",
    "* reason = DebtCon: kısa süreli borçların uzun süreli ya da süresiz borca dönüştürülmesi(borclarin birlestirilmesi), Homelmp: evin dekorasyonu vb sebepten istenme durumu\n",
    "* job = meslek durumu\n",
    "* yoj = mevcut iste gecirilen yil\n",
    "* derog = baslica ihlal edici, uygunsuz davranis raporlarinin sayisi\n",
    "* delinq = odenmemis kredi kredi limitinin sayisi\n",
    "* clage = aylarin icerisindeki en eski kredi limitinin yasi\n",
    "* ninq = güncel,son kredi sorgusunun sayisi\n",
    "* clno = kredi limit sayisi \n",
    "* debtinc = borc gelir orani"
   ]
  },
  {
   "cell_type": "code",
   "execution_count": 23,
   "metadata": {
    "colab": {
     "base_uri": "https://localhost:8080/",
     "height": 107
    },
    "colab_type": "code",
    "id": "TFq1VfOVbCMl",
    "outputId": "54d9bfdd-e107-4a25-ac78-994a62dc9d67"
   },
   "outputs": [
    {
     "data": {
      "text/html": [
       "<div>\n",
       "<style scoped>\n",
       "    .dataframe tbody tr th:only-of-type {\n",
       "        vertical-align: middle;\n",
       "    }\n",
       "\n",
       "    .dataframe tbody tr th {\n",
       "        vertical-align: top;\n",
       "    }\n",
       "\n",
       "    .dataframe thead th {\n",
       "        text-align: right;\n",
       "    }\n",
       "</style>\n",
       "<table border=\"1\" class=\"dataframe\">\n",
       "  <thead>\n",
       "    <tr style=\"text-align: right;\">\n",
       "      <th></th>\n",
       "      <th>bad</th>\n",
       "      <th>loan</th>\n",
       "      <th>mortdue</th>\n",
       "      <th>value</th>\n",
       "      <th>reason</th>\n",
       "      <th>job</th>\n",
       "      <th>yoj</th>\n",
       "      <th>derog</th>\n",
       "      <th>delinq</th>\n",
       "      <th>clage</th>\n",
       "      <th>ninq</th>\n",
       "      <th>clno</th>\n",
       "      <th>debtinc</th>\n",
       "    </tr>\n",
       "  </thead>\n",
       "  <tbody>\n",
       "    <tr>\n",
       "      <th>0</th>\n",
       "      <td>0</td>\n",
       "      <td>81200</td>\n",
       "      <td>18834.0</td>\n",
       "      <td>108355.0</td>\n",
       "      <td>HomeImp</td>\n",
       "      <td>NaN</td>\n",
       "      <td>28.0</td>\n",
       "      <td>0.0</td>\n",
       "      <td>0.0</td>\n",
       "      <td>139.14</td>\n",
       "      <td>0.0</td>\n",
       "      <td>14.0</td>\n",
       "      <td>34.042</td>\n",
       "    </tr>\n",
       "    <tr>\n",
       "      <th>1</th>\n",
       "      <td>0</td>\n",
       "      <td>12600</td>\n",
       "      <td>103960.0</td>\n",
       "      <td>127384.0</td>\n",
       "      <td>DebtCon</td>\n",
       "      <td>NaN</td>\n",
       "      <td>2.0</td>\n",
       "      <td>0.0</td>\n",
       "      <td>0.0</td>\n",
       "      <td>129.02</td>\n",
       "      <td>0.0</td>\n",
       "      <td>25.0</td>\n",
       "      <td>34.479</td>\n",
       "    </tr>\n",
       "  </tbody>\n",
       "</table>\n",
       "</div>"
      ],
      "text/plain": [
       "   bad   loan   mortdue     value   reason  ... delinq   clage  ninq  clno  debtinc\n",
       "0    0  81200   18834.0  108355.0  HomeImp  ...    0.0  139.14   0.0  14.0   34.042\n",
       "1    0  12600  103960.0  127384.0  DebtCon  ...    0.0  129.02   0.0  25.0   34.479\n",
       "\n",
       "[2 rows x 13 columns]"
      ]
     },
     "execution_count": 23,
     "metadata": {
      "tags": []
     },
     "output_type": "execute_result"
    }
   ],
   "source": [
    "df.head(2)"
   ]
  },
  {
   "cell_type": "code",
   "execution_count": 24,
   "metadata": {
    "colab": {},
    "colab_type": "code",
    "id": "bZ7ubqeQYSyR"
   },
   "outputs": [],
   "source": [
    "df_z = df.copy()\n",
    "\n",
    "data_information = cl.information(df_z)\n"
   ]
  },
  {
   "cell_type": "code",
   "execution_count": 25,
   "metadata": {
    "colab": {
     "base_uri": "https://localhost:8080/",
     "height": 437
    },
    "colab_type": "code",
    "id": "m20h4QMQYS30",
    "outputId": "72a7e042-c3f5-4f63-f5bc-a1ef55237b4d"
   },
   "outputs": [
    {
     "data": {
      "text/html": [
       "<div>\n",
       "<style scoped>\n",
       "    .dataframe tbody tr th:only-of-type {\n",
       "        vertical-align: middle;\n",
       "    }\n",
       "\n",
       "    .dataframe tbody tr th {\n",
       "        vertical-align: top;\n",
       "    }\n",
       "\n",
       "    .dataframe thead th {\n",
       "        text-align: right;\n",
       "    }\n",
       "</style>\n",
       "<table border=\"1\" class=\"dataframe\">\n",
       "  <thead>\n",
       "    <tr style=\"text-align: right;\">\n",
       "      <th></th>\n",
       "      <th>Missing_Values</th>\n",
       "      <th>Missing_values_rate %</th>\n",
       "    </tr>\n",
       "  </thead>\n",
       "  <tbody>\n",
       "    <tr>\n",
       "      <th>bad</th>\n",
       "      <td>0</td>\n",
       "      <td>0.000000</td>\n",
       "    </tr>\n",
       "    <tr>\n",
       "      <th>loan</th>\n",
       "      <td>0</td>\n",
       "      <td>0.000000</td>\n",
       "    </tr>\n",
       "    <tr>\n",
       "      <th>mortdue</th>\n",
       "      <td>314</td>\n",
       "      <td>8.780761</td>\n",
       "    </tr>\n",
       "    <tr>\n",
       "      <th>value</th>\n",
       "      <td>64</td>\n",
       "      <td>1.789709</td>\n",
       "    </tr>\n",
       "    <tr>\n",
       "      <th>reason</th>\n",
       "      <td>147</td>\n",
       "      <td>4.110738</td>\n",
       "    </tr>\n",
       "    <tr>\n",
       "      <th>job</th>\n",
       "      <td>167</td>\n",
       "      <td>4.670022</td>\n",
       "    </tr>\n",
       "    <tr>\n",
       "      <th>yoj</th>\n",
       "      <td>312</td>\n",
       "      <td>8.724832</td>\n",
       "    </tr>\n",
       "    <tr>\n",
       "      <th>derog</th>\n",
       "      <td>427</td>\n",
       "      <td>11.940716</td>\n",
       "    </tr>\n",
       "    <tr>\n",
       "      <th>delinq</th>\n",
       "      <td>351</td>\n",
       "      <td>9.815436</td>\n",
       "    </tr>\n",
       "    <tr>\n",
       "      <th>clage</th>\n",
       "      <td>179</td>\n",
       "      <td>5.005593</td>\n",
       "    </tr>\n",
       "    <tr>\n",
       "      <th>ninq</th>\n",
       "      <td>303</td>\n",
       "      <td>8.473154</td>\n",
       "    </tr>\n",
       "    <tr>\n",
       "      <th>clno</th>\n",
       "      <td>133</td>\n",
       "      <td>3.719239</td>\n",
       "    </tr>\n",
       "    <tr>\n",
       "      <th>debtinc</th>\n",
       "      <td>767</td>\n",
       "      <td>21.448546</td>\n",
       "    </tr>\n",
       "  </tbody>\n",
       "</table>\n",
       "</div>"
      ],
      "text/plain": [
       "         Missing_Values  Missing_values_rate %\n",
       "bad                   0               0.000000\n",
       "loan                  0               0.000000\n",
       "mortdue             314               8.780761\n",
       "value                64               1.789709\n",
       "reason              147               4.110738\n",
       "job                 167               4.670022\n",
       "yoj                 312               8.724832\n",
       "derog               427              11.940716\n",
       "delinq              351               9.815436\n",
       "clage               179               5.005593\n",
       "ninq                303               8.473154\n",
       "clno                133               3.719239\n",
       "debtinc             767              21.448546"
      ]
     },
     "execution_count": 25,
     "metadata": {
      "tags": []
     },
     "output_type": "execute_result"
    }
   ],
   "source": [
    "data_information.MissingValues()\n"
   ]
  },
  {
   "cell_type": "code",
   "execution_count": 26,
   "metadata": {
    "colab": {
     "base_uri": "https://localhost:8080/",
     "height": 425
    },
    "colab_type": "code",
    "id": "dZd_ki3KYS1j",
    "outputId": "5b791ce3-1db7-43af-ec38-ac50bf197cbb"
   },
   "outputs": [
    {
     "name": "stdout",
     "output_type": "stream",
     "text": [
      "<class 'pandas.core.frame.DataFrame'>\n",
      "RangeIndex: 3576 entries, 0 to 3575\n",
      "Data columns (total 13 columns):\n",
      " #   Column   Non-Null Count  Dtype  \n",
      "---  ------   --------------  -----  \n",
      " 0   bad      3576 non-null   int64  \n",
      " 1   loan     3576 non-null   int64  \n",
      " 2   mortdue  3262 non-null   float64\n",
      " 3   value    3512 non-null   float64\n",
      " 4   reason   3429 non-null   object \n",
      " 5   job      3409 non-null   object \n",
      " 6   yoj      3264 non-null   float64\n",
      " 7   derog    3149 non-null   float64\n",
      " 8   delinq   3225 non-null   float64\n",
      " 9   clage    3397 non-null   float64\n",
      " 10  ninq     3273 non-null   float64\n",
      " 11  clno     3443 non-null   float64\n",
      " 12  debtinc  2809 non-null   float64\n",
      "dtypes: float64(9), int64(2), object(2)\n",
      "memory usage: 363.3+ KB\n",
      "None \n",
      "Boyut Bilgisi:\n",
      " (3576, 13)\n"
     ]
    }
   ],
   "source": [
    "data_information.info_data()"
   ]
  },
  {
   "cell_type": "code",
   "execution_count": 27,
   "metadata": {
    "colab": {
     "base_uri": "https://localhost:8080/",
     "height": 265
    },
    "colab_type": "code",
    "id": "_HvZdMZEbDk7",
    "outputId": "64605c95-bab2-45ee-9c2b-5f90269763e1"
   },
   "outputs": [
    {
     "data": {
      "text/plain": [
       "bad           2\n",
       "loan        474\n",
       "mortdue    3095\n",
       "value      3302\n",
       "reason        2\n",
       "job           6\n",
       "yoj          86\n",
       "derog        11\n",
       "delinq       12\n",
       "clage      3050\n",
       "ninq         15\n",
       "clno         61\n",
       "debtinc    2653\n",
       "dtype: int64"
      ]
     },
     "execution_count": 27,
     "metadata": {
      "tags": []
     },
     "output_type": "execute_result"
    }
   ],
   "source": [
    "data_information.nuniques()"
   ]
  },
  {
   "cell_type": "code",
   "execution_count": 28,
   "metadata": {
    "colab": {
     "base_uri": "https://localhost:8080/",
     "height": 771
    },
    "colab_type": "code",
    "id": "Q41MekPTbW_Z",
    "outputId": "a49ae6c0-9eff-465e-add5-0ef3722eab5d"
   },
   "outputs": [
    {
     "data": {
      "text/plain": [
       "<matplotlib.axes._subplots.AxesSubplot at 0x7f5ffdeded68>"
      ]
     },
     "execution_count": 28,
     "metadata": {
      "tags": []
     },
     "output_type": "execute_result"
    },
    {
     "data": {
      "image/png": "[encoded data removed]",
      "text/plain": [
       "<Figure size 1440x864 with 2 Axes>"
      ]
     },
     "metadata": {
      "needs_background": "light",
      "tags": []
     },
     "output_type": "display_data"
    }
   ],
   "source": [
    "data_visualization = cl.Visualization(df_z)\n",
    "data_visualization.missingvalues_heat_map()"
   ]
  },
  {
   "cell_type": "code",
   "execution_count": 69,
   "metadata": {
    "colab": {},
    "colab_type": "code",
    "id": "4DiKm5PAbDjD"
   },
   "outputs": [],
   "source": [
    "# Data informasyon islemlerine girmeden sadece normal modele bir sokalim\n",
    "# Veri temizleme yapmiyoruz Yapisal problemler var\n",
    "# NA degerleri Drop edelim\n",
    "\n",
    "\n",
    "from sklearn.preprocessing import LabelEncoder\n",
    "\n",
    "df.dropna(inplace=True)\n",
    "df1 = df.copy()\n",
    "\n",
    "lbe = LabelEncoder()\n",
    "\n",
    "df1[\"reason\"] = lbe.fit_transform(df1[\"reason\"])\n",
    "df1  = pd.get_dummies(df1,columns= [\"job\"], prefix= [\"job\"])"
   ]
  },
  {
   "cell_type": "code",
   "execution_count": 70,
   "metadata": {
    "colab": {},
    "colab_type": "code",
    "id": "Pzv8J7s0bDbo"
   },
   "outputs": [],
   "source": [
    "y = df1[\"bad\"]\n",
    "X = df1.drop([\"bad\"],axis=1)\n",
    "\n",
    "X_train,X_test,y_train,y_test = train_test_split(X,y,\n",
    "                                                 random_state = 42,\n",
    "                                                 test_size = 0.25)\n",
    "\n",
    "Results = cl.Methods()"
   ]
  },
  {
   "cell_type": "code",
   "execution_count": 32,
   "metadata": {
    "colab": {
     "base_uri": "https://localhost:8080/",
     "height": 514
    },
    "colab_type": "code",
    "id": "Abhog_9yccO4",
    "outputId": "0ad8647b-ee76-4b13-e38e-f795135807b1"
   },
   "outputs": [
    {
     "name": "stdout",
     "output_type": "stream",
     "text": [
      "Fitting 10 folds for each of 15552 candidates, totalling 155520 fits\n"
     ]
    },
    {
     "name": "stderr",
     "output_type": "stream",
     "text": [
      "[Parallel(n_jobs=-1)]: Using backend LokyBackend with 2 concurrent workers.\n",
      "[Parallel(n_jobs=-1)]: Done 186 tasks      | elapsed:    2.4s\n",
      "[Parallel(n_jobs=-1)]: Done 2122 tasks      | elapsed:   12.0s\n",
      "[Parallel(n_jobs=-1)]: Done 5370 tasks      | elapsed:   28.1s\n",
      "[Parallel(n_jobs=-1)]: Done 9898 tasks      | elapsed:   51.2s\n",
      "[Parallel(n_jobs=-1)]: Done 15738 tasks      | elapsed:  1.4min\n",
      "[Parallel(n_jobs=-1)]: Done 22858 tasks      | elapsed:  2.1min\n",
      "[Parallel(n_jobs=-1)]: Done 31290 tasks      | elapsed:  3.0min\n",
      "[Parallel(n_jobs=-1)]: Done 41002 tasks      | elapsed:  4.2min\n",
      "[Parallel(n_jobs=-1)]: Done 52026 tasks      | elapsed:  5.6min\n",
      "[Parallel(n_jobs=-1)]: Done 64330 tasks      | elapsed:  7.4min\n",
      "[Parallel(n_jobs=-1)]: Done 77946 tasks      | elapsed:  9.5min\n",
      "[Parallel(n_jobs=-1)]: Done 92842 tasks      | elapsed: 10.9min\n",
      "[Parallel(n_jobs=-1)]: Done 109050 tasks      | elapsed: 13.0min\n",
      "[Parallel(n_jobs=-1)]: Done 126538 tasks      | elapsed: 15.9min\n",
      "[Parallel(n_jobs=-1)]: Done 145338 tasks      | elapsed: 19.5min\n",
      "[Parallel(n_jobs=-1)]: Done 155520 out of 155520 | elapsed: 21.6min finished\n"
     ]
    },
    {
     "name": "stdout",
     "output_type": "stream",
     "text": [
      "En iyi parametre degerleri:  {'criterion': 'entropy', 'max_depth': 8, 'min_samples_leaf': 2, 'min_samples_split': 4}\n",
      "Tune edilmemis modelin Accuaracy ve Confusion Matrixi: \n",
      "0.9346534653465347\n",
      "[[455  11]\n",
      " [ 22  17]]\n",
      "**********************************************\n",
      "Tune sonrasi Accuaracy ve Confusion Matrix: \n",
      "0.9524752475247524\n",
      "[[461   5]\n",
      " [ 19  20]]\n"
     ]
    }
   ],
   "source": [
    "Results.DecisionClassifier(X_train, y_train, X_test, y_test)\n",
    "\n",
    "# Elde ettigimiz sonuclara gore best parametreleri goruyoruz\n",
    "# Tune islemleri sonrasi model de iyi yonde bir degisme var\n",
    "# Lakin Samples leaf dusuk olmasindan dolayı genellenebilirlik acisindan eksiklik olabilir"
   ]
  },
  {
   "cell_type": "code",
   "execution_count": null,
   "metadata": {
    "colab": {},
    "colab_type": "code",
    "id": "RhrNawuqirUm"
   },
   "outputs": [],
   "source": []
  },
  {
   "cell_type": "markdown",
   "metadata": {
    "colab_type": "text",
    "id": "CDER6WWwh46Z"
   },
   "source": [
    "* Birkac degisken islemi yapalim ve tekrar modele verelim.\n",
    "* Karar agaclari daha cok kategorik degiskenler ile iyi tahmin yapmakta\n",
    "* Buna yonelik birkac islem gerceklestirelim"
   ]
  },
  {
   "cell_type": "code",
   "execution_count": 71,
   "metadata": {
    "colab": {},
    "colab_type": "code",
    "id": "2W17i0EIccMx"
   },
   "outputs": [],
   "source": [
    "# NINQ degiskenini kategorik olacak sekilde parcalara boluyoruz\n",
    "\n",
    "a = df[\"ninq\"] == 0\n",
    "df[\"ninq\"][a] = \"a\"\n",
    "\n",
    "a = df[\"ninq\"] == 1\n",
    "df[\"ninq\"][a] = \"b\"\n",
    "a = df[\"ninq\"] == 2\n",
    "df[\"ninq\"][a] = \"b\"\n",
    "a = df[\"ninq\"] == 3\n",
    "df[\"ninq\"][a] = \"b\"\n",
    "\n",
    "a = df[\"ninq\"] == 4\n",
    "df[\"ninq\"][a] = \"c\"\n",
    "a = df[\"ninq\"] == 5\n",
    "df[\"ninq\"][a] = \"c\"\n",
    "a = df[\"ninq\"] == 6\n",
    "df[\"ninq\"][a] = \"c\"\n",
    "\n",
    "a = df[\"ninq\"] == 7\n",
    "df[\"ninq\"][a] = \"d\"\n",
    "a = df[\"ninq\"] == 8\n",
    "df[\"ninq\"][a] = \"d\"\n",
    "a = df[\"ninq\"] == 9\n",
    "df[\"ninq\"][a] = \"d\"\n",
    "\n",
    "a = df[\"ninq\"] == 10\n",
    "df[\"ninq\"][a] = \"e\"\n",
    "a = df[\"ninq\"] == 11\n",
    "df[\"ninq\"][a] = \"e\"\n",
    "a = df[\"ninq\"] == 12\n",
    "df[\"ninq\"][a] = \"e\"\n",
    "a = df[\"ninq\"] == 13\n",
    "df[\"ninq\"][a] = \"e\""
   ]
  },
  {
   "cell_type": "code",
   "execution_count": 72,
   "metadata": {
    "colab": {
     "base_uri": "https://localhost:8080/",
     "height": 123
    },
    "colab_type": "code",
    "id": "w5W-O3rGccK3",
    "outputId": "5878e366-20d5-4a32-ee93-0da9bb173508"
   },
   "outputs": [
    {
     "data": {
      "text/plain": [
       "a    1014\n",
       "b     898\n",
       "c      69\n",
       "d      25\n",
       "e      12\n",
       "Name: ninq, dtype: int64"
      ]
     },
     "execution_count": 72,
     "metadata": {
      "tags": []
     },
     "output_type": "execute_result"
    }
   ],
   "source": [
    "df[\"ninq\"].value_counts()"
   ]
  },
  {
   "cell_type": "code",
   "execution_count": 36,
   "metadata": {
    "colab": {
     "base_uri": "https://localhost:8080/",
     "height": 347
    },
    "colab_type": "code",
    "id": "jzq4E7kPccIr",
    "outputId": "65987b3e-ac3a-434b-b71e-b63f85696b3c"
   },
   "outputs": [
    {
     "data": {
      "text/html": [
       "<div>\n",
       "<style scoped>\n",
       "    .dataframe tbody tr th:only-of-type {\n",
       "        vertical-align: middle;\n",
       "    }\n",
       "\n",
       "    .dataframe tbody tr th {\n",
       "        vertical-align: top;\n",
       "    }\n",
       "\n",
       "    .dataframe thead th {\n",
       "        text-align: right;\n",
       "    }\n",
       "</style>\n",
       "<table border=\"1\" class=\"dataframe\">\n",
       "  <thead>\n",
       "    <tr style=\"text-align: right;\">\n",
       "      <th></th>\n",
       "      <th>count</th>\n",
       "      <th>mean</th>\n",
       "      <th>std</th>\n",
       "      <th>min</th>\n",
       "      <th>25%</th>\n",
       "      <th>50%</th>\n",
       "      <th>75%</th>\n",
       "      <th>max</th>\n",
       "    </tr>\n",
       "  </thead>\n",
       "  <tbody>\n",
       "    <tr>\n",
       "      <th>bad</th>\n",
       "      <td>3576.0</td>\n",
       "      <td>0.199385</td>\n",
       "      <td>0.399594</td>\n",
       "      <td>0.00</td>\n",
       "      <td>0.00</td>\n",
       "      <td>0.000</td>\n",
       "      <td>0.00</td>\n",
       "      <td>1.000</td>\n",
       "    </tr>\n",
       "    <tr>\n",
       "      <th>loan</th>\n",
       "      <td>3576.0</td>\n",
       "      <td>18529.697987</td>\n",
       "      <td>11262.834060</td>\n",
       "      <td>1100.00</td>\n",
       "      <td>11000.00</td>\n",
       "      <td>16200.000</td>\n",
       "      <td>23100.00</td>\n",
       "      <td>89900.000</td>\n",
       "    </tr>\n",
       "    <tr>\n",
       "      <th>mortdue</th>\n",
       "      <td>3262.0</td>\n",
       "      <td>74013.907992</td>\n",
       "      <td>44016.833772</td>\n",
       "      <td>2619.00</td>\n",
       "      <td>46700.25</td>\n",
       "      <td>65858.000</td>\n",
       "      <td>91717.00</td>\n",
       "      <td>399550.000</td>\n",
       "    </tr>\n",
       "    <tr>\n",
       "      <th>value</th>\n",
       "      <td>3512.0</td>\n",
       "      <td>101076.922759</td>\n",
       "      <td>54865.275351</td>\n",
       "      <td>8800.00</td>\n",
       "      <td>65753.00</td>\n",
       "      <td>89183.000</td>\n",
       "      <td>118928.25</td>\n",
       "      <td>850000.000</td>\n",
       "    </tr>\n",
       "    <tr>\n",
       "      <th>yoj</th>\n",
       "      <td>3264.0</td>\n",
       "      <td>8.832644</td>\n",
       "      <td>7.568046</td>\n",
       "      <td>0.00</td>\n",
       "      <td>3.00</td>\n",
       "      <td>7.000</td>\n",
       "      <td>13.00</td>\n",
       "      <td>41.000</td>\n",
       "    </tr>\n",
       "    <tr>\n",
       "      <th>derog</th>\n",
       "      <td>3149.0</td>\n",
       "      <td>0.261670</td>\n",
       "      <td>0.865178</td>\n",
       "      <td>0.00</td>\n",
       "      <td>0.00</td>\n",
       "      <td>0.000</td>\n",
       "      <td>0.00</td>\n",
       "      <td>10.000</td>\n",
       "    </tr>\n",
       "    <tr>\n",
       "      <th>delinq</th>\n",
       "      <td>3225.0</td>\n",
       "      <td>0.432558</td>\n",
       "      <td>1.099230</td>\n",
       "      <td>0.00</td>\n",
       "      <td>0.00</td>\n",
       "      <td>0.000</td>\n",
       "      <td>0.00</td>\n",
       "      <td>15.000</td>\n",
       "    </tr>\n",
       "    <tr>\n",
       "      <th>clage</th>\n",
       "      <td>3397.0</td>\n",
       "      <td>179.832529</td>\n",
       "      <td>87.066198</td>\n",
       "      <td>0.49</td>\n",
       "      <td>115.60</td>\n",
       "      <td>173.640</td>\n",
       "      <td>230.71</td>\n",
       "      <td>1168.230</td>\n",
       "    </tr>\n",
       "    <tr>\n",
       "      <th>clno</th>\n",
       "      <td>3443.0</td>\n",
       "      <td>21.507116</td>\n",
       "      <td>10.167490</td>\n",
       "      <td>0.00</td>\n",
       "      <td>15.00</td>\n",
       "      <td>20.000</td>\n",
       "      <td>26.00</td>\n",
       "      <td>71.000</td>\n",
       "    </tr>\n",
       "    <tr>\n",
       "      <th>debtinc</th>\n",
       "      <td>2809.0</td>\n",
       "      <td>33.831737</td>\n",
       "      <td>9.061837</td>\n",
       "      <td>0.72</td>\n",
       "      <td>29.14</td>\n",
       "      <td>34.747</td>\n",
       "      <td>38.94</td>\n",
       "      <td>203.312</td>\n",
       "    </tr>\n",
       "  </tbody>\n",
       "</table>\n",
       "</div>"
      ],
      "text/plain": [
       "          count           mean           std  ...        50%        75%         max\n",
       "bad      3576.0       0.199385      0.399594  ...      0.000       0.00       1.000\n",
       "loan     3576.0   18529.697987  11262.834060  ...  16200.000   23100.00   89900.000\n",
       "mortdue  3262.0   74013.907992  44016.833772  ...  65858.000   91717.00  399550.000\n",
       "value    3512.0  101076.922759  54865.275351  ...  89183.000  118928.25  850000.000\n",
       "yoj      3264.0       8.832644      7.568046  ...      7.000      13.00      41.000\n",
       "derog    3149.0       0.261670      0.865178  ...      0.000       0.00      10.000\n",
       "delinq   3225.0       0.432558      1.099230  ...      0.000       0.00      15.000\n",
       "clage    3397.0     179.832529     87.066198  ...    173.640     230.71    1168.230\n",
       "clno     3443.0      21.507116     10.167490  ...     20.000      26.00      71.000\n",
       "debtinc  2809.0      33.831737      9.061837  ...     34.747      38.94     203.312\n",
       "\n",
       "[10 rows x 8 columns]"
      ]
     },
     "execution_count": 36,
     "metadata": {
      "tags": []
     },
     "output_type": "execute_result"
    }
   ],
   "source": [
    "df.describe().T"
   ]
  },
  {
   "cell_type": "code",
   "execution_count": 43,
   "metadata": {
    "colab": {
     "base_uri": "https://localhost:8080/",
     "height": 230
    },
    "colab_type": "code",
    "id": "vuJDzx6zl1eW",
    "outputId": "d75e4dee-6bd9-4f81-9ea8-f2d9e2821b12"
   },
   "outputs": [
    {
     "data": {
      "text/plain": [
       "0.0     2706\n",
       "1.0      265\n",
       "2.0       98\n",
       "3.0       35\n",
       "4.0       14\n",
       "6.0       10\n",
       "5.0        8\n",
       "7.0        7\n",
       "8.0        3\n",
       "10.0       2\n",
       "9.0        1\n",
       "Name: derog, dtype: int64"
      ]
     },
     "execution_count": 43,
     "metadata": {
      "tags": []
     },
     "output_type": "execute_result"
    }
   ],
   "source": [
    "df[\"derog\"].value_counts()"
   ]
  },
  {
   "cell_type": "code",
   "execution_count": null,
   "metadata": {
    "colab": {},
    "colab_type": "code",
    "id": "uG0kV5Smmm6H"
   },
   "outputs": [],
   "source": [
    "# Simdi DEROG degiskeni icinde benzer islemi gerceklestirelim"
   ]
  },
  {
   "cell_type": "code",
   "execution_count": 73,
   "metadata": {
    "colab": {},
    "colab_type": "code",
    "id": "qcYy_-hnmu8t"
   },
   "outputs": [],
   "source": [
    "As = df[df[\"derog\"] == 0].index\n",
    "\n",
    "df.loc[As,\"derog\"]= \"A\""
   ]
  },
  {
   "cell_type": "code",
   "execution_count": 74,
   "metadata": {
    "colab": {},
    "colab_type": "code",
    "id": "PnvfziyUmr9w"
   },
   "outputs": [],
   "source": [
    "es = df[(df[\"derog\"] == 1) | (df[\"derog\"] == 2) | (df[\"derog\"] == 3)].index"
   ]
  },
  {
   "cell_type": "code",
   "execution_count": 75,
   "metadata": {
    "colab": {},
    "colab_type": "code",
    "id": "9s8jGHOTmsj_"
   },
   "outputs": [],
   "source": [
    "df.loc[es,\"derog\"]= \"B\""
   ]
  },
  {
   "cell_type": "code",
   "execution_count": 78,
   "metadata": {
    "colab": {},
    "colab_type": "code",
    "id": "FeJnNrWzl8ox"
   },
   "outputs": [],
   "source": [
    "se = df[(df[\"derog\"] == 4) | (df[\"derog\"] == 5) | (df[\"derog\"] == 6) | (df[\"derog\"] == 7) | (df[\"derog\"] == 8) | (df[\"derog\"] == 9) | (df[\"derog\"] == 10)].index\n",
    "\n",
    "df.loc[se,\"derog\"]= \"C\""
   ]
  },
  {
   "cell_type": "code",
   "execution_count": 79,
   "metadata": {
    "colab": {
     "base_uri": "https://localhost:8080/",
     "height": 87
    },
    "colab_type": "code",
    "id": "cpElgVQAccGa",
    "outputId": "63c4f3c1-0b8c-4802-d0b0-92b9babb8941"
   },
   "outputs": [
    {
     "data": {
      "text/plain": [
       "A    1823\n",
       "B     188\n",
       "C       7\n",
       "Name: derog, dtype: int64"
      ]
     },
     "execution_count": 79,
     "metadata": {
      "tags": []
     },
     "output_type": "execute_result"
    }
   ],
   "source": [
    "df[\"derog\"].value_counts()"
   ]
  },
  {
   "cell_type": "code",
   "execution_count": 80,
   "metadata": {
    "colab": {},
    "colab_type": "code",
    "id": "QfGqg5zVn-Ms"
   },
   "outputs": [],
   "source": [
    "# Iki adet numeric degiskeni olceklendirerek kategorik yaptik simdi bu sekilde bir de modele verelim\n",
    "\n",
    "lbe = LabelEncoder()\n",
    "\n",
    "df[\"reason\"] = lbe.fit_transform(df1[\"reason\"])\n",
    "df  = pd.get_dummies(df,columns= [\"job\"], prefix= [\"job\"])\n",
    "df  = pd.get_dummies(df,columns= [\"ninq\"], prefix= [\"ninq\"])\n",
    "df  = pd.get_dummies(df,columns= [\"derog\"], prefix= [\"derog\"])"
   ]
  },
  {
   "cell_type": "code",
   "execution_count": 81,
   "metadata": {
    "colab": {
     "base_uri": "https://localhost:8080/",
     "height": 567
    },
    "colab_type": "code",
    "id": "BjquK6KdoWWh",
    "outputId": "543bc55e-e73d-4c36-d3b0-3e827a1dd537"
   },
   "outputs": [
    {
     "name": "stdout",
     "output_type": "stream",
     "text": [
      "<class 'pandas.core.frame.DataFrame'>\n",
      "Int64Index: 2018 entries, 153 to 3549\n",
      "Data columns (total 24 columns):\n",
      " #   Column      Non-Null Count  Dtype  \n",
      "---  ------      --------------  -----  \n",
      " 0   bad         2018 non-null   int64  \n",
      " 1   loan        2018 non-null   int64  \n",
      " 2   mortdue     2018 non-null   float64\n",
      " 3   value       2018 non-null   float64\n",
      " 4   reason      2018 non-null   int64  \n",
      " 5   yoj         2018 non-null   float64\n",
      " 6   delinq      2018 non-null   float64\n",
      " 7   clage       2018 non-null   float64\n",
      " 8   clno        2018 non-null   float64\n",
      " 9   debtinc     2018 non-null   float64\n",
      " 10  job_Mgr     2018 non-null   uint8  \n",
      " 11  job_Office  2018 non-null   uint8  \n",
      " 12  job_Other   2018 non-null   uint8  \n",
      " 13  job_ProfEx  2018 non-null   uint8  \n",
      " 14  job_Sales   2018 non-null   uint8  \n",
      " 15  job_Self    2018 non-null   uint8  \n",
      " 16  ninq_a      2018 non-null   uint8  \n",
      " 17  ninq_b      2018 non-null   uint8  \n",
      " 18  ninq_c      2018 non-null   uint8  \n",
      " 19  ninq_d      2018 non-null   uint8  \n",
      " 20  ninq_e      2018 non-null   uint8  \n",
      " 21  derog_A     2018 non-null   uint8  \n",
      " 22  derog_B     2018 non-null   uint8  \n",
      " 23  derog_C     2018 non-null   uint8  \n",
      "dtypes: float64(7), int64(3), uint8(14)\n",
      "memory usage: 281.0 KB\n"
     ]
    }
   ],
   "source": [
    "df.info()"
   ]
  },
  {
   "cell_type": "code",
   "execution_count": 82,
   "metadata": {
    "colab": {
     "base_uri": "https://localhost:8080/",
     "height": 127
    },
    "colab_type": "code",
    "id": "HkjGVoVGoaPa",
    "outputId": "b026fdbc-58cb-47d4-eb1b-930cf1eb54f2"
   },
   "outputs": [
    {
     "data": {
      "text/html": [
       "<div>\n",
       "<style scoped>\n",
       "    .dataframe tbody tr th:only-of-type {\n",
       "        vertical-align: middle;\n",
       "    }\n",
       "\n",
       "    .dataframe tbody tr th {\n",
       "        vertical-align: top;\n",
       "    }\n",
       "\n",
       "    .dataframe thead th {\n",
       "        text-align: right;\n",
       "    }\n",
       "</style>\n",
       "<table border=\"1\" class=\"dataframe\">\n",
       "  <thead>\n",
       "    <tr style=\"text-align: right;\">\n",
       "      <th></th>\n",
       "      <th>bad</th>\n",
       "      <th>loan</th>\n",
       "      <th>mortdue</th>\n",
       "      <th>value</th>\n",
       "      <th>reason</th>\n",
       "      <th>yoj</th>\n",
       "      <th>delinq</th>\n",
       "      <th>clage</th>\n",
       "      <th>clno</th>\n",
       "      <th>debtinc</th>\n",
       "      <th>job_Mgr</th>\n",
       "      <th>job_Office</th>\n",
       "      <th>job_Other</th>\n",
       "      <th>job_ProfEx</th>\n",
       "      <th>job_Sales</th>\n",
       "      <th>job_Self</th>\n",
       "      <th>ninq_a</th>\n",
       "      <th>ninq_b</th>\n",
       "      <th>ninq_c</th>\n",
       "      <th>ninq_d</th>\n",
       "      <th>ninq_e</th>\n",
       "      <th>derog_A</th>\n",
       "      <th>derog_B</th>\n",
       "      <th>derog_C</th>\n",
       "    </tr>\n",
       "  </thead>\n",
       "  <tbody>\n",
       "    <tr>\n",
       "      <th>153</th>\n",
       "      <td>0</td>\n",
       "      <td>18200</td>\n",
       "      <td>94727.0</td>\n",
       "      <td>136877.0</td>\n",
       "      <td>0</td>\n",
       "      <td>15.0</td>\n",
       "      <td>0.0</td>\n",
       "      <td>168.96</td>\n",
       "      <td>26.0</td>\n",
       "      <td>36.056</td>\n",
       "      <td>1</td>\n",
       "      <td>0</td>\n",
       "      <td>0</td>\n",
       "      <td>0</td>\n",
       "      <td>0</td>\n",
       "      <td>0</td>\n",
       "      <td>0</td>\n",
       "      <td>1</td>\n",
       "      <td>0</td>\n",
       "      <td>0</td>\n",
       "      <td>0</td>\n",
       "      <td>1</td>\n",
       "      <td>0</td>\n",
       "      <td>0</td>\n",
       "    </tr>\n",
       "    <tr>\n",
       "      <th>154</th>\n",
       "      <td>0</td>\n",
       "      <td>21700</td>\n",
       "      <td>79240.0</td>\n",
       "      <td>96784.0</td>\n",
       "      <td>0</td>\n",
       "      <td>5.0</td>\n",
       "      <td>0.0</td>\n",
       "      <td>64.51</td>\n",
       "      <td>24.0</td>\n",
       "      <td>38.079</td>\n",
       "      <td>1</td>\n",
       "      <td>0</td>\n",
       "      <td>0</td>\n",
       "      <td>0</td>\n",
       "      <td>0</td>\n",
       "      <td>0</td>\n",
       "      <td>0</td>\n",
       "      <td>0</td>\n",
       "      <td>1</td>\n",
       "      <td>0</td>\n",
       "      <td>0</td>\n",
       "      <td>1</td>\n",
       "      <td>0</td>\n",
       "      <td>0</td>\n",
       "    </tr>\n",
       "  </tbody>\n",
       "</table>\n",
       "</div>"
      ],
      "text/plain": [
       "     bad   loan  mortdue     value  ...  ninq_e  derog_A  derog_B  derog_C\n",
       "153    0  18200  94727.0  136877.0  ...       0        1        0        0\n",
       "154    0  21700  79240.0   96784.0  ...       0        1        0        0\n",
       "\n",
       "[2 rows x 24 columns]"
      ]
     },
     "execution_count": 82,
     "metadata": {
      "tags": []
     },
     "output_type": "execute_result"
    }
   ],
   "source": [
    "df.head(2)"
   ]
  },
  {
   "cell_type": "code",
   "execution_count": 83,
   "metadata": {
    "colab": {},
    "colab_type": "code",
    "id": "_TFxVntcoc5I"
   },
   "outputs": [],
   "source": [
    "y = df[\"bad\"]\n",
    "X = df.drop([\"bad\"],axis=1)\n",
    "\n",
    "X_train,X_test,y_train,y_test = train_test_split(X,y,\n",
    "                                                 random_state = 42,\n",
    "                                                 test_size = 0.25)\n",
    "\n",
    "Results = cl.Methods()"
   ]
  },
  {
   "cell_type": "code",
   "execution_count": 84,
   "metadata": {
    "colab": {
     "base_uri": "https://localhost:8080/",
     "height": 514
    },
    "colab_type": "code",
    "id": "K_E2NJd3olzz",
    "outputId": "3d969b4e-6918-4dfc-fc9b-13796fbfde04"
   },
   "outputs": [
    {
     "name": "stdout",
     "output_type": "stream",
     "text": [
      "Fitting 10 folds for each of 15552 candidates, totalling 155520 fits\n"
     ]
    },
    {
     "name": "stderr",
     "output_type": "stream",
     "text": [
      "[Parallel(n_jobs=-1)]: Using backend LokyBackend with 2 concurrent workers.\n",
      "[Parallel(n_jobs=-1)]: Done 216 tasks      | elapsed:    2.5s\n",
      "[Parallel(n_jobs=-1)]: Done 2152 tasks      | elapsed:   12.0s\n",
      "[Parallel(n_jobs=-1)]: Done 5400 tasks      | elapsed:   28.5s\n",
      "[Parallel(n_jobs=-1)]: Done 9928 tasks      | elapsed:   52.1s\n",
      "[Parallel(n_jobs=-1)]: Done 15768 tasks      | elapsed:  1.4min\n",
      "[Parallel(n_jobs=-1)]: Done 22888 tasks      | elapsed:  2.1min\n",
      "[Parallel(n_jobs=-1)]: Done 31320 tasks      | elapsed:  3.1min\n",
      "[Parallel(n_jobs=-1)]: Done 41032 tasks      | elapsed:  4.3min\n",
      "[Parallel(n_jobs=-1)]: Done 52056 tasks      | elapsed:  5.8min\n",
      "[Parallel(n_jobs=-1)]: Done 64360 tasks      | elapsed:  7.6min\n",
      "[Parallel(n_jobs=-1)]: Done 77976 tasks      | elapsed:  9.7min\n",
      "[Parallel(n_jobs=-1)]: Done 92872 tasks      | elapsed: 11.2min\n",
      "[Parallel(n_jobs=-1)]: Done 109080 tasks      | elapsed: 13.4min\n",
      "[Parallel(n_jobs=-1)]: Done 126568 tasks      | elapsed: 16.3min\n",
      "[Parallel(n_jobs=-1)]: Done 145368 tasks      | elapsed: 19.9min\n",
      "[Parallel(n_jobs=-1)]: Done 155520 out of 155520 | elapsed: 22.1min finished\n"
     ]
    },
    {
     "name": "stdout",
     "output_type": "stream",
     "text": [
      "En iyi parametre degerleri:  {'criterion': 'entropy', 'max_depth': 7, 'min_samples_leaf': 2, 'min_samples_split': 2}\n",
      "Tune edilmemis modelin Accuaracy ve Confusion Matrixi: \n",
      "0.9465346534653465\n",
      "[[458   8]\n",
      " [ 19  20]]\n",
      "**********************************************\n",
      "Tune sonrasi Accuaracy ve Confusion Matrix: \n",
      "0.9584158415841584\n",
      "[[465   1]\n",
      " [ 20  19]]\n"
     ]
    }
   ],
   "source": [
    "Results.DecisionClassifier(X_train, y_train, X_test, y_test)"
   ]
  },
  {
   "cell_type": "code",
   "execution_count": null,
   "metadata": {
    "colab": {},
    "colab_type": "code",
    "id": "Xfkfdj9KzWIJ"
   },
   "outputs": [],
   "source": []
  },
  {
   "cell_type": "markdown",
   "metadata": {
    "colab_type": "text",
    "id": "dmS0te9_zW7k"
   },
   "source": [
    "## Ayni Modeli bir de Foresk datasinda kullanalim"
   ]
  },
  {
   "cell_type": "code",
   "execution_count": 86,
   "metadata": {
    "colab": {},
    "colab_type": "code",
    "id": "qX3JIsP8zWFA"
   },
   "outputs": [],
   "source": [
    "data = pd.read_excel(\"/content/drive/My Drive/HW_Data_Set.xlsx\")"
   ]
  },
  {
   "cell_type": "code",
   "execution_count": 88,
   "metadata": {
    "colab": {
     "base_uri": "https://localhost:8080/",
     "height": 158
    },
    "colab_type": "code",
    "id": "fkzGwqXkzWB5",
    "outputId": "74574e1e-1036-47c4-9dae-3843a2ea1da5"
   },
   "outputs": [
    {
     "name": "stdout",
     "output_type": "stream",
     "text": [
      "<class 'pandas.core.frame.DataFrame'>\n",
      "RangeIndex: 6167 entries, 0 to 6166\n",
      "Columns: 136 entries, ind_5 to 90_target\n",
      "dtypes: float64(88), int64(45), object(3)\n",
      "memory usage: 6.4+ MB\n",
      "None \n",
      "Boyut Bilgisi:\n",
      " (6167, 136)\n"
     ]
    }
   ],
   "source": [
    "info = cl.information(data)\n",
    "\n",
    "info.info_data()"
   ]
  },
  {
   "cell_type": "code",
   "execution_count": 89,
   "metadata": {
    "colab": {
     "base_uri": "https://localhost:8080/",
     "height": 406
    },
    "colab_type": "code",
    "id": "S3smGIvlzV7T",
    "outputId": "ae945446-20b9-4679-d31a-572121c31d45"
   },
   "outputs": [
    {
     "data": {
      "text/html": [
       "<div>\n",
       "<style scoped>\n",
       "    .dataframe tbody tr th:only-of-type {\n",
       "        vertical-align: middle;\n",
       "    }\n",
       "\n",
       "    .dataframe tbody tr th {\n",
       "        vertical-align: top;\n",
       "    }\n",
       "\n",
       "    .dataframe thead th {\n",
       "        text-align: right;\n",
       "    }\n",
       "</style>\n",
       "<table border=\"1\" class=\"dataframe\">\n",
       "  <thead>\n",
       "    <tr style=\"text-align: right;\">\n",
       "      <th></th>\n",
       "      <th>Missing_Values</th>\n",
       "      <th>Missing_values_rate %</th>\n",
       "    </tr>\n",
       "  </thead>\n",
       "  <tbody>\n",
       "    <tr>\n",
       "      <th>ind_5</th>\n",
       "      <td>0</td>\n",
       "      <td>0.0</td>\n",
       "    </tr>\n",
       "    <tr>\n",
       "      <th>ind_6</th>\n",
       "      <td>0</td>\n",
       "      <td>0.0</td>\n",
       "    </tr>\n",
       "    <tr>\n",
       "      <th>ind_8</th>\n",
       "      <td>0</td>\n",
       "      <td>0.0</td>\n",
       "    </tr>\n",
       "    <tr>\n",
       "      <th>ind_9</th>\n",
       "      <td>0</td>\n",
       "      <td>0.0</td>\n",
       "    </tr>\n",
       "    <tr>\n",
       "      <th>ind_10</th>\n",
       "      <td>0</td>\n",
       "      <td>0.0</td>\n",
       "    </tr>\n",
       "    <tr>\n",
       "      <th>...</th>\n",
       "      <td>...</td>\n",
       "      <td>...</td>\n",
       "    </tr>\n",
       "    <tr>\n",
       "      <th>ind_426</th>\n",
       "      <td>0</td>\n",
       "      <td>0.0</td>\n",
       "    </tr>\n",
       "    <tr>\n",
       "      <th>ind_428</th>\n",
       "      <td>0</td>\n",
       "      <td>0.0</td>\n",
       "    </tr>\n",
       "    <tr>\n",
       "      <th>20_target</th>\n",
       "      <td>0</td>\n",
       "      <td>0.0</td>\n",
       "    </tr>\n",
       "    <tr>\n",
       "      <th>50_target</th>\n",
       "      <td>0</td>\n",
       "      <td>0.0</td>\n",
       "    </tr>\n",
       "    <tr>\n",
       "      <th>90_target</th>\n",
       "      <td>0</td>\n",
       "      <td>0.0</td>\n",
       "    </tr>\n",
       "  </tbody>\n",
       "</table>\n",
       "<p>136 rows × 2 columns</p>\n",
       "</div>"
      ],
      "text/plain": [
       "           Missing_Values  Missing_values_rate %\n",
       "ind_5                   0                    0.0\n",
       "ind_6                   0                    0.0\n",
       "ind_8                   0                    0.0\n",
       "ind_9                   0                    0.0\n",
       "ind_10                  0                    0.0\n",
       "...                   ...                    ...\n",
       "ind_426                 0                    0.0\n",
       "ind_428                 0                    0.0\n",
       "20_target               0                    0.0\n",
       "50_target               0                    0.0\n",
       "90_target               0                    0.0\n",
       "\n",
       "[136 rows x 2 columns]"
      ]
     },
     "execution_count": 89,
     "metadata": {
      "tags": []
     },
     "output_type": "execute_result"
    }
   ],
   "source": [
    "info.MissingValues()"
   ]
  },
  {
   "cell_type": "code",
   "execution_count": 91,
   "metadata": {
    "colab": {
     "base_uri": "https://localhost:8080/",
     "height": 406
    },
    "colab_type": "code",
    "id": "GBxJSgt2z_ku",
    "outputId": "b184d2c8-c647-4358-c02b-c468a33c11da"
   },
   "outputs": [
    {
     "data": {
      "text/html": [
       "<div>\n",
       "<style scoped>\n",
       "    .dataframe tbody tr th:only-of-type {\n",
       "        vertical-align: middle;\n",
       "    }\n",
       "\n",
       "    .dataframe tbody tr th {\n",
       "        vertical-align: top;\n",
       "    }\n",
       "\n",
       "    .dataframe thead th {\n",
       "        text-align: right;\n",
       "    }\n",
       "</style>\n",
       "<table border=\"1\" class=\"dataframe\">\n",
       "  <thead>\n",
       "    <tr style=\"text-align: right;\">\n",
       "      <th></th>\n",
       "      <th>ind_109</th>\n",
       "      <th>ind_420</th>\n",
       "      <th>ind_422</th>\n",
       "    </tr>\n",
       "  </thead>\n",
       "  <tbody>\n",
       "    <tr>\n",
       "      <th>0</th>\n",
       "      <td>GREEN</td>\n",
       "      <td>-152</td>\n",
       "      <td>-353</td>\n",
       "    </tr>\n",
       "    <tr>\n",
       "      <th>1</th>\n",
       "      <td>GREEN</td>\n",
       "      <td>-158</td>\n",
       "      <td>-359</td>\n",
       "    </tr>\n",
       "    <tr>\n",
       "      <th>2</th>\n",
       "      <td>GREEN</td>\n",
       "      <td>-160</td>\n",
       "      <td>-362</td>\n",
       "    </tr>\n",
       "    <tr>\n",
       "      <th>3</th>\n",
       "      <td>GREEN</td>\n",
       "      <td>-166</td>\n",
       "      <td>-367</td>\n",
       "    </tr>\n",
       "    <tr>\n",
       "      <th>4</th>\n",
       "      <td>GREEN</td>\n",
       "      <td>-186</td>\n",
       "      <td>-388</td>\n",
       "    </tr>\n",
       "    <tr>\n",
       "      <th>...</th>\n",
       "      <td>...</td>\n",
       "      <td>...</td>\n",
       "      <td>...</td>\n",
       "    </tr>\n",
       "    <tr>\n",
       "      <th>6162</th>\n",
       "      <td>RED</td>\n",
       "      <td>-11</td>\n",
       "      <td>-270</td>\n",
       "    </tr>\n",
       "    <tr>\n",
       "      <th>6163</th>\n",
       "      <td>RED</td>\n",
       "      <td>-12</td>\n",
       "      <td>-271</td>\n",
       "    </tr>\n",
       "    <tr>\n",
       "      <th>6164</th>\n",
       "      <td>GREEN</td>\n",
       "      <td>-21</td>\n",
       "      <td>-280</td>\n",
       "    </tr>\n",
       "    <tr>\n",
       "      <th>6165</th>\n",
       "      <td>GREEN</td>\n",
       "      <td>-33</td>\n",
       "      <td>-292</td>\n",
       "    </tr>\n",
       "    <tr>\n",
       "      <th>6166</th>\n",
       "      <td>GREEN</td>\n",
       "      <td>-28</td>\n",
       "      <td>-288</td>\n",
       "    </tr>\n",
       "  </tbody>\n",
       "</table>\n",
       "<p>6167 rows × 3 columns</p>\n",
       "</div>"
      ],
      "text/plain": [
       "     ind_109 ind_420 ind_422\n",
       "0      GREEN    -152    -353\n",
       "1      GREEN    -158    -359\n",
       "2      GREEN    -160    -362\n",
       "3      GREEN    -166    -367\n",
       "4      GREEN    -186    -388\n",
       "...      ...     ...     ...\n",
       "6162     RED     -11    -270\n",
       "6163     RED     -12    -271\n",
       "6164   GREEN     -21    -280\n",
       "6165   GREEN     -33    -292\n",
       "6166   GREEN     -28    -288\n",
       "\n",
       "[6167 rows x 3 columns]"
      ]
     },
     "execution_count": 91,
     "metadata": {
      "tags": []
     },
     "output_type": "execute_result"
    }
   ],
   "source": [
    "data.select_dtypes(include=['object'])"
   ]
  },
  {
   "cell_type": "code",
   "execution_count": 92,
   "metadata": {
    "colab": {},
    "colab_type": "code",
    "id": "GPa7k2Vd0Lrp"
   },
   "outputs": [],
   "source": [
    "# Soru isareti olan yerlere NaN basiyoruz ardindan bunlari ortalama ile doldurup OBJECT olanlari da numeric hale getiriyoruz\n",
    "\n",
    "data.loc[data[data[\"ind_420\"] == \"?\"].index] = np.nan \n",
    "\n",
    "\n",
    "data[\"ind_422\"] = data[\"ind_422\"].fillna(data.mean()[\"ind_422\"])\n",
    "data[\"ind_420\"] = data[\"ind_420\"].fillna(data.mean()[\"ind_420\"])\n",
    "\n",
    "data[\"ind_422\"] = data[\"ind_422\"].astype('int32')\n",
    "data[\"ind_420\"] = data[\"ind_420\"].astype('int32')\n",
    "\n",
    "# Geriye kalan NaN degiskenleri de dolduruyoruz\n",
    "\n",
    "column = list(data.select_dtypes(include=[\"int32\",\"float64\"]))\n",
    "data[column] = data[column].apply(lambda x: x.fillna(x.mean()),axis=0)"
   ]
  },
  {
   "cell_type": "code",
   "execution_count": 93,
   "metadata": {
    "colab": {
     "base_uri": "https://localhost:8080/",
     "height": 406
    },
    "colab_type": "code",
    "id": "MCOWM-eY0Lpb",
    "outputId": "9c874ef7-c6e7-4e93-aa61-233f6f3b3aa2"
   },
   "outputs": [
    {
     "data": {
      "text/html": [
       "<div>\n",
       "<style scoped>\n",
       "    .dataframe tbody tr th:only-of-type {\n",
       "        vertical-align: middle;\n",
       "    }\n",
       "\n",
       "    .dataframe tbody tr th {\n",
       "        vertical-align: top;\n",
       "    }\n",
       "\n",
       "    .dataframe thead th {\n",
       "        text-align: right;\n",
       "    }\n",
       "</style>\n",
       "<table border=\"1\" class=\"dataframe\">\n",
       "  <thead>\n",
       "    <tr style=\"text-align: right;\">\n",
       "      <th></th>\n",
       "      <th>ind_109</th>\n",
       "    </tr>\n",
       "  </thead>\n",
       "  <tbody>\n",
       "    <tr>\n",
       "      <th>0</th>\n",
       "      <td>GREEN</td>\n",
       "    </tr>\n",
       "    <tr>\n",
       "      <th>1</th>\n",
       "      <td>GREEN</td>\n",
       "    </tr>\n",
       "    <tr>\n",
       "      <th>2</th>\n",
       "      <td>GREEN</td>\n",
       "    </tr>\n",
       "    <tr>\n",
       "      <th>3</th>\n",
       "      <td>GREEN</td>\n",
       "    </tr>\n",
       "    <tr>\n",
       "      <th>4</th>\n",
       "      <td>GREEN</td>\n",
       "    </tr>\n",
       "    <tr>\n",
       "      <th>...</th>\n",
       "      <td>...</td>\n",
       "    </tr>\n",
       "    <tr>\n",
       "      <th>6162</th>\n",
       "      <td>RED</td>\n",
       "    </tr>\n",
       "    <tr>\n",
       "      <th>6163</th>\n",
       "      <td>RED</td>\n",
       "    </tr>\n",
       "    <tr>\n",
       "      <th>6164</th>\n",
       "      <td>GREEN</td>\n",
       "    </tr>\n",
       "    <tr>\n",
       "      <th>6165</th>\n",
       "      <td>GREEN</td>\n",
       "    </tr>\n",
       "    <tr>\n",
       "      <th>6166</th>\n",
       "      <td>GREEN</td>\n",
       "    </tr>\n",
       "  </tbody>\n",
       "</table>\n",
       "<p>6167 rows × 1 columns</p>\n",
       "</div>"
      ],
      "text/plain": [
       "     ind_109\n",
       "0      GREEN\n",
       "1      GREEN\n",
       "2      GREEN\n",
       "3      GREEN\n",
       "4      GREEN\n",
       "...      ...\n",
       "6162     RED\n",
       "6163     RED\n",
       "6164   GREEN\n",
       "6165   GREEN\n",
       "6166   GREEN\n",
       "\n",
       "[6167 rows x 1 columns]"
      ]
     },
     "execution_count": 93,
     "metadata": {
      "tags": []
     },
     "output_type": "execute_result"
    }
   ],
   "source": [
    "data.select_dtypes(include=['object'])\n",
    "\n",
    "# Geriye sadece tek bir degiskenimiz kaldi object"
   ]
  },
  {
   "cell_type": "code",
   "execution_count": 94,
   "metadata": {
    "colab": {},
    "colab_type": "code",
    "id": "EL09qbcP0LnE"
   },
   "outputs": [],
   "source": [
    "# Donusumu de hallediyoruz\n",
    "\n",
    "data = pd.get_dummies(data,columns= [\"ind_109\"], prefix= [\"ind_109\"])\n",
    "\n",
    "data = data.drop([\"ind_109_RED\"],axis=1)"
   ]
  },
  {
   "cell_type": "code",
   "execution_count": 95,
   "metadata": {
    "colab": {},
    "colab_type": "code",
    "id": "fSNyhJd40LlB"
   },
   "outputs": [],
   "source": [
    "# Simdi parcalama islemini yapalim\n",
    "\n",
    "data.drop(labels=[\"20_target\",\"90_target\"],axis=1,inplace=True)\n",
    "\n",
    "X = data.drop(labels=\"50_target\",axis=1)\n",
    "y = data[\"50_target\"]\n",
    "\n",
    "X_train, X_test, y_train, y_test = train_test_split(X,y, test_size = .2, random_state = 42,shuffle = False)"
   ]
  },
  {
   "cell_type": "code",
   "execution_count": 105,
   "metadata": {
    "colab": {
     "base_uri": "https://localhost:8080/",
     "height": 70
    },
    "colab_type": "code",
    "id": "-hje1guQ0Lip",
    "outputId": "4db72780-7dd8-4e2f-9c32-ed0942dd150b"
   },
   "outputs": [
    {
     "name": "stdout",
     "output_type": "stream",
     "text": [
      "En iyi parametre degerleri:  {'max_leaf_nodes': 2, 'min_samples_leaf': 11, 'min_samples_split': 16}\n",
      "Tune edilmemis rmse:  49.367452034691794 \n",
      "Tune sonrasi rmse:  34.00425044098538\n"
     ]
    }
   ],
   "source": [
    "import Classes1 as cl\n",
    "\n",
    "Results = cl.Methods()\n",
    "\n",
    "Results.DecisionReg(X_train, y_train, X_test, y_test)\n",
    "\n",
    "# Sonuc olarak Target 50 baz alindiginda Tune sonrasi iyi bir iyilesme sonucu elde edildi."
   ]
  }
 ],
 "metadata": {
  "accelerator": "GPU",
  "colab": {
   "collapsed_sections": [],
   "name": "KararAgaci.ipynb",
   "provenance": []
  },
  "kernelspec": {
   "display_name": "Python 3",
   "language": "python",
   "name": "python3"
  },
  "language_info": {
   "codemirror_mode": {
    "name": "ipython",
    "version": 3
   },
   "file_extension": ".py",
   "mimetype": "text/x-python",
   "name": "python",
   "nbconvert_exporter": "python",
   "pygments_lexer": "ipython3",
   "version": "3.7.6"
  }
 },
 "nbformat": 4,
 "nbformat_minor": 4
}
