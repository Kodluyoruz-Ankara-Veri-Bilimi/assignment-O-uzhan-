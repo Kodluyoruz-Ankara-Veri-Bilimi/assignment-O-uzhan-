{
 "cells": [
  {
   "cell_type": "code",
   "execution_count": 10,
   "metadata": {},
   "outputs": [],
   "source": [
    "import pandas as pd\n",
    "import Classes1 as cl\n",
    "\n",
    "df = pd.read_excel(r\"C:\\Users\\LENOVO\\Desktop\\KodluyoruzBootcamp\\Ödevler Ve Çalışmalar\\HW_Data_Set.xlsx\") "
   ]
  },
  {
   "cell_type": "code",
   "execution_count": 11,
   "metadata": {},
   "outputs": [],
   "source": [
    "info_data = cl.information(df)"
   ]
  },
  {
   "cell_type": "code",
   "execution_count": 12,
   "metadata": {},
   "outputs": [
    {
     "data": {
      "text/html": [
       "<div>\n",
       "<style scoped>\n",
       "    .dataframe tbody tr th:only-of-type {\n",
       "        vertical-align: middle;\n",
       "    }\n",
       "\n",
       "    .dataframe tbody tr th {\n",
       "        vertical-align: top;\n",
       "    }\n",
       "\n",
       "    .dataframe thead th {\n",
       "        text-align: right;\n",
       "    }\n",
       "</style>\n",
       "<table border=\"1\" class=\"dataframe\">\n",
       "  <thead>\n",
       "    <tr style=\"text-align: right;\">\n",
       "      <th></th>\n",
       "      <th>ind_5</th>\n",
       "      <th>ind_6</th>\n",
       "      <th>ind_8</th>\n",
       "      <th>ind_9</th>\n",
       "      <th>ind_10</th>\n",
       "      <th>ind_12</th>\n",
       "      <th>ind_13</th>\n",
       "      <th>ind_14</th>\n",
       "      <th>ind_15</th>\n",
       "      <th>ind_16</th>\n",
       "      <th>...</th>\n",
       "      <th>ind_416</th>\n",
       "      <th>ind_418</th>\n",
       "      <th>ind_420</th>\n",
       "      <th>ind_422</th>\n",
       "      <th>ind_424</th>\n",
       "      <th>ind_426</th>\n",
       "      <th>ind_428</th>\n",
       "      <th>20_target</th>\n",
       "      <th>50_target</th>\n",
       "      <th>90_target</th>\n",
       "    </tr>\n",
       "  </thead>\n",
       "  <tbody>\n",
       "    <tr>\n",
       "      <th>0</th>\n",
       "      <td>19</td>\n",
       "      <td>17</td>\n",
       "      <td>100.0</td>\n",
       "      <td>85.714286</td>\n",
       "      <td>14.285714</td>\n",
       "      <td>72.363515</td>\n",
       "      <td>60.808814</td>\n",
       "      <td>23.80</td>\n",
       "      <td>17.62</td>\n",
       "      <td>11.73</td>\n",
       "      <td>...</td>\n",
       "      <td>-49.6</td>\n",
       "      <td>-54</td>\n",
       "      <td>-152</td>\n",
       "      <td>-353</td>\n",
       "      <td>1.0</td>\n",
       "      <td>0.498547</td>\n",
       "      <td>0.701906</td>\n",
       "      <td>15.135802</td>\n",
       "      <td>35.625252</td>\n",
       "      <td>36.997753</td>\n",
       "    </tr>\n",
       "    <tr>\n",
       "      <th>1</th>\n",
       "      <td>24</td>\n",
       "      <td>19</td>\n",
       "      <td>100.0</td>\n",
       "      <td>78.571429</td>\n",
       "      <td>21.428571</td>\n",
       "      <td>74.275883</td>\n",
       "      <td>64.366798</td>\n",
       "      <td>11.45</td>\n",
       "      <td>18.16</td>\n",
       "      <td>12.22</td>\n",
       "      <td>...</td>\n",
       "      <td>-55.6</td>\n",
       "      <td>-60</td>\n",
       "      <td>-158</td>\n",
       "      <td>-359</td>\n",
       "      <td>1.0</td>\n",
       "      <td>0.537088</td>\n",
       "      <td>0.690833</td>\n",
       "      <td>15.143348</td>\n",
       "      <td>35.643013</td>\n",
       "      <td>37.016198</td>\n",
       "    </tr>\n",
       "    <tr>\n",
       "      <th>2</th>\n",
       "      <td>30</td>\n",
       "      <td>24</td>\n",
       "      <td>100.0</td>\n",
       "      <td>71.428571</td>\n",
       "      <td>28.571429</td>\n",
       "      <td>75.140402</td>\n",
       "      <td>65.915803</td>\n",
       "      <td>8.75</td>\n",
       "      <td>17.86</td>\n",
       "      <td>12.28</td>\n",
       "      <td>...</td>\n",
       "      <td>-58.4</td>\n",
       "      <td>-60</td>\n",
       "      <td>-160</td>\n",
       "      <td>-362</td>\n",
       "      <td>1.0</td>\n",
       "      <td>0.615169</td>\n",
       "      <td>0.693040</td>\n",
       "      <td>15.146870</td>\n",
       "      <td>35.651301</td>\n",
       "      <td>-37.024805</td>\n",
       "    </tr>\n",
       "    <tr>\n",
       "      <th>3</th>\n",
       "      <td>37</td>\n",
       "      <td>30</td>\n",
       "      <td>100.0</td>\n",
       "      <td>64.285714</td>\n",
       "      <td>35.714286</td>\n",
       "      <td>76.677846</td>\n",
       "      <td>68.584234</td>\n",
       "      <td>7.80</td>\n",
       "      <td>14.76</td>\n",
       "      <td>12.61</td>\n",
       "      <td>...</td>\n",
       "      <td>-61.8</td>\n",
       "      <td>-65</td>\n",
       "      <td>-166</td>\n",
       "      <td>-367</td>\n",
       "      <td>1.0</td>\n",
       "      <td>0.661517</td>\n",
       "      <td>0.673418</td>\n",
       "      <td>15.153283</td>\n",
       "      <td>0.000000</td>\n",
       "      <td>-37.040483</td>\n",
       "    </tr>\n",
       "    <tr>\n",
       "      <th>4</th>\n",
       "      <td>41</td>\n",
       "      <td>37</td>\n",
       "      <td>100.0</td>\n",
       "      <td>57.142857</td>\n",
       "      <td>42.857143</td>\n",
       "      <td>81.603007</td>\n",
       "      <td>76.455495</td>\n",
       "      <td>14.90</td>\n",
       "      <td>11.92</td>\n",
       "      <td>14.25</td>\n",
       "      <td>...</td>\n",
       "      <td>-79.8</td>\n",
       "      <td>-86</td>\n",
       "      <td>-186</td>\n",
       "      <td>-388</td>\n",
       "      <td>1.0</td>\n",
       "      <td>0.747204</td>\n",
       "      <td>0.700522</td>\n",
       "      <td>-15.179065</td>\n",
       "      <td>-35.727079</td>\n",
       "      <td>-37.103503</td>\n",
       "    </tr>\n",
       "  </tbody>\n",
       "</table>\n",
       "<p>5 rows × 136 columns</p>\n",
       "</div>"
      ],
      "text/plain": [
       "   ind_5  ind_6  ind_8      ind_9     ind_10     ind_12     ind_13  ind_14  \\\n",
       "0     19     17  100.0  85.714286  14.285714  72.363515  60.808814   23.80   \n",
       "1     24     19  100.0  78.571429  21.428571  74.275883  64.366798   11.45   \n",
       "2     30     24  100.0  71.428571  28.571429  75.140402  65.915803    8.75   \n",
       "3     37     30  100.0  64.285714  35.714286  76.677846  68.584234    7.80   \n",
       "4     41     37  100.0  57.142857  42.857143  81.603007  76.455495   14.90   \n",
       "\n",
       "   ind_15  ind_16  ...  ind_416  ind_418  ind_420  ind_422  ind_424   ind_426  \\\n",
       "0   17.62   11.73  ...    -49.6      -54     -152     -353      1.0  0.498547   \n",
       "1   18.16   12.22  ...    -55.6      -60     -158     -359      1.0  0.537088   \n",
       "2   17.86   12.28  ...    -58.4      -60     -160     -362      1.0  0.615169   \n",
       "3   14.76   12.61  ...    -61.8      -65     -166     -367      1.0  0.661517   \n",
       "4   11.92   14.25  ...    -79.8      -86     -186     -388      1.0  0.747204   \n",
       "\n",
       "    ind_428  20_target  50_target  90_target  \n",
       "0  0.701906  15.135802  35.625252  36.997753  \n",
       "1  0.690833  15.143348  35.643013  37.016198  \n",
       "2  0.693040  15.146870  35.651301 -37.024805  \n",
       "3  0.673418  15.153283   0.000000 -37.040483  \n",
       "4  0.700522 -15.179065 -35.727079 -37.103503  \n",
       "\n",
       "[5 rows x 136 columns]"
      ]
     },
     "execution_count": 12,
     "metadata": {},
     "output_type": "execute_result"
    }
   ],
   "source": [
    "df.head()"
   ]
  },
  {
   "cell_type": "markdown",
   "metadata": {},
   "source": [
    "* Datamizi goruyoruz 136 adet degiskenden olusuyor ve bunlarin 3 bagimli degiskenimiz"
   ]
  },
  {
   "cell_type": "code",
   "execution_count": 13,
   "metadata": {},
   "outputs": [
    {
     "name": "stdout",
     "output_type": "stream",
     "text": [
      "<class 'pandas.core.frame.DataFrame'>\n",
      "RangeIndex: 6167 entries, 0 to 6166\n",
      "Columns: 136 entries, ind_5 to 90_target\n",
      "dtypes: float64(88), int64(45), object(3)\n",
      "memory usage: 6.4+ MB\n",
      "None \n",
      "Boyut Bilgisi:\n",
      " (6167, 136)\n"
     ]
    }
   ],
   "source": [
    "info_data.info_data()"
   ]
  },
  {
   "cell_type": "markdown",
   "metadata": {},
   "source": [
    "* Data icerisinde baktigimiz zaman goze carpan 3 adet object tipinde degisken olmasi bunlar yanlis ayarlanmis olabilir cunku gozle gorulur bir sekilde onlari goremiyoruz."
   ]
  },
  {
   "cell_type": "code",
   "execution_count": 14,
   "metadata": {},
   "outputs": [
    {
     "data": {
      "text/html": [
       "<div>\n",
       "<style scoped>\n",
       "    .dataframe tbody tr th:only-of-type {\n",
       "        vertical-align: middle;\n",
       "    }\n",
       "\n",
       "    .dataframe tbody tr th {\n",
       "        vertical-align: top;\n",
       "    }\n",
       "\n",
       "    .dataframe thead th {\n",
       "        text-align: right;\n",
       "    }\n",
       "</style>\n",
       "<table border=\"1\" class=\"dataframe\">\n",
       "  <thead>\n",
       "    <tr style=\"text-align: right;\">\n",
       "      <th></th>\n",
       "      <th>ind_109</th>\n",
       "      <th>ind_420</th>\n",
       "      <th>ind_422</th>\n",
       "    </tr>\n",
       "  </thead>\n",
       "  <tbody>\n",
       "    <tr>\n",
       "      <th>0</th>\n",
       "      <td>GREEN</td>\n",
       "      <td>-152</td>\n",
       "      <td>-353</td>\n",
       "    </tr>\n",
       "    <tr>\n",
       "      <th>1</th>\n",
       "      <td>GREEN</td>\n",
       "      <td>-158</td>\n",
       "      <td>-359</td>\n",
       "    </tr>\n",
       "    <tr>\n",
       "      <th>2</th>\n",
       "      <td>GREEN</td>\n",
       "      <td>-160</td>\n",
       "      <td>-362</td>\n",
       "    </tr>\n",
       "    <tr>\n",
       "      <th>3</th>\n",
       "      <td>GREEN</td>\n",
       "      <td>-166</td>\n",
       "      <td>-367</td>\n",
       "    </tr>\n",
       "    <tr>\n",
       "      <th>4</th>\n",
       "      <td>GREEN</td>\n",
       "      <td>-186</td>\n",
       "      <td>-388</td>\n",
       "    </tr>\n",
       "    <tr>\n",
       "      <th>...</th>\n",
       "      <td>...</td>\n",
       "      <td>...</td>\n",
       "      <td>...</td>\n",
       "    </tr>\n",
       "    <tr>\n",
       "      <th>6162</th>\n",
       "      <td>RED</td>\n",
       "      <td>-11</td>\n",
       "      <td>-270</td>\n",
       "    </tr>\n",
       "    <tr>\n",
       "      <th>6163</th>\n",
       "      <td>RED</td>\n",
       "      <td>-12</td>\n",
       "      <td>-271</td>\n",
       "    </tr>\n",
       "    <tr>\n",
       "      <th>6164</th>\n",
       "      <td>GREEN</td>\n",
       "      <td>-21</td>\n",
       "      <td>-280</td>\n",
       "    </tr>\n",
       "    <tr>\n",
       "      <th>6165</th>\n",
       "      <td>GREEN</td>\n",
       "      <td>-33</td>\n",
       "      <td>-292</td>\n",
       "    </tr>\n",
       "    <tr>\n",
       "      <th>6166</th>\n",
       "      <td>GREEN</td>\n",
       "      <td>-28</td>\n",
       "      <td>-288</td>\n",
       "    </tr>\n",
       "  </tbody>\n",
       "</table>\n",
       "<p>6167 rows × 3 columns</p>\n",
       "</div>"
      ],
      "text/plain": [
       "     ind_109 ind_420 ind_422\n",
       "0      GREEN    -152    -353\n",
       "1      GREEN    -158    -359\n",
       "2      GREEN    -160    -362\n",
       "3      GREEN    -166    -367\n",
       "4      GREEN    -186    -388\n",
       "...      ...     ...     ...\n",
       "6162     RED     -11    -270\n",
       "6163     RED     -12    -271\n",
       "6164   GREEN     -21    -280\n",
       "6165   GREEN     -33    -292\n",
       "6166   GREEN     -28    -288\n",
       "\n",
       "[6167 rows x 3 columns]"
      ]
     },
     "execution_count": 14,
     "metadata": {},
     "output_type": "execute_result"
    }
   ],
   "source": [
    "df.select_dtypes(include=['object'])"
   ]
  },
  {
   "cell_type": "markdown",
   "metadata": {},
   "source": [
    "* Goruldugu uzere bu 3 degisken OBJECT olarak usaretlenmis ilki haric diger 2 degiskenin Noise gurultulu data oldugunu soylemekte yarar var. Simdi bunlari duzeltelim. "
   ]
  },
  {
   "cell_type": "code",
   "execution_count": 15,
   "metadata": {},
   "outputs": [],
   "source": [
    "import numpy as np\n",
    "\n",
    "# df[\"ind_422\"] = df[\"ind_422\"].astype('int32')\n",
    "# df[\"ind_420\"] = df[\"ind_420\"].astype('int32')\n",
    "\n",
    "# Normal de bu islem ile halledebiliyorduk ama soyle bir hat aldik '?' yani data icerisinde soru isareti konulup kayip veriler oldugu gorulmekte\n"
   ]
  },
  {
   "cell_type": "code",
   "execution_count": 16,
   "metadata": {},
   "outputs": [
    {
     "data": {
      "text/html": [
       "<div>\n",
       "<style scoped>\n",
       "    .dataframe tbody tr th:only-of-type {\n",
       "        vertical-align: middle;\n",
       "    }\n",
       "\n",
       "    .dataframe tbody tr th {\n",
       "        vertical-align: top;\n",
       "    }\n",
       "\n",
       "    .dataframe thead th {\n",
       "        text-align: right;\n",
       "    }\n",
       "</style>\n",
       "<table border=\"1\" class=\"dataframe\">\n",
       "  <thead>\n",
       "    <tr style=\"text-align: right;\">\n",
       "      <th></th>\n",
       "      <th>ind_109</th>\n",
       "    </tr>\n",
       "  </thead>\n",
       "  <tbody>\n",
       "    <tr>\n",
       "      <th>0</th>\n",
       "      <td>GREEN</td>\n",
       "    </tr>\n",
       "    <tr>\n",
       "      <th>1</th>\n",
       "      <td>GREEN</td>\n",
       "    </tr>\n",
       "    <tr>\n",
       "      <th>2</th>\n",
       "      <td>GREEN</td>\n",
       "    </tr>\n",
       "    <tr>\n",
       "      <th>3</th>\n",
       "      <td>GREEN</td>\n",
       "    </tr>\n",
       "    <tr>\n",
       "      <th>4</th>\n",
       "      <td>GREEN</td>\n",
       "    </tr>\n",
       "  </tbody>\n",
       "</table>\n",
       "</div>"
      ],
      "text/plain": [
       "  ind_109\n",
       "0   GREEN\n",
       "1   GREEN\n",
       "2   GREEN\n",
       "3   GREEN\n",
       "4   GREEN"
      ]
     },
     "execution_count": 16,
     "metadata": {},
     "output_type": "execute_result"
    }
   ],
   "source": [
    "gurultu = df[df[\"ind_420\"] == \"?\"].index\n",
    "\n",
    "df.drop(gurultu,axis=0,inplace=True)\n",
    "\n",
    "# Bu sekilde \"?\" olan gozlemleri direk dusurduk\n",
    "\n",
    "df[\"ind_422\"] = df[\"ind_422\"].astype('int32')\n",
    "df[\"ind_420\"] = df[\"ind_420\"].astype('int32')\n",
    "\n",
    "# islemimizi gerceklestirdik\n",
    "\n",
    "df.select_dtypes(include=['object'])[:5]\n",
    "\n",
    "# Geri bir tek gercekten OBJECT tipinde olan degiskenimizi goruyoruz"
   ]
  },
  {
   "cell_type": "code",
   "execution_count": 17,
   "metadata": {},
   "outputs": [
    {
     "data": {
      "text/html": [
       "<div>\n",
       "<style scoped>\n",
       "    .dataframe tbody tr th:only-of-type {\n",
       "        vertical-align: middle;\n",
       "    }\n",
       "\n",
       "    .dataframe tbody tr th {\n",
       "        vertical-align: top;\n",
       "    }\n",
       "\n",
       "    .dataframe thead th {\n",
       "        text-align: right;\n",
       "    }\n",
       "</style>\n",
       "<table border=\"1\" class=\"dataframe\">\n",
       "  <thead>\n",
       "    <tr style=\"text-align: right;\">\n",
       "      <th></th>\n",
       "      <th>Missing_Values</th>\n",
       "      <th>Missing_values_rate %</th>\n",
       "    </tr>\n",
       "  </thead>\n",
       "  <tbody>\n",
       "    <tr>\n",
       "      <th>ind_5</th>\n",
       "      <td>0</td>\n",
       "      <td>0.0</td>\n",
       "    </tr>\n",
       "    <tr>\n",
       "      <th>ind_6</th>\n",
       "      <td>0</td>\n",
       "      <td>0.0</td>\n",
       "    </tr>\n",
       "    <tr>\n",
       "      <th>ind_8</th>\n",
       "      <td>0</td>\n",
       "      <td>0.0</td>\n",
       "    </tr>\n",
       "    <tr>\n",
       "      <th>ind_9</th>\n",
       "      <td>0</td>\n",
       "      <td>0.0</td>\n",
       "    </tr>\n",
       "    <tr>\n",
       "      <th>ind_10</th>\n",
       "      <td>0</td>\n",
       "      <td>0.0</td>\n",
       "    </tr>\n",
       "    <tr>\n",
       "      <th>...</th>\n",
       "      <td>...</td>\n",
       "      <td>...</td>\n",
       "    </tr>\n",
       "    <tr>\n",
       "      <th>ind_426</th>\n",
       "      <td>0</td>\n",
       "      <td>0.0</td>\n",
       "    </tr>\n",
       "    <tr>\n",
       "      <th>ind_428</th>\n",
       "      <td>0</td>\n",
       "      <td>0.0</td>\n",
       "    </tr>\n",
       "    <tr>\n",
       "      <th>20_target</th>\n",
       "      <td>0</td>\n",
       "      <td>0.0</td>\n",
       "    </tr>\n",
       "    <tr>\n",
       "      <th>50_target</th>\n",
       "      <td>0</td>\n",
       "      <td>0.0</td>\n",
       "    </tr>\n",
       "    <tr>\n",
       "      <th>90_target</th>\n",
       "      <td>0</td>\n",
       "      <td>0.0</td>\n",
       "    </tr>\n",
       "  </tbody>\n",
       "</table>\n",
       "<p>136 rows × 2 columns</p>\n",
       "</div>"
      ],
      "text/plain": [
       "           Missing_Values  Missing_values_rate %\n",
       "ind_5                   0                    0.0\n",
       "ind_6                   0                    0.0\n",
       "ind_8                   0                    0.0\n",
       "ind_9                   0                    0.0\n",
       "ind_10                  0                    0.0\n",
       "...                   ...                    ...\n",
       "ind_426                 0                    0.0\n",
       "ind_428                 0                    0.0\n",
       "20_target               0                    0.0\n",
       "50_target               0                    0.0\n",
       "90_target               0                    0.0\n",
       "\n",
       "[136 rows x 2 columns]"
      ]
     },
     "execution_count": 17,
     "metadata": {},
     "output_type": "execute_result"
    }
   ],
   "source": [
    "info_data.MissingValues()\n",
    "\n",
    "# Eksik gozlem gozukmemekte "
   ]
  },
  {
   "cell_type": "code",
   "execution_count": 18,
   "metadata": {},
   "outputs": [
    {
     "data": {
      "text/html": [
       "<div>\n",
       "<style scoped>\n",
       "    .dataframe tbody tr th:only-of-type {\n",
       "        vertical-align: middle;\n",
       "    }\n",
       "\n",
       "    .dataframe tbody tr th {\n",
       "        vertical-align: top;\n",
       "    }\n",
       "\n",
       "    .dataframe thead th {\n",
       "        text-align: right;\n",
       "    }\n",
       "</style>\n",
       "<table border=\"1\" class=\"dataframe\">\n",
       "  <thead>\n",
       "    <tr style=\"text-align: right;\">\n",
       "      <th></th>\n",
       "      <th>count</th>\n",
       "      <th>mean</th>\n",
       "      <th>std</th>\n",
       "      <th>min</th>\n",
       "      <th>25%</th>\n",
       "      <th>50%</th>\n",
       "      <th>75%</th>\n",
       "      <th>max</th>\n",
       "    </tr>\n",
       "  </thead>\n",
       "  <tbody>\n",
       "    <tr>\n",
       "      <th>ind_5</th>\n",
       "      <td>5126.0</td>\n",
       "      <td>-1.251853</td>\n",
       "      <td>23.546553</td>\n",
       "      <td>-131.000000</td>\n",
       "      <td>-14.000000</td>\n",
       "      <td>0.000000</td>\n",
       "      <td>13.000000</td>\n",
       "      <td>69.000000</td>\n",
       "    </tr>\n",
       "    <tr>\n",
       "      <th>ind_6</th>\n",
       "      <td>5126.0</td>\n",
       "      <td>-1.240148</td>\n",
       "      <td>23.550694</td>\n",
       "      <td>-131.000000</td>\n",
       "      <td>-14.000000</td>\n",
       "      <td>0.000000</td>\n",
       "      <td>13.000000</td>\n",
       "      <td>69.000000</td>\n",
       "    </tr>\n",
       "    <tr>\n",
       "      <th>ind_8</th>\n",
       "      <td>5126.0</td>\n",
       "      <td>49.016220</td>\n",
       "      <td>36.340676</td>\n",
       "      <td>0.000000</td>\n",
       "      <td>14.285714</td>\n",
       "      <td>50.000000</td>\n",
       "      <td>85.714286</td>\n",
       "      <td>100.000000</td>\n",
       "    </tr>\n",
       "    <tr>\n",
       "      <th>ind_9</th>\n",
       "      <td>5126.0</td>\n",
       "      <td>48.042194</td>\n",
       "      <td>36.619184</td>\n",
       "      <td>0.000000</td>\n",
       "      <td>14.285714</td>\n",
       "      <td>42.857143</td>\n",
       "      <td>85.714286</td>\n",
       "      <td>100.000000</td>\n",
       "    </tr>\n",
       "    <tr>\n",
       "      <th>ind_10</th>\n",
       "      <td>5126.0</td>\n",
       "      <td>0.974026</td>\n",
       "      <td>60.375932</td>\n",
       "      <td>-100.000000</td>\n",
       "      <td>-50.000000</td>\n",
       "      <td>7.142857</td>\n",
       "      <td>57.142857</td>\n",
       "      <td>100.000000</td>\n",
       "    </tr>\n",
       "    <tr>\n",
       "      <th>...</th>\n",
       "      <td>...</td>\n",
       "      <td>...</td>\n",
       "      <td>...</td>\n",
       "      <td>...</td>\n",
       "      <td>...</td>\n",
       "      <td>...</td>\n",
       "      <td>...</td>\n",
       "      <td>...</td>\n",
       "    </tr>\n",
       "    <tr>\n",
       "      <th>ind_426</th>\n",
       "      <td>5126.0</td>\n",
       "      <td>0.496659</td>\n",
       "      <td>0.231322</td>\n",
       "      <td>0.000000</td>\n",
       "      <td>0.316777</td>\n",
       "      <td>0.494094</td>\n",
       "      <td>0.677657</td>\n",
       "      <td>1.000000</td>\n",
       "    </tr>\n",
       "    <tr>\n",
       "      <th>ind_428</th>\n",
       "      <td>5126.0</td>\n",
       "      <td>0.487013</td>\n",
       "      <td>0.151328</td>\n",
       "      <td>0.083530</td>\n",
       "      <td>0.373447</td>\n",
       "      <td>0.490489</td>\n",
       "      <td>0.600395</td>\n",
       "      <td>0.868534</td>\n",
       "    </tr>\n",
       "    <tr>\n",
       "      <th>20_target</th>\n",
       "      <td>5126.0</td>\n",
       "      <td>-0.022710</td>\n",
       "      <td>14.775880</td>\n",
       "      <td>-15.780588</td>\n",
       "      <td>-15.229653</td>\n",
       "      <td>0.000000</td>\n",
       "      <td>15.389812</td>\n",
       "      <td>15.768767</td>\n",
       "    </tr>\n",
       "    <tr>\n",
       "      <th>50_target</th>\n",
       "      <td>5126.0</td>\n",
       "      <td>-3.528451</td>\n",
       "      <td>34.294926</td>\n",
       "      <td>-37.142889</td>\n",
       "      <td>-36.096054</td>\n",
       "      <td>-34.282556</td>\n",
       "      <td>35.374015</td>\n",
       "      <td>37.038694</td>\n",
       "    </tr>\n",
       "    <tr>\n",
       "      <th>90_target</th>\n",
       "      <td>5126.0</td>\n",
       "      <td>-4.115568</td>\n",
       "      <td>36.654690</td>\n",
       "      <td>-38.573858</td>\n",
       "      <td>-37.615191</td>\n",
       "      <td>-35.809448</td>\n",
       "      <td>37.463791</td>\n",
       "      <td>38.465649</td>\n",
       "    </tr>\n",
       "  </tbody>\n",
       "</table>\n",
       "<p>135 rows × 8 columns</p>\n",
       "</div>"
      ],
      "text/plain": [
       "            count       mean        std         min        25%        50%  \\\n",
       "ind_5      5126.0  -1.251853  23.546553 -131.000000 -14.000000   0.000000   \n",
       "ind_6      5126.0  -1.240148  23.550694 -131.000000 -14.000000   0.000000   \n",
       "ind_8      5126.0  49.016220  36.340676    0.000000  14.285714  50.000000   \n",
       "ind_9      5126.0  48.042194  36.619184    0.000000  14.285714  42.857143   \n",
       "ind_10     5126.0   0.974026  60.375932 -100.000000 -50.000000   7.142857   \n",
       "...           ...        ...        ...         ...        ...        ...   \n",
       "ind_426    5126.0   0.496659   0.231322    0.000000   0.316777   0.494094   \n",
       "ind_428    5126.0   0.487013   0.151328    0.083530   0.373447   0.490489   \n",
       "20_target  5126.0  -0.022710  14.775880  -15.780588 -15.229653   0.000000   \n",
       "50_target  5126.0  -3.528451  34.294926  -37.142889 -36.096054 -34.282556   \n",
       "90_target  5126.0  -4.115568  36.654690  -38.573858 -37.615191 -35.809448   \n",
       "\n",
       "                 75%         max  \n",
       "ind_5      13.000000   69.000000  \n",
       "ind_6      13.000000   69.000000  \n",
       "ind_8      85.714286  100.000000  \n",
       "ind_9      85.714286  100.000000  \n",
       "ind_10     57.142857  100.000000  \n",
       "...              ...         ...  \n",
       "ind_426     0.677657    1.000000  \n",
       "ind_428     0.600395    0.868534  \n",
       "20_target  15.389812   15.768767  \n",
       "50_target  35.374015   37.038694  \n",
       "90_target  37.463791   38.465649  \n",
       "\n",
       "[135 rows x 8 columns]"
      ]
     },
     "execution_count": 18,
     "metadata": {},
     "output_type": "execute_result"
    }
   ],
   "source": [
    "info_data.summary_statistics()\n",
    "\n",
    "# Bazi degiskenlerin 0 ortalama ve sabit standart sapmalari varken bazilarinin ise bunun tersi oldugunu gorebiliyoruz"
   ]
  },
  {
   "cell_type": "code",
   "execution_count": 19,
   "metadata": {},
   "outputs": [
    {
     "data": {
      "text/plain": [
       "GREEN    2614\n",
       "RED      2512\n",
       "Name: ind_109, dtype: int64"
      ]
     },
     "execution_count": 19,
     "metadata": {},
     "output_type": "execute_result"
    }
   ],
   "source": [
    "df[\"ind_109\"].value_counts()\n",
    "\n",
    "# Tek kategorik degiskenimizin ise 2 adet sinifi bulunmakta"
   ]
  },
  {
   "cell_type": "code",
   "execution_count": 20,
   "metadata": {},
   "outputs": [
    {
     "data": {
      "text/html": [
       "<div>\n",
       "<style scoped>\n",
       "    .dataframe tbody tr th:only-of-type {\n",
       "        vertical-align: middle;\n",
       "    }\n",
       "\n",
       "    .dataframe tbody tr th {\n",
       "        vertical-align: top;\n",
       "    }\n",
       "\n",
       "    .dataframe thead th {\n",
       "        text-align: right;\n",
       "    }\n",
       "</style>\n",
       "<table border=\"1\" class=\"dataframe\">\n",
       "  <thead>\n",
       "    <tr style=\"text-align: right;\">\n",
       "      <th></th>\n",
       "      <th>ind_5</th>\n",
       "      <th>ind_6</th>\n",
       "      <th>ind_8</th>\n",
       "      <th>ind_9</th>\n",
       "      <th>ind_10</th>\n",
       "      <th>ind_12</th>\n",
       "      <th>ind_13</th>\n",
       "      <th>ind_14</th>\n",
       "      <th>ind_15</th>\n",
       "      <th>ind_16</th>\n",
       "      <th>...</th>\n",
       "      <th>ind_416</th>\n",
       "      <th>ind_418</th>\n",
       "      <th>ind_420</th>\n",
       "      <th>ind_422</th>\n",
       "      <th>ind_424</th>\n",
       "      <th>ind_426</th>\n",
       "      <th>ind_428</th>\n",
       "      <th>20_target</th>\n",
       "      <th>50_target</th>\n",
       "      <th>90_target</th>\n",
       "    </tr>\n",
       "  </thead>\n",
       "  <tbody>\n",
       "    <tr>\n",
       "      <th>ind_5</th>\n",
       "      <td>1.000000</td>\n",
       "      <td>0.990115</td>\n",
       "      <td>0.547483</td>\n",
       "      <td>-0.518832</td>\n",
       "      <td>0.644215</td>\n",
       "      <td>0.820822</td>\n",
       "      <td>0.777479</td>\n",
       "      <td>-0.045803</td>\n",
       "      <td>-0.067730</td>\n",
       "      <td>-0.092888</td>\n",
       "      <td>...</td>\n",
       "      <td>-0.324564</td>\n",
       "      <td>-0.587574</td>\n",
       "      <td>-0.317846</td>\n",
       "      <td>-0.329648</td>\n",
       "      <td>0.078010</td>\n",
       "      <td>0.621468</td>\n",
       "      <td>0.816156</td>\n",
       "      <td>0.052210</td>\n",
       "      <td>0.081537</td>\n",
       "      <td>0.073107</td>\n",
       "    </tr>\n",
       "    <tr>\n",
       "      <th>ind_6</th>\n",
       "      <td>0.990115</td>\n",
       "      <td>1.000000</td>\n",
       "      <td>0.521053</td>\n",
       "      <td>-0.479383</td>\n",
       "      <td>0.604380</td>\n",
       "      <td>0.767504</td>\n",
       "      <td>0.722541</td>\n",
       "      <td>-0.034480</td>\n",
       "      <td>-0.057776</td>\n",
       "      <td>-0.086007</td>\n",
       "      <td>...</td>\n",
       "      <td>-0.299246</td>\n",
       "      <td>-0.536726</td>\n",
       "      <td>-0.320019</td>\n",
       "      <td>-0.331171</td>\n",
       "      <td>0.023117</td>\n",
       "      <td>0.562515</td>\n",
       "      <td>0.809119</td>\n",
       "      <td>0.052347</td>\n",
       "      <td>0.081567</td>\n",
       "      <td>0.073585</td>\n",
       "    </tr>\n",
       "    <tr>\n",
       "      <th>ind_8</th>\n",
       "      <td>0.547483</td>\n",
       "      <td>0.521053</td>\n",
       "      <td>1.000000</td>\n",
       "      <td>-0.369578</td>\n",
       "      <td>0.826063</td>\n",
       "      <td>0.585052</td>\n",
       "      <td>0.480337</td>\n",
       "      <td>0.146128</td>\n",
       "      <td>0.119751</td>\n",
       "      <td>0.016810</td>\n",
       "      <td>...</td>\n",
       "      <td>-0.268403</td>\n",
       "      <td>-0.421079</td>\n",
       "      <td>-0.144740</td>\n",
       "      <td>-0.159317</td>\n",
       "      <td>0.142893</td>\n",
       "      <td>0.595508</td>\n",
       "      <td>0.458084</td>\n",
       "      <td>-0.016948</td>\n",
       "      <td>0.001962</td>\n",
       "      <td>-0.011621</td>\n",
       "    </tr>\n",
       "    <tr>\n",
       "      <th>ind_9</th>\n",
       "      <td>-0.518832</td>\n",
       "      <td>-0.479383</td>\n",
       "      <td>-0.369578</td>\n",
       "      <td>1.000000</td>\n",
       "      <td>-0.828971</td>\n",
       "      <td>-0.602616</td>\n",
       "      <td>-0.560931</td>\n",
       "      <td>0.260789</td>\n",
       "      <td>0.263371</td>\n",
       "      <td>0.172689</td>\n",
       "      <td>...</td>\n",
       "      <td>0.346778</td>\n",
       "      <td>0.504424</td>\n",
       "      <td>0.131142</td>\n",
       "      <td>0.160855</td>\n",
       "      <td>-0.180249</td>\n",
       "      <td>-0.639987</td>\n",
       "      <td>-0.439689</td>\n",
       "      <td>-0.023754</td>\n",
       "      <td>-0.005618</td>\n",
       "      <td>0.013177</td>\n",
       "    </tr>\n",
       "    <tr>\n",
       "      <th>ind_10</th>\n",
       "      <td>0.644215</td>\n",
       "      <td>0.604380</td>\n",
       "      <td>0.826063</td>\n",
       "      <td>-0.828971</td>\n",
       "      <td>1.000000</td>\n",
       "      <td>0.717645</td>\n",
       "      <td>0.629334</td>\n",
       "      <td>-0.070218</td>\n",
       "      <td>-0.087661</td>\n",
       "      <td>-0.094621</td>\n",
       "      <td>...</td>\n",
       "      <td>-0.371881</td>\n",
       "      <td>-0.559393</td>\n",
       "      <td>-0.166660</td>\n",
       "      <td>-0.193456</td>\n",
       "      <td>0.195333</td>\n",
       "      <td>0.746605</td>\n",
       "      <td>0.542404</td>\n",
       "      <td>0.004207</td>\n",
       "      <td>0.004588</td>\n",
       "      <td>-0.014987</td>\n",
       "    </tr>\n",
       "    <tr>\n",
       "      <th>...</th>\n",
       "      <td>...</td>\n",
       "      <td>...</td>\n",
       "      <td>...</td>\n",
       "      <td>...</td>\n",
       "      <td>...</td>\n",
       "      <td>...</td>\n",
       "      <td>...</td>\n",
       "      <td>...</td>\n",
       "      <td>...</td>\n",
       "      <td>...</td>\n",
       "      <td>...</td>\n",
       "      <td>...</td>\n",
       "      <td>...</td>\n",
       "      <td>...</td>\n",
       "      <td>...</td>\n",
       "      <td>...</td>\n",
       "      <td>...</td>\n",
       "      <td>...</td>\n",
       "      <td>...</td>\n",
       "      <td>...</td>\n",
       "      <td>...</td>\n",
       "    </tr>\n",
       "    <tr>\n",
       "      <th>ind_426</th>\n",
       "      <td>0.621468</td>\n",
       "      <td>0.562515</td>\n",
       "      <td>0.595508</td>\n",
       "      <td>-0.639987</td>\n",
       "      <td>0.746605</td>\n",
       "      <td>0.775348</td>\n",
       "      <td>0.699661</td>\n",
       "      <td>-0.095876</td>\n",
       "      <td>-0.100360</td>\n",
       "      <td>-0.087605</td>\n",
       "      <td>...</td>\n",
       "      <td>-0.370107</td>\n",
       "      <td>-0.583362</td>\n",
       "      <td>-0.170756</td>\n",
       "      <td>-0.204524</td>\n",
       "      <td>0.341137</td>\n",
       "      <td>1.000000</td>\n",
       "      <td>0.580932</td>\n",
       "      <td>0.023080</td>\n",
       "      <td>0.016545</td>\n",
       "      <td>0.003437</td>\n",
       "    </tr>\n",
       "    <tr>\n",
       "      <th>ind_428</th>\n",
       "      <td>0.816156</td>\n",
       "      <td>0.809119</td>\n",
       "      <td>0.458084</td>\n",
       "      <td>-0.439689</td>\n",
       "      <td>0.542404</td>\n",
       "      <td>0.808156</td>\n",
       "      <td>0.729684</td>\n",
       "      <td>-0.006137</td>\n",
       "      <td>-0.019001</td>\n",
       "      <td>-0.035110</td>\n",
       "      <td>...</td>\n",
       "      <td>-0.281079</td>\n",
       "      <td>-0.459643</td>\n",
       "      <td>-0.327875</td>\n",
       "      <td>-0.358164</td>\n",
       "      <td>0.189822</td>\n",
       "      <td>0.580932</td>\n",
       "      <td>1.000000</td>\n",
       "      <td>0.041987</td>\n",
       "      <td>0.068053</td>\n",
       "      <td>0.058844</td>\n",
       "    </tr>\n",
       "    <tr>\n",
       "      <th>20_target</th>\n",
       "      <td>0.052210</td>\n",
       "      <td>0.052347</td>\n",
       "      <td>-0.016948</td>\n",
       "      <td>-0.023754</td>\n",
       "      <td>0.004207</td>\n",
       "      <td>0.034990</td>\n",
       "      <td>0.041982</td>\n",
       "      <td>0.001557</td>\n",
       "      <td>0.001838</td>\n",
       "      <td>0.025399</td>\n",
       "      <td>...</td>\n",
       "      <td>-0.004466</td>\n",
       "      <td>-0.044326</td>\n",
       "      <td>-0.001936</td>\n",
       "      <td>-0.035405</td>\n",
       "      <td>0.002466</td>\n",
       "      <td>0.023080</td>\n",
       "      <td>0.041987</td>\n",
       "      <td>1.000000</td>\n",
       "      <td>0.372915</td>\n",
       "      <td>0.344982</td>\n",
       "    </tr>\n",
       "    <tr>\n",
       "      <th>50_target</th>\n",
       "      <td>0.081537</td>\n",
       "      <td>0.081567</td>\n",
       "      <td>0.001962</td>\n",
       "      <td>-0.005618</td>\n",
       "      <td>0.004588</td>\n",
       "      <td>0.065218</td>\n",
       "      <td>0.057671</td>\n",
       "      <td>0.075191</td>\n",
       "      <td>0.087573</td>\n",
       "      <td>0.107244</td>\n",
       "      <td>...</td>\n",
       "      <td>0.041196</td>\n",
       "      <td>-0.114093</td>\n",
       "      <td>-0.030940</td>\n",
       "      <td>0.003000</td>\n",
       "      <td>-0.001411</td>\n",
       "      <td>0.016545</td>\n",
       "      <td>0.068053</td>\n",
       "      <td>0.372915</td>\n",
       "      <td>1.000000</td>\n",
       "      <td>0.935970</td>\n",
       "    </tr>\n",
       "    <tr>\n",
       "      <th>90_target</th>\n",
       "      <td>0.073107</td>\n",
       "      <td>0.073585</td>\n",
       "      <td>-0.011621</td>\n",
       "      <td>0.013177</td>\n",
       "      <td>-0.014987</td>\n",
       "      <td>0.051887</td>\n",
       "      <td>0.048264</td>\n",
       "      <td>0.081735</td>\n",
       "      <td>0.090027</td>\n",
       "      <td>0.112978</td>\n",
       "      <td>...</td>\n",
       "      <td>0.041301</td>\n",
       "      <td>-0.108483</td>\n",
       "      <td>-0.024791</td>\n",
       "      <td>0.002561</td>\n",
       "      <td>-0.008374</td>\n",
       "      <td>0.003437</td>\n",
       "      <td>0.058844</td>\n",
       "      <td>0.344982</td>\n",
       "      <td>0.935970</td>\n",
       "      <td>1.000000</td>\n",
       "    </tr>\n",
       "  </tbody>\n",
       "</table>\n",
       "<p>135 rows × 135 columns</p>\n",
       "</div>"
      ],
      "text/plain": [
       "              ind_5     ind_6     ind_8     ind_9    ind_10    ind_12  \\\n",
       "ind_5      1.000000  0.990115  0.547483 -0.518832  0.644215  0.820822   \n",
       "ind_6      0.990115  1.000000  0.521053 -0.479383  0.604380  0.767504   \n",
       "ind_8      0.547483  0.521053  1.000000 -0.369578  0.826063  0.585052   \n",
       "ind_9     -0.518832 -0.479383 -0.369578  1.000000 -0.828971 -0.602616   \n",
       "ind_10     0.644215  0.604380  0.826063 -0.828971  1.000000  0.717645   \n",
       "...             ...       ...       ...       ...       ...       ...   \n",
       "ind_426    0.621468  0.562515  0.595508 -0.639987  0.746605  0.775348   \n",
       "ind_428    0.816156  0.809119  0.458084 -0.439689  0.542404  0.808156   \n",
       "20_target  0.052210  0.052347 -0.016948 -0.023754  0.004207  0.034990   \n",
       "50_target  0.081537  0.081567  0.001962 -0.005618  0.004588  0.065218   \n",
       "90_target  0.073107  0.073585 -0.011621  0.013177 -0.014987  0.051887   \n",
       "\n",
       "             ind_13    ind_14    ind_15    ind_16  ...   ind_416   ind_418  \\\n",
       "ind_5      0.777479 -0.045803 -0.067730 -0.092888  ... -0.324564 -0.587574   \n",
       "ind_6      0.722541 -0.034480 -0.057776 -0.086007  ... -0.299246 -0.536726   \n",
       "ind_8      0.480337  0.146128  0.119751  0.016810  ... -0.268403 -0.421079   \n",
       "ind_9     -0.560931  0.260789  0.263371  0.172689  ...  0.346778  0.504424   \n",
       "ind_10     0.629334 -0.070218 -0.087661 -0.094621  ... -0.371881 -0.559393   \n",
       "...             ...       ...       ...       ...  ...       ...       ...   \n",
       "ind_426    0.699661 -0.095876 -0.100360 -0.087605  ... -0.370107 -0.583362   \n",
       "ind_428    0.729684 -0.006137 -0.019001 -0.035110  ... -0.281079 -0.459643   \n",
       "20_target  0.041982  0.001557  0.001838  0.025399  ... -0.004466 -0.044326   \n",
       "50_target  0.057671  0.075191  0.087573  0.107244  ...  0.041196 -0.114093   \n",
       "90_target  0.048264  0.081735  0.090027  0.112978  ...  0.041301 -0.108483   \n",
       "\n",
       "            ind_420   ind_422   ind_424   ind_426   ind_428  20_target  \\\n",
       "ind_5     -0.317846 -0.329648  0.078010  0.621468  0.816156   0.052210   \n",
       "ind_6     -0.320019 -0.331171  0.023117  0.562515  0.809119   0.052347   \n",
       "ind_8     -0.144740 -0.159317  0.142893  0.595508  0.458084  -0.016948   \n",
       "ind_9      0.131142  0.160855 -0.180249 -0.639987 -0.439689  -0.023754   \n",
       "ind_10    -0.166660 -0.193456  0.195333  0.746605  0.542404   0.004207   \n",
       "...             ...       ...       ...       ...       ...        ...   \n",
       "ind_426   -0.170756 -0.204524  0.341137  1.000000  0.580932   0.023080   \n",
       "ind_428   -0.327875 -0.358164  0.189822  0.580932  1.000000   0.041987   \n",
       "20_target -0.001936 -0.035405  0.002466  0.023080  0.041987   1.000000   \n",
       "50_target -0.030940  0.003000 -0.001411  0.016545  0.068053   0.372915   \n",
       "90_target -0.024791  0.002561 -0.008374  0.003437  0.058844   0.344982   \n",
       "\n",
       "           50_target  90_target  \n",
       "ind_5       0.081537   0.073107  \n",
       "ind_6       0.081567   0.073585  \n",
       "ind_8       0.001962  -0.011621  \n",
       "ind_9      -0.005618   0.013177  \n",
       "ind_10      0.004588  -0.014987  \n",
       "...              ...        ...  \n",
       "ind_426     0.016545   0.003437  \n",
       "ind_428     0.068053   0.058844  \n",
       "20_target   0.372915   0.344982  \n",
       "50_target   1.000000   0.935970  \n",
       "90_target   0.935970   1.000000  \n",
       "\n",
       "[135 rows x 135 columns]"
      ]
     },
     "execution_count": 20,
     "metadata": {},
     "output_type": "execute_result"
    }
   ],
   "source": [
    "df.corr()"
   ]
  },
  {
   "cell_type": "markdown",
   "metadata": {},
   "source": [
    "* Degiskenler arasinda korelasyonu gorebiliyoruz bazilari yok denecek kadar iken bazilari ise yuksek derece iliskili gozukmekte"
   ]
  },
  {
   "cell_type": "code",
   "execution_count": null,
   "metadata": {},
   "outputs": [],
   "source": []
  },
  {
   "cell_type": "markdown",
   "metadata": {},
   "source": [
    "## Simdi gorsellestirmeye gecebiliriz\n"
   ]
  },
  {
   "cell_type": "code",
   "execution_count": 21,
   "metadata": {},
   "outputs": [],
   "source": [
    "data_visualation = cl.Visualization(df)"
   ]
  },
  {
   "cell_type": "code",
   "execution_count": 22,
   "metadata": {},
   "outputs": [
    {
     "data": {
      "text/plain": [
       "<matplotlib.axes._subplots.AxesSubplot at 0x211f3825e88>"
      ]
     },
     "execution_count": 22,
     "metadata": {},
     "output_type": "execute_result"
    },
    {
     "data": {
      "image/png": "[encoded data removed]",
      "text/plain": [
       "<Figure size 612x396 with 1 Axes>"
      ]
     },
     "metadata": {
      "needs_background": "light"
     },
     "output_type": "display_data"
    }
   ],
   "source": [
    "data_visualation.bar(\"ind_109\",\"20_target\")\n",
    "\n"
   ]
  },
  {
   "cell_type": "code",
   "execution_count": 23,
   "metadata": {},
   "outputs": [
    {
     "data": {
      "text/plain": [
       "<matplotlib.axes._subplots.AxesSubplot at 0x211f232d608>"
      ]
     },
     "execution_count": 23,
     "metadata": {},
     "output_type": "execute_result"
    },
    {
     "data": {
      "image/png": "[encoded data removed]",
      "text/plain": [
       "<Figure size 612x396 with 1 Axes>"
      ]
     },
     "metadata": {
      "needs_background": "light"
     },
     "output_type": "display_data"
    }
   ],
   "source": [
    "data_visualation.bar(\"ind_109\",\"50_target\")"
   ]
  },
  {
   "cell_type": "code",
   "execution_count": 24,
   "metadata": {},
   "outputs": [
    {
     "data": {
      "text/plain": [
       "<matplotlib.axes._subplots.AxesSubplot at 0x211f1cb3f88>"
      ]
     },
     "execution_count": 24,
     "metadata": {},
     "output_type": "execute_result"
    },
    {
     "data": {
      "image/png": "[encoded data removed]",
      "text/plain": [
       "<Figure size 612x396 with 1 Axes>"
      ]
     },
     "metadata": {
      "needs_background": "light"
     },
     "output_type": "display_data"
    }
   ],
   "source": [
    "data_visualation.bar(\"ind_109\",\"90_target\")"
   ]
  },
  {
   "cell_type": "markdown",
   "metadata": {},
   "source": [
    "* Tek kategorik degiskenimizi Target degiskenler uzerinde gorsellestirmek istedigimiz de eksi degerlerden baslayan sikliklar da gorulmekte. Eksi dereceden o kategorik degiskenin sinifa ait veriler oldugunu gosteriyor"
   ]
  },
  {
   "cell_type": "code",
   "execution_count": 25,
   "metadata": {},
   "outputs": [
    {
     "data": {
      "text/plain": [
       "<matplotlib.axes._subplots.AxesSubplot at 0x211f362bb88>"
      ]
     },
     "execution_count": 25,
     "metadata": {},
     "output_type": "execute_result"
    },
    {
     "data": {
      "image/png": "[encoded data removed]",
      "text/plain": [
       "<Figure size 432x288 with 1 Axes>"
      ]
     },
     "metadata": {
      "needs_background": "light"
     },
     "output_type": "display_data"
    }
   ],
   "source": [
    "data_visualation.boxplot(\"90_target\")"
   ]
  },
  {
   "cell_type": "markdown",
   "metadata": {},
   "source": [
    "* 3.target degiskenimiz hicbir outlier icermez iken ayni zamanda sagdan carpik oldugu gorulmekte"
   ]
  },
  {
   "cell_type": "code",
   "execution_count": 26,
   "metadata": {},
   "outputs": [
    {
     "data": {
      "text/plain": [
       "<matplotlib.axes._subplots.AxesSubplot at 0x211f21b3b48>"
      ]
     },
     "execution_count": 26,
     "metadata": {},
     "output_type": "execute_result"
    },
    {
     "data": {
      "image/png": "[encoded data removed]",
      "text/plain": [
       "<Figure size 432x288 with 1 Axes>"
      ]
     },
     "metadata": {
      "needs_background": "light"
     },
     "output_type": "display_data"
    }
   ],
   "source": [
    "data_visualation.boxplot(\"50_target\")"
   ]
  },
  {
   "cell_type": "markdown",
   "metadata": {},
   "source": [
    "* 2.Target degisken de ayni sekilde 3.den farksiz oldugunu soyeleyebiliriz"
   ]
  },
  {
   "cell_type": "code",
   "execution_count": 27,
   "metadata": {},
   "outputs": [
    {
     "data": {
      "text/plain": [
       "<matplotlib.axes._subplots.AxesSubplot at 0x211f188f808>"
      ]
     },
     "execution_count": 27,
     "metadata": {},
     "output_type": "execute_result"
    },
    {
     "data": {
      "image/png": "[encoded data removed]",
      "text/plain": [
       "<Figure size 432x288 with 1 Axes>"
      ]
     },
     "metadata": {
      "needs_background": "light"
     },
     "output_type": "display_data"
    }
   ],
   "source": [
    "data_visualation.boxplot(\"20_target\")"
   ]
  },
  {
   "cell_type": "markdown",
   "metadata": {},
   "source": [
    "* 1.Target degiskenimiz onlardan biraz daha farkli olarak ortalama 0 cevresinde ve sabit bir varyansi var gibi gorunuyor"
   ]
  },
  {
   "cell_type": "code",
   "execution_count": 28,
   "metadata": {},
   "outputs": [
    {
     "data": {
      "text/plain": [
       "<matplotlib.axes._subplots.AxesSubplot at 0x211f4fe5648>"
      ]
     },
     "execution_count": 28,
     "metadata": {},
     "output_type": "execute_result"
    },
    {
     "data": {
      "image/png": "[encoded data removed]",
      "text/plain": [
       "<Figure size 576x432 with 1 Axes>"
      ]
     },
     "metadata": {
      "needs_background": "light"
     },
     "output_type": "display_data"
    }
   ],
   "source": [
    "data_visualation.hist(\"20_target\")"
   ]
  },
  {
   "cell_type": "code",
   "execution_count": 29,
   "metadata": {},
   "outputs": [
    {
     "data": {
      "text/plain": [
       "<matplotlib.axes._subplots.AxesSubplot at 0x211f7320ec8>"
      ]
     },
     "execution_count": 29,
     "metadata": {},
     "output_type": "execute_result"
    },
    {
     "data": {
      "image/png": "[encoded data removed]",
      "text/plain": [
       "<Figure size 576x432 with 1 Axes>"
      ]
     },
     "metadata": {
      "needs_background": "light"
     },
     "output_type": "display_data"
    }
   ],
   "source": [
    "data_visualation.hist(\"50_target\")"
   ]
  },
  {
   "cell_type": "code",
   "execution_count": 30,
   "metadata": {},
   "outputs": [
    {
     "data": {
      "text/plain": [
       "<matplotlib.axes._subplots.AxesSubplot at 0x211f1110708>"
      ]
     },
     "execution_count": 30,
     "metadata": {},
     "output_type": "execute_result"
    },
    {
     "data": {
      "image/png": "[encoded data removed]",
      "text/plain": [
       "<Figure size 576x432 with 1 Axes>"
      ]
     },
     "metadata": {
      "needs_background": "light"
     },
     "output_type": "display_data"
    }
   ],
   "source": [
    "data_visualation.hist(\"90_target\")"
   ]
  },
  {
   "cell_type": "markdown",
   "metadata": {},
   "source": [
    "* 3 tane target degisken de normal dagilmadigini 2 tepelenme oldugunu goruyoruz"
   ]
  },
  {
   "cell_type": "code",
   "execution_count": 31,
   "metadata": {},
   "outputs": [
    {
     "data": {
      "text/plain": [
       "<matplotlib.axes._subplots.AxesSubplot at 0x211f356a408>"
      ]
     },
     "execution_count": 31,
     "metadata": {},
     "output_type": "execute_result"
    },
    {
     "data": {
      "image/png": "[encoded data removed]",
      "text/plain": [
       "<Figure size 432x288 with 1 Axes>"
      ]
     },
     "metadata": {
      "needs_background": "light"
     },
     "output_type": "display_data"
    }
   ],
   "source": [
    "data_visualation.scatter(\"ind_6\",\"ind_5\")"
   ]
  },
  {
   "cell_type": "markdown",
   "metadata": {},
   "source": [
    "* Buradaki degiskenimiz de pozitif yonde yuksek bir korelasyon gozukmekte bunlari beraber bagimsiz degisken olarak koymak bizim icin coklu dogrusal baglantiya sebebiyet verecektir"
   ]
  },
  {
   "cell_type": "code",
   "execution_count": 32,
   "metadata": {},
   "outputs": [
    {
     "data": {
      "text/plain": [
       "<matplotlib.axes._subplots.AxesSubplot at 0x211f227dc48>"
      ]
     },
     "execution_count": 32,
     "metadata": {},
     "output_type": "execute_result"
    },
    {
     "data": {
      "image/png": "[encoded data removed]",
      "text/plain": [
       "<Figure size 432x288 with 1 Axes>"
      ]
     },
     "metadata": {
      "needs_background": "light"
     },
     "output_type": "display_data"
    }
   ],
   "source": [
    "data_visualation.scatter(\"ind_9\",\"ind_5\")"
   ]
  },
  {
   "cell_type": "markdown",
   "metadata": {},
   "source": [
    "* Mesela burada da eksi yonlu bir iliski var bu da bizim icin bir bilgi demektir"
   ]
  },
  {
   "cell_type": "code",
   "execution_count": null,
   "metadata": {},
   "outputs": [],
   "source": []
  },
  {
   "cell_type": "code",
   "execution_count": null,
   "metadata": {},
   "outputs": [],
   "source": []
  },
  {
   "cell_type": "markdown",
   "metadata": {},
   "source": [
    "## Genel olarak soyle bir dataya baktigimiz da bazilarinin 0 ortalama sabit varyans seklinde oldugunu, bazilarinin ise Min Max degerler arasinda dagildigini ve ortalamalarinin 0 oldugunu gorebiliyoruz. Buda bende datalara bazi manipule islemler yapildigi hissini uyandirmakta"
   ]
  },
  {
   "cell_type": "markdown",
   "metadata": {},
   "source": [
    "* Simdi verilerden normal dagilanlar var mi onlara bakalim"
   ]
  },
  {
   "cell_type": "code",
   "execution_count": 33,
   "metadata": {},
   "outputs": [],
   "source": [
    "from scipy.stats import shapiro\n",
    "\n",
    "def normal(df):\n",
    "    normal_dagilanlar = []\n",
    "    normal_dagilmayanlar = []\n",
    "    columns = list(df)\n",
    "    alpha = 0.05\n",
    "    \n",
    "    for col in columns:\n",
    "        result = shapiro(df[[col]])\n",
    "        \n",
    "        if result[1] < alpha:\n",
    "            normal_dagilmayanlar.append(col)\n",
    "            \n",
    "        elif result[1] > alpha:\n",
    "            normal_dagilanlar.append(col)\n",
    "            \n",
    "        \n",
    "    print(\"Normal dagilimdan gelenler: \",normal_dagilanlar,\n",
    "    \n",
    "    \"\\nNormal dagilimdan gelmeyenler: \\n\",normal_dagilmayanlar)"
   ]
  },
  {
   "cell_type": "code",
   "execution_count": 34,
   "metadata": {},
   "outputs": [
    {
     "name": "stdout",
     "output_type": "stream",
     "text": [
      "Normal dagilimdan gelenler:  [] \n",
      "Normal dagilimdan gelmeyenler: \n",
      " ['ind_5', 'ind_6', 'ind_8', 'ind_9', 'ind_10', 'ind_12', 'ind_13', 'ind_14', 'ind_15', 'ind_16', 'ind_17', 'ind_18', 'ind_19', 'ind_20', 'ind_21', 'ind_22', 'ind_23', 'ind_25', 'ind_26', 'ind_27', 'ind_28', 'ind_29', 'ind_30', 'ind_31', 'ind_32', 'ind_33', 'ind_34', 'ind_35', 'ind_36', 'ind_37', 'ind_39', 'ind_40', 'ind_41', 'ind_42', 'ind_43', 'ind_44', 'ind_45', 'ind_46', 'ind_47', 'ind_48', 'ind_49', 'ind_50', 'ind_51', 'ind_52', 'ind_53', 'ind_56', 'ind_58', 'ind_61', 'ind_62', 'ind_65', 'ind_67', 'ind_70', 'ind_71', 'ind_74', 'ind_77', 'ind_82', 'ind_83', 'ind_88', 'ind_92', 'ind_102', 'ind_116', 'ind_118', 'ind_122', 'ind_124', 'ind_128', 'ind_130', 'ind_132', 'ind_134', 'ind_136', 'ind_139', 'ind_142', 'ind_145', 'ind_147', 'ind_150', 'ind_153', 'ind_156', 'ind_164', 'ind_168', 'ind_172', 'ind_176', 'ind_179', 'ind_181', 'ind_188', 'ind_194', 'ind_212', 'ind_217', 'ind_225', 'ind_228', 'ind_234', 'ind_237', 'ind_239', 'ind_241', 'ind_243', 'ind_309', 'ind_310', 'ind_311', 'ind_313', 'ind_315', 'ind_316', 'ind_318', 'ind_321', 'ind_324', 'ind_327', 'ind_330', 'ind_332', 'ind_334', 'ind_338', 'ind_340', 'ind_344', 'ind_345', 'ind_347', 'ind_349', 'ind_351', 'ind_352', 'ind_387', 'ind_392', 'ind_397', 'ind_399', 'ind_403', 'ind_404', 'ind_406', 'ind_407', 'ind_410', 'ind_412', 'ind_414', 'ind_416', 'ind_418', 'ind_420', 'ind_422', 'ind_424', 'ind_426', 'ind_428', '20_target', '50_target', '90_target']\n"
     ]
    }
   ],
   "source": [
    "df1 = df.drop(\"ind_109\",axis=1)\n",
    "normal(df1)"
   ]
  },
  {
   "cell_type": "markdown",
   "metadata": {},
   "source": [
    "* Elimizdeki hicbir degiskenin normal dagilmadigini goruyoruz"
   ]
  },
  {
   "cell_type": "code",
   "execution_count": null,
   "metadata": {},
   "outputs": [],
   "source": []
  },
  {
   "cell_type": "markdown",
   "metadata": {},
   "source": [
    "### Ufaktan bir regresyon uygulayalim ve sonuclari gorelim"
   ]
  },
  {
   "cell_type": "code",
   "execution_count": 35,
   "metadata": {},
   "outputs": [],
   "source": [
    "dff = df.drop(labels=[\"20_target\",\"50_target\"],axis=1)\n",
    "\n",
    "# Diger iki hedef degiskeni dusuruyoruz"
   ]
  },
  {
   "cell_type": "code",
   "execution_count": 36,
   "metadata": {},
   "outputs": [],
   "source": [
    "import statsmodels.api as sm\n",
    "from sklearn.model_selection import train_test_split, cross_val_score, cross_val_predict\n",
    "from sklearn import preprocessing"
   ]
  },
  {
   "cell_type": "code",
   "execution_count": 37,
   "metadata": {},
   "outputs": [],
   "source": [
    "le = preprocessing.LabelEncoder()\n",
    "\n",
    "dff[\"ind_109_new\"] = le.fit_transform(dff[\"ind_109\"])"
   ]
  },
  {
   "cell_type": "code",
   "execution_count": 38,
   "metadata": {},
   "outputs": [],
   "source": [
    "dff.drop(\"ind_109\",axis=1,inplace = True)\n",
    "\n",
    "# LabelEncoder yaptik ve eski olani dusurduk\n",
    "# Bu islem makine ogrenmesi icin lazim"
   ]
  },
  {
   "cell_type": "code",
   "execution_count": 39,
   "metadata": {},
   "outputs": [],
   "source": [
    "# Simdi coklu dogrusal baglantiya bakalim regresyona girmeden once\n",
    "\n",
    "from patsy import dmatrices\n",
    "import statsmodels.api as sm\n",
    "from statsmodels.stats.outliers_influence import variance_inflation_factor\n",
    "\n",
    "X = dff.drop(\"90_target\",axis=1)\n",
    "vif = pd.DataFrame()\n",
    "vif[\"VIF_Factor\"] = [variance_inflation_factor(X.values,i)for i in range(X.shape[1])]\n",
    "vif[\"features\"] = X.columns"
   ]
  },
  {
   "cell_type": "code",
   "execution_count": 40,
   "metadata": {},
   "outputs": [
    {
     "data": {
      "text/plain": [
       "0        ind_5\n",
       "1        ind_6\n",
       "2        ind_8\n",
       "3        ind_9\n",
       "4       ind_10\n",
       "        ...   \n",
       "124    ind_414\n",
       "126    ind_418\n",
       "128    ind_422\n",
       "130    ind_426\n",
       "131    ind_428\n",
       "Name: features, Length: 105, dtype: object"
      ]
     },
     "execution_count": 40,
     "metadata": {},
     "output_type": "execute_result"
    }
   ],
   "source": [
    "b = (vif.VIF_Factor > 10)\n",
    "vif[b][\"features\"]\n",
    "\n",
    "# 10 dan buyuk olanlara coklu dogrusal baglanti oldugunu gorebiliyoruz"
   ]
  },
  {
   "cell_type": "code",
   "execution_count": 41,
   "metadata": {},
   "outputs": [
    {
     "data": {
      "text/html": [
       "<table class=\"simpletable\">\n",
       "<caption>OLS Regression Results</caption>\n",
       "<tr>\n",
       "  <th>Dep. Variable:</th>        <td>90_target</td>    <th>  R-squared (uncentered):</th>      <td>   0.222</td> \n",
       "</tr>\n",
       "<tr>\n",
       "  <th>Model:</th>                   <td>OLS</td>       <th>  Adj. R-squared (uncentered):</th> <td>   0.196</td> \n",
       "</tr>\n",
       "<tr>\n",
       "  <th>Method:</th>             <td>Least Squares</td>  <th>  F-statistic:       </th>          <td>   8.519</td> \n",
       "</tr>\n",
       "<tr>\n",
       "  <th>Date:</th>             <td>Sat, 22 Aug 2020</td> <th>  Prob (F-statistic):</th>          <td>2.88e-135</td>\n",
       "</tr>\n",
       "<tr>\n",
       "  <th>Time:</th>                 <td>17:51:32</td>     <th>  Log-Likelihood:    </th>          <td> -20093.</td> \n",
       "</tr>\n",
       "<tr>\n",
       "  <th>No. Observations:</th>      <td>  4100</td>      <th>  AIC:               </th>          <td>4.045e+04</td>\n",
       "</tr>\n",
       "<tr>\n",
       "  <th>Df Residuals:</th>          <td>  3967</td>      <th>  BIC:               </th>          <td>4.129e+04</td>\n",
       "</tr>\n",
       "<tr>\n",
       "  <th>Df Model:</th>              <td>   133</td>      <th>                     </th>              <td> </td>    \n",
       "</tr>\n",
       "<tr>\n",
       "  <th>Covariance Type:</th>      <td>nonrobust</td>    <th>                     </th>              <td> </td>    \n",
       "</tr>\n",
       "</table>"
      ],
      "text/plain": [
       "<class 'statsmodels.iolib.table.SimpleTable'>"
      ]
     },
     "execution_count": 41,
     "metadata": {},
     "output_type": "execute_result"
    }
   ],
   "source": [
    "# Domain bilgimiz olmadigi icin yeteri kadar ayrintili feature engineering yapamiyoruz o yuzden simdilik duz modelimizi kuralim\n",
    "\n",
    "\n",
    "from sklearn.model_selection import train_test_split, cross_val_score, cross_val_predict\n",
    "\n",
    "X = dff.drop(labels=\"90_target\",axis=1)\n",
    "y = dff[\"90_target\"]\n",
    "X_train, X_test, y_train, y_test = train_test_split(X,y, test_size = .2, random_state = 42)\n",
    "\n",
    "\n",
    "lm = sm.OLS(y_train,X_train)\n",
    "model = lm.fit()\n",
    "model.summary().tables[0]\n",
    "\n",
    "# Bu tablomuz da R karemiz 0.22 ve duzenlenmis adj R kare ise 0.19 bu degerler bagimsiz degiskeni aciklamakta dusuk bir sayi\n",
    "# F istatistigimiz ise bize modelimizin anlamli oldugunu kullanilabilir oldugunu gostermekte\n"
   ]
  },
  {
   "cell_type": "code",
   "execution_count": 42,
   "metadata": {},
   "outputs": [
    {
     "data": {
      "text/html": [
       "<table class=\"simpletable\">\n",
       "<tr>\n",
       "       <td></td>          <th>coef</th>     <th>std err</th>      <th>t</th>      <th>P>|t|</th>  <th>[0.025</th>    <th>0.975]</th>  \n",
       "</tr>\n",
       "<tr>\n",
       "  <th>ind_5</th>       <td>    1.0592</td> <td>    0.976</td> <td>    1.085</td> <td> 0.278</td> <td>   -0.855</td> <td>    2.973</td>\n",
       "</tr>\n",
       "<tr>\n",
       "  <th>ind_6</th>       <td>    0.4517</td> <td>    0.785</td> <td>    0.575</td> <td> 0.565</td> <td>   -1.088</td> <td>    1.991</td>\n",
       "</tr>\n",
       "<tr>\n",
       "  <th>ind_8</th>       <td>-4.381e+08</td> <td> 1.55e+08</td> <td>   -2.829</td> <td> 0.005</td> <td>-7.42e+08</td> <td>-1.34e+08</td>\n",
       "</tr>\n",
       "<tr>\n",
       "  <th>ind_9</th>       <td> 4.381e+08</td> <td> 1.55e+08</td> <td>    2.829</td> <td> 0.005</td> <td> 1.34e+08</td> <td> 7.42e+08</td>\n",
       "</tr>\n",
       "<tr>\n",
       "  <th>ind_10</th>      <td> 4.381e+08</td> <td> 1.55e+08</td> <td>    2.829</td> <td> 0.005</td> <td> 1.34e+08</td> <td> 7.42e+08</td>\n",
       "</tr>\n",
       "<tr>\n",
       "  <th>ind_12</th>      <td>    3.2676</td> <td>    2.276</td> <td>    1.436</td> <td> 0.151</td> <td>   -1.194</td> <td>    7.729</td>\n",
       "</tr>\n",
       "<tr>\n",
       "  <th>ind_13</th>      <td>    0.0068</td> <td>    0.029</td> <td>    0.233</td> <td> 0.816</td> <td>   -0.051</td> <td>    0.064</td>\n",
       "</tr>\n",
       "<tr>\n",
       "  <th>ind_14</th>      <td>    0.1108</td> <td>    0.200</td> <td>    0.555</td> <td> 0.579</td> <td>   -0.281</td> <td>    0.502</td>\n",
       "</tr>\n",
       "<tr>\n",
       "  <th>ind_15</th>      <td>   -0.2555</td> <td>    0.281</td> <td>   -0.908</td> <td> 0.364</td> <td>   -0.807</td> <td>    0.296</td>\n",
       "</tr>\n",
       "<tr>\n",
       "  <th>ind_16</th>      <td>    0.1204</td> <td>    0.415</td> <td>    0.290</td> <td> 0.772</td> <td>   -0.692</td> <td>    0.933</td>\n",
       "</tr>\n",
       "<tr>\n",
       "  <th>ind_17</th>      <td>    0.8915</td> <td>    0.434</td> <td>    2.055</td> <td> 0.040</td> <td>    0.041</td> <td>    1.742</td>\n",
       "</tr>\n",
       "<tr>\n",
       "  <th>ind_18</th>      <td>    1.3894</td> <td>    0.320</td> <td>    4.343</td> <td> 0.000</td> <td>    0.762</td> <td>    2.017</td>\n",
       "</tr>\n",
       "<tr>\n",
       "  <th>ind_19</th>      <td>   -0.5504</td> <td>    1.494</td> <td>   -0.368</td> <td> 0.713</td> <td>   -3.479</td> <td>    2.378</td>\n",
       "</tr>\n",
       "<tr>\n",
       "  <th>ind_20</th>      <td>    0.3195</td> <td>    1.193</td> <td>    0.268</td> <td> 0.789</td> <td>   -2.019</td> <td>    2.658</td>\n",
       "</tr>\n",
       "<tr>\n",
       "  <th>ind_21</th>      <td>    0.2379</td> <td>    1.409</td> <td>    0.169</td> <td> 0.866</td> <td>   -2.525</td> <td>    3.001</td>\n",
       "</tr>\n",
       "<tr>\n",
       "  <th>ind_22</th>      <td>   -0.2064</td> <td>    0.372</td> <td>   -0.554</td> <td> 0.580</td> <td>   -0.937</td> <td>    0.524</td>\n",
       "</tr>\n",
       "<tr>\n",
       "  <th>ind_23</th>      <td>   -0.3564</td> <td>    0.377</td> <td>   -0.945</td> <td> 0.345</td> <td>   -1.096</td> <td>    0.383</td>\n",
       "</tr>\n",
       "<tr>\n",
       "  <th>ind_25</th>      <td>-9.826e+05</td> <td> 1.13e+06</td> <td>   -0.868</td> <td> 0.385</td> <td> -3.2e+06</td> <td> 1.24e+06</td>\n",
       "</tr>\n",
       "<tr>\n",
       "  <th>ind_26</th>      <td>-9.828e+05</td> <td> 1.13e+06</td> <td>   -0.868</td> <td> 0.385</td> <td> -3.2e+06</td> <td> 1.24e+06</td>\n",
       "</tr>\n",
       "<tr>\n",
       "  <th>ind_27</th>      <td> 1.961e+06</td> <td> 2.26e+06</td> <td>    0.866</td> <td> 0.386</td> <td>-2.48e+06</td> <td>  6.4e+06</td>\n",
       "</tr>\n",
       "<tr>\n",
       "  <th>ind_28</th>      <td>    0.0036</td> <td>    0.013</td> <td>    0.273</td> <td> 0.785</td> <td>   -0.022</td> <td>    0.029</td>\n",
       "</tr>\n",
       "<tr>\n",
       "  <th>ind_29</th>      <td>   -0.0121</td> <td>    0.020</td> <td>   -0.593</td> <td> 0.553</td> <td>   -0.052</td> <td>    0.028</td>\n",
       "</tr>\n",
       "<tr>\n",
       "  <th>ind_30</th>      <td>   -0.0436</td> <td>    0.023</td> <td>   -1.888</td> <td> 0.059</td> <td>   -0.089</td> <td>    0.002</td>\n",
       "</tr>\n",
       "<tr>\n",
       "  <th>ind_31</th>      <td>    0.0791</td> <td>    0.032</td> <td>    2.464</td> <td> 0.014</td> <td>    0.016</td> <td>    0.142</td>\n",
       "</tr>\n",
       "<tr>\n",
       "  <th>ind_32</th>      <td>   -0.0742</td> <td>    0.030</td> <td>   -2.490</td> <td> 0.013</td> <td>   -0.133</td> <td>   -0.016</td>\n",
       "</tr>\n",
       "<tr>\n",
       "  <th>ind_33</th>      <td>    0.0744</td> <td>    0.028</td> <td>    2.696</td> <td> 0.007</td> <td>    0.020</td> <td>    0.128</td>\n",
       "</tr>\n",
       "<tr>\n",
       "  <th>ind_34</th>      <td>   -0.0281</td> <td>    0.032</td> <td>   -0.878</td> <td> 0.380</td> <td>   -0.091</td> <td>    0.035</td>\n",
       "</tr>\n",
       "<tr>\n",
       "  <th>ind_35</th>      <td>    0.0023</td> <td>    0.027</td> <td>    0.087</td> <td> 0.931</td> <td>   -0.050</td> <td>    0.054</td>\n",
       "</tr>\n",
       "<tr>\n",
       "  <th>ind_36</th>      <td>   -0.0106</td> <td>    0.019</td> <td>   -0.562</td> <td> 0.574</td> <td>   -0.048</td> <td>    0.026</td>\n",
       "</tr>\n",
       "<tr>\n",
       "  <th>ind_37</th>      <td>    0.1326</td> <td>    0.020</td> <td>    6.773</td> <td> 0.000</td> <td>    0.094</td> <td>    0.171</td>\n",
       "</tr>\n",
       "<tr>\n",
       "  <th>ind_39</th>      <td>   -0.1718</td> <td>    0.090</td> <td>   -1.908</td> <td> 0.056</td> <td>   -0.348</td> <td>    0.005</td>\n",
       "</tr>\n",
       "<tr>\n",
       "  <th>ind_40</th>      <td>   -1.1713</td> <td>    1.437</td> <td>   -0.815</td> <td> 0.415</td> <td>   -3.989</td> <td>    1.646</td>\n",
       "</tr>\n",
       "<tr>\n",
       "  <th>ind_41</th>      <td>   -0.0113</td> <td>    0.085</td> <td>   -0.134</td> <td> 0.893</td> <td>   -0.177</td> <td>    0.155</td>\n",
       "</tr>\n",
       "<tr>\n",
       "  <th>ind_42</th>      <td>    0.8196</td> <td>    0.431</td> <td>    1.900</td> <td> 0.058</td> <td>   -0.026</td> <td>    1.665</td>\n",
       "</tr>\n",
       "<tr>\n",
       "  <th>ind_43</th>      <td>    0.4232</td> <td>    0.286</td> <td>    1.481</td> <td> 0.139</td> <td>   -0.137</td> <td>    0.984</td>\n",
       "</tr>\n",
       "<tr>\n",
       "  <th>ind_44</th>      <td>    0.2773</td> <td>    0.295</td> <td>    0.942</td> <td> 0.346</td> <td>   -0.300</td> <td>    0.855</td>\n",
       "</tr>\n",
       "<tr>\n",
       "  <th>ind_45</th>      <td>   -0.3743</td> <td>    0.293</td> <td>   -1.277</td> <td> 0.202</td> <td>   -0.949</td> <td>    0.201</td>\n",
       "</tr>\n",
       "<tr>\n",
       "  <th>ind_46</th>      <td>   -0.3756</td> <td>    0.259</td> <td>   -1.451</td> <td> 0.147</td> <td>   -0.883</td> <td>    0.132</td>\n",
       "</tr>\n",
       "<tr>\n",
       "  <th>ind_47</th>      <td>    0.9284</td> <td>    0.206</td> <td>    4.517</td> <td> 0.000</td> <td>    0.525</td> <td>    1.331</td>\n",
       "</tr>\n",
       "<tr>\n",
       "  <th>ind_48</th>      <td>   -0.0408</td> <td>    0.225</td> <td>   -0.182</td> <td> 0.856</td> <td>   -0.482</td> <td>    0.400</td>\n",
       "</tr>\n",
       "<tr>\n",
       "  <th>ind_49</th>      <td>   -0.2372</td> <td>    0.186</td> <td>   -1.276</td> <td> 0.202</td> <td>   -0.602</td> <td>    0.127</td>\n",
       "</tr>\n",
       "<tr>\n",
       "  <th>ind_50</th>      <td>    0.8913</td> <td>    0.145</td> <td>    6.126</td> <td> 0.000</td> <td>    0.606</td> <td>    1.177</td>\n",
       "</tr>\n",
       "<tr>\n",
       "  <th>ind_51</th>      <td>   -0.4220</td> <td>    0.109</td> <td>   -3.884</td> <td> 0.000</td> <td>   -0.635</td> <td>   -0.209</td>\n",
       "</tr>\n",
       "<tr>\n",
       "  <th>ind_52</th>      <td>   -0.3629</td> <td>    0.646</td> <td>   -0.562</td> <td> 0.574</td> <td>   -1.629</td> <td>    0.903</td>\n",
       "</tr>\n",
       "<tr>\n",
       "  <th>ind_53</th>      <td>   -0.0149</td> <td>    0.090</td> <td>   -0.165</td> <td> 0.869</td> <td>   -0.192</td> <td>    0.162</td>\n",
       "</tr>\n",
       "<tr>\n",
       "  <th>ind_56</th>      <td>    0.1749</td> <td>    0.127</td> <td>    1.380</td> <td> 0.168</td> <td>   -0.074</td> <td>    0.423</td>\n",
       "</tr>\n",
       "<tr>\n",
       "  <th>ind_58</th>      <td>    2.4446</td> <td>    1.737</td> <td>    1.408</td> <td> 0.159</td> <td>   -0.960</td> <td>    5.849</td>\n",
       "</tr>\n",
       "<tr>\n",
       "  <th>ind_61</th>      <td>    0.2052</td> <td>    1.811</td> <td>    0.113</td> <td> 0.910</td> <td>   -3.345</td> <td>    3.756</td>\n",
       "</tr>\n",
       "<tr>\n",
       "  <th>ind_62</th>      <td>   -0.1163</td> <td>    0.139</td> <td>   -0.838</td> <td> 0.402</td> <td>   -0.388</td> <td>    0.156</td>\n",
       "</tr>\n",
       "<tr>\n",
       "  <th>ind_65</th>      <td>   -0.2367</td> <td>    0.145</td> <td>   -1.636</td> <td> 0.102</td> <td>   -0.520</td> <td>    0.047</td>\n",
       "</tr>\n",
       "<tr>\n",
       "  <th>ind_67</th>      <td>   -0.0180</td> <td>    1.818</td> <td>   -0.010</td> <td> 0.992</td> <td>   -3.583</td> <td>    3.547</td>\n",
       "</tr>\n",
       "<tr>\n",
       "  <th>ind_70</th>      <td>    2.7092</td> <td>    1.880</td> <td>    1.441</td> <td> 0.150</td> <td>   -0.977</td> <td>    6.395</td>\n",
       "</tr>\n",
       "<tr>\n",
       "  <th>ind_71</th>      <td>    0.2561</td> <td>    0.143</td> <td>    1.794</td> <td> 0.073</td> <td>   -0.024</td> <td>    0.536</td>\n",
       "</tr>\n",
       "<tr>\n",
       "  <th>ind_74</th>      <td>   -0.3899</td> <td>    0.186</td> <td>   -2.092</td> <td> 0.036</td> <td>   -0.755</td> <td>   -0.025</td>\n",
       "</tr>\n",
       "<tr>\n",
       "  <th>ind_77</th>      <td>    0.8909</td> <td>    0.161</td> <td>    5.550</td> <td> 0.000</td> <td>    0.576</td> <td>    1.206</td>\n",
       "</tr>\n",
       "<tr>\n",
       "  <th>ind_82</th>      <td>    8.0852</td> <td>    1.757</td> <td>    4.601</td> <td> 0.000</td> <td>    4.640</td> <td>   11.531</td>\n",
       "</tr>\n",
       "<tr>\n",
       "  <th>ind_83</th>      <td>   -0.2609</td> <td>    0.098</td> <td>   -2.657</td> <td> 0.008</td> <td>   -0.453</td> <td>   -0.068</td>\n",
       "</tr>\n",
       "<tr>\n",
       "  <th>ind_88</th>      <td> -520.5145</td> <td> 1444.122</td> <td>   -0.360</td> <td> 0.719</td> <td>-3351.805</td> <td> 2310.776</td>\n",
       "</tr>\n",
       "<tr>\n",
       "  <th>ind_92</th>      <td>    0.2325</td> <td>    1.454</td> <td>    0.160</td> <td> 0.873</td> <td>   -2.617</td> <td>    3.082</td>\n",
       "</tr>\n",
       "<tr>\n",
       "  <th>ind_102</th>     <td>   -3.6290</td> <td>    0.987</td> <td>   -3.677</td> <td> 0.000</td> <td>   -5.564</td> <td>   -1.694</td>\n",
       "</tr>\n",
       "<tr>\n",
       "  <th>ind_116</th>     <td>   -0.0468</td> <td>    0.472</td> <td>   -0.099</td> <td> 0.921</td> <td>   -0.971</td> <td>    0.878</td>\n",
       "</tr>\n",
       "<tr>\n",
       "  <th>ind_118</th>     <td> 6670.4888</td> <td> 1.63e+04</td> <td>    0.410</td> <td> 0.682</td> <td>-2.52e+04</td> <td> 3.86e+04</td>\n",
       "</tr>\n",
       "<tr>\n",
       "  <th>ind_122</th>     <td>    1.4902</td> <td>    1.494</td> <td>    0.998</td> <td> 0.319</td> <td>   -1.439</td> <td>    4.419</td>\n",
       "</tr>\n",
       "<tr>\n",
       "  <th>ind_124</th>     <td>   -1.2862</td> <td>    0.867</td> <td>   -1.484</td> <td> 0.138</td> <td>   -2.986</td> <td>    0.413</td>\n",
       "</tr>\n",
       "<tr>\n",
       "  <th>ind_128</th>     <td>   -2.2269</td> <td>    0.905</td> <td>   -2.461</td> <td> 0.014</td> <td>   -4.001</td> <td>   -0.453</td>\n",
       "</tr>\n",
       "<tr>\n",
       "  <th>ind_130</th>     <td>   -1.0745</td> <td>    0.187</td> <td>   -5.745</td> <td> 0.000</td> <td>   -1.441</td> <td>   -0.708</td>\n",
       "</tr>\n",
       "<tr>\n",
       "  <th>ind_132</th>     <td>    0.1933</td> <td>    0.066</td> <td>    2.947</td> <td> 0.003</td> <td>    0.065</td> <td>    0.322</td>\n",
       "</tr>\n",
       "<tr>\n",
       "  <th>ind_134</th>     <td>   -0.0467</td> <td>    0.194</td> <td>   -0.241</td> <td> 0.809</td> <td>   -0.426</td> <td>    0.333</td>\n",
       "</tr>\n",
       "<tr>\n",
       "  <th>ind_136</th>     <td>    0.9132</td> <td>    0.806</td> <td>    1.132</td> <td> 0.258</td> <td>   -0.668</td> <td>    2.494</td>\n",
       "</tr>\n",
       "<tr>\n",
       "  <th>ind_139</th>     <td>   -0.1960</td> <td>    0.317</td> <td>   -0.618</td> <td> 0.537</td> <td>   -0.818</td> <td>    0.426</td>\n",
       "</tr>\n",
       "<tr>\n",
       "  <th>ind_142</th>     <td>    0.4341</td> <td>    0.324</td> <td>    1.341</td> <td> 0.180</td> <td>   -0.201</td> <td>    1.069</td>\n",
       "</tr>\n",
       "<tr>\n",
       "  <th>ind_145</th>     <td>   39.7889</td> <td>   15.801</td> <td>    2.518</td> <td> 0.012</td> <td>    8.811</td> <td>   70.767</td>\n",
       "</tr>\n",
       "<tr>\n",
       "  <th>ind_147</th>     <td>   -0.4494</td> <td>    0.268</td> <td>   -1.677</td> <td> 0.094</td> <td>   -0.975</td> <td>    0.076</td>\n",
       "</tr>\n",
       "<tr>\n",
       "  <th>ind_150</th>     <td>    1.0504</td> <td>    3.055</td> <td>    0.344</td> <td> 0.731</td> <td>   -4.939</td> <td>    7.040</td>\n",
       "</tr>\n",
       "<tr>\n",
       "  <th>ind_153</th>     <td>  -11.8494</td> <td>    1.657</td> <td>   -7.153</td> <td> 0.000</td> <td>  -15.097</td> <td>   -8.601</td>\n",
       "</tr>\n",
       "<tr>\n",
       "  <th>ind_156</th>     <td>    5.9628</td> <td>    0.816</td> <td>    7.307</td> <td> 0.000</td> <td>    4.363</td> <td>    7.563</td>\n",
       "</tr>\n",
       "<tr>\n",
       "  <th>ind_164</th>     <td>   -0.4787</td> <td>    0.299</td> <td>   -1.601</td> <td> 0.110</td> <td>   -1.065</td> <td>    0.108</td>\n",
       "</tr>\n",
       "<tr>\n",
       "  <th>ind_168</th>     <td>    0.1192</td> <td>    0.174</td> <td>    0.685</td> <td> 0.494</td> <td>   -0.222</td> <td>    0.460</td>\n",
       "</tr>\n",
       "<tr>\n",
       "  <th>ind_172</th>     <td>    0.0411</td> <td>    0.057</td> <td>    0.714</td> <td> 0.475</td> <td>   -0.072</td> <td>    0.154</td>\n",
       "</tr>\n",
       "<tr>\n",
       "  <th>ind_176</th>     <td>    0.0249</td> <td>    0.051</td> <td>    0.485</td> <td> 0.628</td> <td>   -0.076</td> <td>    0.125</td>\n",
       "</tr>\n",
       "<tr>\n",
       "  <th>ind_179</th>     <td>   -0.0034</td> <td>    0.391</td> <td>   -0.009</td> <td> 0.993</td> <td>   -0.771</td> <td>    0.764</td>\n",
       "</tr>\n",
       "<tr>\n",
       "  <th>ind_181</th>     <td>   -0.6155</td> <td>    0.548</td> <td>   -1.124</td> <td> 0.261</td> <td>   -1.689</td> <td>    0.458</td>\n",
       "</tr>\n",
       "<tr>\n",
       "  <th>ind_188</th>     <td>    0.1352</td> <td>    0.065</td> <td>    2.076</td> <td> 0.038</td> <td>    0.008</td> <td>    0.263</td>\n",
       "</tr>\n",
       "<tr>\n",
       "  <th>ind_194</th>     <td>    0.3158</td> <td>    0.153</td> <td>    2.059</td> <td> 0.040</td> <td>    0.015</td> <td>    0.616</td>\n",
       "</tr>\n",
       "<tr>\n",
       "  <th>ind_212</th>     <td>    0.0716</td> <td>    0.052</td> <td>    1.372</td> <td> 0.170</td> <td>   -0.031</td> <td>    0.174</td>\n",
       "</tr>\n",
       "<tr>\n",
       "  <th>ind_217</th>     <td>    2.4749</td> <td>    0.662</td> <td>    3.739</td> <td> 0.000</td> <td>    1.177</td> <td>    3.773</td>\n",
       "</tr>\n",
       "<tr>\n",
       "  <th>ind_225</th>     <td>-4779.8143</td> <td> 6922.689</td> <td>   -0.690</td> <td> 0.490</td> <td>-1.84e+04</td> <td> 8792.548</td>\n",
       "</tr>\n",
       "<tr>\n",
       "  <th>ind_228</th>     <td>    4.2416</td> <td>    5.209</td> <td>    0.814</td> <td> 0.416</td> <td>   -5.971</td> <td>   14.454</td>\n",
       "</tr>\n",
       "<tr>\n",
       "  <th>ind_234</th>     <td> 1.055e+06</td> <td> 1.68e+06</td> <td>    0.627</td> <td> 0.531</td> <td>-2.25e+06</td> <td> 4.36e+06</td>\n",
       "</tr>\n",
       "<tr>\n",
       "  <th>ind_237</th>     <td>    0.0945</td> <td>    0.028</td> <td>    3.434</td> <td> 0.001</td> <td>    0.041</td> <td>    0.148</td>\n",
       "</tr>\n",
       "<tr>\n",
       "  <th>ind_239</th>     <td> 1.382e+04</td> <td> 5931.012</td> <td>    2.331</td> <td> 0.020</td> <td> 2194.335</td> <td> 2.55e+04</td>\n",
       "</tr>\n",
       "<tr>\n",
       "  <th>ind_241</th>     <td>    4.1272</td> <td>    1.249</td> <td>    3.303</td> <td> 0.001</td> <td>    1.678</td> <td>    6.577</td>\n",
       "</tr>\n",
       "<tr>\n",
       "  <th>ind_243</th>     <td> -336.5372</td> <td>  101.327</td> <td>   -3.321</td> <td> 0.001</td> <td> -535.194</td> <td> -137.880</td>\n",
       "</tr>\n",
       "<tr>\n",
       "  <th>ind_309</th>     <td>-9844.0996</td> <td> 1.04e+04</td> <td>   -0.948</td> <td> 0.343</td> <td>-3.02e+04</td> <td> 1.05e+04</td>\n",
       "</tr>\n",
       "<tr>\n",
       "  <th>ind_310</th>     <td>   -1.5307</td> <td>    2.010</td> <td>   -0.762</td> <td> 0.446</td> <td>   -5.471</td> <td>    2.409</td>\n",
       "</tr>\n",
       "<tr>\n",
       "  <th>ind_311</th>     <td>   -1.0369</td> <td>    1.392</td> <td>   -0.745</td> <td> 0.456</td> <td>   -3.765</td> <td>    1.691</td>\n",
       "</tr>\n",
       "<tr>\n",
       "  <th>ind_313</th>     <td>   81.0985</td> <td>  117.347</td> <td>    0.691</td> <td> 0.490</td> <td> -148.968</td> <td>  311.165</td>\n",
       "</tr>\n",
       "<tr>\n",
       "  <th>ind_315</th>     <td>   -7.3714</td> <td>    1.249</td> <td>   -5.901</td> <td> 0.000</td> <td>   -9.821</td> <td>   -4.922</td>\n",
       "</tr>\n",
       "<tr>\n",
       "  <th>ind_316</th>     <td>   -1.3863</td> <td>    0.796</td> <td>   -1.742</td> <td> 0.082</td> <td>   -2.947</td> <td>    0.174</td>\n",
       "</tr>\n",
       "<tr>\n",
       "  <th>ind_318</th>     <td>  120.1322</td> <td>   66.680</td> <td>    1.802</td> <td> 0.072</td> <td>  -10.598</td> <td>  250.862</td>\n",
       "</tr>\n",
       "<tr>\n",
       "  <th>ind_321</th>     <td>   -0.0211</td> <td>    0.019</td> <td>   -1.111</td> <td> 0.267</td> <td>   -0.058</td> <td>    0.016</td>\n",
       "</tr>\n",
       "<tr>\n",
       "  <th>ind_324</th>     <td>-3.223e+04</td> <td> 6590.308</td> <td>   -4.891</td> <td> 0.000</td> <td>-4.52e+04</td> <td>-1.93e+04</td>\n",
       "</tr>\n",
       "<tr>\n",
       "  <th>ind_327</th>     <td>   -0.0204</td> <td>    0.023</td> <td>   -0.880</td> <td> 0.379</td> <td>   -0.066</td> <td>    0.025</td>\n",
       "</tr>\n",
       "<tr>\n",
       "  <th>ind_330</th>     <td>    6.0167</td> <td>    3.980</td> <td>    1.512</td> <td> 0.131</td> <td>   -1.786</td> <td>   13.820</td>\n",
       "</tr>\n",
       "<tr>\n",
       "  <th>ind_332</th>     <td>    0.1637</td> <td>    0.034</td> <td>    4.820</td> <td> 0.000</td> <td>    0.097</td> <td>    0.230</td>\n",
       "</tr>\n",
       "<tr>\n",
       "  <th>ind_334</th>     <td> 1.106e+05</td> <td> 1.94e+04</td> <td>    5.704</td> <td> 0.000</td> <td> 7.26e+04</td> <td> 1.49e+05</td>\n",
       "</tr>\n",
       "<tr>\n",
       "  <th>ind_338</th>     <td>   28.3874</td> <td>    4.353</td> <td>    6.521</td> <td> 0.000</td> <td>   19.852</td> <td>   36.922</td>\n",
       "</tr>\n",
       "<tr>\n",
       "  <th>ind_340</th>     <td>   30.3428</td> <td>   12.665</td> <td>    2.396</td> <td> 0.017</td> <td>    5.513</td> <td>   55.173</td>\n",
       "</tr>\n",
       "<tr>\n",
       "  <th>ind_344</th>     <td>-2.683e+04</td> <td> 2.83e+04</td> <td>   -0.947</td> <td> 0.344</td> <td>-8.23e+04</td> <td> 2.87e+04</td>\n",
       "</tr>\n",
       "<tr>\n",
       "  <th>ind_345</th>     <td>   81.5335</td> <td>   38.914</td> <td>    2.095</td> <td> 0.036</td> <td>    5.240</td> <td>  157.827</td>\n",
       "</tr>\n",
       "<tr>\n",
       "  <th>ind_347</th>     <td>    0.2391</td> <td>    0.205</td> <td>    1.166</td> <td> 0.244</td> <td>   -0.163</td> <td>    0.641</td>\n",
       "</tr>\n",
       "<tr>\n",
       "  <th>ind_349</th>     <td>-7.495e+07</td> <td> 4.12e+08</td> <td>   -0.182</td> <td> 0.856</td> <td>-8.82e+08</td> <td> 7.32e+08</td>\n",
       "</tr>\n",
       "<tr>\n",
       "  <th>ind_351</th>     <td> -178.9116</td> <td>  982.801</td> <td>   -0.182</td> <td> 0.856</td> <td>-2105.754</td> <td> 1747.931</td>\n",
       "</tr>\n",
       "<tr>\n",
       "  <th>ind_352</th>     <td>   -0.4324</td> <td>    2.243</td> <td>   -0.193</td> <td> 0.847</td> <td>   -4.830</td> <td>    3.965</td>\n",
       "</tr>\n",
       "<tr>\n",
       "  <th>ind_387</th>     <td>   -0.5078</td> <td>    0.158</td> <td>   -3.207</td> <td> 0.001</td> <td>   -0.818</td> <td>   -0.197</td>\n",
       "</tr>\n",
       "<tr>\n",
       "  <th>ind_392</th>     <td>   -0.3448</td> <td>    0.140</td> <td>   -2.457</td> <td> 0.014</td> <td>   -0.620</td> <td>   -0.070</td>\n",
       "</tr>\n",
       "<tr>\n",
       "  <th>ind_397</th>     <td>   -0.4093</td> <td>    0.196</td> <td>   -2.093</td> <td> 0.036</td> <td>   -0.793</td> <td>   -0.026</td>\n",
       "</tr>\n",
       "<tr>\n",
       "  <th>ind_399</th>     <td>-1804.8011</td> <td> 1208.312</td> <td>   -1.494</td> <td> 0.135</td> <td>-4173.771</td> <td>  564.169</td>\n",
       "</tr>\n",
       "<tr>\n",
       "  <th>ind_403</th>     <td>  1.06e+06</td> <td> 4.91e+06</td> <td>    0.216</td> <td> 0.829</td> <td>-8.57e+06</td> <td> 1.07e+07</td>\n",
       "</tr>\n",
       "<tr>\n",
       "  <th>ind_404</th>     <td>  1.07e+06</td> <td> 4.96e+06</td> <td>    0.216</td> <td> 0.829</td> <td>-8.66e+06</td> <td> 1.08e+07</td>\n",
       "</tr>\n",
       "<tr>\n",
       "  <th>ind_406</th>     <td>    1.2457</td> <td>    1.103</td> <td>    1.129</td> <td> 0.259</td> <td>   -0.918</td> <td>    3.409</td>\n",
       "</tr>\n",
       "<tr>\n",
       "  <th>ind_407</th>     <td>    0.7180</td> <td>    0.767</td> <td>    0.936</td> <td> 0.349</td> <td>   -0.786</td> <td>    2.222</td>\n",
       "</tr>\n",
       "<tr>\n",
       "  <th>ind_410</th>     <td>   -0.6907</td> <td>    1.089</td> <td>   -0.634</td> <td> 0.526</td> <td>   -2.826</td> <td>    1.444</td>\n",
       "</tr>\n",
       "<tr>\n",
       "  <th>ind_412</th>     <td>  845.9037</td> <td>  137.490</td> <td>    6.152</td> <td> 0.000</td> <td>  576.347</td> <td> 1115.460</td>\n",
       "</tr>\n",
       "<tr>\n",
       "  <th>ind_414</th>     <td>   -0.0892</td> <td>    0.104</td> <td>   -0.860</td> <td> 0.390</td> <td>   -0.292</td> <td>    0.114</td>\n",
       "</tr>\n",
       "<tr>\n",
       "  <th>ind_416</th>     <td>    0.0988</td> <td>    0.041</td> <td>    2.423</td> <td> 0.015</td> <td>    0.019</td> <td>    0.179</td>\n",
       "</tr>\n",
       "<tr>\n",
       "  <th>ind_418</th>     <td>   -0.1773</td> <td>    0.101</td> <td>   -1.754</td> <td> 0.079</td> <td>   -0.375</td> <td>    0.021</td>\n",
       "</tr>\n",
       "<tr>\n",
       "  <th>ind_420</th>     <td>   -0.0611</td> <td>    0.010</td> <td>   -6.276</td> <td> 0.000</td> <td>   -0.080</td> <td>   -0.042</td>\n",
       "</tr>\n",
       "<tr>\n",
       "  <th>ind_422</th>     <td>    0.0088</td> <td>    0.009</td> <td>    0.960</td> <td> 0.337</td> <td>   -0.009</td> <td>    0.027</td>\n",
       "</tr>\n",
       "<tr>\n",
       "  <th>ind_424</th>     <td>    0.4041</td> <td>    2.311</td> <td>    0.175</td> <td> 0.861</td> <td>   -4.128</td> <td>    4.936</td>\n",
       "</tr>\n",
       "<tr>\n",
       "  <th>ind_426</th>     <td>    2.7368</td> <td>    6.587</td> <td>    0.416</td> <td> 0.678</td> <td>  -10.176</td> <td>   15.650</td>\n",
       "</tr>\n",
       "<tr>\n",
       "  <th>ind_428</th>     <td>  -32.8459</td> <td>   11.642</td> <td>   -2.821</td> <td> 0.005</td> <td>  -55.671</td> <td>  -10.020</td>\n",
       "</tr>\n",
       "<tr>\n",
       "  <th>ind_109_new</th> <td>    3.9551</td> <td>    1.860</td> <td>    2.127</td> <td> 0.034</td> <td>    0.309</td> <td>    7.601</td>\n",
       "</tr>\n",
       "</table>"
      ],
      "text/plain": [
       "<class 'statsmodels.iolib.table.SimpleTable'>"
      ]
     },
     "execution_count": 42,
     "metadata": {},
     "output_type": "execute_result"
    }
   ],
   "source": [
    "model.summary().tables[1] \n",
    "\n",
    "# Bir cok katsayimiz bulunmakta burada dikkat edilmesi gereken hangileri anlamli hangilerini kullanabiliriz ona bakacagiz."
   ]
  },
  {
   "cell_type": "code",
   "execution_count": 43,
   "metadata": {},
   "outputs": [
    {
     "name": "stdout",
     "output_type": "stream",
     "text": [
      "Istatistiksel olarak anlamli kat sayilar: ['ind_8', 'ind_9', 'ind_10', 'ind_17', 'ind_18', 'ind_31', 'ind_32', 'ind_33', 'ind_37', 'ind_47', 'ind_50', 'ind_51', 'ind_74', 'ind_77', 'ind_82', 'ind_83', 'ind_102', 'ind_128', 'ind_130', 'ind_132', 'ind_145', 'ind_153', 'ind_156', 'ind_188', 'ind_194', 'ind_217', 'ind_237', 'ind_239', 'ind_241', 'ind_243', 'ind_315', 'ind_324', 'ind_332', 'ind_334', 'ind_338', 'ind_340', 'ind_345', 'ind_387', 'ind_392', 'ind_397', 'ind_412', 'ind_416', 'ind_420', 'ind_428', 'ind_109_new']\n"
     ]
    }
   ],
   "source": [
    "bos = []\n",
    "a = zip(model.tvalues.index,model.tvalues.values) \n",
    "for i,j in a:\n",
    "    if (j > 1.96):\n",
    "        bos.append(i)\n",
    "        \n",
    "    elif (abs(j) > 1.96):\n",
    "        bos.append(i)\n",
    "        \n",
    "print(\"Istatistiksel olarak anlamli kat sayilar: \" + str(bos))"
   ]
  },
  {
   "cell_type": "markdown",
   "metadata": {},
   "source": [
    "**Eger ki bu model PREDICT icin kullanilacaksa bu degiskenler ile kullanilmasi gerekir. Cunku bunlarin disindaki diger degiskenler bize herhangi anlamli bir sonuc vermeyecektir**"
   ]
  },
  {
   "cell_type": "code",
   "execution_count": 44,
   "metadata": {},
   "outputs": [
    {
     "data": {
      "text/html": [
       "<div>\n",
       "<style scoped>\n",
       "    .dataframe tbody tr th:only-of-type {\n",
       "        vertical-align: middle;\n",
       "    }\n",
       "\n",
       "    .dataframe tbody tr th {\n",
       "        vertical-align: top;\n",
       "    }\n",
       "\n",
       "    .dataframe thead th {\n",
       "        text-align: right;\n",
       "    }\n",
       "</style>\n",
       "<table border=\"1\" class=\"dataframe\">\n",
       "  <thead>\n",
       "    <tr style=\"text-align: right;\">\n",
       "      <th></th>\n",
       "      <th>gercek_y:</th>\n",
       "      <th>tahmindegerleri_y:</th>\n",
       "    </tr>\n",
       "  </thead>\n",
       "  <tbody>\n",
       "    <tr>\n",
       "      <th>0</th>\n",
       "      <td>36.997753</td>\n",
       "      <td>-42.346230</td>\n",
       "    </tr>\n",
       "    <tr>\n",
       "      <th>1</th>\n",
       "      <td>37.016198</td>\n",
       "      <td>-39.700548</td>\n",
       "    </tr>\n",
       "    <tr>\n",
       "      <th>2</th>\n",
       "      <td>-37.024805</td>\n",
       "      <td>-44.318715</td>\n",
       "    </tr>\n",
       "    <tr>\n",
       "      <th>3</th>\n",
       "      <td>-37.040483</td>\n",
       "      <td>-41.601468</td>\n",
       "    </tr>\n",
       "    <tr>\n",
       "      <th>4</th>\n",
       "      <td>-37.103503</td>\n",
       "      <td>-45.477038</td>\n",
       "    </tr>\n",
       "    <tr>\n",
       "      <th>...</th>\n",
       "      <td>...</td>\n",
       "      <td>...</td>\n",
       "    </tr>\n",
       "    <tr>\n",
       "      <th>6162</th>\n",
       "      <td>-35.867088</td>\n",
       "      <td>7.574455</td>\n",
       "    </tr>\n",
       "    <tr>\n",
       "      <th>6163</th>\n",
       "      <td>-35.868318</td>\n",
       "      <td>15.190449</td>\n",
       "    </tr>\n",
       "    <tr>\n",
       "      <th>6164</th>\n",
       "      <td>-35.894755</td>\n",
       "      <td>4.752570</td>\n",
       "    </tr>\n",
       "    <tr>\n",
       "      <th>6165</th>\n",
       "      <td>-35.930723</td>\n",
       "      <td>4.659594</td>\n",
       "    </tr>\n",
       "    <tr>\n",
       "      <th>6166</th>\n",
       "      <td>-35.915659</td>\n",
       "      <td>-0.451670</td>\n",
       "    </tr>\n",
       "  </tbody>\n",
       "</table>\n",
       "<p>5126 rows × 2 columns</p>\n",
       "</div>"
      ],
      "text/plain": [
       "      gercek_y:  tahmindegerleri_y:\n",
       "0     36.997753          -42.346230\n",
       "1     37.016198          -39.700548\n",
       "2    -37.024805          -44.318715\n",
       "3    -37.040483          -41.601468\n",
       "4    -37.103503          -45.477038\n",
       "...         ...                 ...\n",
       "6162 -35.867088            7.574455\n",
       "6163 -35.868318           15.190449\n",
       "6164 -35.894755            4.752570\n",
       "6165 -35.930723            4.659594\n",
       "6166 -35.915659           -0.451670\n",
       "\n",
       "[5126 rows x 2 columns]"
      ]
     },
     "execution_count": 44,
     "metadata": {},
     "output_type": "execute_result"
    }
   ],
   "source": [
    "# Hatalarimizin ne durumda olduguna bir bakalim\n",
    "from sklearn.linear_model import LinearRegression\n",
    "\n",
    "\n",
    "reg = LinearRegression()\n",
    "model = reg.fit(X,y)\n",
    "tablo = pd.DataFrame({\"gercek_y:\":y,\"tahmindegerleri_y:\":reg.predict(X)})\n",
    "tablo"
   ]
  },
  {
   "cell_type": "code",
   "execution_count": 82,
   "metadata": {},
   "outputs": [
    {
     "data": {
      "text/plain": [
       "(0.9481028318405151, 3.3517027383876353e-39)"
      ]
     },
     "execution_count": 82,
     "metadata": {},
     "output_type": "execute_result"
    },
    {
     "data": {
      "image/png": "[encoded data removed]",
      "text/plain": [
       "<Figure size 432x288 with 1 Axes>"
      ]
     },
     "metadata": {
      "needs_background": "light"
     },
     "output_type": "display_data"
    }
   ],
   "source": [
    "tablo[\"hatalar\"] = tablo[\"gercek_y:\"] - tablo[\"tahmindegerleri_y:\"]\n",
    "\n",
    "import seaborn as sns\n",
    "\n",
    "sns.distplot(tablo.hatalar)\n",
    "\n",
    "from scipy.stats import shapiro\n",
    "\n",
    "shapiro(tablo[\"hatalar\"])\n",
    "\n",
    "# Hatalarizin normal dagilmadigini goruyoruz hem grafik hemde test sonucu bunu bize gostermekte"
   ]
  },
  {
   "cell_type": "code",
   "execution_count": 49,
   "metadata": {},
   "outputs": [
    {
     "name": "stdout",
     "output_type": "stream",
     "text": [
      "1052.5859598325878 28.866982778648712 32.44358118076036\n"
     ]
    }
   ],
   "source": [
    "from sklearn.linear_model import LinearRegression\n",
    "from sklearn.metrics import mean_squared_error,mean_absolute_error\n",
    "\n",
    "lm = LinearRegression()\n",
    "model = lm.fit(X_train,y_train)\n",
    "\n",
    "\n",
    "mse = mean_squared_error(y_train,model.predict(X_train))\n",
    "mae = mean_absolute_error(y_train,model.predict(X_train))\n",
    "rmse = np.sqrt(mean_squared_error(y_train,model.predict(X_train)))\n",
    "\n",
    "print(mse,mae,rmse) \n",
    "\n",
    "\n",
    "# Burada ise Model tahmini X_train,y_train yaparak verileri parcalamis sekil de verdigimiz de aldigimiz sonuc\n"
   ]
  },
  {
   "cell_type": "code",
   "execution_count": 50,
   "metadata": {},
   "outputs": [
    {
     "name": "stdout",
     "output_type": "stream",
     "text": [
      "33.62215713664038\n",
      "29.84272369338642\n"
     ]
    }
   ],
   "source": [
    "# Egitim setleri validasyon hatalari\n",
    "\n",
    "val_rmse =np.sqrt(-cross_val_score(model, X_train, y_train, cv = 10, scoring=\"neg_mean_squared_error\")).mean()\n",
    "val_mae = -cross_val_score(model, X_train, y_train, cv = 10, scoring=\"neg_mean_absolute_error\").mean()\n",
    "\n",
    "print(val_rmse)\n",
    "print(val_mae)"
   ]
  },
  {
   "cell_type": "code",
   "execution_count": 51,
   "metadata": {},
   "outputs": [
    {
     "name": "stdout",
     "output_type": "stream",
     "text": [
      "222.1756039455127\n",
      "50.45988473551145\n"
     ]
    }
   ],
   "source": [
    "# Test testleri icin validasyon hatalari\n",
    "# Artis goruyoruz hatalar da sebebi su, modelimiz overfitt yapmis olabilir yada iyi bir tahmin edici model olmadigi icin bu sonuclari veriyor olabilir\n",
    "\n",
    "val_rmse =np.sqrt(-cross_val_score(model, X_test, y_test, cv = 10, scoring=\"neg_mean_squared_error\")).mean()\n",
    "val_mae = -cross_val_score(model, X_test, y_test, cv = 10, scoring=\"neg_mean_absolute_error\").mean()\n",
    "\n",
    "print(val_rmse)\n",
    "print(val_mae)\n"
   ]
  },
  {
   "cell_type": "code",
   "execution_count": null,
   "metadata": {},
   "outputs": [],
   "source": []
  },
  {
   "cell_type": "markdown",
   "metadata": {},
   "source": [
    "## Simdi yapacagimiz islem de ise OUTLIER BASKILAMA ardindan sonuclara tekrar bakacagiz"
   ]
  },
  {
   "cell_type": "code",
   "execution_count": 52,
   "metadata": {},
   "outputs": [],
   "source": [
    "# Diger iki targer degiskeni cikartiyoruz\n",
    "# Ardindan kategorik olani numeric hale getiriyoruz\n",
    "\n",
    "from sklearn import preprocessing \n",
    "\n",
    "df_z = df.copy()\n",
    "\n",
    "df_z = df_z.drop(labels=[\"20_target\",\"50_target\"],axis=1)\n",
    "le = preprocessing.LabelEncoder()\n",
    "\n",
    "df_z[\"ind_109_new\"] = le.fit_transform(df_z[\"ind_109\"])\n",
    "df_z.drop(\"ind_109\",axis=1,inplace = True)"
   ]
  },
  {
   "cell_type": "code",
   "execution_count": 53,
   "metadata": {},
   "outputs": [
    {
     "data": {
      "text/plain": [
       "{'ind_5': (-54.5, 53.5),\n",
       " 'ind_6': (-54.5, 53.5),\n",
       " 'ind_8': (-92.85714284, 192.85714284),\n",
       " 'ind_9': (-92.85714284, 192.85714284),\n",
       " 'ind_10': (-210.71428570999998, 217.85714284999997),\n",
       " 'ind_12': (14.621321417500003, 84.6980565375),\n",
       " 'ind_13': (-155.480962125, 137.806396235),\n",
       " 'ind_14': (-5.5187500000000025, 26.83125),\n",
       " 'ind_15': (-4.800000000000002, 26.560000000000002),\n",
       " 'ind_16': (-3.54, 25.58),\n",
       " 'ind_17': (-2.092499996875002, 24.314166662125004),\n",
       " 'ind_18': (4.97625, 17.80625),\n",
       " 'ind_19': (-20.0, 20.0),\n",
       " 'ind_20': (-46.5, 45.5),\n",
       " 'ind_21': (-26.5, 25.5),\n",
       " 'ind_22': (-73.0, 31.0),\n",
       " 'ind_23': (-28.5, 71.5),\n",
       " 'ind_25': (-0.0009346386250000003, 0.004858152375000001),\n",
       " 'ind_26': (-0.005135520375000001, 0.0010582146250000006),\n",
       " 'ind_27': (-0.001235, 0.001189),\n",
       " 'ind_28': (-266.66666668, 266.66666668),\n",
       " 'ind_29': (-335.547553925, 336.933950495),\n",
       " 'ind_30': (-332.8885738125, 334.9984609075),\n",
       " 'ind_31': (-337.32648665500005, 340.503803565),\n",
       " 'ind_32': (-343.7920747325, 346.3209982675),\n",
       " 'ind_33': (-344.641976145, 346.513745335),\n",
       " 'ind_34': (-346.32715459125, 346.19299703875004),\n",
       " 'ind_35': (-354.5891711, 354.44025032),\n",
       " 'ind_36': (-382.01300777375, 375.73899767625005),\n",
       " 'ind_37': (-384.1412716275, 354.5495909125),\n",
       " 'ind_39': (-97.209188085, 97.662280995),\n",
       " 'ind_40': (1.5, 5.5),\n",
       " 'ind_41': (-59.81138203625, 57.834521333750004),\n",
       " 'ind_42': (-12.0, 12.0),\n",
       " 'ind_43': (-19.375, 19.625),\n",
       " 'ind_44': (-24.0, 24.0),\n",
       " 'ind_45': (-32.0, 32.0),\n",
       " 'ind_46': (-40.0, 40.0),\n",
       " 'ind_47': (-54.5, 53.5),\n",
       " 'ind_48': (-65.125, 65.875),\n",
       " 'ind_49': (-77.5, 78.5),\n",
       " 'ind_50': (-119.5, 124.5),\n",
       " 'ind_51': (-154.0, 166.0),\n",
       " 'ind_52': (-16.0, 16.0),\n",
       " 'ind_53': (-44.0, 44.0),\n",
       " 'ind_56': (-40.0, 40.0),\n",
       " 'ind_58': (-8.0, 8.0),\n",
       " 'ind_61': (-8.0, 8.0),\n",
       " 'ind_62': (-44.0, 44.0),\n",
       " 'ind_65': (-44.0, 44.0),\n",
       " 'ind_67': (-5.5, 6.5),\n",
       " 'ind_70': (-4.0, 4.0),\n",
       " 'ind_71': (-44.0, 44.0),\n",
       " 'ind_74': (-44.0, 44.0),\n",
       " 'ind_77': (-44.0, 44.0),\n",
       " 'ind_82': (-1.5, 2.5),\n",
       " 'ind_83': (-44.0, 44.0),\n",
       " 'ind_88': (-0.0001645625, 9.873750000000001e-05),\n",
       " 'ind_92': (-13.468076416749998, 13.28532130525),\n",
       " 'ind_102': (-60.10063098375001, 59.34101916625001),\n",
       " 'ind_116': (-36.0, 36.0),\n",
       " 'ind_118': (-0.004884544375, 0.0047546226250000006),\n",
       " 'ind_122': (-8.0, 8.0),\n",
       " 'ind_124': (-25.5, 26.5),\n",
       " 'ind_128': (-70.625, 72.375),\n",
       " 'ind_130': (-122.5, 129.5),\n",
       " 'ind_132': (-184.0, 208.0),\n",
       " 'ind_134': (-12.0, 12.0),\n",
       " 'ind_136': (-16.0, 16.0),\n",
       " 'ind_139': (7.378101843750009, 92.80565817374999),\n",
       " 'ind_142': (15.708505641250003, 83.16731929125),\n",
       " 'ind_145': (-0.541391368125, 0.5410616428749999),\n",
       " 'ind_147': (-6.087330926249976, 106.47187684374997),\n",
       " 'ind_150': (18.956401741250005, 80.08442217125),\n",
       " 'ind_153': (28.696991675000007, 69.597001075),\n",
       " 'ind_156': (38.62460871875, 59.14669302874999),\n",
       " 'ind_164': (-23.23622807025, 23.51499999975),\n",
       " 'ind_168': (-32.197777210874996, 31.736563252125),\n",
       " 'ind_172': (-46.364633833750005, 46.22860981625001),\n",
       " 'ind_176': (-54.52859177124999, 54.87076997875),\n",
       " 'ind_179': (-11.23, 11.01),\n",
       " 'ind_181': (-11.39625, 11.39375),\n",
       " 'ind_188': (-52.27253520250001, 153.2410021975),\n",
       " 'ind_194': (-53.16676577374999, 155.35562751624997),\n",
       " 'ind_212': (-83.36939116874998, 186.47821544124997),\n",
       " 'ind_217': (-3.0, 5.0),\n",
       " 'ind_225': (-0.0020802262500000004, 0.00742415175),\n",
       " 'ind_228': (1.188365343125, 1.2769804701249998),\n",
       " 'ind_234': (-8.550000000000003e-06, 3.0410000000000002e-05),\n",
       " 'ind_237': (-35.61472448499999, 155.926321755),\n",
       " 'ind_239': (-4.934999999999999e-05, 0.00011985),\n",
       " 'ind_241': (97.85900923750003, 103.75260673749997),\n",
       " 'ind_243': (1.091196010875, 1.3254161818749997),\n",
       " 'ind_309': (-5.3845e-05, 2.1474999999999997e-05),\n",
       " 'ind_310': (-1.595909775375, 0.838692601625),\n",
       " 'ind_311': (96.02270015375, 102.09053206374999),\n",
       " 'ind_313': (1.0799123983749996, 1.3078027453750003),\n",
       " 'ind_315': (-3.065871152375, 1.8278396906249998),\n",
       " 'ind_316': (93.79849299000001, 103.36385016999999),\n",
       " 'ind_318': (1.048400488875, 1.3312158518750001),\n",
       " 'ind_321': (-149.85699611625, 249.76166019375),\n",
       " 'ind_324': (-0.00024825, 0.00014895000000000002),\n",
       " 'ind_327': (-75.0, 125.0),\n",
       " 'ind_330': (0.0, 0.0),\n",
       " 'ind_332': (0.0, 0.0),\n",
       " 'ind_334': (0.0, 0.0),\n",
       " 'ind_338': (0.0, 0.0),\n",
       " 'ind_340': (0.0, 0.0),\n",
       " 'ind_344': (0.0, 0.0),\n",
       " 'ind_345': (0.0, 0.0),\n",
       " 'ind_347': (0.0, 0.0),\n",
       " 'ind_349': (0.0, 0.0),\n",
       " 'ind_351': (0.0, 0.0),\n",
       " 'ind_352': (0.0, 0.0),\n",
       " 'ind_387': (-153.05677876625003, 55.192845883750024),\n",
       " 'ind_392': (-44.574447277500006, 45.13773844250001),\n",
       " 'ind_397': (-10.509591731250001, 10.46575503875),\n",
       " 'ind_399': (-0.004210437499999999, 0.0041960205),\n",
       " 'ind_403': (-0.03081862625, 0.03032737975),\n",
       " 'ind_404': (-0.03002410675, 0.03051044125),\n",
       " 'ind_406': (-68.0, 68.0),\n",
       " 'ind_407': (-16.0, 16.0),\n",
       " 'ind_410': (-28.0, 28.0),\n",
       " 'ind_412': (-0.013023782250000001, 0.013619549750000001),\n",
       " 'ind_414': (-30.762500000000006, 78.73750000000001),\n",
       " 'ind_416': (-31.437499999999996, 18.862499999999997),\n",
       " 'ind_418': (-78.5, 29.5),\n",
       " 'ind_420': (-249.0, 335.0),\n",
       " 'ind_422': (-478.875, 180.125),\n",
       " 'ind_424': (-1.5, 2.5),\n",
       " 'ind_426': (-0.2245424846250002, 1.2189760923750002),\n",
       " 'ind_428': (0.0330255299999998, 0.9408163120000003),\n",
       " '90_target': (-150.2336646375, 150.0822638025),\n",
       " 'ind_109_new': (-1.5, 2.5)}"
      ]
     },
     "execution_count": 53,
     "metadata": {},
     "output_type": "execute_result"
    }
   ],
   "source": [
    "lower_and_upper = {}\n",
    "\n",
    "data_num = df_z.columns\n",
    "\n",
    "for col in data_num:\n",
    "    q1 = df_z[col].quantile(0.25)\n",
    "    q3 = df_z[col].quantile(0.75)\n",
    "    iqr = q3 - q1\n",
    "\n",
    "    lower_bound = q1-iqr*1.5\n",
    "    upper_bound = q3+iqr*1.5\n",
    "\n",
    "    lower_and_upper[col] = (lower_bound, upper_bound)\n",
    "\n",
    "    df_z.loc[(df_z.loc[:,col]<lower_bound),col]=lower_bound\n",
    "    df_z.loc[(df_z.loc[:,col]>upper_bound),col]=upper_bound\n",
    "\n",
    "\n",
    "lower_and_upper\n",
    "\n",
    "# Yeni araliklari da bu sekilde gorebiliyoruz"
   ]
  },
  {
   "cell_type": "code",
   "execution_count": 54,
   "metadata": {},
   "outputs": [
    {
     "data": {
      "text/plain": [
       "<matplotlib.axes._subplots.AxesSubplot at 0x211f19c1c08>"
      ]
     },
     "execution_count": 54,
     "metadata": {},
     "output_type": "execute_result"
    },
    {
     "data": {
      "image/png": "[encoded data removed]",
      "text/plain": [
       "<Figure size 432x288 with 1 Axes>"
      ]
     },
     "metadata": {
      "needs_background": "light"
     },
     "output_type": "display_data"
    }
   ],
   "source": [
    "sns.boxplot(df_z[\"ind_8\"])"
   ]
  },
  {
   "cell_type": "code",
   "execution_count": 55,
   "metadata": {},
   "outputs": [
    {
     "data": {
      "text/plain": [
       "<matplotlib.axes._subplots.AxesSubplot at 0x211f36aa508>"
      ]
     },
     "execution_count": 55,
     "metadata": {},
     "output_type": "execute_result"
    },
    {
     "data": {
      "image/png": "[encoded data removed]",
      "text/plain": [
       "<Figure size 432x288 with 1 Axes>"
      ]
     },
     "metadata": {
      "needs_background": "light"
     },
     "output_type": "display_data"
    }
   ],
   "source": [
    "sns.boxplot(df_z[\"ind_20\"])"
   ]
  },
  {
   "cell_type": "code",
   "execution_count": 56,
   "metadata": {},
   "outputs": [
    {
     "data": {
      "text/html": [
       "<table class=\"simpletable\">\n",
       "<caption>OLS Regression Results</caption>\n",
       "<tr>\n",
       "  <th>Dep. Variable:</th>        <td>90_target</td>    <th>  R-squared (uncentered):</th>      <td>   0.216</td> \n",
       "</tr>\n",
       "<tr>\n",
       "  <th>Model:</th>                   <td>OLS</td>       <th>  Adj. R-squared (uncentered):</th> <td>   0.192</td> \n",
       "</tr>\n",
       "<tr>\n",
       "  <th>Method:</th>             <td>Least Squares</td>  <th>  F-statistic:       </th>          <td>   9.005</td> \n",
       "</tr>\n",
       "<tr>\n",
       "  <th>Date:</th>             <td>Sat, 22 Aug 2020</td> <th>  Prob (F-statistic):</th>          <td>8.16e-135</td>\n",
       "</tr>\n",
       "<tr>\n",
       "  <th>Time:</th>                 <td>17:53:04</td>     <th>  Log-Likelihood:    </th>          <td> -20109.</td> \n",
       "</tr>\n",
       "<tr>\n",
       "  <th>No. Observations:</th>      <td>  4100</td>      <th>  AIC:               </th>          <td>4.046e+04</td>\n",
       "</tr>\n",
       "<tr>\n",
       "  <th>Df Residuals:</th>          <td>  3978</td>      <th>  BIC:               </th>          <td>4.123e+04</td>\n",
       "</tr>\n",
       "<tr>\n",
       "  <th>Df Model:</th>              <td>   122</td>      <th>                     </th>              <td> </td>    \n",
       "</tr>\n",
       "<tr>\n",
       "  <th>Covariance Type:</th>      <td>nonrobust</td>    <th>                     </th>              <td> </td>    \n",
       "</tr>\n",
       "</table>"
      ],
      "text/plain": [
       "<class 'statsmodels.iolib.table.SimpleTable'>"
      ]
     },
     "execution_count": 56,
     "metadata": {},
     "output_type": "execute_result"
    }
   ],
   "source": [
    "# Gordugumuz gibi degiskenelr de outlier gormuyoruz simdi modeli tekrardan kuralim\n",
    "import statsmodels.api as sm\n",
    "from sklearn.model_selection import train_test_split, cross_val_score, cross_val_predict\n",
    "\n",
    "X = df_z.drop(labels=\"90_target\",axis=1)\n",
    "y = df_z[\"90_target\"]\n",
    "X_train, X_test, y_train, y_test = train_test_split(X,y, test_size = .2, random_state = 42)\n",
    "\n",
    "\n",
    "lm = sm.OLS(y_train,X_train)\n",
    "model = lm.fit()\n",
    "model.summary().tables[0]\n",
    "\n",
    "# R karenin cok cok ufak bir dusus yasidigini goruyoruz"
   ]
  },
  {
   "cell_type": "code",
   "execution_count": 57,
   "metadata": {},
   "outputs": [
    {
     "name": "stdout",
     "output_type": "stream",
     "text": [
      "Istatistiksel olarak anlamli kat sayilar: ['ind_8', 'ind_9', 'ind_10', 'ind_18', 'ind_22', 'ind_23', 'ind_33', 'ind_37', 'ind_47', 'ind_50', 'ind_51', 'ind_74', 'ind_77', 'ind_82', 'ind_102', 'ind_128', 'ind_130', 'ind_132', 'ind_153', 'ind_156', 'ind_168', 'ind_181', 'ind_217', 'ind_225', 'ind_234', 'ind_237', 'ind_239', 'ind_309', 'ind_311', 'ind_313', 'ind_315', 'ind_324', 'ind_330', 'ind_332', 'ind_334', 'ind_338', 'ind_340', 'ind_344', 'ind_345', 'ind_347', 'ind_349', 'ind_351', 'ind_352', 'ind_397', 'ind_407', 'ind_410', 'ind_412', 'ind_416', 'ind_420', 'ind_428']\n"
     ]
    }
   ],
   "source": [
    "bos = []\n",
    "a = zip(model.tvalues.index,model.tvalues.values) \n",
    "for i,j in a:\n",
    "    if (j > 1.96):\n",
    "        bos.append(i)\n",
    "        \n",
    "    elif (abs(j) > 1.96):\n",
    "        bos.append(i)\n",
    "        \n",
    "print(\"Istatistiksel olarak anlamli kat sayilar: \" + str(bos))\n",
    "\n",
    "# Ama burada ise anlamli olan kat sayilarimizins ayisinin arttigini gorebiliyoruz\n",
    "# Oncesinde 45 iken simdi ise 50 olmus durumda "
   ]
  },
  {
   "cell_type": "code",
   "execution_count": null,
   "metadata": {},
   "outputs": [],
   "source": []
  },
  {
   "cell_type": "markdown",
   "metadata": {},
   "source": [
    "### Diger islemleri yaparak HATALARI gorelim"
   ]
  },
  {
   "cell_type": "code",
   "execution_count": 58,
   "metadata": {},
   "outputs": [
    {
     "name": "stdout",
     "output_type": "stream",
     "text": [
      "1064.1994545242258 29.02586072723629 32.622070052714705\n"
     ]
    }
   ],
   "source": [
    "import numpy as np\n",
    "from sklearn.metrics import mean_absolute_error, mean_squared_error\n",
    "from sklearn.linear_model import LinearRegression\n",
    "X = df_z.drop(labels=\"90_target\",axis=1)\n",
    "y = df_z[\"90_target\"]\n",
    "lm = LinearRegression()\n",
    "model = lm.fit(X_train,y_train)\n",
    "\n",
    "\n",
    "mse = mean_squared_error(y_train,model.predict(X_train))\n",
    "mae = mean_absolute_error(y_train,model.predict(X_train))\n",
    "rmse = np.sqrt(mean_squared_error(y_train,model.predict(X_train)))\n",
    "\n",
    "print(mse,mae,rmse) \n",
    "\n",
    "\n",
    "# Burada ise Model tahmini X_train,y_train yaparak verileri parcalamis sekil de verdigimiz de aldigimiz sonuc\n"
   ]
  },
  {
   "cell_type": "markdown",
   "metadata": {},
   "source": [
    "* Bir onceki modelimizin CORSS VALL yapilmadan onceki degerleri bunlar iken 1052.5859598325878 - 28.866982778648712 - 32.44358118076036 yeni degerlerimizin bunlarin bir nebze uzerine ciktigini goruyoruz"
   ]
  },
  {
   "cell_type": "code",
   "execution_count": 59,
   "metadata": {},
   "outputs": [
    {
     "name": "stdout",
     "output_type": "stream",
     "text": [
      "33.673424590152294\n",
      "29.918125509191874\n"
     ]
    }
   ],
   "source": [
    "# Egitim setleri validasyon hatalari\n",
    "\n",
    "val_rmse =np.sqrt(-cross_val_score(model, X_train, y_train, cv = 10, scoring=\"neg_mean_squared_error\")).mean()\n",
    "val_mae = -cross_val_score(model, X_train, y_train, cv = 10, scoring=\"neg_mean_absolute_error\").mean()\n",
    "\n",
    "print(val_rmse)\n",
    "print(val_mae)\n",
    "\n"
   ]
  },
  {
   "cell_type": "markdown",
   "metadata": {},
   "source": [
    "* OUTLIER yapmadan onceki modelimize ait CROSS VALL RMSE ve MAE degerleri 33.62215713664038 - 29.84272369338642 bu sekilde iken Outlierdan sonra cok ufak bir dusus goruyoruz\n"
   ]
  },
  {
   "cell_type": "code",
   "execution_count": 60,
   "metadata": {},
   "outputs": [
    {
     "name": "stdout",
     "output_type": "stream",
     "text": [
      "35.9371067011241\n",
      "31.069274196152843\n"
     ]
    }
   ],
   "source": [
    "# Test testleri icin validasyon hatalari\n",
    "# Artis goruyoruz hatalar da sebebi su, modelimiz overfitt yapmis olabilir yada iyi bir tahmin edici model olmadigi icin bu sonuclari veriyor olabilir\n",
    "\n",
    "val_rmse =np.sqrt(-cross_val_score(model, X_test, y_test, cv = 10, scoring=\"neg_mean_squared_error\")).mean()\n",
    "val_mae = -cross_val_score(model, X_test, y_test, cv = 10, scoring=\"neg_mean_absolute_error\").mean()\n",
    "\n",
    "print(val_rmse)\n",
    "print(val_mae)"
   ]
  },
  {
   "cell_type": "markdown",
   "metadata": {},
   "source": [
    "* Outlier oncesi test validasyon degerlerimiz su sekilde iken 222.1756039455127 - 50.45988473551145 daha sonra OUTLIER yapiyoruz ve elde ettigimiz TEST hata metricleri daha mantikli ve uygun gozukmek. Birbirlerine daha yakin seyiriyorlar. Bu bize modelin farkli setler gorse de buna cok yabanci kalmadigini gosteriyor. Bunun sebebi OUTLIER degerlerinin temizlenmis olmasi. Sayet bu model tahmin icin kullanilacaksa gelen veri setine outlier temizligi yapildiginda iyi sonuclar verebilir aksi halde model cok ucuk degerler de hatali tahmin yapma ihtimali yuksek."
   ]
  },
  {
   "cell_type": "code",
   "execution_count": null,
   "metadata": {},
   "outputs": [],
   "source": []
  },
  {
   "cell_type": "code",
   "execution_count": null,
   "metadata": {},
   "outputs": [],
   "source": []
  },
  {
   "cell_type": "code",
   "execution_count": null,
   "metadata": {},
   "outputs": [],
   "source": []
  },
  {
   "cell_type": "code",
   "execution_count": null,
   "metadata": {},
   "outputs": [],
   "source": []
  },
  {
   "cell_type": "code",
   "execution_count": null,
   "metadata": {},
   "outputs": [],
   "source": []
  },
  {
   "cell_type": "code",
   "execution_count": null,
   "metadata": {},
   "outputs": [],
   "source": []
  },
  {
   "cell_type": "markdown",
   "metadata": {},
   "source": [
    "## Simdi TARGET degisimi yaparak  ayni zaman da degisken sayisini dusurerek benzer adimlar izleyelim"
   ]
  },
  {
   "cell_type": "code",
   "execution_count": 61,
   "metadata": {},
   "outputs": [],
   "source": [
    "# Hedef target 50 \n",
    "\n",
    "df_y = df.drop(labels=[\"20_target\",\"90_target\"],axis=1)"
   ]
  },
  {
   "cell_type": "code",
   "execution_count": 62,
   "metadata": {},
   "outputs": [
    {
     "data": {
      "text/plain": [
       "(5126, 134)"
      ]
     },
     "execution_count": 62,
     "metadata": {},
     "output_type": "execute_result"
    }
   ],
   "source": [
    "df_y.shape"
   ]
  },
  {
   "cell_type": "code",
   "execution_count": 63,
   "metadata": {},
   "outputs": [],
   "source": [
    "\n",
    "import numpy as np\n",
    "\n",
    "df_y.loc[df_y[df_y[\"ind_420\"] == \"?\"].index] = np.nan \n",
    "\n",
    "\n",
    "\n",
    "# \"?\" seklinde olan indexleri silmek yerine oralara NaN degerleri bastik ve simdi onlara ortalama deger atama imkanımız var \n",
    "# Sutunlara gore ortalamayi atayalim ve sonuclara bakalim\n"
   ]
  },
  {
   "cell_type": "code",
   "execution_count": 64,
   "metadata": {},
   "outputs": [
    {
     "data": {
      "text/html": [
       "<div>\n",
       "<style scoped>\n",
       "    .dataframe tbody tr th:only-of-type {\n",
       "        vertical-align: middle;\n",
       "    }\n",
       "\n",
       "    .dataframe tbody tr th {\n",
       "        vertical-align: top;\n",
       "    }\n",
       "\n",
       "    .dataframe thead th {\n",
       "        text-align: right;\n",
       "    }\n",
       "</style>\n",
       "<table border=\"1\" class=\"dataframe\">\n",
       "  <thead>\n",
       "    <tr style=\"text-align: right;\">\n",
       "      <th></th>\n",
       "      <th>count</th>\n",
       "      <th>mean</th>\n",
       "      <th>std</th>\n",
       "      <th>min</th>\n",
       "      <th>25%</th>\n",
       "      <th>50%</th>\n",
       "      <th>75%</th>\n",
       "      <th>max</th>\n",
       "    </tr>\n",
       "  </thead>\n",
       "  <tbody>\n",
       "    <tr>\n",
       "      <th>ind_5</th>\n",
       "      <td>5126.0</td>\n",
       "      <td>-1.251853</td>\n",
       "      <td>23.546553</td>\n",
       "      <td>-131.000000</td>\n",
       "      <td>-14.000000</td>\n",
       "      <td>0.000000</td>\n",
       "      <td>13.000000</td>\n",
       "      <td>69.000000</td>\n",
       "    </tr>\n",
       "    <tr>\n",
       "      <th>ind_6</th>\n",
       "      <td>5126.0</td>\n",
       "      <td>-1.240148</td>\n",
       "      <td>23.550694</td>\n",
       "      <td>-131.000000</td>\n",
       "      <td>-14.000000</td>\n",
       "      <td>0.000000</td>\n",
       "      <td>13.000000</td>\n",
       "      <td>69.000000</td>\n",
       "    </tr>\n",
       "    <tr>\n",
       "      <th>ind_8</th>\n",
       "      <td>5126.0</td>\n",
       "      <td>49.016220</td>\n",
       "      <td>36.340676</td>\n",
       "      <td>0.000000</td>\n",
       "      <td>14.285714</td>\n",
       "      <td>50.000000</td>\n",
       "      <td>85.714286</td>\n",
       "      <td>100.000000</td>\n",
       "    </tr>\n",
       "    <tr>\n",
       "      <th>ind_9</th>\n",
       "      <td>5126.0</td>\n",
       "      <td>48.042194</td>\n",
       "      <td>36.619184</td>\n",
       "      <td>0.000000</td>\n",
       "      <td>14.285714</td>\n",
       "      <td>42.857143</td>\n",
       "      <td>85.714286</td>\n",
       "      <td>100.000000</td>\n",
       "    </tr>\n",
       "    <tr>\n",
       "      <th>ind_10</th>\n",
       "      <td>5126.0</td>\n",
       "      <td>0.974026</td>\n",
       "      <td>60.375932</td>\n",
       "      <td>-100.000000</td>\n",
       "      <td>-50.000000</td>\n",
       "      <td>7.142857</td>\n",
       "      <td>57.142857</td>\n",
       "      <td>100.000000</td>\n",
       "    </tr>\n",
       "    <tr>\n",
       "      <th>...</th>\n",
       "      <td>...</td>\n",
       "      <td>...</td>\n",
       "      <td>...</td>\n",
       "      <td>...</td>\n",
       "      <td>...</td>\n",
       "      <td>...</td>\n",
       "      <td>...</td>\n",
       "      <td>...</td>\n",
       "    </tr>\n",
       "    <tr>\n",
       "      <th>ind_422</th>\n",
       "      <td>5126.0</td>\n",
       "      <td>-153.177917</td>\n",
       "      <td>124.342634</td>\n",
       "      <td>-594.000000</td>\n",
       "      <td>-231.750000</td>\n",
       "      <td>-143.000000</td>\n",
       "      <td>-67.000000</td>\n",
       "      <td>124.000000</td>\n",
       "    </tr>\n",
       "    <tr>\n",
       "      <th>ind_424</th>\n",
       "      <td>5126.0</td>\n",
       "      <td>0.488696</td>\n",
       "      <td>0.425102</td>\n",
       "      <td>0.000000</td>\n",
       "      <td>0.000000</td>\n",
       "      <td>0.472798</td>\n",
       "      <td>1.000000</td>\n",
       "      <td>1.000000</td>\n",
       "    </tr>\n",
       "    <tr>\n",
       "      <th>ind_426</th>\n",
       "      <td>5126.0</td>\n",
       "      <td>0.496659</td>\n",
       "      <td>0.231322</td>\n",
       "      <td>0.000000</td>\n",
       "      <td>0.316777</td>\n",
       "      <td>0.494094</td>\n",
       "      <td>0.677657</td>\n",
       "      <td>1.000000</td>\n",
       "    </tr>\n",
       "    <tr>\n",
       "      <th>ind_428</th>\n",
       "      <td>5126.0</td>\n",
       "      <td>0.487013</td>\n",
       "      <td>0.151328</td>\n",
       "      <td>0.083530</td>\n",
       "      <td>0.373447</td>\n",
       "      <td>0.490489</td>\n",
       "      <td>0.600395</td>\n",
       "      <td>0.868534</td>\n",
       "    </tr>\n",
       "    <tr>\n",
       "      <th>50_target</th>\n",
       "      <td>5126.0</td>\n",
       "      <td>-3.528451</td>\n",
       "      <td>34.294926</td>\n",
       "      <td>-37.142889</td>\n",
       "      <td>-36.096054</td>\n",
       "      <td>-34.282556</td>\n",
       "      <td>35.374015</td>\n",
       "      <td>37.038694</td>\n",
       "    </tr>\n",
       "  </tbody>\n",
       "</table>\n",
       "<p>133 rows × 8 columns</p>\n",
       "</div>"
      ],
      "text/plain": [
       "            count        mean         std         min         25%         50%  \\\n",
       "ind_5      5126.0   -1.251853   23.546553 -131.000000  -14.000000    0.000000   \n",
       "ind_6      5126.0   -1.240148   23.550694 -131.000000  -14.000000    0.000000   \n",
       "ind_8      5126.0   49.016220   36.340676    0.000000   14.285714   50.000000   \n",
       "ind_9      5126.0   48.042194   36.619184    0.000000   14.285714   42.857143   \n",
       "ind_10     5126.0    0.974026   60.375932 -100.000000  -50.000000    7.142857   \n",
       "...           ...         ...         ...         ...         ...         ...   \n",
       "ind_422    5126.0 -153.177917  124.342634 -594.000000 -231.750000 -143.000000   \n",
       "ind_424    5126.0    0.488696    0.425102    0.000000    0.000000    0.472798   \n",
       "ind_426    5126.0    0.496659    0.231322    0.000000    0.316777    0.494094   \n",
       "ind_428    5126.0    0.487013    0.151328    0.083530    0.373447    0.490489   \n",
       "50_target  5126.0   -3.528451   34.294926  -37.142889  -36.096054  -34.282556   \n",
       "\n",
       "                 75%         max  \n",
       "ind_5      13.000000   69.000000  \n",
       "ind_6      13.000000   69.000000  \n",
       "ind_8      85.714286  100.000000  \n",
       "ind_9      85.714286  100.000000  \n",
       "ind_10     57.142857  100.000000  \n",
       "...              ...         ...  \n",
       "ind_422   -67.000000  124.000000  \n",
       "ind_424     1.000000    1.000000  \n",
       "ind_426     0.677657    1.000000  \n",
       "ind_428     0.600395    0.868534  \n",
       "50_target  35.374015   37.038694  \n",
       "\n",
       "[133 rows x 8 columns]"
      ]
     },
     "execution_count": 64,
     "metadata": {},
     "output_type": "execute_result"
    }
   ],
   "source": [
    "df_y.describe().T"
   ]
  },
  {
   "cell_type": "code",
   "execution_count": 65,
   "metadata": {},
   "outputs": [
    {
     "data": {
      "text/html": [
       "<div>\n",
       "<style scoped>\n",
       "    .dataframe tbody tr th:only-of-type {\n",
       "        vertical-align: middle;\n",
       "    }\n",
       "\n",
       "    .dataframe tbody tr th {\n",
       "        vertical-align: top;\n",
       "    }\n",
       "\n",
       "    .dataframe thead th {\n",
       "        text-align: right;\n",
       "    }\n",
       "</style>\n",
       "<table border=\"1\" class=\"dataframe\">\n",
       "  <thead>\n",
       "    <tr style=\"text-align: right;\">\n",
       "      <th></th>\n",
       "      <th>ind_5</th>\n",
       "      <th>ind_6</th>\n",
       "      <th>ind_8</th>\n",
       "      <th>ind_9</th>\n",
       "      <th>ind_10</th>\n",
       "      <th>ind_12</th>\n",
       "      <th>ind_13</th>\n",
       "      <th>ind_14</th>\n",
       "      <th>ind_15</th>\n",
       "      <th>ind_16</th>\n",
       "      <th>...</th>\n",
       "      <th>ind_412</th>\n",
       "      <th>ind_414</th>\n",
       "      <th>ind_416</th>\n",
       "      <th>ind_418</th>\n",
       "      <th>ind_420</th>\n",
       "      <th>ind_422</th>\n",
       "      <th>ind_424</th>\n",
       "      <th>ind_426</th>\n",
       "      <th>ind_428</th>\n",
       "      <th>50_target</th>\n",
       "    </tr>\n",
       "  </thead>\n",
       "  <tbody>\n",
       "    <tr>\n",
       "      <th>ind_5</th>\n",
       "      <td>1.000000</td>\n",
       "      <td>0.990115</td>\n",
       "      <td>0.547483</td>\n",
       "      <td>-0.518832</td>\n",
       "      <td>0.644215</td>\n",
       "      <td>0.820822</td>\n",
       "      <td>0.777479</td>\n",
       "      <td>-0.045803</td>\n",
       "      <td>-0.067730</td>\n",
       "      <td>-0.092888</td>\n",
       "      <td>...</td>\n",
       "      <td>0.614425</td>\n",
       "      <td>-0.727758</td>\n",
       "      <td>-0.324564</td>\n",
       "      <td>-0.587574</td>\n",
       "      <td>-0.317846</td>\n",
       "      <td>-0.329648</td>\n",
       "      <td>0.078010</td>\n",
       "      <td>0.621468</td>\n",
       "      <td>0.816156</td>\n",
       "      <td>0.081537</td>\n",
       "    </tr>\n",
       "    <tr>\n",
       "      <th>ind_6</th>\n",
       "      <td>0.990115</td>\n",
       "      <td>1.000000</td>\n",
       "      <td>0.521053</td>\n",
       "      <td>-0.479383</td>\n",
       "      <td>0.604380</td>\n",
       "      <td>0.767504</td>\n",
       "      <td>0.722541</td>\n",
       "      <td>-0.034480</td>\n",
       "      <td>-0.057776</td>\n",
       "      <td>-0.086007</td>\n",
       "      <td>...</td>\n",
       "      <td>0.629753</td>\n",
       "      <td>-0.681855</td>\n",
       "      <td>-0.299246</td>\n",
       "      <td>-0.536726</td>\n",
       "      <td>-0.320019</td>\n",
       "      <td>-0.331171</td>\n",
       "      <td>0.023117</td>\n",
       "      <td>0.562515</td>\n",
       "      <td>0.809119</td>\n",
       "      <td>0.081567</td>\n",
       "    </tr>\n",
       "    <tr>\n",
       "      <th>ind_8</th>\n",
       "      <td>0.547483</td>\n",
       "      <td>0.521053</td>\n",
       "      <td>1.000000</td>\n",
       "      <td>-0.369578</td>\n",
       "      <td>0.826063</td>\n",
       "      <td>0.585052</td>\n",
       "      <td>0.480337</td>\n",
       "      <td>0.146128</td>\n",
       "      <td>0.119751</td>\n",
       "      <td>0.016810</td>\n",
       "      <td>...</td>\n",
       "      <td>0.268643</td>\n",
       "      <td>-0.488015</td>\n",
       "      <td>-0.268403</td>\n",
       "      <td>-0.421079</td>\n",
       "      <td>-0.144740</td>\n",
       "      <td>-0.159317</td>\n",
       "      <td>0.142893</td>\n",
       "      <td>0.595508</td>\n",
       "      <td>0.458084</td>\n",
       "      <td>0.001962</td>\n",
       "    </tr>\n",
       "    <tr>\n",
       "      <th>ind_9</th>\n",
       "      <td>-0.518832</td>\n",
       "      <td>-0.479383</td>\n",
       "      <td>-0.369578</td>\n",
       "      <td>1.000000</td>\n",
       "      <td>-0.828971</td>\n",
       "      <td>-0.602616</td>\n",
       "      <td>-0.560931</td>\n",
       "      <td>0.260789</td>\n",
       "      <td>0.263371</td>\n",
       "      <td>0.172689</td>\n",
       "      <td>...</td>\n",
       "      <td>-0.255042</td>\n",
       "      <td>0.435206</td>\n",
       "      <td>0.346778</td>\n",
       "      <td>0.504424</td>\n",
       "      <td>0.131142</td>\n",
       "      <td>0.160855</td>\n",
       "      <td>-0.180249</td>\n",
       "      <td>-0.639987</td>\n",
       "      <td>-0.439689</td>\n",
       "      <td>-0.005618</td>\n",
       "    </tr>\n",
       "    <tr>\n",
       "      <th>ind_10</th>\n",
       "      <td>0.644215</td>\n",
       "      <td>0.604380</td>\n",
       "      <td>0.826063</td>\n",
       "      <td>-0.828971</td>\n",
       "      <td>1.000000</td>\n",
       "      <td>0.717645</td>\n",
       "      <td>0.629334</td>\n",
       "      <td>-0.070218</td>\n",
       "      <td>-0.087661</td>\n",
       "      <td>-0.094621</td>\n",
       "      <td>...</td>\n",
       "      <td>0.316386</td>\n",
       "      <td>-0.557700</td>\n",
       "      <td>-0.371881</td>\n",
       "      <td>-0.559393</td>\n",
       "      <td>-0.166660</td>\n",
       "      <td>-0.193456</td>\n",
       "      <td>0.195333</td>\n",
       "      <td>0.746605</td>\n",
       "      <td>0.542404</td>\n",
       "      <td>0.004588</td>\n",
       "    </tr>\n",
       "    <tr>\n",
       "      <th>...</th>\n",
       "      <td>...</td>\n",
       "      <td>...</td>\n",
       "      <td>...</td>\n",
       "      <td>...</td>\n",
       "      <td>...</td>\n",
       "      <td>...</td>\n",
       "      <td>...</td>\n",
       "      <td>...</td>\n",
       "      <td>...</td>\n",
       "      <td>...</td>\n",
       "      <td>...</td>\n",
       "      <td>...</td>\n",
       "      <td>...</td>\n",
       "      <td>...</td>\n",
       "      <td>...</td>\n",
       "      <td>...</td>\n",
       "      <td>...</td>\n",
       "      <td>...</td>\n",
       "      <td>...</td>\n",
       "      <td>...</td>\n",
       "      <td>...</td>\n",
       "    </tr>\n",
       "    <tr>\n",
       "      <th>ind_422</th>\n",
       "      <td>-0.329648</td>\n",
       "      <td>-0.331171</td>\n",
       "      <td>-0.159317</td>\n",
       "      <td>0.160855</td>\n",
       "      <td>-0.193456</td>\n",
       "      <td>-0.332616</td>\n",
       "      <td>-0.313655</td>\n",
       "      <td>0.044811</td>\n",
       "      <td>0.057904</td>\n",
       "      <td>0.075449</td>\n",
       "      <td>...</td>\n",
       "      <td>-0.240627</td>\n",
       "      <td>0.237745</td>\n",
       "      <td>0.264694</td>\n",
       "      <td>0.145048</td>\n",
       "      <td>0.732399</td>\n",
       "      <td>1.000000</td>\n",
       "      <td>-0.075613</td>\n",
       "      <td>-0.204524</td>\n",
       "      <td>-0.358164</td>\n",
       "      <td>0.003000</td>\n",
       "    </tr>\n",
       "    <tr>\n",
       "      <th>ind_424</th>\n",
       "      <td>0.078010</td>\n",
       "      <td>0.023117</td>\n",
       "      <td>0.142893</td>\n",
       "      <td>-0.180249</td>\n",
       "      <td>0.195333</td>\n",
       "      <td>0.386064</td>\n",
       "      <td>0.352654</td>\n",
       "      <td>-0.024501</td>\n",
       "      <td>-0.023196</td>\n",
       "      <td>-0.025832</td>\n",
       "      <td>...</td>\n",
       "      <td>0.029070</td>\n",
       "      <td>-0.265014</td>\n",
       "      <td>-0.133653</td>\n",
       "      <td>-0.294485</td>\n",
       "      <td>-0.053600</td>\n",
       "      <td>-0.075613</td>\n",
       "      <td>1.000000</td>\n",
       "      <td>0.341137</td>\n",
       "      <td>0.189822</td>\n",
       "      <td>-0.001411</td>\n",
       "    </tr>\n",
       "    <tr>\n",
       "      <th>ind_426</th>\n",
       "      <td>0.621468</td>\n",
       "      <td>0.562515</td>\n",
       "      <td>0.595508</td>\n",
       "      <td>-0.639987</td>\n",
       "      <td>0.746605</td>\n",
       "      <td>0.775348</td>\n",
       "      <td>0.699661</td>\n",
       "      <td>-0.095876</td>\n",
       "      <td>-0.100360</td>\n",
       "      <td>-0.087605</td>\n",
       "      <td>...</td>\n",
       "      <td>0.286172</td>\n",
       "      <td>-0.574290</td>\n",
       "      <td>-0.370107</td>\n",
       "      <td>-0.583362</td>\n",
       "      <td>-0.170756</td>\n",
       "      <td>-0.204524</td>\n",
       "      <td>0.341137</td>\n",
       "      <td>1.000000</td>\n",
       "      <td>0.580932</td>\n",
       "      <td>0.016545</td>\n",
       "    </tr>\n",
       "    <tr>\n",
       "      <th>ind_428</th>\n",
       "      <td>0.816156</td>\n",
       "      <td>0.809119</td>\n",
       "      <td>0.458084</td>\n",
       "      <td>-0.439689</td>\n",
       "      <td>0.542404</td>\n",
       "      <td>0.808156</td>\n",
       "      <td>0.729684</td>\n",
       "      <td>-0.006137</td>\n",
       "      <td>-0.019001</td>\n",
       "      <td>-0.035110</td>\n",
       "      <td>...</td>\n",
       "      <td>0.576218</td>\n",
       "      <td>-0.529115</td>\n",
       "      <td>-0.281079</td>\n",
       "      <td>-0.459643</td>\n",
       "      <td>-0.327875</td>\n",
       "      <td>-0.358164</td>\n",
       "      <td>0.189822</td>\n",
       "      <td>0.580932</td>\n",
       "      <td>1.000000</td>\n",
       "      <td>0.068053</td>\n",
       "    </tr>\n",
       "    <tr>\n",
       "      <th>50_target</th>\n",
       "      <td>0.081537</td>\n",
       "      <td>0.081567</td>\n",
       "      <td>0.001962</td>\n",
       "      <td>-0.005618</td>\n",
       "      <td>0.004588</td>\n",
       "      <td>0.065218</td>\n",
       "      <td>0.057671</td>\n",
       "      <td>0.075191</td>\n",
       "      <td>0.087573</td>\n",
       "      <td>0.107244</td>\n",
       "      <td>...</td>\n",
       "      <td>0.135387</td>\n",
       "      <td>-0.012127</td>\n",
       "      <td>0.041196</td>\n",
       "      <td>-0.114093</td>\n",
       "      <td>-0.030940</td>\n",
       "      <td>0.003000</td>\n",
       "      <td>-0.001411</td>\n",
       "      <td>0.016545</td>\n",
       "      <td>0.068053</td>\n",
       "      <td>1.000000</td>\n",
       "    </tr>\n",
       "  </tbody>\n",
       "</table>\n",
       "<p>133 rows × 133 columns</p>\n",
       "</div>"
      ],
      "text/plain": [
       "              ind_5     ind_6     ind_8     ind_9    ind_10    ind_12  \\\n",
       "ind_5      1.000000  0.990115  0.547483 -0.518832  0.644215  0.820822   \n",
       "ind_6      0.990115  1.000000  0.521053 -0.479383  0.604380  0.767504   \n",
       "ind_8      0.547483  0.521053  1.000000 -0.369578  0.826063  0.585052   \n",
       "ind_9     -0.518832 -0.479383 -0.369578  1.000000 -0.828971 -0.602616   \n",
       "ind_10     0.644215  0.604380  0.826063 -0.828971  1.000000  0.717645   \n",
       "...             ...       ...       ...       ...       ...       ...   \n",
       "ind_422   -0.329648 -0.331171 -0.159317  0.160855 -0.193456 -0.332616   \n",
       "ind_424    0.078010  0.023117  0.142893 -0.180249  0.195333  0.386064   \n",
       "ind_426    0.621468  0.562515  0.595508 -0.639987  0.746605  0.775348   \n",
       "ind_428    0.816156  0.809119  0.458084 -0.439689  0.542404  0.808156   \n",
       "50_target  0.081537  0.081567  0.001962 -0.005618  0.004588  0.065218   \n",
       "\n",
       "             ind_13    ind_14    ind_15    ind_16  ...   ind_412   ind_414  \\\n",
       "ind_5      0.777479 -0.045803 -0.067730 -0.092888  ...  0.614425 -0.727758   \n",
       "ind_6      0.722541 -0.034480 -0.057776 -0.086007  ...  0.629753 -0.681855   \n",
       "ind_8      0.480337  0.146128  0.119751  0.016810  ...  0.268643 -0.488015   \n",
       "ind_9     -0.560931  0.260789  0.263371  0.172689  ... -0.255042  0.435206   \n",
       "ind_10     0.629334 -0.070218 -0.087661 -0.094621  ...  0.316386 -0.557700   \n",
       "...             ...       ...       ...       ...  ...       ...       ...   \n",
       "ind_422   -0.313655  0.044811  0.057904  0.075449  ... -0.240627  0.237745   \n",
       "ind_424    0.352654 -0.024501 -0.023196 -0.025832  ...  0.029070 -0.265014   \n",
       "ind_426    0.699661 -0.095876 -0.100360 -0.087605  ...  0.286172 -0.574290   \n",
       "ind_428    0.729684 -0.006137 -0.019001 -0.035110  ...  0.576218 -0.529115   \n",
       "50_target  0.057671  0.075191  0.087573  0.107244  ...  0.135387 -0.012127   \n",
       "\n",
       "            ind_416   ind_418   ind_420   ind_422   ind_424   ind_426  \\\n",
       "ind_5     -0.324564 -0.587574 -0.317846 -0.329648  0.078010  0.621468   \n",
       "ind_6     -0.299246 -0.536726 -0.320019 -0.331171  0.023117  0.562515   \n",
       "ind_8     -0.268403 -0.421079 -0.144740 -0.159317  0.142893  0.595508   \n",
       "ind_9      0.346778  0.504424  0.131142  0.160855 -0.180249 -0.639987   \n",
       "ind_10    -0.371881 -0.559393 -0.166660 -0.193456  0.195333  0.746605   \n",
       "...             ...       ...       ...       ...       ...       ...   \n",
       "ind_422    0.264694  0.145048  0.732399  1.000000 -0.075613 -0.204524   \n",
       "ind_424   -0.133653 -0.294485 -0.053600 -0.075613  1.000000  0.341137   \n",
       "ind_426   -0.370107 -0.583362 -0.170756 -0.204524  0.341137  1.000000   \n",
       "ind_428   -0.281079 -0.459643 -0.327875 -0.358164  0.189822  0.580932   \n",
       "50_target  0.041196 -0.114093 -0.030940  0.003000 -0.001411  0.016545   \n",
       "\n",
       "            ind_428  50_target  \n",
       "ind_5      0.816156   0.081537  \n",
       "ind_6      0.809119   0.081567  \n",
       "ind_8      0.458084   0.001962  \n",
       "ind_9     -0.439689  -0.005618  \n",
       "ind_10     0.542404   0.004588  \n",
       "...             ...        ...  \n",
       "ind_422   -0.358164   0.003000  \n",
       "ind_424    0.189822  -0.001411  \n",
       "ind_426    0.580932   0.016545  \n",
       "ind_428    1.000000   0.068053  \n",
       "50_target  0.068053   1.000000  \n",
       "\n",
       "[133 rows x 133 columns]"
      ]
     },
     "execution_count": 65,
     "metadata": {},
     "output_type": "execute_result"
    }
   ],
   "source": [
    "df_y.corr()"
   ]
  },
  {
   "cell_type": "code",
   "execution_count": 66,
   "metadata": {},
   "outputs": [],
   "source": [
    "# Degisken donusturmeden once icerisinde NAN degerler oldugu icin ilk once bu OBJECT tipindeki degiskenlerin NAN degerlerini degistiriyoruz\n",
    "# Ardindan donusum gercelestiriyoruz\n",
    "\n",
    "df_y[\"ind_422\"] = df_y[\"ind_422\"].fillna(df_y.mean()[\"ind_422\"])\n",
    "df_y[\"ind_420\"] = df_y[\"ind_420\"].fillna(df_y.mean()[\"ind_420\"])\n",
    "\n",
    "df_y[\"ind_422\"] = df_y[\"ind_422\"].astype('int32')\n",
    "df_y[\"ind_420\"] = df_y[\"ind_420\"].astype('int32')"
   ]
  },
  {
   "cell_type": "code",
   "execution_count": 67,
   "metadata": {},
   "outputs": [],
   "source": [
    "# Geriye kalan NaN degiskenleri de dolduruyoruz\n",
    "\n",
    "column = list(df_y.select_dtypes(include=[\"int32\",\"float64\"]))\n",
    "df_y[column] = df_y[column].apply(lambda x: x.fillna(x.mean()),axis=0)"
   ]
  },
  {
   "cell_type": "code",
   "execution_count": 68,
   "metadata": {},
   "outputs": [
    {
     "data": {
      "text/plain": [
       "ind_5        0\n",
       "ind_6        0\n",
       "ind_8        0\n",
       "ind_9        0\n",
       "ind_10       0\n",
       "            ..\n",
       "ind_422      0\n",
       "ind_424      0\n",
       "ind_426      0\n",
       "ind_428      0\n",
       "50_target    0\n",
       "Length: 134, dtype: int64"
      ]
     },
     "execution_count": 68,
     "metadata": {},
     "output_type": "execute_result"
    }
   ],
   "source": [
    "df_y.isnull().sum()\n",
    "\n",
    "# ? isareti olan yerleri NaN ile doldurduk oralari kaybetmek istemiyorduk daha sonra NaN degerlerini de sutunlarin mean degeri ile doldurduk  "
   ]
  },
  {
   "cell_type": "code",
   "execution_count": null,
   "metadata": {},
   "outputs": [],
   "source": []
  },
  {
   "cell_type": "code",
   "execution_count": 69,
   "metadata": {},
   "outputs": [],
   "source": [
    "import statsmodels.api as sm\n",
    "from sklearn.model_selection import train_test_split, cross_val_score, cross_val_predict\n",
    "from sklearn import preprocessing"
   ]
  },
  {
   "cell_type": "code",
   "execution_count": 70,
   "metadata": {},
   "outputs": [],
   "source": [
    "df_y = pd.get_dummies(df_y,columns= [\"ind_109\"], prefix= [\"ind_109\"])\n",
    "\n",
    "# OBJECT Tipinde 2 sinifli olan degiskenimizin donusumunu de tamamladik simdi ortalamalara gore islem sirasi"
   ]
  },
  {
   "cell_type": "code",
   "execution_count": 71,
   "metadata": {},
   "outputs": [
    {
     "data": {
      "text/html": [
       "<table class=\"simpletable\">\n",
       "<caption>OLS Regression Results</caption>\n",
       "<tr>\n",
       "  <th>Dep. Variable:</th>        <td>50_target</td>    <th>  R-squared:         </th> <td>   0.212</td> \n",
       "</tr>\n",
       "<tr>\n",
       "  <th>Model:</th>                   <td>OLS</td>       <th>  Adj. R-squared:    </th> <td>   0.186</td> \n",
       "</tr>\n",
       "<tr>\n",
       "  <th>Method:</th>             <td>Least Squares</td>  <th>  F-statistic:       </th> <td>   8.041</td> \n",
       "</tr>\n",
       "<tr>\n",
       "  <th>Date:</th>             <td>Sat, 22 Aug 2020</td> <th>  Prob (F-statistic):</th> <td>9.85e-126</td>\n",
       "</tr>\n",
       "<tr>\n",
       "  <th>Time:</th>                 <td>17:53:18</td>     <th>  Log-Likelihood:    </th> <td> -19811.</td> \n",
       "</tr>\n",
       "<tr>\n",
       "  <th>No. Observations:</th>      <td>  4100</td>      <th>  AIC:               </th> <td>3.989e+04</td>\n",
       "</tr>\n",
       "<tr>\n",
       "  <th>Df Residuals:</th>          <td>  3966</td>      <th>  BIC:               </th> <td>4.074e+04</td>\n",
       "</tr>\n",
       "<tr>\n",
       "  <th>Df Model:</th>              <td>   133</td>      <th>                     </th>     <td> </td>    \n",
       "</tr>\n",
       "<tr>\n",
       "  <th>Covariance Type:</th>      <td>nonrobust</td>    <th>                     </th>     <td> </td>    \n",
       "</tr>\n",
       "</table>"
      ],
      "text/plain": [
       "<class 'statsmodels.iolib.table.SimpleTable'>"
      ]
     },
     "execution_count": 71,
     "metadata": {},
     "output_type": "execute_result"
    }
   ],
   "source": [
    "\n",
    "X = df_y.drop(labels=\"50_target\",axis=1)\n",
    "y = df_y[\"50_target\"]\n",
    "\n",
    "X_train, X_test, y_train, y_test = train_test_split(X,y, test_size = .2, random_state = 42)\n",
    "\n",
    "lm = sm.OLS(y_train,X_train)\n",
    "model = lm.fit()\n",
    "model.summary().tables[0]\n",
    "\n"
   ]
  },
  {
   "cell_type": "markdown",
   "metadata": {},
   "source": [
    "* R Karenin yukseldigini goruyoruz bir de kac adet degiskenimiz anlamli onlari gorelim "
   ]
  },
  {
   "cell_type": "code",
   "execution_count": 72,
   "metadata": {},
   "outputs": [
    {
     "name": "stdout",
     "output_type": "stream",
     "text": [
      "Istatistiksel olarak anlamli kat sayilar: ['ind_8', 'ind_9', 'ind_10', 'ind_18', 'ind_31', 'ind_32', 'ind_33', 'ind_34', 'ind_37', 'ind_47', 'ind_50', 'ind_51', 'ind_77', 'ind_82', 'ind_102', 'ind_128', 'ind_130', 'ind_150', 'ind_153', 'ind_156', 'ind_217', 'ind_237', 'ind_241', 'ind_243', 'ind_315', 'ind_321', 'ind_324', 'ind_330', 'ind_332', 'ind_334', 'ind_338', 'ind_340', 'ind_392', 'ind_397', 'ind_412', 'ind_416', 'ind_420', 'ind_428', 'ind_109_GREEN', 'ind_109_RED']\n"
     ]
    }
   ],
   "source": [
    "bos = []\n",
    "a = zip(model.tvalues.index,model.tvalues.values) \n",
    "for i,j in a:\n",
    "    if (j > 1.96):\n",
    "        bos.append(i)\n",
    "        \n",
    "    elif (abs(j) > 1.96):\n",
    "        bos.append(i)\n",
    "        \n",
    "print(\"Istatistiksel olarak anlamli kat sayilar: \" + str(bos))"
   ]
  },
  {
   "cell_type": "markdown",
   "metadata": {},
   "source": [
    "* Target Degisimi yapildigi zaman istatistiksel olarak anlamli kat sayilarin sayisi 46. Ilk modelimiz de OUTLIER temizligi yapmadan once 45 idi"
   ]
  },
  {
   "cell_type": "markdown",
   "metadata": {},
   "source": [
    "* Corss Valide islemlerini yaparak test hatasi sonuclarina bakalim"
   ]
  },
  {
   "cell_type": "code",
   "execution_count": 73,
   "metadata": {},
   "outputs": [
    {
     "name": "stdout",
     "output_type": "stream",
     "text": [
      "921.5581308699706 26.98115808267331 30.35717593699998\n"
     ]
    }
   ],
   "source": [
    "import numpy as np\n",
    "from sklearn.metrics import mean_absolute_error, mean_squared_error\n",
    "from sklearn.linear_model import LinearRegression\n",
    "\n",
    "lm = LinearRegression()\n",
    "model = lm.fit(X_train,y_train)\n",
    "\n",
    "\n",
    "mse = mean_squared_error(y_train,model.predict(X_train))\n",
    "mae = mean_absolute_error(y_train,model.predict(X_train))\n",
    "rmse = np.sqrt(mean_squared_error(y_train,model.predict(X_train)))\n",
    "\n",
    "print(mse,mae,rmse) \n",
    "\n"
   ]
  },
  {
   "cell_type": "code",
   "execution_count": 74,
   "metadata": {},
   "outputs": [
    {
     "name": "stdout",
     "output_type": "stream",
     "text": [
      "31.455625239113687\n",
      "27.88067775614502\n"
     ]
    }
   ],
   "source": [
    "val_rmse =np.sqrt(-cross_val_score(model, X_train, y_train, cv = 10, scoring=\"neg_mean_squared_error\")).mean()\n",
    "val_mae = -cross_val_score(model, X_train, y_train, cv = 10, scoring=\"neg_mean_absolute_error\").mean()\n",
    "\n",
    "print(val_rmse)\n",
    "print(val_mae)\n"
   ]
  },
  {
   "cell_type": "code",
   "execution_count": 75,
   "metadata": {},
   "outputs": [
    {
     "name": "stdout",
     "output_type": "stream",
     "text": [
      "68.90633660945534\n",
      "33.307497115961056\n"
     ]
    }
   ],
   "source": [
    "val_rmse =np.sqrt(-cross_val_score(model, X_test, y_test, cv = 10, scoring=\"neg_mean_squared_error\")).mean()\n",
    "val_mae = -cross_val_score(model, X_test, y_test, cv = 10, scoring=\"neg_mean_absolute_error\").mean()\n",
    "\n",
    "print(val_rmse)\n",
    "print(val_mae)"
   ]
  },
  {
   "cell_type": "code",
   "execution_count": null,
   "metadata": {},
   "outputs": [],
   "source": []
  },
  {
   "cell_type": "code",
   "execution_count": null,
   "metadata": {},
   "outputs": [],
   "source": []
  },
  {
   "cell_type": "markdown",
   "metadata": {},
   "source": [
    "#### Hata sonuclarina baktigimiz da bir onceki bagimli degisken 90_targe a gore elde edilen hatalar ve R Kare degeri daha iyi oldugunu goruyoruz. \n",
    "\n",
    "#### Lakin Diger bagimli degiskende oldugu gibi burada da modele TEST verilerini gosterdigimiz de aldigimiz sonuc yuksek bu durumda overfitt durumu akla geliyor.\n",
    "\n",
    "#### Onceki bagimli degiskende OUTLIER temizligi yaptigimiz zaman TEST verisinde daha iyi sonuclar vermisti bu degiskenimize de ayni islemleri uygulayip sonuclari gorelim"
   ]
  },
  {
   "cell_type": "code",
   "execution_count": 76,
   "metadata": {},
   "outputs": [
    {
     "data": {
      "text/plain": [
       "{'ind_5': (-54.5, 53.5),\n",
       " 'ind_6': (-54.5, 53.5),\n",
       " 'ind_8': (-92.85714284, 192.85714284),\n",
       " 'ind_9': (-92.85714284, 192.85714284),\n",
       " 'ind_10': (-210.71428570999998, 217.85714284999997),\n",
       " 'ind_12': (14.621321417500003, 84.6980565375),\n",
       " 'ind_13': (-155.480962125, 137.806396235),\n",
       " 'ind_14': (-5.5187500000000025, 26.83125),\n",
       " 'ind_15': (-4.800000000000002, 26.560000000000002),\n",
       " 'ind_16': (-3.54, 25.58),\n",
       " 'ind_17': (-2.092499996875002, 24.314166662125004),\n",
       " 'ind_18': (4.97625, 17.80625),\n",
       " 'ind_19': (-20.0, 20.0),\n",
       " 'ind_20': (-46.5, 45.5),\n",
       " 'ind_21': (-26.5, 25.5),\n",
       " 'ind_22': (-73.0, 31.0),\n",
       " 'ind_23': (-28.5, 71.5),\n",
       " 'ind_25': (-0.0009346386250000003, 0.004858152375000001),\n",
       " 'ind_26': (-0.005135520375000001, 0.0010582146250000006),\n",
       " 'ind_27': (-0.001235, 0.001189),\n",
       " 'ind_28': (-266.66666668, 266.66666668),\n",
       " 'ind_29': (-335.547553925, 336.933950495),\n",
       " 'ind_30': (-332.8885738125, 334.9984609075),\n",
       " 'ind_31': (-337.32648665500005, 340.503803565),\n",
       " 'ind_32': (-343.7920747325, 346.3209982675),\n",
       " 'ind_33': (-344.641976145, 346.513745335),\n",
       " 'ind_34': (-346.32715459125, 346.19299703875004),\n",
       " 'ind_35': (-354.5891711, 354.44025032),\n",
       " 'ind_36': (-382.01300777375, 375.73899767625005),\n",
       " 'ind_37': (-384.1412716275, 354.5495909125),\n",
       " 'ind_39': (-97.209188085, 97.662280995),\n",
       " 'ind_40': (1.5, 5.5),\n",
       " 'ind_41': (-59.81138203625, 57.834521333750004),\n",
       " 'ind_42': (-12.0, 12.0),\n",
       " 'ind_43': (-19.375, 19.625),\n",
       " 'ind_44': (-24.0, 24.0),\n",
       " 'ind_45': (-32.0, 32.0),\n",
       " 'ind_46': (-40.0, 40.0),\n",
       " 'ind_47': (-54.5, 53.5),\n",
       " 'ind_48': (-65.125, 65.875),\n",
       " 'ind_49': (-77.5, 78.5),\n",
       " 'ind_50': (-119.5, 124.5),\n",
       " 'ind_51': (-154.0, 166.0),\n",
       " 'ind_52': (-16.0, 16.0),\n",
       " 'ind_53': (-44.0, 44.0),\n",
       " 'ind_56': (-40.0, 40.0),\n",
       " 'ind_58': (-8.0, 8.0),\n",
       " 'ind_61': (-8.0, 8.0),\n",
       " 'ind_62': (-44.0, 44.0),\n",
       " 'ind_65': (-44.0, 44.0),\n",
       " 'ind_67': (-5.5, 6.5),\n",
       " 'ind_70': (-4.0, 4.0),\n",
       " 'ind_71': (-44.0, 44.0),\n",
       " 'ind_74': (-44.0, 44.0),\n",
       " 'ind_77': (-44.0, 44.0),\n",
       " 'ind_82': (-1.5, 2.5),\n",
       " 'ind_83': (-44.0, 44.0),\n",
       " 'ind_88': (-0.0001645625, 9.873750000000001e-05),\n",
       " 'ind_92': (-13.468076416749998, 13.28532130525),\n",
       " 'ind_102': (-60.10063098375001, 59.34101916625001),\n",
       " 'ind_116': (-36.0, 36.0),\n",
       " 'ind_118': (-0.004884544375, 0.0047546226250000006),\n",
       " 'ind_122': (-8.0, 8.0),\n",
       " 'ind_124': (-25.5, 26.5),\n",
       " 'ind_128': (-70.625, 72.375),\n",
       " 'ind_130': (-122.5, 129.5),\n",
       " 'ind_132': (-184.0, 208.0),\n",
       " 'ind_134': (-12.0, 12.0),\n",
       " 'ind_136': (-16.0, 16.0),\n",
       " 'ind_139': (7.378101843750009, 92.80565817374999),\n",
       " 'ind_142': (15.708505641250003, 83.16731929125),\n",
       " 'ind_145': (-0.541391368125, 0.5410616428749999),\n",
       " 'ind_147': (-6.087330926249976, 106.47187684374997),\n",
       " 'ind_150': (18.956401741250005, 80.08442217125),\n",
       " 'ind_153': (28.696991675000007, 69.597001075),\n",
       " 'ind_156': (38.62460871875, 59.14669302874999),\n",
       " 'ind_164': (-23.23622807025, 23.51499999975),\n",
       " 'ind_168': (-32.197777210874996, 31.736563252125),\n",
       " 'ind_172': (-46.364633833750005, 46.22860981625001),\n",
       " 'ind_176': (-54.52859177124999, 54.87076997875),\n",
       " 'ind_179': (-11.23, 11.01),\n",
       " 'ind_181': (-11.39625, 11.39375),\n",
       " 'ind_188': (-52.27253520250001, 153.2410021975),\n",
       " 'ind_194': (-53.16676577374999, 155.35562751624997),\n",
       " 'ind_212': (-83.36939116874998, 186.47821544124997),\n",
       " 'ind_217': (-3.0, 5.0),\n",
       " 'ind_225': (-0.0020802262500000004, 0.00742415175),\n",
       " 'ind_228': (1.188365343125, 1.2769804701249998),\n",
       " 'ind_234': (-8.550000000000003e-06, 3.0410000000000002e-05),\n",
       " 'ind_237': (-35.61472448499999, 155.926321755),\n",
       " 'ind_239': (-4.934999999999999e-05, 0.00011985),\n",
       " 'ind_241': (97.85900923750003, 103.75260673749997),\n",
       " 'ind_243': (1.091196010875, 1.3254161818749997),\n",
       " 'ind_309': (-5.3845e-05, 2.1474999999999997e-05),\n",
       " 'ind_310': (-1.595909775375, 0.838692601625),\n",
       " 'ind_311': (96.02270015375, 102.09053206374999),\n",
       " 'ind_313': (1.0799123983749996, 1.3078027453750003),\n",
       " 'ind_315': (-3.065871152375, 1.8278396906249998),\n",
       " 'ind_316': (93.79849299000001, 103.36385016999999),\n",
       " 'ind_318': (1.048400488875, 1.3312158518750001),\n",
       " 'ind_321': (-149.85699611625, 249.76166019375),\n",
       " 'ind_324': (-0.00024825, 0.00014895000000000002),\n",
       " 'ind_327': (-75.0, 125.0),\n",
       " 'ind_330': (0.0, 0.0),\n",
       " 'ind_332': (0.0, 0.0),\n",
       " 'ind_334': (0.0, 0.0),\n",
       " 'ind_338': (0.0, 0.0),\n",
       " 'ind_340': (0.0, 0.0),\n",
       " 'ind_344': (0.0, 0.0),\n",
       " 'ind_345': (0.0, 0.0),\n",
       " 'ind_347': (0.0, 0.0),\n",
       " 'ind_349': (0.0, 0.0),\n",
       " 'ind_351': (0.0, 0.0),\n",
       " 'ind_352': (0.0, 0.0),\n",
       " 'ind_387': (-153.05677876625003, 55.192845883750024),\n",
       " 'ind_392': (-44.574447277500006, 45.13773844250001),\n",
       " 'ind_397': (-10.509591731250001, 10.46575503875),\n",
       " 'ind_399': (-0.004210437499999999, 0.0041960205),\n",
       " 'ind_403': (-0.03081862625, 0.03032737975),\n",
       " 'ind_404': (-0.03002410675, 0.03051044125),\n",
       " 'ind_406': (-68.0, 68.0),\n",
       " 'ind_407': (-16.0, 16.0),\n",
       " 'ind_410': (-28.0, 28.0),\n",
       " 'ind_412': (-0.013023782250000001, 0.013619549750000001),\n",
       " 'ind_414': (-30.762500000000006, 78.73750000000001),\n",
       " 'ind_416': (-31.437499999999996, 18.862499999999997),\n",
       " 'ind_418': (-78.5, 29.5),\n",
       " 'ind_420': (-249.0, 335.0),\n",
       " 'ind_422': (-478.875, 180.125),\n",
       " 'ind_424': (-1.5, 2.5),\n",
       " 'ind_426': (-0.2245424846250002, 1.2189760923750002),\n",
       " 'ind_428': (0.0330255299999998, 0.9408163120000003),\n",
       " '50_target': (-143.3011574825, 142.5791179975)}"
      ]
     },
     "execution_count": 76,
     "metadata": {},
     "output_type": "execute_result"
    }
   ],
   "source": [
    "lower_and_upper = {}\n",
    "\n",
    "\n",
    "\n",
    "data_num = list(df_y.select_dtypes(include=[\"int32\",\"float64\"]))\n",
    "\n",
    "for col in data_num:\n",
    "    q1 = df_y[col].quantile(0.25)\n",
    "    q3 = df_y[col].quantile(0.75)\n",
    "    iqr = q3 - q1\n",
    "\n",
    "    lower_bound = q1-iqr*1.5\n",
    "    upper_bound = q3+iqr*1.5\n",
    "\n",
    "    lower_and_upper[col] = (lower_bound, upper_bound)\n",
    "\n",
    "    df_y.loc[(df_y.loc[:,col]<lower_bound),col]=lower_bound\n",
    "    df_y.loc[(df_y.loc[:,col]>upper_bound),col]=upper_bound\n",
    "\n",
    "\n",
    "lower_and_upper"
   ]
  },
  {
   "cell_type": "code",
   "execution_count": 77,
   "metadata": {},
   "outputs": [
    {
     "data": {
      "text/html": [
       "<table class=\"simpletable\">\n",
       "<caption>OLS Regression Results</caption>\n",
       "<tr>\n",
       "  <th>Dep. Variable:</th>        <td>50_target</td>    <th>  R-squared:         </th> <td>   0.207</td> \n",
       "</tr>\n",
       "<tr>\n",
       "  <th>Model:</th>                   <td>OLS</td>       <th>  Adj. R-squared:    </th> <td>   0.182</td> \n",
       "</tr>\n",
       "<tr>\n",
       "  <th>Method:</th>             <td>Least Squares</td>  <th>  F-statistic:       </th> <td>   8.491</td> \n",
       "</tr>\n",
       "<tr>\n",
       "  <th>Date:</th>             <td>Sat, 22 Aug 2020</td> <th>  Prob (F-statistic):</th> <td>2.83e-125</td>\n",
       "</tr>\n",
       "<tr>\n",
       "  <th>Time:</th>                 <td>17:53:22</td>     <th>  Log-Likelihood:    </th> <td> -19826.</td> \n",
       "</tr>\n",
       "<tr>\n",
       "  <th>No. Observations:</th>      <td>  4100</td>      <th>  AIC:               </th> <td>3.990e+04</td>\n",
       "</tr>\n",
       "<tr>\n",
       "  <th>Df Residuals:</th>          <td>  3977</td>      <th>  BIC:               </th> <td>4.068e+04</td>\n",
       "</tr>\n",
       "<tr>\n",
       "  <th>Df Model:</th>              <td>   122</td>      <th>                     </th>     <td> </td>    \n",
       "</tr>\n",
       "<tr>\n",
       "  <th>Covariance Type:</th>      <td>nonrobust</td>    <th>                     </th>     <td> </td>    \n",
       "</tr>\n",
       "</table>"
      ],
      "text/plain": [
       "<class 'statsmodels.iolib.table.SimpleTable'>"
      ]
     },
     "execution_count": 77,
     "metadata": {},
     "output_type": "execute_result"
    }
   ],
   "source": [
    "\n",
    "X = df_y.drop(labels=\"50_target\",axis=1)\n",
    "y = df_y[\"50_target\"]\n",
    "\n",
    "X_train, X_test, y_train, y_test = train_test_split(X,y, test_size = .2, random_state = 42)\n",
    "\n",
    "lm = sm.OLS(y_train,X_train)\n",
    "model = lm.fit()\n",
    "model.summary().tables[0]\n",
    "\n"
   ]
  },
  {
   "cell_type": "markdown",
   "metadata": {},
   "source": [
    "* R Karede OUTLIER temizligi sonrasi daha yuksek bir sonuc aliyoruz"
   ]
  },
  {
   "cell_type": "code",
   "execution_count": 78,
   "metadata": {},
   "outputs": [
    {
     "name": "stdout",
     "output_type": "stream",
     "text": [
      "Istatistiksel olarak anlamli kat sayilar: ['ind_8', 'ind_9', 'ind_10', 'ind_18', 'ind_22', 'ind_23', 'ind_30', 'ind_33', 'ind_34', 'ind_37', 'ind_47', 'ind_50', 'ind_51', 'ind_74', 'ind_77', 'ind_82', 'ind_102', 'ind_128', 'ind_130', 'ind_150', 'ind_153', 'ind_156', 'ind_181', 'ind_217', 'ind_225', 'ind_237', 'ind_239', 'ind_243', 'ind_309', 'ind_311', 'ind_313', 'ind_315', 'ind_321', 'ind_324', 'ind_330', 'ind_332', 'ind_334', 'ind_338', 'ind_340', 'ind_344', 'ind_345', 'ind_347', 'ind_349', 'ind_351', 'ind_352', 'ind_392', 'ind_407', 'ind_410', 'ind_412', 'ind_416', 'ind_420', 'ind_428', 'ind_109_GREEN', 'ind_109_RED']\n"
     ]
    }
   ],
   "source": [
    "bos = []\n",
    "a = zip(model.tvalues.index,model.tvalues.values) \n",
    "for i,j in a:\n",
    "    if (j > 1.96):\n",
    "        bos.append(i)\n",
    "        \n",
    "    elif (abs(j) > 1.96):\n",
    "        bos.append(i)\n",
    "        \n",
    "print(\"Istatistiksel olarak anlamli kat sayilar: \" + str(bos))"
   ]
  },
  {
   "cell_type": "markdown",
   "metadata": {},
   "source": [
    "* OUTLIER temizligi yaptiktan sonra istatistiksel olarak anlamli kat sayilarin sayisi da 46 dan 56 ya cikti"
   ]
  },
  {
   "cell_type": "code",
   "execution_count": null,
   "metadata": {},
   "outputs": [],
   "source": []
  },
  {
   "cell_type": "code",
   "execution_count": 79,
   "metadata": {},
   "outputs": [
    {
     "name": "stdout",
     "output_type": "stream",
     "text": [
      "928.284836013173 27.074751310270905 30.467767164877262\n"
     ]
    }
   ],
   "source": [
    "import numpy as np\n",
    "from sklearn.metrics import mean_absolute_error, mean_squared_error\n",
    "from sklearn.linear_model import LinearRegression\n",
    "\n",
    "lm = LinearRegression()\n",
    "model = lm.fit(X_train,y_train)\n",
    "\n",
    "\n",
    "mse = mean_squared_error(y_train,model.predict(X_train))\n",
    "mae = mean_absolute_error(y_train,model.predict(X_train))\n",
    "rmse = np.sqrt(mean_squared_error(y_train,model.predict(X_train)))\n",
    "\n",
    "print(mse,mae,rmse) \n",
    "\n"
   ]
  },
  {
   "cell_type": "markdown",
   "metadata": {},
   "source": [
    "* Hata sonuclarin da ufakta olsa bir dusus yasidigini goruyoruz"
   ]
  },
  {
   "cell_type": "code",
   "execution_count": 80,
   "metadata": {},
   "outputs": [
    {
     "name": "stdout",
     "output_type": "stream",
     "text": [
      "31.448432256372513\n",
      "27.927832654533244\n"
     ]
    }
   ],
   "source": [
    "val_rmse =np.sqrt(-cross_val_score(model, X_train, y_train, cv = 10, scoring=\"neg_mean_squared_error\")).mean()\n",
    "val_mae = -cross_val_score(model, X_train, y_train, cv = 10, scoring=\"neg_mean_absolute_error\").mean()\n",
    "\n",
    "print(val_rmse)\n",
    "print(val_mae)\n",
    "\n"
   ]
  },
  {
   "cell_type": "code",
   "execution_count": 81,
   "metadata": {},
   "outputs": [
    {
     "name": "stdout",
     "output_type": "stream",
     "text": [
      "33.74488917610849\n",
      "29.094449088343318\n"
     ]
    }
   ],
   "source": [
    "\n",
    "val_rmse =np.sqrt(-cross_val_score(model, X_test, y_test, cv = 10, scoring=\"neg_mean_squared_error\")).mean()\n",
    "val_mae = -cross_val_score(model, X_test, y_test, cv = 10, scoring=\"neg_mean_absolute_error\").mean()\n",
    "\n",
    "print(val_rmse)\n",
    "print(val_mae)"
   ]
  },
  {
   "cell_type": "code",
   "execution_count": null,
   "metadata": {},
   "outputs": [],
   "source": []
  },
  {
   "cell_type": "markdown",
   "metadata": {},
   "source": [
    "* Test sonuclarinda sunu fark ediyoruz OUTLIER Yaptik ve TEST setinin sonuclari EGITIM seti ile yakin bulundu. Egitim seti Test setinin kotu bir tahmincisidir. Ama biz yine de yakin sonuclar bekleriz. Outlier sonrasi bunu elde etmis olduk."
   ]
  },
  {
   "cell_type": "code",
   "execution_count": null,
   "metadata": {},
   "outputs": [],
   "source": []
  },
  {
   "cell_type": "code",
   "execution_count": null,
   "metadata": {},
   "outputs": [],
   "source": []
  },
  {
   "cell_type": "code",
   "execution_count": null,
   "metadata": {},
   "outputs": [],
   "source": []
  },
  {
   "cell_type": "code",
   "execution_count": null,
   "metadata": {},
   "outputs": [],
   "source": []
  },
  {
   "cell_type": "code",
   "execution_count": null,
   "metadata": {},
   "outputs": [],
   "source": []
  }
 ],
 "metadata": {
  "kernelspec": {
   "display_name": "Python 3",
   "language": "python",
   "name": "python3"
  },
  "language_info": {
   "codemirror_mode": {
    "name": "ipython",
    "version": 3
   },
   "file_extension": ".py",
   "mimetype": "text/x-python",
   "name": "python",
   "nbconvert_exporter": "python",
   "pygments_lexer": "ipython3",
   "version": "3.7.6"
  }
 },
 "nbformat": 4,
 "nbformat_minor": 4
}
