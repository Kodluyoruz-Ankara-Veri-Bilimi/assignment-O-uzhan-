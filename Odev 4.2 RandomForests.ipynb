{
 "cells": [
  {
   "cell_type": "code",
   "execution_count": null,
   "metadata": {
    "colab": {
     "base_uri": "https://localhost:8080/",
     "height": 118
    },
    "colab_type": "code",
    "id": "-lPr1YfxR498",
    "outputId": "68a17fa1-8d80-40e9-c482-d2bf6e38b8c2"
   },
   "outputs": [
    {
     "name": "stdout",
     "output_type": "stream",
     "text": [
      "Go to this URL in a browser: https://accounts.google.com/o/oauth2/auth?client_id=947318989803-6bn6qk8qdgf4n4g3pfee6491hc0brc4i.apps.googleusercontent.com&redirect_uri=urn%3aietf%3awg%3aoauth%3a2.0%3aoob&scope=email%20https%3a%2f%2fwww.googleapis.com%2fauth%2fdocs.test%20https%3a%2f%2fwww.googleapis.com%2fauth%2fdrive%20https%3a%2f%2fwww.googleapis.com%2fauth%2fdrive.photos.readonly%20https%3a%2f%2fwww.googleapis.com%2fauth%2fpeopleapi.readonly&response_type=code\n",
      "\n",
      "Enter your authorization code:\n",
      "··········\n",
      "Mounted at /content/drive\n"
     ]
    }
   ],
   "source": [
    "from google.colab import drive\n",
    "drive.mount(\"/content/drive\")"
   ]
  },
  {
   "cell_type": "code",
   "execution_count": null,
   "metadata": {
    "colab": {
     "base_uri": "https://localhost:8080/",
     "height": 131
    },
    "colab_type": "code",
    "id": "-rBMHZ8_SEKo",
    "outputId": "d2486622-94b3-434a-eb89-aeacd64655ff"
   },
   "outputs": [
    {
     "name": "stdout",
     "output_type": "stream",
     "text": [
      "'Adsız klasör'\t    protein_ortak.ipynb\n",
      " Classes1.py\t    SydneyHousePrices.csv\n",
      "'Colab Notebooks'   VerilerinIncelenmesi-Oğuzhan.ipynb\n",
      " diabetes.csv\t    Wine.ipynb\n",
      " Hitters.csv\t    winemag-data_first150k.csv\n",
      " hmelq.csv\t   \"Wine's Data - PreProcessing.ipynb\"\n",
      " HW_Data_Set.xlsx\n"
     ]
    }
   ],
   "source": [
    "!ls \"/content/drive/My Drive\""
   ]
  },
  {
   "cell_type": "code",
   "execution_count": null,
   "metadata": {
    "colab": {},
    "colab_type": "code",
    "id": "zVJMRttzeQsc"
   },
   "outputs": [],
   "source": []
  },
  {
   "cell_type": "code",
   "execution_count": null,
   "metadata": {
    "colab": {},
    "colab_type": "code",
    "id": "-YvYdvOdSEIi"
   },
   "outputs": [],
   "source": [
    "import pandas as pd \n",
    "import seaborn as sns\n",
    "import missingno as msno\n",
    "import pandas as pd\n",
    "import numpy as np\n",
    "import statsmodels.api as sm\n",
    "import seaborn as sns\n",
    "from scipy.stats import shapiro\n",
    "from sklearn.preprocessing import scale\n",
    "from sklearn.decomposition import PCA\n",
    "from sklearn.linear_model import LinearRegression\n",
    "from sklearn.model_selection import train_test_split, cross_val_score,GridSearchCV\n",
    "from sklearn.metrics import confusion_matrix, accuracy_score, classification_report\n",
    "from sklearn.metrics import roc_curve, roc_auc_score\n",
    "from sklearn.linear_model import LogisticRegression\n",
    "from sklearn.metrics import mean_squared_error, r2_score\n",
    "from sklearn.preprocessing import LabelEncoder\n",
    "from sklearn.ensemble import RandomForestRegressor, RandomForestClassifier\n",
    "from matplotlib import pyplot as plt\n",
    "from sklearn import model_selection\n",
    "from warnings import filterwarnings\n",
    "from sklearn.neural_network import MLPRegressor,MLPClassifier\n",
    "from sklearn.preprocessing import StandardScaler\n",
    "from sklearn.neural_network import MLPRegressor\n",
    "from sklearn.tree import DecisionTreeRegressor, DecisionTreeClassifier\n",
    "from sklearn.metrics import confusion_matrix, accuracy_score, classification_report\n",
    "\n",
    "\n",
    "filterwarnings(\"ignore\")\n"
   ]
  },
  {
   "cell_type": "code",
   "execution_count": null,
   "metadata": {
    "colab": {},
    "colab_type": "code",
    "id": "Vz0sCuTpSEG2"
   },
   "outputs": [],
   "source": []
  },
  {
   "cell_type": "code",
   "execution_count": null,
   "metadata": {
    "colab": {
     "base_uri": "https://localhost:8080/",
     "height": 105
    },
    "colab_type": "code",
    "id": "xaUT2YT7borj",
    "outputId": "c70caa94-5628-4e75-c9ce-388286f1f1d0"
   },
   "outputs": [
    {
     "data": {
      "text/html": [
       "<div>\n",
       "<style scoped>\n",
       "    .dataframe tbody tr th:only-of-type {\n",
       "        vertical-align: middle;\n",
       "    }\n",
       "\n",
       "    .dataframe tbody tr th {\n",
       "        vertical-align: top;\n",
       "    }\n",
       "\n",
       "    .dataframe thead th {\n",
       "        text-align: right;\n",
       "    }\n",
       "</style>\n",
       "<table border=\"1\" class=\"dataframe\">\n",
       "  <thead>\n",
       "    <tr style=\"text-align: right;\">\n",
       "      <th></th>\n",
       "      <th>bad</th>\n",
       "      <th>loan</th>\n",
       "      <th>mortdue</th>\n",
       "      <th>value</th>\n",
       "      <th>reason</th>\n",
       "      <th>job</th>\n",
       "      <th>yoj</th>\n",
       "      <th>derog</th>\n",
       "      <th>delinq</th>\n",
       "      <th>clage</th>\n",
       "      <th>ninq</th>\n",
       "      <th>clno</th>\n",
       "      <th>debtinc</th>\n",
       "    </tr>\n",
       "  </thead>\n",
       "  <tbody>\n",
       "    <tr>\n",
       "      <th>0</th>\n",
       "      <td>0</td>\n",
       "      <td>81200</td>\n",
       "      <td>18834.0</td>\n",
       "      <td>108355.0</td>\n",
       "      <td>HomeImp</td>\n",
       "      <td>NaN</td>\n",
       "      <td>28.0</td>\n",
       "      <td>0.0</td>\n",
       "      <td>0.0</td>\n",
       "      <td>139.14</td>\n",
       "      <td>0.0</td>\n",
       "      <td>14.0</td>\n",
       "      <td>34.042</td>\n",
       "    </tr>\n",
       "    <tr>\n",
       "      <th>1</th>\n",
       "      <td>0</td>\n",
       "      <td>12600</td>\n",
       "      <td>103960.0</td>\n",
       "      <td>127384.0</td>\n",
       "      <td>DebtCon</td>\n",
       "      <td>NaN</td>\n",
       "      <td>2.0</td>\n",
       "      <td>0.0</td>\n",
       "      <td>0.0</td>\n",
       "      <td>129.02</td>\n",
       "      <td>0.0</td>\n",
       "      <td>25.0</td>\n",
       "      <td>34.479</td>\n",
       "    </tr>\n",
       "  </tbody>\n",
       "</table>\n",
       "</div>"
      ],
      "text/plain": [
       "   bad   loan   mortdue     value   reason  ... delinq   clage  ninq  clno  debtinc\n",
       "0    0  81200   18834.0  108355.0  HomeImp  ...    0.0  139.14   0.0  14.0   34.042\n",
       "1    0  12600  103960.0  127384.0  DebtCon  ...    0.0  129.02   0.0  25.0   34.479\n",
       "\n",
       "[2 rows x 13 columns]"
      ]
     },
     "execution_count": 4,
     "metadata": {
      "tags": []
     },
     "output_type": "execute_result"
    }
   ],
   "source": [
    "df = pd.read_csv(\"/content/drive/My Drive/hmelq.csv\")\n",
    "df.head(2)"
   ]
  },
  {
   "cell_type": "code",
   "execution_count": null,
   "metadata": {
    "colab": {},
    "colab_type": "code",
    "id": "_btsCjxQ9sqh"
   },
   "outputs": [],
   "source": [
    "from sklearn.preprocessing import LabelEncoder\n",
    "\n",
    "df.dropna(inplace=True)\n",
    "df1 = df.copy()\n",
    "\n",
    "lbe = LabelEncoder()\n",
    "\n",
    "df1[\"reason\"] = lbe.fit_transform(df1[\"reason\"])\n",
    "df1  = pd.get_dummies(df1,columns= [\"job\"], prefix= [\"job\"])\n",
    "\n",
    "y = df1[\"bad\"]\n",
    "X = df1.drop([\"bad\"],axis=1)\n",
    "\n",
    "X_train,X_test,y_train,y_test = train_test_split(X,y,\n",
    "                                                 random_state = 42,\n",
    "                                                 test_size = 0.25)\n",
    "\n",
    "\n",
    "\n",
    "\n",
    "Results = cl.Methods()"
   ]
  },
  {
   "cell_type": "code",
   "execution_count": null,
   "metadata": {
    "colab": {
     "base_uri": "https://localhost:8080/",
     "height": 573
    },
    "colab_type": "code",
    "id": "MhSs26ku9snG",
    "outputId": "cf2afa35-4d86-4dba-ab9e-ea4f2ee8ebff"
   },
   "outputs": [
    {
     "name": "stdout",
     "output_type": "stream",
     "text": [
      "Fitting 10 folds for each of 108 candidates, totalling 1080 fits\n"
     ]
    },
    {
     "name": "stderr",
     "output_type": "stream",
     "text": [
      "[Parallel(n_jobs=-1)]: Using backend LokyBackend with 2 concurrent workers.\n",
      "[Parallel(n_jobs=-1)]: Done  37 tasks      | elapsed:   24.7s\n",
      "[Parallel(n_jobs=-1)]: Done 158 tasks      | elapsed:  2.1min\n",
      "[Parallel(n_jobs=-1)]: Done 361 tasks      | elapsed:  5.2min\n",
      "[Parallel(n_jobs=-1)]: Done 644 tasks      | elapsed: 10.0min\n",
      "[Parallel(n_jobs=-1)]: Done 1009 tasks      | elapsed: 17.3min\n",
      "[Parallel(n_jobs=-1)]: Done 1080 out of 1080 | elapsed: 19.5min finished\n"
     ]
    },
    {
     "name": "stdout",
     "output_type": "stream",
     "text": [
      "En iyi parametre degerleri:  {'max_depth': 10, 'max_features': 5, 'min_samples_split': 2, 'n_estimators': 10}\n",
      "                                               \n",
      "Tune oncesi Accuracy ve Confusion Matrix degerleri:  0.9584158415841584 \n",
      " [[466   0]\n",
      " [ 21  18]]\n",
      "Tune sonrasi Accuracy ve Confusion Matrix degerleri:  0.9564356435643564 \n",
      " [[466   0]\n",
      " [ 22  17]]\n",
      "                                                \n",
      "(<matplotlib.axes._subplots.AxesSubplot object at 0x7f60280e5c50>, Text(0.5, 0, 'Değişken Önem Düzeyleri'))\n"
     ]
    },
    {
     "data": {
      "image/png": "[encoded data removed]",
      "text/plain": [
       "<Figure size 432x288 with 1 Axes>"
      ]
     },
     "metadata": {
      "needs_background": "light",
      "tags": []
     },
     "output_type": "display_data"
    }
   ],
   "source": [
    "Results.RandomForestsClass(X_train, y_train, X_test, y_test)"
   ]
  },
  {
   "cell_type": "code",
   "execution_count": null,
   "metadata": {
    "colab": {},
    "colab_type": "code",
    "id": "nVvEXRFH9sko"
   },
   "outputs": [],
   "source": [
    "# Simdi random forest yapisi kategorik olanlar icin daha iyi sonuc verebilmekte.\n",
    "# Bazi degiskenleri donusturelim belli aralikta olceklendirip sonucta bir degisme var mi gozlemleyelim\n"
   ]
  },
  {
   "cell_type": "code",
   "execution_count": null,
   "metadata": {
    "colab": {
     "base_uri": "https://localhost:8080/",
     "height": 245
    },
    "colab_type": "code",
    "id": "v_ELRx2C9sin",
    "outputId": "835f83eb-3c67-4641-ed3f-a74d91575835"
   },
   "outputs": [
    {
     "data": {
      "text/plain": [
       "0.0     1014\n",
       "1.0      480\n",
       "2.0      278\n",
       "3.0      140\n",
       "4.0       40\n",
       "5.0       15\n",
       "6.0       14\n",
       "7.0       11\n",
       "10.0      10\n",
       "8.0        8\n",
       "9.0        6\n",
       "13.0       1\n",
       "11.0       1\n",
       "Name: ninq, dtype: int64"
      ]
     },
     "execution_count": 6,
     "metadata": {
      "tags": []
     },
     "output_type": "execute_result"
    }
   ],
   "source": [
    "df[\"ninq\"].value_counts()"
   ]
  },
  {
   "cell_type": "code",
   "execution_count": null,
   "metadata": {
    "colab": {},
    "colab_type": "code",
    "id": "wjo598tc9sgW"
   },
   "outputs": [],
   "source": [
    "A = df[df[\"ninq\"] == 0].index\n",
    "df.loc[A,\"ninq\"]= \"A\"\n",
    "\n",
    "B = df[(df[\"ninq\"] == 1) | (df[\"ninq\"] == 2) | (df[\"ninq\"] == 3)].index\n",
    "df.loc[B,\"ninq\"]= \"B\"\n",
    "\n",
    "C = df[(df[\"ninq\"] == 4) | (df[\"ninq\"] == 5) | (df[\"ninq\"] == 6) | (df[\"ninq\"] == 7) | (df[\"ninq\"] == 8) | (df[\"ninq\"] == 9) | (df[\"ninq\"] == 10)\n",
    "| (df[\"ninq\"] == 11) | (df[\"ninq\"] == 13)].index\n",
    "\n",
    "df.loc[C,\"ninq\"]= \"C\"\n",
    "\n",
    "\n",
    "# C sinifi kabalik oldu cunku SIKLIK derecesi dusuk olanlardan olusuyor"
   ]
  },
  {
   "cell_type": "code",
   "execution_count": null,
   "metadata": {
    "colab": {
     "base_uri": "https://localhost:8080/",
     "height": 82
    },
    "colab_type": "code",
    "id": "1yeHOOzi9seP",
    "outputId": "177d44a3-0e2b-465b-cbbe-c5825d9f2f27"
   },
   "outputs": [
    {
     "data": {
      "text/plain": [
       "A    1014\n",
       "B     898\n",
       "C     106\n",
       "Name: ninq, dtype: int64"
      ]
     },
     "execution_count": 8,
     "metadata": {
      "tags": []
     },
     "output_type": "execute_result"
    }
   ],
   "source": [
    "df[\"ninq\"].value_counts()"
   ]
  },
  {
   "cell_type": "code",
   "execution_count": null,
   "metadata": {
    "colab": {
     "base_uri": "https://localhost:8080/",
     "height": 180
    },
    "colab_type": "code",
    "id": "buqvb6c7F-10",
    "outputId": "39297b19-949b-41e8-cd3a-5449d5a26e23"
   },
   "outputs": [
    {
     "data": {
      "text/plain": [
       "0.0     1823\n",
       "1.0      128\n",
       "2.0       48\n",
       "3.0       12\n",
       "4.0        3\n",
       "6.0        1\n",
       "8.0        1\n",
       "10.0       1\n",
       "7.0        1\n",
       "Name: derog, dtype: int64"
      ]
     },
     "execution_count": 9,
     "metadata": {
      "tags": []
     },
     "output_type": "execute_result"
    }
   ],
   "source": [
    "# Ayni islemleri bir diger numeric degisken Olan DEROG icin olceklendirme islemi yaparak iceriye verelim\n",
    "df[\"derog\"].value_counts()"
   ]
  },
  {
   "cell_type": "code",
   "execution_count": null,
   "metadata": {
    "colab": {},
    "colab_type": "code",
    "id": "CAA7RMBk9scB"
   },
   "outputs": [],
   "source": [
    "\n",
    "\n",
    "As = df[df[\"derog\"] == 0].index\n",
    "df.loc[As,\"derog\"]= \"A\"\n",
    "\n",
    "es = df[(df[\"derog\"] == 1) | (df[\"derog\"] == 2) | (df[\"derog\"] == 3)].index\n",
    "df.loc[es,\"derog\"]= \"B\"\n",
    "\n",
    "se = df[(df[\"derog\"] == 4) | (df[\"derog\"] == 5) | (df[\"derog\"] == 6) | (df[\"derog\"] == 7) | (df[\"derog\"] == 8) | (df[\"derog\"] == 9) | (df[\"derog\"] == 10)].index\n",
    "df.loc[se,\"derog\"]= \"C\""
   ]
  },
  {
   "cell_type": "code",
   "execution_count": null,
   "metadata": {
    "colab": {
     "base_uri": "https://localhost:8080/",
     "height": 82
    },
    "colab_type": "code",
    "id": "xAiziRxC9sZb",
    "outputId": "41e8146f-18a4-45cd-d4a6-6358018f524a"
   },
   "outputs": [
    {
     "data": {
      "text/plain": [
       "A    1823\n",
       "B     188\n",
       "C       7\n",
       "Name: derog, dtype: int64"
      ]
     },
     "execution_count": 11,
     "metadata": {
      "tags": []
     },
     "output_type": "execute_result"
    }
   ],
   "source": [
    "df[\"derog\"].value_counts()"
   ]
  },
  {
   "cell_type": "code",
   "execution_count": null,
   "metadata": {
    "colab": {},
    "colab_type": "code",
    "id": "Z6VYf37zbopr"
   },
   "outputs": [],
   "source": [
    "# Simdi modeli tekrardan calistiriyorum\n",
    "\n",
    "df = pd.get_dummies(df,columns= [\"ninq\"], prefix= [\"ninq\"])\n",
    "df = pd.get_dummies(df,columns= [\"derog\"], prefix= [\"derog\"])\n"
   ]
  },
  {
   "cell_type": "code",
   "execution_count": null,
   "metadata": {
    "colab": {},
    "colab_type": "code",
    "id": "9dzPAd1ZGFZM"
   },
   "outputs": [],
   "source": [
    "df[\"reason\"] = lbe.fit_transform(df1[\"reason\"])\n",
    "df  = pd.get_dummies(df,columns= [\"job\"], prefix= [\"job\"])"
   ]
  },
  {
   "cell_type": "code",
   "execution_count": null,
   "metadata": {
    "colab": {},
    "colab_type": "code",
    "id": "3T6wiPq7xZOF"
   },
   "outputs": [],
   "source": [
    "y = df[\"bad\"]\n",
    "X = df.drop([\"bad\"],axis=1)\n",
    "\n",
    "X_train,X_test,y_train,y_test = train_test_split(X,y,\n",
    "                                                 random_state = 42,\n",
    "                                                 test_size = 0.25)\n"
   ]
  },
  {
   "cell_type": "code",
   "execution_count": null,
   "metadata": {
    "colab": {
     "base_uri": "https://localhost:8080/",
     "height": 105
    },
    "colab_type": "code",
    "id": "4x74o10BGFXW",
    "outputId": "b1111145-7e1a-4ed6-e30a-3122a06c1522"
   },
   "outputs": [
    {
     "data": {
      "text/html": [
       "<div>\n",
       "<style scoped>\n",
       "    .dataframe tbody tr th:only-of-type {\n",
       "        vertical-align: middle;\n",
       "    }\n",
       "\n",
       "    .dataframe tbody tr th {\n",
       "        vertical-align: top;\n",
       "    }\n",
       "\n",
       "    .dataframe thead th {\n",
       "        text-align: right;\n",
       "    }\n",
       "</style>\n",
       "<table border=\"1\" class=\"dataframe\">\n",
       "  <thead>\n",
       "    <tr style=\"text-align: right;\">\n",
       "      <th></th>\n",
       "      <th>loan</th>\n",
       "      <th>mortdue</th>\n",
       "      <th>value</th>\n",
       "      <th>reason</th>\n",
       "      <th>yoj</th>\n",
       "      <th>delinq</th>\n",
       "      <th>clage</th>\n",
       "      <th>clno</th>\n",
       "      <th>debtinc</th>\n",
       "      <th>ninq_A</th>\n",
       "      <th>ninq_B</th>\n",
       "      <th>ninq_C</th>\n",
       "      <th>derog_A</th>\n",
       "      <th>derog_B</th>\n",
       "      <th>derog_C</th>\n",
       "      <th>job_Mgr</th>\n",
       "      <th>job_Office</th>\n",
       "      <th>job_Other</th>\n",
       "      <th>job_ProfEx</th>\n",
       "      <th>job_Sales</th>\n",
       "      <th>job_Self</th>\n",
       "    </tr>\n",
       "  </thead>\n",
       "  <tbody>\n",
       "    <tr>\n",
       "      <th>3128</th>\n",
       "      <td>8000</td>\n",
       "      <td>32100.0</td>\n",
       "      <td>36739.0</td>\n",
       "      <td>1</td>\n",
       "      <td>4.0</td>\n",
       "      <td>0.0</td>\n",
       "      <td>79.46</td>\n",
       "      <td>8.0</td>\n",
       "      <td>31.277</td>\n",
       "      <td>0</td>\n",
       "      <td>1</td>\n",
       "      <td>0</td>\n",
       "      <td>1</td>\n",
       "      <td>0</td>\n",
       "      <td>0</td>\n",
       "      <td>0</td>\n",
       "      <td>0</td>\n",
       "      <td>1</td>\n",
       "      <td>0</td>\n",
       "      <td>0</td>\n",
       "      <td>0</td>\n",
       "    </tr>\n",
       "    <tr>\n",
       "      <th>2996</th>\n",
       "      <td>34400</td>\n",
       "      <td>155536.0</td>\n",
       "      <td>169503.0</td>\n",
       "      <td>0</td>\n",
       "      <td>10.0</td>\n",
       "      <td>0.0</td>\n",
       "      <td>107.71</td>\n",
       "      <td>32.0</td>\n",
       "      <td>58.827</td>\n",
       "      <td>0</td>\n",
       "      <td>0</td>\n",
       "      <td>1</td>\n",
       "      <td>1</td>\n",
       "      <td>0</td>\n",
       "      <td>0</td>\n",
       "      <td>0</td>\n",
       "      <td>1</td>\n",
       "      <td>0</td>\n",
       "      <td>0</td>\n",
       "      <td>0</td>\n",
       "      <td>0</td>\n",
       "    </tr>\n",
       "  </tbody>\n",
       "</table>\n",
       "</div>"
      ],
      "text/plain": [
       "       loan   mortdue     value  ...  job_ProfEx  job_Sales  job_Self\n",
       "3128   8000   32100.0   36739.0  ...           0          0         0\n",
       "2996  34400  155536.0  169503.0  ...           0          0         0\n",
       "\n",
       "[2 rows x 21 columns]"
      ]
     },
     "execution_count": 22,
     "metadata": {
      "tags": []
     },
     "output_type": "execute_result"
    }
   ],
   "source": [
    "X_train.head(2)"
   ]
  },
  {
   "cell_type": "code",
   "execution_count": null,
   "metadata": {},
   "outputs": [],
   "source": []
  },
  {
   "cell_type": "code",
   "execution_count": null,
   "metadata": {
    "colab": {
     "base_uri": "https://localhost:8080/",
     "height": 573
    },
    "colab_type": "code",
    "id": "T0mUXTzFGFUG",
    "outputId": "384bba7b-ad18-4a30-ce14-fd77e2bf7829"
   },
   "outputs": [
    {
     "name": "stdout",
     "output_type": "stream",
     "text": [
      "Fitting 10 folds for each of 108 candidates, totalling 1080 fits\n"
     ]
    },
    {
     "name": "stderr",
     "output_type": "stream",
     "text": [
      "[Parallel(n_jobs=-1)]: Using backend LokyBackend with 2 concurrent workers.\n",
      "[Parallel(n_jobs=-1)]: Done  37 tasks      | elapsed:   18.0s\n",
      "[Parallel(n_jobs=-1)]: Done 158 tasks      | elapsed:  1.5min\n",
      "[Parallel(n_jobs=-1)]: Done 361 tasks      | elapsed:  3.7min\n",
      "[Parallel(n_jobs=-1)]: Done 644 tasks      | elapsed:  7.3min\n",
      "[Parallel(n_jobs=-1)]: Done 1009 tasks      | elapsed: 13.1min\n",
      "[Parallel(n_jobs=-1)]: Done 1080 out of 1080 | elapsed: 14.7min finished\n"
     ]
    },
    {
     "name": "stdout",
     "output_type": "stream",
     "text": [
      "En iyi parametre degerleri:  {'max_depth': 10, 'max_features': 8, 'min_samples_split': 2, 'n_estimators': 500}\n",
      "                                               \n",
      "Tune oncesi Accuracy ve Confusion Matrix degerleri:  0.9603960396039604 \n",
      " [[466   0]\n",
      " [ 20  19]]\n",
      "Tune sonrasi Accuracy ve Confusion Matrix degerleri:  0.9544554455445544 \n",
      " [[466   0]\n",
      " [ 23  16]]\n",
      "                                                \n",
      "(<matplotlib.axes._subplots.AxesSubplot object at 0x7f26937a08d0>, Text(0.5, 0, 'Değişken Önem Düzeyleri'))\n"
     ]
    },
    {
     "data": {
      "image/png": "[encoded data removed]",
      "text/plain": [
       "<Figure size 432x288 with 1 Axes>"
      ]
     },
     "metadata": {
      "needs_background": "light",
      "tags": []
     },
     "output_type": "display_data"
    }
   ],
   "source": [
    "import Classes1 as cl\n",
    "\n",
    "Results = cl.Methods()\n",
    "Results.RandomForestsClass(X_train, y_train, X_test, y_test)"
   ]
  },
  {
   "cell_type": "code",
   "execution_count": null,
   "metadata": {
    "colab": {
     "base_uri": "https://localhost:8080/",
     "height": 131
    },
    "colab_type": "code",
    "id": "GIJZZIMrGFRl",
    "outputId": "3138e9b6-bc45-485b-b575-a3bf597b83d5"
   },
   "outputs": [
    {
     "name": "stdout",
     "output_type": "stream",
     "text": [
      "'Adsız klasör'\t    protein_ortak.ipynb\n",
      " Classes1.py\t    SydneyHousePrices.csv\n",
      "'Colab Notebooks'   VerilerinIncelenmesi-Oğuzhan.ipynb\n",
      " diabetes.csv\t    Wine.ipynb\n",
      " Hitters.csv\t    winemag-data_first150k.csv\n",
      " hmelq.csv\t   \"Wine's Data - PreProcessing.ipynb\"\n",
      " HW_Data_Set.xlsx\n"
     ]
    }
   ],
   "source": [
    "!ls \"/content/drive/My Drive\""
   ]
  },
  {
   "cell_type": "code",
   "execution_count": null,
   "metadata": {
    "colab": {
     "base_uri": "https://localhost:8080/",
     "height": 152
    },
    "colab_type": "code",
    "id": "NiTF5q1mGFO3",
    "outputId": "40e5db15-13a9-43ce-a877-668e4008ae39"
   },
   "outputs": [
    {
     "data": {
      "text/html": [
       "<div>\n",
       "<style scoped>\n",
       "    .dataframe tbody tr th:only-of-type {\n",
       "        vertical-align: middle;\n",
       "    }\n",
       "\n",
       "    .dataframe tbody tr th {\n",
       "        vertical-align: top;\n",
       "    }\n",
       "\n",
       "    .dataframe thead th {\n",
       "        text-align: right;\n",
       "    }\n",
       "</style>\n",
       "<table border=\"1\" class=\"dataframe\">\n",
       "  <thead>\n",
       "    <tr style=\"text-align: right;\">\n",
       "      <th></th>\n",
       "      <th>ind_5</th>\n",
       "      <th>ind_6</th>\n",
       "      <th>ind_8</th>\n",
       "      <th>ind_9</th>\n",
       "      <th>ind_10</th>\n",
       "      <th>ind_12</th>\n",
       "      <th>ind_13</th>\n",
       "      <th>ind_14</th>\n",
       "      <th>ind_15</th>\n",
       "      <th>ind_16</th>\n",
       "      <th>ind_17</th>\n",
       "      <th>ind_18</th>\n",
       "      <th>ind_19</th>\n",
       "      <th>ind_20</th>\n",
       "      <th>ind_21</th>\n",
       "      <th>ind_22</th>\n",
       "      <th>ind_23</th>\n",
       "      <th>ind_25</th>\n",
       "      <th>ind_26</th>\n",
       "      <th>ind_27</th>\n",
       "      <th>ind_28</th>\n",
       "      <th>ind_29</th>\n",
       "      <th>ind_30</th>\n",
       "      <th>ind_31</th>\n",
       "      <th>ind_32</th>\n",
       "      <th>ind_33</th>\n",
       "      <th>ind_34</th>\n",
       "      <th>ind_35</th>\n",
       "      <th>ind_36</th>\n",
       "      <th>ind_37</th>\n",
       "      <th>ind_39</th>\n",
       "      <th>ind_40</th>\n",
       "      <th>ind_41</th>\n",
       "      <th>ind_42</th>\n",
       "      <th>ind_43</th>\n",
       "      <th>ind_44</th>\n",
       "      <th>ind_45</th>\n",
       "      <th>ind_46</th>\n",
       "      <th>ind_47</th>\n",
       "      <th>ind_48</th>\n",
       "      <th>...</th>\n",
       "      <th>ind_311</th>\n",
       "      <th>ind_313</th>\n",
       "      <th>ind_315</th>\n",
       "      <th>ind_316</th>\n",
       "      <th>ind_318</th>\n",
       "      <th>ind_321</th>\n",
       "      <th>ind_324</th>\n",
       "      <th>ind_327</th>\n",
       "      <th>ind_330</th>\n",
       "      <th>ind_332</th>\n",
       "      <th>ind_334</th>\n",
       "      <th>ind_338</th>\n",
       "      <th>ind_340</th>\n",
       "      <th>ind_344</th>\n",
       "      <th>ind_345</th>\n",
       "      <th>ind_347</th>\n",
       "      <th>ind_349</th>\n",
       "      <th>ind_351</th>\n",
       "      <th>ind_352</th>\n",
       "      <th>ind_387</th>\n",
       "      <th>ind_392</th>\n",
       "      <th>ind_397</th>\n",
       "      <th>ind_399</th>\n",
       "      <th>ind_403</th>\n",
       "      <th>ind_404</th>\n",
       "      <th>ind_406</th>\n",
       "      <th>ind_407</th>\n",
       "      <th>ind_410</th>\n",
       "      <th>ind_412</th>\n",
       "      <th>ind_414</th>\n",
       "      <th>ind_416</th>\n",
       "      <th>ind_418</th>\n",
       "      <th>ind_420</th>\n",
       "      <th>ind_422</th>\n",
       "      <th>ind_424</th>\n",
       "      <th>ind_426</th>\n",
       "      <th>ind_428</th>\n",
       "      <th>20_target</th>\n",
       "      <th>50_target</th>\n",
       "      <th>90_target</th>\n",
       "    </tr>\n",
       "  </thead>\n",
       "  <tbody>\n",
       "    <tr>\n",
       "      <th>0</th>\n",
       "      <td>19</td>\n",
       "      <td>17</td>\n",
       "      <td>100.0</td>\n",
       "      <td>85.714286</td>\n",
       "      <td>14.285714</td>\n",
       "      <td>72.363515</td>\n",
       "      <td>60.808814</td>\n",
       "      <td>23.80</td>\n",
       "      <td>17.62</td>\n",
       "      <td>11.73</td>\n",
       "      <td>12.060000</td>\n",
       "      <td>9.1100</td>\n",
       "      <td>2</td>\n",
       "      <td>15</td>\n",
       "      <td>13</td>\n",
       "      <td>1</td>\n",
       "      <td>56</td>\n",
       "      <td>0.002690</td>\n",
       "      <td>-0.002670</td>\n",
       "      <td>0.000010</td>\n",
       "      <td>66.666667</td>\n",
       "      <td>93.692449</td>\n",
       "      <td>146.592674</td>\n",
       "      <td>150.505806</td>\n",
       "      <td>154.486989</td>\n",
       "      <td>158.009516</td>\n",
       "      <td>142.421114</td>\n",
       "      <td>142.023350</td>\n",
       "      <td>196.592517</td>\n",
       "      <td>184.819232</td>\n",
       "      <td>31.939605</td>\n",
       "      <td>3</td>\n",
       "      <td>30.752568</td>\n",
       "      <td>-5</td>\n",
       "      <td>-22</td>\n",
       "      <td>-22</td>\n",
       "      <td>-21</td>\n",
       "      <td>-23</td>\n",
       "      <td>-36</td>\n",
       "      <td>-40</td>\n",
       "      <td>...</td>\n",
       "      <td>97.980028</td>\n",
       "      <td>1.179209</td>\n",
       "      <td>-0.756946</td>\n",
       "      <td>98.905563</td>\n",
       "      <td>1.190348</td>\n",
       "      <td>99.156641</td>\n",
       "      <td>-0.000062</td>\n",
       "      <td>12.056738</td>\n",
       "      <td>-0.157039</td>\n",
       "      <td>20.967742</td>\n",
       "      <td>-0.000091</td>\n",
       "      <td>1.197238</td>\n",
       "      <td>-0.319064</td>\n",
       "      <td>0.0</td>\n",
       "      <td>0.0</td>\n",
       "      <td>0.0</td>\n",
       "      <td>0.0</td>\n",
       "      <td>0.0</td>\n",
       "      <td>0.0</td>\n",
       "      <td>-3.731343</td>\n",
       "      <td>-32.587430</td>\n",
       "      <td>-26.386973</td>\n",
       "      <td>-0.003323</td>\n",
       "      <td>0.045130</td>\n",
       "      <td>-0.044678</td>\n",
       "      <td>-44</td>\n",
       "      <td>-23</td>\n",
       "      <td>-27</td>\n",
       "      <td>0.002371</td>\n",
       "      <td>2.0</td>\n",
       "      <td>-49.6</td>\n",
       "      <td>-54</td>\n",
       "      <td>-152</td>\n",
       "      <td>-353</td>\n",
       "      <td>1.0</td>\n",
       "      <td>0.498547</td>\n",
       "      <td>0.701906</td>\n",
       "      <td>15.135802</td>\n",
       "      <td>35.625252</td>\n",
       "      <td>36.997753</td>\n",
       "    </tr>\n",
       "    <tr>\n",
       "      <th>1</th>\n",
       "      <td>24</td>\n",
       "      <td>19</td>\n",
       "      <td>100.0</td>\n",
       "      <td>78.571429</td>\n",
       "      <td>21.428571</td>\n",
       "      <td>74.275883</td>\n",
       "      <td>64.366798</td>\n",
       "      <td>11.45</td>\n",
       "      <td>18.16</td>\n",
       "      <td>12.22</td>\n",
       "      <td>11.326667</td>\n",
       "      <td>9.2225</td>\n",
       "      <td>0</td>\n",
       "      <td>11</td>\n",
       "      <td>11</td>\n",
       "      <td>1</td>\n",
       "      <td>63</td>\n",
       "      <td>0.002729</td>\n",
       "      <td>-0.003111</td>\n",
       "      <td>-0.000191</td>\n",
       "      <td>66.666667</td>\n",
       "      <td>76.694104</td>\n",
       "      <td>140.227205</td>\n",
       "      <td>156.903278</td>\n",
       "      <td>161.604303</td>\n",
       "      <td>169.720843</td>\n",
       "      <td>152.634492</td>\n",
       "      <td>149.634976</td>\n",
       "      <td>201.738617</td>\n",
       "      <td>191.985663</td>\n",
       "      <td>38.478501</td>\n",
       "      <td>3</td>\n",
       "      <td>36.812130</td>\n",
       "      <td>-6</td>\n",
       "      <td>-18</td>\n",
       "      <td>-24</td>\n",
       "      <td>-24</td>\n",
       "      <td>-25</td>\n",
       "      <td>-38</td>\n",
       "      <td>-43</td>\n",
       "      <td>...</td>\n",
       "      <td>97.932319</td>\n",
       "      <td>1.179223</td>\n",
       "      <td>-0.756569</td>\n",
       "      <td>98.859627</td>\n",
       "      <td>1.190389</td>\n",
       "      <td>99.111914</td>\n",
       "      <td>-0.000062</td>\n",
       "      <td>11.971831</td>\n",
       "      <td>-0.156961</td>\n",
       "      <td>20.800000</td>\n",
       "      <td>-0.000091</td>\n",
       "      <td>1.197328</td>\n",
       "      <td>-0.318905</td>\n",
       "      <td>0.0</td>\n",
       "      <td>0.0</td>\n",
       "      <td>0.0</td>\n",
       "      <td>0.0</td>\n",
       "      <td>0.0</td>\n",
       "      <td>0.0</td>\n",
       "      <td>-1.369863</td>\n",
       "      <td>-38.115965</td>\n",
       "      <td>-26.085949</td>\n",
       "      <td>-0.000476</td>\n",
       "      <td>0.035314</td>\n",
       "      <td>-0.034961</td>\n",
       "      <td>-48</td>\n",
       "      <td>-16</td>\n",
       "      <td>-31</td>\n",
       "      <td>0.003074</td>\n",
       "      <td>0.8</td>\n",
       "      <td>-55.6</td>\n",
       "      <td>-60</td>\n",
       "      <td>-158</td>\n",
       "      <td>-359</td>\n",
       "      <td>1.0</td>\n",
       "      <td>0.537088</td>\n",
       "      <td>0.690833</td>\n",
       "      <td>15.143348</td>\n",
       "      <td>35.643013</td>\n",
       "      <td>37.016198</td>\n",
       "    </tr>\n",
       "  </tbody>\n",
       "</table>\n",
       "<p>2 rows × 136 columns</p>\n",
       "</div>"
      ],
      "text/plain": [
       "   ind_5  ind_6  ind_8      ind_9  ...   ind_428  20_target  50_target  90_target\n",
       "0     19     17  100.0  85.714286  ...  0.701906  15.135802  35.625252  36.997753\n",
       "1     24     19  100.0  78.571429  ...  0.690833  15.143348  35.643013  37.016198\n",
       "\n",
       "[2 rows x 136 columns]"
      ]
     },
     "execution_count": 11,
     "metadata": {
      "tags": []
     },
     "output_type": "execute_result"
    }
   ],
   "source": [
    "# Diger foreks datasina gecelim\n",
    "\n",
    "df_y = pd.read_excel(\"/content/drive/My Drive/HW_Data_Set.xlsx\")\n",
    "df_y.head(2)"
   ]
  },
  {
   "cell_type": "code",
   "execution_count": null,
   "metadata": {
    "colab": {},
    "colab_type": "code",
    "id": "29m_y4JcGFML"
   },
   "outputs": [],
   "source": [
    "df_y.loc[df_y[df_y[\"ind_420\"] == \"?\"].index] = np.nan \n",
    "\n",
    "# Degisken donusturmeden once icerisinde NAN degerler oldugu icin ilk once bu OBJECT tipindeki degiskenlerin NAN degerlerini degistiriyoruz\n",
    "# Ardindan donusum gercelestiriyoruz\n",
    "\n",
    "df_y[\"ind_422\"] = df_y[\"ind_422\"].fillna(df_y.mean()[\"ind_422\"])\n",
    "df_y[\"ind_420\"] = df_y[\"ind_420\"].fillna(df_y.mean()[\"ind_420\"])\n",
    "\n",
    "df_y[\"ind_422\"] = df_y[\"ind_422\"].astype('int32')\n",
    "df_y[\"ind_420\"] = df_y[\"ind_420\"].astype('int32')\n",
    "\n",
    "# Geriye kalan NaN degiskenleri de dolduruyoruz\n",
    "\n",
    "column = list(df_y.select_dtypes(include=[\"int32\",\"float64\"]))\n",
    "df_y[column] = df_y[column].apply(lambda x: x.fillna(x.mean()),axis=0)"
   ]
  },
  {
   "cell_type": "code",
   "execution_count": null,
   "metadata": {
    "colab": {
     "base_uri": "https://localhost:8080/",
     "height": 98
    },
    "colab_type": "code",
    "id": "nsOkaintqwwt",
    "outputId": "bd5e6afd-b4b2-41fd-ae00-693f89da8a06"
   },
   "outputs": [
    {
     "name": "stdout",
     "output_type": "stream",
     "text": [
      "<class 'pandas.core.frame.DataFrame'>\n",
      "RangeIndex: 6167 entries, 0 to 6166\n",
      "Columns: 136 entries, ind_5 to 90_target\n",
      "dtypes: float64(133), int32(2), object(1)\n",
      "memory usage: 6.4+ MB\n"
     ]
    }
   ],
   "source": [
    "df_y.info()"
   ]
  },
  {
   "cell_type": "code",
   "execution_count": null,
   "metadata": {
    "colab": {
     "base_uri": "https://localhost:8080/",
     "height": 98
    },
    "colab_type": "code",
    "id": "DWAqki5Uqw2g",
    "outputId": "c0e9c88d-7224-4fa6-c1b9-db73cd979fef"
   },
   "outputs": [
    {
     "name": "stdout",
     "output_type": "stream",
     "text": [
      "<class 'pandas.core.frame.DataFrame'>\n",
      "RangeIndex: 6167 entries, 0 to 6166\n",
      "Columns: 136 entries, ind_5 to ind_109_GREEN\n",
      "dtypes: float64(133), int32(2), uint8(1)\n",
      "memory usage: 6.3 MB\n"
     ]
    }
   ],
   "source": [
    "# Kalan son object tipindeki degiskeni de 1-0 haline getiriyoruz\n",
    "\n",
    "df_y = pd.get_dummies(df_y,columns= [\"ind_109\"], prefix= [\"ind_109\"])\n",
    "\n",
    "df_y = df_y.drop([\"ind_109_RED\"],axis=1)\n",
    "\n",
    "df_y.info()"
   ]
  },
  {
   "cell_type": "code",
   "execution_count": null,
   "metadata": {
    "colab": {},
    "colab_type": "code",
    "id": "cIUo0kozq8Sq"
   },
   "outputs": [],
   "source": [
    "# Modellemeye Hazir\n",
    "\n",
    "df_y.drop(labels=[\"20_target\",\"90_target\"],axis=1,inplace=True)\n",
    "\n",
    "\n",
    "X = df_y.drop(labels=\"50_target\",axis=1)\n",
    "y = df_y[\"50_target\"]\n",
    "\n",
    "X_train, X_test, y_train, y_test = train_test_split(X,y, test_size = .2, random_state = 42,shuffle = False)\n",
    "\n"
   ]
  },
  {
   "cell_type": "code",
   "execution_count": null,
   "metadata": {
    "colab": {
     "base_uri": "https://localhost:8080/",
     "height": 310
    },
    "colab_type": "code",
    "id": "jhAcRiJIrRQ9",
    "outputId": "ab5ebcff-88cb-4015-c597-073b1c6d81f3"
   },
   "outputs": [
    {
     "name": "stdout",
     "output_type": "stream",
     "text": [
      "Fitting 10 folds for each of 1620 candidates, totalling 16200 fits\n"
     ]
    },
    {
     "name": "stderr",
     "output_type": "stream",
     "text": [
      "[Parallel(n_jobs=-1)]: Using backend LokyBackend with 2 concurrent workers.\n",
      "[Parallel(n_jobs=-1)]: Done  37 tasks      | elapsed:   23.7s\n",
      "[Parallel(n_jobs=-1)]: Done 158 tasks      | elapsed:  2.7min\n",
      "[Parallel(n_jobs=-1)]: Done 361 tasks      | elapsed:  6.2min\n",
      "[Parallel(n_jobs=-1)]: Done 644 tasks      | elapsed: 11.7min\n",
      "[Parallel(n_jobs=-1)]: Done 1009 tasks      | elapsed: 19.9min\n",
      "[Parallel(n_jobs=-1)]: Done 1454 tasks      | elapsed: 32.8min\n",
      "[Parallel(n_jobs=-1)]: Done 1981 tasks      | elapsed: 48.4min\n",
      "[Parallel(n_jobs=-1)]: Done 2588 tasks      | elapsed: 63.3min\n",
      "[Parallel(n_jobs=-1)]: Done 3277 tasks      | elapsed: 90.0min\n",
      "[Parallel(n_jobs=-1)]: Done 4046 tasks      | elapsed: 118.6min\n",
      "[Parallel(n_jobs=-1)]: Done 4897 tasks      | elapsed: 154.7min\n",
      "[Parallel(n_jobs=-1)]: Done 5828 tasks      | elapsed: 201.5min\n",
      "[Parallel(n_jobs=-1)]: Done 6841 tasks      | elapsed: 256.6min\n",
      "[Parallel(n_jobs=-1)]: Done 7934 tasks      | elapsed: 318.9min\n",
      "[Parallel(n_jobs=-1)]: Done 9109 tasks      | elapsed: 416.9min\n",
      "[Parallel(n_jobs=-1)]: Done 10364 tasks      | elapsed: 495.1min\n"
     ]
    }
   ],
   "source": [
    "Result = cl.Methods()\n",
    "\n",
    "Result.RandomForestsReg(X_train, y_train, X_test, y_test)"
   ]
  }
 ],
 "metadata": {
  "accelerator": "GPU",
  "colab": {
   "collapsed_sections": [],
   "name": "RandomForests.ipynb",
   "provenance": []
  },
  "kernelspec": {
   "display_name": "Python 3",
   "language": "python",
   "name": "python3"
  },
  "language_info": {
   "codemirror_mode": {
    "name": "ipython",
    "version": 3
   },
   "file_extension": ".py",
   "mimetype": "text/x-python",
   "name": "python",
   "nbconvert_exporter": "python",
   "pygments_lexer": "ipython3",
   "version": "3.7.6"
  }
 },
 "nbformat": 4,
 "nbformat_minor": 4
}
