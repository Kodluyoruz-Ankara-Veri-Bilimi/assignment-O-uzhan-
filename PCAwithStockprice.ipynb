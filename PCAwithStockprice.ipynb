{
 "cells": [
  {
   "cell_type": "code",
   "execution_count": 14,
   "metadata": {},
   "outputs": [],
   "source": [
    "import pandas as pd\n",
    "import Classes1 as cl\n",
    "\n",
    "df = pd.read_excel(r\"C:\\Users\\LENOVO\\Desktop\\KodluyoruzBootcamp\\Ödevler Ve Çalışmalar\\HW_Data_Set.xlsx\") "
   ]
  },
  {
   "cell_type": "code",
   "execution_count": 5,
   "metadata": {},
   "outputs": [],
   "source": [
    "info_data = cl.information(df)"
   ]
  },
  {
   "cell_type": "code",
   "execution_count": 6,
   "metadata": {},
   "outputs": [
    {
     "data": {
      "text/html": [
       "<div>\n",
       "<style scoped>\n",
       "    .dataframe tbody tr th:only-of-type {\n",
       "        vertical-align: middle;\n",
       "    }\n",
       "\n",
       "    .dataframe tbody tr th {\n",
       "        vertical-align: top;\n",
       "    }\n",
       "\n",
       "    .dataframe thead th {\n",
       "        text-align: right;\n",
       "    }\n",
       "</style>\n",
       "<table border=\"1\" class=\"dataframe\">\n",
       "  <thead>\n",
       "    <tr style=\"text-align: right;\">\n",
       "      <th></th>\n",
       "      <th>ind_5</th>\n",
       "      <th>ind_6</th>\n",
       "      <th>ind_8</th>\n",
       "      <th>ind_9</th>\n",
       "      <th>ind_10</th>\n",
       "      <th>ind_12</th>\n",
       "      <th>ind_13</th>\n",
       "      <th>ind_14</th>\n",
       "      <th>ind_15</th>\n",
       "      <th>ind_16</th>\n",
       "      <th>...</th>\n",
       "      <th>ind_416</th>\n",
       "      <th>ind_418</th>\n",
       "      <th>ind_420</th>\n",
       "      <th>ind_422</th>\n",
       "      <th>ind_424</th>\n",
       "      <th>ind_426</th>\n",
       "      <th>ind_428</th>\n",
       "      <th>20_target</th>\n",
       "      <th>50_target</th>\n",
       "      <th>90_target</th>\n",
       "    </tr>\n",
       "  </thead>\n",
       "  <tbody>\n",
       "    <tr>\n",
       "      <th>0</th>\n",
       "      <td>19</td>\n",
       "      <td>17</td>\n",
       "      <td>100.0</td>\n",
       "      <td>85.714286</td>\n",
       "      <td>14.285714</td>\n",
       "      <td>72.363515</td>\n",
       "      <td>60.808814</td>\n",
       "      <td>23.80</td>\n",
       "      <td>17.62</td>\n",
       "      <td>11.73</td>\n",
       "      <td>...</td>\n",
       "      <td>-49.6</td>\n",
       "      <td>-54</td>\n",
       "      <td>-152</td>\n",
       "      <td>-353</td>\n",
       "      <td>1.0</td>\n",
       "      <td>0.498547</td>\n",
       "      <td>0.701906</td>\n",
       "      <td>15.135802</td>\n",
       "      <td>35.625252</td>\n",
       "      <td>36.997753</td>\n",
       "    </tr>\n",
       "    <tr>\n",
       "      <th>1</th>\n",
       "      <td>24</td>\n",
       "      <td>19</td>\n",
       "      <td>100.0</td>\n",
       "      <td>78.571429</td>\n",
       "      <td>21.428571</td>\n",
       "      <td>74.275883</td>\n",
       "      <td>64.366798</td>\n",
       "      <td>11.45</td>\n",
       "      <td>18.16</td>\n",
       "      <td>12.22</td>\n",
       "      <td>...</td>\n",
       "      <td>-55.6</td>\n",
       "      <td>-60</td>\n",
       "      <td>-158</td>\n",
       "      <td>-359</td>\n",
       "      <td>1.0</td>\n",
       "      <td>0.537088</td>\n",
       "      <td>0.690833</td>\n",
       "      <td>15.143348</td>\n",
       "      <td>35.643013</td>\n",
       "      <td>37.016198</td>\n",
       "    </tr>\n",
       "    <tr>\n",
       "      <th>2</th>\n",
       "      <td>30</td>\n",
       "      <td>24</td>\n",
       "      <td>100.0</td>\n",
       "      <td>71.428571</td>\n",
       "      <td>28.571429</td>\n",
       "      <td>75.140402</td>\n",
       "      <td>65.915803</td>\n",
       "      <td>8.75</td>\n",
       "      <td>17.86</td>\n",
       "      <td>12.28</td>\n",
       "      <td>...</td>\n",
       "      <td>-58.4</td>\n",
       "      <td>-60</td>\n",
       "      <td>-160</td>\n",
       "      <td>-362</td>\n",
       "      <td>1.0</td>\n",
       "      <td>0.615169</td>\n",
       "      <td>0.693040</td>\n",
       "      <td>15.146870</td>\n",
       "      <td>35.651301</td>\n",
       "      <td>-37.024805</td>\n",
       "    </tr>\n",
       "    <tr>\n",
       "      <th>3</th>\n",
       "      <td>37</td>\n",
       "      <td>30</td>\n",
       "      <td>100.0</td>\n",
       "      <td>64.285714</td>\n",
       "      <td>35.714286</td>\n",
       "      <td>76.677846</td>\n",
       "      <td>68.584234</td>\n",
       "      <td>7.80</td>\n",
       "      <td>14.76</td>\n",
       "      <td>12.61</td>\n",
       "      <td>...</td>\n",
       "      <td>-61.8</td>\n",
       "      <td>-65</td>\n",
       "      <td>-166</td>\n",
       "      <td>-367</td>\n",
       "      <td>1.0</td>\n",
       "      <td>0.661517</td>\n",
       "      <td>0.673418</td>\n",
       "      <td>15.153283</td>\n",
       "      <td>0.000000</td>\n",
       "      <td>-37.040483</td>\n",
       "    </tr>\n",
       "    <tr>\n",
       "      <th>4</th>\n",
       "      <td>41</td>\n",
       "      <td>37</td>\n",
       "      <td>100.0</td>\n",
       "      <td>57.142857</td>\n",
       "      <td>42.857143</td>\n",
       "      <td>81.603007</td>\n",
       "      <td>76.455495</td>\n",
       "      <td>14.90</td>\n",
       "      <td>11.92</td>\n",
       "      <td>14.25</td>\n",
       "      <td>...</td>\n",
       "      <td>-79.8</td>\n",
       "      <td>-86</td>\n",
       "      <td>-186</td>\n",
       "      <td>-388</td>\n",
       "      <td>1.0</td>\n",
       "      <td>0.747204</td>\n",
       "      <td>0.700522</td>\n",
       "      <td>-15.179065</td>\n",
       "      <td>-35.727079</td>\n",
       "      <td>-37.103503</td>\n",
       "    </tr>\n",
       "  </tbody>\n",
       "</table>\n",
       "<p>5 rows × 136 columns</p>\n",
       "</div>"
      ],
      "text/plain": [
       "   ind_5  ind_6  ind_8      ind_9     ind_10     ind_12     ind_13  ind_14  \\\n",
       "0     19     17  100.0  85.714286  14.285714  72.363515  60.808814   23.80   \n",
       "1     24     19  100.0  78.571429  21.428571  74.275883  64.366798   11.45   \n",
       "2     30     24  100.0  71.428571  28.571429  75.140402  65.915803    8.75   \n",
       "3     37     30  100.0  64.285714  35.714286  76.677846  68.584234    7.80   \n",
       "4     41     37  100.0  57.142857  42.857143  81.603007  76.455495   14.90   \n",
       "\n",
       "   ind_15  ind_16  ...  ind_416  ind_418  ind_420  ind_422  ind_424   ind_426  \\\n",
       "0   17.62   11.73  ...    -49.6      -54     -152     -353      1.0  0.498547   \n",
       "1   18.16   12.22  ...    -55.6      -60     -158     -359      1.0  0.537088   \n",
       "2   17.86   12.28  ...    -58.4      -60     -160     -362      1.0  0.615169   \n",
       "3   14.76   12.61  ...    -61.8      -65     -166     -367      1.0  0.661517   \n",
       "4   11.92   14.25  ...    -79.8      -86     -186     -388      1.0  0.747204   \n",
       "\n",
       "    ind_428  20_target  50_target  90_target  \n",
       "0  0.701906  15.135802  35.625252  36.997753  \n",
       "1  0.690833  15.143348  35.643013  37.016198  \n",
       "2  0.693040  15.146870  35.651301 -37.024805  \n",
       "3  0.673418  15.153283   0.000000 -37.040483  \n",
       "4  0.700522 -15.179065 -35.727079 -37.103503  \n",
       "\n",
       "[5 rows x 136 columns]"
      ]
     },
     "execution_count": 6,
     "metadata": {},
     "output_type": "execute_result"
    }
   ],
   "source": [
    "df.head()"
   ]
  },
  {
   "cell_type": "markdown",
   "metadata": {},
   "source": [
    "* Datamizi goruyoruz 136 adet degiskenden olusuyor ve bunlarin 3 bagimli degiskenimiz"
   ]
  },
  {
   "cell_type": "code",
   "execution_count": 3,
   "metadata": {},
   "outputs": [
    {
     "name": "stdout",
     "output_type": "stream",
     "text": [
      "<class 'pandas.core.frame.DataFrame'>\n",
      "RangeIndex: 6167 entries, 0 to 6166\n",
      "Columns: 136 entries, ind_5 to 90_target\n",
      "dtypes: float64(88), int64(45), object(3)\n",
      "memory usage: 6.4+ MB\n",
      "None \n",
      "Boyut Bilgisi:\n",
      " (6167, 136)\n"
     ]
    }
   ],
   "source": [
    "info_data.info_data()"
   ]
  },
  {
   "cell_type": "markdown",
   "metadata": {},
   "source": [
    "* Data icerisinde baktigimiz zaman goze carpan 3 adet object tipinde degisken olmasi bunlar yanlis ayarlanmis olabilir cunku gozle gorulur bir sekilde onlari goremiyoruz."
   ]
  },
  {
   "cell_type": "code",
   "execution_count": 7,
   "metadata": {},
   "outputs": [
    {
     "data": {
      "text/html": [
       "<div>\n",
       "<style scoped>\n",
       "    .dataframe tbody tr th:only-of-type {\n",
       "        vertical-align: middle;\n",
       "    }\n",
       "\n",
       "    .dataframe tbody tr th {\n",
       "        vertical-align: top;\n",
       "    }\n",
       "\n",
       "    .dataframe thead th {\n",
       "        text-align: right;\n",
       "    }\n",
       "</style>\n",
       "<table border=\"1\" class=\"dataframe\">\n",
       "  <thead>\n",
       "    <tr style=\"text-align: right;\">\n",
       "      <th></th>\n",
       "      <th>ind_109</th>\n",
       "      <th>ind_420</th>\n",
       "      <th>ind_422</th>\n",
       "    </tr>\n",
       "  </thead>\n",
       "  <tbody>\n",
       "    <tr>\n",
       "      <th>0</th>\n",
       "      <td>GREEN</td>\n",
       "      <td>-152</td>\n",
       "      <td>-353</td>\n",
       "    </tr>\n",
       "    <tr>\n",
       "      <th>1</th>\n",
       "      <td>GREEN</td>\n",
       "      <td>-158</td>\n",
       "      <td>-359</td>\n",
       "    </tr>\n",
       "    <tr>\n",
       "      <th>2</th>\n",
       "      <td>GREEN</td>\n",
       "      <td>-160</td>\n",
       "      <td>-362</td>\n",
       "    </tr>\n",
       "    <tr>\n",
       "      <th>3</th>\n",
       "      <td>GREEN</td>\n",
       "      <td>-166</td>\n",
       "      <td>-367</td>\n",
       "    </tr>\n",
       "    <tr>\n",
       "      <th>4</th>\n",
       "      <td>GREEN</td>\n",
       "      <td>-186</td>\n",
       "      <td>-388</td>\n",
       "    </tr>\n",
       "    <tr>\n",
       "      <th>...</th>\n",
       "      <td>...</td>\n",
       "      <td>...</td>\n",
       "      <td>...</td>\n",
       "    </tr>\n",
       "    <tr>\n",
       "      <th>6162</th>\n",
       "      <td>RED</td>\n",
       "      <td>-11</td>\n",
       "      <td>-270</td>\n",
       "    </tr>\n",
       "    <tr>\n",
       "      <th>6163</th>\n",
       "      <td>RED</td>\n",
       "      <td>-12</td>\n",
       "      <td>-271</td>\n",
       "    </tr>\n",
       "    <tr>\n",
       "      <th>6164</th>\n",
       "      <td>GREEN</td>\n",
       "      <td>-21</td>\n",
       "      <td>-280</td>\n",
       "    </tr>\n",
       "    <tr>\n",
       "      <th>6165</th>\n",
       "      <td>GREEN</td>\n",
       "      <td>-33</td>\n",
       "      <td>-292</td>\n",
       "    </tr>\n",
       "    <tr>\n",
       "      <th>6166</th>\n",
       "      <td>GREEN</td>\n",
       "      <td>-28</td>\n",
       "      <td>-288</td>\n",
       "    </tr>\n",
       "  </tbody>\n",
       "</table>\n",
       "<p>6167 rows × 3 columns</p>\n",
       "</div>"
      ],
      "text/plain": [
       "     ind_109 ind_420 ind_422\n",
       "0      GREEN    -152    -353\n",
       "1      GREEN    -158    -359\n",
       "2      GREEN    -160    -362\n",
       "3      GREEN    -166    -367\n",
       "4      GREEN    -186    -388\n",
       "...      ...     ...     ...\n",
       "6162     RED     -11    -270\n",
       "6163     RED     -12    -271\n",
       "6164   GREEN     -21    -280\n",
       "6165   GREEN     -33    -292\n",
       "6166   GREEN     -28    -288\n",
       "\n",
       "[6167 rows x 3 columns]"
      ]
     },
     "execution_count": 7,
     "metadata": {},
     "output_type": "execute_result"
    }
   ],
   "source": [
    "df.select_dtypes(include=['object'])"
   ]
  },
  {
   "cell_type": "markdown",
   "metadata": {},
   "source": [
    "* Goruldugu uzere bu 3 degisken OBJECT olarak usaretlenmis ilki haric diger 2 degiskenin Noise gurultulu data oldugunu soylemekte yarar var. Simdi bunlari duzeltelim. "
   ]
  },
  {
   "cell_type": "code",
   "execution_count": null,
   "metadata": {},
   "outputs": [],
   "source": [
    "import numpy as np\n",
    "\n",
    "df[\"ind_422\"] = df[\"ind_422\"].astype('int32')\n",
    "df[\"ind_420\"] = df[\"ind_420\"].astype('int32')\n",
    "\n",
    "# Normal de bu islem ile halledebiliyorduk ama soyle bir hat aldik '?' yani data icerisinde soru isareti konulup kayip veriler oldugu gorulmekte\n"
   ]
  },
  {
   "cell_type": "code",
   "execution_count": 8,
   "metadata": {},
   "outputs": [
    {
     "data": {
      "text/html": [
       "<div>\n",
       "<style scoped>\n",
       "    .dataframe tbody tr th:only-of-type {\n",
       "        vertical-align: middle;\n",
       "    }\n",
       "\n",
       "    .dataframe tbody tr th {\n",
       "        vertical-align: top;\n",
       "    }\n",
       "\n",
       "    .dataframe thead th {\n",
       "        text-align: right;\n",
       "    }\n",
       "</style>\n",
       "<table border=\"1\" class=\"dataframe\">\n",
       "  <thead>\n",
       "    <tr style=\"text-align: right;\">\n",
       "      <th></th>\n",
       "      <th>ind_109</th>\n",
       "    </tr>\n",
       "  </thead>\n",
       "  <tbody>\n",
       "    <tr>\n",
       "      <th>0</th>\n",
       "      <td>GREEN</td>\n",
       "    </tr>\n",
       "    <tr>\n",
       "      <th>1</th>\n",
       "      <td>GREEN</td>\n",
       "    </tr>\n",
       "    <tr>\n",
       "      <th>2</th>\n",
       "      <td>GREEN</td>\n",
       "    </tr>\n",
       "    <tr>\n",
       "      <th>3</th>\n",
       "      <td>GREEN</td>\n",
       "    </tr>\n",
       "    <tr>\n",
       "      <th>4</th>\n",
       "      <td>GREEN</td>\n",
       "    </tr>\n",
       "  </tbody>\n",
       "</table>\n",
       "</div>"
      ],
      "text/plain": [
       "  ind_109\n",
       "0   GREEN\n",
       "1   GREEN\n",
       "2   GREEN\n",
       "3   GREEN\n",
       "4   GREEN"
      ]
     },
     "execution_count": 8,
     "metadata": {},
     "output_type": "execute_result"
    }
   ],
   "source": [
    "gurultu = df[df[\"ind_420\"] == \"?\"].index\n",
    "\n",
    "df.drop(gurultu,axis=0,inplace=True)\n",
    "\n",
    "# Bu sekilde \"?\" olan gozlemleri direk dusurduk\n",
    "\n",
    "df[\"ind_422\"] = df[\"ind_422\"].astype('int32')\n",
    "df[\"ind_420\"] = df[\"ind_420\"].astype('int32')\n",
    "\n",
    "# islemimizi gerceklestirdik\n",
    "\n",
    "df.select_dtypes(include=['object'])[:5]\n",
    "\n",
    "# Geri bir tek gercekten OBJECT tipinde olan degiskenimizi goruyoruz"
   ]
  },
  {
   "cell_type": "code",
   "execution_count": 9,
   "metadata": {},
   "outputs": [
    {
     "data": {
      "text/html": [
       "<div>\n",
       "<style scoped>\n",
       "    .dataframe tbody tr th:only-of-type {\n",
       "        vertical-align: middle;\n",
       "    }\n",
       "\n",
       "    .dataframe tbody tr th {\n",
       "        vertical-align: top;\n",
       "    }\n",
       "\n",
       "    .dataframe thead th {\n",
       "        text-align: right;\n",
       "    }\n",
       "</style>\n",
       "<table border=\"1\" class=\"dataframe\">\n",
       "  <thead>\n",
       "    <tr style=\"text-align: right;\">\n",
       "      <th></th>\n",
       "      <th>Missing_Values</th>\n",
       "      <th>Missing_values_rate %</th>\n",
       "    </tr>\n",
       "  </thead>\n",
       "  <tbody>\n",
       "    <tr>\n",
       "      <th>ind_5</th>\n",
       "      <td>0</td>\n",
       "      <td>0.0</td>\n",
       "    </tr>\n",
       "    <tr>\n",
       "      <th>ind_6</th>\n",
       "      <td>0</td>\n",
       "      <td>0.0</td>\n",
       "    </tr>\n",
       "    <tr>\n",
       "      <th>ind_8</th>\n",
       "      <td>0</td>\n",
       "      <td>0.0</td>\n",
       "    </tr>\n",
       "    <tr>\n",
       "      <th>ind_9</th>\n",
       "      <td>0</td>\n",
       "      <td>0.0</td>\n",
       "    </tr>\n",
       "    <tr>\n",
       "      <th>ind_10</th>\n",
       "      <td>0</td>\n",
       "      <td>0.0</td>\n",
       "    </tr>\n",
       "    <tr>\n",
       "      <th>...</th>\n",
       "      <td>...</td>\n",
       "      <td>...</td>\n",
       "    </tr>\n",
       "    <tr>\n",
       "      <th>ind_426</th>\n",
       "      <td>0</td>\n",
       "      <td>0.0</td>\n",
       "    </tr>\n",
       "    <tr>\n",
       "      <th>ind_428</th>\n",
       "      <td>0</td>\n",
       "      <td>0.0</td>\n",
       "    </tr>\n",
       "    <tr>\n",
       "      <th>20_target</th>\n",
       "      <td>0</td>\n",
       "      <td>0.0</td>\n",
       "    </tr>\n",
       "    <tr>\n",
       "      <th>50_target</th>\n",
       "      <td>0</td>\n",
       "      <td>0.0</td>\n",
       "    </tr>\n",
       "    <tr>\n",
       "      <th>90_target</th>\n",
       "      <td>0</td>\n",
       "      <td>0.0</td>\n",
       "    </tr>\n",
       "  </tbody>\n",
       "</table>\n",
       "<p>136 rows × 2 columns</p>\n",
       "</div>"
      ],
      "text/plain": [
       "           Missing_Values  Missing_values_rate %\n",
       "ind_5                   0                    0.0\n",
       "ind_6                   0                    0.0\n",
       "ind_8                   0                    0.0\n",
       "ind_9                   0                    0.0\n",
       "ind_10                  0                    0.0\n",
       "...                   ...                    ...\n",
       "ind_426                 0                    0.0\n",
       "ind_428                 0                    0.0\n",
       "20_target               0                    0.0\n",
       "50_target               0                    0.0\n",
       "90_target               0                    0.0\n",
       "\n",
       "[136 rows x 2 columns]"
      ]
     },
     "execution_count": 9,
     "metadata": {},
     "output_type": "execute_result"
    }
   ],
   "source": [
    "info_data.MissingValues()\n",
    "\n",
    "# Eksik gozlem gozukmemekte "
   ]
  },
  {
   "cell_type": "code",
   "execution_count": 10,
   "metadata": {},
   "outputs": [
    {
     "data": {
      "text/html": [
       "<div>\n",
       "<style scoped>\n",
       "    .dataframe tbody tr th:only-of-type {\n",
       "        vertical-align: middle;\n",
       "    }\n",
       "\n",
       "    .dataframe tbody tr th {\n",
       "        vertical-align: top;\n",
       "    }\n",
       "\n",
       "    .dataframe thead th {\n",
       "        text-align: right;\n",
       "    }\n",
       "</style>\n",
       "<table border=\"1\" class=\"dataframe\">\n",
       "  <thead>\n",
       "    <tr style=\"text-align: right;\">\n",
       "      <th></th>\n",
       "      <th>count</th>\n",
       "      <th>mean</th>\n",
       "      <th>std</th>\n",
       "      <th>min</th>\n",
       "      <th>25%</th>\n",
       "      <th>50%</th>\n",
       "      <th>75%</th>\n",
       "      <th>max</th>\n",
       "    </tr>\n",
       "  </thead>\n",
       "  <tbody>\n",
       "    <tr>\n",
       "      <th>ind_5</th>\n",
       "      <td>5126.0</td>\n",
       "      <td>-1.251853</td>\n",
       "      <td>23.546553</td>\n",
       "      <td>-131.000000</td>\n",
       "      <td>-14.000000</td>\n",
       "      <td>0.000000</td>\n",
       "      <td>13.000000</td>\n",
       "      <td>69.000000</td>\n",
       "    </tr>\n",
       "    <tr>\n",
       "      <th>ind_6</th>\n",
       "      <td>5126.0</td>\n",
       "      <td>-1.240148</td>\n",
       "      <td>23.550694</td>\n",
       "      <td>-131.000000</td>\n",
       "      <td>-14.000000</td>\n",
       "      <td>0.000000</td>\n",
       "      <td>13.000000</td>\n",
       "      <td>69.000000</td>\n",
       "    </tr>\n",
       "    <tr>\n",
       "      <th>ind_8</th>\n",
       "      <td>5126.0</td>\n",
       "      <td>49.016220</td>\n",
       "      <td>36.340676</td>\n",
       "      <td>0.000000</td>\n",
       "      <td>14.285714</td>\n",
       "      <td>50.000000</td>\n",
       "      <td>85.714286</td>\n",
       "      <td>100.000000</td>\n",
       "    </tr>\n",
       "    <tr>\n",
       "      <th>ind_9</th>\n",
       "      <td>5126.0</td>\n",
       "      <td>48.042194</td>\n",
       "      <td>36.619184</td>\n",
       "      <td>0.000000</td>\n",
       "      <td>14.285714</td>\n",
       "      <td>42.857143</td>\n",
       "      <td>85.714286</td>\n",
       "      <td>100.000000</td>\n",
       "    </tr>\n",
       "    <tr>\n",
       "      <th>ind_10</th>\n",
       "      <td>5126.0</td>\n",
       "      <td>0.974026</td>\n",
       "      <td>60.375932</td>\n",
       "      <td>-100.000000</td>\n",
       "      <td>-50.000000</td>\n",
       "      <td>7.142857</td>\n",
       "      <td>57.142857</td>\n",
       "      <td>100.000000</td>\n",
       "    </tr>\n",
       "    <tr>\n",
       "      <th>...</th>\n",
       "      <td>...</td>\n",
       "      <td>...</td>\n",
       "      <td>...</td>\n",
       "      <td>...</td>\n",
       "      <td>...</td>\n",
       "      <td>...</td>\n",
       "      <td>...</td>\n",
       "      <td>...</td>\n",
       "    </tr>\n",
       "    <tr>\n",
       "      <th>ind_426</th>\n",
       "      <td>5126.0</td>\n",
       "      <td>0.496659</td>\n",
       "      <td>0.231322</td>\n",
       "      <td>0.000000</td>\n",
       "      <td>0.316777</td>\n",
       "      <td>0.494094</td>\n",
       "      <td>0.677657</td>\n",
       "      <td>1.000000</td>\n",
       "    </tr>\n",
       "    <tr>\n",
       "      <th>ind_428</th>\n",
       "      <td>5126.0</td>\n",
       "      <td>0.487013</td>\n",
       "      <td>0.151328</td>\n",
       "      <td>0.083530</td>\n",
       "      <td>0.373447</td>\n",
       "      <td>0.490489</td>\n",
       "      <td>0.600395</td>\n",
       "      <td>0.868534</td>\n",
       "    </tr>\n",
       "    <tr>\n",
       "      <th>20_target</th>\n",
       "      <td>5126.0</td>\n",
       "      <td>-0.022710</td>\n",
       "      <td>14.775880</td>\n",
       "      <td>-15.780588</td>\n",
       "      <td>-15.229653</td>\n",
       "      <td>0.000000</td>\n",
       "      <td>15.389812</td>\n",
       "      <td>15.768767</td>\n",
       "    </tr>\n",
       "    <tr>\n",
       "      <th>50_target</th>\n",
       "      <td>5126.0</td>\n",
       "      <td>-3.528451</td>\n",
       "      <td>34.294926</td>\n",
       "      <td>-37.142889</td>\n",
       "      <td>-36.096054</td>\n",
       "      <td>-34.282556</td>\n",
       "      <td>35.374015</td>\n",
       "      <td>37.038694</td>\n",
       "    </tr>\n",
       "    <tr>\n",
       "      <th>90_target</th>\n",
       "      <td>5126.0</td>\n",
       "      <td>-4.115568</td>\n",
       "      <td>36.654690</td>\n",
       "      <td>-38.573858</td>\n",
       "      <td>-37.615191</td>\n",
       "      <td>-35.809448</td>\n",
       "      <td>37.463791</td>\n",
       "      <td>38.465649</td>\n",
       "    </tr>\n",
       "  </tbody>\n",
       "</table>\n",
       "<p>135 rows × 8 columns</p>\n",
       "</div>"
      ],
      "text/plain": [
       "            count       mean        std         min        25%        50%  \\\n",
       "ind_5      5126.0  -1.251853  23.546553 -131.000000 -14.000000   0.000000   \n",
       "ind_6      5126.0  -1.240148  23.550694 -131.000000 -14.000000   0.000000   \n",
       "ind_8      5126.0  49.016220  36.340676    0.000000  14.285714  50.000000   \n",
       "ind_9      5126.0  48.042194  36.619184    0.000000  14.285714  42.857143   \n",
       "ind_10     5126.0   0.974026  60.375932 -100.000000 -50.000000   7.142857   \n",
       "...           ...        ...        ...         ...        ...        ...   \n",
       "ind_426    5126.0   0.496659   0.231322    0.000000   0.316777   0.494094   \n",
       "ind_428    5126.0   0.487013   0.151328    0.083530   0.373447   0.490489   \n",
       "20_target  5126.0  -0.022710  14.775880  -15.780588 -15.229653   0.000000   \n",
       "50_target  5126.0  -3.528451  34.294926  -37.142889 -36.096054 -34.282556   \n",
       "90_target  5126.0  -4.115568  36.654690  -38.573858 -37.615191 -35.809448   \n",
       "\n",
       "                 75%         max  \n",
       "ind_5      13.000000   69.000000  \n",
       "ind_6      13.000000   69.000000  \n",
       "ind_8      85.714286  100.000000  \n",
       "ind_9      85.714286  100.000000  \n",
       "ind_10     57.142857  100.000000  \n",
       "...              ...         ...  \n",
       "ind_426     0.677657    1.000000  \n",
       "ind_428     0.600395    0.868534  \n",
       "20_target  15.389812   15.768767  \n",
       "50_target  35.374015   37.038694  \n",
       "90_target  37.463791   38.465649  \n",
       "\n",
       "[135 rows x 8 columns]"
      ]
     },
     "execution_count": 10,
     "metadata": {},
     "output_type": "execute_result"
    }
   ],
   "source": [
    "info_data.summary_statistics()\n",
    "\n",
    "# Bazi degiskenlerin 0 ortalama ve sabit standart sapmalari varken bazilarinin ise bunun tersi oldugunu gorebiliyoruz"
   ]
  },
  {
   "cell_type": "code",
   "execution_count": 246,
   "metadata": {},
   "outputs": [
    {
     "data": {
      "text/plain": [
       "GREEN    2614\n",
       "RED      2512\n",
       "Name: ind_109, dtype: int64"
      ]
     },
     "execution_count": 246,
     "metadata": {},
     "output_type": "execute_result"
    }
   ],
   "source": [
    "df[\"ind_109\"].value_counts()\n",
    "\n",
    "# Tek kategorik degiskenimizin ise 2 adet sinifi bulunmakta"
   ]
  },
  {
   "cell_type": "code",
   "execution_count": 258,
   "metadata": {},
   "outputs": [
    {
     "data": {
      "text/html": [
       "<div>\n",
       "<style scoped>\n",
       "    .dataframe tbody tr th:only-of-type {\n",
       "        vertical-align: middle;\n",
       "    }\n",
       "\n",
       "    .dataframe tbody tr th {\n",
       "        vertical-align: top;\n",
       "    }\n",
       "\n",
       "    .dataframe thead th {\n",
       "        text-align: right;\n",
       "    }\n",
       "</style>\n",
       "<table border=\"1\" class=\"dataframe\">\n",
       "  <thead>\n",
       "    <tr style=\"text-align: right;\">\n",
       "      <th></th>\n",
       "      <th>ind_5</th>\n",
       "      <th>ind_6</th>\n",
       "      <th>ind_8</th>\n",
       "      <th>ind_9</th>\n",
       "      <th>ind_10</th>\n",
       "      <th>ind_12</th>\n",
       "      <th>ind_13</th>\n",
       "      <th>ind_14</th>\n",
       "      <th>ind_15</th>\n",
       "      <th>ind_16</th>\n",
       "      <th>...</th>\n",
       "      <th>ind_416</th>\n",
       "      <th>ind_418</th>\n",
       "      <th>ind_420</th>\n",
       "      <th>ind_422</th>\n",
       "      <th>ind_424</th>\n",
       "      <th>ind_426</th>\n",
       "      <th>ind_428</th>\n",
       "      <th>20_target</th>\n",
       "      <th>50_target</th>\n",
       "      <th>90_target</th>\n",
       "    </tr>\n",
       "  </thead>\n",
       "  <tbody>\n",
       "    <tr>\n",
       "      <th>ind_5</th>\n",
       "      <td>1.000000</td>\n",
       "      <td>0.990115</td>\n",
       "      <td>0.547483</td>\n",
       "      <td>-0.518832</td>\n",
       "      <td>0.644215</td>\n",
       "      <td>0.820822</td>\n",
       "      <td>0.777479</td>\n",
       "      <td>-0.045803</td>\n",
       "      <td>-0.067730</td>\n",
       "      <td>-0.092888</td>\n",
       "      <td>...</td>\n",
       "      <td>-0.324564</td>\n",
       "      <td>-0.587574</td>\n",
       "      <td>-0.317846</td>\n",
       "      <td>-0.329648</td>\n",
       "      <td>0.078010</td>\n",
       "      <td>0.621468</td>\n",
       "      <td>0.816156</td>\n",
       "      <td>0.052210</td>\n",
       "      <td>0.081537</td>\n",
       "      <td>0.073107</td>\n",
       "    </tr>\n",
       "    <tr>\n",
       "      <th>ind_6</th>\n",
       "      <td>0.990115</td>\n",
       "      <td>1.000000</td>\n",
       "      <td>0.521053</td>\n",
       "      <td>-0.479383</td>\n",
       "      <td>0.604380</td>\n",
       "      <td>0.767504</td>\n",
       "      <td>0.722541</td>\n",
       "      <td>-0.034480</td>\n",
       "      <td>-0.057776</td>\n",
       "      <td>-0.086007</td>\n",
       "      <td>...</td>\n",
       "      <td>-0.299246</td>\n",
       "      <td>-0.536726</td>\n",
       "      <td>-0.320019</td>\n",
       "      <td>-0.331171</td>\n",
       "      <td>0.023117</td>\n",
       "      <td>0.562515</td>\n",
       "      <td>0.809119</td>\n",
       "      <td>0.052347</td>\n",
       "      <td>0.081567</td>\n",
       "      <td>0.073585</td>\n",
       "    </tr>\n",
       "    <tr>\n",
       "      <th>ind_8</th>\n",
       "      <td>0.547483</td>\n",
       "      <td>0.521053</td>\n",
       "      <td>1.000000</td>\n",
       "      <td>-0.369578</td>\n",
       "      <td>0.826063</td>\n",
       "      <td>0.585052</td>\n",
       "      <td>0.480337</td>\n",
       "      <td>0.146128</td>\n",
       "      <td>0.119751</td>\n",
       "      <td>0.016810</td>\n",
       "      <td>...</td>\n",
       "      <td>-0.268403</td>\n",
       "      <td>-0.421079</td>\n",
       "      <td>-0.144740</td>\n",
       "      <td>-0.159317</td>\n",
       "      <td>0.142893</td>\n",
       "      <td>0.595508</td>\n",
       "      <td>0.458084</td>\n",
       "      <td>-0.016948</td>\n",
       "      <td>0.001962</td>\n",
       "      <td>-0.011621</td>\n",
       "    </tr>\n",
       "    <tr>\n",
       "      <th>ind_9</th>\n",
       "      <td>-0.518832</td>\n",
       "      <td>-0.479383</td>\n",
       "      <td>-0.369578</td>\n",
       "      <td>1.000000</td>\n",
       "      <td>-0.828971</td>\n",
       "      <td>-0.602616</td>\n",
       "      <td>-0.560931</td>\n",
       "      <td>0.260789</td>\n",
       "      <td>0.263371</td>\n",
       "      <td>0.172689</td>\n",
       "      <td>...</td>\n",
       "      <td>0.346778</td>\n",
       "      <td>0.504424</td>\n",
       "      <td>0.131142</td>\n",
       "      <td>0.160855</td>\n",
       "      <td>-0.180249</td>\n",
       "      <td>-0.639987</td>\n",
       "      <td>-0.439689</td>\n",
       "      <td>-0.023754</td>\n",
       "      <td>-0.005618</td>\n",
       "      <td>0.013177</td>\n",
       "    </tr>\n",
       "    <tr>\n",
       "      <th>ind_10</th>\n",
       "      <td>0.644215</td>\n",
       "      <td>0.604380</td>\n",
       "      <td>0.826063</td>\n",
       "      <td>-0.828971</td>\n",
       "      <td>1.000000</td>\n",
       "      <td>0.717645</td>\n",
       "      <td>0.629334</td>\n",
       "      <td>-0.070218</td>\n",
       "      <td>-0.087661</td>\n",
       "      <td>-0.094621</td>\n",
       "      <td>...</td>\n",
       "      <td>-0.371881</td>\n",
       "      <td>-0.559393</td>\n",
       "      <td>-0.166660</td>\n",
       "      <td>-0.193456</td>\n",
       "      <td>0.195333</td>\n",
       "      <td>0.746605</td>\n",
       "      <td>0.542404</td>\n",
       "      <td>0.004207</td>\n",
       "      <td>0.004588</td>\n",
       "      <td>-0.014987</td>\n",
       "    </tr>\n",
       "    <tr>\n",
       "      <th>...</th>\n",
       "      <td>...</td>\n",
       "      <td>...</td>\n",
       "      <td>...</td>\n",
       "      <td>...</td>\n",
       "      <td>...</td>\n",
       "      <td>...</td>\n",
       "      <td>...</td>\n",
       "      <td>...</td>\n",
       "      <td>...</td>\n",
       "      <td>...</td>\n",
       "      <td>...</td>\n",
       "      <td>...</td>\n",
       "      <td>...</td>\n",
       "      <td>...</td>\n",
       "      <td>...</td>\n",
       "      <td>...</td>\n",
       "      <td>...</td>\n",
       "      <td>...</td>\n",
       "      <td>...</td>\n",
       "      <td>...</td>\n",
       "      <td>...</td>\n",
       "    </tr>\n",
       "    <tr>\n",
       "      <th>ind_426</th>\n",
       "      <td>0.621468</td>\n",
       "      <td>0.562515</td>\n",
       "      <td>0.595508</td>\n",
       "      <td>-0.639987</td>\n",
       "      <td>0.746605</td>\n",
       "      <td>0.775348</td>\n",
       "      <td>0.699661</td>\n",
       "      <td>-0.095876</td>\n",
       "      <td>-0.100360</td>\n",
       "      <td>-0.087605</td>\n",
       "      <td>...</td>\n",
       "      <td>-0.370107</td>\n",
       "      <td>-0.583362</td>\n",
       "      <td>-0.170756</td>\n",
       "      <td>-0.204524</td>\n",
       "      <td>0.341137</td>\n",
       "      <td>1.000000</td>\n",
       "      <td>0.580932</td>\n",
       "      <td>0.023080</td>\n",
       "      <td>0.016545</td>\n",
       "      <td>0.003437</td>\n",
       "    </tr>\n",
       "    <tr>\n",
       "      <th>ind_428</th>\n",
       "      <td>0.816156</td>\n",
       "      <td>0.809119</td>\n",
       "      <td>0.458084</td>\n",
       "      <td>-0.439689</td>\n",
       "      <td>0.542404</td>\n",
       "      <td>0.808156</td>\n",
       "      <td>0.729684</td>\n",
       "      <td>-0.006137</td>\n",
       "      <td>-0.019001</td>\n",
       "      <td>-0.035110</td>\n",
       "      <td>...</td>\n",
       "      <td>-0.281079</td>\n",
       "      <td>-0.459643</td>\n",
       "      <td>-0.327875</td>\n",
       "      <td>-0.358164</td>\n",
       "      <td>0.189822</td>\n",
       "      <td>0.580932</td>\n",
       "      <td>1.000000</td>\n",
       "      <td>0.041987</td>\n",
       "      <td>0.068053</td>\n",
       "      <td>0.058844</td>\n",
       "    </tr>\n",
       "    <tr>\n",
       "      <th>20_target</th>\n",
       "      <td>0.052210</td>\n",
       "      <td>0.052347</td>\n",
       "      <td>-0.016948</td>\n",
       "      <td>-0.023754</td>\n",
       "      <td>0.004207</td>\n",
       "      <td>0.034990</td>\n",
       "      <td>0.041982</td>\n",
       "      <td>0.001557</td>\n",
       "      <td>0.001838</td>\n",
       "      <td>0.025399</td>\n",
       "      <td>...</td>\n",
       "      <td>-0.004466</td>\n",
       "      <td>-0.044326</td>\n",
       "      <td>-0.001936</td>\n",
       "      <td>-0.035405</td>\n",
       "      <td>0.002466</td>\n",
       "      <td>0.023080</td>\n",
       "      <td>0.041987</td>\n",
       "      <td>1.000000</td>\n",
       "      <td>0.372915</td>\n",
       "      <td>0.344982</td>\n",
       "    </tr>\n",
       "    <tr>\n",
       "      <th>50_target</th>\n",
       "      <td>0.081537</td>\n",
       "      <td>0.081567</td>\n",
       "      <td>0.001962</td>\n",
       "      <td>-0.005618</td>\n",
       "      <td>0.004588</td>\n",
       "      <td>0.065218</td>\n",
       "      <td>0.057671</td>\n",
       "      <td>0.075191</td>\n",
       "      <td>0.087573</td>\n",
       "      <td>0.107244</td>\n",
       "      <td>...</td>\n",
       "      <td>0.041196</td>\n",
       "      <td>-0.114093</td>\n",
       "      <td>-0.030940</td>\n",
       "      <td>0.003000</td>\n",
       "      <td>-0.001411</td>\n",
       "      <td>0.016545</td>\n",
       "      <td>0.068053</td>\n",
       "      <td>0.372915</td>\n",
       "      <td>1.000000</td>\n",
       "      <td>0.935970</td>\n",
       "    </tr>\n",
       "    <tr>\n",
       "      <th>90_target</th>\n",
       "      <td>0.073107</td>\n",
       "      <td>0.073585</td>\n",
       "      <td>-0.011621</td>\n",
       "      <td>0.013177</td>\n",
       "      <td>-0.014987</td>\n",
       "      <td>0.051887</td>\n",
       "      <td>0.048264</td>\n",
       "      <td>0.081735</td>\n",
       "      <td>0.090027</td>\n",
       "      <td>0.112978</td>\n",
       "      <td>...</td>\n",
       "      <td>0.041301</td>\n",
       "      <td>-0.108483</td>\n",
       "      <td>-0.024791</td>\n",
       "      <td>0.002561</td>\n",
       "      <td>-0.008374</td>\n",
       "      <td>0.003437</td>\n",
       "      <td>0.058844</td>\n",
       "      <td>0.344982</td>\n",
       "      <td>0.935970</td>\n",
       "      <td>1.000000</td>\n",
       "    </tr>\n",
       "  </tbody>\n",
       "</table>\n",
       "<p>135 rows × 135 columns</p>\n",
       "</div>"
      ],
      "text/plain": [
       "              ind_5     ind_6     ind_8     ind_9    ind_10    ind_12  \\\n",
       "ind_5      1.000000  0.990115  0.547483 -0.518832  0.644215  0.820822   \n",
       "ind_6      0.990115  1.000000  0.521053 -0.479383  0.604380  0.767504   \n",
       "ind_8      0.547483  0.521053  1.000000 -0.369578  0.826063  0.585052   \n",
       "ind_9     -0.518832 -0.479383 -0.369578  1.000000 -0.828971 -0.602616   \n",
       "ind_10     0.644215  0.604380  0.826063 -0.828971  1.000000  0.717645   \n",
       "...             ...       ...       ...       ...       ...       ...   \n",
       "ind_426    0.621468  0.562515  0.595508 -0.639987  0.746605  0.775348   \n",
       "ind_428    0.816156  0.809119  0.458084 -0.439689  0.542404  0.808156   \n",
       "20_target  0.052210  0.052347 -0.016948 -0.023754  0.004207  0.034990   \n",
       "50_target  0.081537  0.081567  0.001962 -0.005618  0.004588  0.065218   \n",
       "90_target  0.073107  0.073585 -0.011621  0.013177 -0.014987  0.051887   \n",
       "\n",
       "             ind_13    ind_14    ind_15    ind_16  ...   ind_416   ind_418  \\\n",
       "ind_5      0.777479 -0.045803 -0.067730 -0.092888  ... -0.324564 -0.587574   \n",
       "ind_6      0.722541 -0.034480 -0.057776 -0.086007  ... -0.299246 -0.536726   \n",
       "ind_8      0.480337  0.146128  0.119751  0.016810  ... -0.268403 -0.421079   \n",
       "ind_9     -0.560931  0.260789  0.263371  0.172689  ...  0.346778  0.504424   \n",
       "ind_10     0.629334 -0.070218 -0.087661 -0.094621  ... -0.371881 -0.559393   \n",
       "...             ...       ...       ...       ...  ...       ...       ...   \n",
       "ind_426    0.699661 -0.095876 -0.100360 -0.087605  ... -0.370107 -0.583362   \n",
       "ind_428    0.729684 -0.006137 -0.019001 -0.035110  ... -0.281079 -0.459643   \n",
       "20_target  0.041982  0.001557  0.001838  0.025399  ... -0.004466 -0.044326   \n",
       "50_target  0.057671  0.075191  0.087573  0.107244  ...  0.041196 -0.114093   \n",
       "90_target  0.048264  0.081735  0.090027  0.112978  ...  0.041301 -0.108483   \n",
       "\n",
       "            ind_420   ind_422   ind_424   ind_426   ind_428  20_target  \\\n",
       "ind_5     -0.317846 -0.329648  0.078010  0.621468  0.816156   0.052210   \n",
       "ind_6     -0.320019 -0.331171  0.023117  0.562515  0.809119   0.052347   \n",
       "ind_8     -0.144740 -0.159317  0.142893  0.595508  0.458084  -0.016948   \n",
       "ind_9      0.131142  0.160855 -0.180249 -0.639987 -0.439689  -0.023754   \n",
       "ind_10    -0.166660 -0.193456  0.195333  0.746605  0.542404   0.004207   \n",
       "...             ...       ...       ...       ...       ...        ...   \n",
       "ind_426   -0.170756 -0.204524  0.341137  1.000000  0.580932   0.023080   \n",
       "ind_428   -0.327875 -0.358164  0.189822  0.580932  1.000000   0.041987   \n",
       "20_target -0.001936 -0.035405  0.002466  0.023080  0.041987   1.000000   \n",
       "50_target -0.030940  0.003000 -0.001411  0.016545  0.068053   0.372915   \n",
       "90_target -0.024791  0.002561 -0.008374  0.003437  0.058844   0.344982   \n",
       "\n",
       "           50_target  90_target  \n",
       "ind_5       0.081537   0.073107  \n",
       "ind_6       0.081567   0.073585  \n",
       "ind_8       0.001962  -0.011621  \n",
       "ind_9      -0.005618   0.013177  \n",
       "ind_10      0.004588  -0.014987  \n",
       "...              ...        ...  \n",
       "ind_426     0.016545   0.003437  \n",
       "ind_428     0.068053   0.058844  \n",
       "20_target   0.372915   0.344982  \n",
       "50_target   1.000000   0.935970  \n",
       "90_target   0.935970   1.000000  \n",
       "\n",
       "[135 rows x 135 columns]"
      ]
     },
     "execution_count": 258,
     "metadata": {},
     "output_type": "execute_result"
    }
   ],
   "source": [
    "df.corr()"
   ]
  },
  {
   "cell_type": "markdown",
   "metadata": {},
   "source": [
    "* Degiskenler arasinda korelasyonu gorebiliyoruz bazilari yok denecek kadar iken bazilari ise yuksek derece iliskili gozukmekte"
   ]
  },
  {
   "cell_type": "code",
   "execution_count": null,
   "metadata": {},
   "outputs": [],
   "source": []
  },
  {
   "cell_type": "markdown",
   "metadata": {},
   "source": [
    "## Simdi gorsellestirmeye gecebiliriz\n"
   ]
  },
  {
   "cell_type": "code",
   "execution_count": 12,
   "metadata": {},
   "outputs": [],
   "source": [
    "data_visualation = cl.Visualization(df)"
   ]
  },
  {
   "cell_type": "code",
   "execution_count": 13,
   "metadata": {},
   "outputs": [
    {
     "data": {
      "text/plain": [
       "<matplotlib.axes._subplots.AxesSubplot at 0x268323223c8>"
      ]
     },
     "execution_count": 13,
     "metadata": {},
     "output_type": "execute_result"
    },
    {
     "data": {
      "image/png": "[encoded data removed]",
      "text/plain": [
       "<Figure size 432x288 with 1 Axes>"
      ]
     },
     "metadata": {
      "needs_background": "light"
     },
     "output_type": "display_data"
    }
   ],
   "source": [
    "data_visualation.boxplot(\"90_target\")"
   ]
  },
  {
   "cell_type": "markdown",
   "metadata": {},
   "source": [
    "* 3.target degiskenimiz hicbir outlier icermez iken ayni zamanda sagdan carpik oldugu gorulmekte"
   ]
  },
  {
   "cell_type": "code",
   "execution_count": 263,
   "metadata": {},
   "outputs": [
    {
     "data": {
      "text/plain": [
       "<matplotlib.axes._subplots.AxesSubplot at 0x1bdced0f4c8>"
      ]
     },
     "execution_count": 263,
     "metadata": {},
     "output_type": "execute_result"
    },
    {
     "data": {
      "image/png": "[encoded data removed]",
      "text/plain": [
       "<Figure size 432x288 with 1 Axes>"
      ]
     },
     "metadata": {
      "needs_background": "light"
     },
     "output_type": "display_data"
    }
   ],
   "source": [
    "data_visualation.boxplot(\"50_target\")"
   ]
  },
  {
   "cell_type": "markdown",
   "metadata": {},
   "source": [
    "* 2.Target degisken de ayni sekilde 3.den farksiz oldugunu soyeleyebiliriz"
   ]
  },
  {
   "cell_type": "code",
   "execution_count": 264,
   "metadata": {},
   "outputs": [
    {
     "data": {
      "text/plain": [
       "<matplotlib.axes._subplots.AxesSubplot at 0x1bdcedc8908>"
      ]
     },
     "execution_count": 264,
     "metadata": {},
     "output_type": "execute_result"
    },
    {
     "data": {
      "image/png": "[encoded data removed]",
      "text/plain": [
       "<Figure size 432x288 with 1 Axes>"
      ]
     },
     "metadata": {
      "needs_background": "light"
     },
     "output_type": "display_data"
    }
   ],
   "source": [
    "data_visualation.boxplot(\"20_target\")"
   ]
  },
  {
   "cell_type": "markdown",
   "metadata": {},
   "source": [
    "* 1.Target degiskenimiz onlardan biraz daha farkli olarak ortalama 0 cevresinde ve sabit bir varyansi var gibi gorunuyor"
   ]
  },
  {
   "cell_type": "code",
   "execution_count": 265,
   "metadata": {},
   "outputs": [
    {
     "data": {
      "text/plain": [
       "<matplotlib.axes._subplots.AxesSubplot at 0x1bdcee3f2c8>"
      ]
     },
     "execution_count": 265,
     "metadata": {},
     "output_type": "execute_result"
    },
    {
     "data": {
      "image/png": "[encoded data removed]",
      "text/plain": [
       "<Figure size 576x432 with 1 Axes>"
      ]
     },
     "metadata": {
      "needs_background": "light"
     },
     "output_type": "display_data"
    }
   ],
   "source": [
    "data_visualation.hist(\"20_target\")"
   ]
  },
  {
   "cell_type": "code",
   "execution_count": 266,
   "metadata": {},
   "outputs": [
    {
     "data": {
      "text/plain": [
       "<matplotlib.axes._subplots.AxesSubplot at 0x1bdcf2cb388>"
      ]
     },
     "execution_count": 266,
     "metadata": {},
     "output_type": "execute_result"
    },
    {
     "data": {
      "image/png": "[encoded data removed]",
      "text/plain": [
       "<Figure size 576x432 with 1 Axes>"
      ]
     },
     "metadata": {
      "needs_background": "light"
     },
     "output_type": "display_data"
    }
   ],
   "source": [
    "data_visualation.hist(\"50_target\")"
   ]
  },
  {
   "cell_type": "code",
   "execution_count": 267,
   "metadata": {},
   "outputs": [
    {
     "data": {
      "text/plain": [
       "<matplotlib.axes._subplots.AxesSubplot at 0x1bdcf5f8788>"
      ]
     },
     "execution_count": 267,
     "metadata": {},
     "output_type": "execute_result"
    },
    {
     "data": {
      "image/png": "[encoded data removed]",
      "text/plain": [
       "<Figure size 576x432 with 1 Axes>"
      ]
     },
     "metadata": {
      "needs_background": "light"
     },
     "output_type": "display_data"
    }
   ],
   "source": [
    "data_visualation.hist(\"90_target\")"
   ]
  },
  {
   "cell_type": "markdown",
   "metadata": {},
   "source": [
    "* 3 tane target degisken de normal dagilmadigini 2 tepelenme oldugunu goruyoruz"
   ]
  },
  {
   "cell_type": "code",
   "execution_count": 270,
   "metadata": {},
   "outputs": [
    {
     "data": {
      "text/plain": [
       "<matplotlib.axes._subplots.AxesSubplot at 0x1bdcfa2ec08>"
      ]
     },
     "execution_count": 270,
     "metadata": {},
     "output_type": "execute_result"
    },
    {
     "data": {
      "image/png": "[encoded data removed]",
      "text/plain": [
       "<Figure size 432x288 with 1 Axes>"
      ]
     },
     "metadata": {
      "needs_background": "light"
     },
     "output_type": "display_data"
    }
   ],
   "source": [
    "data_visualation.scatter(\"ind_6\",\"ind_5\")"
   ]
  },
  {
   "cell_type": "markdown",
   "metadata": {},
   "source": [
    "* Buradaki degiskenimiz de pozitif yonde yuksek bir korelasyon gozukmekte bunlari beraber bagimsiz degisken olarak koymak bizim icin coklu dogrusal baglantiya sebebiyet verecektir"
   ]
  },
  {
   "cell_type": "code",
   "execution_count": 279,
   "metadata": {},
   "outputs": [
    {
     "data": {
      "text/plain": [
       "<matplotlib.axes._subplots.AxesSubplot at 0x1bdd0d9d608>"
      ]
     },
     "execution_count": 279,
     "metadata": {},
     "output_type": "execute_result"
    },
    {
     "data": {
      "image/png": "[encoded data removed]",
      "text/plain": [
       "<Figure size 432x288 with 1 Axes>"
      ]
     },
     "metadata": {
      "needs_background": "light"
     },
     "output_type": "display_data"
    }
   ],
   "source": [
    "data_visualation.scatter(\"ind_9\",\"ind_5\")"
   ]
  },
  {
   "cell_type": "markdown",
   "metadata": {},
   "source": [
    "* Mesela burada da eksi yonlu bir iliski var bu da bizim icin bir bilgi demektir"
   ]
  },
  {
   "cell_type": "code",
   "execution_count": null,
   "metadata": {},
   "outputs": [],
   "source": []
  },
  {
   "cell_type": "code",
   "execution_count": null,
   "metadata": {},
   "outputs": [],
   "source": []
  },
  {
   "cell_type": "markdown",
   "metadata": {},
   "source": [
    "* Simdi verilerden normal dagilanlar var mi onlara bakalim"
   ]
  },
  {
   "cell_type": "code",
   "execution_count": 4,
   "metadata": {},
   "outputs": [],
   "source": [
    "df = df.select_dtypes(include=[\"float64\",\"int64\"])\n",
    "normal_dist = cl.statistic(df)"
   ]
  },
  {
   "cell_type": "code",
   "execution_count": 5,
   "metadata": {},
   "outputs": [
    {
     "name": "stdout",
     "output_type": "stream",
     "text": [
      "Normal dagilimdan gelenler:  [] \n",
      "Normal dagilimdan gelmeyenler: \n",
      " ['ind_5', 'ind_6', 'ind_8', 'ind_9', 'ind_10', 'ind_12', 'ind_13', 'ind_14', 'ind_15', 'ind_16', 'ind_17', 'ind_18', 'ind_19', 'ind_20', 'ind_21', 'ind_22', 'ind_23', 'ind_25', 'ind_26', 'ind_27', 'ind_28', 'ind_29', 'ind_30', 'ind_31', 'ind_32', 'ind_33', 'ind_34', 'ind_35', 'ind_36', 'ind_37', 'ind_39', 'ind_40', 'ind_41', 'ind_42', 'ind_43', 'ind_44', 'ind_45', 'ind_46', 'ind_47', 'ind_48', 'ind_49', 'ind_50', 'ind_51', 'ind_52', 'ind_53', 'ind_56', 'ind_58', 'ind_61', 'ind_62', 'ind_65', 'ind_67', 'ind_70', 'ind_71', 'ind_74', 'ind_77', 'ind_82', 'ind_83', 'ind_88', 'ind_92', 'ind_102', 'ind_116', 'ind_118', 'ind_122', 'ind_124', 'ind_128', 'ind_130', 'ind_132', 'ind_134', 'ind_136', 'ind_139', 'ind_142', 'ind_145', 'ind_147', 'ind_150', 'ind_153', 'ind_156', 'ind_164', 'ind_168', 'ind_172', 'ind_176', 'ind_179', 'ind_181', 'ind_188', 'ind_194', 'ind_212', 'ind_217', 'ind_225', 'ind_228', 'ind_234', 'ind_237', 'ind_239', 'ind_241', 'ind_243', 'ind_309', 'ind_310', 'ind_311', 'ind_313', 'ind_315', 'ind_316', 'ind_318', 'ind_321', 'ind_324', 'ind_327', 'ind_330', 'ind_332', 'ind_334', 'ind_338', 'ind_340', 'ind_344', 'ind_345', 'ind_347', 'ind_349', 'ind_351', 'ind_352', 'ind_387', 'ind_392', 'ind_397', 'ind_399', 'ind_403', 'ind_404', 'ind_406', 'ind_407', 'ind_410', 'ind_412', 'ind_414', 'ind_416', 'ind_418', 'ind_424', 'ind_426', 'ind_428', '20_target', '50_target', '90_target']\n"
     ]
    }
   ],
   "source": [
    "normal_dist.normal()"
   ]
  },
  {
   "cell_type": "markdown",
   "metadata": {},
   "source": [
    "* Elimizdeki hicbir degiskenin normal dagilmadigini goruyoruz"
   ]
  },
  {
   "cell_type": "code",
   "execution_count": null,
   "metadata": {},
   "outputs": [],
   "source": []
  },
  {
   "cell_type": "markdown",
   "metadata": {},
   "source": [
    "## Target degiskeni 50_target olarak belirleyelim ve onun uzerinden PCA uygulamaya bakalim\n",
    "## Veri seti icerisinde bazi yerler ? isareti ile doldurulmus yani eksik veri var simdi onu doldurmadan yada silmeden once yapisalligina bakalim\n",
    "## Onceki islemler de bunlari dusurmustuk simdi ortalama ile dolduracagiz"
   ]
  },
  {
   "cell_type": "code",
   "execution_count": 15,
   "metadata": {},
   "outputs": [],
   "source": [
    "df = pd.read_excel(r\"C:\\Users\\LENOVO\\Desktop\\KodluyoruzBootcamp\\Ödevler Ve Çalışmalar\\HW_Data_Set.xlsx\") \n",
    "df1 = df.copy()\n",
    "viz = cl.Visualization(df1)"
   ]
  },
  {
   "cell_type": "code",
   "execution_count": 16,
   "metadata": {},
   "outputs": [
    {
     "data": {
      "text/plain": [
       "<matplotlib.axes._subplots.AxesSubplot at 0x1d6ee269788>"
      ]
     },
     "execution_count": 16,
     "metadata": {},
     "output_type": "execute_result"
    },
    {
     "data": {
      "image/png": "[encoded data removed]",
      "text/plain": [
       "<Figure size 1440x864 with 2 Axes>"
      ]
     },
     "metadata": {
      "needs_background": "light"
     },
     "output_type": "display_data"
    }
   ],
   "source": [
    "viz.missingvalues_heat_map()"
   ]
  },
  {
   "cell_type": "markdown",
   "metadata": {},
   "source": [
    "* Herhangi bir yapisal sikinti gozukmuyor bu durumda doldurma atama islemi yapabiliriz."
   ]
  },
  {
   "cell_type": "code",
   "execution_count": 44,
   "metadata": {},
   "outputs": [],
   "source": [
    "result = cl.Methods()"
   ]
  },
  {
   "cell_type": "code",
   "execution_count": 32,
   "metadata": {},
   "outputs": [],
   "source": [
    "# Hedef target 50 aliyoruz\n",
    "\n",
    "df_y = df1.drop(labels=[\"20_target\",\"90_target\"],axis=1)"
   ]
  },
  {
   "cell_type": "code",
   "execution_count": 33,
   "metadata": {},
   "outputs": [
    {
     "data": {
      "text/plain": [
       "(6167, 134)"
      ]
     },
     "execution_count": 33,
     "metadata": {},
     "output_type": "execute_result"
    }
   ],
   "source": [
    "df_y.shape"
   ]
  },
  {
   "cell_type": "code",
   "execution_count": 34,
   "metadata": {},
   "outputs": [],
   "source": [
    "import numpy as np\n",
    "\n",
    "df_y.loc[df_y[df_y[\"ind_420\"] == \"?\"].index] = np.nan \n",
    "\n",
    "\n",
    "\n",
    "# \"?\" seklinde olan indexleri silmek yerine oralara NaN degerleri bastik ve simdi onlara ortalama deger atama imkanımız var \n",
    "# Sutunlara gore ortalamayi atayalim ve sonuclara bakalim\n"
   ]
  },
  {
   "cell_type": "code",
   "execution_count": 109,
   "metadata": {},
   "outputs": [
    {
     "data": {
      "text/html": [
       "<div>\n",
       "<style scoped>\n",
       "    .dataframe tbody tr th:only-of-type {\n",
       "        vertical-align: middle;\n",
       "    }\n",
       "\n",
       "    .dataframe tbody tr th {\n",
       "        vertical-align: top;\n",
       "    }\n",
       "\n",
       "    .dataframe thead th {\n",
       "        text-align: right;\n",
       "    }\n",
       "</style>\n",
       "<table border=\"1\" class=\"dataframe\">\n",
       "  <thead>\n",
       "    <tr style=\"text-align: right;\">\n",
       "      <th></th>\n",
       "      <th>count</th>\n",
       "      <th>mean</th>\n",
       "      <th>std</th>\n",
       "      <th>min</th>\n",
       "      <th>25%</th>\n",
       "      <th>50%</th>\n",
       "      <th>75%</th>\n",
       "      <th>max</th>\n",
       "    </tr>\n",
       "  </thead>\n",
       "  <tbody>\n",
       "    <tr>\n",
       "      <th>ind_67</th>\n",
       "      <td>5126.0</td>\n",
       "      <td>0.172844</td>\n",
       "      <td>2.549370</td>\n",
       "      <td>-8.000000</td>\n",
       "      <td>-1.000000</td>\n",
       "      <td>0.000000</td>\n",
       "      <td>2.000000</td>\n",
       "      <td>13.000000</td>\n",
       "    </tr>\n",
       "    <tr>\n",
       "      <th>ind_70</th>\n",
       "      <td>5126.0</td>\n",
       "      <td>0.171089</td>\n",
       "      <td>2.104256</td>\n",
       "      <td>-7.000000</td>\n",
       "      <td>-1.000000</td>\n",
       "      <td>0.000000</td>\n",
       "      <td>1.000000</td>\n",
       "      <td>10.000000</td>\n",
       "    </tr>\n",
       "    <tr>\n",
       "      <th>ind_71</th>\n",
       "      <td>5126.0</td>\n",
       "      <td>-0.776434</td>\n",
       "      <td>11.539724</td>\n",
       "      <td>-25.000000</td>\n",
       "      <td>-11.000000</td>\n",
       "      <td>-8.000000</td>\n",
       "      <td>11.000000</td>\n",
       "      <td>24.000000</td>\n",
       "    </tr>\n",
       "    <tr>\n",
       "      <th>ind_74</th>\n",
       "      <td>5126.0</td>\n",
       "      <td>-1.063792</td>\n",
       "      <td>11.496698</td>\n",
       "      <td>-22.000000</td>\n",
       "      <td>-11.000000</td>\n",
       "      <td>-9.000000</td>\n",
       "      <td>11.000000</td>\n",
       "      <td>23.000000</td>\n",
       "    </tr>\n",
       "    <tr>\n",
       "      <th>ind_77</th>\n",
       "      <td>5126.0</td>\n",
       "      <td>-1.369489</td>\n",
       "      <td>11.450374</td>\n",
       "      <td>-21.000000</td>\n",
       "      <td>-11.000000</td>\n",
       "      <td>-9.000000</td>\n",
       "      <td>11.000000</td>\n",
       "      <td>21.000000</td>\n",
       "    </tr>\n",
       "    <tr>\n",
       "      <th>...</th>\n",
       "      <td>...</td>\n",
       "      <td>...</td>\n",
       "      <td>...</td>\n",
       "      <td>...</td>\n",
       "      <td>...</td>\n",
       "      <td>...</td>\n",
       "      <td>...</td>\n",
       "      <td>...</td>\n",
       "    </tr>\n",
       "    <tr>\n",
       "      <th>ind_418</th>\n",
       "      <td>5126.0</td>\n",
       "      <td>-27.631291</td>\n",
       "      <td>22.660055</td>\n",
       "      <td>-188.000000</td>\n",
       "      <td>-38.000000</td>\n",
       "      <td>-22.000000</td>\n",
       "      <td>-11.000000</td>\n",
       "      <td>0.000000</td>\n",
       "    </tr>\n",
       "    <tr>\n",
       "      <th>ind_424</th>\n",
       "      <td>5126.0</td>\n",
       "      <td>0.488696</td>\n",
       "      <td>0.425102</td>\n",
       "      <td>0.000000</td>\n",
       "      <td>0.000000</td>\n",
       "      <td>0.472798</td>\n",
       "      <td>1.000000</td>\n",
       "      <td>1.000000</td>\n",
       "    </tr>\n",
       "    <tr>\n",
       "      <th>ind_426</th>\n",
       "      <td>5126.0</td>\n",
       "      <td>0.496659</td>\n",
       "      <td>0.231322</td>\n",
       "      <td>0.000000</td>\n",
       "      <td>0.316777</td>\n",
       "      <td>0.494094</td>\n",
       "      <td>0.677657</td>\n",
       "      <td>1.000000</td>\n",
       "    </tr>\n",
       "    <tr>\n",
       "      <th>ind_428</th>\n",
       "      <td>5126.0</td>\n",
       "      <td>0.487013</td>\n",
       "      <td>0.151328</td>\n",
       "      <td>0.083530</td>\n",
       "      <td>0.373447</td>\n",
       "      <td>0.490489</td>\n",
       "      <td>0.600395</td>\n",
       "      <td>0.868534</td>\n",
       "    </tr>\n",
       "    <tr>\n",
       "      <th>50_target</th>\n",
       "      <td>5126.0</td>\n",
       "      <td>-3.528451</td>\n",
       "      <td>34.294926</td>\n",
       "      <td>-37.142889</td>\n",
       "      <td>-36.096054</td>\n",
       "      <td>-34.282556</td>\n",
       "      <td>35.374015</td>\n",
       "      <td>37.038694</td>\n",
       "    </tr>\n",
       "  </tbody>\n",
       "</table>\n",
       "<p>81 rows × 8 columns</p>\n",
       "</div>"
      ],
      "text/plain": [
       "            count       mean        std         min        25%        50%  \\\n",
       "ind_67     5126.0   0.172844   2.549370   -8.000000  -1.000000   0.000000   \n",
       "ind_70     5126.0   0.171089   2.104256   -7.000000  -1.000000   0.000000   \n",
       "ind_71     5126.0  -0.776434  11.539724  -25.000000 -11.000000  -8.000000   \n",
       "ind_74     5126.0  -1.063792  11.496698  -22.000000 -11.000000  -9.000000   \n",
       "ind_77     5126.0  -1.369489  11.450374  -21.000000 -11.000000  -9.000000   \n",
       "...           ...        ...        ...         ...        ...        ...   \n",
       "ind_418    5126.0 -27.631291  22.660055 -188.000000 -38.000000 -22.000000   \n",
       "ind_424    5126.0   0.488696   0.425102    0.000000   0.000000   0.472798   \n",
       "ind_426    5126.0   0.496659   0.231322    0.000000   0.316777   0.494094   \n",
       "ind_428    5126.0   0.487013   0.151328    0.083530   0.373447   0.490489   \n",
       "50_target  5126.0  -3.528451  34.294926  -37.142889 -36.096054 -34.282556   \n",
       "\n",
       "                 75%        max  \n",
       "ind_67      2.000000  13.000000  \n",
       "ind_70      1.000000  10.000000  \n",
       "ind_71     11.000000  24.000000  \n",
       "ind_74     11.000000  23.000000  \n",
       "ind_77     11.000000  21.000000  \n",
       "...              ...        ...  \n",
       "ind_418   -11.000000   0.000000  \n",
       "ind_424     1.000000   1.000000  \n",
       "ind_426     0.677657   1.000000  \n",
       "ind_428     0.600395   0.868534  \n",
       "50_target  35.374015  37.038694  \n",
       "\n",
       "[81 rows x 8 columns]"
      ]
     },
     "execution_count": 109,
     "metadata": {},
     "output_type": "execute_result"
    }
   ],
   "source": [
    "df_y.describe().T"
   ]
  },
  {
   "cell_type": "code",
   "execution_count": 110,
   "metadata": {},
   "outputs": [
    {
     "data": {
      "text/html": [
       "<div>\n",
       "<style scoped>\n",
       "    .dataframe tbody tr th:only-of-type {\n",
       "        vertical-align: middle;\n",
       "    }\n",
       "\n",
       "    .dataframe tbody tr th {\n",
       "        vertical-align: top;\n",
       "    }\n",
       "\n",
       "    .dataframe thead th {\n",
       "        text-align: right;\n",
       "    }\n",
       "</style>\n",
       "<table border=\"1\" class=\"dataframe\">\n",
       "  <thead>\n",
       "    <tr style=\"text-align: right;\">\n",
       "      <th></th>\n",
       "      <th>ind_67</th>\n",
       "      <th>ind_70</th>\n",
       "      <th>ind_71</th>\n",
       "      <th>ind_74</th>\n",
       "      <th>ind_77</th>\n",
       "      <th>ind_82</th>\n",
       "      <th>ind_83</th>\n",
       "      <th>ind_88</th>\n",
       "      <th>ind_92</th>\n",
       "      <th>ind_102</th>\n",
       "      <th>...</th>\n",
       "      <th>ind_407</th>\n",
       "      <th>ind_410</th>\n",
       "      <th>ind_412</th>\n",
       "      <th>ind_414</th>\n",
       "      <th>ind_416</th>\n",
       "      <th>ind_418</th>\n",
       "      <th>ind_424</th>\n",
       "      <th>ind_426</th>\n",
       "      <th>ind_428</th>\n",
       "      <th>50_target</th>\n",
       "    </tr>\n",
       "  </thead>\n",
       "  <tbody>\n",
       "    <tr>\n",
       "      <th>ind_67</th>\n",
       "      <td>1.000000</td>\n",
       "      <td>0.964544</td>\n",
       "      <td>-0.788201</td>\n",
       "      <td>-0.743813</td>\n",
       "      <td>-0.705321</td>\n",
       "      <td>0.627600</td>\n",
       "      <td>-0.490495</td>\n",
       "      <td>-0.006709</td>\n",
       "      <td>-0.262362</td>\n",
       "      <td>-0.946572</td>\n",
       "      <td>...</td>\n",
       "      <td>0.198941</td>\n",
       "      <td>0.486924</td>\n",
       "      <td>-0.603482</td>\n",
       "      <td>0.702959</td>\n",
       "      <td>0.349385</td>\n",
       "      <td>0.612940</td>\n",
       "      <td>-0.142899</td>\n",
       "      <td>-0.647064</td>\n",
       "      <td>-0.834165</td>\n",
       "      <td>-0.081650</td>\n",
       "    </tr>\n",
       "    <tr>\n",
       "      <th>ind_70</th>\n",
       "      <td>0.964544</td>\n",
       "      <td>1.000000</td>\n",
       "      <td>-0.809343</td>\n",
       "      <td>-0.796095</td>\n",
       "      <td>-0.774251</td>\n",
       "      <td>0.721719</td>\n",
       "      <td>-0.585846</td>\n",
       "      <td>-0.016413</td>\n",
       "      <td>-0.213233</td>\n",
       "      <td>-0.895239</td>\n",
       "      <td>...</td>\n",
       "      <td>0.158290</td>\n",
       "      <td>0.402791</td>\n",
       "      <td>-0.590957</td>\n",
       "      <td>0.622478</td>\n",
       "      <td>0.333458</td>\n",
       "      <td>0.549805</td>\n",
       "      <td>-0.119631</td>\n",
       "      <td>-0.574392</td>\n",
       "      <td>-0.826493</td>\n",
       "      <td>-0.075887</td>\n",
       "    </tr>\n",
       "    <tr>\n",
       "      <th>ind_71</th>\n",
       "      <td>-0.788201</td>\n",
       "      <td>-0.809343</td>\n",
       "      <td>1.000000</td>\n",
       "      <td>0.907418</td>\n",
       "      <td>0.834749</td>\n",
       "      <td>-0.622256</td>\n",
       "      <td>0.552209</td>\n",
       "      <td>0.002071</td>\n",
       "      <td>0.177466</td>\n",
       "      <td>0.721636</td>\n",
       "      <td>...</td>\n",
       "      <td>-0.133636</td>\n",
       "      <td>-0.330021</td>\n",
       "      <td>0.501270</td>\n",
       "      <td>-0.471239</td>\n",
       "      <td>-0.313059</td>\n",
       "      <td>-0.460769</td>\n",
       "      <td>0.095498</td>\n",
       "      <td>0.509330</td>\n",
       "      <td>0.720357</td>\n",
       "      <td>0.093400</td>\n",
       "    </tr>\n",
       "    <tr>\n",
       "      <th>ind_74</th>\n",
       "      <td>-0.743813</td>\n",
       "      <td>-0.796095</td>\n",
       "      <td>0.907418</td>\n",
       "      <td>1.000000</td>\n",
       "      <td>0.939562</td>\n",
       "      <td>-0.678695</td>\n",
       "      <td>0.652111</td>\n",
       "      <td>-0.002648</td>\n",
       "      <td>0.150461</td>\n",
       "      <td>0.665503</td>\n",
       "      <td>...</td>\n",
       "      <td>-0.112626</td>\n",
       "      <td>-0.269083</td>\n",
       "      <td>0.465480</td>\n",
       "      <td>-0.399185</td>\n",
       "      <td>-0.291356</td>\n",
       "      <td>-0.416069</td>\n",
       "      <td>0.092070</td>\n",
       "      <td>0.447927</td>\n",
       "      <td>0.688238</td>\n",
       "      <td>0.104423</td>\n",
       "    </tr>\n",
       "    <tr>\n",
       "      <th>ind_77</th>\n",
       "      <td>-0.705321</td>\n",
       "      <td>-0.774251</td>\n",
       "      <td>0.834749</td>\n",
       "      <td>0.939562</td>\n",
       "      <td>1.000000</td>\n",
       "      <td>-0.722839</td>\n",
       "      <td>0.717147</td>\n",
       "      <td>-0.006119</td>\n",
       "      <td>0.140619</td>\n",
       "      <td>0.621513</td>\n",
       "      <td>...</td>\n",
       "      <td>-0.106016</td>\n",
       "      <td>-0.243695</td>\n",
       "      <td>0.422127</td>\n",
       "      <td>-0.352252</td>\n",
       "      <td>-0.276627</td>\n",
       "      <td>-0.393054</td>\n",
       "      <td>0.090439</td>\n",
       "      <td>0.409061</td>\n",
       "      <td>0.652118</td>\n",
       "      <td>0.121269</td>\n",
       "    </tr>\n",
       "    <tr>\n",
       "      <th>...</th>\n",
       "      <td>...</td>\n",
       "      <td>...</td>\n",
       "      <td>...</td>\n",
       "      <td>...</td>\n",
       "      <td>...</td>\n",
       "      <td>...</td>\n",
       "      <td>...</td>\n",
       "      <td>...</td>\n",
       "      <td>...</td>\n",
       "      <td>...</td>\n",
       "      <td>...</td>\n",
       "      <td>...</td>\n",
       "      <td>...</td>\n",
       "      <td>...</td>\n",
       "      <td>...</td>\n",
       "      <td>...</td>\n",
       "      <td>...</td>\n",
       "      <td>...</td>\n",
       "      <td>...</td>\n",
       "      <td>...</td>\n",
       "      <td>...</td>\n",
       "    </tr>\n",
       "    <tr>\n",
       "      <th>ind_418</th>\n",
       "      <td>0.612940</td>\n",
       "      <td>0.549805</td>\n",
       "      <td>-0.460769</td>\n",
       "      <td>-0.416069</td>\n",
       "      <td>-0.393054</td>\n",
       "      <td>0.306477</td>\n",
       "      <td>-0.241067</td>\n",
       "      <td>0.071342</td>\n",
       "      <td>-0.488338</td>\n",
       "      <td>-0.673055</td>\n",
       "      <td>...</td>\n",
       "      <td>0.454358</td>\n",
       "      <td>0.604764</td>\n",
       "      <td>-0.317183</td>\n",
       "      <td>0.342659</td>\n",
       "      <td>0.400248</td>\n",
       "      <td>1.000000</td>\n",
       "      <td>-0.294485</td>\n",
       "      <td>-0.583362</td>\n",
       "      <td>-0.459643</td>\n",
       "      <td>-0.114093</td>\n",
       "    </tr>\n",
       "    <tr>\n",
       "      <th>ind_424</th>\n",
       "      <td>-0.142899</td>\n",
       "      <td>-0.119631</td>\n",
       "      <td>0.095498</td>\n",
       "      <td>0.092070</td>\n",
       "      <td>0.090439</td>\n",
       "      <td>-0.063597</td>\n",
       "      <td>0.059582</td>\n",
       "      <td>-0.021013</td>\n",
       "      <td>0.609761</td>\n",
       "      <td>0.274886</td>\n",
       "      <td>...</td>\n",
       "      <td>-0.616643</td>\n",
       "      <td>-0.512873</td>\n",
       "      <td>0.029070</td>\n",
       "      <td>-0.265014</td>\n",
       "      <td>-0.133653</td>\n",
       "      <td>-0.294485</td>\n",
       "      <td>1.000000</td>\n",
       "      <td>0.341137</td>\n",
       "      <td>0.189822</td>\n",
       "      <td>-0.001411</td>\n",
       "    </tr>\n",
       "    <tr>\n",
       "      <th>ind_426</th>\n",
       "      <td>-0.647064</td>\n",
       "      <td>-0.574392</td>\n",
       "      <td>0.509330</td>\n",
       "      <td>0.447927</td>\n",
       "      <td>0.409061</td>\n",
       "      <td>-0.321112</td>\n",
       "      <td>0.264518</td>\n",
       "      <td>-0.033306</td>\n",
       "      <td>0.419819</td>\n",
       "      <td>0.670173</td>\n",
       "      <td>...</td>\n",
       "      <td>-0.359920</td>\n",
       "      <td>-0.639368</td>\n",
       "      <td>0.286172</td>\n",
       "      <td>-0.574290</td>\n",
       "      <td>-0.370107</td>\n",
       "      <td>-0.583362</td>\n",
       "      <td>0.341137</td>\n",
       "      <td>1.000000</td>\n",
       "      <td>0.580932</td>\n",
       "      <td>0.016545</td>\n",
       "    </tr>\n",
       "    <tr>\n",
       "      <th>ind_428</th>\n",
       "      <td>-0.834165</td>\n",
       "      <td>-0.826493</td>\n",
       "      <td>0.720357</td>\n",
       "      <td>0.688238</td>\n",
       "      <td>0.652118</td>\n",
       "      <td>-0.539293</td>\n",
       "      <td>0.441758</td>\n",
       "      <td>0.016626</td>\n",
       "      <td>0.274304</td>\n",
       "      <td>0.838726</td>\n",
       "      <td>...</td>\n",
       "      <td>-0.230384</td>\n",
       "      <td>-0.391711</td>\n",
       "      <td>0.576218</td>\n",
       "      <td>-0.529115</td>\n",
       "      <td>-0.281079</td>\n",
       "      <td>-0.459643</td>\n",
       "      <td>0.189822</td>\n",
       "      <td>0.580932</td>\n",
       "      <td>1.000000</td>\n",
       "      <td>0.068053</td>\n",
       "    </tr>\n",
       "    <tr>\n",
       "      <th>50_target</th>\n",
       "      <td>-0.081650</td>\n",
       "      <td>-0.075887</td>\n",
       "      <td>0.093400</td>\n",
       "      <td>0.104423</td>\n",
       "      <td>0.121269</td>\n",
       "      <td>-0.012678</td>\n",
       "      <td>0.060088</td>\n",
       "      <td>0.000673</td>\n",
       "      <td>0.023231</td>\n",
       "      <td>0.080318</td>\n",
       "      <td>...</td>\n",
       "      <td>-0.016981</td>\n",
       "      <td>-0.035525</td>\n",
       "      <td>0.135387</td>\n",
       "      <td>-0.012127</td>\n",
       "      <td>0.041196</td>\n",
       "      <td>-0.114093</td>\n",
       "      <td>-0.001411</td>\n",
       "      <td>0.016545</td>\n",
       "      <td>0.068053</td>\n",
       "      <td>1.000000</td>\n",
       "    </tr>\n",
       "  </tbody>\n",
       "</table>\n",
       "<p>81 rows × 81 columns</p>\n",
       "</div>"
      ],
      "text/plain": [
       "             ind_67    ind_70    ind_71    ind_74    ind_77    ind_82  \\\n",
       "ind_67     1.000000  0.964544 -0.788201 -0.743813 -0.705321  0.627600   \n",
       "ind_70     0.964544  1.000000 -0.809343 -0.796095 -0.774251  0.721719   \n",
       "ind_71    -0.788201 -0.809343  1.000000  0.907418  0.834749 -0.622256   \n",
       "ind_74    -0.743813 -0.796095  0.907418  1.000000  0.939562 -0.678695   \n",
       "ind_77    -0.705321 -0.774251  0.834749  0.939562  1.000000 -0.722839   \n",
       "...             ...       ...       ...       ...       ...       ...   \n",
       "ind_418    0.612940  0.549805 -0.460769 -0.416069 -0.393054  0.306477   \n",
       "ind_424   -0.142899 -0.119631  0.095498  0.092070  0.090439 -0.063597   \n",
       "ind_426   -0.647064 -0.574392  0.509330  0.447927  0.409061 -0.321112   \n",
       "ind_428   -0.834165 -0.826493  0.720357  0.688238  0.652118 -0.539293   \n",
       "50_target -0.081650 -0.075887  0.093400  0.104423  0.121269 -0.012678   \n",
       "\n",
       "             ind_83    ind_88    ind_92   ind_102  ...   ind_407   ind_410  \\\n",
       "ind_67    -0.490495 -0.006709 -0.262362 -0.946572  ...  0.198941  0.486924   \n",
       "ind_70    -0.585846 -0.016413 -0.213233 -0.895239  ...  0.158290  0.402791   \n",
       "ind_71     0.552209  0.002071  0.177466  0.721636  ... -0.133636 -0.330021   \n",
       "ind_74     0.652111 -0.002648  0.150461  0.665503  ... -0.112626 -0.269083   \n",
       "ind_77     0.717147 -0.006119  0.140619  0.621513  ... -0.106016 -0.243695   \n",
       "...             ...       ...       ...       ...  ...       ...       ...   \n",
       "ind_418   -0.241067  0.071342 -0.488338 -0.673055  ...  0.454358  0.604764   \n",
       "ind_424    0.059582 -0.021013  0.609761  0.274886  ... -0.616643 -0.512873   \n",
       "ind_426    0.264518 -0.033306  0.419819  0.670173  ... -0.359920 -0.639368   \n",
       "ind_428    0.441758  0.016626  0.274304  0.838726  ... -0.230384 -0.391711   \n",
       "50_target  0.060088  0.000673  0.023231  0.080318  ... -0.016981 -0.035525   \n",
       "\n",
       "            ind_412   ind_414   ind_416   ind_418   ind_424   ind_426  \\\n",
       "ind_67    -0.603482  0.702959  0.349385  0.612940 -0.142899 -0.647064   \n",
       "ind_70    -0.590957  0.622478  0.333458  0.549805 -0.119631 -0.574392   \n",
       "ind_71     0.501270 -0.471239 -0.313059 -0.460769  0.095498  0.509330   \n",
       "ind_74     0.465480 -0.399185 -0.291356 -0.416069  0.092070  0.447927   \n",
       "ind_77     0.422127 -0.352252 -0.276627 -0.393054  0.090439  0.409061   \n",
       "...             ...       ...       ...       ...       ...       ...   \n",
       "ind_418   -0.317183  0.342659  0.400248  1.000000 -0.294485 -0.583362   \n",
       "ind_424    0.029070 -0.265014 -0.133653 -0.294485  1.000000  0.341137   \n",
       "ind_426    0.286172 -0.574290 -0.370107 -0.583362  0.341137  1.000000   \n",
       "ind_428    0.576218 -0.529115 -0.281079 -0.459643  0.189822  0.580932   \n",
       "50_target  0.135387 -0.012127  0.041196 -0.114093 -0.001411  0.016545   \n",
       "\n",
       "            ind_428  50_target  \n",
       "ind_67    -0.834165  -0.081650  \n",
       "ind_70    -0.826493  -0.075887  \n",
       "ind_71     0.720357   0.093400  \n",
       "ind_74     0.688238   0.104423  \n",
       "ind_77     0.652118   0.121269  \n",
       "...             ...        ...  \n",
       "ind_418   -0.459643  -0.114093  \n",
       "ind_424    0.189822  -0.001411  \n",
       "ind_426    0.580932   0.016545  \n",
       "ind_428    1.000000   0.068053  \n",
       "50_target  0.068053   1.000000  \n",
       "\n",
       "[81 rows x 81 columns]"
      ]
     },
     "execution_count": 110,
     "metadata": {},
     "output_type": "execute_result"
    }
   ],
   "source": [
    "df_y.corr()"
   ]
  },
  {
   "cell_type": "code",
   "execution_count": 35,
   "metadata": {},
   "outputs": [],
   "source": [
    "# Degisken donusturmeden once icerisinde NAN degerler oldugu icin ilk once bu OBJECT tipindeki degiskenlerin NAN degerlerini degistiriyoruz\n",
    "# Ardindan donusum gercelestiriyoruz\n",
    "\n",
    "df_y[\"ind_422\"] = df_y[\"ind_422\"].fillna(df_y.mean()[\"ind_422\"])\n",
    "df_y[\"ind_420\"] = df_y[\"ind_420\"].fillna(df_y.mean()[\"ind_420\"])\n",
    "\n",
    "df_y[\"ind_422\"] = df_y[\"ind_422\"].astype('int32')\n",
    "df_y[\"ind_420\"] = df_y[\"ind_420\"].astype('int32')"
   ]
  },
  {
   "cell_type": "code",
   "execution_count": 36,
   "metadata": {},
   "outputs": [],
   "source": [
    "# Geriye kalan NaN degiskenleri de dolduruyoruz\n",
    "\n",
    "column = list(df_y.select_dtypes(include=[\"int32\",\"float64\"]))\n",
    "df_y[column] = df_y[column].apply(lambda x: x.fillna(x.mean()),axis=0)"
   ]
  },
  {
   "cell_type": "code",
   "execution_count": 22,
   "metadata": {},
   "outputs": [
    {
     "data": {
      "text/plain": [
       "ind_5        0\n",
       "ind_6        0\n",
       "ind_8        0\n",
       "ind_9        0\n",
       "ind_10       0\n",
       "            ..\n",
       "ind_422      0\n",
       "ind_424      0\n",
       "ind_426      0\n",
       "ind_428      0\n",
       "50_target    0\n",
       "Length: 134, dtype: int64"
      ]
     },
     "execution_count": 22,
     "metadata": {},
     "output_type": "execute_result"
    }
   ],
   "source": [
    "df_y.isnull().sum()\n",
    "\n",
    "# ? isareti olan yerleri NaN ile doldurduk oralari kaybetmek istemiyorduk daha sonra NaN degerlerini de sutunlarin mean degeri ile doldurduk  "
   ]
  },
  {
   "cell_type": "code",
   "execution_count": 40,
   "metadata": {},
   "outputs": [],
   "source": [
    "# OBJECT Tipinde 2 sinifli olan degiskenimizin donusumunu tamamlayalim\n",
    "\n",
    "df_y = pd.get_dummies(df_y,columns= [\"ind_109\"], prefix= [\"ind_109\"])\n",
    "\n",
    "df_y = df_y.drop([\"ind_109_RED\"],axis=1)"
   ]
  },
  {
   "cell_type": "code",
   "execution_count": 43,
   "metadata": {},
   "outputs": [],
   "source": [
    "# Train test yaparken shuffle FALSE yapiyoruz hisse senedi verileri ile calisirken verinin karistirilmamasi gerek\n",
    "\n",
    "\n",
    "from sklearn.model_selection import train_test_split\n",
    "\n",
    "\n",
    "X = df_y.drop(labels=\"50_target\",axis=1)\n",
    "y = df_y[\"50_target\"]\n",
    "\n",
    "X_train, X_test, y_train, y_test = train_test_split(X,y, test_size = .2, random_state = 42,shuffle = False)\n"
   ]
  },
  {
   "cell_type": "code",
   "execution_count": 46,
   "metadata": {},
   "outputs": [
    {
     "name": "stdout",
     "output_type": "stream",
     "text": [
      "Bilesen sayisina gore aciklanabilirlik: \n",
      " [ 36.98  49.49  55.77  60.29  63.76  66.78  69.41  71.4   73.16  74.8\n",
      "  76.31  77.72  79.09  80.32  81.47  82.54  83.54  84.42  85.26  86.08\n",
      "  86.84  87.55  88.22  88.85  89.43  89.99  90.54  91.03  91.48  91.91\n",
      "  92.33  92.73  93.12  93.47  93.81  94.14  94.45  94.76  95.05  95.32\n",
      "  95.58  95.8   96.02  96.23  96.44  96.64  96.84  97.01  97.18  97.33\n",
      "  97.48  97.62  97.75  97.87  97.99  98.1   98.2   98.3   98.4   98.49\n",
      "  98.58  98.66  98.74  98.82  98.89  98.96  99.03  99.09  99.15  99.2\n",
      "  99.25  99.3   99.34  99.38  99.42  99.46  99.5   99.53  99.56  99.59\n",
      "  99.62  99.65  99.68  99.71  99.74  99.76  99.78  99.8   99.82  99.84\n",
      "  99.86  99.87  99.88  99.89  99.9   99.91  99.92  99.93  99.94  99.95\n",
      "  99.96  99.97  99.98  99.99 100.   100.   100.   100.   100.   100.\n",
      " 100.   100.   100.   100.   100.   100.   100.   100.   100.   100.\n",
      " 100.   100.   100.   100.   100.   100.   100.   100.   100.   100.\n",
      " 100.   100.   100.  ]\n",
      "------------------------------------------\n",
      "Bilesen sayisina gore aciklanma durumu (<Figure size 1800x576 with 1 Axes>, <BarContainer object of 133 artists>, (0, 25))\n",
      "------------------------------------------\n",
      "\n",
      "Train setine ait sabit Kat sayi: \n",
      " -4.284377822421117 \n",
      "Train setine ait modelin kat sayilari: \n",
      " [ 4.09601561e-01  6.10550911e-01  5.46015154e-01  1.06050322e+00\n",
      " -1.56167888e+00 -3.11346609e-01  3.27207096e-02  6.63371412e-02\n",
      " -2.77675331e-01  5.66533833e-01  1.46373353e+00 -6.05795902e-01\n",
      " -1.94023390e+00 -5.61274114e-01 -1.02085298e+00 -1.45236076e-01\n",
      "  1.88844896e-01 -1.54929006e+00 -2.10608075e+00  9.64046563e-01\n",
      "  1.66135680e+00 -6.18732707e-01  7.63778430e-01  1.80241962e-01\n",
      "  2.85686328e+00  1.50949396e+00  3.05502445e+00  1.23911117e-01\n",
      "  3.88417495e+00 -3.26575789e-01  2.56281479e+00 -9.34510717e-01\n",
      " -1.82875256e-01 -1.24952192e+00  1.00501670e-01  4.34632775e+00\n",
      " -1.79417418e+00  1.19105752e+00  1.75867745e+00  1.83734174e+00\n",
      "  3.35445258e+00  1.95271197e+00 -3.40920758e-01  1.13001947e+00\n",
      " -2.30258946e-01  2.29550304e-01 -3.32886286e+00 -5.06127602e+00\n",
      " -3.20516763e+00 -9.56380748e-01  4.90364463e+00  4.32625469e+00\n",
      " -4.53641087e-01  2.14114836e-01  9.39348480e-01  9.82846154e+00\n",
      " -1.49601093e+00  2.72235518e+00 -6.38189356e+00 -1.64886939e+00\n",
      " -1.36305879e+00 -5.00501764e+00 -3.69932193e+00 -1.63938069e+00\n",
      " -4.86596161e+00 -4.97012748e+00  1.94927959e+00 -6.45493396e-01\n",
      " -7.86520821e+00 -8.35303564e+00 -2.21971684e+00 -2.65919755e+00\n",
      " -5.31755384e+00 -3.09104163e+00 -7.08535016e+00  8.47921813e+00\n",
      "  5.57046070e+00 -1.54218609e+00  5.00577440e+00  2.04767097e+00\n",
      "  8.88387849e+00 -2.04005937e+00 -2.40695671e+00  3.99663918e+00\n",
      "  2.81319793e+00 -1.60243737e+00  8.45712365e+00 -5.20664583e-01\n",
      " -4.33696452e+00  5.02283897e+00 -5.87268614e+00  1.50884176e+01\n",
      " -9.54136070e+00  6.80470468e+00 -5.56807302e-01  6.20236559e+00\n",
      " -2.31702886e-01 -2.95804468e+00  8.84287825e+00  5.93743953e+00\n",
      " -4.84833976e-01  1.05247218e+01 -6.54240143e+00 -1.28011281e+00\n",
      " -5.30787968e+00  6.29956089e+00  1.13991629e+01 -5.45620163e-01\n",
      "  2.89172475e+01 -2.29894675e+01  3.26012069e+00  1.47610967e+01\n",
      " -1.58934058e+01 -7.33994661e+00 -5.78644566e+00  8.65797149e+01\n",
      "  2.09043034e+01  1.25485161e+01 -1.02555140e+02 -1.06763985e+01\n",
      "  1.59621072e+01 -1.70139098e+01  5.47726783e+01 -5.65944823e+01\n",
      "  1.32554165e+02  8.60465928e+01  1.21639602e+02  3.32360522e+01\n",
      " -3.64675253e+02  3.23062867e+03  1.86228182e+02  1.27223064e+04\n",
      " -1.91023957e+10]\n",
      "OLS sonuclari : \n",
      "                                  OLS Regression Results                                \n",
      "=======================================================================================\n",
      "Dep. Variable:              50_target   R-squared (uncentered):                   0.265\n",
      "Model:                            OLS   Adj. R-squared (uncentered):              0.245\n",
      "Method:                 Least Squares   F-statistic:                              13.01\n",
      "Date:                Wed, 05 Aug 2020   Prob (F-statistic):                   2.57e-229\n",
      "Time:                        15:45:35   Log-Likelihood:                         -23131.\n",
      "No. Observations:                4933   AIC:                                  4.653e+04\n",
      "Df Residuals:                    4800   BIC:                                  4.739e+04\n",
      "Df Model:                         133                                                  \n",
      "Covariance Type:            nonrobust                                                  \n",
      "=======================================================================================\n"
     ]
    },
    {
     "data": {
      "image/png": "[encoded data removed]",
      "text/plain": [
       "<Figure size 1800x576 with 1 Axes>"
      ]
     },
     "metadata": {
      "needs_background": "light"
     },
     "output_type": "display_data"
    }
   ],
   "source": [
    "result.PcaReg(X_train,y_train,X_test,y_test)"
   ]
  },
  {
   "cell_type": "markdown",
   "metadata": {},
   "source": [
    "## Sonucu yorumlamak istersek sunu goruyoruz Model istatistiksel olarak anlamli bulunmustur. Adj. R2 degeri 0.24 ile bagimsiz degiskendeki hareketlerin %24'unu aciklayabilmektedir. Onuncu bilesene geldigimiz de veri setinin %75 i kadar aciklanmaktadir."
   ]
  },
  {
   "cell_type": "code",
   "execution_count": null,
   "metadata": {},
   "outputs": [],
   "source": []
  },
  {
   "cell_type": "code",
   "execution_count": 47,
   "metadata": {},
   "outputs": [
    {
     "name": "stdout",
     "output_type": "stream",
     "text": [
      "Train setinin RMSE degeri: \n",
      " 25.96497019217214 \n",
      "Test setinin RMSE degeri: \n",
      " 36.663535485191936\n",
      "---------------------------------------------------------------------------\n",
      "R2 degeri:  0.27019195157086495\n",
      "---------------------------------------------------------------------------\n",
      "Bilesenlere gore RMSE durumu cross validation ile: \n",
      " ([<matplotlib.lines.Line2D object at 0x000001D6F461B0C8>],)\n"
     ]
    },
    {
     "data": {
      "image/png": "[encoded data removed]",
      "text/plain": [
       "<Figure size 432x288 with 1 Axes>"
      ]
     },
     "metadata": {
      "needs_background": "light"
     },
     "output_type": "display_data"
    }
   ],
   "source": [
    "result.PcaPredict(X_train,y_train,X_test,y_test)"
   ]
  },
  {
   "cell_type": "markdown",
   "metadata": {},
   "source": [
    "## Prediction sonuclarini elde ettik. Train ve Test seti icin elde edilen sonuc Cross valide islemi yapilmadan elde edilmistir. Bilindigi uzere tahmin seti, test setinin kotu bir tahmincisidir. Ardindan RMSE degerine bakma islemini Cross valide ile gerceklestiriyoruz. Y eksenin de sunu gorebiliyoruz 33 kisimlardan baslayip minimum oldugu kisim 27.00 bu durum da fazla degisken kullanmamak adina burada ortalama bir esik degere belirlenerek bilesen sayisi oradan alinabilir. Boylece is yukunden de kacinilmis olur."
   ]
  },
  {
   "cell_type": "code",
   "execution_count": null,
   "metadata": {},
   "outputs": [],
   "source": []
  },
  {
   "cell_type": "code",
   "execution_count": null,
   "metadata": {},
   "outputs": [],
   "source": []
  },
  {
   "cell_type": "code",
   "execution_count": null,
   "metadata": {},
   "outputs": [],
   "source": []
  },
  {
   "cell_type": "code",
   "execution_count": 54,
   "metadata": {},
   "outputs": [],
   "source": [
    "# Diger 2 target degiskenle de bu durumu deneyelim ve elde ettigimiz sonuclari gorelim\n",
    "# Hedef target 90 aliyoruz\n",
    "\n",
    "df_y = df1.drop(labels=[\"50_target\",\"20_target\"],axis=1)"
   ]
  },
  {
   "cell_type": "code",
   "execution_count": 55,
   "metadata": {},
   "outputs": [
    {
     "data": {
      "text/plain": [
       "(6167, 134)"
      ]
     },
     "execution_count": 55,
     "metadata": {},
     "output_type": "execute_result"
    }
   ],
   "source": [
    "df_y.shape"
   ]
  },
  {
   "cell_type": "code",
   "execution_count": 56,
   "metadata": {},
   "outputs": [],
   "source": [
    "import numpy as np\n",
    "\n",
    "df_y.loc[df_y[df_y[\"ind_420\"] == \"?\"].index] = np.nan \n",
    "\n",
    "\n",
    "\n",
    "# \"?\" seklinde olan indexleri silmek yerine oralara NaN degerleri bastik ve simdi onlara ortalama deger atama imkanımız var \n",
    "# Sutunlara gore ortalamayi atayalim ve sonuclara bakalim\n"
   ]
  },
  {
   "cell_type": "code",
   "execution_count": 57,
   "metadata": {},
   "outputs": [],
   "source": [
    "# Degisken donusturmeden once icerisinde NAN degerler oldugu icin ilk once bu OBJECT tipindeki degiskenlerin NAN degerlerini degistiriyoruz\n",
    "# Ardindan donusum gercelestiriyoruz\n",
    "\n",
    "df_y[\"ind_422\"] = df_y[\"ind_422\"].fillna(df_y.mean()[\"ind_422\"])\n",
    "df_y[\"ind_420\"] = df_y[\"ind_420\"].fillna(df_y.mean()[\"ind_420\"])\n",
    "\n",
    "df_y[\"ind_422\"] = df_y[\"ind_422\"].astype('int32')\n",
    "df_y[\"ind_420\"] = df_y[\"ind_420\"].astype('int32')"
   ]
  },
  {
   "cell_type": "code",
   "execution_count": 58,
   "metadata": {},
   "outputs": [],
   "source": [
    "# Geriye kalan NaN degiskenleri de dolduruyoruz\n",
    "\n",
    "column = list(df_y.select_dtypes(include=[\"int32\",\"float64\"]))\n",
    "df_y[column] = df_y[column].apply(lambda x: x.fillna(x.mean()),axis=0)"
   ]
  },
  {
   "cell_type": "code",
   "execution_count": 59,
   "metadata": {},
   "outputs": [],
   "source": [
    "# OBJECT Tipinde 2 sinifli olan degiskenimizin donusumunu tamamlayalim\n",
    "\n",
    "df_y = pd.get_dummies(df_y,columns= [\"ind_109\"], prefix= [\"ind_109\"])\n",
    "\n",
    "df_y = df_y.drop([\"ind_109_RED\"],axis=1)"
   ]
  },
  {
   "cell_type": "code",
   "execution_count": 60,
   "metadata": {},
   "outputs": [],
   "source": [
    "# Train test yaparken shuffle FALSE yapiyoruz hisse senedi verileri ile calisirken verinin karistirilmamasi gerek\n",
    "\n",
    "\n",
    "from sklearn.model_selection import train_test_split\n",
    "\n",
    "\n",
    "X = df_y.drop(labels=\"90_target\",axis=1)\n",
    "y = df_y[\"90_target\"]\n",
    "\n",
    "X_train, X_test, y_train, y_test = train_test_split(X,y, test_size = .2, random_state = 42,shuffle = False)\n"
   ]
  },
  {
   "cell_type": "code",
   "execution_count": 61,
   "metadata": {},
   "outputs": [],
   "source": [
    "result = cl.Methods()"
   ]
  },
  {
   "cell_type": "code",
   "execution_count": 62,
   "metadata": {},
   "outputs": [
    {
     "name": "stdout",
     "output_type": "stream",
     "text": [
      "Bilesen sayisina gore aciklanabilirlik: \n",
      " [ 36.98  49.49  55.77  60.29  63.76  66.78  69.41  71.4   73.16  74.8\n",
      "  76.31  77.72  79.09  80.32  81.47  82.54  83.54  84.42  85.26  86.08\n",
      "  86.84  87.55  88.22  88.85  89.43  89.99  90.54  91.03  91.48  91.91\n",
      "  92.33  92.73  93.12  93.47  93.81  94.14  94.45  94.76  95.05  95.32\n",
      "  95.58  95.8   96.02  96.23  96.44  96.64  96.84  97.01  97.18  97.33\n",
      "  97.48  97.62  97.75  97.87  97.99  98.1   98.2   98.3   98.4   98.49\n",
      "  98.58  98.66  98.74  98.82  98.89  98.96  99.03  99.09  99.15  99.2\n",
      "  99.25  99.3   99.34  99.38  99.42  99.46  99.5   99.53  99.56  99.59\n",
      "  99.62  99.65  99.68  99.71  99.74  99.76  99.78  99.8   99.82  99.84\n",
      "  99.86  99.87  99.88  99.89  99.9   99.91  99.92  99.93  99.94  99.95\n",
      "  99.96  99.97  99.98  99.99 100.   100.   100.   100.   100.   100.\n",
      " 100.   100.   100.   100.   100.   100.   100.   100.   100.   100.\n",
      " 100.   100.   100.   100.   100.   100.   100.   100.   100.   100.\n",
      " 100.   100.   100.  ]\n",
      "------------------------------------------\n",
      "Bilesen sayisina gore aciklanma durumu (<Figure size 1800x576 with 1 Axes>, <BarContainer object of 133 artists>, (0, 25))\n",
      "------------------------------------------\n",
      "\n",
      "Train setine ait sabit Kat sayi: \n",
      " -4.977094705961553 \n",
      "Train setine ait modelin kat sayilari: \n",
      " [ 3.58267320e-01  5.97047553e-01  7.58568171e-01  1.19739863e+00\n",
      " -1.57621492e+00 -4.84865343e-01  8.09107219e-02  2.53198335e-01\n",
      " -6.86509052e-01  3.11654418e-01  1.97713807e+00 -6.97186397e-01\n",
      " -2.29716035e+00 -6.97447509e-01 -1.20207588e+00 -2.71976683e-01\n",
      " -9.02868599e-02 -1.83022064e+00 -2.64039703e+00  1.41589047e+00\n",
      "  1.54160306e+00  6.54064010e-01  1.08318454e+00  7.19770361e-01\n",
      "  2.22545025e+00  2.03179082e+00  2.92944881e+00  4.13497298e-02\n",
      "  4.18487549e+00  5.92144329e-01  3.14864496e+00 -4.56273323e-01\n",
      " -1.39988458e-01 -1.20653235e+00  6.48606512e-01  5.13392424e+00\n",
      " -2.19172277e+00  1.86861820e+00  1.08794789e+00  9.52930555e-01\n",
      "  4.23324916e+00  2.58645123e+00 -1.01001237e+00  6.56565653e-01\n",
      "  6.40963428e-01  8.44006388e-01 -3.13989053e+00 -4.78986656e+00\n",
      " -2.40933647e+00 -1.17694696e+00  4.30980555e+00  4.51247721e+00\n",
      " -3.08509110e+00  2.25050528e-01  6.51861203e-01  1.07473210e+01\n",
      " -1.19805243e+00  2.25162725e+00 -5.73360738e+00 -6.74824156e-01\n",
      " -9.15817586e-01 -4.34068236e+00 -3.33729796e+00 -2.00532204e+00\n",
      " -2.79507076e+00 -3.03770334e+00  7.73911431e-01  3.69498591e-02\n",
      " -8.05454102e+00 -7.58768822e+00 -2.23750778e+00 -5.59966758e+00\n",
      " -5.38746326e+00 -6.31074061e-01 -7.03789465e+00  9.30282414e+00\n",
      "  9.37836519e+00 -2.43058903e+00  7.03762093e+00  2.54130097e+00\n",
      "  9.46091113e+00 -2.74140032e-01 -3.19510159e+00  4.71990314e+00\n",
      "  4.43516002e+00 -1.13011093e+00  8.18028968e+00 -1.52596320e+00\n",
      " -2.25272029e+00  4.82333789e+00 -9.16449435e+00  1.69752378e+01\n",
      " -1.05629376e+01  9.45319679e+00 -2.15818927e+00  7.87770165e+00\n",
      " -6.35945262e-01 -3.56784950e+00  9.43431061e+00  7.93948506e+00\n",
      "  1.46192167e+00  1.33752243e+01 -1.36696929e+00 -2.68496555e+00\n",
      " -3.78935271e+00  5.97975838e+00  8.15123303e+00  4.74879859e+00\n",
      "  2.71925744e+01 -2.65743319e+01  5.09825615e+00  1.34177952e+01\n",
      " -1.79239105e+01 -6.90655458e+00 -4.34752473e+00  9.62432874e+01\n",
      "  1.41832896e+01  1.69778389e+00 -1.22688713e+02 -1.16009935e+01\n",
      "  1.85290046e+01 -1.84807891e+01  5.36087272e+01 -6.56923807e+01\n",
      "  8.63494574e+01  3.91384641e+01  1.43039836e+02  3.63723748e+01\n",
      " -2.63848247e+02  4.05908899e+03  3.86877091e+02  2.24112168e+04\n",
      " -2.64128895e+10]\n",
      "OLS sonuclari : \n",
      "                                  OLS Regression Results                                \n",
      "=======================================================================================\n",
      "Dep. Variable:              90_target   R-squared (uncentered):                   0.261\n",
      "Model:                            OLS   Adj. R-squared (uncentered):              0.241\n",
      "Method:                 Least Squares   F-statistic:                              12.76\n",
      "Date:                Wed, 05 Aug 2020   Prob (F-statistic):                   1.91e-224\n",
      "Time:                        15:58:50   Log-Likelihood:                         -23515.\n",
      "No. Observations:                4933   AIC:                                  4.730e+04\n",
      "Df Residuals:                    4800   BIC:                                  4.816e+04\n",
      "Df Model:                         133                                                  \n",
      "Covariance Type:            nonrobust                                                  \n",
      "=======================================================================================\n"
     ]
    },
    {
     "data": {
      "image/png": "[encoded data removed]",
      "text/plain": [
       "<Figure size 1800x576 with 1 Axes>"
      ]
     },
     "metadata": {
      "needs_background": "light"
     },
     "output_type": "display_data"
    }
   ],
   "source": [
    "result.PcaReg(X_train,y_train,X_test,y_test)"
   ]
  },
  {
   "cell_type": "code",
   "execution_count": 65,
   "metadata": {},
   "outputs": [
    {
     "name": "stdout",
     "output_type": "stream",
     "text": [
      "Train setinin RMSE degeri: \n",
      " 28.005625922399247 \n",
      "Test setinin RMSE degeri: \n",
      " 38.655364382479426\n",
      "---------------------------------------------------------------------------\n",
      "R2 degeri:  0.26724457387382095\n",
      "---------------------------------------------------------------------------\n",
      "Bilesenlere gore RMSE durumu cross validation ile: \n",
      " ([<matplotlib.lines.Line2D object at 0x000001D6EE660448>],)\n"
     ]
    },
    {
     "data": {
      "image/png": "[encoded data removed]",
      "text/plain": [
       "<Figure size 432x288 with 1 Axes>"
      ]
     },
     "metadata": {
      "needs_background": "light"
     },
     "output_type": "display_data"
    }
   ],
   "source": [
    "result.PcaPredict(X_train,y_train,X_test,y_test)"
   ]
  },
  {
   "cell_type": "markdown",
   "metadata": {},
   "source": [
    "## Target 90 aldigimiz da 50 den farkli olarak Sadece RMSE degerleri Cross valide yapilmadan once ki hali biraz daha yuksek"
   ]
  },
  {
   "cell_type": "code",
   "execution_count": null,
   "metadata": {},
   "outputs": [],
   "source": []
  },
  {
   "cell_type": "code",
   "execution_count": null,
   "metadata": {},
   "outputs": [],
   "source": []
  },
  {
   "cell_type": "code",
   "execution_count": null,
   "metadata": {},
   "outputs": [],
   "source": [
    "\n",
    "\n"
   ]
  },
  {
   "cell_type": "code",
   "execution_count": 66,
   "metadata": {},
   "outputs": [],
   "source": [
    "# Son olarak Target20 de ele alali sonuclari gorelim\n",
    "# Hedef target 90 aliyoruz\n",
    "\n",
    "df_y = df1.drop(labels=[\"50_target\",\"90_target\"],axis=1)"
   ]
  },
  {
   "cell_type": "code",
   "execution_count": 67,
   "metadata": {},
   "outputs": [
    {
     "data": {
      "text/plain": [
       "(6167, 134)"
      ]
     },
     "execution_count": 67,
     "metadata": {},
     "output_type": "execute_result"
    }
   ],
   "source": [
    "df_y.shape"
   ]
  },
  {
   "cell_type": "code",
   "execution_count": 68,
   "metadata": {},
   "outputs": [],
   "source": [
    "import numpy as np\n",
    "\n",
    "df_y.loc[df_y[df_y[\"ind_420\"] == \"?\"].index] = np.nan \n",
    "\n",
    "\n",
    "\n",
    "# \"?\" seklinde olan indexleri silmek yerine oralara NaN degerleri bastik ve simdi onlara ortalama deger atama imkanımız var \n",
    "# Sutunlara gore ortalamayi atayalim ve sonuclara bakalim\n"
   ]
  },
  {
   "cell_type": "code",
   "execution_count": 69,
   "metadata": {},
   "outputs": [],
   "source": [
    "# Degisken donusturmeden once icerisinde NAN degerler oldugu icin ilk once bu OBJECT tipindeki degiskenlerin NAN degerlerini degistiriyoruz\n",
    "# Ardindan donusum gercelestiriyoruz\n",
    "\n",
    "df_y[\"ind_422\"] = df_y[\"ind_422\"].fillna(df_y.mean()[\"ind_422\"])\n",
    "df_y[\"ind_420\"] = df_y[\"ind_420\"].fillna(df_y.mean()[\"ind_420\"])\n",
    "\n",
    "df_y[\"ind_422\"] = df_y[\"ind_422\"].astype('int32')\n",
    "df_y[\"ind_420\"] = df_y[\"ind_420\"].astype('int32')"
   ]
  },
  {
   "cell_type": "code",
   "execution_count": 70,
   "metadata": {},
   "outputs": [],
   "source": [
    "# Geriye kalan NaN degiskenleri de dolduruyoruz\n",
    "\n",
    "column = list(df_y.select_dtypes(include=[\"int32\",\"float64\"]))\n",
    "df_y[column] = df_y[column].apply(lambda x: x.fillna(x.mean()),axis=0)"
   ]
  },
  {
   "cell_type": "code",
   "execution_count": 71,
   "metadata": {},
   "outputs": [],
   "source": [
    "# OBJECT Tipinde 2 sinifli olan degiskenimizin donusumunu tamamlayalim\n",
    "\n",
    "df_y = pd.get_dummies(df_y,columns= [\"ind_109\"], prefix= [\"ind_109\"])\n",
    "\n",
    "df_y = df_y.drop([\"ind_109_RED\"],axis=1)"
   ]
  },
  {
   "cell_type": "code",
   "execution_count": 73,
   "metadata": {},
   "outputs": [],
   "source": [
    "# Train test yaparken shuffle FALSE yapiyoruz hisse senedi verileri ile calisirken verinin karistirilmamasi gerek\n",
    "\n",
    "\n",
    "from sklearn.model_selection import train_test_split\n",
    "\n",
    "\n",
    "X = df_y.drop(labels=\"20_target\",axis=1)\n",
    "y = df_y[\"20_target\"]\n",
    "\n",
    "X_train, X_test, y_train, y_test = train_test_split(X,y, test_size = .2, random_state = 42,shuffle = False)\n"
   ]
  },
  {
   "cell_type": "code",
   "execution_count": 74,
   "metadata": {},
   "outputs": [],
   "source": [
    "result = cl.Methods()"
   ]
  },
  {
   "cell_type": "code",
   "execution_count": 75,
   "metadata": {},
   "outputs": [
    {
     "name": "stdout",
     "output_type": "stream",
     "text": [
      "Bilesen sayisina gore aciklanabilirlik: \n",
      " [ 36.98  49.49  55.77  60.29  63.76  66.78  69.41  71.4   73.16  74.8\n",
      "  76.31  77.72  79.09  80.32  81.47  82.54  83.54  84.42  85.26  86.08\n",
      "  86.84  87.55  88.22  88.85  89.43  89.99  90.54  91.03  91.48  91.91\n",
      "  92.33  92.73  93.12  93.47  93.81  94.14  94.45  94.76  95.05  95.32\n",
      "  95.58  95.8   96.02  96.23  96.44  96.64  96.84  97.01  97.18  97.33\n",
      "  97.48  97.62  97.75  97.87  97.99  98.1   98.2   98.3   98.4   98.49\n",
      "  98.58  98.66  98.74  98.82  98.89  98.96  99.03  99.09  99.15  99.2\n",
      "  99.25  99.3   99.34  99.38  99.42  99.46  99.5   99.53  99.56  99.59\n",
      "  99.62  99.65  99.68  99.71  99.74  99.76  99.78  99.8   99.82  99.84\n",
      "  99.86  99.87  99.88  99.89  99.9   99.91  99.92  99.93  99.94  99.95\n",
      "  99.96  99.97  99.98  99.99 100.   100.   100.   100.   100.   100.\n",
      " 100.   100.   100.   100.   100.   100.   100.   100.   100.   100.\n",
      " 100.   100.   100.   100.   100.   100.   100.   100.   100.   100.\n",
      " 100.   100.   100.  ]\n",
      "------------------------------------------\n",
      "Bilesen sayisina gore aciklanma durumu (<Figure size 1800x576 with 1 Axes>, <BarContainer object of 133 artists>, (0, 25))\n",
      "------------------------------------------\n",
      "\n",
      "Train setine ait sabit Kat sayi: \n",
      " -0.08903577201840282 \n",
      "Train setine ait modelin kat sayilari: \n",
      " [ 6.00753934e-02  1.43324273e-01  6.61117726e-02  1.16835425e-01\n",
      " -7.55981108e-02 -2.40831827e-01  3.62614016e-01 -4.42857605e-01\n",
      " -1.63317869e-01  2.72466234e-01  4.21283607e-01 -1.83178657e-01\n",
      " -2.75556766e-01  4.05450191e-01 -4.84987473e-01 -5.25945589e-01\n",
      "  6.28331478e-02 -4.80726392e-01  1.68874460e-01  5.94573927e-01\n",
      "  9.58054370e-01 -9.17928441e-02  4.54179126e-01  1.97232244e-02\n",
      "  8.57866047e-01 -8.34389312e-01  2.55680923e-02  4.06250829e-01\n",
      "  1.63282986e-01  3.21917684e-01  2.77030536e-02  2.71039613e-01\n",
      "  8.03052579e-01  1.08403383e+00  5.30881792e-01  4.25194602e-01\n",
      "  5.93744600e-01  2.24892051e-02  5.44285042e-01  4.45375097e-01\n",
      " -1.38272493e-01  5.45214305e-01  6.33134348e-01 -4.03698573e-02\n",
      " -1.06749208e+00 -9.82191984e-01 -9.83041472e-01 -5.21495631e-01\n",
      " -1.98310920e+00  6.66537182e-01  1.12101114e+00  2.81965996e+00\n",
      "  1.18459727e+00  8.14648979e-01 -1.49691814e+00  1.65133029e-01\n",
      " -1.11913735e-02  6.92467856e-01 -1.84143380e+00  4.91232594e-01\n",
      "  3.32886257e-02 -1.90609174e+00 -2.18694427e-01 -5.63806770e-01\n",
      " -1.64745103e+00 -1.00029587e+00  1.10389364e+00  6.45216533e-01\n",
      " -2.64394666e+00 -1.35419080e+00  1.81069807e-02 -1.61105857e+00\n",
      " -3.18185019e+00 -9.82337681e-01  3.42438842e-02  1.50286987e+00\n",
      " -1.16324565e+00  1.12505432e-01 -1.90055100e-01  1.15885038e+00\n",
      "  3.21182479e+00 -1.30839567e+00 -4.20392712e+00 -4.02198551e-01\n",
      " -2.29591181e+00  1.27451528e+00 -1.81838511e-01  5.20898955e-01\n",
      " -4.22317270e-01  2.85947261e+00 -9.88393402e-01 -2.39714657e-01\n",
      " -1.16980426e+00  4.00548083e+00 -4.68825793e+00  1.12202956e+00\n",
      " -1.20848326e+00 -9.21288346e-01  2.98631625e+00  2.97900407e+00\n",
      "  1.96790469e+00  7.80353014e+00  2.39509227e+00 -1.85216728e+00\n",
      "  1.41974422e+00  1.08537732e+00 -1.52305055e+00  1.72802980e+00\n",
      "  1.04566885e+01 -7.59215164e+00  6.16944024e-03  2.34319269e+00\n",
      " -1.82238702e+00 -2.31075948e+00  3.17547906e+00  7.44384392e+00\n",
      " -6.42301204e+00 -1.40833542e+00 -1.09965419e+00  2.45364450e+00\n",
      "  1.47927262e+01 -4.95169338e+00 -2.93486954e+00 -5.87111066e+01\n",
      "  2.08708256e+01 -2.16091923e+01 -8.04710104e+01  1.07400912e+02\n",
      "  1.97365131e+01  1.64876349e+01 -3.81522853e+02  3.55545142e+04\n",
      "  2.46154722e+09]\n",
      "OLS sonuclari : \n",
      "                                  OLS Regression Results                                \n",
      "=======================================================================================\n",
      "Dep. Variable:              20_target   R-squared (uncentered):                   0.126\n",
      "Model:                            OLS   Adj. R-squared (uncentered):              0.102\n",
      "Method:                 Least Squares   F-statistic:                              5.207\n",
      "Date:                Wed, 05 Aug 2020   Prob (F-statistic):                    4.75e-70\n",
      "Time:                        16:04:54   Log-Likelihood:                         -19402.\n",
      "No. Observations:                4933   AIC:                                  3.907e+04\n",
      "Df Residuals:                    4800   BIC:                                  3.993e+04\n",
      "Df Model:                         133                                                  \n",
      "Covariance Type:            nonrobust                                                  \n",
      "=======================================================================================\n"
     ]
    },
    {
     "data": {
      "image/png": "[encoded data removed]",
      "text/plain": [
       "<Figure size 1800x576 with 1 Axes>"
      ]
     },
     "metadata": {
      "needs_background": "light"
     },
     "output_type": "display_data"
    }
   ],
   "source": [
    "result.PcaReg(X_train,y_train,X_test,y_test)"
   ]
  },
  {
   "cell_type": "code",
   "execution_count": 76,
   "metadata": {},
   "outputs": [
    {
     "name": "stdout",
     "output_type": "stream",
     "text": [
      "Train setinin RMSE degeri: \n",
      " 12.355804037267896 \n",
      "Test setinin RMSE degeri: \n",
      " 14.772426404778033\n",
      "---------------------------------------------------------------------------\n",
      "R2 degeri:  0.1260933008884143\n",
      "---------------------------------------------------------------------------\n",
      "Bilesenlere gore RMSE durumu cross validation ile: \n",
      " ([<matplotlib.lines.Line2D object at 0x000001D6EE2E2E08>],)\n"
     ]
    },
    {
     "data": {
      "image/png": "[encoded data removed]",
      "text/plain": [
       "<Figure size 432x288 with 1 Axes>"
      ]
     },
     "metadata": {
      "needs_background": "light"
     },
     "output_type": "display_data"
    }
   ],
   "source": [
    "result.PcaPredict(X_train,y_train,X_test,y_test)"
   ]
  },
  {
   "cell_type": "markdown",
   "metadata": {},
   "source": [
    "## Bu denemenin sonucunda ise sunu gorduk Target50 ve Target90 hatalar ve R2 degeri olarak birbirine yakin iken Target20 R2 olarak onlara nazaran dusuk ama RMSE degerleri olarak onlara gore ciddi anlamda daha iyi sonuclar vermekte."
   ]
  }
 ],
 "metadata": {
  "kernelspec": {
   "display_name": "Python 3",
   "language": "python",
   "name": "python3"
  },
  "language_info": {
   "codemirror_mode": {
    "name": "ipython",
    "version": 3
   },
   "file_extension": ".py",
   "mimetype": "text/x-python",
   "name": "python",
   "nbconvert_exporter": "python",
   "pygments_lexer": "ipython3",
   "version": "3.7.6"
  }
 },
 "nbformat": 4,
 "nbformat_minor": 4
}
