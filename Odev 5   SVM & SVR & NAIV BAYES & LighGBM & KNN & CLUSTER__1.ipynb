{
 "cells": [
  {
   "cell_type": "code",
   "execution_count": 1,
   "metadata": {
    "colab": {},
    "colab_type": "code",
    "id": "wkWkvdiwPdFu"
   },
   "outputs": [],
   "source": [
    "import pandas as pd \n",
    "import seaborn as sns\n",
    "import missingno as msno\n",
    "import pandas as pd\n",
    "import numpy as np\n",
    "import statsmodels.api as sm\n",
    "import seaborn as sns\n",
    "from scipy.stats import shapiro\n",
    "from sklearn.preprocessing import scale\n",
    "from sklearn.decomposition import PCA\n",
    "from sklearn.linear_model import LinearRegression\n",
    "from sklearn.model_selection import train_test_split, cross_val_score,GridSearchCV\n",
    "from sklearn.metrics import confusion_matrix, accuracy_score, classification_report\n",
    "from sklearn.metrics import roc_curve, roc_auc_score\n",
    "from sklearn.linear_model import LogisticRegression\n",
    "from sklearn.metrics import mean_squared_error, r2_score\n",
    "from sklearn.preprocessing import LabelEncoder\n",
    "from sklearn.ensemble import RandomForestRegressor, RandomForestClassifier\n",
    "from matplotlib import pyplot as plt\n",
    "from sklearn import model_selection\n",
    "from warnings import filterwarnings\n",
    "from sklearn.neural_network import MLPRegressor,MLPClassifier\n",
    "from sklearn.preprocessing import StandardScaler\n",
    "from sklearn.neural_network import MLPRegressor\n",
    "#from xgboost import XGBClassifier\n",
    "from lightgbm import LGBMClassifier\n",
    "#from catboost import CatBoostClassifier\n",
    "from sklearn.metrics import confusion_matrix, accuracy_score, classification_report\n",
    "from sklearn.svm import SVR\n",
    "from sklearn.naive_bayes import GaussianNB,MultinomialNB,BernoulliNB  \n",
    "from lightgbm import LGBMClassifier,LGBMRegressor\n",
    "\n",
    "filterwarnings(\"ignore\")"
   ]
  },
  {
   "cell_type": "code",
   "execution_count": 3,
   "metadata": {
    "colab": {
     "base_uri": "https://localhost:8080/",
     "height": 105
    },
    "colab_type": "code",
    "id": "nCmP_0DWNB-4",
    "outputId": "526b3a6d-998f-480e-8ea4-b882346260e2"
   },
   "outputs": [
    {
     "data": {
      "text/html": [
       "<div>\n",
       "<style scoped>\n",
       "    .dataframe tbody tr th:only-of-type {\n",
       "        vertical-align: middle;\n",
       "    }\n",
       "\n",
       "    .dataframe tbody tr th {\n",
       "        vertical-align: top;\n",
       "    }\n",
       "\n",
       "    .dataframe thead th {\n",
       "        text-align: right;\n",
       "    }\n",
       "</style>\n",
       "<table border=\"1\" class=\"dataframe\">\n",
       "  <thead>\n",
       "    <tr style=\"text-align: right;\">\n",
       "      <th></th>\n",
       "      <th>bad</th>\n",
       "      <th>loan</th>\n",
       "      <th>mortdue</th>\n",
       "      <th>value</th>\n",
       "      <th>reason</th>\n",
       "      <th>yoj</th>\n",
       "      <th>derog</th>\n",
       "      <th>delinq</th>\n",
       "      <th>clage</th>\n",
       "      <th>ninq</th>\n",
       "      <th>clno</th>\n",
       "      <th>debtinc</th>\n",
       "      <th>job_Mgr</th>\n",
       "      <th>job_Office</th>\n",
       "      <th>job_Other</th>\n",
       "      <th>job_ProfEx</th>\n",
       "      <th>job_Sales</th>\n",
       "      <th>job_Self</th>\n",
       "    </tr>\n",
       "  </thead>\n",
       "  <tbody>\n",
       "    <tr>\n",
       "      <th>153</th>\n",
       "      <td>0</td>\n",
       "      <td>18200</td>\n",
       "      <td>94727.0</td>\n",
       "      <td>136877.0</td>\n",
       "      <td>0</td>\n",
       "      <td>15.0</td>\n",
       "      <td>0.0</td>\n",
       "      <td>0.0</td>\n",
       "      <td>168.96</td>\n",
       "      <td>2.0</td>\n",
       "      <td>26.0</td>\n",
       "      <td>36.056</td>\n",
       "      <td>1</td>\n",
       "      <td>0</td>\n",
       "      <td>0</td>\n",
       "      <td>0</td>\n",
       "      <td>0</td>\n",
       "      <td>0</td>\n",
       "    </tr>\n",
       "    <tr>\n",
       "      <th>154</th>\n",
       "      <td>0</td>\n",
       "      <td>21700</td>\n",
       "      <td>79240.0</td>\n",
       "      <td>96784.0</td>\n",
       "      <td>0</td>\n",
       "      <td>5.0</td>\n",
       "      <td>0.0</td>\n",
       "      <td>0.0</td>\n",
       "      <td>64.51</td>\n",
       "      <td>6.0</td>\n",
       "      <td>24.0</td>\n",
       "      <td>38.079</td>\n",
       "      <td>1</td>\n",
       "      <td>0</td>\n",
       "      <td>0</td>\n",
       "      <td>0</td>\n",
       "      <td>0</td>\n",
       "      <td>0</td>\n",
       "    </tr>\n",
       "  </tbody>\n",
       "</table>\n",
       "</div>"
      ],
      "text/plain": [
       "     bad   loan  mortdue     value  reason   yoj  derog  delinq   clage  ninq  \\\n",
       "153    0  18200  94727.0  136877.0       0  15.0    0.0     0.0  168.96   2.0   \n",
       "154    0  21700  79240.0   96784.0       0   5.0    0.0     0.0   64.51   6.0   \n",
       "\n",
       "     clno  debtinc  job_Mgr  job_Office  job_Other  job_ProfEx  job_Sales  \\\n",
       "153  26.0   36.056        1           0          0           0          0   \n",
       "154  24.0   38.079        1           0          0           0          0   \n",
       "\n",
       "     job_Self  \n",
       "153         0  \n",
       "154         0  "
      ]
     },
     "execution_count": 3,
     "metadata": {},
     "output_type": "execute_result"
    }
   ],
   "source": [
    "from sklearn.preprocessing import LabelEncoder\n",
    "\n",
    "df = pd.read_csv(r\"C:\\Users\\LENOVO\\Desktop\\KodluyoruzBootcamp\\Ödevler Ve Çalışmalar\\hmelq.csv\")\n",
    "\n",
    "df.dropna(inplace=True)\n",
    "df1 = df.copy()\n",
    "\n",
    "lbe = LabelEncoder()\n",
    "\n",
    "df1[\"reason\"] = lbe.fit_transform(df1[\"reason\"])\n",
    "df1  = pd.get_dummies(df1,columns= [\"job\"], prefix= [\"job\"])\n",
    "\n",
    "df1.head(2)"
   ]
  },
  {
   "cell_type": "code",
   "execution_count": 4,
   "metadata": {
    "colab": {},
    "colab_type": "code",
    "id": "r_0-i3Uiw5XT"
   },
   "outputs": [],
   "source": [
    "import Classes1 as cl"
   ]
  },
  {
   "cell_type": "code",
   "execution_count": 5,
   "metadata": {
    "colab": {},
    "colab_type": "code",
    "id": "iggWDzIzNCCr"
   },
   "outputs": [],
   "source": [
    "y = df1[\"bad\"]\n",
    "X = df1.drop([\"bad\"],axis=1)\n",
    "\n",
    "X_train,X_test,y_train,y_test = train_test_split(X,y,\n",
    "                                                 random_state = 42,\n",
    "                                                 test_size = 0.25)\n",
    "\n"
   ]
  },
  {
   "cell_type": "code",
   "execution_count": 6,
   "metadata": {
    "colab": {},
    "colab_type": "code",
    "id": "f-XM-eYKsEOL"
   },
   "outputs": [],
   "source": [
    "cl = cl.Methods()"
   ]
  },
  {
   "cell_type": "code",
   "execution_count": null,
   "metadata": {
    "colab": {
     "base_uri": "https://localhost:8080/",
     "height": 391
    },
    "colab_type": "code",
    "id": "7L9NgXxcsHsj",
    "outputId": "bb9fae99-8dce-4ebd-c461-3aefdefa88f1"
   },
   "outputs": [
    {
     "name": "stdout",
     "output_type": "stream",
     "text": [
      "Guassin Train ve Test Accuracy degerleri: 0.8968935888962326 & 0.904950495049505\n",
      "Multinomial Train ve Test Accuracy degerleri: 0.4639788499669531 & 0.44752475247524753\n",
      "Bernoulli Train ve Test Accuracy degerleri: 0.9035029742233972 & 0.9089108910891089\n",
      "*******************************************************************\n",
      "Sırasiyla Guassin, Multinomail  Tablolari\n",
      ":                precision    recall  f1-score   support\n",
      "\n",
      "           0       0.94      0.96      0.95       466\n",
      "           1       0.32      0.21      0.25        39\n",
      "\n",
      "    accuracy                           0.90       505\n",
      "   macro avg       0.63      0.58      0.60       505\n",
      "weighted avg       0.89      0.90      0.90       505\n",
      " \n",
      "               precision    recall  f1-score   support\n",
      "\n",
      "           0       0.90      0.45      0.60       466\n",
      "           1       0.06      0.41      0.10        39\n",
      "\n",
      "    accuracy                           0.45       505\n",
      "   macro avg       0.48      0.43      0.35       505\n",
      "weighted avg       0.84      0.45      0.56       505\n",
      "\n"
     ]
    }
   ],
   "source": [
    "cl.NavieBayes(X_train,y_train,X_test,y_test)"
   ]
  },
  {
   "cell_type": "code",
   "execution_count": 7,
   "metadata": {
    "colab": {
     "base_uri": "https://localhost:8080/",
     "height": 105
    },
    "colab_type": "code",
    "id": "UeJOVhRHtWQ3",
    "outputId": "565143ab-bb73-45ee-e713-9b5013283a83"
   },
   "outputs": [
    {
     "data": {
      "text/html": [
       "<div>\n",
       "<style scoped>\n",
       "    .dataframe tbody tr th:only-of-type {\n",
       "        vertical-align: middle;\n",
       "    }\n",
       "\n",
       "    .dataframe tbody tr th {\n",
       "        vertical-align: top;\n",
       "    }\n",
       "\n",
       "    .dataframe thead th {\n",
       "        text-align: right;\n",
       "    }\n",
       "</style>\n",
       "<table border=\"1\" class=\"dataframe\">\n",
       "  <thead>\n",
       "    <tr style=\"text-align: right;\">\n",
       "      <th></th>\n",
       "      <th>bad</th>\n",
       "      <th>loan</th>\n",
       "      <th>mortdue</th>\n",
       "      <th>value</th>\n",
       "      <th>reason</th>\n",
       "      <th>yoj</th>\n",
       "      <th>derog</th>\n",
       "      <th>delinq</th>\n",
       "      <th>clage</th>\n",
       "      <th>ninq</th>\n",
       "      <th>clno</th>\n",
       "      <th>debtinc</th>\n",
       "      <th>job_Mgr</th>\n",
       "      <th>job_Office</th>\n",
       "      <th>job_Other</th>\n",
       "      <th>job_ProfEx</th>\n",
       "      <th>job_Sales</th>\n",
       "      <th>job_Self</th>\n",
       "    </tr>\n",
       "  </thead>\n",
       "  <tbody>\n",
       "    <tr>\n",
       "      <th>153</th>\n",
       "      <td>0</td>\n",
       "      <td>18200</td>\n",
       "      <td>94727.0</td>\n",
       "      <td>136877.0</td>\n",
       "      <td>0</td>\n",
       "      <td>15.0</td>\n",
       "      <td>0.0</td>\n",
       "      <td>0.0</td>\n",
       "      <td>168.96</td>\n",
       "      <td>2.0</td>\n",
       "      <td>26.0</td>\n",
       "      <td>36.056</td>\n",
       "      <td>1</td>\n",
       "      <td>0</td>\n",
       "      <td>0</td>\n",
       "      <td>0</td>\n",
       "      <td>0</td>\n",
       "      <td>0</td>\n",
       "    </tr>\n",
       "    <tr>\n",
       "      <th>154</th>\n",
       "      <td>0</td>\n",
       "      <td>21700</td>\n",
       "      <td>79240.0</td>\n",
       "      <td>96784.0</td>\n",
       "      <td>0</td>\n",
       "      <td>5.0</td>\n",
       "      <td>0.0</td>\n",
       "      <td>0.0</td>\n",
       "      <td>64.51</td>\n",
       "      <td>6.0</td>\n",
       "      <td>24.0</td>\n",
       "      <td>38.079</td>\n",
       "      <td>1</td>\n",
       "      <td>0</td>\n",
       "      <td>0</td>\n",
       "      <td>0</td>\n",
       "      <td>0</td>\n",
       "      <td>0</td>\n",
       "    </tr>\n",
       "  </tbody>\n",
       "</table>\n",
       "</div>"
      ],
      "text/plain": [
       "     bad   loan  mortdue     value  reason   yoj  derog  delinq   clage  ninq  \\\n",
       "153    0  18200  94727.0  136877.0       0  15.0    0.0     0.0  168.96   2.0   \n",
       "154    0  21700  79240.0   96784.0       0   5.0    0.0     0.0   64.51   6.0   \n",
       "\n",
       "     clno  debtinc  job_Mgr  job_Office  job_Other  job_ProfEx  job_Sales  \\\n",
       "153  26.0   36.056        1           0          0           0          0   \n",
       "154  24.0   38.079        1           0          0           0          0   \n",
       "\n",
       "     job_Self  \n",
       "153         0  \n",
       "154         0  "
      ]
     },
     "execution_count": 7,
     "metadata": {},
     "output_type": "execute_result"
    }
   ],
   "source": [
    "df1.head(2)"
   ]
  },
  {
   "cell_type": "code",
   "execution_count": 8,
   "metadata": {
    "colab": {},
    "colab_type": "code",
    "id": "0xHY7k7IgKo4"
   },
   "outputs": [],
   "source": [
    "from sklearn.preprocessing import MinMaxScaler\n",
    "\n",
    "scaler = MinMaxScaler(feature_range = (0,1))\n",
    "\n",
    "\n",
    "\n",
    "col = list(df1.select_dtypes(include=[\"float64\",\"int64\"]))\n",
    "\n",
    "df1.loc[:,col] = scaler.fit_transform(df1.loc[:,col])"
   ]
  },
  {
   "cell_type": "code",
   "execution_count": 9,
   "metadata": {
    "colab": {
     "base_uri": "https://localhost:8080/",
     "height": 105
    },
    "colab_type": "code",
    "id": "-uY8x-yUgKhM",
    "outputId": "35afa96e-880f-4018-a7b9-7acf7a8ede7e"
   },
   "outputs": [
    {
     "data": {
      "text/html": [
       "<div>\n",
       "<style scoped>\n",
       "    .dataframe tbody tr th:only-of-type {\n",
       "        vertical-align: middle;\n",
       "    }\n",
       "\n",
       "    .dataframe tbody tr th {\n",
       "        vertical-align: top;\n",
       "    }\n",
       "\n",
       "    .dataframe thead th {\n",
       "        text-align: right;\n",
       "    }\n",
       "</style>\n",
       "<table border=\"1\" class=\"dataframe\">\n",
       "  <thead>\n",
       "    <tr style=\"text-align: right;\">\n",
       "      <th></th>\n",
       "      <th>bad</th>\n",
       "      <th>loan</th>\n",
       "      <th>mortdue</th>\n",
       "      <th>value</th>\n",
       "      <th>reason</th>\n",
       "      <th>yoj</th>\n",
       "      <th>derog</th>\n",
       "      <th>delinq</th>\n",
       "      <th>clage</th>\n",
       "      <th>ninq</th>\n",
       "      <th>clno</th>\n",
       "      <th>debtinc</th>\n",
       "      <th>job_Mgr</th>\n",
       "      <th>job_Office</th>\n",
       "      <th>job_Other</th>\n",
       "      <th>job_ProfEx</th>\n",
       "      <th>job_Sales</th>\n",
       "      <th>job_Self</th>\n",
       "    </tr>\n",
       "  </thead>\n",
       "  <tbody>\n",
       "    <tr>\n",
       "      <th>153</th>\n",
       "      <td>0.0</td>\n",
       "      <td>0.187075</td>\n",
       "      <td>0.227347</td>\n",
       "      <td>0.232520</td>\n",
       "      <td>0</td>\n",
       "      <td>0.365854</td>\n",
       "      <td>0.0</td>\n",
       "      <td>0.0</td>\n",
       "      <td>0.144270</td>\n",
       "      <td>0.153846</td>\n",
       "      <td>0.40625</td>\n",
       "      <td>0.228498</td>\n",
       "      <td>1</td>\n",
       "      <td>0</td>\n",
       "      <td>0</td>\n",
       "      <td>0</td>\n",
       "      <td>0</td>\n",
       "      <td>0</td>\n",
       "    </tr>\n",
       "    <tr>\n",
       "      <th>154</th>\n",
       "      <td>0.0</td>\n",
       "      <td>0.226757</td>\n",
       "      <td>0.188073</td>\n",
       "      <td>0.150633</td>\n",
       "      <td>0</td>\n",
       "      <td>0.121951</td>\n",
       "      <td>0.0</td>\n",
       "      <td>0.0</td>\n",
       "      <td>0.054824</td>\n",
       "      <td>0.461538</td>\n",
       "      <td>0.37500</td>\n",
       "      <td>0.242931</td>\n",
       "      <td>1</td>\n",
       "      <td>0</td>\n",
       "      <td>0</td>\n",
       "      <td>0</td>\n",
       "      <td>0</td>\n",
       "      <td>0</td>\n",
       "    </tr>\n",
       "  </tbody>\n",
       "</table>\n",
       "</div>"
      ],
      "text/plain": [
       "     bad      loan   mortdue     value  reason       yoj  derog  delinq  \\\n",
       "153  0.0  0.187075  0.227347  0.232520       0  0.365854    0.0     0.0   \n",
       "154  0.0  0.226757  0.188073  0.150633       0  0.121951    0.0     0.0   \n",
       "\n",
       "        clage      ninq     clno   debtinc  job_Mgr  job_Office  job_Other  \\\n",
       "153  0.144270  0.153846  0.40625  0.228498        1           0          0   \n",
       "154  0.054824  0.461538  0.37500  0.242931        1           0          0   \n",
       "\n",
       "     job_ProfEx  job_Sales  job_Self  \n",
       "153           0          0         0  \n",
       "154           0          0         0  "
      ]
     },
     "execution_count": 9,
     "metadata": {},
     "output_type": "execute_result"
    }
   ],
   "source": [
    "df1.head(2)"
   ]
  },
  {
   "cell_type": "code",
   "execution_count": 10,
   "metadata": {
    "colab": {},
    "colab_type": "code",
    "id": "PhJBenlRt-U1"
   },
   "outputs": [],
   "source": [
    "y = df1[\"bad\"]\n",
    "X = df1.drop([\"bad\"],axis=1)\n",
    "\n",
    "X_train,X_test,y_train,y_test = train_test_split(X,y,\n",
    "                                                 random_state = 42,\n",
    "                                                 test_size = 0.25)"
   ]
  },
  {
   "cell_type": "code",
   "execution_count": null,
   "metadata": {
    "colab": {
     "base_uri": "https://localhost:8080/",
     "height": 391
    },
    "colab_type": "code",
    "id": "Batq-pxZtqq4",
    "outputId": "3d3fea7a-06e9-44f5-fe53-3c56059245a7"
   },
   "outputs": [
    {
     "name": "stdout",
     "output_type": "stream",
     "text": [
      "Guassin Train ve Test Accuracy degerleri: 0.8605419695968275 & 0.8811881188118812\n",
      "Multinomial Train ve Test Accuracy degerleri: 0.9081295439524124 & 0.9227722772277228\n",
      "Bernoulli Train ve Test Accuracy degerleri: 0.9041639127561136 & 0.9089108910891089\n",
      "*******************************************************************\n",
      "Sırasiyla Guassin, Multinomail  Tablolari\n",
      ":                precision    recall  f1-score   support\n",
      "\n",
      "         0.0       0.95      0.92      0.93       466\n",
      "         1.0       0.30      0.41      0.35        39\n",
      "\n",
      "    accuracy                           0.88       505\n",
      "   macro avg       0.63      0.67      0.64       505\n",
      "weighted avg       0.90      0.88      0.89       505\n",
      " \n",
      "               precision    recall  f1-score   support\n",
      "\n",
      "         0.0       0.92      1.00      0.96       466\n",
      "         1.0       0.00      0.00      0.00        39\n",
      "\n",
      "    accuracy                           0.92       505\n",
      "   macro avg       0.46      0.50      0.48       505\n",
      "weighted avg       0.85      0.92      0.89       505\n",
      "\n"
     ]
    }
   ],
   "source": [
    "cl.NavieBayes(X_train,y_train,X_test,y_test)"
   ]
  },
  {
   "cell_type": "code",
   "execution_count": null,
   "metadata": {
    "colab": {},
    "colab_type": "code",
    "id": "gD3s6nMftqj_"
   },
   "outputs": [],
   "source": []
  },
  {
   "cell_type": "code",
   "execution_count": null,
   "metadata": {
    "colab": {},
    "colab_type": "code",
    "id": "GAnjwwYxgKef"
   },
   "outputs": [],
   "source": []
  },
  {
   "cell_type": "markdown",
   "metadata": {
    "colab_type": "text",
    "id": "bnD_noayuMBh"
   },
   "source": [
    " ## Benzer islemleri SVR icinde yapalim\n",
    " "
   ]
  },
  {
   "cell_type": "code",
   "execution_count": 11,
   "metadata": {
    "colab": {
     "base_uri": "https://localhost:8080/",
     "height": 105
    },
    "colab_type": "code",
    "id": "iUv7Jy8MgKch",
    "outputId": "81534011-e441-4443-d592-eb2add8c904d"
   },
   "outputs": [
    {
     "data": {
      "text/html": [
       "<div>\n",
       "<style scoped>\n",
       "    .dataframe tbody tr th:only-of-type {\n",
       "        vertical-align: middle;\n",
       "    }\n",
       "\n",
       "    .dataframe tbody tr th {\n",
       "        vertical-align: top;\n",
       "    }\n",
       "\n",
       "    .dataframe thead th {\n",
       "        text-align: right;\n",
       "    }\n",
       "</style>\n",
       "<table border=\"1\" class=\"dataframe\">\n",
       "  <thead>\n",
       "    <tr style=\"text-align: right;\">\n",
       "      <th></th>\n",
       "      <th>bad</th>\n",
       "      <th>loan</th>\n",
       "      <th>mortdue</th>\n",
       "      <th>value</th>\n",
       "      <th>reason</th>\n",
       "      <th>yoj</th>\n",
       "      <th>derog</th>\n",
       "      <th>delinq</th>\n",
       "      <th>clage</th>\n",
       "      <th>ninq</th>\n",
       "      <th>clno</th>\n",
       "      <th>debtinc</th>\n",
       "      <th>job_Mgr</th>\n",
       "      <th>job_Office</th>\n",
       "      <th>job_Other</th>\n",
       "      <th>job_ProfEx</th>\n",
       "      <th>job_Sales</th>\n",
       "      <th>job_Self</th>\n",
       "    </tr>\n",
       "  </thead>\n",
       "  <tbody>\n",
       "    <tr>\n",
       "      <th>153</th>\n",
       "      <td>0</td>\n",
       "      <td>18200</td>\n",
       "      <td>94727.0</td>\n",
       "      <td>136877.0</td>\n",
       "      <td>0</td>\n",
       "      <td>15.0</td>\n",
       "      <td>0.0</td>\n",
       "      <td>0.0</td>\n",
       "      <td>168.96</td>\n",
       "      <td>2.0</td>\n",
       "      <td>26.0</td>\n",
       "      <td>36.056</td>\n",
       "      <td>1</td>\n",
       "      <td>0</td>\n",
       "      <td>0</td>\n",
       "      <td>0</td>\n",
       "      <td>0</td>\n",
       "      <td>0</td>\n",
       "    </tr>\n",
       "    <tr>\n",
       "      <th>154</th>\n",
       "      <td>0</td>\n",
       "      <td>21700</td>\n",
       "      <td>79240.0</td>\n",
       "      <td>96784.0</td>\n",
       "      <td>0</td>\n",
       "      <td>5.0</td>\n",
       "      <td>0.0</td>\n",
       "      <td>0.0</td>\n",
       "      <td>64.51</td>\n",
       "      <td>6.0</td>\n",
       "      <td>24.0</td>\n",
       "      <td>38.079</td>\n",
       "      <td>1</td>\n",
       "      <td>0</td>\n",
       "      <td>0</td>\n",
       "      <td>0</td>\n",
       "      <td>0</td>\n",
       "      <td>0</td>\n",
       "    </tr>\n",
       "  </tbody>\n",
       "</table>\n",
       "</div>"
      ],
      "text/plain": [
       "     bad   loan  mortdue     value  reason   yoj  derog  delinq   clage  ninq  \\\n",
       "153    0  18200  94727.0  136877.0       0  15.0    0.0     0.0  168.96   2.0   \n",
       "154    0  21700  79240.0   96784.0       0   5.0    0.0     0.0   64.51   6.0   \n",
       "\n",
       "     clno  debtinc  job_Mgr  job_Office  job_Other  job_ProfEx  job_Sales  \\\n",
       "153  26.0   36.056        1           0          0           0          0   \n",
       "154  24.0   38.079        1           0          0           0          0   \n",
       "\n",
       "     job_Self  \n",
       "153         0  \n",
       "154         0  "
      ]
     },
     "execution_count": 11,
     "metadata": {},
     "output_type": "execute_result"
    }
   ],
   "source": [
    "from sklearn.preprocessing import LabelEncoder\n",
    "\n",
    "df = pd.read_csv(r\"C:\\Users\\LENOVO\\Desktop\\KodluyoruzBootcamp\\Ödevler Ve Çalışmalar\\hmelq.csv\")\n",
    "\n",
    "df.dropna(inplace=True)\n",
    "df1 = df.copy()\n",
    "\n",
    "lbe = LabelEncoder()\n",
    "\n",
    "df1[\"reason\"] = lbe.fit_transform(df1[\"reason\"])\n",
    "df1  = pd.get_dummies(df1,columns= [\"job\"], prefix= [\"job\"])\n",
    "\n",
    "df1.head(2)"
   ]
  },
  {
   "cell_type": "code",
   "execution_count": 12,
   "metadata": {},
   "outputs": [],
   "source": []
  },
  {
   "cell_type": "code",
   "execution_count": null,
   "metadata": {
    "colab": {
     "base_uri": "https://localhost:8080/",
     "height": 878
    },
    "colab_type": "code",
    "id": "MbHzeqY_uVNo",
    "outputId": "ccf533f8-4991-4b7b-feed-393e244f6248"
   },
   "outputs": [
    {
     "name": "stdout",
     "output_type": "stream",
     "text": [
      "Fitting 10 folds for each of 10000 candidates, totalling 100000 fits\n"
     ]
    },
    {
     "name": "stderr",
     "output_type": "stream",
     "text": [
      "[Parallel(n_jobs=-1)]: Using backend LokyBackend with 2 concurrent workers.\n",
      "[Parallel(n_jobs=-1)]: Done  14 tasks      | elapsed:    1.6s\n",
      "[Parallel(n_jobs=-1)]: Done 210 tasks      | elapsed:    5.6s\n",
      "[Parallel(n_jobs=-1)]: Done 570 tasks      | elapsed:   12.8s\n",
      "[Parallel(n_jobs=-1)]: Done 1074 tasks      | elapsed:   23.5s\n",
      "[Parallel(n_jobs=-1)]: Done 1722 tasks      | elapsed:   43.2s\n",
      "[Parallel(n_jobs=-1)]: Done 2514 tasks      | elapsed:  1.1min\n",
      "[Parallel(n_jobs=-1)]: Done 3450 tasks      | elapsed:  1.6min\n",
      "[Parallel(n_jobs=-1)]: Done 4530 tasks      | elapsed:  2.2min\n",
      "[Parallel(n_jobs=-1)]: Done 5754 tasks      | elapsed:  2.9min\n",
      "[Parallel(n_jobs=-1)]: Done 7122 tasks      | elapsed:  3.6min\n",
      "[Parallel(n_jobs=-1)]: Done 8634 tasks      | elapsed:  4.4min\n",
      "[Parallel(n_jobs=-1)]: Done 10290 tasks      | elapsed:  5.3min\n",
      "[Parallel(n_jobs=-1)]: Done 12090 tasks      | elapsed:  6.3min\n",
      "[Parallel(n_jobs=-1)]: Done 14034 tasks      | elapsed:  7.4min\n",
      "[Parallel(n_jobs=-1)]: Done 16122 tasks      | elapsed:  8.6min\n",
      "[Parallel(n_jobs=-1)]: Done 18354 tasks      | elapsed:  9.9min\n",
      "[Parallel(n_jobs=-1)]: Done 20730 tasks      | elapsed: 11.2min\n",
      "[Parallel(n_jobs=-1)]: Done 23250 tasks      | elapsed: 12.6min\n",
      "[Parallel(n_jobs=-1)]: Done 25914 tasks      | elapsed: 14.2min\n",
      "[Parallel(n_jobs=-1)]: Done 28722 tasks      | elapsed: 15.8min\n",
      "[Parallel(n_jobs=-1)]: Done 31674 tasks      | elapsed: 17.4min\n",
      "[Parallel(n_jobs=-1)]: Done 34770 tasks      | elapsed: 19.2min\n",
      "[Parallel(n_jobs=-1)]: Done 38010 tasks      | elapsed: 21.0min\n",
      "[Parallel(n_jobs=-1)]: Done 41394 tasks      | elapsed: 22.9min\n",
      "[Parallel(n_jobs=-1)]: Done 44922 tasks      | elapsed: 25.0min\n",
      "[Parallel(n_jobs=-1)]: Done 48594 tasks      | elapsed: 27.1min\n",
      "[Parallel(n_jobs=-1)]: Done 52410 tasks      | elapsed: 29.3min\n",
      "[Parallel(n_jobs=-1)]: Done 56370 tasks      | elapsed: 31.5min\n",
      "[Parallel(n_jobs=-1)]: Done 60474 tasks      | elapsed: 33.9min\n",
      "[Parallel(n_jobs=-1)]: Done 64722 tasks      | elapsed: 36.4min\n",
      "[Parallel(n_jobs=-1)]: Done 69114 tasks      | elapsed: 38.9min\n",
      "[Parallel(n_jobs=-1)]: Done 73650 tasks      | elapsed: 41.5min\n",
      "[Parallel(n_jobs=-1)]: Done 78330 tasks      | elapsed: 44.2min\n",
      "[Parallel(n_jobs=-1)]: Done 83154 tasks      | elapsed: 47.1min\n",
      "[Parallel(n_jobs=-1)]: Done 88122 tasks      | elapsed: 50.0min\n",
      "[Parallel(n_jobs=-1)]: Done 93234 tasks      | elapsed: 53.0min\n",
      "[Parallel(n_jobs=-1)]: Done 98490 tasks      | elapsed: 56.1min\n",
      "[Parallel(n_jobs=-1)]: Done 100000 out of 100000 | elapsed: 57.0min finished\n"
     ]
    },
    {
     "name": "stdout",
     "output_type": "stream",
     "text": [
      "Best Params:  {'C': 9.701, 'gamma': 5.7010000000000005}\n",
      "Train ve Test Sonuclari: 0.9795109054857898 | 0.9425742574257425\n",
      "****************************************\n",
      "Test tahmin detayli sonculari :\n",
      "               precision    recall  f1-score   support\n",
      "\n",
      "         0.0       0.95      1.00      0.97       466\n",
      "         1.0       0.86      0.31      0.45        39\n",
      "\n",
      "    accuracy                           0.94       505\n",
      "   macro avg       0.90      0.65      0.71       505\n",
      "weighted avg       0.94      0.94      0.93       505\n",
      "\n"
     ]
    }
   ],
   "source": [
    "import Classes1 as cl\n",
    "\n",
    "result = cl.Methods()\n",
    "\n",
    "result.svr_class(X_train, y_train, X_test, y_test)"
   ]
  },
  {
   "cell_type": "code",
   "execution_count": null,
   "metadata": {
    "colab": {},
    "colab_type": "code",
    "id": "H36KEqY18v4s"
   },
   "outputs": [],
   "source": []
  },
  {
   "cell_type": "markdown",
   "metadata": {
    "colab_type": "text",
    "id": "qWNor1Bb8q2f"
   },
   "source": [
    "## MinMax Scaler islemlerini gerceklestirdikten sonra tekrar modele verecegim\n",
    "\n",
    "### Soyle bir dipnot dusmek istiyorum bazi degiskenler kategorik gorunup sergiliyor gibi duruyor. Simdilik onları da minmax scaler islemine tabi tutacagim. Bu daha sonra degistirilerek tekrardan uygulanabilir"
   ]
  },
  {
   "cell_type": "code",
   "execution_count": null,
   "metadata": {
    "colab": {
     "base_uri": "https://localhost:8080/",
     "height": 105
    },
    "colab_type": "code",
    "id": "pVhec06vuVLb",
    "outputId": "d2d83897-c188-449f-b705-3c1c2f42a571"
   },
   "outputs": [
    {
     "data": {
      "text/html": [
       "<div>\n",
       "<style scoped>\n",
       "    .dataframe tbody tr th:only-of-type {\n",
       "        vertical-align: middle;\n",
       "    }\n",
       "\n",
       "    .dataframe tbody tr th {\n",
       "        vertical-align: top;\n",
       "    }\n",
       "\n",
       "    .dataframe thead th {\n",
       "        text-align: right;\n",
       "    }\n",
       "</style>\n",
       "<table border=\"1\" class=\"dataframe\">\n",
       "  <thead>\n",
       "    <tr style=\"text-align: right;\">\n",
       "      <th></th>\n",
       "      <th>bad</th>\n",
       "      <th>loan</th>\n",
       "      <th>mortdue</th>\n",
       "      <th>value</th>\n",
       "      <th>reason</th>\n",
       "      <th>yoj</th>\n",
       "      <th>derog</th>\n",
       "      <th>delinq</th>\n",
       "      <th>clage</th>\n",
       "      <th>ninq</th>\n",
       "      <th>clno</th>\n",
       "      <th>debtinc</th>\n",
       "      <th>job_Mgr</th>\n",
       "      <th>job_Office</th>\n",
       "      <th>job_Other</th>\n",
       "      <th>job_ProfEx</th>\n",
       "      <th>job_Sales</th>\n",
       "      <th>job_Self</th>\n",
       "    </tr>\n",
       "  </thead>\n",
       "  <tbody>\n",
       "    <tr>\n",
       "      <th>153</th>\n",
       "      <td>0</td>\n",
       "      <td>18200</td>\n",
       "      <td>94727.0</td>\n",
       "      <td>136877.0</td>\n",
       "      <td>0</td>\n",
       "      <td>15.0</td>\n",
       "      <td>0.0</td>\n",
       "      <td>0.0</td>\n",
       "      <td>168.96</td>\n",
       "      <td>2.0</td>\n",
       "      <td>26.0</td>\n",
       "      <td>36.056</td>\n",
       "      <td>1</td>\n",
       "      <td>0</td>\n",
       "      <td>0</td>\n",
       "      <td>0</td>\n",
       "      <td>0</td>\n",
       "      <td>0</td>\n",
       "    </tr>\n",
       "    <tr>\n",
       "      <th>154</th>\n",
       "      <td>0</td>\n",
       "      <td>21700</td>\n",
       "      <td>79240.0</td>\n",
       "      <td>96784.0</td>\n",
       "      <td>0</td>\n",
       "      <td>5.0</td>\n",
       "      <td>0.0</td>\n",
       "      <td>0.0</td>\n",
       "      <td>64.51</td>\n",
       "      <td>6.0</td>\n",
       "      <td>24.0</td>\n",
       "      <td>38.079</td>\n",
       "      <td>1</td>\n",
       "      <td>0</td>\n",
       "      <td>0</td>\n",
       "      <td>0</td>\n",
       "      <td>0</td>\n",
       "      <td>0</td>\n",
       "    </tr>\n",
       "  </tbody>\n",
       "</table>\n",
       "</div>"
      ],
      "text/plain": [
       "     bad   loan  mortdue     value  ...  job_Other  job_ProfEx  job_Sales  job_Self\n",
       "153    0  18200  94727.0  136877.0  ...          0           0          0         0\n",
       "154    0  21700  79240.0   96784.0  ...          0           0          0         0\n",
       "\n",
       "[2 rows x 18 columns]"
      ]
     },
     "execution_count": 85,
     "metadata": {
      "tags": []
     },
     "output_type": "execute_result"
    }
   ],
   "source": [
    "df = pd.read_csv(\"/content/drive/My Drive/hmelq.csv\")\n",
    "\n",
    "df.dropna(inplace=True)\n",
    "df1 = df.copy()\n",
    "\n",
    "lbe = LabelEncoder()\n",
    "\n",
    "df1[\"reason\"] = lbe.fit_transform(df1[\"reason\"])\n",
    "df1  = pd.get_dummies(df1,columns= [\"job\"], prefix= [\"job\"])\n",
    "\n",
    "df1.head(2)"
   ]
  },
  {
   "cell_type": "code",
   "execution_count": null,
   "metadata": {
    "colab": {
     "base_uri": "https://localhost:8080/",
     "height": 191
    },
    "colab_type": "code",
    "id": "suTh9UQpuVJe",
    "outputId": "00c2200c-0410-4dd0-84ea-ef47bdece3c1"
   },
   "outputs": [
    {
     "data": {
      "text/html": [
       "<div>\n",
       "<style scoped>\n",
       "    .dataframe tbody tr th:only-of-type {\n",
       "        vertical-align: middle;\n",
       "    }\n",
       "\n",
       "    .dataframe tbody tr th {\n",
       "        vertical-align: top;\n",
       "    }\n",
       "\n",
       "    .dataframe thead th {\n",
       "        text-align: right;\n",
       "    }\n",
       "</style>\n",
       "<table border=\"1\" class=\"dataframe\">\n",
       "  <thead>\n",
       "    <tr style=\"text-align: right;\">\n",
       "      <th></th>\n",
       "      <th>bad</th>\n",
       "      <th>loan</th>\n",
       "      <th>mortdue</th>\n",
       "      <th>value</th>\n",
       "      <th>reason</th>\n",
       "      <th>yoj</th>\n",
       "      <th>derog</th>\n",
       "      <th>delinq</th>\n",
       "      <th>clage</th>\n",
       "      <th>ninq</th>\n",
       "      <th>clno</th>\n",
       "      <th>debtinc</th>\n",
       "      <th>job_Mgr</th>\n",
       "      <th>job_Office</th>\n",
       "      <th>job_Other</th>\n",
       "      <th>job_ProfEx</th>\n",
       "      <th>job_Sales</th>\n",
       "      <th>job_Self</th>\n",
       "    </tr>\n",
       "  </thead>\n",
       "  <tbody>\n",
       "    <tr>\n",
       "      <th>153</th>\n",
       "      <td>0.0</td>\n",
       "      <td>0.187075</td>\n",
       "      <td>0.227347</td>\n",
       "      <td>0.232520</td>\n",
       "      <td>0.0</td>\n",
       "      <td>0.365854</td>\n",
       "      <td>0.0</td>\n",
       "      <td>0.0</td>\n",
       "      <td>0.144270</td>\n",
       "      <td>0.153846</td>\n",
       "      <td>0.406250</td>\n",
       "      <td>0.228498</td>\n",
       "      <td>1</td>\n",
       "      <td>0</td>\n",
       "      <td>0</td>\n",
       "      <td>0</td>\n",
       "      <td>0</td>\n",
       "      <td>0</td>\n",
       "    </tr>\n",
       "    <tr>\n",
       "      <th>154</th>\n",
       "      <td>0.0</td>\n",
       "      <td>0.226757</td>\n",
       "      <td>0.188073</td>\n",
       "      <td>0.150633</td>\n",
       "      <td>0.0</td>\n",
       "      <td>0.121951</td>\n",
       "      <td>0.0</td>\n",
       "      <td>0.0</td>\n",
       "      <td>0.054824</td>\n",
       "      <td>0.461538</td>\n",
       "      <td>0.375000</td>\n",
       "      <td>0.242931</td>\n",
       "      <td>1</td>\n",
       "      <td>0</td>\n",
       "      <td>0</td>\n",
       "      <td>0</td>\n",
       "      <td>0</td>\n",
       "      <td>0</td>\n",
       "    </tr>\n",
       "    <tr>\n",
       "      <th>155</th>\n",
       "      <td>0.0</td>\n",
       "      <td>0.367347</td>\n",
       "      <td>0.600643</td>\n",
       "      <td>0.027481</td>\n",
       "      <td>0.0</td>\n",
       "      <td>0.024390</td>\n",
       "      <td>0.0</td>\n",
       "      <td>0.2</td>\n",
       "      <td>0.167435</td>\n",
       "      <td>0.230769</td>\n",
       "      <td>0.781250</td>\n",
       "      <td>0.274181</td>\n",
       "      <td>1</td>\n",
       "      <td>0</td>\n",
       "      <td>0</td>\n",
       "      <td>0</td>\n",
       "      <td>0</td>\n",
       "      <td>0</td>\n",
       "    </tr>\n",
       "    <tr>\n",
       "      <th>156</th>\n",
       "      <td>0.0</td>\n",
       "      <td>0.075964</td>\n",
       "      <td>0.146862</td>\n",
       "      <td>0.109651</td>\n",
       "      <td>1.0</td>\n",
       "      <td>0.073171</td>\n",
       "      <td>0.0</td>\n",
       "      <td>0.2</td>\n",
       "      <td>0.112165</td>\n",
       "      <td>0.000000</td>\n",
       "      <td>0.343750</td>\n",
       "      <td>0.179582</td>\n",
       "      <td>1</td>\n",
       "      <td>0</td>\n",
       "      <td>0</td>\n",
       "      <td>0</td>\n",
       "      <td>0</td>\n",
       "      <td>0</td>\n",
       "    </tr>\n",
       "    <tr>\n",
       "      <th>157</th>\n",
       "      <td>0.0</td>\n",
       "      <td>0.178005</td>\n",
       "      <td>0.052704</td>\n",
       "      <td>0.042182</td>\n",
       "      <td>0.0</td>\n",
       "      <td>0.390244</td>\n",
       "      <td>0.1</td>\n",
       "      <td>0.0</td>\n",
       "      <td>0.081242</td>\n",
       "      <td>0.076923</td>\n",
       "      <td>0.265625</td>\n",
       "      <td>0.164656</td>\n",
       "      <td>1</td>\n",
       "      <td>0</td>\n",
       "      <td>0</td>\n",
       "      <td>0</td>\n",
       "      <td>0</td>\n",
       "      <td>0</td>\n",
       "    </tr>\n",
       "  </tbody>\n",
       "</table>\n",
       "</div>"
      ],
      "text/plain": [
       "     bad      loan   mortdue  ...  job_ProfEx  job_Sales  job_Self\n",
       "153  0.0  0.187075  0.227347  ...           0          0         0\n",
       "154  0.0  0.226757  0.188073  ...           0          0         0\n",
       "155  0.0  0.367347  0.600643  ...           0          0         0\n",
       "156  0.0  0.075964  0.146862  ...           0          0         0\n",
       "157  0.0  0.178005  0.052704  ...           0          0         0\n",
       "\n",
       "[5 rows x 18 columns]"
      ]
     },
     "execution_count": 91,
     "metadata": {
      "tags": []
     },
     "output_type": "execute_result"
    }
   ],
   "source": [
    "scaler = MinMaxScaler(feature_range = (0,1))\n",
    "\n",
    "\n",
    "\n",
    "col = list(df1.select_dtypes(include=[\"float64\",\"int64\"]))\n",
    "\n",
    "df1.loc[:,col] = scaler.fit_transform(df1.loc[:,col])\n",
    "\n",
    "df1.head()"
   ]
  },
  {
   "cell_type": "code",
   "execution_count": null,
   "metadata": {
    "colab": {
     "base_uri": "https://localhost:8080/",
     "height": 878
    },
    "colab_type": "code",
    "id": "XHkf150VuVGv",
    "outputId": "c8cec14b-b924-4ddb-eece-1b5737dc632d"
   },
   "outputs": [
    {
     "name": "stdout",
     "output_type": "stream",
     "text": [
      "Fitting 10 folds for each of 10000 candidates, totalling 100000 fits\n"
     ]
    },
    {
     "name": "stderr",
     "output_type": "stream",
     "text": [
      "[Parallel(n_jobs=-1)]: Using backend LokyBackend with 2 concurrent workers.\n",
      "[Parallel(n_jobs=-1)]: Done  14 tasks      | elapsed:    1.5s\n",
      "[Parallel(n_jobs=-1)]: Done 210 tasks      | elapsed:    5.5s\n",
      "[Parallel(n_jobs=-1)]: Done 570 tasks      | elapsed:   12.9s\n",
      "[Parallel(n_jobs=-1)]: Done 1074 tasks      | elapsed:   23.7s\n",
      "[Parallel(n_jobs=-1)]: Done 1722 tasks      | elapsed:   43.5s\n",
      "[Parallel(n_jobs=-1)]: Done 2514 tasks      | elapsed:  1.1min\n",
      "[Parallel(n_jobs=-1)]: Done 3450 tasks      | elapsed:  1.6min\n",
      "[Parallel(n_jobs=-1)]: Done 4530 tasks      | elapsed:  2.2min\n",
      "[Parallel(n_jobs=-1)]: Done 5754 tasks      | elapsed:  2.9min\n",
      "[Parallel(n_jobs=-1)]: Done 7122 tasks      | elapsed:  3.7min\n",
      "[Parallel(n_jobs=-1)]: Done 8634 tasks      | elapsed:  4.5min\n",
      "[Parallel(n_jobs=-1)]: Done 10290 tasks      | elapsed:  5.4min\n",
      "[Parallel(n_jobs=-1)]: Done 12090 tasks      | elapsed:  6.4min\n",
      "[Parallel(n_jobs=-1)]: Done 14034 tasks      | elapsed:  7.5min\n",
      "[Parallel(n_jobs=-1)]: Done 16122 tasks      | elapsed:  8.7min\n",
      "[Parallel(n_jobs=-1)]: Done 18354 tasks      | elapsed: 10.0min\n",
      "[Parallel(n_jobs=-1)]: Done 20730 tasks      | elapsed: 11.4min\n",
      "[Parallel(n_jobs=-1)]: Done 23250 tasks      | elapsed: 12.8min\n",
      "[Parallel(n_jobs=-1)]: Done 25914 tasks      | elapsed: 14.3min\n",
      "[Parallel(n_jobs=-1)]: Done 28722 tasks      | elapsed: 16.0min\n",
      "[Parallel(n_jobs=-1)]: Done 31674 tasks      | elapsed: 17.7min\n",
      "[Parallel(n_jobs=-1)]: Done 34770 tasks      | elapsed: 19.5min\n",
      "[Parallel(n_jobs=-1)]: Done 38010 tasks      | elapsed: 21.3min\n",
      "[Parallel(n_jobs=-1)]: Done 41394 tasks      | elapsed: 23.3min\n",
      "[Parallel(n_jobs=-1)]: Done 44922 tasks      | elapsed: 25.3min\n",
      "[Parallel(n_jobs=-1)]: Done 48594 tasks      | elapsed: 27.5min\n",
      "[Parallel(n_jobs=-1)]: Done 52410 tasks      | elapsed: 29.7min\n",
      "[Parallel(n_jobs=-1)]: Done 56370 tasks      | elapsed: 32.0min\n",
      "[Parallel(n_jobs=-1)]: Done 60474 tasks      | elapsed: 34.4min\n",
      "[Parallel(n_jobs=-1)]: Done 64722 tasks      | elapsed: 36.9min\n",
      "[Parallel(n_jobs=-1)]: Done 69114 tasks      | elapsed: 39.4min\n",
      "[Parallel(n_jobs=-1)]: Done 73650 tasks      | elapsed: 42.1min\n",
      "[Parallel(n_jobs=-1)]: Done 78330 tasks      | elapsed: 44.8min\n",
      "[Parallel(n_jobs=-1)]: Done 83154 tasks      | elapsed: 47.7min\n",
      "[Parallel(n_jobs=-1)]: Done 88122 tasks      | elapsed: 50.7min\n",
      "[Parallel(n_jobs=-1)]: Done 93234 tasks      | elapsed: 53.7min\n",
      "[Parallel(n_jobs=-1)]: Done 98490 tasks      | elapsed: 56.9min\n",
      "[Parallel(n_jobs=-1)]: Done 100000 out of 100000 | elapsed: 57.8min finished\n"
     ]
    },
    {
     "name": "stdout",
     "output_type": "stream",
     "text": [
      "Best Params:  {'C': 9.701, 'gamma': 5.7010000000000005}\n",
      "Train ve Test Sonuclari: 0.9795109054857898 | 0.9425742574257425\n",
      "****************************************\n",
      "Test tahmin detayli sonculari :\n",
      "               precision    recall  f1-score   support\n",
      "\n",
      "         0.0       0.95      1.00      0.97       466\n",
      "         1.0       0.86      0.31      0.45        39\n",
      "\n",
      "    accuracy                           0.94       505\n",
      "   macro avg       0.90      0.65      0.71       505\n",
      "weighted avg       0.94      0.94      0.93       505\n",
      "\n"
     ]
    }
   ],
   "source": [
    "y = df1[\"bad\"]\n",
    "X = df1.drop([\"bad\"],axis=1)\n",
    "\n",
    "X_train,X_test,y_train,y_test = train_test_split(X,y,\n",
    "                                                 random_state = 42,\n",
    "                                                 test_size = 0.25)\n",
    "\n",
    "result.svr_class(X_train, y_train, X_test, y_test)"
   ]
  },
  {
   "cell_type": "code",
   "execution_count": null,
   "metadata": {
    "colab": {},
    "colab_type": "code",
    "id": "ovAxEqIKaoDs"
   },
   "outputs": [],
   "source": []
  },
  {
   "cell_type": "markdown",
   "metadata": {
    "colab_type": "text",
    "id": "aKY2PhW2JLh6"
   },
   "source": [
    "# Birde LightGBM deneyelim\n"
   ]
  },
  {
   "cell_type": "code",
   "execution_count": null,
   "metadata": {
    "colab": {
     "base_uri": "https://localhost:8080/",
     "height": 521
    },
    "colab_type": "code",
    "id": "vICvcYV1I5yF",
    "outputId": "10309217-4677-4cb6-ef6c-9c477d18fcac"
   },
   "outputs": [
    {
     "name": "stdout",
     "output_type": "stream",
     "text": [
      "Fitting 10 folds for each of 1152 candidates, totalling 11520 fits\n"
     ]
    },
    {
     "name": "stderr",
     "output_type": "stream",
     "text": [
      "[Parallel(n_jobs=-1)]: Using backend LokyBackend with 2 concurrent workers.\n",
      "[Parallel(n_jobs=-1)]: Done  50 tasks      | elapsed:    5.7s\n",
      "[Parallel(n_jobs=-1)]: Done 224 tasks      | elapsed:   53.2s\n",
      "[Parallel(n_jobs=-1)]: Done 503 tasks      | elapsed:  1.9min\n",
      "[Parallel(n_jobs=-1)]: Done 834 tasks      | elapsed:  3.7min\n",
      "[Parallel(n_jobs=-1)]: Done 1229 tasks      | elapsed:  5.7min\n",
      "[Parallel(n_jobs=-1)]: Done 1720 tasks      | elapsed:  8.5min\n",
      "[Parallel(n_jobs=-1)]: Done 2411 tasks      | elapsed: 11.6min\n",
      "[Parallel(n_jobs=-1)]: Done 3118 tasks      | elapsed: 14.7min\n",
      "[Parallel(n_jobs=-1)]: Done 3939 tasks      | elapsed: 18.1min\n",
      "[Parallel(n_jobs=-1)]: Done 4952 tasks      | elapsed: 22.7min\n",
      "[Parallel(n_jobs=-1)]: Done 5906 tasks      | elapsed: 28.1min\n",
      "[Parallel(n_jobs=-1)]: Done 7042 tasks      | elapsed: 33.6min\n",
      "[Parallel(n_jobs=-1)]: Done 8265 tasks      | elapsed: 40.1min\n",
      "[Parallel(n_jobs=-1)]: Done 9462 tasks      | elapsed: 47.0min\n",
      "[Parallel(n_jobs=-1)]: Done 10964 tasks      | elapsed: 52.8min\n",
      "[Parallel(n_jobs=-1)]: Done 11520 out of 11520 | elapsed: 55.0min finished\n"
     ]
    },
    {
     "name": "stdout",
     "output_type": "stream",
     "text": [
      "Best parametreler:  {'learning_rate': 0.5, 'max_depth': 6, 'min_child_samples': 50, 'n_estimators': 500, 'subsample': 0.6}\n",
      "Train Accuracy degeri:  1.0\n",
      "Test Accuracy degeri:  0.9544554455445544\n",
      "Test Setine ait Detaylar: \n",
      "               precision    recall  f1-score   support\n",
      "\n",
      "           0       0.95      1.00      0.98       466\n",
      "           1       0.94      0.44      0.60        39\n",
      "\n",
      "    accuracy                           0.95       505\n",
      "   macro avg       0.95      0.72      0.79       505\n",
      "weighted avg       0.95      0.95      0.95       505\n",
      "\n"
     ]
    }
   ],
   "source": [
    "\n",
    "\n",
    "result.LgbmC(X_train, y_train, X_test, y_test)"
   ]
  },
  {
   "cell_type": "code",
   "execution_count": null,
   "metadata": {
    "colab": {
     "base_uri": "https://localhost:8080/",
     "height": 521
    },
    "colab_type": "code",
    "id": "LNpSVKUzI5uu",
    "outputId": "a39b3f66-b9e6-482f-b04d-3e26b899ce15"
   },
   "outputs": [
    {
     "name": "stdout",
     "output_type": "stream",
     "text": [
      "Fitting 10 folds for each of 1152 candidates, totalling 11520 fits\n"
     ]
    },
    {
     "name": "stderr",
     "output_type": "stream",
     "text": [
      "[Parallel(n_jobs=-1)]: Using backend LokyBackend with 2 concurrent workers.\n",
      "[Parallel(n_jobs=-1)]: Done  70 tasks      | elapsed:    8.7s\n",
      "[Parallel(n_jobs=-1)]: Done 228 tasks      | elapsed:   55.3s\n",
      "[Parallel(n_jobs=-1)]: Done 503 tasks      | elapsed:  2.0min\n",
      "[Parallel(n_jobs=-1)]: Done 864 tasks      | elapsed:  3.8min\n",
      "[Parallel(n_jobs=-1)]: Done 1281 tasks      | elapsed:  5.9min\n",
      "[Parallel(n_jobs=-1)]: Done 1752 tasks      | elapsed:  8.5min\n",
      "[Parallel(n_jobs=-1)]: Done 2437 tasks      | elapsed: 11.5min\n",
      "[Parallel(n_jobs=-1)]: Done 3128 tasks      | elapsed: 14.6min\n",
      "[Parallel(n_jobs=-1)]: Done 3876 tasks      | elapsed: 17.9min\n",
      "[Parallel(n_jobs=-1)]: Done 4874 tasks      | elapsed: 22.4min\n",
      "[Parallel(n_jobs=-1)]: Done 5851 tasks      | elapsed: 28.2min\n",
      "[Parallel(n_jobs=-1)]: Done 7042 tasks      | elapsed: 33.8min\n",
      "[Parallel(n_jobs=-1)]: Done 8312 tasks      | elapsed: 40.1min\n",
      "[Parallel(n_jobs=-1)]: Done 9612 tasks      | elapsed: 47.0min\n",
      "[Parallel(n_jobs=-1)]: Done 11213 tasks      | elapsed: 52.4min\n",
      "[Parallel(n_jobs=-1)]: Done 11520 out of 11520 | elapsed: 53.6min finished\n"
     ]
    },
    {
     "name": "stdout",
     "output_type": "stream",
     "text": [
      "Best parametreler:  {'learning_rate': 0.05, 'max_depth': 6, 'min_child_samples': 50, 'n_estimators': 1000, 'subsample': 0.6}\n",
      "Train Accuracy degeri:  1.0\n",
      "Test Accuracy degeri:  0.9524752475247524\n",
      "Test Setine ait Detaylar: \n",
      "               precision    recall  f1-score   support\n",
      "\n",
      "         0.0       0.95      1.00      0.97       466\n",
      "         1.0       0.94      0.41      0.57        39\n",
      "\n",
      "    accuracy                           0.95       505\n",
      "   macro avg       0.95      0.70      0.77       505\n",
      "weighted avg       0.95      0.95      0.94       505\n",
      "\n"
     ]
    }
   ],
   "source": [
    "# Ayni sekilde MinMax Scale isleminden sonraki sonuclari da gormek isteyelim\n",
    "\n",
    "df = pd.read_csv(\"/content/drive/My Drive/hmelq.csv\")\n",
    "\n",
    "df.dropna(inplace=True)\n",
    "df1 = df.copy()\n",
    "\n",
    "lbe = LabelEncoder()\n",
    "\n",
    "df1[\"reason\"] = lbe.fit_transform(df1[\"reason\"])\n",
    "df1  = pd.get_dummies(df1,columns= [\"job\"], prefix= [\"job\"])\n",
    "\n",
    "from sklearn.preprocessing import MinMaxScaler\n",
    "\n",
    "scaler = MinMaxScaler(feature_range = (0,1))\n",
    "\n",
    "\n",
    "\n",
    "col = list(df1.select_dtypes(include=[\"float64\",\"int64\"]))\n",
    "\n",
    "df1.loc[:,col] = scaler.fit_transform(df1.loc[:,col])\n",
    "\n",
    "y = df1[\"bad\"]\n",
    "X = df1.drop([\"bad\"],axis=1)\n",
    "\n",
    "X_train,X_test,y_train,y_test = train_test_split(X,y,\n",
    "                                                 random_state = 42,\n",
    "                                                 test_size = 0.25)\n",
    "\n",
    "result.LgbmC(X_train, y_train, X_test, y_test)"
   ]
  },
  {
   "cell_type": "code",
   "execution_count": null,
   "metadata": {
    "colab": {},
    "colab_type": "code",
    "id": "qZF8el3NI5on"
   },
   "outputs": [],
   "source": []
  },
  {
   "cell_type": "code",
   "execution_count": 32,
   "metadata": {
    "colab": {},
    "colab_type": "code",
    "id": "3RwnwvmbaoNf"
   },
   "outputs": [],
   "source": [
    "# KNN ile de ayni islemleri tekrarliyorum\n",
    "\n",
    "df = pd.read_csv(\"/content/drive/My Drive/hmelq.csv\")\n",
    "\n",
    "df.dropna(inplace=True)\n",
    "df1 = df.copy()\n",
    "\n",
    "lbe = LabelEncoder()\n",
    "\n",
    "df1[\"reason\"] = lbe.fit_transform(df1[\"reason\"])\n",
    "df1  = pd.get_dummies(df1,columns= [\"job\"], prefix= [\"job\"])\n",
    "\n",
    "y = df1[\"bad\"]\n",
    "X = df1.drop([\"bad\"],axis=1)\n",
    "\n",
    "X_train,X_test,y_train,y_test = train_test_split(X,y,\n",
    "                                                 random_state = 42,\n",
    "                                                 test_size = 0.25)\n",
    "\n"
   ]
  },
  {
   "cell_type": "code",
   "execution_count": 33,
   "metadata": {
    "colab": {
     "base_uri": "https://localhost:8080/",
     "height": 277
    },
    "colab_type": "code",
    "id": "nkCLCJRrqdnD",
    "outputId": "83319bc3-c45b-4d8b-937b-665d6051a779"
   },
   "outputs": [
    {
     "name": "stdout",
     "output_type": "stream",
     "text": [
      "Best parametreler: \n",
      " {'algorithm': 'auto', 'metric': 'manhattan', 'n_neighbors': 15}\n",
      "************************************\n",
      "Train setine ait accuracy:  0.9107732980832782\n",
      "Test setine ait accuracy:  0.9267326732673268\n",
      "***********************************\n",
      "Test setine ait recall f1 vb. : \n",
      "               precision    recall  f1-score   support\n",
      "\n",
      "           0       0.93      1.00      0.96       466\n",
      "           1       1.00      0.05      0.10        39\n",
      "\n",
      "    accuracy                           0.93       505\n",
      "   macro avg       0.96      0.53      0.53       505\n",
      "weighted avg       0.93      0.93      0.90       505\n",
      "\n"
     ]
    }
   ],
   "source": [
    "cl = cl.Methods()\n",
    "\n",
    "cl.KnnClassifier(X_train, y_train, X_test, y_test)"
   ]
  },
  {
   "cell_type": "code",
   "execution_count": null,
   "metadata": {
    "colab": {},
    "colab_type": "code",
    "id": "5PcHaByFu6zg"
   },
   "outputs": [],
   "source": []
  },
  {
   "cell_type": "code",
   "execution_count": 34,
   "metadata": {
    "colab": {
     "base_uri": "https://localhost:8080/",
     "height": 277
    },
    "colab_type": "code",
    "id": "DB0zGgKyu6up",
    "outputId": "3ec2afec-3a3f-4d34-8e26-7f2bc5ba744e"
   },
   "outputs": [
    {
     "name": "stdout",
     "output_type": "stream",
     "text": [
      "Best parametreler: \n",
      " {'algorithm': 'auto', 'metric': 'euclidean', 'n_neighbors': 1}\n",
      "************************************\n",
      "Train setine ait accuracy:  1.0\n",
      "Test setine ait accuracy:  0.9485148514851485\n",
      "***********************************\n",
      "Test setine ait recall f1 vb. : \n",
      "               precision    recall  f1-score   support\n",
      "\n",
      "         0.0       0.95      1.00      0.97       466\n",
      "         1.0       1.00      0.33      0.50        39\n",
      "\n",
      "    accuracy                           0.95       505\n",
      "   macro avg       0.97      0.67      0.74       505\n",
      "weighted avg       0.95      0.95      0.94       505\n",
      "\n"
     ]
    }
   ],
   "source": [
    "# MinMax Sonucunu degerlendirelim\n",
    "\n",
    "df = pd.read_csv(\"/content/drive/My Drive/hmelq.csv\")\n",
    "\n",
    "df.dropna(inplace=True)\n",
    "df1 = df.copy()\n",
    "\n",
    "lbe = LabelEncoder()\n",
    "\n",
    "df1[\"reason\"] = lbe.fit_transform(df1[\"reason\"])\n",
    "df1  = pd.get_dummies(df1,columns= [\"job\"], prefix= [\"job\"])\n",
    "\n",
    "from sklearn.preprocessing import MinMaxScaler\n",
    "\n",
    "scaler = MinMaxScaler(feature_range = (0,1))\n",
    "\n",
    "\n",
    "\n",
    "col = list(df1.select_dtypes(include=[\"float64\",\"int64\"]))\n",
    "\n",
    "df1.loc[:,col] = scaler.fit_transform(df1.loc[:,col])\n",
    "\n",
    "y = df1[\"bad\"]\n",
    "X = df1.drop([\"bad\"],axis=1)\n",
    "\n",
    "X_train,X_test,y_train,y_test = train_test_split(X,y,\n",
    "                                                 random_state = 42,\n",
    "                                                 test_size = 0.25)\n",
    "\n",
    "cl.KnnClassifier(X_train, y_train, X_test, y_test)"
   ]
  },
  {
   "cell_type": "code",
   "execution_count": null,
   "metadata": {
    "colab": {},
    "colab_type": "code",
    "id": "Ku6wGLmuu6pg"
   },
   "outputs": [],
   "source": []
  },
  {
   "cell_type": "code",
   "execution_count": null,
   "metadata": {
    "colab": {},
    "colab_type": "code",
    "id": "bySl8dovtkQP"
   },
   "outputs": [],
   "source": []
  },
  {
   "cell_type": "markdown",
   "metadata": {
    "colab_type": "text",
    "id": "gpAPg0HxBduu"
   },
   "source": [
    "## Simdi Foreks datasini import edecegim.\n",
    "## Ardindan bazi elimine islemleri ile her degisken uzerinde degil elimine sonucu elde ettigim degiskenler uzerinde calisacagim"
   ]
  },
  {
   "cell_type": "code",
   "execution_count": null,
   "metadata": {
    "colab": {},
    "colab_type": "code",
    "id": "1goN0ldABdD8"
   },
   "outputs": [],
   "source": [
    "df = pd.read_excel(\"/content/drive/My Drive/HW_Data_Set.xlsx\")\n"
   ]
  },
  {
   "cell_type": "code",
   "execution_count": null,
   "metadata": {
    "colab": {
     "base_uri": "https://localhost:8080/",
     "height": 391
    },
    "colab_type": "code",
    "id": "EY8n8YAqaoWr",
    "outputId": "4fa669a7-3082-47a7-99b8-102d3987ffae"
   },
   "outputs": [
    {
     "data": {
      "text/html": [
       "<div>\n",
       "<style scoped>\n",
       "    .dataframe tbody tr th:only-of-type {\n",
       "        vertical-align: middle;\n",
       "    }\n",
       "\n",
       "    .dataframe tbody tr th {\n",
       "        vertical-align: top;\n",
       "    }\n",
       "\n",
       "    .dataframe thead th {\n",
       "        text-align: right;\n",
       "    }\n",
       "</style>\n",
       "<table border=\"1\" class=\"dataframe\">\n",
       "  <thead>\n",
       "    <tr style=\"text-align: right;\">\n",
       "      <th></th>\n",
       "      <th>ind_109</th>\n",
       "      <th>ind_420</th>\n",
       "      <th>ind_422</th>\n",
       "    </tr>\n",
       "  </thead>\n",
       "  <tbody>\n",
       "    <tr>\n",
       "      <th>0</th>\n",
       "      <td>GREEN</td>\n",
       "      <td>-152</td>\n",
       "      <td>-353</td>\n",
       "    </tr>\n",
       "    <tr>\n",
       "      <th>1</th>\n",
       "      <td>GREEN</td>\n",
       "      <td>-158</td>\n",
       "      <td>-359</td>\n",
       "    </tr>\n",
       "    <tr>\n",
       "      <th>2</th>\n",
       "      <td>GREEN</td>\n",
       "      <td>-160</td>\n",
       "      <td>-362</td>\n",
       "    </tr>\n",
       "    <tr>\n",
       "      <th>3</th>\n",
       "      <td>GREEN</td>\n",
       "      <td>-166</td>\n",
       "      <td>-367</td>\n",
       "    </tr>\n",
       "    <tr>\n",
       "      <th>4</th>\n",
       "      <td>GREEN</td>\n",
       "      <td>-186</td>\n",
       "      <td>-388</td>\n",
       "    </tr>\n",
       "    <tr>\n",
       "      <th>...</th>\n",
       "      <td>...</td>\n",
       "      <td>...</td>\n",
       "      <td>...</td>\n",
       "    </tr>\n",
       "    <tr>\n",
       "      <th>6162</th>\n",
       "      <td>RED</td>\n",
       "      <td>-11</td>\n",
       "      <td>-270</td>\n",
       "    </tr>\n",
       "    <tr>\n",
       "      <th>6163</th>\n",
       "      <td>RED</td>\n",
       "      <td>-12</td>\n",
       "      <td>-271</td>\n",
       "    </tr>\n",
       "    <tr>\n",
       "      <th>6164</th>\n",
       "      <td>GREEN</td>\n",
       "      <td>-21</td>\n",
       "      <td>-280</td>\n",
       "    </tr>\n",
       "    <tr>\n",
       "      <th>6165</th>\n",
       "      <td>GREEN</td>\n",
       "      <td>-33</td>\n",
       "      <td>-292</td>\n",
       "    </tr>\n",
       "    <tr>\n",
       "      <th>6166</th>\n",
       "      <td>GREEN</td>\n",
       "      <td>-28</td>\n",
       "      <td>-288</td>\n",
       "    </tr>\n",
       "  </tbody>\n",
       "</table>\n",
       "<p>6167 rows × 3 columns</p>\n",
       "</div>"
      ],
      "text/plain": [
       "     ind_109 ind_420 ind_422\n",
       "0      GREEN    -152    -353\n",
       "1      GREEN    -158    -359\n",
       "2      GREEN    -160    -362\n",
       "3      GREEN    -166    -367\n",
       "4      GREEN    -186    -388\n",
       "...      ...     ...     ...\n",
       "6162     RED     -11    -270\n",
       "6163     RED     -12    -271\n",
       "6164   GREEN     -21    -280\n",
       "6165   GREEN     -33    -292\n",
       "6166   GREEN     -28    -288\n",
       "\n",
       "[6167 rows x 3 columns]"
      ]
     },
     "execution_count": 6,
     "metadata": {
      "tags": []
     },
     "output_type": "execute_result"
    }
   ],
   "source": [
    "df.select_dtypes(include=['object'])"
   ]
  },
  {
   "cell_type": "code",
   "execution_count": null,
   "metadata": {
    "colab": {},
    "colab_type": "code",
    "id": "OVu35nEVtidC"
   },
   "outputs": [],
   "source": []
  },
  {
   "cell_type": "code",
   "execution_count": null,
   "metadata": {
    "colab": {},
    "colab_type": "code",
    "id": "QagznxZgaogi"
   },
   "outputs": [],
   "source": [
    "df_y = df.copy()\n",
    "\n",
    "df_y.loc[df_y[df_y[\"ind_420\"] == \"?\"].index] = np.nan \n",
    "\n",
    "# Degisken donusturmeden once icerisinde NAN degerler oldugu icin ilk once bu OBJECT tipindeki degiskenlerin NAN degerlerini degistiriyoruz\n",
    "# Ardindan donusum gercelestiriyoruz\n",
    "\n",
    "df_y[\"ind_422\"] = df_y[\"ind_422\"].fillna(df_y.mean()[\"ind_422\"])\n",
    "df_y[\"ind_420\"] = df_y[\"ind_420\"].fillna(df_y.mean()[\"ind_420\"])\n",
    "\n",
    "df_y[\"ind_422\"] = df_y[\"ind_422\"].astype('int32')\n",
    "df_y[\"ind_420\"] = df_y[\"ind_420\"].astype('int32')\n",
    "\n",
    "# Geriye kalan NaN degiskenleri de dolduruyoruz\n",
    "\n",
    "column = list(df_y.select_dtypes(include=[\"int32\",\"float64\"]))\n",
    "df_y[column] = df_y[column].apply(lambda x: x.fillna(x.mean()),axis=0)"
   ]
  },
  {
   "cell_type": "code",
   "execution_count": null,
   "metadata": {
    "colab": {
     "base_uri": "https://localhost:8080/",
     "height": 98
    },
    "colab_type": "code",
    "id": "xDoIpvNhaonN",
    "outputId": "bd139f17-34c8-407c-9141-3cc9c9308354"
   },
   "outputs": [
    {
     "name": "stdout",
     "output_type": "stream",
     "text": [
      "<class 'pandas.core.frame.DataFrame'>\n",
      "RangeIndex: 6167 entries, 0 to 6166\n",
      "Columns: 136 entries, ind_5 to ind_109_GREEN\n",
      "dtypes: float64(133), int32(2), uint8(1)\n",
      "memory usage: 6.3 MB\n"
     ]
    }
   ],
   "source": [
    "# Kalan son object tipindeki degiskeni de 1-0 haline getiriyoruz\n",
    "\n",
    "df_y = pd.get_dummies(df_y,columns= [\"ind_109\"], prefix= [\"ind_109\"])\n",
    "\n",
    "df_y = df_y.drop([\"ind_109_RED\"],axis=1)\n",
    "\n",
    "df_y.info()"
   ]
  },
  {
   "cell_type": "code",
   "execution_count": null,
   "metadata": {
    "colab": {},
    "colab_type": "code",
    "id": "9buMupLcEEW6"
   },
   "outputs": [],
   "source": [
    "df_y.drop(labels=[\"20_target\",\"90_target\"],axis=1,inplace=True)"
   ]
  },
  {
   "cell_type": "code",
   "execution_count": null,
   "metadata": {
    "colab": {
     "base_uri": "https://localhost:8080/",
     "height": 180
    },
    "colab_type": "code",
    "id": "SIiphzDSEJzm",
    "outputId": "aa33dab0-1c62-40b0-b32b-5523233ff4c4"
   },
   "outputs": [
    {
     "data": {
      "text/plain": [
       "['ind_412',\n",
       " 'ind_18',\n",
       " 'ind_17',\n",
       " 'ind_77',\n",
       " 'ind_36',\n",
       " 'ind_16',\n",
       " 'ind_74',\n",
       " 'ind_332',\n",
       " 'ind_37',\n",
       " 'ind_71']"
      ]
     },
     "execution_count": 8,
     "metadata": {
      "tags": []
     },
     "output_type": "execute_result"
    }
   ],
   "source": [
    "degiskenler = list(df_y.corr().sort_values(by =\"50_target\",ascending=False)[:11].index)\n",
    "\n",
    "degiskenler[1:] # Target 50 ile en yuksek iliskiye sahip 10 degisken "
   ]
  },
  {
   "cell_type": "code",
   "execution_count": null,
   "metadata": {
    "colab": {},
    "colab_type": "code",
    "id": "l1j_OD2dIBif"
   },
   "outputs": [],
   "source": []
  },
  {
   "cell_type": "code",
   "execution_count": null,
   "metadata": {
    "colab": {},
    "colab_type": "code",
    "id": "PM28Wn6jD6sd"
   },
   "outputs": [],
   "source": [
    "X = df_y.drop(labels=\"50_target\",axis=1)\n",
    "y = df_y[\"50_target\"]\n",
    "\n",
    "X_train, X_test, y_train, y_test = train_test_split(X,y, test_size = .2, random_state = 42,shuffle = False)\n",
    "\n",
    "rf_tuned = RandomForestRegressor()\n",
    "\n",
    "rf_tuned.fit(X_train, y_train)\n",
    "y_pred = rf_tuned.predict(X_test)\n",
    "Rmse1 = np.sqrt(mean_squared_error(y_test, y_pred))\n",
    "R2_1 = r2_score(y_test,y_pred)\n",
    "\n",
    "Importance = pd.DataFrame({\"Importance\": rf_tuned.feature_importances_*100},\n",
    "                         index = X_train.columns)\n"
   ]
  },
  {
   "cell_type": "code",
   "execution_count": null,
   "metadata": {
    "colab": {
     "base_uri": "https://localhost:8080/",
     "height": 66
    },
    "colab_type": "code",
    "id": "dwlnOwzEIpc3",
    "outputId": "49ea8495-2d23-4cf7-bf65-480bdfa09cea"
   },
   "outputs": [
    {
     "data": {
      "text/plain": [
       "Index(['ind_5', 'ind_6', 'ind_8', 'ind_9', 'ind_10', 'ind_12', 'ind_13',\n",
       "       'ind_14', 'ind_15', 'ind_16'],\n",
       "      dtype='object')"
      ]
     },
     "execution_count": 10,
     "metadata": {
      "tags": []
     },
     "output_type": "execute_result"
    }
   ],
   "source": [
    "# Random forest ile buldugum ilk 10 en onemli degiskenler\n",
    "\n",
    "\n",
    "Importance[:10].index"
   ]
  },
  {
   "cell_type": "code",
   "execution_count": null,
   "metadata": {
    "colab": {},
    "colab_type": "code",
    "id": "u195uVl8Ipa9"
   },
   "outputs": [],
   "source": [
    "pca = PCA(n_components=10)\n",
    "X_reduced_train = pca.fit_transform(scale(X_train))"
   ]
  },
  {
   "cell_type": "code",
   "execution_count": null,
   "metadata": {
    "colab": {},
    "colab_type": "code",
    "id": "XM713zxbLHdO"
   },
   "outputs": [],
   "source": [
    "pca = PCA(n_components=10)\n",
    "X_reduced_test = pca.fit_transform(scale(X_test))"
   ]
  },
  {
   "cell_type": "code",
   "execution_count": null,
   "metadata": {
    "colab": {
     "base_uri": "https://localhost:8080/",
     "height": 33
    },
    "colab_type": "code",
    "id": "QKIUeczhIpYL",
    "outputId": "3089f7e8-4e1b-46d0-b6ef-a8c8d5f9d835"
   },
   "outputs": [
    {
     "data": {
      "text/plain": [
       "(4933, 10)"
      ]
     },
     "execution_count": 50,
     "metadata": {
      "tags": []
     },
     "output_type": "execute_result"
    }
   ],
   "source": [
    "# Birde PCA ile 10 degiskene dusurecek sekilde elimine islemini gerceklestirdik\n",
    "\n",
    "X_reduced_train.shape"
   ]
  },
  {
   "cell_type": "code",
   "execution_count": null,
   "metadata": {
    "colab": {
     "base_uri": "https://localhost:8080/",
     "height": 33
    },
    "colab_type": "code",
    "id": "sfTODwpGLLUV",
    "outputId": "b0ed6ec5-e3af-43c0-e4d7-6d1eb5eadee5"
   },
   "outputs": [
    {
     "data": {
      "text/plain": [
       "(1234, 10)"
      ]
     },
     "execution_count": 61,
     "metadata": {
      "tags": []
     },
     "output_type": "execute_result"
    }
   ],
   "source": [
    "X_reduced_test.shape"
   ]
  },
  {
   "cell_type": "code",
   "execution_count": null,
   "metadata": {
    "colab": {},
    "colab_type": "code",
    "id": "5215W0H9KB2g"
   },
   "outputs": [],
   "source": []
  },
  {
   "cell_type": "code",
   "execution_count": null,
   "metadata": {
    "colab": {
     "base_uri": "https://localhost:8080/",
     "height": 391
    },
    "colab_type": "code",
    "id": "tO3DjgoZKBzW",
    "outputId": "0ebb63ce-3f70-4025-c20b-fedaa0c5c5db"
   },
   "outputs": [
    {
     "data": {
      "text/html": [
       "<div>\n",
       "<style scoped>\n",
       "    .dataframe tbody tr th:only-of-type {\n",
       "        vertical-align: middle;\n",
       "    }\n",
       "\n",
       "    .dataframe tbody tr th {\n",
       "        vertical-align: top;\n",
       "    }\n",
       "\n",
       "    .dataframe thead th {\n",
       "        text-align: right;\n",
       "    }\n",
       "</style>\n",
       "<table border=\"1\" class=\"dataframe\">\n",
       "  <thead>\n",
       "    <tr style=\"text-align: right;\">\n",
       "      <th></th>\n",
       "      <th>ind_412</th>\n",
       "      <th>ind_18</th>\n",
       "      <th>ind_17</th>\n",
       "      <th>ind_77</th>\n",
       "      <th>ind_36</th>\n",
       "      <th>ind_16</th>\n",
       "      <th>ind_74</th>\n",
       "      <th>ind_332</th>\n",
       "      <th>ind_37</th>\n",
       "      <th>ind_71</th>\n",
       "    </tr>\n",
       "  </thead>\n",
       "  <tbody>\n",
       "    <tr>\n",
       "      <th>0</th>\n",
       "      <td>0.002371</td>\n",
       "      <td>9.1100</td>\n",
       "      <td>12.060000</td>\n",
       "      <td>8.0</td>\n",
       "      <td>196.592517</td>\n",
       "      <td>11.73</td>\n",
       "      <td>8.0</td>\n",
       "      <td>20.967742</td>\n",
       "      <td>184.819232</td>\n",
       "      <td>8.0</td>\n",
       "    </tr>\n",
       "    <tr>\n",
       "      <th>1</th>\n",
       "      <td>0.003074</td>\n",
       "      <td>9.2225</td>\n",
       "      <td>11.326667</td>\n",
       "      <td>8.0</td>\n",
       "      <td>201.738617</td>\n",
       "      <td>12.22</td>\n",
       "      <td>8.0</td>\n",
       "      <td>20.800000</td>\n",
       "      <td>191.985663</td>\n",
       "      <td>8.0</td>\n",
       "    </tr>\n",
       "    <tr>\n",
       "      <th>2</th>\n",
       "      <td>0.003561</td>\n",
       "      <td>9.3125</td>\n",
       "      <td>10.973333</td>\n",
       "      <td>8.0</td>\n",
       "      <td>205.238017</td>\n",
       "      <td>12.28</td>\n",
       "      <td>8.0</td>\n",
       "      <td>20.634921</td>\n",
       "      <td>197.993551</td>\n",
       "      <td>8.0</td>\n",
       "    </tr>\n",
       "    <tr>\n",
       "      <th>3</th>\n",
       "      <td>0.004366</td>\n",
       "      <td>9.4150</td>\n",
       "      <td>10.426667</td>\n",
       "      <td>8.0</td>\n",
       "      <td>203.641362</td>\n",
       "      <td>12.61</td>\n",
       "      <td>8.0</td>\n",
       "      <td>20.472441</td>\n",
       "      <td>200.370912</td>\n",
       "      <td>8.0</td>\n",
       "    </tr>\n",
       "    <tr>\n",
       "      <th>4</th>\n",
       "      <td>0.004198</td>\n",
       "      <td>9.8925</td>\n",
       "      <td>11.406667</td>\n",
       "      <td>8.0</td>\n",
       "      <td>227.848369</td>\n",
       "      <td>14.25</td>\n",
       "      <td>8.0</td>\n",
       "      <td>20.312500</td>\n",
       "      <td>223.561880</td>\n",
       "      <td>9.0</td>\n",
       "    </tr>\n",
       "    <tr>\n",
       "      <th>...</th>\n",
       "      <td>...</td>\n",
       "      <td>...</td>\n",
       "      <td>...</td>\n",
       "      <td>...</td>\n",
       "      <td>...</td>\n",
       "      <td>...</td>\n",
       "      <td>...</td>\n",
       "      <td>...</td>\n",
       "      <td>...</td>\n",
       "      <td>...</td>\n",
       "    </tr>\n",
       "    <tr>\n",
       "      <th>6162</th>\n",
       "      <td>0.004633</td>\n",
       "      <td>16.2175</td>\n",
       "      <td>15.100000</td>\n",
       "      <td>15.0</td>\n",
       "      <td>135.005556</td>\n",
       "      <td>13.66</td>\n",
       "      <td>15.0</td>\n",
       "      <td>14.634146</td>\n",
       "      <td>102.453252</td>\n",
       "      <td>15.0</td>\n",
       "    </tr>\n",
       "    <tr>\n",
       "      <th>6163</th>\n",
       "      <td>0.008511</td>\n",
       "      <td>16.1175</td>\n",
       "      <td>14.753333</td>\n",
       "      <td>14.0</td>\n",
       "      <td>124.513539</td>\n",
       "      <td>11.79</td>\n",
       "      <td>15.0</td>\n",
       "      <td>14.285714</td>\n",
       "      <td>96.780546</td>\n",
       "      <td>15.0</td>\n",
       "    </tr>\n",
       "    <tr>\n",
       "      <th>6164</th>\n",
       "      <td>0.008848</td>\n",
       "      <td>16.3125</td>\n",
       "      <td>14.613333</td>\n",
       "      <td>14.0</td>\n",
       "      <td>132.029648</td>\n",
       "      <td>10.30</td>\n",
       "      <td>15.0</td>\n",
       "      <td>13.953488</td>\n",
       "      <td>108.218518</td>\n",
       "      <td>15.0</td>\n",
       "    </tr>\n",
       "    <tr>\n",
       "      <th>6165</th>\n",
       "      <td>0.008940</td>\n",
       "      <td>16.4200</td>\n",
       "      <td>13.606667</td>\n",
       "      <td>14.0</td>\n",
       "      <td>144.880140</td>\n",
       "      <td>10.55</td>\n",
       "      <td>14.0</td>\n",
       "      <td>13.636364</td>\n",
       "      <td>124.933707</td>\n",
       "      <td>15.0</td>\n",
       "    </tr>\n",
       "    <tr>\n",
       "      <th>6166</th>\n",
       "      <td>0.008685</td>\n",
       "      <td>16.4500</td>\n",
       "      <td>13.020000</td>\n",
       "      <td>14.0</td>\n",
       "      <td>139.646458</td>\n",
       "      <td>9.68</td>\n",
       "      <td>14.0</td>\n",
       "      <td>13.333333</td>\n",
       "      <td>123.289457</td>\n",
       "      <td>14.0</td>\n",
       "    </tr>\n",
       "  </tbody>\n",
       "</table>\n",
       "<p>6167 rows × 10 columns</p>\n",
       "</div>"
      ],
      "text/plain": [
       "       ind_412   ind_18     ind_17  ...    ind_332      ind_37  ind_71\n",
       "0     0.002371   9.1100  12.060000  ...  20.967742  184.819232     8.0\n",
       "1     0.003074   9.2225  11.326667  ...  20.800000  191.985663     8.0\n",
       "2     0.003561   9.3125  10.973333  ...  20.634921  197.993551     8.0\n",
       "3     0.004366   9.4150  10.426667  ...  20.472441  200.370912     8.0\n",
       "4     0.004198   9.8925  11.406667  ...  20.312500  223.561880     9.0\n",
       "...        ...      ...        ...  ...        ...         ...     ...\n",
       "6162  0.004633  16.2175  15.100000  ...  14.634146  102.453252    15.0\n",
       "6163  0.008511  16.1175  14.753333  ...  14.285714   96.780546    15.0\n",
       "6164  0.008848  16.3125  14.613333  ...  13.953488  108.218518    15.0\n",
       "6165  0.008940  16.4200  13.606667  ...  13.636364  124.933707    15.0\n",
       "6166  0.008685  16.4500  13.020000  ...  13.333333  123.289457    14.0\n",
       "\n",
       "[6167 rows x 10 columns]"
      ]
     },
     "execution_count": 16,
     "metadata": {
      "tags": []
     },
     "output_type": "execute_result"
    }
   ],
   "source": [
    "# SVM in regresyon kismini bu 3 veri seti icinde deneyelim\n",
    "\n",
    "df_y.loc[:,degiskenler[1:11]]"
   ]
  },
  {
   "cell_type": "code",
   "execution_count": null,
   "metadata": {
    "colab": {
     "base_uri": "https://localhost:8080/",
     "height": 391
    },
    "colab_type": "code",
    "id": "Nis6lEQnKBw7",
    "outputId": "fe2c54a6-44cc-4f73-fa55-cd8a64780125"
   },
   "outputs": [
    {
     "data": {
      "text/html": [
       "<div>\n",
       "<style scoped>\n",
       "    .dataframe tbody tr th:only-of-type {\n",
       "        vertical-align: middle;\n",
       "    }\n",
       "\n",
       "    .dataframe tbody tr th {\n",
       "        vertical-align: top;\n",
       "    }\n",
       "\n",
       "    .dataframe thead th {\n",
       "        text-align: right;\n",
       "    }\n",
       "</style>\n",
       "<table border=\"1\" class=\"dataframe\">\n",
       "  <thead>\n",
       "    <tr style=\"text-align: right;\">\n",
       "      <th></th>\n",
       "      <th>ind_5</th>\n",
       "      <th>ind_6</th>\n",
       "      <th>ind_8</th>\n",
       "      <th>ind_9</th>\n",
       "      <th>ind_10</th>\n",
       "      <th>ind_12</th>\n",
       "      <th>ind_13</th>\n",
       "      <th>ind_14</th>\n",
       "      <th>ind_15</th>\n",
       "      <th>ind_16</th>\n",
       "    </tr>\n",
       "  </thead>\n",
       "  <tbody>\n",
       "    <tr>\n",
       "      <th>0</th>\n",
       "      <td>19.0</td>\n",
       "      <td>17.0</td>\n",
       "      <td>100.000000</td>\n",
       "      <td>85.714286</td>\n",
       "      <td>14.285714</td>\n",
       "      <td>72.363515</td>\n",
       "      <td>60.808814</td>\n",
       "      <td>23.80</td>\n",
       "      <td>17.62</td>\n",
       "      <td>11.73</td>\n",
       "    </tr>\n",
       "    <tr>\n",
       "      <th>1</th>\n",
       "      <td>24.0</td>\n",
       "      <td>19.0</td>\n",
       "      <td>100.000000</td>\n",
       "      <td>78.571429</td>\n",
       "      <td>21.428571</td>\n",
       "      <td>74.275883</td>\n",
       "      <td>64.366798</td>\n",
       "      <td>11.45</td>\n",
       "      <td>18.16</td>\n",
       "      <td>12.22</td>\n",
       "    </tr>\n",
       "    <tr>\n",
       "      <th>2</th>\n",
       "      <td>30.0</td>\n",
       "      <td>24.0</td>\n",
       "      <td>100.000000</td>\n",
       "      <td>71.428571</td>\n",
       "      <td>28.571429</td>\n",
       "      <td>75.140402</td>\n",
       "      <td>65.915803</td>\n",
       "      <td>8.75</td>\n",
       "      <td>17.86</td>\n",
       "      <td>12.28</td>\n",
       "    </tr>\n",
       "    <tr>\n",
       "      <th>3</th>\n",
       "      <td>37.0</td>\n",
       "      <td>30.0</td>\n",
       "      <td>100.000000</td>\n",
       "      <td>64.285714</td>\n",
       "      <td>35.714286</td>\n",
       "      <td>76.677846</td>\n",
       "      <td>68.584234</td>\n",
       "      <td>7.80</td>\n",
       "      <td>14.76</td>\n",
       "      <td>12.61</td>\n",
       "    </tr>\n",
       "    <tr>\n",
       "      <th>4</th>\n",
       "      <td>41.0</td>\n",
       "      <td>37.0</td>\n",
       "      <td>100.000000</td>\n",
       "      <td>57.142857</td>\n",
       "      <td>42.857143</td>\n",
       "      <td>81.603007</td>\n",
       "      <td>76.455495</td>\n",
       "      <td>14.90</td>\n",
       "      <td>11.92</td>\n",
       "      <td>14.25</td>\n",
       "    </tr>\n",
       "    <tr>\n",
       "      <th>...</th>\n",
       "      <td>...</td>\n",
       "      <td>...</td>\n",
       "      <td>...</td>\n",
       "      <td>...</td>\n",
       "      <td>...</td>\n",
       "      <td>...</td>\n",
       "      <td>...</td>\n",
       "      <td>...</td>\n",
       "      <td>...</td>\n",
       "      <td>...</td>\n",
       "    </tr>\n",
       "    <tr>\n",
       "      <th>6162</th>\n",
       "      <td>27.0</td>\n",
       "      <td>31.0</td>\n",
       "      <td>57.142857</td>\n",
       "      <td>28.571429</td>\n",
       "      <td>28.571429</td>\n",
       "      <td>60.010531</td>\n",
       "      <td>32.362582</td>\n",
       "      <td>9.70</td>\n",
       "      <td>9.38</td>\n",
       "      <td>13.66</td>\n",
       "    </tr>\n",
       "    <tr>\n",
       "      <th>6163</th>\n",
       "      <td>22.0</td>\n",
       "      <td>27.0</td>\n",
       "      <td>50.000000</td>\n",
       "      <td>21.428571</td>\n",
       "      <td>28.571429</td>\n",
       "      <td>60.209998</td>\n",
       "      <td>32.914628</td>\n",
       "      <td>7.65</td>\n",
       "      <td>8.84</td>\n",
       "      <td>11.79</td>\n",
       "    </tr>\n",
       "    <tr>\n",
       "      <th>6164</th>\n",
       "      <td>19.0</td>\n",
       "      <td>22.0</td>\n",
       "      <td>42.857143</td>\n",
       "      <td>14.285714</td>\n",
       "      <td>28.571429</td>\n",
       "      <td>64.329611</td>\n",
       "      <td>43.550592</td>\n",
       "      <td>8.95</td>\n",
       "      <td>9.06</td>\n",
       "      <td>10.30</td>\n",
       "    </tr>\n",
       "    <tr>\n",
       "      <th>6165</th>\n",
       "      <td>19.0</td>\n",
       "      <td>19.0</td>\n",
       "      <td>100.000000</td>\n",
       "      <td>7.142857</td>\n",
       "      <td>92.857143</td>\n",
       "      <td>69.027764</td>\n",
       "      <td>54.130755</td>\n",
       "      <td>13.55</td>\n",
       "      <td>10.36</td>\n",
       "      <td>10.55</td>\n",
       "    </tr>\n",
       "    <tr>\n",
       "      <th>6166</th>\n",
       "      <td>19.0</td>\n",
       "      <td>19.0</td>\n",
       "      <td>92.857143</td>\n",
       "      <td>0.000000</td>\n",
       "      <td>92.857143</td>\n",
       "      <td>65.157180</td>\n",
       "      <td>45.524973</td>\n",
       "      <td>11.45</td>\n",
       "      <td>10.16</td>\n",
       "      <td>9.68</td>\n",
       "    </tr>\n",
       "  </tbody>\n",
       "</table>\n",
       "<p>6167 rows × 10 columns</p>\n",
       "</div>"
      ],
      "text/plain": [
       "      ind_5  ind_6       ind_8      ind_9  ...     ind_13  ind_14  ind_15  ind_16\n",
       "0      19.0   17.0  100.000000  85.714286  ...  60.808814   23.80   17.62   11.73\n",
       "1      24.0   19.0  100.000000  78.571429  ...  64.366798   11.45   18.16   12.22\n",
       "2      30.0   24.0  100.000000  71.428571  ...  65.915803    8.75   17.86   12.28\n",
       "3      37.0   30.0  100.000000  64.285714  ...  68.584234    7.80   14.76   12.61\n",
       "4      41.0   37.0  100.000000  57.142857  ...  76.455495   14.90   11.92   14.25\n",
       "...     ...    ...         ...        ...  ...        ...     ...     ...     ...\n",
       "6162   27.0   31.0   57.142857  28.571429  ...  32.362582    9.70    9.38   13.66\n",
       "6163   22.0   27.0   50.000000  21.428571  ...  32.914628    7.65    8.84   11.79\n",
       "6164   19.0   22.0   42.857143  14.285714  ...  43.550592    8.95    9.06   10.30\n",
       "6165   19.0   19.0  100.000000   7.142857  ...  54.130755   13.55   10.36   10.55\n",
       "6166   19.0   19.0   92.857143   0.000000  ...  45.524973   11.45   10.16    9.68\n",
       "\n",
       "[6167 rows x 10 columns]"
      ]
     },
     "execution_count": 80,
     "metadata": {
      "tags": []
     },
     "output_type": "execute_result"
    }
   ],
   "source": [
    "df_y.loc[:,Importance[:10].index]"
   ]
  },
  {
   "cell_type": "code",
   "execution_count": null,
   "metadata": {
    "colab": {
     "base_uri": "https://localhost:8080/",
     "height": 82
    },
    "colab_type": "code",
    "id": "kg745x1hKoq1",
    "outputId": "a25f095f-5520-486e-9c93-7ffcf25c553f"
   },
   "outputs": [
    {
     "data": {
      "text/plain": [
       "array([[14.3911728 , -2.99170116,  9.08117453, -0.67321232,  1.73859593,\n",
       "        -0.64188293, -2.39841223, -0.68385342, -2.36852584, -0.27808991],\n",
       "       [15.6563422 , -2.55665363,  7.34684441,  0.19797702,  2.7892872 ,\n",
       "        -1.40667712, -2.13471105, -1.07672677, -1.90361444, -0.235457  ]])"
      ]
     },
     "execution_count": 57,
     "metadata": {
      "tags": []
     },
     "output_type": "execute_result"
    }
   ],
   "source": [
    "X_reduced_train[:2]"
   ]
  },
  {
   "cell_type": "code",
   "execution_count": null,
   "metadata": {
    "colab": {},
    "colab_type": "code",
    "id": "jHce4zd9Ko_K"
   },
   "outputs": [],
   "source": []
  },
  {
   "cell_type": "code",
   "execution_count": null,
   "metadata": {
    "colab": {
     "base_uri": "https://localhost:8080/",
     "height": 506
    },
    "colab_type": "code",
    "id": "I9SaHha0Kt3D",
    "outputId": "203c4cd0-5e54-41c6-d505-4edc12fe253f"
   },
   "outputs": [
    {
     "name": "stdout",
     "output_type": "stream",
     "text": [
      "Fitting 10 folds for each of 99 candidates, totalling 990 fits\n"
     ]
    },
    {
     "name": "stderr",
     "output_type": "stream",
     "text": [
      "[Parallel(n_jobs=-1)]: Using backend LokyBackend with 2 concurrent workers.\n",
      "[Parallel(n_jobs=-1)]: Done  37 tasks      | elapsed:   33.1s\n",
      "[Parallel(n_jobs=-1)]: Done 158 tasks      | elapsed:  4.5min\n",
      "[Parallel(n_jobs=-1)]: Done 361 tasks      | elapsed: 18.9min\n",
      "[Parallel(n_jobs=-1)]: Done 644 tasks      | elapsed: 55.5min\n",
      "[Parallel(n_jobs=-1)]: Done 990 out of 990 | elapsed: 125.1min finished\n"
     ]
    },
    {
     "name": "stdout",
     "output_type": "stream",
     "text": [
      "Genel hata metrikleri sonuclari: \n",
      "               Result\n",
      "RmseTrain  32.210966\n",
      "RmseTest   39.082716\n",
      "R2         -0.293986\n",
      "---------\n",
      "Hatalarin Dagilimi:  AxesSubplot(0.125,0.125;0.775x0.755)\n"
     ]
    },
    {
     "data": {
      "image/png": "[encoded data removed]",
      "text/plain": [
       "<Figure size 432x288 with 1 Axes>"
      ]
     },
     "metadata": {
      "needs_background": "light",
      "tags": []
     },
     "output_type": "display_data"
    }
   ],
   "source": [
    "\n",
    "\n",
    "result.svrReg(X_reduced_train, y_train, X_reduced_test, y_test)"
   ]
  },
  {
   "cell_type": "code",
   "execution_count": null,
   "metadata": {
    "colab": {},
    "colab_type": "code",
    "id": "Bjz3s2WLKty6"
   },
   "outputs": [],
   "source": [
    "df_x = df_y.loc[:,Importance[:10].index]\n",
    "\n",
    "X = df_x \n",
    "y = df_y[\"50_target\"]\n",
    "\n",
    "X_train, X_test, y_train, y_test = train_test_split(X,y, test_size = .2, random_state = 42,shuffle = False)"
   ]
  },
  {
   "cell_type": "markdown",
   "metadata": {},
   "source": [
    "# Bu kısımlar normalde yazilan fonksiyon cok uzun surdugu icin tekrardan calisma icerisinde yazildi"
   ]
  },
  {
   "cell_type": "code",
   "execution_count": null,
   "metadata": {
    "colab": {
     "base_uri": "https://localhost:8080/",
     "height": 461
    },
    "colab_type": "code",
    "id": "x8oTrxTwqolc",
    "outputId": "41e2ba24-0159-4111-e79f-c6d883699bbb"
   },
   "outputs": [
    {
     "name": "stdout",
     "output_type": "stream",
     "text": [
      "Fitting 10 folds for each of 8 candidates, totalling 80 fits\n"
     ]
    },
    {
     "name": "stderr",
     "output_type": "stream",
     "text": [
      "[Parallel(n_jobs=-1)]: Using backend LokyBackend with 2 concurrent workers.\n",
      "[Parallel(n_jobs=-1)]: Done  37 tasks      | elapsed:  4.2min\n",
      "[Parallel(n_jobs=-1)]: Done  80 out of  80 | elapsed: 147.5min finished\n"
     ]
    },
    {
     "name": "stdout",
     "output_type": "stream",
     "text": [
      "Genel hata metrikleri sonuclari: \n",
      "               Result\n",
      "RmseTrain  31.281234\n",
      "RmseTest   38.709750\n",
      "R2         -0.269407\n",
      "---------\n",
      "Hatalarin Dagilimi:  AxesSubplot(0.125,0.125;0.775x0.755)\n"
     ]
    },
    {
     "data": {
      "image/png": "[encoded data removed]",
      "text/plain": [
       "<Figure size 432x288 with 1 Axes>"
      ]
     },
     "metadata": {
      "needs_background": "light",
      "tags": []
     },
     "output_type": "display_data"
    }
   ],
   "source": [
    "def svrReg(X_train,y_train,X_test,y_test):\n",
    "\n",
    "\n",
    "    svr = SVR(\"linear\")\n",
    "    svr_params = {\"C\": [0.001,0.01,0.2,0.1,1,2,4,5]}\n",
    "    svr_cv_model = GridSearchCV(svr, svr_params, cv = 10,n_jobs=-1,verbose=2).fit(X_train,y_train)\n",
    "    svr_tuned = SVR(\"linear\", \n",
    "                C = pd.Series(svr_cv_model.best_params_)[0]).fit(X_train, y_train)\n",
    "\n",
    "    y_pred_train = svr_tuned.predict(X_train)\n",
    "    Rmse_train = np.sqrt(mean_squared_error(y_train, y_pred_train))\n",
    "    R2_train= r2_score(y_train,y_pred_train)\n",
    "    \n",
    "    y_pred = svr_tuned.predict(X_test)\n",
    "    Rmse = np.sqrt(mean_squared_error(y_test, y_pred))\n",
    "    R2 = r2_score(y_test,y_pred)\n",
    "    \n",
    "    \n",
    "    bir = np.array(Rmse_train)\n",
    "    iki = np.array(Rmse)\n",
    "    uc = np.array(R2)\n",
    "    \n",
    "    satir = [\"RmseTrain\",\"RmseTest\",\"R2\"]\n",
    "    sonuclar = pd.DataFrame(data=[bir,iki,uc],index=satir,columns=[\"Result\"])\n",
    "    \n",
    "    tablo = pd.DataFrame({\"gercek_y:\":y_test,\"tahmindegerleri_y:\":y_pred})\n",
    "    tablo[\"hatalar\"] = tablo[\"gercek_y:\"] - tablo[\"tahmindegerleri_y:\"]\n",
    "    \n",
    "\n",
    "    hatalar = sns.distplot(tablo.hatalar)\n",
    "    \n",
    "    print(\"Genel hata metrikleri sonuclari: \\n\",sonuclar)\n",
    "    print(\"---------\")\n",
    "    print(\"Hatalarin Dagilimi: \",hatalar)\n",
    "\n",
    "\n",
    "svrReg(X_train, y_train, X_test, y_test)"
   ]
  },
  {
   "cell_type": "code",
   "execution_count": null,
   "metadata": {
    "colab": {},
    "colab_type": "code",
    "id": "qulAke9oqx2Y"
   },
   "outputs": [],
   "source": [
    "# Sirada bir de korelasyon durumuna gore 10 degisken ile denemek var\n",
    "\n",
    "X = df_y.loc[:,degiskenler[1:11]] \n",
    "y = df_y[\"50_target\"]\n",
    "\n",
    "X_train, X_test, y_train, y_test = train_test_split(X,y, test_size = .2, random_state = 42,shuffle = False)"
   ]
  },
  {
   "cell_type": "code",
   "execution_count": null,
   "metadata": {
    "colab": {
     "base_uri": "https://localhost:8080/",
     "height": 457
    },
    "colab_type": "code",
    "id": "ta3xPYhmq-ww",
    "outputId": "d6e7fcc5-7cce-47e8-8a78-040776ce1cc9"
   },
   "outputs": [
    {
     "name": "stdout",
     "output_type": "stream",
     "text": [
      "Fitting 10 folds for each of 4 candidates, totalling 40 fits\n"
     ]
    },
    {
     "name": "stderr",
     "output_type": "stream",
     "text": [
      "[Parallel(n_jobs=-1)]: Using backend LokyBackend with 2 concurrent workers.\n",
      "[Parallel(n_jobs=-1)]: Done  37 tasks      | elapsed: 82.4min\n",
      "[Parallel(n_jobs=-1)]: Done  40 out of  40 | elapsed: 110.7min finished\n"
     ]
    },
    {
     "name": "stdout",
     "output_type": "stream",
     "text": [
      "Genel hata metrikleri sonuclari: \n",
      "               Result\n",
      "RmseTrain  32.472306\n",
      "RmseTest   40.790439\n",
      "R2         -0.409538\n",
      "---------\n",
      "Hatalarin Dagilimi:  AxesSubplot(0.125,0.125;0.775x0.755)\n"
     ]
    },
    {
     "data": {
      "image/png": "[encoded data removed]",
      "text/plain": [
       "<Figure size 432x288 with 1 Axes>"
      ]
     },
     "metadata": {
      "needs_background": "light",
      "tags": []
     },
     "output_type": "display_data"
    }
   ],
   "source": [
    "def svrReg(X_train,y_train,X_test,y_test):\n",
    "\n",
    "\n",
    "    svr = SVR(\"linear\")\n",
    "    svr_params = {\"C\": [0.001,0.01,0.2,2]}\n",
    "    svr_cv_model = GridSearchCV(svr, svr_params, cv = 10,n_jobs=-1,verbose=2).fit(X_train,y_train)\n",
    "    svr_tuned = SVR(\"linear\", \n",
    "                C = pd.Series(svr_cv_model.best_params_)[0]).fit(X_train, y_train)\n",
    "\n",
    "    y_pred_train = svr_tuned.predict(X_train)\n",
    "    Rmse_train = np.sqrt(mean_squared_error(y_train, y_pred_train))\n",
    "    R2_train= r2_score(y_train,y_pred_train)\n",
    "    \n",
    "    y_pred = svr_tuned.predict(X_test)\n",
    "    Rmse = np.sqrt(mean_squared_error(y_test, y_pred))\n",
    "    R2 = r2_score(y_test,y_pred)\n",
    "    \n",
    "    \n",
    "    bir = np.array(Rmse_train)\n",
    "    iki = np.array(Rmse)\n",
    "    uc = np.array(R2)\n",
    "    \n",
    "    satir = [\"RmseTrain\",\"RmseTest\",\"R2\"]\n",
    "    sonuclar = pd.DataFrame(data=[bir,iki,uc],index=satir,columns=[\"Result\"])\n",
    "    \n",
    "    tablo = pd.DataFrame({\"gercek_y:\":y_test,\"tahmindegerleri_y:\":y_pred})\n",
    "    tablo[\"hatalar\"] = tablo[\"gercek_y:\"] - tablo[\"tahmindegerleri_y:\"]\n",
    "    \n",
    "\n",
    "    hatalar = sns.distplot(tablo.hatalar)\n",
    "    \n",
    "    print(\"Genel hata metrikleri sonuclari: \\n\",sonuclar)\n",
    "    print(\"---------\")\n",
    "    print(\"Hatalarin Dagilimi: \",hatalar)\n",
    "\n",
    "\n",
    "svrReg(X_train, y_train, X_test, y_test)"
   ]
  },
  {
   "cell_type": "code",
   "execution_count": null,
   "metadata": {
    "colab": {
     "base_uri": "https://localhost:8080/",
     "height": 456
    },
    "colab_type": "code",
    "id": "yRA7u8uKFJ3H",
    "outputId": "78dd4b6c-0917-4816-c60f-b81fe9775da7"
   },
   "outputs": [
    {
     "name": "stdout",
     "output_type": "stream",
     "text": [
      "Fitting 10 folds for each of 1620 candidates, totalling 16200 fits\n"
     ]
    },
    {
     "name": "stderr",
     "output_type": "stream",
     "text": [
      "[Parallel(n_jobs=-1)]: Using backend LokyBackend with 2 concurrent workers.\n",
      "[Parallel(n_jobs=-1)]: Done  37 tasks      | elapsed:    3.6s\n",
      "[Parallel(n_jobs=-1)]: Done 158 tasks      | elapsed:   17.9s\n",
      "[Parallel(n_jobs=-1)]: Done 361 tasks      | elapsed:   47.8s\n",
      "[Parallel(n_jobs=-1)]: Done 644 tasks      | elapsed:  1.7min\n",
      "[Parallel(n_jobs=-1)]: Done 1009 tasks      | elapsed:  3.3min\n",
      "[Parallel(n_jobs=-1)]: Done 1454 tasks      | elapsed:  4.6min\n",
      "[Parallel(n_jobs=-1)]: Done 1981 tasks      | elapsed:  6.7min\n",
      "[Parallel(n_jobs=-1)]: Done 2588 tasks      | elapsed:  8.6min\n",
      "[Parallel(n_jobs=-1)]: Done 3277 tasks      | elapsed: 11.6min\n",
      "[Parallel(n_jobs=-1)]: Done 4046 tasks      | elapsed: 14.1min\n",
      "[Parallel(n_jobs=-1)]: Done 4897 tasks      | elapsed: 17.0min\n",
      "[Parallel(n_jobs=-1)]: Done 5828 tasks      | elapsed: 20.6min\n",
      "[Parallel(n_jobs=-1)]: Done 6841 tasks      | elapsed: 24.6min\n",
      "[Parallel(n_jobs=-1)]: Done 7934 tasks      | elapsed: 28.7min\n",
      "[Parallel(n_jobs=-1)]: Done 9109 tasks      | elapsed: 33.1min\n",
      "[Parallel(n_jobs=-1)]: Done 10364 tasks      | elapsed: 37.8min\n",
      "[Parallel(n_jobs=-1)]: Done 11701 tasks      | elapsed: 43.4min\n",
      "[Parallel(n_jobs=-1)]: Done 13118 tasks      | elapsed: 49.2min\n",
      "[Parallel(n_jobs=-1)]: Done 14617 tasks      | elapsed: 55.0min\n",
      "[Parallel(n_jobs=-1)]: Done 16196 tasks      | elapsed: 62.6min\n"
     ]
    },
    {
     "name": "stdout",
     "output_type": "stream",
     "text": [
      "Best parametreler {'colsample_bytree': 0.4, 'learning_rate': 0.01, 'max_depth': 1, 'min_child_samples': 200, 'n_estimators': 500, 'subsample': 0.3}\n",
      "Train Rmse sonucu:  29.77179923819375\n",
      "Test Rmse sonucu:  34.525363177569304\n",
      "Test setine ait R2 degeri:  -0.009802757162513664\n"
     ]
    },
    {
     "name": "stderr",
     "output_type": "stream",
     "text": [
      "[Parallel(n_jobs=-1)]: Done 16200 out of 16200 | elapsed: 62.6min finished\n"
     ]
    }
   ],
   "source": [
    "# 3 adet degsiken grubu belirlemistik bunlara birde Lightgbm uygulamakta istiyorum\n",
    "# Random forest ile belirledigimiz degiskenlere gore sonuca bakalim\n",
    "\n",
    "\n",
    "from lightgbm import LGBMRegressor\n",
    "\n",
    "df_x = df_y.loc[:,Importance[:10].index]\n",
    "\n",
    "X = df_x \n",
    "y = df_y[\"50_target\"]\n",
    "\n",
    "X_train, X_test, y_train, y_test = train_test_split(X,y, test_size = .2, random_state = 42,shuffle = False)\n",
    "\n",
    "def Lgbm_Reg(X_train,y_train,X_test,y_test):\n",
    "    lgbm_grid = {\n",
    "      'colsample_bytree': [0.4, 0.5,0.6],\n",
    "      'learning_rate': [0.01, 0.1, 0.3,0.5,1],\n",
    "      'n_estimators': [500,1000,2000],\n",
    "      'max_depth': [1,2,3,4],\n",
    "      \"subsample\": [0.3,0.5,0.8],\n",
    "      \"min_child_samples\":[50,100,200]}\n",
    "    \n",
    "    \n",
    "    lgbm = LGBMRegressor()\n",
    "    lgbm_cv_model = GridSearchCV(lgbm, lgbm_grid, cv=10, n_jobs = -1, verbose = 2)\n",
    "    lgbm_cv_model.fit(X_train, y_train)\n",
    "    \n",
    "    bos = []\n",
    "    \n",
    "    for i in lgbm_cv_model.best_params_:\n",
    "        \n",
    "        bos.append(lgbm_cv_model.best_params_[i])\n",
    "        \n",
    "    lgbm_tuned = LGBMRegressor(learning_rate = bos[1], \n",
    "                           max_depth = bos[2], \n",
    "                           n_estimators = bos[4],\n",
    "                          colsample_bytree = bos[0], # Agac bazina gozlem sayisi\n",
    "                          subsample=bos[5],\n",
    "                          min_child_samples=bos[3])\n",
    "\n",
    "    lgbm_tuned = lgbm_tuned.fit(X_train,y_train)\n",
    "        \n",
    "    y_pred_train = lgbm_tuned.predict(X_train)\n",
    "    rmse_train = np.sqrt(mean_squared_error(y_train, y_pred_train))\n",
    "    \n",
    "    y_pred_test = lgbm_tuned.predict(X_test)\n",
    "    rmse_test = np.sqrt(mean_squared_error(y_test, y_pred_test))\n",
    "    \n",
    "    \n",
    "    r2 = r2_score(y_test,y_pred_test)\n",
    "    \n",
    "    print(\"Best parametreler\",lgbm_cv_model.best_params_)\n",
    "    print(\"Train Rmse sonucu: \",rmse_train)\n",
    "    print(\"Test Rmse sonucu: \",rmse_test)\n",
    "    print(\"Test setine ait R2 degeri: \",r2)\n",
    "\n",
    "Lgbm_Reg(X_train,y_train,X_test,y_test)"
   ]
  },
  {
   "cell_type": "code",
   "execution_count": null,
   "metadata": {
    "colab": {
     "base_uri": "https://localhost:8080/",
     "height": 440
    },
    "colab_type": "code",
    "id": "Wpael2Bp-FrF",
    "outputId": "1eea75c5-3e0c-49e7-88f1-c42822747cba"
   },
   "outputs": [
    {
     "name": "stdout",
     "output_type": "stream",
     "text": [
      "Fitting 10 folds for each of 1620 candidates, totalling 16200 fits\n"
     ]
    },
    {
     "name": "stderr",
     "output_type": "stream",
     "text": [
      "[Parallel(n_jobs=-1)]: Using backend LokyBackend with 2 concurrent workers.\n",
      "[Parallel(n_jobs=-1)]: Done  70 tasks      | elapsed:    7.2s\n",
      "[Parallel(n_jobs=-1)]: Done 312 tasks      | elapsed:   37.0s\n",
      "[Parallel(n_jobs=-1)]: Done 533 tasks      | elapsed:  1.3min\n",
      "[Parallel(n_jobs=-1)]: Done 816 tasks      | elapsed:  2.6min\n",
      "[Parallel(n_jobs=-1)]: Done 1181 tasks      | elapsed:  4.5min\n",
      "[Parallel(n_jobs=-1)]: Done 1626 tasks      | elapsed:  5.7min\n",
      "[Parallel(n_jobs=-1)]: Done 2153 tasks      | elapsed:  8.4min\n",
      "[Parallel(n_jobs=-1)]: Done 2760 tasks      | elapsed: 10.1min\n",
      "[Parallel(n_jobs=-1)]: Done 3449 tasks      | elapsed: 13.2min\n",
      "[Parallel(n_jobs=-1)]: Done 4218 tasks      | elapsed: 16.5min\n",
      "[Parallel(n_jobs=-1)]: Done 5069 tasks      | elapsed: 19.6min\n",
      "[Parallel(n_jobs=-1)]: Done 6000 tasks      | elapsed: 23.5min\n",
      "[Parallel(n_jobs=-1)]: Done 7013 tasks      | elapsed: 28.2min\n",
      "[Parallel(n_jobs=-1)]: Done 8106 tasks      | elapsed: 33.1min\n",
      "[Parallel(n_jobs=-1)]: Done 9281 tasks      | elapsed: 38.4min\n",
      "[Parallel(n_jobs=-1)]: Done 10536 tasks      | elapsed: 43.8min\n",
      "[Parallel(n_jobs=-1)]: Done 11873 tasks      | elapsed: 50.4min\n",
      "[Parallel(n_jobs=-1)]: Done 13290 tasks      | elapsed: 56.1min\n",
      "[Parallel(n_jobs=-1)]: Done 14789 tasks      | elapsed: 63.0min\n",
      "[Parallel(n_jobs=-1)]: Done 16200 out of 16200 | elapsed: 70.4min finished\n"
     ]
    },
    {
     "name": "stdout",
     "output_type": "stream",
     "text": [
      "Best parametreler {'colsample_bytree': 0.6, 'learning_rate': 0.01, 'max_depth': 1, 'min_child_samples': 200, 'n_estimators': 500, 'subsample': 0.3}\n",
      "Train Rmse sonucu:  29.693642367380747\n",
      "Test Rmse sonucu:  34.550231512898485\n",
      "Test setine ait R2 degeri:  -0.011257986321248747\n"
     ]
    }
   ],
   "source": [
    "# Birde PCA ile belirledigimiz veri setine uyguluyoruz\n",
    "\n",
    "Lgbm_Reg(X_reduced_train, y_train, X_reduced_test, y_test)"
   ]
  },
  {
   "cell_type": "code",
   "execution_count": null,
   "metadata": {
    "colab": {
     "base_uri": "https://localhost:8080/",
     "height": 440
    },
    "colab_type": "code",
    "id": "B1OkacATAoSF",
    "outputId": "8233f9a1-9288-4422-ab11-ae3913e76dbd"
   },
   "outputs": [
    {
     "name": "stdout",
     "output_type": "stream",
     "text": [
      "Fitting 10 folds for each of 1620 candidates, totalling 16200 fits\n"
     ]
    },
    {
     "name": "stderr",
     "output_type": "stream",
     "text": [
      "[Parallel(n_jobs=-1)]: Using backend LokyBackend with 2 concurrent workers.\n",
      "[Parallel(n_jobs=-1)]: Done  70 tasks      | elapsed:    6.8s\n",
      "[Parallel(n_jobs=-1)]: Done 312 tasks      | elapsed:   35.4s\n",
      "[Parallel(n_jobs=-1)]: Done 537 tasks      | elapsed:  1.3min\n",
      "[Parallel(n_jobs=-1)]: Done 820 tasks      | elapsed:  2.4min\n",
      "[Parallel(n_jobs=-1)]: Done 1185 tasks      | elapsed:  3.9min\n",
      "[Parallel(n_jobs=-1)]: Done 1630 tasks      | elapsed:  5.0min\n",
      "[Parallel(n_jobs=-1)]: Done 2157 tasks      | elapsed:  7.3min\n",
      "[Parallel(n_jobs=-1)]: Done 2764 tasks      | elapsed:  8.8min\n",
      "[Parallel(n_jobs=-1)]: Done 3453 tasks      | elapsed: 11.5min\n",
      "[Parallel(n_jobs=-1)]: Done 4222 tasks      | elapsed: 14.3min\n",
      "[Parallel(n_jobs=-1)]: Done 5073 tasks      | elapsed: 16.9min\n",
      "[Parallel(n_jobs=-1)]: Done 6004 tasks      | elapsed: 20.1min\n",
      "[Parallel(n_jobs=-1)]: Done 7017 tasks      | elapsed: 23.9min\n",
      "[Parallel(n_jobs=-1)]: Done 8110 tasks      | elapsed: 28.0min\n",
      "[Parallel(n_jobs=-1)]: Done 9285 tasks      | elapsed: 32.5min\n",
      "[Parallel(n_jobs=-1)]: Done 10540 tasks      | elapsed: 37.5min\n",
      "[Parallel(n_jobs=-1)]: Done 11877 tasks      | elapsed: 43.4min\n",
      "[Parallel(n_jobs=-1)]: Done 13294 tasks      | elapsed: 48.5min\n",
      "[Parallel(n_jobs=-1)]: Done 14793 tasks      | elapsed: 54.6min\n",
      "[Parallel(n_jobs=-1)]: Done 16200 out of 16200 | elapsed: 61.0min finished\n"
     ]
    },
    {
     "name": "stdout",
     "output_type": "stream",
     "text": [
      "Best parametreler {'colsample_bytree': 0.6, 'learning_rate': 0.01, 'max_depth': 1, 'min_child_samples': 200, 'n_estimators': 500, 'subsample': 0.3}\n",
      "Train Rmse sonucu:  28.96822846714463\n",
      "Test Rmse sonucu:  33.95588669209476\n",
      "Test setine ait R2 degeri:  0.02323476862117746\n"
     ]
    }
   ],
   "source": [
    "# Son olarak Korelasyona gore belirledigim veri setini kullaniyorum \n",
    "\n",
    "X = df_y.loc[:,degiskenler[1:11]] \n",
    "y = df_y[\"50_target\"]\n",
    "\n",
    "X_train, X_test, y_train, y_test = train_test_split(X,y, test_size = .2, random_state = 42,shuffle = False)\n",
    "\n",
    "Lgbm_Reg(X_train,y_train,X_test,y_test)"
   ]
  },
  {
   "cell_type": "code",
   "execution_count": null,
   "metadata": {
    "colab": {},
    "colab_type": "code",
    "id": "HDafzpunAoPF"
   },
   "outputs": [],
   "source": []
  },
  {
   "cell_type": "code",
   "execution_count": null,
   "metadata": {
    "colab": {},
    "colab_type": "code",
    "id": "Ggz1zYLHZRhs"
   },
   "outputs": [],
   "source": []
  },
  {
   "cell_type": "markdown",
   "metadata": {
    "colab_type": "text",
    "id": "Ly6aKq8JZT9q"
   },
   "source": [
    "# Target 90 ı olceklendirip POZITIF NEGATIF NOTR yaparak multunomial Naive Bayes uyguluyoruz"
   ]
  },
  {
   "cell_type": "code",
   "execution_count": null,
   "metadata": {
    "colab": {},
    "colab_type": "code",
    "id": "6BaROT63ZR21"
   },
   "outputs": [],
   "source": []
  },
  {
   "cell_type": "code",
   "execution_count": null,
   "metadata": {
    "colab": {
     "base_uri": "https://localhost:8080/",
     "height": 238
    },
    "colab_type": "code",
    "id": "74BuoC19AoLG",
    "outputId": "1b950490-5689-4293-c0e0-8a095a4e6c5b"
   },
   "outputs": [
    {
     "data": {
      "text/html": [
       "<div>\n",
       "<style scoped>\n",
       "    .dataframe tbody tr th:only-of-type {\n",
       "        vertical-align: middle;\n",
       "    }\n",
       "\n",
       "    .dataframe tbody tr th {\n",
       "        vertical-align: top;\n",
       "    }\n",
       "\n",
       "    .dataframe thead th {\n",
       "        text-align: right;\n",
       "    }\n",
       "</style>\n",
       "<table border=\"1\" class=\"dataframe\">\n",
       "  <thead>\n",
       "    <tr style=\"text-align: right;\">\n",
       "      <th></th>\n",
       "      <th>ind_5</th>\n",
       "      <th>ind_6</th>\n",
       "      <th>ind_8</th>\n",
       "      <th>ind_9</th>\n",
       "      <th>ind_10</th>\n",
       "      <th>ind_12</th>\n",
       "      <th>ind_13</th>\n",
       "      <th>ind_14</th>\n",
       "      <th>ind_15</th>\n",
       "      <th>ind_16</th>\n",
       "      <th>ind_17</th>\n",
       "      <th>ind_18</th>\n",
       "      <th>ind_19</th>\n",
       "      <th>ind_20</th>\n",
       "      <th>ind_21</th>\n",
       "      <th>ind_22</th>\n",
       "      <th>ind_23</th>\n",
       "      <th>ind_25</th>\n",
       "      <th>ind_26</th>\n",
       "      <th>ind_27</th>\n",
       "      <th>ind_28</th>\n",
       "      <th>ind_29</th>\n",
       "      <th>ind_30</th>\n",
       "      <th>ind_31</th>\n",
       "      <th>ind_32</th>\n",
       "      <th>ind_33</th>\n",
       "      <th>ind_34</th>\n",
       "      <th>ind_35</th>\n",
       "      <th>ind_36</th>\n",
       "      <th>ind_37</th>\n",
       "      <th>ind_39</th>\n",
       "      <th>ind_40</th>\n",
       "      <th>ind_41</th>\n",
       "      <th>ind_42</th>\n",
       "      <th>ind_43</th>\n",
       "      <th>ind_44</th>\n",
       "      <th>ind_45</th>\n",
       "      <th>ind_46</th>\n",
       "      <th>ind_47</th>\n",
       "      <th>ind_48</th>\n",
       "      <th>...</th>\n",
       "      <th>ind_313</th>\n",
       "      <th>ind_315</th>\n",
       "      <th>ind_316</th>\n",
       "      <th>ind_318</th>\n",
       "      <th>ind_321</th>\n",
       "      <th>ind_324</th>\n",
       "      <th>ind_327</th>\n",
       "      <th>ind_330</th>\n",
       "      <th>ind_332</th>\n",
       "      <th>ind_334</th>\n",
       "      <th>ind_338</th>\n",
       "      <th>ind_340</th>\n",
       "      <th>ind_344</th>\n",
       "      <th>ind_345</th>\n",
       "      <th>ind_347</th>\n",
       "      <th>ind_349</th>\n",
       "      <th>ind_351</th>\n",
       "      <th>ind_352</th>\n",
       "      <th>ind_387</th>\n",
       "      <th>ind_392</th>\n",
       "      <th>ind_397</th>\n",
       "      <th>ind_399</th>\n",
       "      <th>ind_403</th>\n",
       "      <th>ind_404</th>\n",
       "      <th>ind_406</th>\n",
       "      <th>ind_407</th>\n",
       "      <th>ind_410</th>\n",
       "      <th>ind_412</th>\n",
       "      <th>ind_414</th>\n",
       "      <th>ind_416</th>\n",
       "      <th>ind_418</th>\n",
       "      <th>ind_420</th>\n",
       "      <th>ind_422</th>\n",
       "      <th>ind_424</th>\n",
       "      <th>ind_426</th>\n",
       "      <th>ind_428</th>\n",
       "      <th>20_target</th>\n",
       "      <th>50_target</th>\n",
       "      <th>90_target</th>\n",
       "      <th>ind_109_GREEN</th>\n",
       "    </tr>\n",
       "  </thead>\n",
       "  <tbody>\n",
       "    <tr>\n",
       "      <th>0</th>\n",
       "      <td>19.0</td>\n",
       "      <td>17.0</td>\n",
       "      <td>100.0</td>\n",
       "      <td>85.714286</td>\n",
       "      <td>14.285714</td>\n",
       "      <td>72.363515</td>\n",
       "      <td>60.808814</td>\n",
       "      <td>23.80</td>\n",
       "      <td>17.62</td>\n",
       "      <td>11.73</td>\n",
       "      <td>12.060000</td>\n",
       "      <td>9.1100</td>\n",
       "      <td>2.0</td>\n",
       "      <td>15.0</td>\n",
       "      <td>13.0</td>\n",
       "      <td>1.0</td>\n",
       "      <td>56.0</td>\n",
       "      <td>0.002690</td>\n",
       "      <td>-0.002670</td>\n",
       "      <td>0.000010</td>\n",
       "      <td>66.666667</td>\n",
       "      <td>93.692449</td>\n",
       "      <td>146.592674</td>\n",
       "      <td>150.505806</td>\n",
       "      <td>154.486989</td>\n",
       "      <td>158.009516</td>\n",
       "      <td>142.421114</td>\n",
       "      <td>142.023350</td>\n",
       "      <td>196.592517</td>\n",
       "      <td>184.819232</td>\n",
       "      <td>31.939605</td>\n",
       "      <td>3.0</td>\n",
       "      <td>30.752568</td>\n",
       "      <td>-5.0</td>\n",
       "      <td>-22.0</td>\n",
       "      <td>-22.0</td>\n",
       "      <td>-21.0</td>\n",
       "      <td>-23.0</td>\n",
       "      <td>-36.0</td>\n",
       "      <td>-40.0</td>\n",
       "      <td>...</td>\n",
       "      <td>1.179209</td>\n",
       "      <td>-0.756946</td>\n",
       "      <td>98.905563</td>\n",
       "      <td>1.190348</td>\n",
       "      <td>99.156641</td>\n",
       "      <td>-0.000062</td>\n",
       "      <td>12.056738</td>\n",
       "      <td>-0.157039</td>\n",
       "      <td>20.967742</td>\n",
       "      <td>-0.000091</td>\n",
       "      <td>1.197238</td>\n",
       "      <td>-0.319064</td>\n",
       "      <td>0.0</td>\n",
       "      <td>0.0</td>\n",
       "      <td>0.0</td>\n",
       "      <td>0.0</td>\n",
       "      <td>0.0</td>\n",
       "      <td>0.0</td>\n",
       "      <td>-3.731343</td>\n",
       "      <td>-32.587430</td>\n",
       "      <td>-26.386973</td>\n",
       "      <td>-0.003323</td>\n",
       "      <td>0.045130</td>\n",
       "      <td>-0.044678</td>\n",
       "      <td>-44.0</td>\n",
       "      <td>-23.0</td>\n",
       "      <td>-27.0</td>\n",
       "      <td>0.002371</td>\n",
       "      <td>2.0</td>\n",
       "      <td>-49.6</td>\n",
       "      <td>-54.0</td>\n",
       "      <td>-152</td>\n",
       "      <td>-353</td>\n",
       "      <td>1.0</td>\n",
       "      <td>0.498547</td>\n",
       "      <td>0.701906</td>\n",
       "      <td>15.135802</td>\n",
       "      <td>35.625252</td>\n",
       "      <td>36.997753</td>\n",
       "      <td>1</td>\n",
       "    </tr>\n",
       "    <tr>\n",
       "      <th>1</th>\n",
       "      <td>24.0</td>\n",
       "      <td>19.0</td>\n",
       "      <td>100.0</td>\n",
       "      <td>78.571429</td>\n",
       "      <td>21.428571</td>\n",
       "      <td>74.275883</td>\n",
       "      <td>64.366798</td>\n",
       "      <td>11.45</td>\n",
       "      <td>18.16</td>\n",
       "      <td>12.22</td>\n",
       "      <td>11.326667</td>\n",
       "      <td>9.2225</td>\n",
       "      <td>0.0</td>\n",
       "      <td>11.0</td>\n",
       "      <td>11.0</td>\n",
       "      <td>1.0</td>\n",
       "      <td>63.0</td>\n",
       "      <td>0.002729</td>\n",
       "      <td>-0.003111</td>\n",
       "      <td>-0.000191</td>\n",
       "      <td>66.666667</td>\n",
       "      <td>76.694104</td>\n",
       "      <td>140.227205</td>\n",
       "      <td>156.903278</td>\n",
       "      <td>161.604303</td>\n",
       "      <td>169.720843</td>\n",
       "      <td>152.634492</td>\n",
       "      <td>149.634976</td>\n",
       "      <td>201.738617</td>\n",
       "      <td>191.985663</td>\n",
       "      <td>38.478501</td>\n",
       "      <td>3.0</td>\n",
       "      <td>36.812130</td>\n",
       "      <td>-6.0</td>\n",
       "      <td>-18.0</td>\n",
       "      <td>-24.0</td>\n",
       "      <td>-24.0</td>\n",
       "      <td>-25.0</td>\n",
       "      <td>-38.0</td>\n",
       "      <td>-43.0</td>\n",
       "      <td>...</td>\n",
       "      <td>1.179223</td>\n",
       "      <td>-0.756569</td>\n",
       "      <td>98.859627</td>\n",
       "      <td>1.190389</td>\n",
       "      <td>99.111914</td>\n",
       "      <td>-0.000062</td>\n",
       "      <td>11.971831</td>\n",
       "      <td>-0.156961</td>\n",
       "      <td>20.800000</td>\n",
       "      <td>-0.000091</td>\n",
       "      <td>1.197328</td>\n",
       "      <td>-0.318905</td>\n",
       "      <td>0.0</td>\n",
       "      <td>0.0</td>\n",
       "      <td>0.0</td>\n",
       "      <td>0.0</td>\n",
       "      <td>0.0</td>\n",
       "      <td>0.0</td>\n",
       "      <td>-1.369863</td>\n",
       "      <td>-38.115965</td>\n",
       "      <td>-26.085949</td>\n",
       "      <td>-0.000476</td>\n",
       "      <td>0.035314</td>\n",
       "      <td>-0.034961</td>\n",
       "      <td>-48.0</td>\n",
       "      <td>-16.0</td>\n",
       "      <td>-31.0</td>\n",
       "      <td>0.003074</td>\n",
       "      <td>0.8</td>\n",
       "      <td>-55.6</td>\n",
       "      <td>-60.0</td>\n",
       "      <td>-158</td>\n",
       "      <td>-359</td>\n",
       "      <td>1.0</td>\n",
       "      <td>0.537088</td>\n",
       "      <td>0.690833</td>\n",
       "      <td>15.143348</td>\n",
       "      <td>35.643013</td>\n",
       "      <td>37.016198</td>\n",
       "      <td>1</td>\n",
       "    </tr>\n",
       "    <tr>\n",
       "      <th>2</th>\n",
       "      <td>30.0</td>\n",
       "      <td>24.0</td>\n",
       "      <td>100.0</td>\n",
       "      <td>71.428571</td>\n",
       "      <td>28.571429</td>\n",
       "      <td>75.140402</td>\n",
       "      <td>65.915803</td>\n",
       "      <td>8.75</td>\n",
       "      <td>17.86</td>\n",
       "      <td>12.28</td>\n",
       "      <td>10.973333</td>\n",
       "      <td>9.3125</td>\n",
       "      <td>5.0</td>\n",
       "      <td>15.0</td>\n",
       "      <td>9.0</td>\n",
       "      <td>-1.0</td>\n",
       "      <td>65.0</td>\n",
       "      <td>0.002780</td>\n",
       "      <td>-0.003530</td>\n",
       "      <td>-0.000375</td>\n",
       "      <td>66.666667</td>\n",
       "      <td>83.909974</td>\n",
       "      <td>117.755945</td>\n",
       "      <td>154.452274</td>\n",
       "      <td>164.015689</td>\n",
       "      <td>175.947530</td>\n",
       "      <td>160.181486</td>\n",
       "      <td>155.527932</td>\n",
       "      <td>205.238017</td>\n",
       "      <td>197.993551</td>\n",
       "      <td>28.917197</td>\n",
       "      <td>3.0</td>\n",
       "      <td>39.648290</td>\n",
       "      <td>-4.0</td>\n",
       "      <td>-11.0</td>\n",
       "      <td>-21.0</td>\n",
       "      <td>-22.0</td>\n",
       "      <td>-24.0</td>\n",
       "      <td>-36.0</td>\n",
       "      <td>-42.0</td>\n",
       "      <td>...</td>\n",
       "      <td>1.179236</td>\n",
       "      <td>-0.756393</td>\n",
       "      <td>98.839991</td>\n",
       "      <td>1.190429</td>\n",
       "      <td>99.093554</td>\n",
       "      <td>-0.000062</td>\n",
       "      <td>11.888112</td>\n",
       "      <td>-0.156925</td>\n",
       "      <td>20.634921</td>\n",
       "      <td>-0.000091</td>\n",
       "      <td>1.197419</td>\n",
       "      <td>-0.318831</td>\n",
       "      <td>0.0</td>\n",
       "      <td>0.0</td>\n",
       "      <td>0.0</td>\n",
       "      <td>0.0</td>\n",
       "      <td>0.0</td>\n",
       "      <td>0.0</td>\n",
       "      <td>-4.278922</td>\n",
       "      <td>-40.428126</td>\n",
       "      <td>-23.250410</td>\n",
       "      <td>-0.000309</td>\n",
       "      <td>0.005860</td>\n",
       "      <td>-0.005802</td>\n",
       "      <td>-48.0</td>\n",
       "      <td>-10.0</td>\n",
       "      <td>-30.0</td>\n",
       "      <td>0.003561</td>\n",
       "      <td>2.7</td>\n",
       "      <td>-58.4</td>\n",
       "      <td>-60.0</td>\n",
       "      <td>-160</td>\n",
       "      <td>-362</td>\n",
       "      <td>1.0</td>\n",
       "      <td>0.615169</td>\n",
       "      <td>0.693040</td>\n",
       "      <td>15.146870</td>\n",
       "      <td>35.651301</td>\n",
       "      <td>-37.024805</td>\n",
       "      <td>1</td>\n",
       "    </tr>\n",
       "    <tr>\n",
       "      <th>3</th>\n",
       "      <td>37.0</td>\n",
       "      <td>30.0</td>\n",
       "      <td>100.0</td>\n",
       "      <td>64.285714</td>\n",
       "      <td>35.714286</td>\n",
       "      <td>76.677846</td>\n",
       "      <td>68.584234</td>\n",
       "      <td>7.80</td>\n",
       "      <td>14.76</td>\n",
       "      <td>12.61</td>\n",
       "      <td>10.426667</td>\n",
       "      <td>9.4150</td>\n",
       "      <td>11.0</td>\n",
       "      <td>18.0</td>\n",
       "      <td>8.0</td>\n",
       "      <td>0.0</td>\n",
       "      <td>68.0</td>\n",
       "      <td>0.002679</td>\n",
       "      <td>-0.003961</td>\n",
       "      <td>-0.000641</td>\n",
       "      <td>66.666667</td>\n",
       "      <td>98.596644</td>\n",
       "      <td>100.147384</td>\n",
       "      <td>139.695620</td>\n",
       "      <td>158.006863</td>\n",
       "      <td>171.688382</td>\n",
       "      <td>161.192133</td>\n",
       "      <td>156.413230</td>\n",
       "      <td>203.641362</td>\n",
       "      <td>200.370912</td>\n",
       "      <td>31.449631</td>\n",
       "      <td>3.0</td>\n",
       "      <td>40.902782</td>\n",
       "      <td>-5.0</td>\n",
       "      <td>-10.0</td>\n",
       "      <td>-21.0</td>\n",
       "      <td>-23.0</td>\n",
       "      <td>-26.0</td>\n",
       "      <td>-37.0</td>\n",
       "      <td>-44.0</td>\n",
       "      <td>...</td>\n",
       "      <td>1.179249</td>\n",
       "      <td>-0.756073</td>\n",
       "      <td>98.801500</td>\n",
       "      <td>1.190469</td>\n",
       "      <td>99.056290</td>\n",
       "      <td>-0.000062</td>\n",
       "      <td>11.805556</td>\n",
       "      <td>-0.156858</td>\n",
       "      <td>20.472441</td>\n",
       "      <td>-0.000091</td>\n",
       "      <td>1.197509</td>\n",
       "      <td>-0.318696</td>\n",
       "      <td>0.0</td>\n",
       "      <td>0.0</td>\n",
       "      <td>0.0</td>\n",
       "      <td>0.0</td>\n",
       "      <td>0.0</td>\n",
       "      <td>0.0</td>\n",
       "      <td>-1.355422</td>\n",
       "      <td>-45.019355</td>\n",
       "      <td>-19.499975</td>\n",
       "      <td>0.001137</td>\n",
       "      <td>-0.018252</td>\n",
       "      <td>0.018070</td>\n",
       "      <td>-51.0</td>\n",
       "      <td>-10.0</td>\n",
       "      <td>-30.0</td>\n",
       "      <td>0.004366</td>\n",
       "      <td>0.9</td>\n",
       "      <td>-61.8</td>\n",
       "      <td>-65.0</td>\n",
       "      <td>-166</td>\n",
       "      <td>-367</td>\n",
       "      <td>1.0</td>\n",
       "      <td>0.661517</td>\n",
       "      <td>0.673418</td>\n",
       "      <td>15.153283</td>\n",
       "      <td>0.000000</td>\n",
       "      <td>-37.040483</td>\n",
       "      <td>1</td>\n",
       "    </tr>\n",
       "    <tr>\n",
       "      <th>4</th>\n",
       "      <td>41.0</td>\n",
       "      <td>37.0</td>\n",
       "      <td>100.0</td>\n",
       "      <td>57.142857</td>\n",
       "      <td>42.857143</td>\n",
       "      <td>81.603007</td>\n",
       "      <td>76.455495</td>\n",
       "      <td>14.90</td>\n",
       "      <td>11.92</td>\n",
       "      <td>14.25</td>\n",
       "      <td>11.406667</td>\n",
       "      <td>9.8925</td>\n",
       "      <td>13.0</td>\n",
       "      <td>23.0</td>\n",
       "      <td>10.0</td>\n",
       "      <td>10.0</td>\n",
       "      <td>91.0</td>\n",
       "      <td>0.003986</td>\n",
       "      <td>-0.004624</td>\n",
       "      <td>-0.000319</td>\n",
       "      <td>66.666667</td>\n",
       "      <td>149.283572</td>\n",
       "      <td>124.092409</td>\n",
       "      <td>168.275524</td>\n",
       "      <td>196.846256</td>\n",
       "      <td>208.017747</td>\n",
       "      <td>193.924291</td>\n",
       "      <td>184.995906</td>\n",
       "      <td>227.848369</td>\n",
       "      <td>223.561880</td>\n",
       "      <td>50.406504</td>\n",
       "      <td>2.0</td>\n",
       "      <td>48.462194</td>\n",
       "      <td>-18.0</td>\n",
       "      <td>-26.0</td>\n",
       "      <td>-37.0</td>\n",
       "      <td>-40.0</td>\n",
       "      <td>-43.0</td>\n",
       "      <td>-53.0</td>\n",
       "      <td>-61.0</td>\n",
       "      <td>...</td>\n",
       "      <td>1.179263</td>\n",
       "      <td>-0.754789</td>\n",
       "      <td>98.637028</td>\n",
       "      <td>1.190509</td>\n",
       "      <td>98.892717</td>\n",
       "      <td>-0.000062</td>\n",
       "      <td>11.724138</td>\n",
       "      <td>-0.156592</td>\n",
       "      <td>20.312500</td>\n",
       "      <td>-0.000091</td>\n",
       "      <td>1.197600</td>\n",
       "      <td>-0.318155</td>\n",
       "      <td>0.0</td>\n",
       "      <td>0.0</td>\n",
       "      <td>0.0</td>\n",
       "      <td>0.0</td>\n",
       "      <td>0.0</td>\n",
       "      <td>0.0</td>\n",
       "      <td>-0.116144</td>\n",
       "      <td>-54.849177</td>\n",
       "      <td>-25.348270</td>\n",
       "      <td>0.001552</td>\n",
       "      <td>-0.007183</td>\n",
       "      <td>0.007111</td>\n",
       "      <td>-70.0</td>\n",
       "      <td>-24.0</td>\n",
       "      <td>-45.0</td>\n",
       "      <td>0.004198</td>\n",
       "      <td>0.1</td>\n",
       "      <td>-79.8</td>\n",
       "      <td>-86.0</td>\n",
       "      <td>-186</td>\n",
       "      <td>-388</td>\n",
       "      <td>1.0</td>\n",
       "      <td>0.747204</td>\n",
       "      <td>0.700522</td>\n",
       "      <td>-15.179065</td>\n",
       "      <td>-35.727079</td>\n",
       "      <td>-37.103503</td>\n",
       "      <td>1</td>\n",
       "    </tr>\n",
       "  </tbody>\n",
       "</table>\n",
       "<p>5 rows × 136 columns</p>\n",
       "</div>"
      ],
      "text/plain": [
       "   ind_5  ind_6  ind_8  ...  50_target  90_target  ind_109_GREEN\n",
       "0   19.0   17.0  100.0  ...  35.625252  36.997753              1\n",
       "1   24.0   19.0  100.0  ...  35.643013  37.016198              1\n",
       "2   30.0   24.0  100.0  ...  35.651301 -37.024805              1\n",
       "3   37.0   30.0  100.0  ...   0.000000 -37.040483              1\n",
       "4   41.0   37.0  100.0  ... -35.727079 -37.103503              1\n",
       "\n",
       "[5 rows x 136 columns]"
      ]
     },
     "execution_count": 4,
     "metadata": {
      "tags": []
     },
     "output_type": "execute_result"
    }
   ],
   "source": [
    "df = pd.read_excel(\"/content/drive/My Drive/HW_Data_Set.xlsx\")\n",
    "\n",
    "df_y = df.copy()\n",
    "\n",
    "df_y.loc[df_y[df_y[\"ind_420\"] == \"?\"].index] = np.nan \n",
    "\n",
    "# Degisken donusturmeden once icerisinde NAN degerler oldugu icin ilk once bu OBJECT tipindeki degiskenlerin NAN degerlerini degistiriyoruz\n",
    "# Ardindan donusum gercelestiriyoruz\n",
    "\n",
    "df_y[\"ind_422\"] = df_y[\"ind_422\"].fillna(df_y.mean()[\"ind_422\"])\n",
    "df_y[\"ind_420\"] = df_y[\"ind_420\"].fillna(df_y.mean()[\"ind_420\"])\n",
    "\n",
    "df_y[\"ind_422\"] = df_y[\"ind_422\"].astype('int32')\n",
    "df_y[\"ind_420\"] = df_y[\"ind_420\"].astype('int32')\n",
    "\n",
    "# Geriye kalan NaN degiskenleri de dolduruyoruz\n",
    "\n",
    "column = list(df_y.select_dtypes(include=[\"int32\",\"float64\"]))\n",
    "df_y[column] = df_y[column].apply(lambda x: x.fillna(x.mean()),axis=0)\n",
    "\n",
    "# Kalan son object tipindeki degiskeni de 1-0 haline getiriyoruz\n",
    "\n",
    "df_y = pd.get_dummies(df_y,columns= [\"ind_109\"], prefix= [\"ind_109\"])\n",
    "\n",
    "df_y = df_y.drop([\"ind_109_RED\"],axis=1)\n",
    "\n",
    "df_y.head()"
   ]
  },
  {
   "cell_type": "code",
   "execution_count": null,
   "metadata": {
    "colab": {},
    "colab_type": "code",
    "id": "9J6U3c1buiIX"
   },
   "outputs": [],
   "source": [
    "df_y.describe().T"
   ]
  },
  {
   "cell_type": "code",
   "execution_count": null,
   "metadata": {
    "colab": {
     "base_uri": "https://localhost:8080/",
     "height": 163
    },
    "colab_type": "code",
    "id": "TR-cm_eeuY_N",
    "outputId": "63df652d-aaf3-4b77-f438-8efe3e097f16"
   },
   "outputs": [
    {
     "data": {
      "text/plain": [
       "count    6167.000000\n",
       "mean       -4.115568\n",
       "std        33.417559\n",
       "min       -38.573858\n",
       "25%       -37.136703\n",
       "50%        -4.115568\n",
       "75%        36.275640\n",
       "max        38.465649\n",
       "Name: 90_target, dtype: float64"
      ]
     },
     "execution_count": 8,
     "metadata": {
      "tags": []
     },
     "output_type": "execute_result"
    }
   ],
   "source": [
    "df_y[\"90_target\"].describe().T"
   ]
  },
  {
   "cell_type": "code",
   "execution_count": null,
   "metadata": {
    "colab": {},
    "colab_type": "code",
    "id": "XAJXVTZyu2-V"
   },
   "outputs": [],
   "source": []
  },
  {
   "cell_type": "code",
   "execution_count": null,
   "metadata": {
    "colab": {},
    "colab_type": "code",
    "id": "DouJ6lwFwHO8"
   },
   "outputs": [],
   "source": [
    "df_y.insert(3,\"NewTarget_90\",df_y[\"90_target\"])\n",
    "for i in df_y[\"NewTarget_90\"]:\n",
    "    if i<0:\n",
    "        df_y[\"NewTarget_90\"]=df_y[\"NewTarget_90\"].replace(i,\"< 0 olanlar\")\n",
    "    elif (i>=0) and (i<1):\n",
    "        df_y[\"NewTarget_90\"]=df_y[\"NewTarget_90\"].replace(i,\"0-1 arasinda olanlar\")\n",
    "    elif (i>=1):\n",
    "        df_y[\"NewTarget_90\"]=df_y[\"NewTarget_90\"].replace(i,\"1 =< olanlar\")"
   ]
  },
  {
   "cell_type": "code",
   "execution_count": null,
   "metadata": {
    "colab": {
     "base_uri": "https://localhost:8080/",
     "height": 152
    },
    "colab_type": "code",
    "id": "SIb5WsqnwHZA",
    "outputId": "64dabff3-45ad-4f69-fa52-5459e3190c5a"
   },
   "outputs": [
    {
     "data": {
      "text/html": [
       "<div>\n",
       "<style scoped>\n",
       "    .dataframe tbody tr th:only-of-type {\n",
       "        vertical-align: middle;\n",
       "    }\n",
       "\n",
       "    .dataframe tbody tr th {\n",
       "        vertical-align: top;\n",
       "    }\n",
       "\n",
       "    .dataframe thead th {\n",
       "        text-align: right;\n",
       "    }\n",
       "</style>\n",
       "<table border=\"1\" class=\"dataframe\">\n",
       "  <thead>\n",
       "    <tr style=\"text-align: right;\">\n",
       "      <th></th>\n",
       "      <th>ind_5</th>\n",
       "      <th>ind_6</th>\n",
       "      <th>ind_8</th>\n",
       "      <th>NewTarget_90</th>\n",
       "      <th>ind_9</th>\n",
       "      <th>ind_10</th>\n",
       "      <th>ind_12</th>\n",
       "      <th>ind_13</th>\n",
       "      <th>ind_14</th>\n",
       "      <th>ind_15</th>\n",
       "      <th>ind_16</th>\n",
       "      <th>ind_17</th>\n",
       "      <th>ind_18</th>\n",
       "      <th>ind_19</th>\n",
       "      <th>ind_20</th>\n",
       "      <th>ind_21</th>\n",
       "      <th>ind_22</th>\n",
       "      <th>ind_23</th>\n",
       "      <th>ind_25</th>\n",
       "      <th>ind_26</th>\n",
       "      <th>ind_27</th>\n",
       "      <th>ind_28</th>\n",
       "      <th>ind_29</th>\n",
       "      <th>ind_30</th>\n",
       "      <th>ind_31</th>\n",
       "      <th>ind_32</th>\n",
       "      <th>ind_33</th>\n",
       "      <th>ind_34</th>\n",
       "      <th>ind_35</th>\n",
       "      <th>ind_36</th>\n",
       "      <th>ind_37</th>\n",
       "      <th>ind_39</th>\n",
       "      <th>ind_40</th>\n",
       "      <th>ind_41</th>\n",
       "      <th>ind_42</th>\n",
       "      <th>ind_43</th>\n",
       "      <th>ind_44</th>\n",
       "      <th>ind_45</th>\n",
       "      <th>ind_46</th>\n",
       "      <th>ind_47</th>\n",
       "      <th>...</th>\n",
       "      <th>ind_313</th>\n",
       "      <th>ind_315</th>\n",
       "      <th>ind_316</th>\n",
       "      <th>ind_318</th>\n",
       "      <th>ind_321</th>\n",
       "      <th>ind_324</th>\n",
       "      <th>ind_327</th>\n",
       "      <th>ind_330</th>\n",
       "      <th>ind_332</th>\n",
       "      <th>ind_334</th>\n",
       "      <th>ind_338</th>\n",
       "      <th>ind_340</th>\n",
       "      <th>ind_344</th>\n",
       "      <th>ind_345</th>\n",
       "      <th>ind_347</th>\n",
       "      <th>ind_349</th>\n",
       "      <th>ind_351</th>\n",
       "      <th>ind_352</th>\n",
       "      <th>ind_387</th>\n",
       "      <th>ind_392</th>\n",
       "      <th>ind_397</th>\n",
       "      <th>ind_399</th>\n",
       "      <th>ind_403</th>\n",
       "      <th>ind_404</th>\n",
       "      <th>ind_406</th>\n",
       "      <th>ind_407</th>\n",
       "      <th>ind_410</th>\n",
       "      <th>ind_412</th>\n",
       "      <th>ind_414</th>\n",
       "      <th>ind_416</th>\n",
       "      <th>ind_418</th>\n",
       "      <th>ind_420</th>\n",
       "      <th>ind_422</th>\n",
       "      <th>ind_424</th>\n",
       "      <th>ind_426</th>\n",
       "      <th>ind_428</th>\n",
       "      <th>20_target</th>\n",
       "      <th>50_target</th>\n",
       "      <th>90_target</th>\n",
       "      <th>ind_109_GREEN</th>\n",
       "    </tr>\n",
       "  </thead>\n",
       "  <tbody>\n",
       "    <tr>\n",
       "      <th>0</th>\n",
       "      <td>19.0</td>\n",
       "      <td>17.0</td>\n",
       "      <td>100.0</td>\n",
       "      <td>1 =&lt; olanlar</td>\n",
       "      <td>85.714286</td>\n",
       "      <td>14.285714</td>\n",
       "      <td>72.363515</td>\n",
       "      <td>60.808814</td>\n",
       "      <td>23.80</td>\n",
       "      <td>17.62</td>\n",
       "      <td>11.73</td>\n",
       "      <td>12.060000</td>\n",
       "      <td>9.1100</td>\n",
       "      <td>2.0</td>\n",
       "      <td>15.0</td>\n",
       "      <td>13.0</td>\n",
       "      <td>1.0</td>\n",
       "      <td>56.0</td>\n",
       "      <td>0.002690</td>\n",
       "      <td>-0.002670</td>\n",
       "      <td>0.000010</td>\n",
       "      <td>66.666667</td>\n",
       "      <td>93.692449</td>\n",
       "      <td>146.592674</td>\n",
       "      <td>150.505806</td>\n",
       "      <td>154.486989</td>\n",
       "      <td>158.009516</td>\n",
       "      <td>142.421114</td>\n",
       "      <td>142.023350</td>\n",
       "      <td>196.592517</td>\n",
       "      <td>184.819232</td>\n",
       "      <td>31.939605</td>\n",
       "      <td>3.0</td>\n",
       "      <td>30.752568</td>\n",
       "      <td>-5.0</td>\n",
       "      <td>-22.0</td>\n",
       "      <td>-22.0</td>\n",
       "      <td>-21.0</td>\n",
       "      <td>-23.0</td>\n",
       "      <td>-36.0</td>\n",
       "      <td>...</td>\n",
       "      <td>1.179209</td>\n",
       "      <td>-0.756946</td>\n",
       "      <td>98.905563</td>\n",
       "      <td>1.190348</td>\n",
       "      <td>99.156641</td>\n",
       "      <td>-0.000062</td>\n",
       "      <td>12.056738</td>\n",
       "      <td>-0.157039</td>\n",
       "      <td>20.967742</td>\n",
       "      <td>-0.000091</td>\n",
       "      <td>1.197238</td>\n",
       "      <td>-0.319064</td>\n",
       "      <td>0.0</td>\n",
       "      <td>0.0</td>\n",
       "      <td>0.0</td>\n",
       "      <td>0.0</td>\n",
       "      <td>0.0</td>\n",
       "      <td>0.0</td>\n",
       "      <td>-3.731343</td>\n",
       "      <td>-32.587430</td>\n",
       "      <td>-26.386973</td>\n",
       "      <td>-0.003323</td>\n",
       "      <td>0.045130</td>\n",
       "      <td>-0.044678</td>\n",
       "      <td>-44.0</td>\n",
       "      <td>-23.0</td>\n",
       "      <td>-27.0</td>\n",
       "      <td>0.002371</td>\n",
       "      <td>2.0</td>\n",
       "      <td>-49.6</td>\n",
       "      <td>-54.0</td>\n",
       "      <td>-152</td>\n",
       "      <td>-353</td>\n",
       "      <td>1.0</td>\n",
       "      <td>0.498547</td>\n",
       "      <td>0.701906</td>\n",
       "      <td>15.135802</td>\n",
       "      <td>35.625252</td>\n",
       "      <td>36.997753</td>\n",
       "      <td>1</td>\n",
       "    </tr>\n",
       "    <tr>\n",
       "      <th>1</th>\n",
       "      <td>24.0</td>\n",
       "      <td>19.0</td>\n",
       "      <td>100.0</td>\n",
       "      <td>1 =&lt; olanlar</td>\n",
       "      <td>78.571429</td>\n",
       "      <td>21.428571</td>\n",
       "      <td>74.275883</td>\n",
       "      <td>64.366798</td>\n",
       "      <td>11.45</td>\n",
       "      <td>18.16</td>\n",
       "      <td>12.22</td>\n",
       "      <td>11.326667</td>\n",
       "      <td>9.2225</td>\n",
       "      <td>0.0</td>\n",
       "      <td>11.0</td>\n",
       "      <td>11.0</td>\n",
       "      <td>1.0</td>\n",
       "      <td>63.0</td>\n",
       "      <td>0.002729</td>\n",
       "      <td>-0.003111</td>\n",
       "      <td>-0.000191</td>\n",
       "      <td>66.666667</td>\n",
       "      <td>76.694104</td>\n",
       "      <td>140.227205</td>\n",
       "      <td>156.903278</td>\n",
       "      <td>161.604303</td>\n",
       "      <td>169.720843</td>\n",
       "      <td>152.634492</td>\n",
       "      <td>149.634976</td>\n",
       "      <td>201.738617</td>\n",
       "      <td>191.985663</td>\n",
       "      <td>38.478501</td>\n",
       "      <td>3.0</td>\n",
       "      <td>36.812130</td>\n",
       "      <td>-6.0</td>\n",
       "      <td>-18.0</td>\n",
       "      <td>-24.0</td>\n",
       "      <td>-24.0</td>\n",
       "      <td>-25.0</td>\n",
       "      <td>-38.0</td>\n",
       "      <td>...</td>\n",
       "      <td>1.179223</td>\n",
       "      <td>-0.756569</td>\n",
       "      <td>98.859627</td>\n",
       "      <td>1.190389</td>\n",
       "      <td>99.111914</td>\n",
       "      <td>-0.000062</td>\n",
       "      <td>11.971831</td>\n",
       "      <td>-0.156961</td>\n",
       "      <td>20.800000</td>\n",
       "      <td>-0.000091</td>\n",
       "      <td>1.197328</td>\n",
       "      <td>-0.318905</td>\n",
       "      <td>0.0</td>\n",
       "      <td>0.0</td>\n",
       "      <td>0.0</td>\n",
       "      <td>0.0</td>\n",
       "      <td>0.0</td>\n",
       "      <td>0.0</td>\n",
       "      <td>-1.369863</td>\n",
       "      <td>-38.115965</td>\n",
       "      <td>-26.085949</td>\n",
       "      <td>-0.000476</td>\n",
       "      <td>0.035314</td>\n",
       "      <td>-0.034961</td>\n",
       "      <td>-48.0</td>\n",
       "      <td>-16.0</td>\n",
       "      <td>-31.0</td>\n",
       "      <td>0.003074</td>\n",
       "      <td>0.8</td>\n",
       "      <td>-55.6</td>\n",
       "      <td>-60.0</td>\n",
       "      <td>-158</td>\n",
       "      <td>-359</td>\n",
       "      <td>1.0</td>\n",
       "      <td>0.537088</td>\n",
       "      <td>0.690833</td>\n",
       "      <td>15.143348</td>\n",
       "      <td>35.643013</td>\n",
       "      <td>37.016198</td>\n",
       "      <td>1</td>\n",
       "    </tr>\n",
       "  </tbody>\n",
       "</table>\n",
       "<p>2 rows × 137 columns</p>\n",
       "</div>"
      ],
      "text/plain": [
       "   ind_5  ind_6  ind_8  ...  50_target  90_target  ind_109_GREEN\n",
       "0   19.0   17.0  100.0  ...  35.625252  36.997753              1\n",
       "1   24.0   19.0  100.0  ...  35.643013  37.016198              1\n",
       "\n",
       "[2 rows x 137 columns]"
      ]
     },
     "execution_count": 17,
     "metadata": {
      "tags": []
     },
     "output_type": "execute_result"
    }
   ],
   "source": [
    "df_y.head(2)"
   ]
  },
  {
   "cell_type": "code",
   "execution_count": null,
   "metadata": {
    "colab": {
     "base_uri": "https://localhost:8080/",
     "height": 82
    },
    "colab_type": "code",
    "id": "p1oREXnTwWvg",
    "outputId": "c1c3c8c8-d61c-49d1-e364-665a92917ac8"
   },
   "outputs": [
    {
     "data": {
      "text/plain": [
       "< 0 olanlar             3851\n",
       "1 =< olanlar            2244\n",
       "0-1 arasinda olanlar      72\n",
       "Name: NewTarget_90, dtype: int64"
      ]
     },
     "execution_count": 18,
     "metadata": {
      "tags": []
     },
     "output_type": "execute_result"
    }
   ],
   "source": [
    "df_y[\"NewTarget_90\"].value_counts()"
   ]
  },
  {
   "cell_type": "code",
   "execution_count": null,
   "metadata": {
    "colab": {},
    "colab_type": "code",
    "id": "nzrXN6zEw3yl"
   },
   "outputs": [],
   "source": [
    "lbe = LabelEncoder()\n",
    "\n",
    "df_y[\"NewTarget_90\"] = lbe.fit_transform(df_y[\"NewTarget_90\"])"
   ]
  },
  {
   "cell_type": "code",
   "execution_count": null,
   "metadata": {
    "colab": {
     "base_uri": "https://localhost:8080/",
     "height": 152
    },
    "colab_type": "code",
    "id": "VdtC5F0nw9Uc",
    "outputId": "48e93302-ef12-4cb3-c678-4a6e7c60903c"
   },
   "outputs": [
    {
     "data": {
      "text/html": [
       "<div>\n",
       "<style scoped>\n",
       "    .dataframe tbody tr th:only-of-type {\n",
       "        vertical-align: middle;\n",
       "    }\n",
       "\n",
       "    .dataframe tbody tr th {\n",
       "        vertical-align: top;\n",
       "    }\n",
       "\n",
       "    .dataframe thead th {\n",
       "        text-align: right;\n",
       "    }\n",
       "</style>\n",
       "<table border=\"1\" class=\"dataframe\">\n",
       "  <thead>\n",
       "    <tr style=\"text-align: right;\">\n",
       "      <th></th>\n",
       "      <th>ind_5</th>\n",
       "      <th>ind_6</th>\n",
       "      <th>ind_8</th>\n",
       "      <th>NewTarget_90</th>\n",
       "      <th>ind_9</th>\n",
       "      <th>ind_10</th>\n",
       "      <th>ind_12</th>\n",
       "      <th>ind_13</th>\n",
       "      <th>ind_14</th>\n",
       "      <th>ind_15</th>\n",
       "      <th>ind_16</th>\n",
       "      <th>ind_17</th>\n",
       "      <th>ind_18</th>\n",
       "      <th>ind_19</th>\n",
       "      <th>ind_20</th>\n",
       "      <th>ind_21</th>\n",
       "      <th>ind_22</th>\n",
       "      <th>ind_23</th>\n",
       "      <th>ind_25</th>\n",
       "      <th>ind_26</th>\n",
       "      <th>ind_27</th>\n",
       "      <th>ind_28</th>\n",
       "      <th>ind_29</th>\n",
       "      <th>ind_30</th>\n",
       "      <th>ind_31</th>\n",
       "      <th>ind_32</th>\n",
       "      <th>ind_33</th>\n",
       "      <th>ind_34</th>\n",
       "      <th>ind_35</th>\n",
       "      <th>ind_36</th>\n",
       "      <th>ind_37</th>\n",
       "      <th>ind_39</th>\n",
       "      <th>ind_40</th>\n",
       "      <th>ind_41</th>\n",
       "      <th>ind_42</th>\n",
       "      <th>ind_43</th>\n",
       "      <th>ind_44</th>\n",
       "      <th>ind_45</th>\n",
       "      <th>ind_46</th>\n",
       "      <th>ind_47</th>\n",
       "      <th>...</th>\n",
       "      <th>ind_313</th>\n",
       "      <th>ind_315</th>\n",
       "      <th>ind_316</th>\n",
       "      <th>ind_318</th>\n",
       "      <th>ind_321</th>\n",
       "      <th>ind_324</th>\n",
       "      <th>ind_327</th>\n",
       "      <th>ind_330</th>\n",
       "      <th>ind_332</th>\n",
       "      <th>ind_334</th>\n",
       "      <th>ind_338</th>\n",
       "      <th>ind_340</th>\n",
       "      <th>ind_344</th>\n",
       "      <th>ind_345</th>\n",
       "      <th>ind_347</th>\n",
       "      <th>ind_349</th>\n",
       "      <th>ind_351</th>\n",
       "      <th>ind_352</th>\n",
       "      <th>ind_387</th>\n",
       "      <th>ind_392</th>\n",
       "      <th>ind_397</th>\n",
       "      <th>ind_399</th>\n",
       "      <th>ind_403</th>\n",
       "      <th>ind_404</th>\n",
       "      <th>ind_406</th>\n",
       "      <th>ind_407</th>\n",
       "      <th>ind_410</th>\n",
       "      <th>ind_412</th>\n",
       "      <th>ind_414</th>\n",
       "      <th>ind_416</th>\n",
       "      <th>ind_418</th>\n",
       "      <th>ind_420</th>\n",
       "      <th>ind_422</th>\n",
       "      <th>ind_424</th>\n",
       "      <th>ind_426</th>\n",
       "      <th>ind_428</th>\n",
       "      <th>20_target</th>\n",
       "      <th>50_target</th>\n",
       "      <th>90_target</th>\n",
       "      <th>ind_109_GREEN</th>\n",
       "    </tr>\n",
       "  </thead>\n",
       "  <tbody>\n",
       "    <tr>\n",
       "      <th>0</th>\n",
       "      <td>19.0</td>\n",
       "      <td>17.0</td>\n",
       "      <td>100.0</td>\n",
       "      <td>1</td>\n",
       "      <td>85.714286</td>\n",
       "      <td>14.285714</td>\n",
       "      <td>72.363515</td>\n",
       "      <td>60.808814</td>\n",
       "      <td>23.80</td>\n",
       "      <td>17.62</td>\n",
       "      <td>11.73</td>\n",
       "      <td>12.060000</td>\n",
       "      <td>9.1100</td>\n",
       "      <td>2.0</td>\n",
       "      <td>15.0</td>\n",
       "      <td>13.0</td>\n",
       "      <td>1.0</td>\n",
       "      <td>56.0</td>\n",
       "      <td>0.002690</td>\n",
       "      <td>-0.002670</td>\n",
       "      <td>0.000010</td>\n",
       "      <td>66.666667</td>\n",
       "      <td>93.692449</td>\n",
       "      <td>146.592674</td>\n",
       "      <td>150.505806</td>\n",
       "      <td>154.486989</td>\n",
       "      <td>158.009516</td>\n",
       "      <td>142.421114</td>\n",
       "      <td>142.023350</td>\n",
       "      <td>196.592517</td>\n",
       "      <td>184.819232</td>\n",
       "      <td>31.939605</td>\n",
       "      <td>3.0</td>\n",
       "      <td>30.752568</td>\n",
       "      <td>-5.0</td>\n",
       "      <td>-22.0</td>\n",
       "      <td>-22.0</td>\n",
       "      <td>-21.0</td>\n",
       "      <td>-23.0</td>\n",
       "      <td>-36.0</td>\n",
       "      <td>...</td>\n",
       "      <td>1.179209</td>\n",
       "      <td>-0.756946</td>\n",
       "      <td>98.905563</td>\n",
       "      <td>1.190348</td>\n",
       "      <td>99.156641</td>\n",
       "      <td>-0.000062</td>\n",
       "      <td>12.056738</td>\n",
       "      <td>-0.157039</td>\n",
       "      <td>20.967742</td>\n",
       "      <td>-0.000091</td>\n",
       "      <td>1.197238</td>\n",
       "      <td>-0.319064</td>\n",
       "      <td>0.0</td>\n",
       "      <td>0.0</td>\n",
       "      <td>0.0</td>\n",
       "      <td>0.0</td>\n",
       "      <td>0.0</td>\n",
       "      <td>0.0</td>\n",
       "      <td>-3.731343</td>\n",
       "      <td>-32.587430</td>\n",
       "      <td>-26.386973</td>\n",
       "      <td>-0.003323</td>\n",
       "      <td>0.045130</td>\n",
       "      <td>-0.044678</td>\n",
       "      <td>-44.0</td>\n",
       "      <td>-23.0</td>\n",
       "      <td>-27.0</td>\n",
       "      <td>0.002371</td>\n",
       "      <td>2.0</td>\n",
       "      <td>-49.6</td>\n",
       "      <td>-54.0</td>\n",
       "      <td>-152</td>\n",
       "      <td>-353</td>\n",
       "      <td>1.0</td>\n",
       "      <td>0.498547</td>\n",
       "      <td>0.701906</td>\n",
       "      <td>15.135802</td>\n",
       "      <td>35.625252</td>\n",
       "      <td>36.997753</td>\n",
       "      <td>1</td>\n",
       "    </tr>\n",
       "    <tr>\n",
       "      <th>1</th>\n",
       "      <td>24.0</td>\n",
       "      <td>19.0</td>\n",
       "      <td>100.0</td>\n",
       "      <td>1</td>\n",
       "      <td>78.571429</td>\n",
       "      <td>21.428571</td>\n",
       "      <td>74.275883</td>\n",
       "      <td>64.366798</td>\n",
       "      <td>11.45</td>\n",
       "      <td>18.16</td>\n",
       "      <td>12.22</td>\n",
       "      <td>11.326667</td>\n",
       "      <td>9.2225</td>\n",
       "      <td>0.0</td>\n",
       "      <td>11.0</td>\n",
       "      <td>11.0</td>\n",
       "      <td>1.0</td>\n",
       "      <td>63.0</td>\n",
       "      <td>0.002729</td>\n",
       "      <td>-0.003111</td>\n",
       "      <td>-0.000191</td>\n",
       "      <td>66.666667</td>\n",
       "      <td>76.694104</td>\n",
       "      <td>140.227205</td>\n",
       "      <td>156.903278</td>\n",
       "      <td>161.604303</td>\n",
       "      <td>169.720843</td>\n",
       "      <td>152.634492</td>\n",
       "      <td>149.634976</td>\n",
       "      <td>201.738617</td>\n",
       "      <td>191.985663</td>\n",
       "      <td>38.478501</td>\n",
       "      <td>3.0</td>\n",
       "      <td>36.812130</td>\n",
       "      <td>-6.0</td>\n",
       "      <td>-18.0</td>\n",
       "      <td>-24.0</td>\n",
       "      <td>-24.0</td>\n",
       "      <td>-25.0</td>\n",
       "      <td>-38.0</td>\n",
       "      <td>...</td>\n",
       "      <td>1.179223</td>\n",
       "      <td>-0.756569</td>\n",
       "      <td>98.859627</td>\n",
       "      <td>1.190389</td>\n",
       "      <td>99.111914</td>\n",
       "      <td>-0.000062</td>\n",
       "      <td>11.971831</td>\n",
       "      <td>-0.156961</td>\n",
       "      <td>20.800000</td>\n",
       "      <td>-0.000091</td>\n",
       "      <td>1.197328</td>\n",
       "      <td>-0.318905</td>\n",
       "      <td>0.0</td>\n",
       "      <td>0.0</td>\n",
       "      <td>0.0</td>\n",
       "      <td>0.0</td>\n",
       "      <td>0.0</td>\n",
       "      <td>0.0</td>\n",
       "      <td>-1.369863</td>\n",
       "      <td>-38.115965</td>\n",
       "      <td>-26.085949</td>\n",
       "      <td>-0.000476</td>\n",
       "      <td>0.035314</td>\n",
       "      <td>-0.034961</td>\n",
       "      <td>-48.0</td>\n",
       "      <td>-16.0</td>\n",
       "      <td>-31.0</td>\n",
       "      <td>0.003074</td>\n",
       "      <td>0.8</td>\n",
       "      <td>-55.6</td>\n",
       "      <td>-60.0</td>\n",
       "      <td>-158</td>\n",
       "      <td>-359</td>\n",
       "      <td>1.0</td>\n",
       "      <td>0.537088</td>\n",
       "      <td>0.690833</td>\n",
       "      <td>15.143348</td>\n",
       "      <td>35.643013</td>\n",
       "      <td>37.016198</td>\n",
       "      <td>1</td>\n",
       "    </tr>\n",
       "  </tbody>\n",
       "</table>\n",
       "<p>2 rows × 137 columns</p>\n",
       "</div>"
      ],
      "text/plain": [
       "   ind_5  ind_6  ind_8  ...  50_target  90_target  ind_109_GREEN\n",
       "0   19.0   17.0  100.0  ...  35.625252  36.997753              1\n",
       "1   24.0   19.0  100.0  ...  35.643013  37.016198              1\n",
       "\n",
       "[2 rows x 137 columns]"
      ]
     },
     "execution_count": 20,
     "metadata": {
      "tags": []
     },
     "output_type": "execute_result"
    }
   ],
   "source": [
    "df_y.head(2)"
   ]
  },
  {
   "cell_type": "code",
   "execution_count": null,
   "metadata": {
    "colab": {
     "base_uri": "https://localhost:8080/",
     "height": 82
    },
    "colab_type": "code",
    "id": "uvjIUqZGxDH1",
    "outputId": "87ffa738-8998-42f9-f4fc-e321ecc33fdd"
   },
   "outputs": [
    {
     "data": {
      "text/plain": [
       "2    3851\n",
       "1    2244\n",
       "0      72\n",
       "Name: NewTarget_90, dtype: int64"
      ]
     },
     "execution_count": 21,
     "metadata": {
      "tags": []
     },
     "output_type": "execute_result"
    }
   ],
   "source": [
    "df_y[\"NewTarget_90\"].value_counts()"
   ]
  },
  {
   "cell_type": "code",
   "execution_count": null,
   "metadata": {
    "colab": {},
    "colab_type": "code",
    "id": "I1D2vkWgxRWF"
   },
   "outputs": [],
   "source": [
    "df_y.drop([\"20_target\",\"50_target\",\"90_target\"],axis=1,inplace=True)"
   ]
  },
  {
   "cell_type": "code",
   "execution_count": null,
   "metadata": {
    "colab": {},
    "colab_type": "code",
    "id": "jQUKDzPLW5Zc"
   },
   "outputs": [],
   "source": [
    "from sklearn.preprocessing import MinMaxScaler\n",
    "\n",
    "scaler = MinMaxScaler()\n",
    "\n",
    "X_train = scaler.fit(X_train.sele)"
   ]
  },
  {
   "cell_type": "code",
   "execution_count": null,
   "metadata": {
    "colab": {},
    "colab_type": "code",
    "id": "1N5E-CQcxFpd"
   },
   "outputs": [],
   "source": [
    "X = df_y.drop([\"NewTarget_90\"],axis=1) \n",
    "y = df_y[\"NewTarget_90\"]\n",
    "\n",
    "\n",
    "\n",
    "X_train, X_test, y_train, y_test = train_test_split(X,y, test_size = .2, random_state = 42,shuffle = False)"
   ]
  },
  {
   "cell_type": "code",
   "execution_count": null,
   "metadata": {
    "colab": {},
    "colab_type": "code",
    "id": "VF_kaHBeYQsY"
   },
   "outputs": [],
   "source": [
    "col = list(X_train.drop([\"ind_109_GREEN\"],axis=1))\n",
    "\n",
    "X_train.loc[:,col]\n",
    "X_test.loc[:,col]"
   ]
  },
  {
   "cell_type": "code",
   "execution_count": null,
   "metadata": {
    "colab": {},
    "colab_type": "code",
    "id": "6wKRZVIgXW4r"
   },
   "outputs": [],
   "source": [
    "from sklearn.preprocessing import MinMaxScaler\n",
    "\n",
    "scaler = MinMaxScaler()\n",
    "\n",
    "\n",
    "\n",
    "X_train.loc[:,col] = scaler.fit_transform(X_train.loc[:,col])\n",
    "X_test.loc[:,col] = scaler.fit_transform(X_test.loc[:,col])"
   ]
  },
  {
   "cell_type": "code",
   "execution_count": null,
   "metadata": {},
   "outputs": [],
   "source": []
  },
  {
   "cell_type": "code",
   "execution_count": null,
   "metadata": {
    "colab": {
     "base_uri": "https://localhost:8080/",
     "height": 407
    },
    "colab_type": "code",
    "id": "iLyXENxrYb2c",
    "outputId": "cb39f2bd-cb62-4084-f385-fe81eb0f4ed9"
   },
   "outputs": [
    {
     "name": "stdout",
     "output_type": "stream",
     "text": [
      "Guassin Train ve Test Accuracy degerleri: 0.5078045813906346 & 0.5089141004862237\n",
      "Multinomial Train ve Test Accuracy degerleri: 0.6677478207987027 & 0.5089141004862237\n",
      "Bernoulli Train ve Test Accuracy degerleri: 0.5455098317453883 & 0.36223662884927066\n",
      "*******************************************************************\n",
      "Sırasiyla Guassin, Multinomail  Tablolari\n",
      ":                precision    recall  f1-score   support\n",
      "\n",
      "           1       0.00      0.00      0.00       606\n",
      "           2       0.51      1.00      0.67       628\n",
      "\n",
      "    accuracy                           0.51      1234\n",
      "   macro avg       0.25      0.50      0.34      1234\n",
      "weighted avg       0.26      0.51      0.34      1234\n",
      " \n",
      "               precision    recall  f1-score   support\n",
      "\n",
      "           0       0.00      0.00      0.00         0\n",
      "           1       0.50      0.28      0.36       606\n",
      "           2       0.51      0.73      0.60       628\n",
      "\n",
      "    accuracy                           0.51      1234\n",
      "   macro avg       0.34      0.34      0.32      1234\n",
      "weighted avg       0.51      0.51      0.48      1234\n",
      "\n"
     ]
    }
   ],
   "source": [
    "\n",
    "\n",
    "result.NavieBayes(X_train, y_train, X_test, y_test)"
   ]
  },
  {
   "cell_type": "code",
   "execution_count": null,
   "metadata": {
    "colab": {},
    "colab_type": "code",
    "id": "SX2DqlwG0nDT"
   },
   "outputs": [],
   "source": []
  },
  {
   "cell_type": "code",
   "execution_count": null,
   "metadata": {
    "colab": {},
    "colab_type": "code",
    "id": "tRHPC7LF0m7l"
   },
   "outputs": [],
   "source": []
  },
  {
   "cell_type": "markdown",
   "metadata": {
    "colab_type": "text",
    "id": "jxcsDaOq0pMM"
   },
   "source": [
    "# Kumeleme Islemlerini de Foreks Datasi uzerinde gerceklestirelim"
   ]
  },
  {
   "cell_type": "code",
   "execution_count": 8,
   "metadata": {
    "colab": {
     "base_uri": "https://localhost:8080/",
     "height": 152
    },
    "colab_type": "code",
    "id": "66_RdbzK0m38",
    "outputId": "7641d274-8eee-4329-d2bb-487801a98aea"
   },
   "outputs": [
    {
     "data": {
      "text/html": [
       "<div>\n",
       "<style scoped>\n",
       "    .dataframe tbody tr th:only-of-type {\n",
       "        vertical-align: middle;\n",
       "    }\n",
       "\n",
       "    .dataframe tbody tr th {\n",
       "        vertical-align: top;\n",
       "    }\n",
       "\n",
       "    .dataframe thead th {\n",
       "        text-align: right;\n",
       "    }\n",
       "</style>\n",
       "<table border=\"1\" class=\"dataframe\">\n",
       "  <thead>\n",
       "    <tr style=\"text-align: right;\">\n",
       "      <th></th>\n",
       "      <th>ind_5</th>\n",
       "      <th>ind_6</th>\n",
       "      <th>ind_8</th>\n",
       "      <th>ind_9</th>\n",
       "      <th>ind_10</th>\n",
       "      <th>ind_12</th>\n",
       "      <th>ind_13</th>\n",
       "      <th>ind_14</th>\n",
       "      <th>ind_15</th>\n",
       "      <th>ind_16</th>\n",
       "      <th>...</th>\n",
       "      <th>ind_416</th>\n",
       "      <th>ind_418</th>\n",
       "      <th>ind_420</th>\n",
       "      <th>ind_422</th>\n",
       "      <th>ind_424</th>\n",
       "      <th>ind_426</th>\n",
       "      <th>ind_428</th>\n",
       "      <th>20_target</th>\n",
       "      <th>50_target</th>\n",
       "      <th>90_target</th>\n",
       "    </tr>\n",
       "  </thead>\n",
       "  <tbody>\n",
       "    <tr>\n",
       "      <th>0</th>\n",
       "      <td>19</td>\n",
       "      <td>17</td>\n",
       "      <td>100.0</td>\n",
       "      <td>85.714286</td>\n",
       "      <td>14.285714</td>\n",
       "      <td>72.363515</td>\n",
       "      <td>60.808814</td>\n",
       "      <td>23.80</td>\n",
       "      <td>17.62</td>\n",
       "      <td>11.73</td>\n",
       "      <td>...</td>\n",
       "      <td>-49.6</td>\n",
       "      <td>-54</td>\n",
       "      <td>-152</td>\n",
       "      <td>-353</td>\n",
       "      <td>1.0</td>\n",
       "      <td>0.498547</td>\n",
       "      <td>0.701906</td>\n",
       "      <td>15.135802</td>\n",
       "      <td>35.625252</td>\n",
       "      <td>36.997753</td>\n",
       "    </tr>\n",
       "    <tr>\n",
       "      <th>1</th>\n",
       "      <td>24</td>\n",
       "      <td>19</td>\n",
       "      <td>100.0</td>\n",
       "      <td>78.571429</td>\n",
       "      <td>21.428571</td>\n",
       "      <td>74.275883</td>\n",
       "      <td>64.366798</td>\n",
       "      <td>11.45</td>\n",
       "      <td>18.16</td>\n",
       "      <td>12.22</td>\n",
       "      <td>...</td>\n",
       "      <td>-55.6</td>\n",
       "      <td>-60</td>\n",
       "      <td>-158</td>\n",
       "      <td>-359</td>\n",
       "      <td>1.0</td>\n",
       "      <td>0.537088</td>\n",
       "      <td>0.690833</td>\n",
       "      <td>15.143348</td>\n",
       "      <td>35.643013</td>\n",
       "      <td>37.016198</td>\n",
       "    </tr>\n",
       "  </tbody>\n",
       "</table>\n",
       "<p>2 rows × 136 columns</p>\n",
       "</div>"
      ],
      "text/plain": [
       "   ind_5  ind_6  ind_8      ind_9     ind_10     ind_12     ind_13  ind_14  \\\n",
       "0     19     17  100.0  85.714286  14.285714  72.363515  60.808814   23.80   \n",
       "1     24     19  100.0  78.571429  21.428571  74.275883  64.366798   11.45   \n",
       "\n",
       "   ind_15  ind_16  ...  ind_416  ind_418  ind_420  ind_422  ind_424   ind_426  \\\n",
       "0   17.62   11.73  ...    -49.6      -54     -152     -353      1.0  0.498547   \n",
       "1   18.16   12.22  ...    -55.6      -60     -158     -359      1.0  0.537088   \n",
       "\n",
       "    ind_428  20_target  50_target  90_target  \n",
       "0  0.701906  15.135802  35.625252  36.997753  \n",
       "1  0.690833  15.143348  35.643013  37.016198  \n",
       "\n",
       "[2 rows x 136 columns]"
      ]
     },
     "execution_count": 8,
     "metadata": {},
     "output_type": "execute_result"
    }
   ],
   "source": [
    "df = pd.read_excel(r\"C:\\Users\\LENOVO\\Desktop\\KodluyoruzBootcamp\\Ödevler Ve Çalışmalar\\HW_Data_Set.xlsx\")\n",
    "df.head(2)"
   ]
  },
  {
   "cell_type": "code",
   "execution_count": 9,
   "metadata": {
    "colab": {},
    "colab_type": "code",
    "id": "TMus-g1f0m0i"
   },
   "outputs": [],
   "source": [
    "df1 = df.copy()\n",
    "\n",
    "df1.loc[df1[df1[\"ind_420\"] == \"?\"].index] = np.nan \n",
    "\n",
    "# Degisken donusturmeden once icerisinde NAN degerler oldugu icin ilk once bu OBJECT tipindeki degiskenlerin NAN degerlerini degistiriyoruz\n",
    "# Ardindan donusum gercelestiriyoruz\n",
    "\n",
    "df1[\"ind_422\"] = df1[\"ind_422\"].fillna(df1.mean()[\"ind_422\"])\n",
    "df1[\"ind_420\"] = df1[\"ind_420\"].fillna(df1.mean()[\"ind_420\"])\n",
    "\n",
    "df1[\"ind_422\"] = df1[\"ind_422\"].astype('int32')\n",
    "df1[\"ind_420\"] = df1[\"ind_420\"].astype('int32')\n",
    "\n",
    "# Geriye kalan NaN degiskenleri de dolduruyoruz\n",
    "\n",
    "column = list(df1.select_dtypes(include=[\"int32\",\"float64\"]))\n",
    "df1[column] = df1[column].apply(lambda x: x.fillna(x.mean()),axis=0)\n",
    "\n",
    "# Kalan son object tipindeki degiskeni de 1-0 haline getiriyoruz\n",
    "\n",
    "df1 = pd.get_dummies(df1,columns= [\"ind_109\"], prefix= [\"ind_109\"])\n",
    "\n",
    "df1 = df1.drop([\"ind_109_RED\"],axis=1)\n",
    "\n",
    "df_X = df1.drop(labels=\"ind_109_GREEN\",axis=1)"
   ]
  },
  {
   "cell_type": "code",
   "execution_count": 10,
   "metadata": {
    "colab": {
     "base_uri": "https://localhost:8080/",
     "height": 238
    },
    "colab_type": "code",
    "id": "qIOvOnIb0mxT",
    "outputId": "9ef0537e-3c80-4000-d100-6ed21326227a"
   },
   "outputs": [
    {
     "data": {
      "text/html": [
       "<div>\n",
       "<style scoped>\n",
       "    .dataframe tbody tr th:only-of-type {\n",
       "        vertical-align: middle;\n",
       "    }\n",
       "\n",
       "    .dataframe tbody tr th {\n",
       "        vertical-align: top;\n",
       "    }\n",
       "\n",
       "    .dataframe thead th {\n",
       "        text-align: right;\n",
       "    }\n",
       "</style>\n",
       "<table border=\"1\" class=\"dataframe\">\n",
       "  <thead>\n",
       "    <tr style=\"text-align: right;\">\n",
       "      <th></th>\n",
       "      <th>ind_5</th>\n",
       "      <th>ind_6</th>\n",
       "      <th>ind_8</th>\n",
       "      <th>ind_9</th>\n",
       "      <th>ind_10</th>\n",
       "      <th>ind_12</th>\n",
       "      <th>ind_13</th>\n",
       "      <th>ind_14</th>\n",
       "      <th>ind_15</th>\n",
       "      <th>ind_16</th>\n",
       "      <th>...</th>\n",
       "      <th>ind_416</th>\n",
       "      <th>ind_418</th>\n",
       "      <th>ind_420</th>\n",
       "      <th>ind_422</th>\n",
       "      <th>ind_424</th>\n",
       "      <th>ind_426</th>\n",
       "      <th>ind_428</th>\n",
       "      <th>20_target</th>\n",
       "      <th>50_target</th>\n",
       "      <th>90_target</th>\n",
       "    </tr>\n",
       "  </thead>\n",
       "  <tbody>\n",
       "    <tr>\n",
       "      <th>0</th>\n",
       "      <td>19.0</td>\n",
       "      <td>17.0</td>\n",
       "      <td>100.0</td>\n",
       "      <td>85.714286</td>\n",
       "      <td>14.285714</td>\n",
       "      <td>72.363515</td>\n",
       "      <td>60.808814</td>\n",
       "      <td>23.80</td>\n",
       "      <td>17.62</td>\n",
       "      <td>11.73</td>\n",
       "      <td>...</td>\n",
       "      <td>-49.6</td>\n",
       "      <td>-54.0</td>\n",
       "      <td>-152</td>\n",
       "      <td>-353</td>\n",
       "      <td>1.0</td>\n",
       "      <td>0.498547</td>\n",
       "      <td>0.701906</td>\n",
       "      <td>15.135802</td>\n",
       "      <td>35.625252</td>\n",
       "      <td>36.997753</td>\n",
       "    </tr>\n",
       "    <tr>\n",
       "      <th>1</th>\n",
       "      <td>24.0</td>\n",
       "      <td>19.0</td>\n",
       "      <td>100.0</td>\n",
       "      <td>78.571429</td>\n",
       "      <td>21.428571</td>\n",
       "      <td>74.275883</td>\n",
       "      <td>64.366798</td>\n",
       "      <td>11.45</td>\n",
       "      <td>18.16</td>\n",
       "      <td>12.22</td>\n",
       "      <td>...</td>\n",
       "      <td>-55.6</td>\n",
       "      <td>-60.0</td>\n",
       "      <td>-158</td>\n",
       "      <td>-359</td>\n",
       "      <td>1.0</td>\n",
       "      <td>0.537088</td>\n",
       "      <td>0.690833</td>\n",
       "      <td>15.143348</td>\n",
       "      <td>35.643013</td>\n",
       "      <td>37.016198</td>\n",
       "    </tr>\n",
       "    <tr>\n",
       "      <th>2</th>\n",
       "      <td>30.0</td>\n",
       "      <td>24.0</td>\n",
       "      <td>100.0</td>\n",
       "      <td>71.428571</td>\n",
       "      <td>28.571429</td>\n",
       "      <td>75.140402</td>\n",
       "      <td>65.915803</td>\n",
       "      <td>8.75</td>\n",
       "      <td>17.86</td>\n",
       "      <td>12.28</td>\n",
       "      <td>...</td>\n",
       "      <td>-58.4</td>\n",
       "      <td>-60.0</td>\n",
       "      <td>-160</td>\n",
       "      <td>-362</td>\n",
       "      <td>1.0</td>\n",
       "      <td>0.615169</td>\n",
       "      <td>0.693040</td>\n",
       "      <td>15.146870</td>\n",
       "      <td>35.651301</td>\n",
       "      <td>-37.024805</td>\n",
       "    </tr>\n",
       "    <tr>\n",
       "      <th>3</th>\n",
       "      <td>37.0</td>\n",
       "      <td>30.0</td>\n",
       "      <td>100.0</td>\n",
       "      <td>64.285714</td>\n",
       "      <td>35.714286</td>\n",
       "      <td>76.677846</td>\n",
       "      <td>68.584234</td>\n",
       "      <td>7.80</td>\n",
       "      <td>14.76</td>\n",
       "      <td>12.61</td>\n",
       "      <td>...</td>\n",
       "      <td>-61.8</td>\n",
       "      <td>-65.0</td>\n",
       "      <td>-166</td>\n",
       "      <td>-367</td>\n",
       "      <td>1.0</td>\n",
       "      <td>0.661517</td>\n",
       "      <td>0.673418</td>\n",
       "      <td>15.153283</td>\n",
       "      <td>0.000000</td>\n",
       "      <td>-37.040483</td>\n",
       "    </tr>\n",
       "    <tr>\n",
       "      <th>4</th>\n",
       "      <td>41.0</td>\n",
       "      <td>37.0</td>\n",
       "      <td>100.0</td>\n",
       "      <td>57.142857</td>\n",
       "      <td>42.857143</td>\n",
       "      <td>81.603007</td>\n",
       "      <td>76.455495</td>\n",
       "      <td>14.90</td>\n",
       "      <td>11.92</td>\n",
       "      <td>14.25</td>\n",
       "      <td>...</td>\n",
       "      <td>-79.8</td>\n",
       "      <td>-86.0</td>\n",
       "      <td>-186</td>\n",
       "      <td>-388</td>\n",
       "      <td>1.0</td>\n",
       "      <td>0.747204</td>\n",
       "      <td>0.700522</td>\n",
       "      <td>-15.179065</td>\n",
       "      <td>-35.727079</td>\n",
       "      <td>-37.103503</td>\n",
       "    </tr>\n",
       "  </tbody>\n",
       "</table>\n",
       "<p>5 rows × 135 columns</p>\n",
       "</div>"
      ],
      "text/plain": [
       "   ind_5  ind_6  ind_8      ind_9     ind_10     ind_12     ind_13  ind_14  \\\n",
       "0   19.0   17.0  100.0  85.714286  14.285714  72.363515  60.808814   23.80   \n",
       "1   24.0   19.0  100.0  78.571429  21.428571  74.275883  64.366798   11.45   \n",
       "2   30.0   24.0  100.0  71.428571  28.571429  75.140402  65.915803    8.75   \n",
       "3   37.0   30.0  100.0  64.285714  35.714286  76.677846  68.584234    7.80   \n",
       "4   41.0   37.0  100.0  57.142857  42.857143  81.603007  76.455495   14.90   \n",
       "\n",
       "   ind_15  ind_16  ...  ind_416  ind_418  ind_420  ind_422  ind_424   ind_426  \\\n",
       "0   17.62   11.73  ...    -49.6    -54.0     -152     -353      1.0  0.498547   \n",
       "1   18.16   12.22  ...    -55.6    -60.0     -158     -359      1.0  0.537088   \n",
       "2   17.86   12.28  ...    -58.4    -60.0     -160     -362      1.0  0.615169   \n",
       "3   14.76   12.61  ...    -61.8    -65.0     -166     -367      1.0  0.661517   \n",
       "4   11.92   14.25  ...    -79.8    -86.0     -186     -388      1.0  0.747204   \n",
       "\n",
       "    ind_428  20_target  50_target  90_target  \n",
       "0  0.701906  15.135802  35.625252  36.997753  \n",
       "1  0.690833  15.143348  35.643013  37.016198  \n",
       "2  0.693040  15.146870  35.651301 -37.024805  \n",
       "3  0.673418  15.153283   0.000000 -37.040483  \n",
       "4  0.700522 -15.179065 -35.727079 -37.103503  \n",
       "\n",
       "[5 rows x 135 columns]"
      ]
     },
     "execution_count": 10,
     "metadata": {},
     "output_type": "execute_result"
    }
   ],
   "source": [
    "df_X.head()"
   ]
  },
  {
   "cell_type": "code",
   "execution_count": 11,
   "metadata": {
    "colab": {
     "base_uri": "https://localhost:8080/",
     "height": 33
    },
    "colab_type": "code",
    "id": "X7m4_nDI6Hiy",
    "outputId": "48452119-a443-4e53-9474-1fde3d84e8d4"
   },
   "outputs": [
    {
     "data": {
      "text/plain": [
       "65"
      ]
     },
     "execution_count": 11,
     "metadata": {},
     "output_type": "execute_result"
    }
   ],
   "source": [
    "# Burada elimine islemi yapmak icin ortalmalari -1 ve 1 den buyuk olan degiskenleri oncelik olarak aliyorum\n",
    "\n",
    "col = list(df_X)\n",
    "bos = []\n",
    "\n",
    "\n",
    "for i in col:\n",
    "    \n",
    "    if df_X[i].mean() < -1 or df_X[i].mean() > 1:\n",
    "        bos.append(i)\n",
    "\n",
    "len(bos)"
   ]
  },
  {
   "cell_type": "code",
   "execution_count": 12,
   "metadata": {
    "colab": {
     "base_uri": "https://localhost:8080/",
     "height": 411
    },
    "colab_type": "code",
    "id": "qCDOoCGq5PIi",
    "outputId": "1f7f08d0-7402-4851-f741-e8aa3ee86501"
   },
   "outputs": [
    {
     "data": {
      "text/html": [
       "<div>\n",
       "<style scoped>\n",
       "    .dataframe tbody tr th:only-of-type {\n",
       "        vertical-align: middle;\n",
       "    }\n",
       "\n",
       "    .dataframe tbody tr th {\n",
       "        vertical-align: top;\n",
       "    }\n",
       "\n",
       "    .dataframe thead th {\n",
       "        text-align: right;\n",
       "    }\n",
       "</style>\n",
       "<table border=\"1\" class=\"dataframe\">\n",
       "  <thead>\n",
       "    <tr style=\"text-align: right;\">\n",
       "      <th></th>\n",
       "      <th>ind_5</th>\n",
       "      <th>ind_6</th>\n",
       "      <th>ind_8</th>\n",
       "      <th>ind_9</th>\n",
       "      <th>ind_12</th>\n",
       "      <th>ind_13</th>\n",
       "      <th>ind_14</th>\n",
       "      <th>ind_15</th>\n",
       "      <th>ind_16</th>\n",
       "      <th>ind_17</th>\n",
       "      <th>...</th>\n",
       "      <th>ind_387</th>\n",
       "      <th>ind_392</th>\n",
       "      <th>ind_406</th>\n",
       "      <th>ind_414</th>\n",
       "      <th>ind_416</th>\n",
       "      <th>ind_418</th>\n",
       "      <th>ind_420</th>\n",
       "      <th>ind_422</th>\n",
       "      <th>50_target</th>\n",
       "      <th>90_target</th>\n",
       "    </tr>\n",
       "  </thead>\n",
       "  <tbody>\n",
       "    <tr>\n",
       "      <th>0</th>\n",
       "      <td>19.0</td>\n",
       "      <td>17.0</td>\n",
       "      <td>100.000000</td>\n",
       "      <td>85.714286</td>\n",
       "      <td>72.363515</td>\n",
       "      <td>60.808814</td>\n",
       "      <td>23.80</td>\n",
       "      <td>17.62</td>\n",
       "      <td>11.73</td>\n",
       "      <td>12.060000</td>\n",
       "      <td>...</td>\n",
       "      <td>-3.731343</td>\n",
       "      <td>-32.587430</td>\n",
       "      <td>-44.0</td>\n",
       "      <td>2.0</td>\n",
       "      <td>-49.6</td>\n",
       "      <td>-54.0</td>\n",
       "      <td>-152</td>\n",
       "      <td>-353</td>\n",
       "      <td>35.625252</td>\n",
       "      <td>36.997753</td>\n",
       "    </tr>\n",
       "    <tr>\n",
       "      <th>1</th>\n",
       "      <td>24.0</td>\n",
       "      <td>19.0</td>\n",
       "      <td>100.000000</td>\n",
       "      <td>78.571429</td>\n",
       "      <td>74.275883</td>\n",
       "      <td>64.366798</td>\n",
       "      <td>11.45</td>\n",
       "      <td>18.16</td>\n",
       "      <td>12.22</td>\n",
       "      <td>11.326667</td>\n",
       "      <td>...</td>\n",
       "      <td>-1.369863</td>\n",
       "      <td>-38.115965</td>\n",
       "      <td>-48.0</td>\n",
       "      <td>0.8</td>\n",
       "      <td>-55.6</td>\n",
       "      <td>-60.0</td>\n",
       "      <td>-158</td>\n",
       "      <td>-359</td>\n",
       "      <td>35.643013</td>\n",
       "      <td>37.016198</td>\n",
       "    </tr>\n",
       "    <tr>\n",
       "      <th>2</th>\n",
       "      <td>30.0</td>\n",
       "      <td>24.0</td>\n",
       "      <td>100.000000</td>\n",
       "      <td>71.428571</td>\n",
       "      <td>75.140402</td>\n",
       "      <td>65.915803</td>\n",
       "      <td>8.75</td>\n",
       "      <td>17.86</td>\n",
       "      <td>12.28</td>\n",
       "      <td>10.973333</td>\n",
       "      <td>...</td>\n",
       "      <td>-4.278922</td>\n",
       "      <td>-40.428126</td>\n",
       "      <td>-48.0</td>\n",
       "      <td>2.7</td>\n",
       "      <td>-58.4</td>\n",
       "      <td>-60.0</td>\n",
       "      <td>-160</td>\n",
       "      <td>-362</td>\n",
       "      <td>35.651301</td>\n",
       "      <td>-37.024805</td>\n",
       "    </tr>\n",
       "    <tr>\n",
       "      <th>3</th>\n",
       "      <td>37.0</td>\n",
       "      <td>30.0</td>\n",
       "      <td>100.000000</td>\n",
       "      <td>64.285714</td>\n",
       "      <td>76.677846</td>\n",
       "      <td>68.584234</td>\n",
       "      <td>7.80</td>\n",
       "      <td>14.76</td>\n",
       "      <td>12.61</td>\n",
       "      <td>10.426667</td>\n",
       "      <td>...</td>\n",
       "      <td>-1.355422</td>\n",
       "      <td>-45.019355</td>\n",
       "      <td>-51.0</td>\n",
       "      <td>0.9</td>\n",
       "      <td>-61.8</td>\n",
       "      <td>-65.0</td>\n",
       "      <td>-166</td>\n",
       "      <td>-367</td>\n",
       "      <td>0.000000</td>\n",
       "      <td>-37.040483</td>\n",
       "    </tr>\n",
       "    <tr>\n",
       "      <th>4</th>\n",
       "      <td>41.0</td>\n",
       "      <td>37.0</td>\n",
       "      <td>100.000000</td>\n",
       "      <td>57.142857</td>\n",
       "      <td>81.603007</td>\n",
       "      <td>76.455495</td>\n",
       "      <td>14.90</td>\n",
       "      <td>11.92</td>\n",
       "      <td>14.25</td>\n",
       "      <td>11.406667</td>\n",
       "      <td>...</td>\n",
       "      <td>-0.116144</td>\n",
       "      <td>-54.849177</td>\n",
       "      <td>-70.0</td>\n",
       "      <td>0.1</td>\n",
       "      <td>-79.8</td>\n",
       "      <td>-86.0</td>\n",
       "      <td>-186</td>\n",
       "      <td>-388</td>\n",
       "      <td>-35.727079</td>\n",
       "      <td>-37.103503</td>\n",
       "    </tr>\n",
       "    <tr>\n",
       "      <th>...</th>\n",
       "      <td>...</td>\n",
       "      <td>...</td>\n",
       "      <td>...</td>\n",
       "      <td>...</td>\n",
       "      <td>...</td>\n",
       "      <td>...</td>\n",
       "      <td>...</td>\n",
       "      <td>...</td>\n",
       "      <td>...</td>\n",
       "      <td>...</td>\n",
       "      <td>...</td>\n",
       "      <td>...</td>\n",
       "      <td>...</td>\n",
       "      <td>...</td>\n",
       "      <td>...</td>\n",
       "      <td>...</td>\n",
       "      <td>...</td>\n",
       "      <td>...</td>\n",
       "      <td>...</td>\n",
       "      <td>...</td>\n",
       "      <td>...</td>\n",
       "    </tr>\n",
       "    <tr>\n",
       "      <th>6162</th>\n",
       "      <td>27.0</td>\n",
       "      <td>31.0</td>\n",
       "      <td>57.142857</td>\n",
       "      <td>28.571429</td>\n",
       "      <td>60.010531</td>\n",
       "      <td>32.362582</td>\n",
       "      <td>9.70</td>\n",
       "      <td>9.38</td>\n",
       "      <td>13.66</td>\n",
       "      <td>15.100000</td>\n",
       "      <td>...</td>\n",
       "      <td>-26.775956</td>\n",
       "      <td>-17.777370</td>\n",
       "      <td>-25.0</td>\n",
       "      <td>14.7</td>\n",
       "      <td>-28.2</td>\n",
       "      <td>-40.0</td>\n",
       "      <td>-11</td>\n",
       "      <td>-270</td>\n",
       "      <td>-34.536532</td>\n",
       "      <td>-35.867088</td>\n",
       "    </tr>\n",
       "    <tr>\n",
       "      <th>6163</th>\n",
       "      <td>22.0</td>\n",
       "      <td>27.0</td>\n",
       "      <td>50.000000</td>\n",
       "      <td>21.428571</td>\n",
       "      <td>60.209998</td>\n",
       "      <td>32.914628</td>\n",
       "      <td>7.65</td>\n",
       "      <td>8.84</td>\n",
       "      <td>11.79</td>\n",
       "      <td>14.753333</td>\n",
       "      <td>...</td>\n",
       "      <td>-26.047359</td>\n",
       "      <td>-17.714547</td>\n",
       "      <td>-23.0</td>\n",
       "      <td>14.3</td>\n",
       "      <td>-28.6</td>\n",
       "      <td>-41.0</td>\n",
       "      <td>-12</td>\n",
       "      <td>-271</td>\n",
       "      <td>-34.537716</td>\n",
       "      <td>-35.868318</td>\n",
       "    </tr>\n",
       "    <tr>\n",
       "      <th>6164</th>\n",
       "      <td>19.0</td>\n",
       "      <td>22.0</td>\n",
       "      <td>42.857143</td>\n",
       "      <td>14.285714</td>\n",
       "      <td>64.329611</td>\n",
       "      <td>43.550592</td>\n",
       "      <td>8.95</td>\n",
       "      <td>9.06</td>\n",
       "      <td>10.30</td>\n",
       "      <td>14.613333</td>\n",
       "      <td>...</td>\n",
       "      <td>-10.382514</td>\n",
       "      <td>-25.781189</td>\n",
       "      <td>-30.0</td>\n",
       "      <td>5.7</td>\n",
       "      <td>-37.2</td>\n",
       "      <td>-49.0</td>\n",
       "      <td>-21</td>\n",
       "      <td>-280</td>\n",
       "      <td>-34.563173</td>\n",
       "      <td>-35.894755</td>\n",
       "    </tr>\n",
       "    <tr>\n",
       "      <th>6165</th>\n",
       "      <td>19.0</td>\n",
       "      <td>19.0</td>\n",
       "      <td>100.000000</td>\n",
       "      <td>7.142857</td>\n",
       "      <td>69.027764</td>\n",
       "      <td>54.130755</td>\n",
       "      <td>13.55</td>\n",
       "      <td>10.36</td>\n",
       "      <td>10.55</td>\n",
       "      <td>13.606667</td>\n",
       "      <td>...</td>\n",
       "      <td>-2.247191</td>\n",
       "      <td>-37.007014</td>\n",
       "      <td>-40.0</td>\n",
       "      <td>1.4</td>\n",
       "      <td>-48.9</td>\n",
       "      <td>-61.0</td>\n",
       "      <td>-33</td>\n",
       "      <td>-292</td>\n",
       "      <td>-34.597806</td>\n",
       "      <td>-35.930723</td>\n",
       "    </tr>\n",
       "    <tr>\n",
       "      <th>6166</th>\n",
       "      <td>19.0</td>\n",
       "      <td>19.0</td>\n",
       "      <td>92.857143</td>\n",
       "      <td>0.000000</td>\n",
       "      <td>65.157180</td>\n",
       "      <td>45.524973</td>\n",
       "      <td>11.45</td>\n",
       "      <td>10.16</td>\n",
       "      <td>9.68</td>\n",
       "      <td>13.020000</td>\n",
       "      <td>...</td>\n",
       "      <td>-10.994764</td>\n",
       "      <td>-25.782031</td>\n",
       "      <td>-33.0</td>\n",
       "      <td>6.3</td>\n",
       "      <td>-44.0</td>\n",
       "      <td>-56.0</td>\n",
       "      <td>-28</td>\n",
       "      <td>-288</td>\n",
       "      <td>-34.583301</td>\n",
       "      <td>-35.915659</td>\n",
       "    </tr>\n",
       "  </tbody>\n",
       "</table>\n",
       "<p>6167 rows × 65 columns</p>\n",
       "</div>"
      ],
      "text/plain": [
       "      ind_5  ind_6       ind_8      ind_9     ind_12     ind_13  ind_14  \\\n",
       "0      19.0   17.0  100.000000  85.714286  72.363515  60.808814   23.80   \n",
       "1      24.0   19.0  100.000000  78.571429  74.275883  64.366798   11.45   \n",
       "2      30.0   24.0  100.000000  71.428571  75.140402  65.915803    8.75   \n",
       "3      37.0   30.0  100.000000  64.285714  76.677846  68.584234    7.80   \n",
       "4      41.0   37.0  100.000000  57.142857  81.603007  76.455495   14.90   \n",
       "...     ...    ...         ...        ...        ...        ...     ...   \n",
       "6162   27.0   31.0   57.142857  28.571429  60.010531  32.362582    9.70   \n",
       "6163   22.0   27.0   50.000000  21.428571  60.209998  32.914628    7.65   \n",
       "6164   19.0   22.0   42.857143  14.285714  64.329611  43.550592    8.95   \n",
       "6165   19.0   19.0  100.000000   7.142857  69.027764  54.130755   13.55   \n",
       "6166   19.0   19.0   92.857143   0.000000  65.157180  45.524973   11.45   \n",
       "\n",
       "      ind_15  ind_16     ind_17  ...    ind_387    ind_392  ind_406  ind_414  \\\n",
       "0      17.62   11.73  12.060000  ...  -3.731343 -32.587430    -44.0      2.0   \n",
       "1      18.16   12.22  11.326667  ...  -1.369863 -38.115965    -48.0      0.8   \n",
       "2      17.86   12.28  10.973333  ...  -4.278922 -40.428126    -48.0      2.7   \n",
       "3      14.76   12.61  10.426667  ...  -1.355422 -45.019355    -51.0      0.9   \n",
       "4      11.92   14.25  11.406667  ...  -0.116144 -54.849177    -70.0      0.1   \n",
       "...      ...     ...        ...  ...        ...        ...      ...      ...   \n",
       "6162    9.38   13.66  15.100000  ... -26.775956 -17.777370    -25.0     14.7   \n",
       "6163    8.84   11.79  14.753333  ... -26.047359 -17.714547    -23.0     14.3   \n",
       "6164    9.06   10.30  14.613333  ... -10.382514 -25.781189    -30.0      5.7   \n",
       "6165   10.36   10.55  13.606667  ...  -2.247191 -37.007014    -40.0      1.4   \n",
       "6166   10.16    9.68  13.020000  ... -10.994764 -25.782031    -33.0      6.3   \n",
       "\n",
       "      ind_416  ind_418  ind_420  ind_422  50_target  90_target  \n",
       "0       -49.6    -54.0     -152     -353  35.625252  36.997753  \n",
       "1       -55.6    -60.0     -158     -359  35.643013  37.016198  \n",
       "2       -58.4    -60.0     -160     -362  35.651301 -37.024805  \n",
       "3       -61.8    -65.0     -166     -367   0.000000 -37.040483  \n",
       "4       -79.8    -86.0     -186     -388 -35.727079 -37.103503  \n",
       "...       ...      ...      ...      ...        ...        ...  \n",
       "6162    -28.2    -40.0      -11     -270 -34.536532 -35.867088  \n",
       "6163    -28.6    -41.0      -12     -271 -34.537716 -35.868318  \n",
       "6164    -37.2    -49.0      -21     -280 -34.563173 -35.894755  \n",
       "6165    -48.9    -61.0      -33     -292 -34.597806 -35.930723  \n",
       "6166    -44.0    -56.0      -28     -288 -34.583301 -35.915659  \n",
       "\n",
       "[6167 rows x 65 columns]"
      ]
     },
     "execution_count": 12,
     "metadata": {},
     "output_type": "execute_result"
    }
   ],
   "source": [
    "DF = df_X.loc[:,bos]\n",
    "\n",
    "DF"
   ]
  },
  {
   "cell_type": "code",
   "execution_count": 13,
   "metadata": {
    "colab": {
     "base_uri": "https://localhost:8080/",
     "height": 971
    },
    "colab_type": "code",
    "id": "cu666pdpO3ir",
    "outputId": "28f03373-1389-46be-92d9-84047c0f8b42"
   },
   "outputs": [
    {
     "data": {
      "image/png": "[encoded data removed]",
      "text/plain": [
       "<Figure size 2520x1584 with 72 Axes>"
      ]
     },
     "metadata": {
      "needs_background": "light"
     },
     "output_type": "display_data"
    }
   ],
   "source": [
    "# Ardindan bu degiskenlerin histogramlarindan yogunlugun nerelerde oldugunu iki baslilik sergileyenlerin hangileri oldugunu inceliyorum\n",
    "\n",
    "\n",
    "DF.hist(figsize = (35,22));"
   ]
  },
  {
   "cell_type": "code",
   "execution_count": 14,
   "metadata": {
    "colab": {
     "base_uri": "https://localhost:8080/",
     "height": 965
    },
    "colab_type": "code",
    "id": "rO3ibDySYU7A",
    "outputId": "3013f7f7-d130-43cd-87ad-a78b4a548516"
   },
   "outputs": [
    {
     "data": {
      "image/png": "[encoded data removed]",
      "text/plain": [
       "<Figure size 2880x1800 with 12 Axes>"
      ]
     },
     "metadata": {
      "needs_background": "light"
     },
     "output_type": "display_data"
    }
   ],
   "source": [
    "# Son olarak bu degiskenlerin arasindan en belirgin gruplasma olabilecegini dusundugum 10 tanesini sectim\n",
    "\n",
    "cols = [\"50_target\",\"90_target\",\"ind_9\",\"ind_74\",\"ind_8\",\"ind_83\",\"ind_9\",\"ind_212\",\"ind_321\",\"ind_40\"]\n",
    "\n",
    "\n",
    "DF.loc[:,cols].hist(figsize = (40,25));"
   ]
  },
  {
   "cell_type": "code",
   "execution_count": 15,
   "metadata": {
    "colab": {
     "base_uri": "https://localhost:8080/",
     "height": 33
    },
    "colab_type": "code",
    "id": "lnwyjZhpzfg7",
    "outputId": "c96d09be-167d-4669-a220-58c3f53f5fa2"
   },
   "outputs": [
    {
     "data": {
      "text/plain": [
       "(6167, 10)"
      ]
     },
     "execution_count": 15,
     "metadata": {},
     "output_type": "execute_result"
    }
   ],
   "source": [
    "DF1 = DF.loc[:,cols]\n",
    "DF1.shape"
   ]
  },
  {
   "cell_type": "code",
   "execution_count": 16,
   "metadata": {
    "colab": {
     "base_uri": "https://localhost:8080/",
     "height": 66
    },
    "colab_type": "code",
    "id": "79MjPjnhzfeU",
    "outputId": "027adbc2-e8e4-4150-e1f6-300e890e2ebf"
   },
   "outputs": [
    {
     "data": {
      "text/plain": [
       "KMeans(algorithm='auto', copy_x=True, init='k-means++', max_iter=300,\n",
       "       n_clusters=2, n_init=10, n_jobs=None, precompute_distances='auto',\n",
       "       random_state=None, tol=0.0001, verbose=0)"
      ]
     },
     "execution_count": 16,
     "metadata": {},
     "output_type": "execute_result"
    }
   ],
   "source": [
    "# Baslangic olarak 2 adet kumeleme yontemi kullaniyorum\n",
    "\n",
    "from sklearn.cluster import KMeans\n",
    "kmeans = KMeans(n_clusters = 2)\n",
    "kmeans"
   ]
  },
  {
   "cell_type": "code",
   "execution_count": 17,
   "metadata": {
    "colab": {},
    "colab_type": "code",
    "id": "EuCdN3ckzfbs"
   },
   "outputs": [],
   "source": [
    "k_fit = kmeans.fit(DF1)"
   ]
  },
  {
   "cell_type": "code",
   "execution_count": 18,
   "metadata": {
    "colab": {
     "base_uri": "https://localhost:8080/",
     "height": 82
    },
    "colab_type": "code",
    "id": "3a3-Dbi3zfYh",
    "outputId": "b57bb9bd-9385-4492-9342-1d4ba641dc69"
   },
   "outputs": [
    {
     "data": {
      "text/plain": [
       "array([[-4.04968007, -4.07133208, 83.31746032, -6.11244444, 28.78412698,\n",
       "        -5.02533333, 83.31746032, 36.94295026, 45.0175513 ,  3.828     ],\n",
       "       [-3.22904745, -4.14097854, 27.77940358,  1.83625021, 60.63792239,\n",
       "         0.11283215, 27.77940358, 60.04062947, 73.57358182,  3.32694769]])"
      ]
     },
     "execution_count": 18,
     "metadata": {},
     "output_type": "execute_result"
    }
   ],
   "source": [
    "k_fit.cluster_centers_"
   ]
  },
  {
   "cell_type": "code",
   "execution_count": 19,
   "metadata": {
    "colab": {
     "base_uri": "https://localhost:8080/",
     "height": 33
    },
    "colab_type": "code",
    "id": "TvNHWXMTzfVj",
    "outputId": "cbb209ad-382a-4f72-9b22-1ad5bc185c8e"
   },
   "outputs": [
    {
     "data": {
      "text/plain": [
       "array([1, 1, 1, ..., 1, 1, 1])"
      ]
     },
     "execution_count": 19,
     "metadata": {},
     "output_type": "execute_result"
    }
   ],
   "source": [
    "kumeler = k_fit.labels_\n",
    "kumeler"
   ]
  },
  {
   "cell_type": "code",
   "execution_count": 20,
   "metadata": {
    "colab": {
     "base_uri": "https://localhost:8080/",
     "height": 347
    },
    "colab_type": "code",
    "id": "hMl3ezZlzfSc",
    "outputId": "0f27abdb-ab49-4fc2-f0ea-0b22078e04b3"
   },
   "outputs": [
    {
     "data": {
      "image/png": "[encoded data removed]",
      "text/plain": [
       "<Figure size 432x288 with 1 Axes>"
      ]
     },
     "metadata": {
      "needs_background": "light"
     },
     "output_type": "display_data"
    }
   ],
   "source": [
    "# 2 Adet degisken sectim ve bunlar [(-6 & 1) ve (-5 & 0)] seklinde kumelenmis\n",
    "\n",
    "\n",
    "plt.scatter(DF1.iloc[:,3], DF1.iloc[:,5], c = kumeler, s = 40, cmap = \"viridis\")\n",
    "\n",
    "merkezler = k_fit.cluster_centers_\n",
    "\n",
    "plt.scatter(merkezler[:,3], merkezler[:,5], c = \"red\", s = 200, alpha = 0.8);"
   ]
  },
  {
   "cell_type": "code",
   "execution_count": null,
   "metadata": {
    "colab": {},
    "colab_type": "code",
    "id": "i47WJWDyz_2S"
   },
   "outputs": [],
   "source": [
    "plt.scatter()"
   ]
  },
  {
   "cell_type": "code",
   "execution_count": 21,
   "metadata": {
    "colab": {
     "base_uri": "https://localhost:8080/",
     "height": 376
    },
    "colab_type": "code",
    "id": "Gy2kd0mWz_zf",
    "outputId": "3169b1de-30a0-42a0-dd71-34af701892cf"
   },
   "outputs": [
    {
     "data": {
      "image/png": "[encoded data removed]",
      "text/plain": [
       "<Figure size 576x396 with 2 Axes>"
      ]
     },
     "metadata": {},
     "output_type": "display_data"
    },
    {
     "data": {
      "text/plain": [
       "<matplotlib.axes._subplots.AxesSubplot at 0x147b127d888>"
      ]
     },
     "execution_count": 21,
     "metadata": {},
     "output_type": "execute_result"
    }
   ],
   "source": [
    "# Optimum kume sayisi belirler iken 1 den 15 e kadar degerlendirdim. Elde ettigim sonucta ise kume sayisi hep artan bir trende sahipti\n",
    "\n",
    "from yellowbrick.cluster import KElbowVisualizer\n",
    "kmeans = KMeans()\n",
    "visualizer = KElbowVisualizer(kmeans, k=(1,15))\n",
    "visualizer.fit(DF1) \n",
    "visualizer.poof()  "
   ]
  },
  {
   "cell_type": "code",
   "execution_count": 22,
   "metadata": {
    "colab": {
     "base_uri": "https://localhost:8080/",
     "height": 98
    },
    "colab_type": "code",
    "id": "taMFpIIEz_wy",
    "outputId": "3879fe8e-07e7-4ac1-9a20-179a74328ac4"
   },
   "outputs": [
    {
     "data": {
      "text/plain": [
       "0    2595\n",
       "2    1391\n",
       "3    1160\n",
       "1    1021\n",
       "Name: Kumeler, dtype: int64"
      ]
     },
     "execution_count": 22,
     "metadata": {},
     "output_type": "execute_result"
    }
   ],
   "source": [
    "# Son olarak optimum kume sayisi icin 4 u sectim ve yeni bir dataframe olusturdum.\n",
    "# Sonuclara bakildiginda 1.sinif en fazla count u barindiriyor\n",
    "\n",
    "kmeans = KMeans(n_clusters = 4)\n",
    "k_fit = kmeans.fit(DF1)\n",
    "kumeler = k_fit.labels_\n",
    "\n",
    "yeni = pd.DataFrame({\"ID\" : DF1.index, \"Kumeler\": kumeler})\n",
    "\n",
    "yeni[\"Kumeler\"].value_counts()"
   ]
  },
  {
   "cell_type": "code",
   "execution_count": 26,
   "metadata": {
    "colab": {},
    "colab_type": "code",
    "id": "Qw17zdMwz_uN"
   },
   "outputs": [],
   "source": [
    "DF1[\"Kumeler\"] = yeni[\"Kumeler\"]"
   ]
  },
  {
   "cell_type": "code",
   "execution_count": 27,
   "metadata": {
    "colab": {
     "base_uri": "https://localhost:8080/",
     "height": 191
    },
    "colab_type": "code",
    "id": "tWnFWH8X7ugl",
    "outputId": "167fa5d3-fc32-4e61-f6ff-71385e2b2f07"
   },
   "outputs": [
    {
     "data": {
      "text/html": [
       "<div>\n",
       "<style scoped>\n",
       "    .dataframe tbody tr th:only-of-type {\n",
       "        vertical-align: middle;\n",
       "    }\n",
       "\n",
       "    .dataframe tbody tr th {\n",
       "        vertical-align: top;\n",
       "    }\n",
       "\n",
       "    .dataframe thead th {\n",
       "        text-align: right;\n",
       "    }\n",
       "</style>\n",
       "<table border=\"1\" class=\"dataframe\">\n",
       "  <thead>\n",
       "    <tr style=\"text-align: right;\">\n",
       "      <th></th>\n",
       "      <th>50_target</th>\n",
       "      <th>90_target</th>\n",
       "      <th>ind_9</th>\n",
       "      <th>ind_74</th>\n",
       "      <th>ind_8</th>\n",
       "      <th>ind_83</th>\n",
       "      <th>ind_9</th>\n",
       "      <th>ind_212</th>\n",
       "      <th>ind_321</th>\n",
       "      <th>ind_40</th>\n",
       "      <th>Kumeler</th>\n",
       "    </tr>\n",
       "  </thead>\n",
       "  <tbody>\n",
       "    <tr>\n",
       "      <th>0</th>\n",
       "      <td>35.625252</td>\n",
       "      <td>36.997753</td>\n",
       "      <td>85.714286</td>\n",
       "      <td>8.0</td>\n",
       "      <td>100.0</td>\n",
       "      <td>8.0</td>\n",
       "      <td>85.714286</td>\n",
       "      <td>72.470277</td>\n",
       "      <td>99.156641</td>\n",
       "      <td>3.0</td>\n",
       "      <td>3</td>\n",
       "    </tr>\n",
       "    <tr>\n",
       "      <th>1</th>\n",
       "      <td>35.643013</td>\n",
       "      <td>37.016198</td>\n",
       "      <td>78.571429</td>\n",
       "      <td>8.0</td>\n",
       "      <td>100.0</td>\n",
       "      <td>8.0</td>\n",
       "      <td>78.571429</td>\n",
       "      <td>79.199436</td>\n",
       "      <td>99.111914</td>\n",
       "      <td>3.0</td>\n",
       "      <td>3</td>\n",
       "    </tr>\n",
       "    <tr>\n",
       "      <th>2</th>\n",
       "      <td>35.651301</td>\n",
       "      <td>-37.024805</td>\n",
       "      <td>71.428571</td>\n",
       "      <td>8.0</td>\n",
       "      <td>100.0</td>\n",
       "      <td>8.0</td>\n",
       "      <td>71.428571</td>\n",
       "      <td>82.241467</td>\n",
       "      <td>99.093554</td>\n",
       "      <td>3.0</td>\n",
       "      <td>0</td>\n",
       "    </tr>\n",
       "    <tr>\n",
       "      <th>3</th>\n",
       "      <td>0.000000</td>\n",
       "      <td>-37.040483</td>\n",
       "      <td>64.285714</td>\n",
       "      <td>8.0</td>\n",
       "      <td>100.0</td>\n",
       "      <td>8.0</td>\n",
       "      <td>64.285714</td>\n",
       "      <td>100.000000</td>\n",
       "      <td>99.056290</td>\n",
       "      <td>3.0</td>\n",
       "      <td>0</td>\n",
       "    </tr>\n",
       "    <tr>\n",
       "      <th>4</th>\n",
       "      <td>-35.727079</td>\n",
       "      <td>-37.103503</td>\n",
       "      <td>57.142857</td>\n",
       "      <td>8.0</td>\n",
       "      <td>100.0</td>\n",
       "      <td>8.0</td>\n",
       "      <td>57.142857</td>\n",
       "      <td>100.000000</td>\n",
       "      <td>98.892717</td>\n",
       "      <td>2.0</td>\n",
       "      <td>0</td>\n",
       "    </tr>\n",
       "  </tbody>\n",
       "</table>\n",
       "</div>"
      ],
      "text/plain": [
       "   50_target  90_target      ind_9  ind_74  ind_8  ind_83      ind_9  \\\n",
       "0  35.625252  36.997753  85.714286     8.0  100.0     8.0  85.714286   \n",
       "1  35.643013  37.016198  78.571429     8.0  100.0     8.0  78.571429   \n",
       "2  35.651301 -37.024805  71.428571     8.0  100.0     8.0  71.428571   \n",
       "3   0.000000 -37.040483  64.285714     8.0  100.0     8.0  64.285714   \n",
       "4 -35.727079 -37.103503  57.142857     8.0  100.0     8.0  57.142857   \n",
       "\n",
       "      ind_212    ind_321  ind_40  Kumeler  \n",
       "0   72.470277  99.156641     3.0        3  \n",
       "1   79.199436  99.111914     3.0        3  \n",
       "2   82.241467  99.093554     3.0        0  \n",
       "3  100.000000  99.056290     3.0        0  \n",
       "4  100.000000  98.892717     2.0        0  "
      ]
     },
     "execution_count": 27,
     "metadata": {},
     "output_type": "execute_result"
    }
   ],
   "source": [
    "DF1.head(5)"
   ]
  },
  {
   "cell_type": "code",
   "execution_count": null,
   "metadata": {
    "colab": {},
    "colab_type": "code",
    "id": "vCx8tXA5EJck"
   },
   "outputs": [],
   "source": []
  },
  {
   "cell_type": "code",
   "execution_count": null,
   "metadata": {},
   "outputs": [],
   "source": []
  }
 ],
 "metadata": {
  "accelerator": "GPU",
  "colab": {
   "collapsed_sections": [],
   "name": "SVM & SVR & NAIV BAYES.ipynb",
   "provenance": []
  },
  "kernelspec": {
   "display_name": "Python 3",
   "language": "python",
   "name": "python3"
  },
  "language_info": {
   "codemirror_mode": {
    "name": "ipython",
    "version": 3
   },
   "file_extension": ".py",
   "mimetype": "text/x-python",
   "name": "python",
   "nbconvert_exporter": "python",
   "pygments_lexer": "ipython3",
   "version": "3.7.6"
  }
 },
 "nbformat": 4,
 "nbformat_minor": 4
}
